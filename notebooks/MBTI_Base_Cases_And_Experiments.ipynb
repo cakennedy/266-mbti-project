{
  "cells": [
    {
      "cell_type": "code",
      "execution_count": 1,
      "metadata": {
        "colab": {
          "base_uri": "https://localhost:8080/"
        },
        "id": "7x9vrX02sLiA",
        "outputId": "8c894524-60b0-4534-d54b-a94ede037a8f"
      },
      "outputs": [
        {
          "output_type": "stream",
          "name": "stdout",
          "text": [
            "Looking in indexes: https://pypi.org/simple, https://us-python.pkg.dev/colab-wheels/public/simple/\n",
            "Collecting transformers\n",
            "  Downloading transformers-4.23.1-py3-none-any.whl (5.3 MB)\n",
            "\u001b[K     |████████████████████████████████| 5.3 MB 4.8 MB/s \n",
            "\u001b[?25hRequirement already satisfied: regex!=2019.12.17 in /usr/local/lib/python3.7/dist-packages (from transformers) (2022.6.2)\n",
            "Requirement already satisfied: pyyaml>=5.1 in /usr/local/lib/python3.7/dist-packages (from transformers) (6.0)\n",
            "Collecting tokenizers!=0.11.3,<0.14,>=0.11.1\n",
            "  Downloading tokenizers-0.13.1-cp37-cp37m-manylinux_2_17_x86_64.manylinux2014_x86_64.whl (7.6 MB)\n",
            "\u001b[K     |████████████████████████████████| 7.6 MB 71.5 MB/s \n",
            "\u001b[?25hCollecting huggingface-hub<1.0,>=0.10.0\n",
            "  Downloading huggingface_hub-0.10.1-py3-none-any.whl (163 kB)\n",
            "\u001b[K     |████████████████████████████████| 163 kB 72.1 MB/s \n",
            "\u001b[?25hRequirement already satisfied: importlib-metadata in /usr/local/lib/python3.7/dist-packages (from transformers) (4.13.0)\n",
            "Requirement already satisfied: numpy>=1.17 in /usr/local/lib/python3.7/dist-packages (from transformers) (1.21.6)\n",
            "Requirement already satisfied: packaging>=20.0 in /usr/local/lib/python3.7/dist-packages (from transformers) (21.3)\n",
            "Requirement already satisfied: filelock in /usr/local/lib/python3.7/dist-packages (from transformers) (3.8.0)\n",
            "Requirement already satisfied: requests in /usr/local/lib/python3.7/dist-packages (from transformers) (2.23.0)\n",
            "Requirement already satisfied: tqdm>=4.27 in /usr/local/lib/python3.7/dist-packages (from transformers) (4.64.1)\n",
            "Requirement already satisfied: typing-extensions>=3.7.4.3 in /usr/local/lib/python3.7/dist-packages (from huggingface-hub<1.0,>=0.10.0->transformers) (4.1.1)\n",
            "Requirement already satisfied: pyparsing!=3.0.5,>=2.0.2 in /usr/local/lib/python3.7/dist-packages (from packaging>=20.0->transformers) (3.0.9)\n",
            "Requirement already satisfied: zipp>=0.5 in /usr/local/lib/python3.7/dist-packages (from importlib-metadata->transformers) (3.9.0)\n",
            "Requirement already satisfied: idna<3,>=2.5 in /usr/local/lib/python3.7/dist-packages (from requests->transformers) (2.10)\n",
            "Requirement already satisfied: urllib3!=1.25.0,!=1.25.1,<1.26,>=1.21.1 in /usr/local/lib/python3.7/dist-packages (from requests->transformers) (1.24.3)\n",
            "Requirement already satisfied: chardet<4,>=3.0.2 in /usr/local/lib/python3.7/dist-packages (from requests->transformers) (3.0.4)\n",
            "Requirement already satisfied: certifi>=2017.4.17 in /usr/local/lib/python3.7/dist-packages (from requests->transformers) (2022.9.24)\n",
            "Installing collected packages: tokenizers, huggingface-hub, transformers\n",
            "Successfully installed huggingface-hub-0.10.1 tokenizers-0.13.1 transformers-4.23.1\n"
          ]
        },
        {
          "output_type": "stream",
          "name": "stderr",
          "text": [
            "[nltk_data] Downloading package omw-1.4 to /root/nltk_data...\n",
            "[nltk_data] Downloading package punkt to /root/nltk_data...\n",
            "[nltk_data]   Unzipping tokenizers/punkt.zip.\n",
            "[nltk_data] Downloading package stopwords to /root/nltk_data...\n",
            "[nltk_data]   Unzipping corpora/stopwords.zip.\n",
            "[nltk_data] Downloading package wordnet to /root/nltk_data...\n"
          ]
        }
      ],
      "source": [
        "# Import libraries\n",
        "!pip install transformers\n",
        "from google.colab import files\n",
        "from google.cloud import storage\n",
        "import pandas as pd\n",
        "import io\n",
        "from io import BytesIO\n",
        "import matplotlib.pyplot as plt\n",
        "import altair as alt\n",
        "import numpy as np\n",
        "import textwrap\n",
        "import nltk\n",
        "nltk.download('omw-1.4')\n",
        "nltk.download('punkt')\n",
        "nltk.download('stopwords')\n",
        "nltk.download('wordnet')\n",
        "from nltk import word_tokenize\n",
        "from nltk.corpus import stopwords\n",
        "import re\n",
        "from sklearn.feature_extraction.text import TfidfVectorizer\n",
        "from sklearn.linear_model import LogisticRegression\n",
        "from sklearn.svm import LinearSVC\n",
        "from sklearn.feature_extraction.text import CountVectorizer\n",
        "from sklearn.feature_extraction.text import TfidfVectorizer\n",
        "from sklearn.model_selection import train_test_split\n",
        "import tensorflow as tf\n",
        "from tensorflow import keras\n",
        "from tensorflow.keras import layers\n",
        "import sys\n",
        "import csv\n",
        "from sklearn.metrics import confusion_matrix\n",
        "from sklearn import metrics\n",
        "from sklearn.metrics import accuracy_score\n",
        "from sklearn.metrics import classification_report\n",
        "from sklearn.model_selection import GridSearchCV\n",
        "\n",
        "# These auto classes load the right type of tokenizer and model based on a model name\n",
        "from transformers import AutoTokenizer, TFAutoModel\n",
        "from transformers import BertTokenizer, TFBertModel"
      ]
    },
    {
      "cell_type": "markdown",
      "metadata": {
        "id": "PpPKSPQ6kB-X"
      },
      "source": [
        "##Load Files\n",
        "\n",
        "The first step in this notebook is the load the train, dev and test files files created by PredictPersonality_Type_1018.ipynb. "
      ]
    },
    {
      "cell_type": "code",
      "execution_count": null,
      "metadata": {
        "colab": {
          "base_uri": "https://localhost:8080/",
          "height": 73
        },
        "id": "s6zp5ZeaszPZ",
        "outputId": "26579541-5fb5-4bed-d891-1d0c610796eb"
      },
      "outputs": [
        {
          "output_type": "display_data",
          "data": {
            "text/plain": [
              "<IPython.core.display.HTML object>"
            ],
            "text/html": [
              "\n",
              "     <input type=\"file\" id=\"files-2962f67d-a3e9-45d4-964b-bffa721378a6\" name=\"files[]\" multiple disabled\n",
              "        style=\"border:none\" />\n",
              "     <output id=\"result-2962f67d-a3e9-45d4-964b-bffa721378a6\">\n",
              "      Upload widget is only available when the cell has been executed in the\n",
              "      current browser session. Please rerun this cell to enable.\n",
              "      </output>\n",
              "      <script>// Copyright 2017 Google LLC\n",
              "//\n",
              "// Licensed under the Apache License, Version 2.0 (the \"License\");\n",
              "// you may not use this file except in compliance with the License.\n",
              "// You may obtain a copy of the License at\n",
              "//\n",
              "//      http://www.apache.org/licenses/LICENSE-2.0\n",
              "//\n",
              "// Unless required by applicable law or agreed to in writing, software\n",
              "// distributed under the License is distributed on an \"AS IS\" BASIS,\n",
              "// WITHOUT WARRANTIES OR CONDITIONS OF ANY KIND, either express or implied.\n",
              "// See the License for the specific language governing permissions and\n",
              "// limitations under the License.\n",
              "\n",
              "/**\n",
              " * @fileoverview Helpers for google.colab Python module.\n",
              " */\n",
              "(function(scope) {\n",
              "function span(text, styleAttributes = {}) {\n",
              "  const element = document.createElement('span');\n",
              "  element.textContent = text;\n",
              "  for (const key of Object.keys(styleAttributes)) {\n",
              "    element.style[key] = styleAttributes[key];\n",
              "  }\n",
              "  return element;\n",
              "}\n",
              "\n",
              "// Max number of bytes which will be uploaded at a time.\n",
              "const MAX_PAYLOAD_SIZE = 100 * 1024;\n",
              "\n",
              "function _uploadFiles(inputId, outputId) {\n",
              "  const steps = uploadFilesStep(inputId, outputId);\n",
              "  const outputElement = document.getElementById(outputId);\n",
              "  // Cache steps on the outputElement to make it available for the next call\n",
              "  // to uploadFilesContinue from Python.\n",
              "  outputElement.steps = steps;\n",
              "\n",
              "  return _uploadFilesContinue(outputId);\n",
              "}\n",
              "\n",
              "// This is roughly an async generator (not supported in the browser yet),\n",
              "// where there are multiple asynchronous steps and the Python side is going\n",
              "// to poll for completion of each step.\n",
              "// This uses a Promise to block the python side on completion of each step,\n",
              "// then passes the result of the previous step as the input to the next step.\n",
              "function _uploadFilesContinue(outputId) {\n",
              "  const outputElement = document.getElementById(outputId);\n",
              "  const steps = outputElement.steps;\n",
              "\n",
              "  const next = steps.next(outputElement.lastPromiseValue);\n",
              "  return Promise.resolve(next.value.promise).then((value) => {\n",
              "    // Cache the last promise value to make it available to the next\n",
              "    // step of the generator.\n",
              "    outputElement.lastPromiseValue = value;\n",
              "    return next.value.response;\n",
              "  });\n",
              "}\n",
              "\n",
              "/**\n",
              " * Generator function which is called between each async step of the upload\n",
              " * process.\n",
              " * @param {string} inputId Element ID of the input file picker element.\n",
              " * @param {string} outputId Element ID of the output display.\n",
              " * @return {!Iterable<!Object>} Iterable of next steps.\n",
              " */\n",
              "function* uploadFilesStep(inputId, outputId) {\n",
              "  const inputElement = document.getElementById(inputId);\n",
              "  inputElement.disabled = false;\n",
              "\n",
              "  const outputElement = document.getElementById(outputId);\n",
              "  outputElement.innerHTML = '';\n",
              "\n",
              "  const pickedPromise = new Promise((resolve) => {\n",
              "    inputElement.addEventListener('change', (e) => {\n",
              "      resolve(e.target.files);\n",
              "    });\n",
              "  });\n",
              "\n",
              "  const cancel = document.createElement('button');\n",
              "  inputElement.parentElement.appendChild(cancel);\n",
              "  cancel.textContent = 'Cancel upload';\n",
              "  const cancelPromise = new Promise((resolve) => {\n",
              "    cancel.onclick = () => {\n",
              "      resolve(null);\n",
              "    };\n",
              "  });\n",
              "\n",
              "  // Wait for the user to pick the files.\n",
              "  const files = yield {\n",
              "    promise: Promise.race([pickedPromise, cancelPromise]),\n",
              "    response: {\n",
              "      action: 'starting',\n",
              "    }\n",
              "  };\n",
              "\n",
              "  cancel.remove();\n",
              "\n",
              "  // Disable the input element since further picks are not allowed.\n",
              "  inputElement.disabled = true;\n",
              "\n",
              "  if (!files) {\n",
              "    return {\n",
              "      response: {\n",
              "        action: 'complete',\n",
              "      }\n",
              "    };\n",
              "  }\n",
              "\n",
              "  for (const file of files) {\n",
              "    const li = document.createElement('li');\n",
              "    li.append(span(file.name, {fontWeight: 'bold'}));\n",
              "    li.append(span(\n",
              "        `(${file.type || 'n/a'}) - ${file.size} bytes, ` +\n",
              "        `last modified: ${\n",
              "            file.lastModifiedDate ? file.lastModifiedDate.toLocaleDateString() :\n",
              "                                    'n/a'} - `));\n",
              "    const percent = span('0% done');\n",
              "    li.appendChild(percent);\n",
              "\n",
              "    outputElement.appendChild(li);\n",
              "\n",
              "    const fileDataPromise = new Promise((resolve) => {\n",
              "      const reader = new FileReader();\n",
              "      reader.onload = (e) => {\n",
              "        resolve(e.target.result);\n",
              "      };\n",
              "      reader.readAsArrayBuffer(file);\n",
              "    });\n",
              "    // Wait for the data to be ready.\n",
              "    let fileData = yield {\n",
              "      promise: fileDataPromise,\n",
              "      response: {\n",
              "        action: 'continue',\n",
              "      }\n",
              "    };\n",
              "\n",
              "    // Use a chunked sending to avoid message size limits. See b/62115660.\n",
              "    let position = 0;\n",
              "    do {\n",
              "      const length = Math.min(fileData.byteLength - position, MAX_PAYLOAD_SIZE);\n",
              "      const chunk = new Uint8Array(fileData, position, length);\n",
              "      position += length;\n",
              "\n",
              "      const base64 = btoa(String.fromCharCode.apply(null, chunk));\n",
              "      yield {\n",
              "        response: {\n",
              "          action: 'append',\n",
              "          file: file.name,\n",
              "          data: base64,\n",
              "        },\n",
              "      };\n",
              "\n",
              "      let percentDone = fileData.byteLength === 0 ?\n",
              "          100 :\n",
              "          Math.round((position / fileData.byteLength) * 100);\n",
              "      percent.textContent = `${percentDone}% done`;\n",
              "\n",
              "    } while (position < fileData.byteLength);\n",
              "  }\n",
              "\n",
              "  // All done.\n",
              "  yield {\n",
              "    response: {\n",
              "      action: 'complete',\n",
              "    }\n",
              "  };\n",
              "}\n",
              "\n",
              "scope.google = scope.google || {};\n",
              "scope.google.colab = scope.google.colab || {};\n",
              "scope.google.colab._files = {\n",
              "  _uploadFiles,\n",
              "  _uploadFilesContinue,\n",
              "};\n",
              "})(self);\n",
              "</script> "
            ]
          },
          "metadata": {}
        },
        {
          "output_type": "stream",
          "name": "stdout",
          "text": [
            "Saving pacific-castle-360400-a3ca89f64de6.json to pacific-castle-360400-a3ca89f64de6 (1).json\n"
          ]
        }
      ],
      "source": [
        "#Manually upload JSON file for authentication\n",
        "uploaded = files.upload()"
      ]
    },
    {
      "cell_type": "code",
      "execution_count": null,
      "metadata": {
        "colab": {
          "base_uri": "https://localhost:8080/"
        },
        "id": "Cjb1JNKqz8ZU",
        "outputId": "611795c8-35aa-476d-953c-e221ba6d287b"
      },
      "outputs": [
        {
          "output_type": "stream",
          "name": "stdout",
          "text": [
            "<Bucket: 266csffile>\n",
            "clean_msgs.csv\n",
            "dev_mbti_data.csv\n",
            "dev_mbti_labels.csv\n",
            "test_mbti_data.csv\n",
            "test_mbti_labels.csv\n",
            "train_mbti_data.csv\n",
            "train_mbti_labels.csv\n",
            "typology_xenforo-9-25-22-posts.csv\n",
            "typology_xenforo-9-25-22.csv\n",
            "typology_xenforo-9-25-22_w_clean_msgs.csv\n"
          ]
        }
      ],
      "source": [
        "#Load Google Cloud storage client using service key\n",
        "\n",
        "storage_client = storage.Client.from_service_account_json('pacific-castle-360400-a3ca89f64de6.json')\n",
        "\n",
        "#Print buckets available\n",
        "for bucket in storage_client.list_buckets():\n",
        "    print(bucket)\n",
        "\n",
        "#Assign bucket name being used\n",
        "bucket_name = '266csffile'\n",
        "\n",
        "#Get bucket\n",
        "bucket = storage_client.get_bucket(bucket_name)\n",
        "\n",
        "#Show list of files in bucket and list the files\n",
        "filename = list(bucket.list_blobs(prefix=''))\n",
        "for name in filename:\n",
        "  print(name.name)\n",
        "\n",
        "\n",
        "\n"
      ]
    },
    {
      "cell_type": "code",
      "execution_count": null,
      "metadata": {
        "id": "pLGIguzD949p"
      },
      "outputs": [],
      "source": [
        "# utility for reading csv file from shared Google Cloud storage\n",
        "def read_csv_file( filename,\n",
        "                    encoding='utf-8',\n",
        "                    separator=',' ):\n",
        "    '''This function reads a file from the google cloud storage bucket. Input\n",
        "    parameters include the filename, encoding and CSV file separators.'''\n",
        "\n",
        "    #Grab blob posts file and download as string\n",
        "    blobby = bucket.blob(filename)\n",
        "    blobby_string = blobby.download_as_string()\n",
        "\n",
        "    #Convert to pandas\n",
        "    df = pd.read_csv(io.BytesIO(blobby_string), encoding=encoding, \\\n",
        "                     sep=separator, engine='python')\n",
        "   \n",
        "    return df"
      ]
    },
    {
      "cell_type": "code",
      "execution_count": null,
      "metadata": {
        "id": "mMNMC9-W_jgm"
      },
      "outputs": [],
      "source": [
        "#Increase field size to allow reading in of input files\n",
        "\n",
        "maxInt = sys.maxsize\n",
        "\n",
        "while True:\n",
        "    # decrease the maxInt value by factor 10 as long as overflow error occurs \n",
        "    try:\n",
        "        csv.field_size_limit(maxInt)\n",
        "        break\n",
        "    except OverflowError:\n",
        "        maxInt = int(maxInt/10)"
      ]
    },
    {
      "cell_type": "code",
      "execution_count": null,
      "metadata": {
        "colab": {
          "base_uri": "https://localhost:8080/"
        },
        "id": "TNtUw0dN9-g-",
        "outputId": "5caf1d3b-2623-4c30-ed7d-f0481a0b49b1"
      },
      "outputs": [
        {
          "output_type": "stream",
          "name": "stdout",
          "text": [
            "  Unnamed: 0        Username     Age    Posts MBTI Type Enneagram  \\\n",
            "0     390907  EffEmDoubleyou  2022.0   7311.0      INTJ       NaN   \n",
            "1    1299093   SillySapienne    40.0   9801.0      ENFP       4w5   \n",
            "2    1389334   Stanton Moore     NaN   3902.0      INFP       NaN   \n",
            "3     855802          Lady_X    46.0  18233.0      ENFP       784   \n",
            "4     419030            EJCC    31.0  19129.0      ESTJ       1w9   \n",
            "\n",
            "  Instinctual Variant  Gender  \\\n",
            "0                 NaN     NaN   \n",
            "1                 NaN     NaN   \n",
            "2                 NaN     NaN   \n",
            "3               sx_sp  female   \n",
            "4               sp_so  female   \n",
            "\n",
            "                                          Occupation    post_id  thread_id  \\\n",
            "0  By day film production drone, by night aspirin...   518152.0    13395.0   \n",
            "1                                          Caregiver   354103.0     3754.0   \n",
            "2                                                NaN  1041502.0    27700.0   \n",
            "3                                       photographer  2133594.0    63205.0   \n",
            "4                                                NaN  2362354.0    72414.0   \n",
            "\n",
            "      post_date                                            message  \\\n",
            "0  1.233207e+09  [QUOTE=\"Desperado44, post: 517957, member: 440...   \n",
            "1  1.223591e+09                    Is pi a finite number/quantity?   \n",
            "2  1.265934e+09  [QUOTE=\"StrappingYoungLad, post: 1041500, memb...   \n",
            "3  1.377837e+09  [QUOTE=\"swordpath, post: 2133591, member: 1330...   \n",
            "4  1.411744e+09  [QUOTE=\"Jennifer, post: 2362350, member: 7\"]At...   \n",
            "\n",
            "                                           clean_msg  \n",
            "0  that works fine until you run into an otherwis...  \n",
            "1                   is pi a finite number/quantity?)  \n",
            "2  ohhhh. neither can you, you just \\sense\\ thing...  \n",
            "3  oh i see thanks for learnin me up! :laugh:i do...  \n",
            "4  good point. i guess. but again, what should be...  \n",
            " There are 14 missing message rows in the Train dataset\n",
            " There are 8 missing message rows in the Dev dataset\n",
            " There are 4 missing message rows in the Test dataset\n"
          ]
        }
      ],
      "source": [
        "\n",
        "#Read in train, dev and test data files\n",
        "train_mbti_data = read_csv_file('train_mbti_data.csv')\n",
        "dev_mbti_data = read_csv_file('dev_mbti_data.csv')\n",
        "test_mbti_data = read_csv_file('test_mbti_data.csv')\n",
        "print(train_mbti_data.head() )\n",
        "\n",
        "null_data = train_mbti_data.isnull().sum()\n",
        "print(' There are', '{:,}'.format(null_data['clean_msg']), 'missing message rows in the Train dataset')\n",
        "null_data = dev_mbti_data.isnull().sum()\n",
        "print(' There are', '{:,}'.format(null_data['clean_msg']), 'missing message rows in the Dev dataset')\n",
        "null_data = test_mbti_data.isnull().sum()\n",
        "print(' There are', '{:,}'.format(null_data['clean_msg']), 'missing message rows in the Test dataset')"
      ]
    },
    {
      "cell_type": "code",
      "source": [
        "train_mbti_data = train_mbti_data.rename(columns={'Unnamed: 0': 'index'})\n",
        "dev_mbti_data = dev_mbti_data.rename(columns={'Unnamed: 0': 'index'})\n",
        "test_mbti_data = test_mbti_data.rename(columns={'Unnamed: 0': 'index'})"
      ],
      "metadata": {
        "id": "IoqhEGp23pgy"
      },
      "execution_count": null,
      "outputs": []
    },
    {
      "cell_type": "code",
      "source": [
        "train_mbti_data.dtypes"
      ],
      "metadata": {
        "colab": {
          "base_uri": "https://localhost:8080/"
        },
        "id": "zp7y0NUe9qlq",
        "outputId": "32c23040-81d9-4bfa-a979-72fc4776e7c6"
      },
      "execution_count": null,
      "outputs": [
        {
          "output_type": "execute_result",
          "data": {
            "text/plain": [
              "index                   object\n",
              "Username                object\n",
              "Age                    float64\n",
              "Posts                  float64\n",
              "MBTI Type               object\n",
              "Enneagram               object\n",
              "Instinctual Variant     object\n",
              "Gender                  object\n",
              "Occupation              object\n",
              "post_id                float64\n",
              "thread_id              float64\n",
              "post_date              float64\n",
              "message                 object\n",
              "clean_msg               object\n",
              "dtype: object"
            ]
          },
          "metadata": {},
          "execution_count": 138
        }
      ]
    },
    {
      "cell_type": "code",
      "source": [
        "print(' There are', '{:,}'.format(null_data['post_date']), 'Nan values the Train dataset')\n",
        "null_data = test_mbti_data.isnull().sum()"
      ],
      "metadata": {
        "colab": {
          "base_uri": "https://localhost:8080/"
        },
        "id": "ol9Ms5Mi_sQQ",
        "outputId": "60659789-27ca-4836-855b-13582463c138"
      },
      "execution_count": null,
      "outputs": [
        {
          "output_type": "stream",
          "name": "stdout",
          "text": [
            " There are 2 Nan values the Train dataset\n"
          ]
        }
      ]
    },
    {
      "cell_type": "code",
      "source": [
        "train_mbti_data = train_mbti_data.convert_dtypes()\n",
        "train_mbti_data.dtypes\n"
      ],
      "metadata": {
        "colab": {
          "base_uri": "https://localhost:8080/"
        },
        "id": "CIAo8UsuE8DW",
        "outputId": "8c43ad95-c461-4b9b-9452-d2452b058645"
      },
      "execution_count": null,
      "outputs": [
        {
          "output_type": "execute_result",
          "data": {
            "text/plain": [
              "index                  string\n",
              "Username               string\n",
              "Age                     Int64\n",
              "Posts                   Int64\n",
              "MBTI Type              string\n",
              "Enneagram              string\n",
              "Instinctual Variant    string\n",
              "Gender                 string\n",
              "Occupation             string\n",
              "post_id                 Int64\n",
              "thread_id               Int64\n",
              "post_date               Int64\n",
              "message                string\n",
              "clean_msg              string\n",
              "dtype: object"
            ]
          },
          "metadata": {},
          "execution_count": 140
        }
      ]
    },
    {
      "cell_type": "code",
      "source": [
        "train_mbti_data.head()"
      ],
      "metadata": {
        "colab": {
          "base_uri": "https://localhost:8080/",
          "height": 478
        },
        "id": "Mk7BTbh8Fahz",
        "outputId": "03a2581f-2c66-44c0-faa2-d25efa61a072"
      },
      "execution_count": null,
      "outputs": [
        {
          "output_type": "execute_result",
          "data": {
            "text/plain": [
              "     index        Username   Age  Posts MBTI Type Enneagram  \\\n",
              "0   390907  EffEmDoubleyou  2022   7311      INTJ      <NA>   \n",
              "1  1299093   SillySapienne    40   9801      ENFP       4w5   \n",
              "2  1389334   Stanton Moore  <NA>   3902      INFP      <NA>   \n",
              "3   855802          Lady_X    46  18233      ENFP       784   \n",
              "4   419030            EJCC    31  19129      ESTJ       1w9   \n",
              "\n",
              "  Instinctual Variant  Gender  \\\n",
              "0                <NA>    <NA>   \n",
              "1                <NA>    <NA>   \n",
              "2                <NA>    <NA>   \n",
              "3               sx_sp  female   \n",
              "4               sp_so  female   \n",
              "\n",
              "                                          Occupation  post_id  thread_id  \\\n",
              "0  By day film production drone, by night aspirin...   518152      13395   \n",
              "1                                          Caregiver   354103       3754   \n",
              "2                                               <NA>  1041502      27700   \n",
              "3                                       photographer  2133594      63205   \n",
              "4                                               <NA>  2362354      72414   \n",
              "\n",
              "    post_date                                            message  \\\n",
              "0  1233207280  [QUOTE=\"Desperado44, post: 517957, member: 440...   \n",
              "1  1223591257                    Is pi a finite number/quantity?   \n",
              "2  1265933548  [QUOTE=\"StrappingYoungLad, post: 1041500, memb...   \n",
              "3  1377837442  [QUOTE=\"swordpath, post: 2133591, member: 1330...   \n",
              "4  1411744072  [QUOTE=\"Jennifer, post: 2362350, member: 7\"]At...   \n",
              "\n",
              "                                           clean_msg  \n",
              "0  that works fine until you run into an otherwis...  \n",
              "1                   is pi a finite number/quantity?)  \n",
              "2  ohhhh. neither can you, you just \\sense\\ thing...  \n",
              "3  oh i see thanks for learnin me up! :laugh:i do...  \n",
              "4  good point. i guess. but again, what should be...  "
            ],
            "text/html": [
              "\n",
              "  <div id=\"df-b97834f0-b579-4716-b628-3900d54947d1\">\n",
              "    <div class=\"colab-df-container\">\n",
              "      <div>\n",
              "<style scoped>\n",
              "    .dataframe tbody tr th:only-of-type {\n",
              "        vertical-align: middle;\n",
              "    }\n",
              "\n",
              "    .dataframe tbody tr th {\n",
              "        vertical-align: top;\n",
              "    }\n",
              "\n",
              "    .dataframe thead th {\n",
              "        text-align: right;\n",
              "    }\n",
              "</style>\n",
              "<table border=\"1\" class=\"dataframe\">\n",
              "  <thead>\n",
              "    <tr style=\"text-align: right;\">\n",
              "      <th></th>\n",
              "      <th>index</th>\n",
              "      <th>Username</th>\n",
              "      <th>Age</th>\n",
              "      <th>Posts</th>\n",
              "      <th>MBTI Type</th>\n",
              "      <th>Enneagram</th>\n",
              "      <th>Instinctual Variant</th>\n",
              "      <th>Gender</th>\n",
              "      <th>Occupation</th>\n",
              "      <th>post_id</th>\n",
              "      <th>thread_id</th>\n",
              "      <th>post_date</th>\n",
              "      <th>message</th>\n",
              "      <th>clean_msg</th>\n",
              "    </tr>\n",
              "  </thead>\n",
              "  <tbody>\n",
              "    <tr>\n",
              "      <th>0</th>\n",
              "      <td>390907</td>\n",
              "      <td>EffEmDoubleyou</td>\n",
              "      <td>2022</td>\n",
              "      <td>7311</td>\n",
              "      <td>INTJ</td>\n",
              "      <td>&lt;NA&gt;</td>\n",
              "      <td>&lt;NA&gt;</td>\n",
              "      <td>&lt;NA&gt;</td>\n",
              "      <td>By day film production drone, by night aspirin...</td>\n",
              "      <td>518152</td>\n",
              "      <td>13395</td>\n",
              "      <td>1233207280</td>\n",
              "      <td>[QUOTE=\"Desperado44, post: 517957, member: 440...</td>\n",
              "      <td>that works fine until you run into an otherwis...</td>\n",
              "    </tr>\n",
              "    <tr>\n",
              "      <th>1</th>\n",
              "      <td>1299093</td>\n",
              "      <td>SillySapienne</td>\n",
              "      <td>40</td>\n",
              "      <td>9801</td>\n",
              "      <td>ENFP</td>\n",
              "      <td>4w5</td>\n",
              "      <td>&lt;NA&gt;</td>\n",
              "      <td>&lt;NA&gt;</td>\n",
              "      <td>Caregiver</td>\n",
              "      <td>354103</td>\n",
              "      <td>3754</td>\n",
              "      <td>1223591257</td>\n",
              "      <td>Is pi a finite number/quantity?</td>\n",
              "      <td>is pi a finite number/quantity?)</td>\n",
              "    </tr>\n",
              "    <tr>\n",
              "      <th>2</th>\n",
              "      <td>1389334</td>\n",
              "      <td>Stanton Moore</td>\n",
              "      <td>&lt;NA&gt;</td>\n",
              "      <td>3902</td>\n",
              "      <td>INFP</td>\n",
              "      <td>&lt;NA&gt;</td>\n",
              "      <td>&lt;NA&gt;</td>\n",
              "      <td>&lt;NA&gt;</td>\n",
              "      <td>&lt;NA&gt;</td>\n",
              "      <td>1041502</td>\n",
              "      <td>27700</td>\n",
              "      <td>1265933548</td>\n",
              "      <td>[QUOTE=\"StrappingYoungLad, post: 1041500, memb...</td>\n",
              "      <td>ohhhh. neither can you, you just \\sense\\ thing...</td>\n",
              "    </tr>\n",
              "    <tr>\n",
              "      <th>3</th>\n",
              "      <td>855802</td>\n",
              "      <td>Lady_X</td>\n",
              "      <td>46</td>\n",
              "      <td>18233</td>\n",
              "      <td>ENFP</td>\n",
              "      <td>784</td>\n",
              "      <td>sx_sp</td>\n",
              "      <td>female</td>\n",
              "      <td>photographer</td>\n",
              "      <td>2133594</td>\n",
              "      <td>63205</td>\n",
              "      <td>1377837442</td>\n",
              "      <td>[QUOTE=\"swordpath, post: 2133591, member: 1330...</td>\n",
              "      <td>oh i see thanks for learnin me up! :laugh:i do...</td>\n",
              "    </tr>\n",
              "    <tr>\n",
              "      <th>4</th>\n",
              "      <td>419030</td>\n",
              "      <td>EJCC</td>\n",
              "      <td>31</td>\n",
              "      <td>19129</td>\n",
              "      <td>ESTJ</td>\n",
              "      <td>1w9</td>\n",
              "      <td>sp_so</td>\n",
              "      <td>female</td>\n",
              "      <td>&lt;NA&gt;</td>\n",
              "      <td>2362354</td>\n",
              "      <td>72414</td>\n",
              "      <td>1411744072</td>\n",
              "      <td>[QUOTE=\"Jennifer, post: 2362350, member: 7\"]At...</td>\n",
              "      <td>good point. i guess. but again, what should be...</td>\n",
              "    </tr>\n",
              "  </tbody>\n",
              "</table>\n",
              "</div>\n",
              "      <button class=\"colab-df-convert\" onclick=\"convertToInteractive('df-b97834f0-b579-4716-b628-3900d54947d1')\"\n",
              "              title=\"Convert this dataframe to an interactive table.\"\n",
              "              style=\"display:none;\">\n",
              "        \n",
              "  <svg xmlns=\"http://www.w3.org/2000/svg\" height=\"24px\"viewBox=\"0 0 24 24\"\n",
              "       width=\"24px\">\n",
              "    <path d=\"M0 0h24v24H0V0z\" fill=\"none\"/>\n",
              "    <path d=\"M18.56 5.44l.94 2.06.94-2.06 2.06-.94-2.06-.94-.94-2.06-.94 2.06-2.06.94zm-11 1L8.5 8.5l.94-2.06 2.06-.94-2.06-.94L8.5 2.5l-.94 2.06-2.06.94zm10 10l.94 2.06.94-2.06 2.06-.94-2.06-.94-.94-2.06-.94 2.06-2.06.94z\"/><path d=\"M17.41 7.96l-1.37-1.37c-.4-.4-.92-.59-1.43-.59-.52 0-1.04.2-1.43.59L10.3 9.45l-7.72 7.72c-.78.78-.78 2.05 0 2.83L4 21.41c.39.39.9.59 1.41.59.51 0 1.02-.2 1.41-.59l7.78-7.78 2.81-2.81c.8-.78.8-2.07 0-2.86zM5.41 20L4 18.59l7.72-7.72 1.47 1.35L5.41 20z\"/>\n",
              "  </svg>\n",
              "      </button>\n",
              "      \n",
              "  <style>\n",
              "    .colab-df-container {\n",
              "      display:flex;\n",
              "      flex-wrap:wrap;\n",
              "      gap: 12px;\n",
              "    }\n",
              "\n",
              "    .colab-df-convert {\n",
              "      background-color: #E8F0FE;\n",
              "      border: none;\n",
              "      border-radius: 50%;\n",
              "      cursor: pointer;\n",
              "      display: none;\n",
              "      fill: #1967D2;\n",
              "      height: 32px;\n",
              "      padding: 0 0 0 0;\n",
              "      width: 32px;\n",
              "    }\n",
              "\n",
              "    .colab-df-convert:hover {\n",
              "      background-color: #E2EBFA;\n",
              "      box-shadow: 0px 1px 2px rgba(60, 64, 67, 0.3), 0px 1px 3px 1px rgba(60, 64, 67, 0.15);\n",
              "      fill: #174EA6;\n",
              "    }\n",
              "\n",
              "    [theme=dark] .colab-df-convert {\n",
              "      background-color: #3B4455;\n",
              "      fill: #D2E3FC;\n",
              "    }\n",
              "\n",
              "    [theme=dark] .colab-df-convert:hover {\n",
              "      background-color: #434B5C;\n",
              "      box-shadow: 0px 1px 3px 1px rgba(0, 0, 0, 0.15);\n",
              "      filter: drop-shadow(0px 1px 2px rgba(0, 0, 0, 0.3));\n",
              "      fill: #FFFFFF;\n",
              "    }\n",
              "  </style>\n",
              "\n",
              "      <script>\n",
              "        const buttonEl =\n",
              "          document.querySelector('#df-b97834f0-b579-4716-b628-3900d54947d1 button.colab-df-convert');\n",
              "        buttonEl.style.display =\n",
              "          google.colab.kernel.accessAllowed ? 'block' : 'none';\n",
              "\n",
              "        async function convertToInteractive(key) {\n",
              "          const element = document.querySelector('#df-b97834f0-b579-4716-b628-3900d54947d1');\n",
              "          const dataTable =\n",
              "            await google.colab.kernel.invokeFunction('convertToInteractive',\n",
              "                                                     [key], {});\n",
              "          if (!dataTable) return;\n",
              "\n",
              "          const docLinkHtml = 'Like what you see? Visit the ' +\n",
              "            '<a target=\"_blank\" href=https://colab.research.google.com/notebooks/data_table.ipynb>data table notebook</a>'\n",
              "            + ' to learn more about interactive tables.';\n",
              "          element.innerHTML = '';\n",
              "          dataTable['output_type'] = 'display_data';\n",
              "          await google.colab.output.renderOutput(dataTable, element);\n",
              "          const docLink = document.createElement('div');\n",
              "          docLink.innerHTML = docLinkHtml;\n",
              "          element.appendChild(docLink);\n",
              "        }\n",
              "      </script>\n",
              "    </div>\n",
              "  </div>\n",
              "  "
            ]
          },
          "metadata": {},
          "execution_count": 141
        }
      ]
    },
    {
      "cell_type": "code",
      "source": [
        "train_mbti_data['index'] = pd.to_numeric(train_mbti_data['index'], errors = 'coerce')"
      ],
      "metadata": {
        "id": "kVdDj-JZGIbf"
      },
      "execution_count": null,
      "outputs": []
    },
    {
      "cell_type": "code",
      "source": [
        "null_data = train_mbti_data.isnull().sum()\n",
        "print(' There are', '{:,}'.format(null_data['index']), 'missing message rows in the Train dataset')"
      ],
      "metadata": {
        "colab": {
          "base_uri": "https://localhost:8080/"
        },
        "id": "hzMQpCkMKGwC",
        "outputId": "2b3a90b9-fbc4-4c6f-9e1b-61b08fc51d57"
      },
      "execution_count": null,
      "outputs": [
        {
          "output_type": "stream",
          "name": "stdout",
          "text": [
            " There are 7 missing message rows in the Train dataset\n"
          ]
        }
      ]
    },
    {
      "cell_type": "code",
      "source": [
        "#cols = ['index']\n",
        "#train_mbti_data[cols] = train_mbti_data[cols].applymap(np.int64)\n"
      ],
      "metadata": {
        "id": "BJVc9TSd8RSG"
      },
      "execution_count": null,
      "outputs": []
    },
    {
      "cell_type": "code",
      "source": [
        "#Reset index to be the same as the original pandas dataframe\n",
        "#train_mbti_data.set_index('index', inplace=True, drop=True)\n",
        "#dev_mbti_data.set_index('index', inplace=True, drop=True)\n",
        "#test_mbti_data.set_index('index', inplace=True, drop=True)\n",
        "#train_mbti_data.head()"
      ],
      "metadata": {
        "id": "30zrB13P5PZj"
      },
      "execution_count": null,
      "outputs": []
    },
    {
      "cell_type": "code",
      "source": [
        "null_data = train_mbti_data.isnull().sum()\n",
        "print(' There are', '{:,}'.format(null_data['message']), 'missing message rows in the Train dataset')\n",
        "null_data = dev_mbti_data.isnull().sum()\n",
        "print(' There are', '{:,}'.format(null_data['message']), 'missing message rows in the Dev dataset')\n",
        "null_data = test_mbti_data.isnull().sum()\n",
        "print(' There are', '{:,}'.format(null_data['message']), 'missing message rows in the Test dataset')"
      ],
      "metadata": {
        "colab": {
          "base_uri": "https://localhost:8080/"
        },
        "id": "zWTAadmGdsNe",
        "outputId": "847d2fbe-3c92-4ba2-947f-d20135164c4e"
      },
      "execution_count": null,
      "outputs": [
        {
          "output_type": "stream",
          "name": "stdout",
          "text": [
            " There are 13 missing message rows in the Train dataset\n",
            " There are 6 missing message rows in the Dev dataset\n",
            " There are 3 missing message rows in the Test dataset\n"
          ]
        }
      ]
    },
    {
      "cell_type": "code",
      "source": [
        "#Temporary routine to work around NaN message field values\n",
        "\n",
        "df = train_mbti_data[train_mbti_data['clean_msg'].isnull()]\n",
        "df.head\n",
        "trainNaN = df.index.values.tolist()\n",
        "print('List of indexes in train with blank message field')\n",
        "print(trainNaN)\n",
        "\n",
        "for i in trainNaN:\n",
        "  print(train_mbti_data.iloc[i].at[\"post_id\"])\n",
        "\n",
        "df = dev_mbti_data[dev_mbti_data['clean_msg'].isnull()]\n",
        "df.head\n",
        "devNaN = df.index.values.tolist()\n",
        "print('List of indexes in train with blank message field')\n",
        "print(devNaN)\n",
        "\n",
        "for i in devNaN:\n",
        "  print(dev_mbti_data.iloc[i].at[\"post_id\"])\n",
        "\n",
        "df = test_mbti_data[test_mbti_data['clean_msg'].isnull()]\n",
        "df.head\n",
        "testNaN = df.index.values.tolist()\n",
        "print('List of indexes in train with blank message field')\n",
        "print(testNaN)\n",
        "\n",
        "for i in testNaN:\n",
        "  print(test_mbti_data.iloc[i].at[\"post_id\"])\n"
      ],
      "metadata": {
        "colab": {
          "base_uri": "https://localhost:8080/"
        },
        "id": "HKuCdXbAmVIk",
        "outputId": "b5108c5a-bf73-4306-821f-1533800349f9"
      },
      "execution_count": null,
      "outputs": [
        {
          "output_type": "stream",
          "name": "stdout",
          "text": [
            "List of indexes in train with blank message field\n",
            "[174064, 174065, 449377, 449378, 468018, 468019, 710521, 710522, 825544, 825545, 907516, 907517, 1173854, 1173855]\n",
            "1991863\n",
            "<NA>\n",
            "2394419\n",
            "<NA>\n",
            "3266374\n",
            "<NA>\n",
            "2975377\n",
            "<NA>\n",
            "2950190\n",
            "<NA>\n",
            "2956047\n",
            "<NA>\n",
            "2302438\n",
            "<NA>\n",
            "List of indexes in train with blank message field\n",
            "[16569, 16570, 48009, 48010, 60939, 60940, 67231, 67232]\n",
            "2775132.0\n",
            "nan\n",
            "3103398.0\n",
            "nan\n",
            "3002179.0\n",
            "nan\n",
            "2824578.0\n",
            "nan\n",
            "List of indexes in train with blank message field\n",
            "[44061, 44062, 183005, 183006]\n",
            "2794037.0\n",
            "nan\n",
            "3305694.0\n",
            "nan\n"
          ]
        }
      ]
    },
    {
      "cell_type": "code",
      "execution_count": null,
      "metadata": {
        "id": "BLC9wcwc-MsL"
      },
      "outputs": [],
      "source": [
        "#Read in train, dev and test label files\n",
        "train_mbti_labels = read_csv_file('train_mbti_labels.csv')\n",
        "dev_mbti_labels = read_csv_file('dev_mbti_labels.csv')\n",
        "test_mbti_labels = read_csv_file('test_mbti_labels.csv')"
      ]
    },
    {
      "cell_type": "code",
      "source": [
        "print(train_mbti_data.shape)\n",
        "print(train_mbti_labels.shape)\n",
        "print(dev_mbti_data.shape)\n",
        "print(dev_mbti_labels.shape)\n",
        "print(test_mbti_data.shape)\n",
        "print(test_mbti_labels.shape)"
      ],
      "metadata": {
        "colab": {
          "base_uri": "https://localhost:8080/"
        },
        "id": "QQoWTwPeXOF4",
        "outputId": "5e81234b-8900-4257-cf8b-b128cb50fa32"
      },
      "execution_count": null,
      "outputs": [
        {
          "output_type": "stream",
          "name": "stdout",
          "text": [
            "(1200007, 14)\n",
            "(1200000, 2)\n",
            "(200004, 14)\n",
            "(200000, 2)\n",
            "(200002, 14)\n",
            "(200000, 2)\n"
          ]
        }
      ]
    },
    {
      "cell_type": "markdown",
      "source": [
        "Tempory code to clean data"
      ],
      "metadata": {
        "id": "LBNRf9SzWFlO"
      }
    },
    {
      "cell_type": "code",
      "source": [
        "for i in trainNaN:\n",
        "  train_mbti_data.drop(trainNaN)\n",
        "  train_mbti_labels.drop(trainNaN)"
      ],
      "metadata": {
        "id": "T_WuwckOTxOi"
      },
      "execution_count": null,
      "outputs": []
    },
    {
      "cell_type": "code",
      "source": [
        "for i in devNaN:\n",
        "  dev_mbti_data.drop(devNaN)\n",
        "  dev_mbti_labels.drop(devNaN)"
      ],
      "metadata": {
        "id": "kfZTgRN3VtEN"
      },
      "execution_count": null,
      "outputs": []
    },
    {
      "cell_type": "code",
      "source": [
        "for i in testNaN:\n",
        "  test_mbti_data.drop(testNaN)\n",
        "  test_mbti_labels.drop(testNaN)"
      ],
      "metadata": {
        "id": "3oNwkyY9VzHE"
      },
      "execution_count": null,
      "outputs": []
    },
    {
      "cell_type": "code",
      "source": [
        "print(train_mbti_data.shape)\n",
        "print(train_mbti_labels.shape)\n",
        "print(dev_mbti_data.shape)\n",
        "print(dev_mbti_labels.shape)\n",
        "print(test_mbti_data.shape)\n",
        "print(test_mbti_labels.shape)"
      ],
      "metadata": {
        "colab": {
          "base_uri": "https://localhost:8080/"
        },
        "id": "v8oYNclSWLxz",
        "outputId": "b5b4107a-87e2-4149-85e7-48ef21f410eb"
      },
      "execution_count": null,
      "outputs": [
        {
          "output_type": "stream",
          "name": "stdout",
          "text": [
            "(1200007, 14)\n",
            "(1200000, 2)\n",
            "(200004, 14)\n",
            "(200000, 2)\n",
            "(200002, 14)\n",
            "(200000, 2)\n"
          ]
        }
      ]
    },
    {
      "cell_type": "markdown",
      "metadata": {
        "id": "1dwy7RV4ltbL"
      },
      "source": [
        "##Run Baseline Models \n",
        "\n",
        "These steps run a set of baseline models with a small subset of the input data. "
      ]
    },
    {
      "cell_type": "code",
      "execution_count": null,
      "metadata": {
        "colab": {
          "base_uri": "https://localhost:8080/"
        },
        "id": "vwzcMjp4h9Cj",
        "outputId": "4a116e86-b7d1-45d3-c90a-b5b456a4d3d6"
      },
      "outputs": [
        {
          "output_type": "stream",
          "name": "stdout",
          "text": [
            "After Data Split\n",
            " TRAIN dataset row count:  60,000\n",
            " DEV dataset row count  :  10,000\n",
            " TEST dataset row count :  10,000\n",
            " Total rows             :  80,000\n",
            " There are 0 missing message rows in the Train dataset\n",
            " There are 0 missing message rows in the Dev dataset\n",
            " There are 0 missing message rows in the Test dataset\n"
          ]
        }
      ],
      "source": [
        "#Set up small train, dev and test data and labels to do initial testing before chunking\n",
        "train_data, train_labels = train_mbti_data[:60000], train_mbti_labels[:60000]\n",
        "dev_data, dev_labels = dev_mbti_data[:10000], dev_mbti_labels[:10000]\n",
        "test_data, test_labels = test_mbti_data[:10000], test_mbti_labels[:10000]\n",
        "\n",
        "#Determine and print number of rows in each dataset\n",
        "train_rows = train_data.shape[0]\n",
        "dev_rows = dev_data.shape[0]\n",
        "test_rows = test_data.shape[0]\n",
        "total_records = train_rows+dev_rows+test_rows\n",
        "print('After Data Split')\n",
        "print(' TRAIN dataset row count: ', '{:,}'.format(train_rows))\n",
        "print(' DEV dataset row count  : ', '{:,}'.format(dev_rows))\n",
        "print(' TEST dataset row count : ', '{:,}'.format(test_rows))\n",
        "print(' Total rows             : ', '{:,}'.format(total_records))\n",
        "null_data = train_data.isnull().sum()\n",
        "print(' There are', '{:,}'.format(null_data['clean_msg']), 'missing message rows in the Train dataset')\n",
        "null_data = dev_data.isnull().sum()\n",
        "print(' There are', '{:,}'.format(null_data['clean_msg']), 'missing message rows in the Dev dataset')\n",
        "null_data = test_data.isnull().sum()\n",
        "print(' There are', '{:,}'.format(null_data['clean_msg']), 'missing message rows in the Test dataset')"
      ]
    },
    {
      "cell_type": "code",
      "execution_count": null,
      "metadata": {
        "id": "5RIryRtP_iHU"
      },
      "outputs": [],
      "source": [
        "valid_MBTI = {'ISTJ': 0, 'INTJ': 1, 'ESTJ': 2, 'ENTJ': 3, 'ENTP': 4, 'INTP': 5, \\\n",
        "              'ISTP': 6, 'ESTP': 7, 'ISFJ': 8, 'INFJ': 9, 'ESFJ': 10, \\\n",
        "              'ENFJ': 11, 'ENFP': 12, 'INFP': 13, 'ISFP': 14, 'ESFP': 15}\n"
      ]
    },
    {
      "cell_type": "code",
      "execution_count": null,
      "metadata": {
        "colab": {
          "base_uri": "https://localhost:8080/"
        },
        "id": "tn6kX3djBpGv",
        "outputId": "4da5249f-c998-48a1-af63-7d5786de8103"
      },
      "outputs": [
        {
          "output_type": "stream",
          "name": "stderr",
          "text": [
            "/usr/local/lib/python3.7/dist-packages/ipykernel_launcher.py:1: SettingWithCopyWarning: \n",
            "A value is trying to be set on a copy of a slice from a DataFrame.\n",
            "Try using .loc[row_indexer,col_indexer] = value instead\n",
            "\n",
            "See the caveats in the documentation: https://pandas.pydata.org/pandas-docs/stable/user_guide/indexing.html#returning-a-view-versus-a-copy\n",
            "  \"\"\"Entry point for launching an IPython kernel.\n",
            "/usr/local/lib/python3.7/dist-packages/ipykernel_launcher.py:2: SettingWithCopyWarning: \n",
            "A value is trying to be set on a copy of a slice from a DataFrame.\n",
            "Try using .loc[row_indexer,col_indexer] = value instead\n",
            "\n",
            "See the caveats in the documentation: https://pandas.pydata.org/pandas-docs/stable/user_guide/indexing.html#returning-a-view-versus-a-copy\n",
            "  \n",
            "/usr/local/lib/python3.7/dist-packages/ipykernel_launcher.py:3: SettingWithCopyWarning: \n",
            "A value is trying to be set on a copy of a slice from a DataFrame.\n",
            "Try using .loc[row_indexer,col_indexer] = value instead\n",
            "\n",
            "See the caveats in the documentation: https://pandas.pydata.org/pandas-docs/stable/user_guide/indexing.html#returning-a-view-versus-a-copy\n",
            "  This is separate from the ipykernel package so we can avoid doing imports until\n"
          ]
        }
      ],
      "source": [
        "train_labels['class'] = train_labels['MBTI Type'].map(valid_MBTI)\n",
        "test_labels['class'] = test_labels['MBTI Type'].map(valid_MBTI)\n",
        "dev_labels['class'] = dev_labels['MBTI Type'].map(valid_MBTI)\n",
        "\n"
      ]
    },
    {
      "cell_type": "code",
      "execution_count": null,
      "metadata": {
        "colab": {
          "base_uri": "https://localhost:8080/",
          "height": 363
        },
        "id": "FCm1Q2ae-ak9",
        "outputId": "6290be59-d86d-4e5a-92ec-83b39b175b28"
      },
      "outputs": [
        {
          "output_type": "execute_result",
          "data": {
            "text/plain": [
              "  MBTI Type  class\n",
              "0      INFJ      9\n",
              "1      ENTP      4\n",
              "2      INTJ      1\n",
              "3      ENTP      4\n",
              "4      ENTP      4\n",
              "5      INTJ      1\n",
              "6      INTJ      1\n",
              "7      INFJ      9\n",
              "8      INTP      5\n",
              "9      ENFP     12"
            ],
            "text/html": [
              "\n",
              "  <div id=\"df-05e2a28b-de0e-4a9b-9d47-e1deaee48100\">\n",
              "    <div class=\"colab-df-container\">\n",
              "      <div>\n",
              "<style scoped>\n",
              "    .dataframe tbody tr th:only-of-type {\n",
              "        vertical-align: middle;\n",
              "    }\n",
              "\n",
              "    .dataframe tbody tr th {\n",
              "        vertical-align: top;\n",
              "    }\n",
              "\n",
              "    .dataframe thead th {\n",
              "        text-align: right;\n",
              "    }\n",
              "</style>\n",
              "<table border=\"1\" class=\"dataframe\">\n",
              "  <thead>\n",
              "    <tr style=\"text-align: right;\">\n",
              "      <th></th>\n",
              "      <th>MBTI Type</th>\n",
              "      <th>class</th>\n",
              "    </tr>\n",
              "  </thead>\n",
              "  <tbody>\n",
              "    <tr>\n",
              "      <th>0</th>\n",
              "      <td>INFJ</td>\n",
              "      <td>9</td>\n",
              "    </tr>\n",
              "    <tr>\n",
              "      <th>1</th>\n",
              "      <td>ENTP</td>\n",
              "      <td>4</td>\n",
              "    </tr>\n",
              "    <tr>\n",
              "      <th>2</th>\n",
              "      <td>INTJ</td>\n",
              "      <td>1</td>\n",
              "    </tr>\n",
              "    <tr>\n",
              "      <th>3</th>\n",
              "      <td>ENTP</td>\n",
              "      <td>4</td>\n",
              "    </tr>\n",
              "    <tr>\n",
              "      <th>4</th>\n",
              "      <td>ENTP</td>\n",
              "      <td>4</td>\n",
              "    </tr>\n",
              "    <tr>\n",
              "      <th>5</th>\n",
              "      <td>INTJ</td>\n",
              "      <td>1</td>\n",
              "    </tr>\n",
              "    <tr>\n",
              "      <th>6</th>\n",
              "      <td>INTJ</td>\n",
              "      <td>1</td>\n",
              "    </tr>\n",
              "    <tr>\n",
              "      <th>7</th>\n",
              "      <td>INFJ</td>\n",
              "      <td>9</td>\n",
              "    </tr>\n",
              "    <tr>\n",
              "      <th>8</th>\n",
              "      <td>INTP</td>\n",
              "      <td>5</td>\n",
              "    </tr>\n",
              "    <tr>\n",
              "      <th>9</th>\n",
              "      <td>ENFP</td>\n",
              "      <td>12</td>\n",
              "    </tr>\n",
              "  </tbody>\n",
              "</table>\n",
              "</div>\n",
              "      <button class=\"colab-df-convert\" onclick=\"convertToInteractive('df-05e2a28b-de0e-4a9b-9d47-e1deaee48100')\"\n",
              "              title=\"Convert this dataframe to an interactive table.\"\n",
              "              style=\"display:none;\">\n",
              "        \n",
              "  <svg xmlns=\"http://www.w3.org/2000/svg\" height=\"24px\"viewBox=\"0 0 24 24\"\n",
              "       width=\"24px\">\n",
              "    <path d=\"M0 0h24v24H0V0z\" fill=\"none\"/>\n",
              "    <path d=\"M18.56 5.44l.94 2.06.94-2.06 2.06-.94-2.06-.94-.94-2.06-.94 2.06-2.06.94zm-11 1L8.5 8.5l.94-2.06 2.06-.94-2.06-.94L8.5 2.5l-.94 2.06-2.06.94zm10 10l.94 2.06.94-2.06 2.06-.94-2.06-.94-.94-2.06-.94 2.06-2.06.94z\"/><path d=\"M17.41 7.96l-1.37-1.37c-.4-.4-.92-.59-1.43-.59-.52 0-1.04.2-1.43.59L10.3 9.45l-7.72 7.72c-.78.78-.78 2.05 0 2.83L4 21.41c.39.39.9.59 1.41.59.51 0 1.02-.2 1.41-.59l7.78-7.78 2.81-2.81c.8-.78.8-2.07 0-2.86zM5.41 20L4 18.59l7.72-7.72 1.47 1.35L5.41 20z\"/>\n",
              "  </svg>\n",
              "      </button>\n",
              "      \n",
              "  <style>\n",
              "    .colab-df-container {\n",
              "      display:flex;\n",
              "      flex-wrap:wrap;\n",
              "      gap: 12px;\n",
              "    }\n",
              "\n",
              "    .colab-df-convert {\n",
              "      background-color: #E8F0FE;\n",
              "      border: none;\n",
              "      border-radius: 50%;\n",
              "      cursor: pointer;\n",
              "      display: none;\n",
              "      fill: #1967D2;\n",
              "      height: 32px;\n",
              "      padding: 0 0 0 0;\n",
              "      width: 32px;\n",
              "    }\n",
              "\n",
              "    .colab-df-convert:hover {\n",
              "      background-color: #E2EBFA;\n",
              "      box-shadow: 0px 1px 2px rgba(60, 64, 67, 0.3), 0px 1px 3px 1px rgba(60, 64, 67, 0.15);\n",
              "      fill: #174EA6;\n",
              "    }\n",
              "\n",
              "    [theme=dark] .colab-df-convert {\n",
              "      background-color: #3B4455;\n",
              "      fill: #D2E3FC;\n",
              "    }\n",
              "\n",
              "    [theme=dark] .colab-df-convert:hover {\n",
              "      background-color: #434B5C;\n",
              "      box-shadow: 0px 1px 3px 1px rgba(0, 0, 0, 0.15);\n",
              "      filter: drop-shadow(0px 1px 2px rgba(0, 0, 0, 0.3));\n",
              "      fill: #FFFFFF;\n",
              "    }\n",
              "  </style>\n",
              "\n",
              "      <script>\n",
              "        const buttonEl =\n",
              "          document.querySelector('#df-05e2a28b-de0e-4a9b-9d47-e1deaee48100 button.colab-df-convert');\n",
              "        buttonEl.style.display =\n",
              "          google.colab.kernel.accessAllowed ? 'block' : 'none';\n",
              "\n",
              "        async function convertToInteractive(key) {\n",
              "          const element = document.querySelector('#df-05e2a28b-de0e-4a9b-9d47-e1deaee48100');\n",
              "          const dataTable =\n",
              "            await google.colab.kernel.invokeFunction('convertToInteractive',\n",
              "                                                     [key], {});\n",
              "          if (!dataTable) return;\n",
              "\n",
              "          const docLinkHtml = 'Like what you see? Visit the ' +\n",
              "            '<a target=\"_blank\" href=https://colab.research.google.com/notebooks/data_table.ipynb>data table notebook</a>'\n",
              "            + ' to learn more about interactive tables.';\n",
              "          element.innerHTML = '';\n",
              "          dataTable['output_type'] = 'display_data';\n",
              "          await google.colab.output.renderOutput(dataTable, element);\n",
              "          const docLink = document.createElement('div');\n",
              "          docLink.innerHTML = docLinkHtml;\n",
              "          element.appendChild(docLink);\n",
              "        }\n",
              "      </script>\n",
              "    </div>\n",
              "  </div>\n",
              "  "
            ]
          },
          "metadata": {},
          "execution_count": 33
        }
      ],
      "source": [
        "train_labels[:10]\n"
      ]
    },
    {
      "cell_type": "code",
      "execution_count": null,
      "metadata": {
        "colab": {
          "base_uri": "https://localhost:8080/"
        },
        "id": "u51ab21YiJZ-",
        "outputId": "19e298a5-fc9f-4eab-a8eb-8dd118edcfdc"
      },
      "outputs": [
        {
          "output_type": "stream",
          "name": "stdout",
          "text": [
            "\n",
            "train_features 90376\n"
          ]
        },
        {
          "output_type": "stream",
          "name": "stderr",
          "text": [
            "/usr/local/lib/python3.7/dist-packages/sklearn/feature_extraction/text.py:1323: UserWarning: Upper case characters found in vocabulary while 'lowercase' is True. These entries will not be matched with any documents\n",
            "  \"Upper case characters found in\"\n"
          ]
        },
        {
          "output_type": "stream",
          "name": "stdout",
          "text": [
            "dev features 90376\n",
            "\n",
            "Printing statistics for preprocessed data:\n",
            "Vocabulary size =  90,376\n",
            "Number of non zero features =  2,743,926\n",
            "Number of samples in training dataset =  60,000\n",
            "Average non zero features per example =  45.7321\n",
            "Fraction of non zero entries in the matrix =  0.000506\n",
            "First feature =  00   Last feature =  𝔏𝔲𝔠𝔦𝔣𝔢𝔯\n"
          ]
        }
      ],
      "source": [
        "#Transform data to matrices of word unigram features using preprocessing\n",
        "num_words_a = 1\n",
        "num_words_b = 1\n",
        "vectorizer_t_preprocess = TfidfVectorizer(ngram_range=(num_words_a, num_words_b))\n",
        "train_cv = vectorizer_t_preprocess.fit_transform(train_data[\"clean_msg\"].values.astype('U')) \n",
        "train_features = vectorizer_t_preprocess.get_feature_names_out()\n",
        "print('\\ntrain_features', len(train_features))\n",
        "vectorizer_d_nopreprocess = TfidfVectorizer(ngram_range=(num_words_a, num_words_b), vocabulary = train_features)\n",
        "dev_cv = vectorizer_d_nopreprocess.fit_transform(dev_data[\"clean_msg\"].values.astype('U')) \n",
        "dev_features = vectorizer_d_nopreprocess.get_feature_names_out()\n",
        "print('dev features', len(dev_features))\n",
        "\n",
        "#Print some statistics on the vectorization\n",
        "print('\\nPrinting statistics for preprocessed data:')\n",
        "print('Vocabulary size = ', \"{:,}\".format(train_cv.shape[1]))\n",
        "print('Number of non zero features = ', \"{:,}\".format(train_cv.nnz))\n",
        "print('Number of samples in training dataset = ', \"{:,}\".format(train_cv.shape[0]))\n",
        "print('Average non zero features per example = ', \"{:,}\".format(train_cv.nnz/train_cv.shape[0]))\n",
        "total_entries = train_cv.shape[0] * train_cv.shape[1]\n",
        "print('Fraction of non zero entries in the matrix = ', round((train_cv.nnz/total_entries), 6))\n",
        "print('First feature = ', train_features[0], '  Last feature = ', train_features[len(train_features) - 1])"
      ]
    },
    {
      "cell_type": "code",
      "execution_count": null,
      "metadata": {
        "colab": {
          "base_uri": "https://localhost:8080/"
        },
        "id": "4Z8_lMrwmqD8",
        "outputId": "2e882c22-b684-4f48-ff4c-69af6d76f3b5"
      },
      "outputs": [
        {
          "output_type": "stream",
          "name": "stderr",
          "text": [
            "/usr/local/lib/python3.7/dist-packages/sklearn/linear_model/_logistic.py:818: ConvergenceWarning: lbfgs failed to converge (status=1):\n",
            "STOP: TOTAL NO. of ITERATIONS REACHED LIMIT.\n",
            "\n",
            "Increase the number of iterations (max_iter) or scale the data as shown in:\n",
            "    https://scikit-learn.org/stable/modules/preprocessing.html\n",
            "Please also refer to the documentation for alternative solver options:\n",
            "    https://scikit-learn.org/stable/modules/linear_model.html#logistic-regression\n",
            "  extra_warning_msg=_LOGISTIC_SOLVER_CONVERGENCE_MSG,\n"
          ]
        },
        {
          "output_type": "stream",
          "name": "stdout",
          "text": [
            "\u001b[1m\n",
            "Logistic Regression using unigram features with default vectorization\u001b[0m\n",
            "\n",
            "F1 Score for c= 1 0.19294220604146764\n"
          ]
        },
        {
          "output_type": "stream",
          "name": "stderr",
          "text": [
            "/usr/local/lib/python3.7/dist-packages/sklearn/linear_model/_logistic.py:818: ConvergenceWarning: lbfgs failed to converge (status=1):\n",
            "STOP: TOTAL NO. of ITERATIONS REACHED LIMIT.\n",
            "\n",
            "Increase the number of iterations (max_iter) or scale the data as shown in:\n",
            "    https://scikit-learn.org/stable/modules/preprocessing.html\n",
            "Please also refer to the documentation for alternative solver options:\n",
            "    https://scikit-learn.org/stable/modules/linear_model.html#logistic-regression\n",
            "  extra_warning_msg=_LOGISTIC_SOLVER_CONVERGENCE_MSG,\n"
          ]
        },
        {
          "output_type": "stream",
          "name": "stdout",
          "text": [
            "\u001b[1m\n",
            "Logistic Regression using unigram features with default vectorization\u001b[0m\n",
            "\n",
            "F1 Score for c= 10 0.19076101988559635\n",
            "\u001b[1m\n",
            "Logistic Regression using unigram features with default vectorization\u001b[0m\n",
            "\n",
            "F1 Score for c= 0.001 0.07774791100139568\n",
            "\u001b[1m\n",
            "Logistic Regression using unigram features with default vectorization\u001b[0m\n",
            "\n",
            "F1 Score for c= 0.1 0.1564073541581247\n",
            "\u001b[1m\n",
            "Logistic Regression using unigram features with default vectorization\u001b[0m\n",
            "\n",
            "F1 Score for c= 0.01 0.11848087396873416\n",
            "\u001b[1m\n",
            "Logistic Regression using unigram features with default vectorization\u001b[0m\n",
            "\n",
            "F1 Score for c= 0.0001 0.04451201165791582\n"
          ]
        }
      ],
      "source": [
        "#Logistic Regression using tfid vectorized data, no preprocessing, searching for best C value\n",
        "for i in ([1,10,0.001, .1, 0.01,0.0001]): \n",
        "  lr_model = LogisticRegression(C=i , solver='lbfgs' , max_iter = 300)\n",
        "  lr_model.fit(train_cv, train_labels['class'])  #Attempt ravel to provide distinct labels\n",
        "  predicted_labels = lr_model.predict(dev_cv)\n",
        "  #Print results for predictions with dev dataset\n",
        "  print('\\033[1m\\nLogistic Regression using unigram features with default vectorization\\033[0m\\n')\n",
        "  print('F1 Score for c=', i,  str(metrics.f1_score(dev_labels['class'],predicted_labels, average='weighted')))"
      ]
    },
    {
      "cell_type": "code",
      "execution_count": null,
      "metadata": {
        "colab": {
          "base_uri": "https://localhost:8080/",
          "height": 745
        },
        "id": "1jvLSdg4u8ez",
        "outputId": "9bb2236c-d369-4652-8418-b6fc96504378"
      },
      "outputs": [
        {
          "output_type": "stream",
          "name": "stderr",
          "text": [
            "/usr/local/lib/python3.7/dist-packages/sklearn/metrics/_classification.py:1318: UndefinedMetricWarning: Recall and F-score are ill-defined and being set to 0.0 in labels with no true samples. Use `zero_division` parameter to control this behavior.\n",
            "  _warn_prf(average, modifier, msg_start, len(result))\n",
            "/usr/local/lib/python3.7/dist-packages/sklearn/metrics/_classification.py:1318: UndefinedMetricWarning: Recall and F-score are ill-defined and being set to 0.0 in labels with no true samples. Use `zero_division` parameter to control this behavior.\n",
            "  _warn_prf(average, modifier, msg_start, len(result))\n",
            "/usr/local/lib/python3.7/dist-packages/sklearn/metrics/_classification.py:1318: UndefinedMetricWarning: Recall and F-score are ill-defined and being set to 0.0 in labels with no true samples. Use `zero_division` parameter to control this behavior.\n",
            "  _warn_prf(average, modifier, msg_start, len(result))\n"
          ]
        },
        {
          "output_type": "display_data",
          "data": {
            "text/plain": [
              "<Figure size 720x720 with 2 Axes>"
            ],
            "image/png": "[encoded data removed]"
          },
          "metadata": {
            "needs_background": "light"
          }
        }
      ],
      "source": [
        "#Visual Confusion Matrix\n",
        "LR_Count = accuracy_score(predicted_labels, dev_labels['class'])\n",
        "LR_Count_CM = classification_report(predicted_labels, dev_labels['class']) \n",
        "\n",
        "LR_Count_Confusion = confusion_matrix(dev_labels['class'], predicted_labels)\n",
        "\n",
        "import seaborn as sns\n",
        "fig, ax = plt.subplots(figsize=(10,10))      \n",
        "sns.heatmap(LR_Count_Confusion, cmap=\"Blues\", annot=True, fmt='d', ) # for decimal\n",
        "\n",
        "# labels, title and ticks\n",
        "ax.set_xlabel('Predicted labels');ax.set_ylabel('True labels'); \n",
        "ax.set_title('Confusion Matrix'); \n",
        "ax.xaxis.set_ticklabels(['ISTJ', 'INTJ', 'ESTJ', 'ENTJ', 'ENTP', 'INTP', 'ISTP', \\\n",
        "                         'ESTP', 'ISFJ', 'INFJ', 'ESFJ', 'ENFJ', 'ENFP', 'INFP', \\\n",
        "                         'ISFP', 'ESFP']); \n",
        "ax.yaxis.set_ticklabels(['ISTJ', \\\n",
        "                         'INTJ', 'ESTJ', 'ENTJ', 'ENTP', 'INTP', 'ISTP', \\\n",
        "                         'ESTP', 'ISFJ', 'INFJ', 'ESFJ', 'ENFJ', 'ENFP', 'INFP', \\\n",
        "                         'ISFP', 'ESFP']);\n",
        "plt.show()"
      ]
    },
    {
      "cell_type": "code",
      "execution_count": null,
      "metadata": {
        "colab": {
          "base_uri": "https://localhost:8080/"
        },
        "id": "65Diuv1p0Rer",
        "outputId": "d0ba6a8a-fce7-4108-aef7-3a9a96e4a3c2"
      },
      "outputs": [
        {
          "output_type": "stream",
          "name": "stdout",
          "text": [
            "Fitting 5 folds for each of 5 candidates, totalling 25 fits\n",
            "\n",
            "Best C value for LinearSVC: LinearSVC(C=0.1)\n",
            "\u001b[1m\n",
            "Linear SVC using Text word counts\u001b[0m\n",
            "\n",
            "F1 Score : 0.19589201269042192\n"
          ]
        }
      ],
      "source": [
        "#Set values of C\n",
        "param_grid = {'C': [0.1,1, 3, 5, 10]}\n",
        "\n",
        "#Conduct grid search for best C value\n",
        "grid = GridSearchCV(LinearSVC(),param_grid,refit=True,verbose=1)\n",
        "grid.fit(train_cv,train_labels['class'])\n",
        "\n",
        "#Print best value of C\n",
        "print('\\nBest C value for LinearSVC:', grid.best_estimator_)\n",
        "\n",
        "#Predict labels\n",
        "predicted_labels = grid.predict(dev_cv)\n",
        "\n",
        "#Print results for predictions with dev dataset\n",
        "print('\\033[1m\\nLinear SVC using Text word counts\\033[0m\\n')\n",
        "print('F1 Score : ' + str(metrics.f1_score(dev_labels['class'],predicted_labels, average='weighted')))"
      ]
    },
    {
      "cell_type": "code",
      "execution_count": null,
      "metadata": {
        "id": "hmiGEnYvTbh6"
      },
      "outputs": [],
      "source": []
    },
    {
      "cell_type": "code",
      "execution_count": null,
      "metadata": {
        "id": "99wI4XvTTBFM"
      },
      "outputs": [],
      "source": []
    },
    {
      "cell_type": "code",
      "execution_count": null,
      "metadata": {
        "id": "2lNHhUPBIajO"
      },
      "outputs": [],
      "source": [
        "#get the labels in a needed data format for validation\n",
        "npdev_labels = np.asarray(dev_labels['class'])\n",
        "nptrain_labels = np.asarray(train_labels['class'])\n",
        "nptest_labels = np.asarray(test_labels['class'])"
      ]
    },
    {
      "cell_type": "code",
      "execution_count": null,
      "metadata": {
        "colab": {
          "base_uri": "https://localhost:8080/"
        },
        "id": "xAzmgPCoGJwp",
        "outputId": "5271a7b3-ea8d-43a8-dc7b-01a29ba21680"
      },
      "outputs": [
        {
          "output_type": "stream",
          "name": "stderr",
          "text": [
            "Some layers from the model checkpoint at bert-base-cased were not used when initializing TFBertModel: ['nsp___cls', 'mlm___cls']\n",
            "- This IS expected if you are initializing TFBertModel from the checkpoint of a model trained on another task or with another architecture (e.g. initializing a BertForSequenceClassification model from a BertForPreTraining model).\n",
            "- This IS NOT expected if you are initializing TFBertModel from the checkpoint of a model that you expect to be exactly identical (initializing a BertForSequenceClassification model from a BertForSequenceClassification model).\n",
            "All the layers of TFBertModel were initialized from the model checkpoint at bert-base-cased.\n",
            "If your task is similar to the task the model of the checkpoint was trained on, you can already use TFBertModel for predictions without further training.\n"
          ]
        }
      ],
      "source": [
        "#Run simple base case BERT model\n",
        "model_checkpoint = 'bert-base-cased'\n",
        "bert_tokenizer = BertTokenizer.from_pretrained(model_checkpoint)\n",
        "bert_model = TFBertModel.from_pretrained(model_checkpoint)\n",
        "max_length = 200\n"
      ]
    },
    {
      "cell_type": "code",
      "execution_count": null,
      "metadata": {
        "id": "QfanImGkhvEz"
      },
      "outputs": [],
      "source": [
        "train_data_st = train_data['clean_msg'].values.tolist()\n",
        "dev_data_st = dev_data['clean_msg'].values.tolist()\n",
        "test_data_st = test_data['clean_msg'].values.tolist()"
      ]
    },
    {
      "cell_type": "code",
      "execution_count": null,
      "metadata": {
        "colab": {
          "base_uri": "https://localhost:8080/"
        },
        "id": "7bu4mbRzpntG",
        "outputId": "376cac9b-086a-4c6c-9fce-42c1a8934bb3"
      },
      "outputs": [
        {
          "output_type": "stream",
          "name": "stdout",
          "text": [
            " There are 0 missing message rows in the Train dataset\n"
          ]
        }
      ],
      "source": [
        "null_data = train_data.isnull().sum()\n",
        "print(' There are', '{:,}'.format(null_data['clean_msg']), 'missing message rows in the Train dataset') \n"
      ]
    },
    {
      "cell_type": "code",
      "execution_count": null,
      "metadata": {
        "colab": {
          "base_uri": "https://localhost:8080/"
        },
        "id": "BhSqBB-fSN9F",
        "outputId": "f475d231-2262-4ced-fa34-d90d62585643"
      },
      "outputs": [
        {
          "output_type": "stream",
          "name": "stdout",
          "text": [
            " There are 0 missing message rows in the Test dataset\n"
          ]
        }
      ],
      "source": [
        "null_data = test_data.isnull().sum()\n",
        "print(' There are', '{:,}'.format(null_data['clean_msg']), 'missing message rows in the Test dataset') \n"
      ]
    },
    {
      "cell_type": "code",
      "execution_count": null,
      "metadata": {
        "colab": {
          "base_uri": "https://localhost:8080/"
        },
        "id": "ILu912ZPoAkL",
        "outputId": "0444f1ba-87bc-4f99-fda3-24dd7f85a775"
      },
      "outputs": [
        {
          "output_type": "stream",
          "name": "stdout",
          "text": [
            " There are 0 missing message rows in the Dev dataset\n"
          ]
        }
      ],
      "source": [
        "null_data = dev_data.isnull().sum()\n",
        "print(' There are', '{:,}'.format(null_data['clean_msg']), 'missing message rows in the Dev dataset') "
      ]
    },
    {
      "cell_type": "code",
      "execution_count": null,
      "metadata": {
        "id": "5nK4tD__ITa2"
      },
      "outputs": [],
      "source": [
        "# tokenize the dataset, truncate when passed `max_length`, \n",
        "# and pad with 0's when less than `max_length` and return a tf Tensor\n",
        "train_encodings = bert_tokenizer(train_data_st, truncation=True, padding=True, max_length=max_length, return_tensors='tf')\n",
        "valid_encodings = bert_tokenizer(dev_data_st, truncation=True, padding=True, max_length=max_length, return_tensors='tf')\n",
        "test_encodings = bert_tokenizer(test_data_st, truncation=True, padding=True, max_length=max_length, return_tensors='tf')"
      ]
    },
    {
      "cell_type": "code",
      "execution_count": null,
      "metadata": {
        "colab": {
          "base_uri": "https://localhost:8080/"
        },
        "id": "vPmXvJ6GIVKR",
        "outputId": "0b130ca0-2167-4ad9-a7d6-1e9edb510f8b"
      },
      "outputs": [
        {
          "output_type": "execute_result",
          "data": {
            "text/plain": [
              "(60000, 200)"
            ]
          },
          "metadata": {},
          "execution_count": 45
        }
      ],
      "source": [
        "# Extract encoded features and labels, add to corresponding lists\n",
        "input_ids = np.array(train_encodings[\"input_ids\"], dtype=\"int32\")\n",
        "attention_masks = np.array(train_encodings[\"attention_mask\"], dtype=\"int32\")\n",
        "token_type_ids = np.array(train_encodings[\"token_type_ids\"], dtype=\"int32\")\n",
        "\n",
        "attention_masks.shape"
      ]
    },
    {
      "cell_type": "code",
      "execution_count": null,
      "metadata": {
        "colab": {
          "base_uri": "https://localhost:8080/"
        },
        "id": "UFoLpvDPNCUo",
        "outputId": "c30192cb-55ac-465c-ade0-d3e34064d41b"
      },
      "outputs": [
        {
          "output_type": "execute_result",
          "data": {
            "text/plain": [
              "<tf.Tensor: shape=(5, 200), dtype=int32, numpy=\n",
              "array([[  101,   178,  1354,  1122,  1156,  1129,  5426,  1106,  4734,\n",
              "         1115,   117,  1112,  4400,   117,   178,  5006,  1137,  1330,\n",
              "         9340,  1215,  1139,   193,  1775,  1775,  1775,  3758,  1106,\n",
              "         4684,  1117,   107, 12654,  1143,   107,  6324,   119,   178,\n",
              "         3560,  1164,  1293,  1117,  1711,  3055,  1125,  1199,  3271,\n",
              "         1104,  4910, 14025,  1115,  1144,  1286,  1140,  1114,   188,\n",
              "         4313, 26474,  1105,  4910,  1231,  6817, 13759,   117,  1211,\n",
              "         2620,  2416,  1118,  1117, 12177,  3850,  1329,   119,  1170,\n",
              "         1119,  1108,  1694,  1119,  1500,  1143,   107,   178,   165,\n",
              "         1396,  1309,  1500,  2256,  1164,  1142,   119,   119,   119,\n",
              "          178,  1274,   165,   189,  1221,  1725,   178,   165,   182,\n",
              "         2520,  1164,  1122,   119,   107,  1177, 11519,  1142,  2564,\n",
              "         1110,  1909,  1114,   170,  1974,  1104,  6438, 23539,  1315,\n",
              "          117,  1290,  1117,  1711,  1144,  1151,  1176,  1142,  1111,\n",
              "          193,  1775,  1775,  1201,   119,  1293,  1110,  1122,  1115,\n",
              "         1234,  1579,  3166,  1106, 14255,  8702,  2007,  1107,  1143,\n",
              "         1256,  1463,  1152,  3742,  1221,  1143,   136,  1122,   165,\n",
              "          188,   170,  9188,   117,   178,  1587,  1128,   106,   170,\n",
              "         9188,   106,   114,   102,     0,     0,     0,     0,     0,\n",
              "            0,     0,     0,     0,     0,     0,     0,     0,     0,\n",
              "            0,     0,     0,     0,     0,     0,     0,     0,     0,\n",
              "            0,     0,     0,     0,     0,     0,     0,     0,     0,\n",
              "            0,     0],\n",
              "       [  101,  1103,  6281,  9631,  1115,  1144,  1151, 12086,  1106,\n",
              "         1366,  1112,  4311,  1103,  7564,  1104,   107,  1142,  1217,\n",
              "          107,  1110,  2628,  1114,  1142,  5885,  1107,  1103,  1385,\n",
              "         2774, 11462,   131,  1110, 20991,  1324,   193,  1775,  1775,\n",
              "         1775,  1775,  1775,   131,   193,  1775,  1775,  1775,  1775,\n",
              "         1775,   118,   193,  1775,  1775,  1775,  1775,  1775,  1293,\n",
              "         1893, 22626,  4984,  1121,  9775,   117,   184,   181, 21977,\n",
              "        25052,   117,  1488,  1104,  1103,  2106,   106,  1293,  1893,\n",
              "        22626,  2195,  1205,  1106,  1103,  1747,   117,  1134,  1225,\n",
              "         2050, 25772,  1103,  6015,   106,  1111, 22626,  1144,  1204,\n",
              "         1163,  1107,  4240,  1162,  1762,   117,   178,  1209,  1112,\n",
              "        25981,  1154,  9775,   117,   178,  1209,  4252,  1348,  1204,\n",
              "         1139,  5774,  1807,  1103,  2940,  1104,  5540,   131,   178,\n",
              "         1209,  3465,  1145,  1852,  1103, 11885,  1104,  1103,  9201,\n",
              "          117,  1107,  1103,  3091,  1104,  1103,  1564,   131,   178,\n",
              "         1209,  1112, 25981,  1807,  1103, 16291,  1104,  1103,  8435,\n",
              "          132,   178,  1209,  1129,  1176,  1103,  1211,  1344,   119,\n",
              "         1870, 22626,   188, 24537,  1129,  1814,  1205,  1106,  2630,\n",
              "          117,  1106,  1103,  3091,  1104,  1103,  7172,   119,  1152,\n",
              "         1115,  1267, 20021,  4103, 11982,  1440,  1852, 20021,   117,\n",
              "         1105,  4615, 20021,   117,  2157,   117,  1110,  1142,  1103,\n",
              "         1299,  1115,  1189,  1103,  4033,  1106, 23148,   117,  1115,\n",
              "         1225,   102],\n",
              "       [  101,   107,  1128,  1127,  1198,   170,  5671,  1104, 20479,\n",
              "        10681,  1236,  1128,  1440,  1918,  9029,  1139,  3472,  1885,\n",
              "        10681,  1236,  1128,  1341,  1548,  1185,  1236,  1120,  1155,\n",
              "         2758,  1181,  1128,  1541,  1341,  1128,  1138,  7318,  1182,\n",
              "         4819,  1128,   117,  1157,  2276,  1182,  4819,  1128,  1105,\n",
              "         1917,  1128,  1202,  7490,  3313,  1177,  4736,  8420,  1279,\n",
              "         1720,  1107,  1240,  1246,  2758,  1181,  1293,   178,  3683,\n",
              "         1115,  1128,  1127,  2044,   107,   114,   102,     0,     0,\n",
              "            0,     0,     0,     0,     0,     0,     0,     0,     0,\n",
              "            0,     0,     0,     0,     0,     0,     0,     0,     0,\n",
              "            0,     0,     0,     0,     0,     0,     0,     0,     0,\n",
              "            0,     0,     0,     0,     0,     0,     0,     0,     0,\n",
              "            0,     0,     0,     0,     0,     0,     0,     0,     0,\n",
              "            0,     0,     0,     0,     0,     0,     0,     0,     0,\n",
              "            0,     0,     0,     0,     0,     0,     0,     0,     0,\n",
              "            0,     0,     0,     0,     0,     0,     0,     0,     0,\n",
              "            0,     0,     0,     0,     0,     0,     0,     0,     0,\n",
              "            0,     0,     0,     0,     0,     0,     0,     0,     0,\n",
              "            0,     0,     0,     0,     0,     0,     0,     0,     0,\n",
              "            0,     0,     0,     0,     0,     0,     0,     0,     0,\n",
              "            0,     0,     0,     0,     0,     0,     0,     0,     0,\n",
              "            0,     0,     0,     0,     0,     0,     0,     0,     0,\n",
              "            0,     0],\n",
              "       [  101,  1301,  2737,   178,  1631,  1176,   170,  2564,  2288,\n",
              "         1113,  1103,  2652,  1104,   170,  3499, 16824,   170, 10110,\n",
              "         1104,   170,  1297,  3202,  4121,  1113,   170,  8090,  1106,\n",
              "          170, 15666,  1200,  1107,  1103,  1447,   119,   114,   102,\n",
              "            0,     0,     0,     0,     0,     0,     0,     0,     0,\n",
              "            0,     0,     0,     0,     0,     0,     0,     0,     0,\n",
              "            0,     0,     0,     0,     0,     0,     0,     0,     0,\n",
              "            0,     0,     0,     0,     0,     0,     0,     0,     0,\n",
              "            0,     0,     0,     0,     0,     0,     0,     0,     0,\n",
              "            0,     0,     0,     0,     0,     0,     0,     0,     0,\n",
              "            0,     0,     0,     0,     0,     0,     0,     0,     0,\n",
              "            0,     0,     0,     0,     0,     0,     0,     0,     0,\n",
              "            0,     0,     0,     0,     0,     0,     0,     0,     0,\n",
              "            0,     0,     0,     0,     0,     0,     0,     0,     0,\n",
              "            0,     0,     0,     0,     0,     0,     0,     0,     0,\n",
              "            0,     0,     0,     0,     0,     0,     0,     0,     0,\n",
              "            0,     0,     0,     0,     0,     0,     0,     0,     0,\n",
              "            0,     0,     0,     0,     0,     0,     0,     0,     0,\n",
              "            0,     0,     0,     0,     0,     0,     0,     0,     0,\n",
              "            0,     0,     0,     0,     0,     0,     0,     0,     0,\n",
              "            0,     0,     0,     0,     0,     0,     0,     0,     0,\n",
              "            0,     0,     0,     0,     0,     0,     0,     0,     0,\n",
              "            0,     0],\n",
              "       [  101,   167,  1128,   165,  1231,  3155,  1106,  1129,   107,\n",
              "         7058,  1116,   107,  2452,  1106, 20650, 21157,   117,  4547,\n",
              "         1103,  1436,  2398,  1128,  1169,  1138,   136,   114,   102,\n",
              "            0,     0,     0,     0,     0,     0,     0,     0,     0,\n",
              "            0,     0,     0,     0,     0,     0,     0,     0,     0,\n",
              "            0,     0,     0,     0,     0,     0,     0,     0,     0,\n",
              "            0,     0,     0,     0,     0,     0,     0,     0,     0,\n",
              "            0,     0,     0,     0,     0,     0,     0,     0,     0,\n",
              "            0,     0,     0,     0,     0,     0,     0,     0,     0,\n",
              "            0,     0,     0,     0,     0,     0,     0,     0,     0,\n",
              "            0,     0,     0,     0,     0,     0,     0,     0,     0,\n",
              "            0,     0,     0,     0,     0,     0,     0,     0,     0,\n",
              "            0,     0,     0,     0,     0,     0,     0,     0,     0,\n",
              "            0,     0,     0,     0,     0,     0,     0,     0,     0,\n",
              "            0,     0,     0,     0,     0,     0,     0,     0,     0,\n",
              "            0,     0,     0,     0,     0,     0,     0,     0,     0,\n",
              "            0,     0,     0,     0,     0,     0,     0,     0,     0,\n",
              "            0,     0,     0,     0,     0,     0,     0,     0,     0,\n",
              "            0,     0,     0,     0,     0,     0,     0,     0,     0,\n",
              "            0,     0,     0,     0,     0,     0,     0,     0,     0,\n",
              "            0,     0,     0,     0,     0,     0,     0,     0,     0,\n",
              "            0,     0,     0,     0,     0,     0,     0,     0,     0,\n",
              "            0,     0]], dtype=int32)>"
            ]
          },
          "metadata": {},
          "execution_count": 46
        }
      ],
      "source": [
        "train_encodings.input_ids[:5]"
      ]
    },
    {
      "cell_type": "code",
      "execution_count": null,
      "metadata": {
        "id": "6fgHsCGQNHU3"
      },
      "outputs": [],
      "source": [
        "def create_bert_multiclass_model(checkpoint = model_checkpoint,\n",
        "                                hidden_size = 201, \n",
        "                                dropout=0.3,\n",
        "                                learning_rate=0.00005,\n",
        "                                train_layers=-1):\n",
        "\n",
        "  \"\"\"\n",
        "  Build a simple classification model with BERT. Use the Pooled Output for classification purposes.\n",
        "    \n",
        "  \"\"\"\n",
        "\n",
        "  input_ids = layers.Input(shape=(max_length), dtype=tf.int32, name='input_ids')\n",
        "  attention_masks = layers.Input(shape=(max_length), dtype=tf.int32, name='attention_masks')\n",
        "  token_type_ids = layers.Input(shape=(max_length), dtype=tf.int32, name='token_type_ids')\n",
        "\n",
        "  bert_model = TFBertModel.from_pretrained(checkpoint)                                              \n",
        "\n",
        "  bert_output = bert_model(input_ids, attention_mask=attention_masks, token_type_ids=token_type_ids)\n",
        "  sequence_output = bert_output.last_hidden_state\n",
        "\n",
        "  attn_output = layers.MultiHeadAttention(num_heads=16, key_dim=100)(sequence_output, sequence_output)\n",
        "  max_pool = layers.GlobalMaxPooling1D()(attn_output)\n",
        "  dropout_output = layers.Dropout(dropout)(max_pool)\n",
        "  final_output = layers.Dense(len(valid_MBTI), activation=\"softmax\")(dropout_output)\n",
        "    \n",
        "  classification_model = tf.keras.models.Model(inputs=[input_ids, attention_masks, token_type_ids],\n",
        "                                  outputs=[final_output])\n",
        "  \n",
        "  classification_model.compile(optimizer=tf.keras.optimizers.Adam(),\n",
        "                  loss='sparse_categorical_crossentropy',\n",
        "                  metrics=['accuracy'])\n",
        "\n",
        "  return classification_model"
      ]
    },
    {
      "cell_type": "code",
      "execution_count": null,
      "metadata": {
        "id": "PsCFPNHVNtXg"
      },
      "outputs": [],
      "source": [
        "#Set training to be True for Bert layers\n",
        "bert_model.trainable = True"
      ]
    },
    {
      "cell_type": "code",
      "execution_count": null,
      "metadata": {
        "colab": {
          "base_uri": "https://localhost:8080/"
        },
        "id": "BZjrjsWkNzJN",
        "outputId": "fa2d5143-a1ca-4818-f5d8-d7c9f0b5d062"
      },
      "outputs": [
        {
          "output_type": "stream",
          "name": "stderr",
          "text": [
            "Some layers from the model checkpoint at bert-base-cased were not used when initializing TFBertModel: ['nsp___cls', 'mlm___cls']\n",
            "- This IS expected if you are initializing TFBertModel from the checkpoint of a model trained on another task or with another architecture (e.g. initializing a BertForSequenceClassification model from a BertForPreTraining model).\n",
            "- This IS NOT expected if you are initializing TFBertModel from the checkpoint of a model that you expect to be exactly identical (initializing a BertForSequenceClassification model from a BertForSequenceClassification model).\n",
            "All the layers of TFBertModel were initialized from the model checkpoint at bert-base-cased.\n",
            "If your task is similar to the task the model of the checkpoint was trained on, you can already use TFBertModel for predictions without further training.\n"
          ]
        }
      ],
      "source": [
        "pooled_bert_model = create_bert_multiclass_model(checkpoint = model_checkpoint)"
      ]
    },
    {
      "cell_type": "code",
      "execution_count": null,
      "metadata": {
        "colab": {
          "base_uri": "https://localhost:8080/",
          "height": 439
        },
        "id": "m1kv3qdvN37Z",
        "outputId": "ea43a893-8de9-4ff4-c209-17ec6965a3ef"
      },
      "outputs": [
        {
          "output_type": "execute_result",
          "data": {
            "image/png": "[encoded data removed]",
            "text/plain": [
              "<IPython.core.display.Image object>"
            ]
          },
          "metadata": {},
          "execution_count": 50
        }
      ],
      "source": [
        "keras.utils.plot_model(pooled_bert_model, show_shapes=True, dpi=90)"
      ]
    },
    {
      "cell_type": "code",
      "execution_count": null,
      "metadata": {
        "colab": {
          "base_uri": "https://localhost:8080/"
        },
        "id": "VGU-GN_wN8q8",
        "outputId": "031de82c-4441-4feb-afd8-a99905aa31ce"
      },
      "outputs": [
        {
          "output_type": "stream",
          "name": "stdout",
          "text": [
            "Model: \"model\"\n",
            "__________________________________________________________________________________________________\n",
            " Layer (type)                   Output Shape         Param #     Connected to                     \n",
            "==================================================================================================\n",
            " input_ids (InputLayer)         [(None, 200)]        0           []                               \n",
            "                                                                                                  \n",
            " attention_masks (InputLayer)   [(None, 200)]        0           []                               \n",
            "                                                                                                  \n",
            " token_type_ids (InputLayer)    [(None, 200)]        0           []                               \n",
            "                                                                                                  \n",
            " tf_bert_model_2 (TFBertModel)  TFBaseModelOutputWi  108310272   ['input_ids[0][0]',              \n",
            "                                thPoolingAndCrossAt               'attention_masks[0][0]',        \n",
            "                                tentions(last_hidde               'token_type_ids[0][0]']         \n",
            "                                n_state=(None, 200,                                               \n",
            "                                 768),                                                            \n",
            "                                 pooler_output=(Non                                               \n",
            "                                e, 768),                                                          \n",
            "                                 past_key_values=No                                               \n",
            "                                ne, hidden_states=N                                               \n",
            "                                one, attentions=Non                                               \n",
            "                                e, cross_attentions                                               \n",
            "                                =None)                                                            \n",
            "                                                                                                  \n",
            " multi_head_attention (MultiHea  (None, 200, 768)    4920768     ['tf_bert_model_2[0][0]',        \n",
            " dAttention)                                                      'tf_bert_model_2[0][0]']        \n",
            "                                                                                                  \n",
            " global_max_pooling1d (GlobalMa  (None, 768)         0           ['multi_head_attention[0][0]']   \n",
            " xPooling1D)                                                                                      \n",
            "                                                                                                  \n",
            " dropout_111 (Dropout)          (None, 768)          0           ['global_max_pooling1d[0][0]']   \n",
            "                                                                                                  \n",
            " dense (Dense)                  (None, 16)           12304       ['dropout_111[0][0]']            \n",
            "                                                                                                  \n",
            "==================================================================================================\n",
            "Total params: 113,243,344\n",
            "Trainable params: 113,243,344\n",
            "Non-trainable params: 0\n",
            "__________________________________________________________________________________________________\n"
          ]
        }
      ],
      "source": [
        "pooled_bert_model.summary()"
      ]
    },
    {
      "cell_type": "code",
      "execution_count": null,
      "metadata": {
        "colab": {
          "base_uri": "https://localhost:8080/"
        },
        "id": "R5wHnNzQcuBz",
        "outputId": "ebd8d38d-9745-4c09-d5c0-fe11abaf6c9b"
      },
      "outputs": [
        {
          "output_type": "execute_result",
          "data": {
            "text/plain": [
              "(60000,)"
            ]
          },
          "metadata": {},
          "execution_count": 52
        }
      ],
      "source": [
        "nptrain_labels.shape"
      ]
    },
    {
      "cell_type": "code",
      "execution_count": null,
      "metadata": {
        "colab": {
          "base_uri": "https://localhost:8080/"
        },
        "id": "XQaL40ejcyjC",
        "outputId": "1fedcc1d-5277-4d44-d858-3efb0930ff19"
      },
      "outputs": [
        {
          "output_type": "execute_result",
          "data": {
            "text/plain": [
              "(10000,)"
            ]
          },
          "metadata": {},
          "execution_count": 53
        }
      ],
      "source": [
        "npdev_labels.shape"
      ]
    },
    {
      "cell_type": "code",
      "execution_count": null,
      "metadata": {
        "colab": {
          "base_uri": "https://localhost:8080/"
        },
        "id": "OkskZzD7OBmK",
        "outputId": "f40c5402-f6b2-455f-bcc6-e2fb575fabd0"
      },
      "outputs": [
        {
          "output_type": "stream",
          "name": "stdout",
          "text": [
            "Epoch 1/2\n"
          ]
        },
        {
          "output_type": "stream",
          "name": "stderr",
          "text": [
            "WARNING:tensorflow:Gradients do not exist for variables ['tf_bert_model_2/bert/pooler/dense/kernel:0', 'tf_bert_model_2/bert/pooler/dense/bias:0'] when minimizing the loss. If you're using `model.compile()`, did you forget to provide a `loss`argument?\n",
            "WARNING:tensorflow:Gradients do not exist for variables ['tf_bert_model_2/bert/pooler/dense/kernel:0', 'tf_bert_model_2/bert/pooler/dense/bias:0'] when minimizing the loss. If you're using `model.compile()`, did you forget to provide a `loss`argument?\n"
          ]
        },
        {
          "output_type": "stream",
          "name": "stdout",
          "text": [
            "3750/3750 [==============================] - 341s 88ms/step - loss: 3.2665 - accuracy: 0.1289 - val_loss: 2.5080 - val_accuracy: 0.1224\n",
            "Epoch 2/2\n",
            " 233/3750 [>.............................] - ETA: 4:52 - loss: 2.5623 - accuracy: 0.1293"
          ]
        }
      ],
      "source": [
        "pooled_bert_model_history = pooled_bert_model.fit([train_encodings.input_ids, train_encodings.token_type_ids, train_encodings.attention_mask], \n",
        "                                                  nptrain_labels,   \n",
        "                                                  validation_data=([valid_encodings.input_ids, valid_encodings.token_type_ids, valid_encodings.attention_mask], \n",
        "                                                  npdev_labels),    \n",
        "                                                  batch_size=16, \n",
        "                                                  epochs=2)  "
      ]
    },
    {
      "cell_type": "code",
      "execution_count": null,
      "metadata": {
        "id": "qnJFttKmOJTT"
      },
      "outputs": [],
      "source": [
        "score = pooled_bert_model.evaluate([test_encodings.input_ids, test_encodings.token_type_ids, test_encodings.attention_mask], \n",
        "                                                  test_labels) \n",
        "\n",
        "print('Test loss:', score[0]) \n",
        "print('Test accuracy:', score[1])"
      ]
    },
    {
      "cell_type": "code",
      "execution_count": null,
      "metadata": {
        "id": "beCbmWgbTjDB"
      },
      "outputs": [],
      "source": [
        "#run predict for the first three elements in the test data set\n",
        "predictions = pooled_bert_model.predict([test_encodings.input_ids[:3], test_encodings.token_type_ids[:3], test_encodings.attention_mask[:3]])"
      ]
    },
    {
      "cell_type": "code",
      "execution_count": null,
      "metadata": {
        "id": "ak_C5nCHTknv"
      },
      "outputs": [],
      "source": [
        "#run and capture all predictions from our test set using model.predict\n",
        "### YOUR CODE HERE\n",
        "length = len(test_encodings.input_ids)\n",
        "predictions = pooled_bert_model.predict([test_encodings.input_ids[:length], test_encodings.token_type_ids[:length], test_encodings.attention_mask[:length]])\n",
        "### END YOUR CODE\n",
        "\n",
        "#now we need to get the highest probability in the distribution for each prediction\n",
        "#and store that in a tf.Tensor\n",
        "predictions = tf.argmax(predictions, axis=-1)\n",
        "predictions"
      ]
    },
    {
      "cell_type": "code",
      "execution_count": null,
      "metadata": {
        "id": "rtSumGOETrdI"
      },
      "outputs": [],
      "source": [
        "print(classification_report(test_labels, predictions.numpy(), target_names=valid_MBTI))"
      ]
    },
    {
      "cell_type": "code",
      "execution_count": null,
      "metadata": {
        "id": "xFi0fiGiTxMO"
      },
      "outputs": [],
      "source": [
        "cm = tf.math.confusion_matrix(test_labels, predictions)\n",
        "cm = cm/cm.numpy().sum(axis=1)[:, tf.newaxis]\n",
        "plt.figure(figsize=(20,7))\n",
        "sns.heatmap(\n",
        "    cm, annot=True,\n",
        "    xticklabels=valid_MBTI,\n",
        "    yticklabels=valid_MBTI)\n",
        "plt.xlabel(\"Predicted\")\n",
        "plt.ylabel(\"True\")\n"
      ]
    },
    {
      "cell_type": "code",
      "execution_count": null,
      "metadata": {
        "id": "OtOwF_UO4IXh"
      },
      "outputs": [],
      "source": [
        "label_dict = {'neutral': 0, 'entailment': 1, 'contradiction': 2}"
      ]
    },
    {
      "cell_type": "code",
      "execution_count": null,
      "metadata": {
        "id": "5jJAx1Rf4A0y"
      },
      "outputs": [],
      "source": [
        "def preprocess_data(sentence_pairs, label_strs, tokenizer, max_length=128):\n",
        "    # With BERT tokenizer's batch_encode_plus, sentence pairs are\n",
        "    # encoded together and separated by [SEP] token.\n",
        "    encoded = tokenizer.batch_encode_plus(\n",
        "        sentence_pairs,\n",
        "        add_special_tokens=True,\n",
        "        max_length=max_length,\n",
        "        padding='max_length',\n",
        "        truncation=True,\n",
        "        return_attention_mask=True,\n",
        "        return_token_type_ids=True,\n",
        "        return_tensors=\"tf\"\n",
        "    )\n",
        "\n",
        "    # Extract encoded features and labels, add to corresponding lists\n",
        "    input_ids = np.array(encoded[\"input_ids\"], dtype=\"int32\")\n",
        "    attention_masks = np.array(encoded[\"attention_mask\"], dtype=\"int32\")\n",
        "    token_type_ids = np.array(encoded[\"token_type_ids\"], dtype=\"int32\")\n",
        "\n",
        "    # Convert string labels into numbered categories\n",
        "    labels = np.array([label_dict[label] if label in label_dict else 0\n",
        "                       for label in label_strs])\n",
        "    \n",
        "    return [input_ids, attention_masks, token_type_ids], labels"
      ]
    },
    {
      "cell_type": "code",
      "execution_count": null,
      "metadata": {
        "id": "EC1AY98i1wlM"
      },
      "outputs": [],
      "source": [
        "class SNLIDataGeneratorFromFile(tf.keras.utils.Sequence):\n",
        "    \n",
        "    def __init__(self,\n",
        "                 tokenizer,\n",
        "                 n_examples,\n",
        "                 data_filename,\n",
        "                 max_length=128,\n",
        "                 batch_size=32,\n",
        "                 shuffle=True):\n",
        "        \n",
        "        self.tokenizer = tokenizer\n",
        "        self.n_examples = n_examples\n",
        "        self.data_filename = data_filename\n",
        "        self.max_length = max_length\n",
        "        self.batch_size = batch_size\n",
        "        self.shuffle = shuffle\n",
        "        \n",
        "        # Initialize row order, call on_epoch_end to shuffle row indices\n",
        "        self.row_order = np.arange(1, self.n_examples+1)\n",
        "        self.on_epoch_end()\n",
        "    \n",
        "    def __len__(self):\n",
        "        # NOTE: USING REDUCED BATCHES PER EPOCH TO SPEED UP THE LIVE DEMO\n",
        "        # For normal use, this line should be:\n",
        "        return self.n_examples // self.batch_size\n",
        "#        return 100\n",
        "    \n",
        "    def __getitem__(self, idx):\n",
        "        batch_start = idx * self.batch_size\n",
        "        batch_end = (idx + 1) * self.batch_size\n",
        "\n",
        "        # Indices to skip are the ones in the shuffled row_order before and\n",
        "        # after the chunk we'll use for this batch\n",
        "        batch_idx_skip = self.row_order[:batch_start] + self.row_order[batch_end:]\n",
        "        df = pd.read_csv(self.data_filename, skiprows=batch_idx_skip)\n",
        "        \n",
        "        sentence_pairs = df[['sentence1', 'sentence2']].values.astype(str).tolist()\n",
        "        labels = df['similarity'].values\n",
        "        \n",
        "        batch_data = preprocess_data(\n",
        "            sentence_pairs,\n",
        "            labels,\n",
        "            self.tokenizer,\n",
        "            self.max_length\n",
        "        )\n",
        "\n",
        "        return batch_data\n",
        "    \n",
        "    def on_epoch_end(self):\n",
        "        if self.shuffle:\n",
        "            self.row_order = list(np.random.permutation(self.row_order))"
      ]
    },
    {
      "cell_type": "code",
      "execution_count": null,
      "metadata": {
        "id": "kUS7oy1D3m-4"
      },
      "outputs": [],
      "source": [
        "bert_model_name='bert-base-uncased'\n",
        "bert_tokenizer = AutoTokenizer.from_pretrained(bert_model_name)\n",
        "bert_model = TFAutoModel.from_pretrained(bert_model_name)\n",
        "bert_model.trainable = False"
      ]
    },
    {
      "cell_type": "code",
      "execution_count": null,
      "metadata": {
        "id": "U64vPC-L2jOJ"
      },
      "outputs": [],
      "source": [
        "train_data_generator = SNLIDataGeneratorFromFile(\n",
        "    tokenizer=bert_tokenizer,\n",
        "    n_examples=550152,\n",
        "    data_filename=train_mbti_data\n",
        ")"
      ]
    },
    {
      "cell_type": "code",
      "execution_count": null,
      "metadata": {
        "id": "p28IEce22tjf"
      },
      "outputs": [],
      "source": [
        "from google.colab import drive\n",
        "drive.mount('/content/drive')"
      ]
    },
    {
      "cell_type": "code",
      "execution_count": null,
      "metadata": {
        "id": "hf-Lj6Hn2vQs"
      },
      "outputs": [],
      "source": [
        "\n",
        "!ls drive/MyDrive/ISchool/MIDS/W266/2022_Fall/"
      ]
    },
    {
      "cell_type": "code",
      "execution_count": null,
      "metadata": {
        "id": "ddtGMx3w244I"
      },
      "outputs": [],
      "source": [
        "# CHANGE checkpoint_dir TO THE PATH IN YOUR OWN DRIVE WHERE YOU WANT TO SAVE CHECKPOINTS\n",
        "\n",
        "checkpoint_dir = 'drive/MyDrive/ISchool/MIDS/W266/2022_Fall/model_checkpoints/'\n",
        "checkpoint_filepath = checkpoint_dir + 'weights.{epoch:02d}-{val_accuracy:.2f}.hdf5'\n",
        "model_checkpoint_callback = tf.keras.callbacks.ModelCheckpoint(\n",
        "    filepath=checkpoint_filepath,\n",
        "    save_weights_only=True)"
      ]
    },
    {
      "cell_type": "code",
      "execution_count": null,
      "metadata": {
        "id": "KJ8tI-AX3tpy"
      },
      "outputs": [],
      "source": [
        "model = build_snli_model(bert_model, max_length=128, hidden_dim=256)\n",
        "model.summary()"
      ]
    },
    {
      "cell_type": "code",
      "execution_count": null,
      "metadata": {
        "id": "3KfiAUkY26eN"
      },
      "outputs": [],
      "source": [
        "model.fit(train_data_generator, validation_data=dev_data, epochs=5,\n",
        "          callbacks=[model_checkpoint_callback])"
      ]
    },
    {
      "cell_type": "markdown",
      "metadata": {
        "id": "VZJoIBQnpq9s"
      },
      "source": [
        "# **Running Our Initial Models**\n",
        "\n",
        "We begin our analysis by performing unigram vectorization of the text field in the training and dev datasets. We attempt the use of two models - Logistical Regression and Naive Bayes. We also perform some analysis of the usefulness of a custom preprocessor for the text. For our vectorization, we have chosen TFID. \n"
      ]
    }
  ],
  "metadata": {
    "accelerator": "GPU",
    "colab": {
      "collapsed_sections": [],
      "machine_shape": "hm",
      "provenance": []
    },
    "gpuClass": "premium",
    "kernelspec": {
      "display_name": "Python 3",
      "name": "python3"
    },
    "language_info": {
      "name": "python"
    }
  },
  "nbformat": 4,
  "nbformat_minor": 0
}