{
  "nbformat": 4,
  "nbformat_minor": 0,
  "metadata": {
    "colab": {
      "provenance": [],
      "collapsed_sections": [],
      "machine_shape": "hm",
      "mount_file_id": "1L1aOOai10dxkM_JQt_qiScLfdpv98KBf",
      "authorship_tag": "ABX9TyMkYCLj7G1OJQQiAk5GJFE7",
      "include_colab_link": true
    },
    "kernelspec": {
      "name": "python3",
      "display_name": "Python 3"
    },
    "language_info": {
      "name": "python"
    },
    "widgets": {
      "application/vnd.jupyter.widget-state+json": {
        "a127ae513b7f4e448375d65342b78e13": {
          "model_module": "@jupyter-widgets/controls",
          "model_name": "HBoxModel",
          "model_module_version": "1.5.0",
          "state": {
            "_dom_classes": [],
            "_model_module": "@jupyter-widgets/controls",
            "_model_module_version": "1.5.0",
            "_model_name": "HBoxModel",
            "_view_count": null,
            "_view_module": "@jupyter-widgets/controls",
            "_view_module_version": "1.5.0",
            "_view_name": "HBoxView",
            "box_style": "",
            "children": [
              "IPY_MODEL_7abbc15fe24f4c1b93e0b40d78d51536",
              "IPY_MODEL_b05363bb011143d0a607b01790323c0c",
              "IPY_MODEL_943747ed5fab4ac9aa0a25a4bb7a83e1"
            ],
            "layout": "IPY_MODEL_3adc99fa86f04eb5bf35080b23252547"
          }
        },
        "7abbc15fe24f4c1b93e0b40d78d51536": {
          "model_module": "@jupyter-widgets/controls",
          "model_name": "HTMLModel",
          "model_module_version": "1.5.0",
          "state": {
            "_dom_classes": [],
            "_model_module": "@jupyter-widgets/controls",
            "_model_module_version": "1.5.0",
            "_model_name": "HTMLModel",
            "_view_count": null,
            "_view_module": "@jupyter-widgets/controls",
            "_view_module_version": "1.5.0",
            "_view_name": "HTMLView",
            "description": "",
            "description_tooltip": null,
            "layout": "IPY_MODEL_ec8608e6aec34262a6df1bfb6726082d",
            "placeholder": "​",
            "style": "IPY_MODEL_f54589c424ce454b885ea8184fefcbd5",
            "value": "Downloading: 100%"
          }
        },
        "b05363bb011143d0a607b01790323c0c": {
          "model_module": "@jupyter-widgets/controls",
          "model_name": "FloatProgressModel",
          "model_module_version": "1.5.0",
          "state": {
            "_dom_classes": [],
            "_model_module": "@jupyter-widgets/controls",
            "_model_module_version": "1.5.0",
            "_model_name": "FloatProgressModel",
            "_view_count": null,
            "_view_module": "@jupyter-widgets/controls",
            "_view_module_version": "1.5.0",
            "_view_name": "ProgressView",
            "bar_style": "success",
            "description": "",
            "description_tooltip": null,
            "layout": "IPY_MODEL_c628c90356a44eb78ede54a0c0d3f7b0",
            "max": 29,
            "min": 0,
            "orientation": "horizontal",
            "style": "IPY_MODEL_c8b556ae01a44f7e9e59d9b4da4ebf07",
            "value": 29
          }
        },
        "943747ed5fab4ac9aa0a25a4bb7a83e1": {
          "model_module": "@jupyter-widgets/controls",
          "model_name": "HTMLModel",
          "model_module_version": "1.5.0",
          "state": {
            "_dom_classes": [],
            "_model_module": "@jupyter-widgets/controls",
            "_model_module_version": "1.5.0",
            "_model_name": "HTMLModel",
            "_view_count": null,
            "_view_module": "@jupyter-widgets/controls",
            "_view_module_version": "1.5.0",
            "_view_name": "HTMLView",
            "description": "",
            "description_tooltip": null,
            "layout": "IPY_MODEL_1f5578c49a834398a6840a72dce84cb3",
            "placeholder": "​",
            "style": "IPY_MODEL_55c1fbd3f49b437aad96a4f58145aede",
            "value": " 29.0/29.0 [00:00&lt;00:00, 1.21kB/s]"
          }
        },
        "3adc99fa86f04eb5bf35080b23252547": {
          "model_module": "@jupyter-widgets/base",
          "model_name": "LayoutModel",
          "model_module_version": "1.2.0",
          "state": {
            "_model_module": "@jupyter-widgets/base",
            "_model_module_version": "1.2.0",
            "_model_name": "LayoutModel",
            "_view_count": null,
            "_view_module": "@jupyter-widgets/base",
            "_view_module_version": "1.2.0",
            "_view_name": "LayoutView",
            "align_content": null,
            "align_items": null,
            "align_self": null,
            "border": null,
            "bottom": null,
            "display": null,
            "flex": null,
            "flex_flow": null,
            "grid_area": null,
            "grid_auto_columns": null,
            "grid_auto_flow": null,
            "grid_auto_rows": null,
            "grid_column": null,
            "grid_gap": null,
            "grid_row": null,
            "grid_template_areas": null,
            "grid_template_columns": null,
            "grid_template_rows": null,
            "height": null,
            "justify_content": null,
            "justify_items": null,
            "left": null,
            "margin": null,
            "max_height": null,
            "max_width": null,
            "min_height": null,
            "min_width": null,
            "object_fit": null,
            "object_position": null,
            "order": null,
            "overflow": null,
            "overflow_x": null,
            "overflow_y": null,
            "padding": null,
            "right": null,
            "top": null,
            "visibility": null,
            "width": null
          }
        },
        "ec8608e6aec34262a6df1bfb6726082d": {
          "model_module": "@jupyter-widgets/base",
          "model_name": "LayoutModel",
          "model_module_version": "1.2.0",
          "state": {
            "_model_module": "@jupyter-widgets/base",
            "_model_module_version": "1.2.0",
            "_model_name": "LayoutModel",
            "_view_count": null,
            "_view_module": "@jupyter-widgets/base",
            "_view_module_version": "1.2.0",
            "_view_name": "LayoutView",
            "align_content": null,
            "align_items": null,
            "align_self": null,
            "border": null,
            "bottom": null,
            "display": null,
            "flex": null,
            "flex_flow": null,
            "grid_area": null,
            "grid_auto_columns": null,
            "grid_auto_flow": null,
            "grid_auto_rows": null,
            "grid_column": null,
            "grid_gap": null,
            "grid_row": null,
            "grid_template_areas": null,
            "grid_template_columns": null,
            "grid_template_rows": null,
            "height": null,
            "justify_content": null,
            "justify_items": null,
            "left": null,
            "margin": null,
            "max_height": null,
            "max_width": null,
            "min_height": null,
            "min_width": null,
            "object_fit": null,
            "object_position": null,
            "order": null,
            "overflow": null,
            "overflow_x": null,
            "overflow_y": null,
            "padding": null,
            "right": null,
            "top": null,
            "visibility": null,
            "width": null
          }
        },
        "f54589c424ce454b885ea8184fefcbd5": {
          "model_module": "@jupyter-widgets/controls",
          "model_name": "DescriptionStyleModel",
          "model_module_version": "1.5.0",
          "state": {
            "_model_module": "@jupyter-widgets/controls",
            "_model_module_version": "1.5.0",
            "_model_name": "DescriptionStyleModel",
            "_view_count": null,
            "_view_module": "@jupyter-widgets/base",
            "_view_module_version": "1.2.0",
            "_view_name": "StyleView",
            "description_width": ""
          }
        },
        "c628c90356a44eb78ede54a0c0d3f7b0": {
          "model_module": "@jupyter-widgets/base",
          "model_name": "LayoutModel",
          "model_module_version": "1.2.0",
          "state": {
            "_model_module": "@jupyter-widgets/base",
            "_model_module_version": "1.2.0",
            "_model_name": "LayoutModel",
            "_view_count": null,
            "_view_module": "@jupyter-widgets/base",
            "_view_module_version": "1.2.0",
            "_view_name": "LayoutView",
            "align_content": null,
            "align_items": null,
            "align_self": null,
            "border": null,
            "bottom": null,
            "display": null,
            "flex": null,
            "flex_flow": null,
            "grid_area": null,
            "grid_auto_columns": null,
            "grid_auto_flow": null,
            "grid_auto_rows": null,
            "grid_column": null,
            "grid_gap": null,
            "grid_row": null,
            "grid_template_areas": null,
            "grid_template_columns": null,
            "grid_template_rows": null,
            "height": null,
            "justify_content": null,
            "justify_items": null,
            "left": null,
            "margin": null,
            "max_height": null,
            "max_width": null,
            "min_height": null,
            "min_width": null,
            "object_fit": null,
            "object_position": null,
            "order": null,
            "overflow": null,
            "overflow_x": null,
            "overflow_y": null,
            "padding": null,
            "right": null,
            "top": null,
            "visibility": null,
            "width": null
          }
        },
        "c8b556ae01a44f7e9e59d9b4da4ebf07": {
          "model_module": "@jupyter-widgets/controls",
          "model_name": "ProgressStyleModel",
          "model_module_version": "1.5.0",
          "state": {
            "_model_module": "@jupyter-widgets/controls",
            "_model_module_version": "1.5.0",
            "_model_name": "ProgressStyleModel",
            "_view_count": null,
            "_view_module": "@jupyter-widgets/base",
            "_view_module_version": "1.2.0",
            "_view_name": "StyleView",
            "bar_color": null,
            "description_width": ""
          }
        },
        "1f5578c49a834398a6840a72dce84cb3": {
          "model_module": "@jupyter-widgets/base",
          "model_name": "LayoutModel",
          "model_module_version": "1.2.0",
          "state": {
            "_model_module": "@jupyter-widgets/base",
            "_model_module_version": "1.2.0",
            "_model_name": "LayoutModel",
            "_view_count": null,
            "_view_module": "@jupyter-widgets/base",
            "_view_module_version": "1.2.0",
            "_view_name": "LayoutView",
            "align_content": null,
            "align_items": null,
            "align_self": null,
            "border": null,
            "bottom": null,
            "display": null,
            "flex": null,
            "flex_flow": null,
            "grid_area": null,
            "grid_auto_columns": null,
            "grid_auto_flow": null,
            "grid_auto_rows": null,
            "grid_column": null,
            "grid_gap": null,
            "grid_row": null,
            "grid_template_areas": null,
            "grid_template_columns": null,
            "grid_template_rows": null,
            "height": null,
            "justify_content": null,
            "justify_items": null,
            "left": null,
            "margin": null,
            "max_height": null,
            "max_width": null,
            "min_height": null,
            "min_width": null,
            "object_fit": null,
            "object_position": null,
            "order": null,
            "overflow": null,
            "overflow_x": null,
            "overflow_y": null,
            "padding": null,
            "right": null,
            "top": null,
            "visibility": null,
            "width": null
          }
        },
        "55c1fbd3f49b437aad96a4f58145aede": {
          "model_module": "@jupyter-widgets/controls",
          "model_name": "DescriptionStyleModel",
          "model_module_version": "1.5.0",
          "state": {
            "_model_module": "@jupyter-widgets/controls",
            "_model_module_version": "1.5.0",
            "_model_name": "DescriptionStyleModel",
            "_view_count": null,
            "_view_module": "@jupyter-widgets/base",
            "_view_module_version": "1.2.0",
            "_view_name": "StyleView",
            "description_width": ""
          }
        },
        "9d844877d89745939e75609372746471": {
          "model_module": "@jupyter-widgets/controls",
          "model_name": "HBoxModel",
          "model_module_version": "1.5.0",
          "state": {
            "_dom_classes": [],
            "_model_module": "@jupyter-widgets/controls",
            "_model_module_version": "1.5.0",
            "_model_name": "HBoxModel",
            "_view_count": null,
            "_view_module": "@jupyter-widgets/controls",
            "_view_module_version": "1.5.0",
            "_view_name": "HBoxView",
            "box_style": "",
            "children": [
              "IPY_MODEL_37192482450d4a4fb1c42a69347a6e29",
              "IPY_MODEL_09d62252d3704fa988af0ffa88eef2fe",
              "IPY_MODEL_b33de092df14461fa8e7dcbd9dc1a227"
            ],
            "layout": "IPY_MODEL_7a95f4706c9b448da98c5b7dafd0e331"
          }
        },
        "37192482450d4a4fb1c42a69347a6e29": {
          "model_module": "@jupyter-widgets/controls",
          "model_name": "HTMLModel",
          "model_module_version": "1.5.0",
          "state": {
            "_dom_classes": [],
            "_model_module": "@jupyter-widgets/controls",
            "_model_module_version": "1.5.0",
            "_model_name": "HTMLModel",
            "_view_count": null,
            "_view_module": "@jupyter-widgets/controls",
            "_view_module_version": "1.5.0",
            "_view_name": "HTMLView",
            "description": "",
            "description_tooltip": null,
            "layout": "IPY_MODEL_fd685b17fab448d9a532278a16cebc10",
            "placeholder": "​",
            "style": "IPY_MODEL_3ec9f848be034139a816b84dcdeb5447",
            "value": "Downloading: 100%"
          }
        },
        "09d62252d3704fa988af0ffa88eef2fe": {
          "model_module": "@jupyter-widgets/controls",
          "model_name": "FloatProgressModel",
          "model_module_version": "1.5.0",
          "state": {
            "_dom_classes": [],
            "_model_module": "@jupyter-widgets/controls",
            "_model_module_version": "1.5.0",
            "_model_name": "FloatProgressModel",
            "_view_count": null,
            "_view_module": "@jupyter-widgets/controls",
            "_view_module_version": "1.5.0",
            "_view_name": "ProgressView",
            "bar_style": "success",
            "description": "",
            "description_tooltip": null,
            "layout": "IPY_MODEL_b7d4b552107f469fa84cc445713c7639",
            "max": 570,
            "min": 0,
            "orientation": "horizontal",
            "style": "IPY_MODEL_319c323450e34931b39525db2373b491",
            "value": 570
          }
        },
        "b33de092df14461fa8e7dcbd9dc1a227": {
          "model_module": "@jupyter-widgets/controls",
          "model_name": "HTMLModel",
          "model_module_version": "1.5.0",
          "state": {
            "_dom_classes": [],
            "_model_module": "@jupyter-widgets/controls",
            "_model_module_version": "1.5.0",
            "_model_name": "HTMLModel",
            "_view_count": null,
            "_view_module": "@jupyter-widgets/controls",
            "_view_module_version": "1.5.0",
            "_view_name": "HTMLView",
            "description": "",
            "description_tooltip": null,
            "layout": "IPY_MODEL_e289f0e66dba4befb946d31f1585c319",
            "placeholder": "​",
            "style": "IPY_MODEL_c106f337c64f40d2b53b0c908443461e",
            "value": " 570/570 [00:00&lt;00:00, 15.4kB/s]"
          }
        },
        "7a95f4706c9b448da98c5b7dafd0e331": {
          "model_module": "@jupyter-widgets/base",
          "model_name": "LayoutModel",
          "model_module_version": "1.2.0",
          "state": {
            "_model_module": "@jupyter-widgets/base",
            "_model_module_version": "1.2.0",
            "_model_name": "LayoutModel",
            "_view_count": null,
            "_view_module": "@jupyter-widgets/base",
            "_view_module_version": "1.2.0",
            "_view_name": "LayoutView",
            "align_content": null,
            "align_items": null,
            "align_self": null,
            "border": null,
            "bottom": null,
            "display": null,
            "flex": null,
            "flex_flow": null,
            "grid_area": null,
            "grid_auto_columns": null,
            "grid_auto_flow": null,
            "grid_auto_rows": null,
            "grid_column": null,
            "grid_gap": null,
            "grid_row": null,
            "grid_template_areas": null,
            "grid_template_columns": null,
            "grid_template_rows": null,
            "height": null,
            "justify_content": null,
            "justify_items": null,
            "left": null,
            "margin": null,
            "max_height": null,
            "max_width": null,
            "min_height": null,
            "min_width": null,
            "object_fit": null,
            "object_position": null,
            "order": null,
            "overflow": null,
            "overflow_x": null,
            "overflow_y": null,
            "padding": null,
            "right": null,
            "top": null,
            "visibility": null,
            "width": null
          }
        },
        "fd685b17fab448d9a532278a16cebc10": {
          "model_module": "@jupyter-widgets/base",
          "model_name": "LayoutModel",
          "model_module_version": "1.2.0",
          "state": {
            "_model_module": "@jupyter-widgets/base",
            "_model_module_version": "1.2.0",
            "_model_name": "LayoutModel",
            "_view_count": null,
            "_view_module": "@jupyter-widgets/base",
            "_view_module_version": "1.2.0",
            "_view_name": "LayoutView",
            "align_content": null,
            "align_items": null,
            "align_self": null,
            "border": null,
            "bottom": null,
            "display": null,
            "flex": null,
            "flex_flow": null,
            "grid_area": null,
            "grid_auto_columns": null,
            "grid_auto_flow": null,
            "grid_auto_rows": null,
            "grid_column": null,
            "grid_gap": null,
            "grid_row": null,
            "grid_template_areas": null,
            "grid_template_columns": null,
            "grid_template_rows": null,
            "height": null,
            "justify_content": null,
            "justify_items": null,
            "left": null,
            "margin": null,
            "max_height": null,
            "max_width": null,
            "min_height": null,
            "min_width": null,
            "object_fit": null,
            "object_position": null,
            "order": null,
            "overflow": null,
            "overflow_x": null,
            "overflow_y": null,
            "padding": null,
            "right": null,
            "top": null,
            "visibility": null,
            "width": null
          }
        },
        "3ec9f848be034139a816b84dcdeb5447": {
          "model_module": "@jupyter-widgets/controls",
          "model_name": "DescriptionStyleModel",
          "model_module_version": "1.5.0",
          "state": {
            "_model_module": "@jupyter-widgets/controls",
            "_model_module_version": "1.5.0",
            "_model_name": "DescriptionStyleModel",
            "_view_count": null,
            "_view_module": "@jupyter-widgets/base",
            "_view_module_version": "1.2.0",
            "_view_name": "StyleView",
            "description_width": ""
          }
        },
        "b7d4b552107f469fa84cc445713c7639": {
          "model_module": "@jupyter-widgets/base",
          "model_name": "LayoutModel",
          "model_module_version": "1.2.0",
          "state": {
            "_model_module": "@jupyter-widgets/base",
            "_model_module_version": "1.2.0",
            "_model_name": "LayoutModel",
            "_view_count": null,
            "_view_module": "@jupyter-widgets/base",
            "_view_module_version": "1.2.0",
            "_view_name": "LayoutView",
            "align_content": null,
            "align_items": null,
            "align_self": null,
            "border": null,
            "bottom": null,
            "display": null,
            "flex": null,
            "flex_flow": null,
            "grid_area": null,
            "grid_auto_columns": null,
            "grid_auto_flow": null,
            "grid_auto_rows": null,
            "grid_column": null,
            "grid_gap": null,
            "grid_row": null,
            "grid_template_areas": null,
            "grid_template_columns": null,
            "grid_template_rows": null,
            "height": null,
            "justify_content": null,
            "justify_items": null,
            "left": null,
            "margin": null,
            "max_height": null,
            "max_width": null,
            "min_height": null,
            "min_width": null,
            "object_fit": null,
            "object_position": null,
            "order": null,
            "overflow": null,
            "overflow_x": null,
            "overflow_y": null,
            "padding": null,
            "right": null,
            "top": null,
            "visibility": null,
            "width": null
          }
        },
        "319c323450e34931b39525db2373b491": {
          "model_module": "@jupyter-widgets/controls",
          "model_name": "ProgressStyleModel",
          "model_module_version": "1.5.0",
          "state": {
            "_model_module": "@jupyter-widgets/controls",
            "_model_module_version": "1.5.0",
            "_model_name": "ProgressStyleModel",
            "_view_count": null,
            "_view_module": "@jupyter-widgets/base",
            "_view_module_version": "1.2.0",
            "_view_name": "StyleView",
            "bar_color": null,
            "description_width": ""
          }
        },
        "e289f0e66dba4befb946d31f1585c319": {
          "model_module": "@jupyter-widgets/base",
          "model_name": "LayoutModel",
          "model_module_version": "1.2.0",
          "state": {
            "_model_module": "@jupyter-widgets/base",
            "_model_module_version": "1.2.0",
            "_model_name": "LayoutModel",
            "_view_count": null,
            "_view_module": "@jupyter-widgets/base",
            "_view_module_version": "1.2.0",
            "_view_name": "LayoutView",
            "align_content": null,
            "align_items": null,
            "align_self": null,
            "border": null,
            "bottom": null,
            "display": null,
            "flex": null,
            "flex_flow": null,
            "grid_area": null,
            "grid_auto_columns": null,
            "grid_auto_flow": null,
            "grid_auto_rows": null,
            "grid_column": null,
            "grid_gap": null,
            "grid_row": null,
            "grid_template_areas": null,
            "grid_template_columns": null,
            "grid_template_rows": null,
            "height": null,
            "justify_content": null,
            "justify_items": null,
            "left": null,
            "margin": null,
            "max_height": null,
            "max_width": null,
            "min_height": null,
            "min_width": null,
            "object_fit": null,
            "object_position": null,
            "order": null,
            "overflow": null,
            "overflow_x": null,
            "overflow_y": null,
            "padding": null,
            "right": null,
            "top": null,
            "visibility": null,
            "width": null
          }
        },
        "c106f337c64f40d2b53b0c908443461e": {
          "model_module": "@jupyter-widgets/controls",
          "model_name": "DescriptionStyleModel",
          "model_module_version": "1.5.0",
          "state": {
            "_model_module": "@jupyter-widgets/controls",
            "_model_module_version": "1.5.0",
            "_model_name": "DescriptionStyleModel",
            "_view_count": null,
            "_view_module": "@jupyter-widgets/base",
            "_view_module_version": "1.2.0",
            "_view_name": "StyleView",
            "description_width": ""
          }
        },
        "340badacf70f402399501e095f6e9498": {
          "model_module": "@jupyter-widgets/controls",
          "model_name": "HBoxModel",
          "model_module_version": "1.5.0",
          "state": {
            "_dom_classes": [],
            "_model_module": "@jupyter-widgets/controls",
            "_model_module_version": "1.5.0",
            "_model_name": "HBoxModel",
            "_view_count": null,
            "_view_module": "@jupyter-widgets/controls",
            "_view_module_version": "1.5.0",
            "_view_name": "HBoxView",
            "box_style": "",
            "children": [
              "IPY_MODEL_6c676f7b0dc14f5f8bef09254f23cd87",
              "IPY_MODEL_00f403b74ec044208ffafaca53665388",
              "IPY_MODEL_1d08932f027c4b60bbca2c742aadd713"
            ],
            "layout": "IPY_MODEL_02f3fb62a3c6438883fb3a5430f2c653"
          }
        },
        "6c676f7b0dc14f5f8bef09254f23cd87": {
          "model_module": "@jupyter-widgets/controls",
          "model_name": "HTMLModel",
          "model_module_version": "1.5.0",
          "state": {
            "_dom_classes": [],
            "_model_module": "@jupyter-widgets/controls",
            "_model_module_version": "1.5.0",
            "_model_name": "HTMLModel",
            "_view_count": null,
            "_view_module": "@jupyter-widgets/controls",
            "_view_module_version": "1.5.0",
            "_view_name": "HTMLView",
            "description": "",
            "description_tooltip": null,
            "layout": "IPY_MODEL_3c117b5a96c54eceb79228481f3f06cb",
            "placeholder": "​",
            "style": "IPY_MODEL_d3162610c98d43ee878dd5a6a05fc49d",
            "value": "Downloading: 100%"
          }
        },
        "00f403b74ec044208ffafaca53665388": {
          "model_module": "@jupyter-widgets/controls",
          "model_name": "FloatProgressModel",
          "model_module_version": "1.5.0",
          "state": {
            "_dom_classes": [],
            "_model_module": "@jupyter-widgets/controls",
            "_model_module_version": "1.5.0",
            "_model_name": "FloatProgressModel",
            "_view_count": null,
            "_view_module": "@jupyter-widgets/controls",
            "_view_module_version": "1.5.0",
            "_view_name": "ProgressView",
            "bar_style": "success",
            "description": "",
            "description_tooltip": null,
            "layout": "IPY_MODEL_f6e04c68df2e4a8ba248b8492f653d95",
            "max": 213450,
            "min": 0,
            "orientation": "horizontal",
            "style": "IPY_MODEL_7ac8d564ad544b18b8b5fdf968ed1b7d",
            "value": 213450
          }
        },
        "1d08932f027c4b60bbca2c742aadd713": {
          "model_module": "@jupyter-widgets/controls",
          "model_name": "HTMLModel",
          "model_module_version": "1.5.0",
          "state": {
            "_dom_classes": [],
            "_model_module": "@jupyter-widgets/controls",
            "_model_module_version": "1.5.0",
            "_model_name": "HTMLModel",
            "_view_count": null,
            "_view_module": "@jupyter-widgets/controls",
            "_view_module_version": "1.5.0",
            "_view_name": "HTMLView",
            "description": "",
            "description_tooltip": null,
            "layout": "IPY_MODEL_c890c1404b194791a4ff7f546f180136",
            "placeholder": "​",
            "style": "IPY_MODEL_3a6de975603947429c048ecd9b755918",
            "value": " 213k/213k [00:00&lt;00:00, 325kB/s]"
          }
        },
        "02f3fb62a3c6438883fb3a5430f2c653": {
          "model_module": "@jupyter-widgets/base",
          "model_name": "LayoutModel",
          "model_module_version": "1.2.0",
          "state": {
            "_model_module": "@jupyter-widgets/base",
            "_model_module_version": "1.2.0",
            "_model_name": "LayoutModel",
            "_view_count": null,
            "_view_module": "@jupyter-widgets/base",
            "_view_module_version": "1.2.0",
            "_view_name": "LayoutView",
            "align_content": null,
            "align_items": null,
            "align_self": null,
            "border": null,
            "bottom": null,
            "display": null,
            "flex": null,
            "flex_flow": null,
            "grid_area": null,
            "grid_auto_columns": null,
            "grid_auto_flow": null,
            "grid_auto_rows": null,
            "grid_column": null,
            "grid_gap": null,
            "grid_row": null,
            "grid_template_areas": null,
            "grid_template_columns": null,
            "grid_template_rows": null,
            "height": null,
            "justify_content": null,
            "justify_items": null,
            "left": null,
            "margin": null,
            "max_height": null,
            "max_width": null,
            "min_height": null,
            "min_width": null,
            "object_fit": null,
            "object_position": null,
            "order": null,
            "overflow": null,
            "overflow_x": null,
            "overflow_y": null,
            "padding": null,
            "right": null,
            "top": null,
            "visibility": null,
            "width": null
          }
        },
        "3c117b5a96c54eceb79228481f3f06cb": {
          "model_module": "@jupyter-widgets/base",
          "model_name": "LayoutModel",
          "model_module_version": "1.2.0",
          "state": {
            "_model_module": "@jupyter-widgets/base",
            "_model_module_version": "1.2.0",
            "_model_name": "LayoutModel",
            "_view_count": null,
            "_view_module": "@jupyter-widgets/base",
            "_view_module_version": "1.2.0",
            "_view_name": "LayoutView",
            "align_content": null,
            "align_items": null,
            "align_self": null,
            "border": null,
            "bottom": null,
            "display": null,
            "flex": null,
            "flex_flow": null,
            "grid_area": null,
            "grid_auto_columns": null,
            "grid_auto_flow": null,
            "grid_auto_rows": null,
            "grid_column": null,
            "grid_gap": null,
            "grid_row": null,
            "grid_template_areas": null,
            "grid_template_columns": null,
            "grid_template_rows": null,
            "height": null,
            "justify_content": null,
            "justify_items": null,
            "left": null,
            "margin": null,
            "max_height": null,
            "max_width": null,
            "min_height": null,
            "min_width": null,
            "object_fit": null,
            "object_position": null,
            "order": null,
            "overflow": null,
            "overflow_x": null,
            "overflow_y": null,
            "padding": null,
            "right": null,
            "top": null,
            "visibility": null,
            "width": null
          }
        },
        "d3162610c98d43ee878dd5a6a05fc49d": {
          "model_module": "@jupyter-widgets/controls",
          "model_name": "DescriptionStyleModel",
          "model_module_version": "1.5.0",
          "state": {
            "_model_module": "@jupyter-widgets/controls",
            "_model_module_version": "1.5.0",
            "_model_name": "DescriptionStyleModel",
            "_view_count": null,
            "_view_module": "@jupyter-widgets/base",
            "_view_module_version": "1.2.0",
            "_view_name": "StyleView",
            "description_width": ""
          }
        },
        "f6e04c68df2e4a8ba248b8492f653d95": {
          "model_module": "@jupyter-widgets/base",
          "model_name": "LayoutModel",
          "model_module_version": "1.2.0",
          "state": {
            "_model_module": "@jupyter-widgets/base",
            "_model_module_version": "1.2.0",
            "_model_name": "LayoutModel",
            "_view_count": null,
            "_view_module": "@jupyter-widgets/base",
            "_view_module_version": "1.2.0",
            "_view_name": "LayoutView",
            "align_content": null,
            "align_items": null,
            "align_self": null,
            "border": null,
            "bottom": null,
            "display": null,
            "flex": null,
            "flex_flow": null,
            "grid_area": null,
            "grid_auto_columns": null,
            "grid_auto_flow": null,
            "grid_auto_rows": null,
            "grid_column": null,
            "grid_gap": null,
            "grid_row": null,
            "grid_template_areas": null,
            "grid_template_columns": null,
            "grid_template_rows": null,
            "height": null,
            "justify_content": null,
            "justify_items": null,
            "left": null,
            "margin": null,
            "max_height": null,
            "max_width": null,
            "min_height": null,
            "min_width": null,
            "object_fit": null,
            "object_position": null,
            "order": null,
            "overflow": null,
            "overflow_x": null,
            "overflow_y": null,
            "padding": null,
            "right": null,
            "top": null,
            "visibility": null,
            "width": null
          }
        },
        "7ac8d564ad544b18b8b5fdf968ed1b7d": {
          "model_module": "@jupyter-widgets/controls",
          "model_name": "ProgressStyleModel",
          "model_module_version": "1.5.0",
          "state": {
            "_model_module": "@jupyter-widgets/controls",
            "_model_module_version": "1.5.0",
            "_model_name": "ProgressStyleModel",
            "_view_count": null,
            "_view_module": "@jupyter-widgets/base",
            "_view_module_version": "1.2.0",
            "_view_name": "StyleView",
            "bar_color": null,
            "description_width": ""
          }
        },
        "c890c1404b194791a4ff7f546f180136": {
          "model_module": "@jupyter-widgets/base",
          "model_name": "LayoutModel",
          "model_module_version": "1.2.0",
          "state": {
            "_model_module": "@jupyter-widgets/base",
            "_model_module_version": "1.2.0",
            "_model_name": "LayoutModel",
            "_view_count": null,
            "_view_module": "@jupyter-widgets/base",
            "_view_module_version": "1.2.0",
            "_view_name": "LayoutView",
            "align_content": null,
            "align_items": null,
            "align_self": null,
            "border": null,
            "bottom": null,
            "display": null,
            "flex": null,
            "flex_flow": null,
            "grid_area": null,
            "grid_auto_columns": null,
            "grid_auto_flow": null,
            "grid_auto_rows": null,
            "grid_column": null,
            "grid_gap": null,
            "grid_row": null,
            "grid_template_areas": null,
            "grid_template_columns": null,
            "grid_template_rows": null,
            "height": null,
            "justify_content": null,
            "justify_items": null,
            "left": null,
            "margin": null,
            "max_height": null,
            "max_width": null,
            "min_height": null,
            "min_width": null,
            "object_fit": null,
            "object_position": null,
            "order": null,
            "overflow": null,
            "overflow_x": null,
            "overflow_y": null,
            "padding": null,
            "right": null,
            "top": null,
            "visibility": null,
            "width": null
          }
        },
        "3a6de975603947429c048ecd9b755918": {
          "model_module": "@jupyter-widgets/controls",
          "model_name": "DescriptionStyleModel",
          "model_module_version": "1.5.0",
          "state": {
            "_model_module": "@jupyter-widgets/controls",
            "_model_module_version": "1.5.0",
            "_model_name": "DescriptionStyleModel",
            "_view_count": null,
            "_view_module": "@jupyter-widgets/base",
            "_view_module_version": "1.2.0",
            "_view_name": "StyleView",
            "description_width": ""
          }
        },
        "ee29b64ea0404afbbb4981f6e3081624": {
          "model_module": "@jupyter-widgets/controls",
          "model_name": "HBoxModel",
          "model_module_version": "1.5.0",
          "state": {
            "_dom_classes": [],
            "_model_module": "@jupyter-widgets/controls",
            "_model_module_version": "1.5.0",
            "_model_name": "HBoxModel",
            "_view_count": null,
            "_view_module": "@jupyter-widgets/controls",
            "_view_module_version": "1.5.0",
            "_view_name": "HBoxView",
            "box_style": "",
            "children": [
              "IPY_MODEL_79b500f51c314c6089a5e194258ccf05",
              "IPY_MODEL_a4f32fe330834f48b756713bb7392357",
              "IPY_MODEL_58dba46057474f00afa5904b6394369d"
            ],
            "layout": "IPY_MODEL_78b71e55c4724be997c9e1ff1dd6c506"
          }
        },
        "79b500f51c314c6089a5e194258ccf05": {
          "model_module": "@jupyter-widgets/controls",
          "model_name": "HTMLModel",
          "model_module_version": "1.5.0",
          "state": {
            "_dom_classes": [],
            "_model_module": "@jupyter-widgets/controls",
            "_model_module_version": "1.5.0",
            "_model_name": "HTMLModel",
            "_view_count": null,
            "_view_module": "@jupyter-widgets/controls",
            "_view_module_version": "1.5.0",
            "_view_name": "HTMLView",
            "description": "",
            "description_tooltip": null,
            "layout": "IPY_MODEL_1c352ba940dc4540a5331fadeb814e3e",
            "placeholder": "​",
            "style": "IPY_MODEL_8708a1006dee41c8b099a4f0664c5bed",
            "value": "Downloading: 100%"
          }
        },
        "a4f32fe330834f48b756713bb7392357": {
          "model_module": "@jupyter-widgets/controls",
          "model_name": "FloatProgressModel",
          "model_module_version": "1.5.0",
          "state": {
            "_dom_classes": [],
            "_model_module": "@jupyter-widgets/controls",
            "_model_module_version": "1.5.0",
            "_model_name": "FloatProgressModel",
            "_view_count": null,
            "_view_module": "@jupyter-widgets/controls",
            "_view_module_version": "1.5.0",
            "_view_name": "ProgressView",
            "bar_style": "success",
            "description": "",
            "description_tooltip": null,
            "layout": "IPY_MODEL_f946803ba59b4120ac648532e2c9b662",
            "max": 435797,
            "min": 0,
            "orientation": "horizontal",
            "style": "IPY_MODEL_17037b8e049d43b6b30922558a496753",
            "value": 435797
          }
        },
        "58dba46057474f00afa5904b6394369d": {
          "model_module": "@jupyter-widgets/controls",
          "model_name": "HTMLModel",
          "model_module_version": "1.5.0",
          "state": {
            "_dom_classes": [],
            "_model_module": "@jupyter-widgets/controls",
            "_model_module_version": "1.5.0",
            "_model_name": "HTMLModel",
            "_view_count": null,
            "_view_module": "@jupyter-widgets/controls",
            "_view_module_version": "1.5.0",
            "_view_name": "HTMLView",
            "description": "",
            "description_tooltip": null,
            "layout": "IPY_MODEL_5f0fd5cd3c534400893b01df739f0685",
            "placeholder": "​",
            "style": "IPY_MODEL_8bf5336d927b49a6acc1dc7ad68704c5",
            "value": " 436k/436k [00:00&lt;00:00, 626kB/s]"
          }
        },
        "78b71e55c4724be997c9e1ff1dd6c506": {
          "model_module": "@jupyter-widgets/base",
          "model_name": "LayoutModel",
          "model_module_version": "1.2.0",
          "state": {
            "_model_module": "@jupyter-widgets/base",
            "_model_module_version": "1.2.0",
            "_model_name": "LayoutModel",
            "_view_count": null,
            "_view_module": "@jupyter-widgets/base",
            "_view_module_version": "1.2.0",
            "_view_name": "LayoutView",
            "align_content": null,
            "align_items": null,
            "align_self": null,
            "border": null,
            "bottom": null,
            "display": null,
            "flex": null,
            "flex_flow": null,
            "grid_area": null,
            "grid_auto_columns": null,
            "grid_auto_flow": null,
            "grid_auto_rows": null,
            "grid_column": null,
            "grid_gap": null,
            "grid_row": null,
            "grid_template_areas": null,
            "grid_template_columns": null,
            "grid_template_rows": null,
            "height": null,
            "justify_content": null,
            "justify_items": null,
            "left": null,
            "margin": null,
            "max_height": null,
            "max_width": null,
            "min_height": null,
            "min_width": null,
            "object_fit": null,
            "object_position": null,
            "order": null,
            "overflow": null,
            "overflow_x": null,
            "overflow_y": null,
            "padding": null,
            "right": null,
            "top": null,
            "visibility": null,
            "width": null
          }
        },
        "1c352ba940dc4540a5331fadeb814e3e": {
          "model_module": "@jupyter-widgets/base",
          "model_name": "LayoutModel",
          "model_module_version": "1.2.0",
          "state": {
            "_model_module": "@jupyter-widgets/base",
            "_model_module_version": "1.2.0",
            "_model_name": "LayoutModel",
            "_view_count": null,
            "_view_module": "@jupyter-widgets/base",
            "_view_module_version": "1.2.0",
            "_view_name": "LayoutView",
            "align_content": null,
            "align_items": null,
            "align_self": null,
            "border": null,
            "bottom": null,
            "display": null,
            "flex": null,
            "flex_flow": null,
            "grid_area": null,
            "grid_auto_columns": null,
            "grid_auto_flow": null,
            "grid_auto_rows": null,
            "grid_column": null,
            "grid_gap": null,
            "grid_row": null,
            "grid_template_areas": null,
            "grid_template_columns": null,
            "grid_template_rows": null,
            "height": null,
            "justify_content": null,
            "justify_items": null,
            "left": null,
            "margin": null,
            "max_height": null,
            "max_width": null,
            "min_height": null,
            "min_width": null,
            "object_fit": null,
            "object_position": null,
            "order": null,
            "overflow": null,
            "overflow_x": null,
            "overflow_y": null,
            "padding": null,
            "right": null,
            "top": null,
            "visibility": null,
            "width": null
          }
        },
        "8708a1006dee41c8b099a4f0664c5bed": {
          "model_module": "@jupyter-widgets/controls",
          "model_name": "DescriptionStyleModel",
          "model_module_version": "1.5.0",
          "state": {
            "_model_module": "@jupyter-widgets/controls",
            "_model_module_version": "1.5.0",
            "_model_name": "DescriptionStyleModel",
            "_view_count": null,
            "_view_module": "@jupyter-widgets/base",
            "_view_module_version": "1.2.0",
            "_view_name": "StyleView",
            "description_width": ""
          }
        },
        "f946803ba59b4120ac648532e2c9b662": {
          "model_module": "@jupyter-widgets/base",
          "model_name": "LayoutModel",
          "model_module_version": "1.2.0",
          "state": {
            "_model_module": "@jupyter-widgets/base",
            "_model_module_version": "1.2.0",
            "_model_name": "LayoutModel",
            "_view_count": null,
            "_view_module": "@jupyter-widgets/base",
            "_view_module_version": "1.2.0",
            "_view_name": "LayoutView",
            "align_content": null,
            "align_items": null,
            "align_self": null,
            "border": null,
            "bottom": null,
            "display": null,
            "flex": null,
            "flex_flow": null,
            "grid_area": null,
            "grid_auto_columns": null,
            "grid_auto_flow": null,
            "grid_auto_rows": null,
            "grid_column": null,
            "grid_gap": null,
            "grid_row": null,
            "grid_template_areas": null,
            "grid_template_columns": null,
            "grid_template_rows": null,
            "height": null,
            "justify_content": null,
            "justify_items": null,
            "left": null,
            "margin": null,
            "max_height": null,
            "max_width": null,
            "min_height": null,
            "min_width": null,
            "object_fit": null,
            "object_position": null,
            "order": null,
            "overflow": null,
            "overflow_x": null,
            "overflow_y": null,
            "padding": null,
            "right": null,
            "top": null,
            "visibility": null,
            "width": null
          }
        },
        "17037b8e049d43b6b30922558a496753": {
          "model_module": "@jupyter-widgets/controls",
          "model_name": "ProgressStyleModel",
          "model_module_version": "1.5.0",
          "state": {
            "_model_module": "@jupyter-widgets/controls",
            "_model_module_version": "1.5.0",
            "_model_name": "ProgressStyleModel",
            "_view_count": null,
            "_view_module": "@jupyter-widgets/base",
            "_view_module_version": "1.2.0",
            "_view_name": "StyleView",
            "bar_color": null,
            "description_width": ""
          }
        },
        "5f0fd5cd3c534400893b01df739f0685": {
          "model_module": "@jupyter-widgets/base",
          "model_name": "LayoutModel",
          "model_module_version": "1.2.0",
          "state": {
            "_model_module": "@jupyter-widgets/base",
            "_model_module_version": "1.2.0",
            "_model_name": "LayoutModel",
            "_view_count": null,
            "_view_module": "@jupyter-widgets/base",
            "_view_module_version": "1.2.0",
            "_view_name": "LayoutView",
            "align_content": null,
            "align_items": null,
            "align_self": null,
            "border": null,
            "bottom": null,
            "display": null,
            "flex": null,
            "flex_flow": null,
            "grid_area": null,
            "grid_auto_columns": null,
            "grid_auto_flow": null,
            "grid_auto_rows": null,
            "grid_column": null,
            "grid_gap": null,
            "grid_row": null,
            "grid_template_areas": null,
            "grid_template_columns": null,
            "grid_template_rows": null,
            "height": null,
            "justify_content": null,
            "justify_items": null,
            "left": null,
            "margin": null,
            "max_height": null,
            "max_width": null,
            "min_height": null,
            "min_width": null,
            "object_fit": null,
            "object_position": null,
            "order": null,
            "overflow": null,
            "overflow_x": null,
            "overflow_y": null,
            "padding": null,
            "right": null,
            "top": null,
            "visibility": null,
            "width": null
          }
        },
        "8bf5336d927b49a6acc1dc7ad68704c5": {
          "model_module": "@jupyter-widgets/controls",
          "model_name": "DescriptionStyleModel",
          "model_module_version": "1.5.0",
          "state": {
            "_model_module": "@jupyter-widgets/controls",
            "_model_module_version": "1.5.0",
            "_model_name": "DescriptionStyleModel",
            "_view_count": null,
            "_view_module": "@jupyter-widgets/base",
            "_view_module_version": "1.2.0",
            "_view_name": "StyleView",
            "description_width": ""
          }
        },
        "ece59d4d9d0d48f1b8263e2f4a93cf53": {
          "model_module": "@jupyter-widgets/controls",
          "model_name": "HBoxModel",
          "model_module_version": "1.5.0",
          "state": {
            "_dom_classes": [],
            "_model_module": "@jupyter-widgets/controls",
            "_model_module_version": "1.5.0",
            "_model_name": "HBoxModel",
            "_view_count": null,
            "_view_module": "@jupyter-widgets/controls",
            "_view_module_version": "1.5.0",
            "_view_name": "HBoxView",
            "box_style": "",
            "children": [
              "IPY_MODEL_8d649344e47443b68698c2869528bf83",
              "IPY_MODEL_639b6688ddca40d39da67b82483f81d5",
              "IPY_MODEL_0156538f4fa64650ba7b62ebba5a52ca"
            ],
            "layout": "IPY_MODEL_5825a555d32f4f64b31cd41e49cf3a49"
          }
        },
        "8d649344e47443b68698c2869528bf83": {
          "model_module": "@jupyter-widgets/controls",
          "model_name": "HTMLModel",
          "model_module_version": "1.5.0",
          "state": {
            "_dom_classes": [],
            "_model_module": "@jupyter-widgets/controls",
            "_model_module_version": "1.5.0",
            "_model_name": "HTMLModel",
            "_view_count": null,
            "_view_module": "@jupyter-widgets/controls",
            "_view_module_version": "1.5.0",
            "_view_name": "HTMLView",
            "description": "",
            "description_tooltip": null,
            "layout": "IPY_MODEL_717cfed4d44b43b5a94beeedc53617dc",
            "placeholder": "​",
            "style": "IPY_MODEL_91c3f01e140d4ea1bb9187ba3325bfbc",
            "value": "Downloading: 100%"
          }
        },
        "639b6688ddca40d39da67b82483f81d5": {
          "model_module": "@jupyter-widgets/controls",
          "model_name": "FloatProgressModel",
          "model_module_version": "1.5.0",
          "state": {
            "_dom_classes": [],
            "_model_module": "@jupyter-widgets/controls",
            "_model_module_version": "1.5.0",
            "_model_name": "FloatProgressModel",
            "_view_count": null,
            "_view_module": "@jupyter-widgets/controls",
            "_view_module_version": "1.5.0",
            "_view_name": "ProgressView",
            "bar_style": "success",
            "description": "",
            "description_tooltip": null,
            "layout": "IPY_MODEL_47b1964848214c66a65d654ba6b1528a",
            "max": 526681800,
            "min": 0,
            "orientation": "horizontal",
            "style": "IPY_MODEL_8e2b54ab092246c5a224208701b95ce8",
            "value": 526681800
          }
        },
        "0156538f4fa64650ba7b62ebba5a52ca": {
          "model_module": "@jupyter-widgets/controls",
          "model_name": "HTMLModel",
          "model_module_version": "1.5.0",
          "state": {
            "_dom_classes": [],
            "_model_module": "@jupyter-widgets/controls",
            "_model_module_version": "1.5.0",
            "_model_name": "HTMLModel",
            "_view_count": null,
            "_view_module": "@jupyter-widgets/controls",
            "_view_module_version": "1.5.0",
            "_view_name": "HTMLView",
            "description": "",
            "description_tooltip": null,
            "layout": "IPY_MODEL_002c2bdf12bf4c0b811e2207de4caa58",
            "placeholder": "​",
            "style": "IPY_MODEL_98fa984369eb4c38896f7d44b9703ab9",
            "value": " 527M/527M [00:12&lt;00:00, 40.3MB/s]"
          }
        },
        "5825a555d32f4f64b31cd41e49cf3a49": {
          "model_module": "@jupyter-widgets/base",
          "model_name": "LayoutModel",
          "model_module_version": "1.2.0",
          "state": {
            "_model_module": "@jupyter-widgets/base",
            "_model_module_version": "1.2.0",
            "_model_name": "LayoutModel",
            "_view_count": null,
            "_view_module": "@jupyter-widgets/base",
            "_view_module_version": "1.2.0",
            "_view_name": "LayoutView",
            "align_content": null,
            "align_items": null,
            "align_self": null,
            "border": null,
            "bottom": null,
            "display": null,
            "flex": null,
            "flex_flow": null,
            "grid_area": null,
            "grid_auto_columns": null,
            "grid_auto_flow": null,
            "grid_auto_rows": null,
            "grid_column": null,
            "grid_gap": null,
            "grid_row": null,
            "grid_template_areas": null,
            "grid_template_columns": null,
            "grid_template_rows": null,
            "height": null,
            "justify_content": null,
            "justify_items": null,
            "left": null,
            "margin": null,
            "max_height": null,
            "max_width": null,
            "min_height": null,
            "min_width": null,
            "object_fit": null,
            "object_position": null,
            "order": null,
            "overflow": null,
            "overflow_x": null,
            "overflow_y": null,
            "padding": null,
            "right": null,
            "top": null,
            "visibility": null,
            "width": null
          }
        },
        "717cfed4d44b43b5a94beeedc53617dc": {
          "model_module": "@jupyter-widgets/base",
          "model_name": "LayoutModel",
          "model_module_version": "1.2.0",
          "state": {
            "_model_module": "@jupyter-widgets/base",
            "_model_module_version": "1.2.0",
            "_model_name": "LayoutModel",
            "_view_count": null,
            "_view_module": "@jupyter-widgets/base",
            "_view_module_version": "1.2.0",
            "_view_name": "LayoutView",
            "align_content": null,
            "align_items": null,
            "align_self": null,
            "border": null,
            "bottom": null,
            "display": null,
            "flex": null,
            "flex_flow": null,
            "grid_area": null,
            "grid_auto_columns": null,
            "grid_auto_flow": null,
            "grid_auto_rows": null,
            "grid_column": null,
            "grid_gap": null,
            "grid_row": null,
            "grid_template_areas": null,
            "grid_template_columns": null,
            "grid_template_rows": null,
            "height": null,
            "justify_content": null,
            "justify_items": null,
            "left": null,
            "margin": null,
            "max_height": null,
            "max_width": null,
            "min_height": null,
            "min_width": null,
            "object_fit": null,
            "object_position": null,
            "order": null,
            "overflow": null,
            "overflow_x": null,
            "overflow_y": null,
            "padding": null,
            "right": null,
            "top": null,
            "visibility": null,
            "width": null
          }
        },
        "91c3f01e140d4ea1bb9187ba3325bfbc": {
          "model_module": "@jupyter-widgets/controls",
          "model_name": "DescriptionStyleModel",
          "model_module_version": "1.5.0",
          "state": {
            "_model_module": "@jupyter-widgets/controls",
            "_model_module_version": "1.5.0",
            "_model_name": "DescriptionStyleModel",
            "_view_count": null,
            "_view_module": "@jupyter-widgets/base",
            "_view_module_version": "1.2.0",
            "_view_name": "StyleView",
            "description_width": ""
          }
        },
        "47b1964848214c66a65d654ba6b1528a": {
          "model_module": "@jupyter-widgets/base",
          "model_name": "LayoutModel",
          "model_module_version": "1.2.0",
          "state": {
            "_model_module": "@jupyter-widgets/base",
            "_model_module_version": "1.2.0",
            "_model_name": "LayoutModel",
            "_view_count": null,
            "_view_module": "@jupyter-widgets/base",
            "_view_module_version": "1.2.0",
            "_view_name": "LayoutView",
            "align_content": null,
            "align_items": null,
            "align_self": null,
            "border": null,
            "bottom": null,
            "display": null,
            "flex": null,
            "flex_flow": null,
            "grid_area": null,
            "grid_auto_columns": null,
            "grid_auto_flow": null,
            "grid_auto_rows": null,
            "grid_column": null,
            "grid_gap": null,
            "grid_row": null,
            "grid_template_areas": null,
            "grid_template_columns": null,
            "grid_template_rows": null,
            "height": null,
            "justify_content": null,
            "justify_items": null,
            "left": null,
            "margin": null,
            "max_height": null,
            "max_width": null,
            "min_height": null,
            "min_width": null,
            "object_fit": null,
            "object_position": null,
            "order": null,
            "overflow": null,
            "overflow_x": null,
            "overflow_y": null,
            "padding": null,
            "right": null,
            "top": null,
            "visibility": null,
            "width": null
          }
        },
        "8e2b54ab092246c5a224208701b95ce8": {
          "model_module": "@jupyter-widgets/controls",
          "model_name": "ProgressStyleModel",
          "model_module_version": "1.5.0",
          "state": {
            "_model_module": "@jupyter-widgets/controls",
            "_model_module_version": "1.5.0",
            "_model_name": "ProgressStyleModel",
            "_view_count": null,
            "_view_module": "@jupyter-widgets/base",
            "_view_module_version": "1.2.0",
            "_view_name": "StyleView",
            "bar_color": null,
            "description_width": ""
          }
        },
        "002c2bdf12bf4c0b811e2207de4caa58": {
          "model_module": "@jupyter-widgets/base",
          "model_name": "LayoutModel",
          "model_module_version": "1.2.0",
          "state": {
            "_model_module": "@jupyter-widgets/base",
            "_model_module_version": "1.2.0",
            "_model_name": "LayoutModel",
            "_view_count": null,
            "_view_module": "@jupyter-widgets/base",
            "_view_module_version": "1.2.0",
            "_view_name": "LayoutView",
            "align_content": null,
            "align_items": null,
            "align_self": null,
            "border": null,
            "bottom": null,
            "display": null,
            "flex": null,
            "flex_flow": null,
            "grid_area": null,
            "grid_auto_columns": null,
            "grid_auto_flow": null,
            "grid_auto_rows": null,
            "grid_column": null,
            "grid_gap": null,
            "grid_row": null,
            "grid_template_areas": null,
            "grid_template_columns": null,
            "grid_template_rows": null,
            "height": null,
            "justify_content": null,
            "justify_items": null,
            "left": null,
            "margin": null,
            "max_height": null,
            "max_width": null,
            "min_height": null,
            "min_width": null,
            "object_fit": null,
            "object_position": null,
            "order": null,
            "overflow": null,
            "overflow_x": null,
            "overflow_y": null,
            "padding": null,
            "right": null,
            "top": null,
            "visibility": null,
            "width": null
          }
        },
        "98fa984369eb4c38896f7d44b9703ab9": {
          "model_module": "@jupyter-widgets/controls",
          "model_name": "DescriptionStyleModel",
          "model_module_version": "1.5.0",
          "state": {
            "_model_module": "@jupyter-widgets/controls",
            "_model_module_version": "1.5.0",
            "_model_name": "DescriptionStyleModel",
            "_view_count": null,
            "_view_module": "@jupyter-widgets/base",
            "_view_module_version": "1.2.0",
            "_view_name": "StyleView",
            "description_width": ""
          }
        }
      }
    },
    "accelerator": "GPU",
    "gpuClass": "standard"
  },
  "cells": [
    {
      "cell_type": "markdown",
      "metadata": {
        "id": "view-in-github",
        "colab_type": "text"
      },
      "source": [
        "<a href=\"https://colab.research.google.com/github/cakennedy/266-mbti-project/blob/main/notebooks/W266MBTIDataLoaders_SJ_1030.ipynb\" target=\"_parent\"><img src=\"https://colab.research.google.com/assets/colab-badge.svg\" alt=\"Open In Colab\"/></a>"
      ]
    },
    {
      "cell_type": "markdown",
      "source": [
        "#Initial Set up "
      ],
      "metadata": {
        "id": "xrnrXyQ401dW"
      }
    },
    {
      "cell_type": "code",
      "execution_count": 2,
      "metadata": {
        "colab": {
          "base_uri": "https://localhost:8080/"
        },
        "id": "612BHau796hf",
        "outputId": "9321195e-daf9-4d1d-fb0e-55cb9663cbef"
      },
      "outputs": [
        {
          "output_type": "stream",
          "name": "stdout",
          "text": [
            "Thu Nov  3 20:00:04 2022       \n",
            "+-----------------------------------------------------------------------------+\n",
            "| NVIDIA-SMI 460.32.03    Driver Version: 460.32.03    CUDA Version: 11.2     |\n",
            "|-------------------------------+----------------------+----------------------+\n",
            "| GPU  Name        Persistence-M| Bus-Id        Disp.A | Volatile Uncorr. ECC |\n",
            "| Fan  Temp  Perf  Pwr:Usage/Cap|         Memory-Usage | GPU-Util  Compute M. |\n",
            "|                               |                      |               MIG M. |\n",
            "|===============================+======================+======================|\n",
            "|   0  Tesla T4            Off  | 00000000:00:04.0 Off |                    0 |\n",
            "| N/A   35C    P8     9W /  70W |      0MiB / 15109MiB |      0%      Default |\n",
            "|                               |                      |                  N/A |\n",
            "+-------------------------------+----------------------+----------------------+\n",
            "                                                                               \n",
            "+-----------------------------------------------------------------------------+\n",
            "| Processes:                                                                  |\n",
            "|  GPU   GI   CI        PID   Type   Process name                  GPU Memory |\n",
            "|        ID   ID                                                   Usage      |\n",
            "|=============================================================================|\n",
            "|  No running processes found                                                 |\n",
            "+-----------------------------------------------------------------------------+\n",
            "\n",
            "\n",
            "Your runtime has 27.3 gigabytes of available RAM\n",
            "\n",
            "You are using a high-RAM runtime!\n"
          ]
        }
      ],
      "source": [
        "# Google collab premium utilities status check\n",
        "# GPU\n",
        "gpu_info = !nvidia-smi\n",
        "gpu_info = '\\n'.join(gpu_info)\n",
        "if gpu_info.find('failed') >= 0:\n",
        "  print('Not connected to a GPU')\n",
        "else:\n",
        "  print(gpu_info)\n",
        "\n",
        "print( '\\n')\n",
        "\n",
        "# RAM\n",
        "from psutil import virtual_memory\n",
        "ram_gb = virtual_memory().total / 1e9\n",
        "print('Your runtime has {:.1f} gigabytes of available RAM\\n'.format(ram_gb))\n",
        "\n",
        "if ram_gb < 20:\n",
        "  print('Not using a high-RAM runtime')\n",
        "else:\n",
        "  print('You are using a high-RAM runtime!')"
      ]
    },
    {
      "cell_type": "code",
      "source": [
        "! ls -lrt /content/drive/MyDrive/*.json"
      ],
      "metadata": {
        "colab": {
          "base_uri": "https://localhost:8080/"
        },
        "id": "M0HEh8D3-Ooe",
        "outputId": "81e10a0d-6f8b-4ad1-e7b4-d17e2b954a6c"
      },
      "execution_count": 3,
      "outputs": [
        {
          "output_type": "stream",
          "name": "stdout",
          "text": [
            "-rw------- 1 root root 2308 Oct 13 00:53 /content/drive/MyDrive/nlpproject.json\n",
            "-rw------- 1 root root 2326 Oct 31 03:37 /content/drive/MyDrive/pacific-castle-360400-a3ca89f64de6.json\n"
          ]
        }
      ]
    },
    {
      "cell_type": "code",
      "source": [
        "import os\n",
        "os.environ['GOOGLE_APPLICATION_CREDENTIALS'] = '/content/drive/MyDrive/pacific-castle-360400-a3ca89f64de6.json' \n",
        "!echo $GOOGLE_APPLICATION_CREDENTIALS"
      ],
      "metadata": {
        "colab": {
          "base_uri": "https://localhost:8080/"
        },
        "id": "bKxMh2wb-gYO",
        "outputId": "6ebb7275-f7ae-45d5-d198-2576f3c9480d"
      },
      "execution_count": 4,
      "outputs": [
        {
          "output_type": "stream",
          "name": "stdout",
          "text": [
            "/content/drive/MyDrive/pacific-castle-360400-a3ca89f64de6.json\n"
          ]
        }
      ]
    },
    {
      "cell_type": "code",
      "source": [
        "from google.cloud import storage\n",
        "\n",
        "storage_client = storage.Client()\n",
        "\n",
        "buckets = storage_client.list_buckets()\n",
        "\n",
        "print('-- List of buckets in project \\\"' + storage_client.project + '\\\"')\n",
        "\n",
        "for b in buckets:\n",
        "  print(b.name)"
      ],
      "metadata": {
        "colab": {
          "base_uri": "https://localhost:8080/"
        },
        "id": "5TcU3v7W-i36",
        "outputId": "761726fa-21c0-4eba-b294-30ce81592238"
      },
      "execution_count": 5,
      "outputs": [
        {
          "output_type": "stream",
          "name": "stdout",
          "text": [
            "-- List of buckets in project \"pacific-castle-360400\"\n",
            "266csffile\n"
          ]
        }
      ]
    },
    {
      "cell_type": "code",
      "source": [
        "!pip install transformers\n",
        "import os, re\n",
        "import time\n",
        "import numpy as np\n",
        "import pandas as pd\n",
        "\n",
        "import tensorflow as tf\n",
        "from tensorflow import keras\n",
        "from tensorflow.keras import layers\n",
        "import io\n",
        "from io import BytesIO\n",
        "from transformers import AutoTokenizer, TFAutoModel\n",
        "from transformers import BertTokenizer, TFBertModel\n",
        "from sklearn.metrics import confusion_matrix\n",
        "from sklearn import metrics\n",
        "from sklearn.metrics import accuracy_score\n",
        "from sklearn.metrics import classification_report\n",
        "from sklearn.metrics import f1_score,roc_auc_score,roc_curve,recall_score, precision_score, f1_score,matthews_corrcoef\n",
        "import seaborn as sns\n",
        "import matplotlib.pyplot as plt"
      ],
      "metadata": {
        "colab": {
          "base_uri": "https://localhost:8080/"
        },
        "id": "Rk516UIQ-olJ",
        "outputId": "3bb4901c-80ed-4682-e016-a21b9fdd3f08"
      },
      "execution_count": 6,
      "outputs": [
        {
          "output_type": "stream",
          "name": "stdout",
          "text": [
            "Looking in indexes: https://pypi.org/simple, https://us-python.pkg.dev/colab-wheels/public/simple/\n",
            "Collecting transformers\n",
            "  Downloading transformers-4.24.0-py3-none-any.whl (5.5 MB)\n",
            "\u001b[K     |████████████████████████████████| 5.5 MB 4.0 MB/s \n",
            "\u001b[?25hRequirement already satisfied: requests in /usr/local/lib/python3.7/dist-packages (from transformers) (2.23.0)\n",
            "Collecting huggingface-hub<1.0,>=0.10.0\n",
            "  Downloading huggingface_hub-0.10.1-py3-none-any.whl (163 kB)\n",
            "\u001b[K     |████████████████████████████████| 163 kB 78.8 MB/s \n",
            "\u001b[?25hRequirement already satisfied: importlib-metadata in /usr/local/lib/python3.7/dist-packages (from transformers) (4.13.0)\n",
            "Requirement already satisfied: packaging>=20.0 in /usr/local/lib/python3.7/dist-packages (from transformers) (21.3)\n",
            "Collecting tokenizers!=0.11.3,<0.14,>=0.11.1\n",
            "  Downloading tokenizers-0.13.1-cp37-cp37m-manylinux_2_17_x86_64.manylinux2014_x86_64.whl (7.6 MB)\n",
            "\u001b[K     |████████████████████████████████| 7.6 MB 59.0 MB/s \n",
            "\u001b[?25hRequirement already satisfied: filelock in /usr/local/lib/python3.7/dist-packages (from transformers) (3.8.0)\n",
            "Requirement already satisfied: pyyaml>=5.1 in /usr/local/lib/python3.7/dist-packages (from transformers) (6.0)\n",
            "Requirement already satisfied: tqdm>=4.27 in /usr/local/lib/python3.7/dist-packages (from transformers) (4.64.1)\n",
            "Requirement already satisfied: numpy>=1.17 in /usr/local/lib/python3.7/dist-packages (from transformers) (1.21.6)\n",
            "Requirement already satisfied: regex!=2019.12.17 in /usr/local/lib/python3.7/dist-packages (from transformers) (2022.6.2)\n",
            "Requirement already satisfied: typing-extensions>=3.7.4.3 in /usr/local/lib/python3.7/dist-packages (from huggingface-hub<1.0,>=0.10.0->transformers) (4.1.1)\n",
            "Requirement already satisfied: pyparsing!=3.0.5,>=2.0.2 in /usr/local/lib/python3.7/dist-packages (from packaging>=20.0->transformers) (3.0.9)\n",
            "Requirement already satisfied: zipp>=0.5 in /usr/local/lib/python3.7/dist-packages (from importlib-metadata->transformers) (3.10.0)\n",
            "Requirement already satisfied: urllib3!=1.25.0,!=1.25.1,<1.26,>=1.21.1 in /usr/local/lib/python3.7/dist-packages (from requests->transformers) (1.24.3)\n",
            "Requirement already satisfied: certifi>=2017.4.17 in /usr/local/lib/python3.7/dist-packages (from requests->transformers) (2022.9.24)\n",
            "Requirement already satisfied: idna<3,>=2.5 in /usr/local/lib/python3.7/dist-packages (from requests->transformers) (2.10)\n",
            "Requirement already satisfied: chardet<4,>=3.0.2 in /usr/local/lib/python3.7/dist-packages (from requests->transformers) (3.0.4)\n",
            "Installing collected packages: tokenizers, huggingface-hub, transformers\n",
            "Successfully installed huggingface-hub-0.10.1 tokenizers-0.13.1 transformers-4.24.0\n"
          ]
        }
      ]
    },
    {
      "cell_type": "code",
      "source": [
        "bert_model_name='bert-base-cased'\n",
        "bert_tokenizer = AutoTokenizer.from_pretrained(bert_model_name)\n",
        "bert_model = TFAutoModel.from_pretrained(bert_model_name)\n",
        "#bert_tokenizer = BertTokenizer.from_pretrained('bert-base-cased')\n",
        "#bert_model = TFBertModel.from_pretrained('bert-base-cased')\n",
        "bert_model.trainable = False\n",
        "\n"
      ],
      "metadata": {
        "colab": {
          "base_uri": "https://localhost:8080/",
          "height": 286,
          "referenced_widgets": [
            "a127ae513b7f4e448375d65342b78e13",
            "7abbc15fe24f4c1b93e0b40d78d51536",
            "b05363bb011143d0a607b01790323c0c",
            "943747ed5fab4ac9aa0a25a4bb7a83e1",
            "3adc99fa86f04eb5bf35080b23252547",
            "ec8608e6aec34262a6df1bfb6726082d",
            "f54589c424ce454b885ea8184fefcbd5",
            "c628c90356a44eb78ede54a0c0d3f7b0",
            "c8b556ae01a44f7e9e59d9b4da4ebf07",
            "1f5578c49a834398a6840a72dce84cb3",
            "55c1fbd3f49b437aad96a4f58145aede",
            "9d844877d89745939e75609372746471",
            "37192482450d4a4fb1c42a69347a6e29",
            "09d62252d3704fa988af0ffa88eef2fe",
            "b33de092df14461fa8e7dcbd9dc1a227",
            "7a95f4706c9b448da98c5b7dafd0e331",
            "fd685b17fab448d9a532278a16cebc10",
            "3ec9f848be034139a816b84dcdeb5447",
            "b7d4b552107f469fa84cc445713c7639",
            "319c323450e34931b39525db2373b491",
            "e289f0e66dba4befb946d31f1585c319",
            "c106f337c64f40d2b53b0c908443461e",
            "340badacf70f402399501e095f6e9498",
            "6c676f7b0dc14f5f8bef09254f23cd87",
            "00f403b74ec044208ffafaca53665388",
            "1d08932f027c4b60bbca2c742aadd713",
            "02f3fb62a3c6438883fb3a5430f2c653",
            "3c117b5a96c54eceb79228481f3f06cb",
            "d3162610c98d43ee878dd5a6a05fc49d",
            "f6e04c68df2e4a8ba248b8492f653d95",
            "7ac8d564ad544b18b8b5fdf968ed1b7d",
            "c890c1404b194791a4ff7f546f180136",
            "3a6de975603947429c048ecd9b755918",
            "ee29b64ea0404afbbb4981f6e3081624",
            "79b500f51c314c6089a5e194258ccf05",
            "a4f32fe330834f48b756713bb7392357",
            "58dba46057474f00afa5904b6394369d",
            "78b71e55c4724be997c9e1ff1dd6c506",
            "1c352ba940dc4540a5331fadeb814e3e",
            "8708a1006dee41c8b099a4f0664c5bed",
            "f946803ba59b4120ac648532e2c9b662",
            "17037b8e049d43b6b30922558a496753",
            "5f0fd5cd3c534400893b01df739f0685",
            "8bf5336d927b49a6acc1dc7ad68704c5",
            "ece59d4d9d0d48f1b8263e2f4a93cf53",
            "8d649344e47443b68698c2869528bf83",
            "639b6688ddca40d39da67b82483f81d5",
            "0156538f4fa64650ba7b62ebba5a52ca",
            "5825a555d32f4f64b31cd41e49cf3a49",
            "717cfed4d44b43b5a94beeedc53617dc",
            "91c3f01e140d4ea1bb9187ba3325bfbc",
            "47b1964848214c66a65d654ba6b1528a",
            "8e2b54ab092246c5a224208701b95ce8",
            "002c2bdf12bf4c0b811e2207de4caa58",
            "98fa984369eb4c38896f7d44b9703ab9"
          ]
        },
        "id": "51XgfgAFO0S6",
        "outputId": "8ae14ca3-c26d-4304-9838-1758d7860ca9"
      },
      "execution_count": 7,
      "outputs": [
        {
          "output_type": "display_data",
          "data": {
            "text/plain": [
              "Downloading:   0%|          | 0.00/29.0 [00:00<?, ?B/s]"
            ],
            "application/vnd.jupyter.widget-view+json": {
              "version_major": 2,
              "version_minor": 0,
              "model_id": "a127ae513b7f4e448375d65342b78e13"
            }
          },
          "metadata": {}
        },
        {
          "output_type": "display_data",
          "data": {
            "text/plain": [
              "Downloading:   0%|          | 0.00/570 [00:00<?, ?B/s]"
            ],
            "application/vnd.jupyter.widget-view+json": {
              "version_major": 2,
              "version_minor": 0,
              "model_id": "9d844877d89745939e75609372746471"
            }
          },
          "metadata": {}
        },
        {
          "output_type": "display_data",
          "data": {
            "text/plain": [
              "Downloading:   0%|          | 0.00/213k [00:00<?, ?B/s]"
            ],
            "application/vnd.jupyter.widget-view+json": {
              "version_major": 2,
              "version_minor": 0,
              "model_id": "340badacf70f402399501e095f6e9498"
            }
          },
          "metadata": {}
        },
        {
          "output_type": "display_data",
          "data": {
            "text/plain": [
              "Downloading:   0%|          | 0.00/436k [00:00<?, ?B/s]"
            ],
            "application/vnd.jupyter.widget-view+json": {
              "version_major": 2,
              "version_minor": 0,
              "model_id": "ee29b64ea0404afbbb4981f6e3081624"
            }
          },
          "metadata": {}
        },
        {
          "output_type": "display_data",
          "data": {
            "text/plain": [
              "Downloading:   0%|          | 0.00/527M [00:00<?, ?B/s]"
            ],
            "application/vnd.jupyter.widget-view+json": {
              "version_major": 2,
              "version_minor": 0,
              "model_id": "ece59d4d9d0d48f1b8263e2f4a93cf53"
            }
          },
          "metadata": {}
        },
        {
          "output_type": "stream",
          "name": "stderr",
          "text": [
            "Some layers from the model checkpoint at bert-base-cased were not used when initializing TFBertModel: ['mlm___cls', 'nsp___cls']\n",
            "- This IS expected if you are initializing TFBertModel from the checkpoint of a model trained on another task or with another architecture (e.g. initializing a BertForSequenceClassification model from a BertForPreTraining model).\n",
            "- This IS NOT expected if you are initializing TFBertModel from the checkpoint of a model that you expect to be exactly identical (initializing a BertForSequenceClassification model from a BertForSequenceClassification model).\n",
            "All the layers of TFBertModel were initialized from the model checkpoint at bert-base-cased.\n",
            "If your task is similar to the task the model of the checkpoint was trained on, you can already use TFBertModel for predictions without further training.\n"
          ]
        }
      ]
    },
    {
      "cell_type": "markdown",
      "source": [
        "# Data Prep Training and Validation"
      ],
      "metadata": {
        "id": "Env_Nqyh07cj"
      }
    },
    {
      "cell_type": "code",
      "source": [
        "max_length=500\n",
        "batch_size =32"
      ],
      "metadata": {
        "id": "4sK8hG76V7Kg"
      },
      "execution_count": 8,
      "outputs": []
    },
    {
      "cell_type": "code",
      "source": [
        "# Checkpoint configurations on google drive \n",
        "\n",
        "checkpoint_dir = 'drive/MyDrive/W266/MBTI/model_checkpoints/'\n",
        "#checkpoint_filepath = checkpoint_dir + 'weights.{epoch:02d}-{val_accuracy:.2f}.hdf5'\n",
        "checkpoint_filepath = checkpoint_dir + 'bert_cnn.hdf5'\n",
        "model_checkpoint_callback = tf.keras.callbacks.ModelCheckpoint(\n",
        "    filepath=checkpoint_filepath,\n",
        "    save_weights_only=True,\n",
        "    #save_freq =100*batch_size\n",
        "    )"
      ],
      "metadata": {
        "id": "cyQoVV0SSLrI"
      },
      "execution_count": 9,
      "outputs": []
    },
    {
      "cell_type": "code",
      "source": [
        "#Initialize google storage\n",
        "#storage_client = storage.Client.from_service_account_json('pacific-castle-360400-a3ca89f64de6.json')\n",
        "\n",
        "#Print buckets available\n",
        "for bucket in storage_client.list_buckets():\n",
        "  print(bucket)\n",
        "\n",
        "#Assign bucket name being used\n",
        "bucket_name = '266csffile'\n",
        "\n",
        "#Get bucket\n",
        "bucket = storage_client.get_bucket(bucket_name)\n",
        "\n",
        "# #Show list of files in bucket and list the files\n",
        "# filelist = list(bucket.list_blobs(prefix=''))\n",
        "# for name in filelist:\n",
        "#   print(name.name)"
      ],
      "metadata": {
        "colab": {
          "base_uri": "https://localhost:8080/"
        },
        "id": "f62EIC1vGO4a",
        "outputId": "2f98fe74-b289-43bb-90cd-0160dc3395b7"
      },
      "execution_count": 10,
      "outputs": [
        {
          "output_type": "stream",
          "name": "stdout",
          "text": [
            "<Bucket: 266csffile>\n"
          ]
        }
      ]
    },
    {
      "cell_type": "code",
      "source": [
        "def read_parquet_google_cloud(file):\n",
        "    '''This function reads a file from the google cloud storage bucket. Input\n",
        "    parameters include the filename, encoding and CSV file separators.'''\n",
        "\n",
        "    #Load Google Cloud storage client using service key\n",
        "\n",
        "    blob = bucket.blob(file)\n",
        "    read_back = bucket.blob(file)\n",
        "    string_read_back = read_back.download_as_string()\n",
        "    new_df = pd.read_parquet(io.BytesIO(string_read_back))\n",
        "\n",
        "    return new_df"
      ],
      "metadata": {
        "id": "KXw69cSOQIju"
      },
      "execution_count": 11,
      "outputs": []
    },
    {
      "cell_type": "code",
      "source": [
        "train_mbti_data = read_parquet_google_cloud('train_uniform_mbti_data.parquet')\n",
        "train_mbti_labels = read_parquet_google_cloud('train_uniform_mbti_labels.parquet')\n",
        "\n",
        "dev_mbti_data = read_parquet_google_cloud('dev_mbti_data.parquet')\n",
        "dev_mbti_labels = read_parquet_google_cloud('dev_mbti_labels.parquet')"
      ],
      "metadata": {
        "id": "fva4rdJfGmF-"
      },
      "execution_count": 11,
      "outputs": []
    },
    {
      "cell_type": "code",
      "source": [
        "#Create dictonary to transform MBTI type into multiclass value from 0 to 15\n",
        "valid_MBTI = {'ISTJ': 0, 'INTJ': 1, 'ESTJ': 2, 'ENTJ': 3, 'ENTP': 4, 'INTP': 5, \\\n",
        "              'ISTP': 6, 'ESTP': 7, 'ISFJ': 8, 'INFJ': 9, 'ESFJ': 10, \\\n",
        "              'ENFJ': 11, 'ENFP': 12, 'INFP': 13, 'ISFP': 14, 'ESFP': 15}"
      ],
      "metadata": {
        "id": "0JSAK7If0qO_"
      },
      "execution_count": 12,
      "outputs": []
    },
    {
      "cell_type": "code",
      "source": [
        "def preprocess_data(message,labels,tokenizer,max_length=500):\n",
        "\n",
        "\n",
        "    encodings = tokenizer(message,truncation=True,max_length=max_length,\n",
        "                          padding='max_length',return_attention_mask=True,\n",
        "                          return_token_type_ids=True, return_tensors='tf')\n",
        "\n",
        "    # Extract encoded features and labels, add to corresponding lists\n",
        "    input_ids = np.array(encodings[\"input_ids\"], dtype=\"int32\")\n",
        "    attention_masks = np.array(encodings[\"attention_mask\"], dtype=\"int32\")\n",
        "    token_type_ids = np.array(encodings[\"token_type_ids\"], dtype=\"int32\")\n",
        "    np_labels = np.asarray(labels)\n",
        "    return [input_ids,attention_masks,token_type_ids], np_labels"
      ],
      "metadata": {
        "id": "tkWEjy9U-3xM"
      },
      "execution_count": 13,
      "outputs": []
    },
    {
      "cell_type": "code",
      "source": [
        "train_mbti_data, train_mbti_labels = train_mbti_data[:120000], train_mbti_labels[:120000]"
      ],
      "metadata": {
        "id": "vMHAyI2rx8OH"
      },
      "execution_count": 14,
      "outputs": []
    },
    {
      "cell_type": "code",
      "source": [
        "# just take 1000 examples for dev validation\n",
        "dev_mbti_data, dev_mbti_labels = dev_mbti_data[:1000], dev_mbti_labels[:1000]"
      ],
      "metadata": {
        "id": "ky7DBwDutPww"
      },
      "execution_count": 15,
      "outputs": []
    },
    {
      "cell_type": "code",
      "source": [
        "#Map class for dev \n",
        "\n",
        "\n",
        "\n",
        "#Generate data for encodings for dev \n",
        "\n",
        "dev_data_st = dev_mbti_data['message'].values.astype(str).tolist()\n",
        "dev_labels = dev_mbti_labels['MBTI Type'].map(valid_MBTI).values.tolist()\n",
        "\n",
        "\n",
        "# Generate encodings for dev and test\n",
        "dev_encodings = bert_tokenizer(dev_data_st,truncation=True, max_length=max_length,padding='max_length',return_attention_mask=True,return_token_type_ids=True, return_tensors='tf')\n",
        "npdev_labels = np.asarray(dev_labels)\n"
      ],
      "metadata": {
        "id": "m6oVVv-URBTr"
      },
      "execution_count": 16,
      "outputs": []
    },
    {
      "cell_type": "code",
      "source": [
        "def document_model_run(model_type,mbti_model,target_names,results_dict,input_ids,token_type_ids,attention_mask,nptest_labels):\n",
        "\n",
        "  score = mbti_model.evaluate([input_ids,token_type_ids,attention_mask],nptest_labels) \n",
        "  print('Test loss:', score[0]) \n",
        "  print('Test accuracy:', score[1])\n",
        "\n",
        "  predictions = mbti_model.predict([input_ids,token_type_ids,attention_mask])\n",
        "\n",
        "  predictions = tf.argmax(predictions, axis=-1)\n",
        "\n",
        "  predictions = predictions.numpy()\n",
        "\n",
        "  print(classification_report(nptest_labels, predictions, target_names=target_names))\n",
        "\n",
        "  cr = classification_report(nptest_labels, predictions, target_names=target_names)\n",
        "\n",
        "  cm = tf.math.confusion_matrix(nptest_labels, predictions)\n",
        "  cm = cm/cm.numpy().sum(axis=1)[:, tf.newaxis]\n",
        "\n",
        "  plt.figure(figsize=(20,16))\n",
        "  sns.heatmap(\n",
        "      cm, annot=True,\n",
        "      xticklabels=target_names,\n",
        "      yticklabels=target_names)\n",
        "  plt.xlabel(\"Predicted\")\n",
        "  plt.ylabel(\"True\")\n",
        "\n",
        "  results_dict[model_type] = {'model_type': model_type,\n",
        "                              'cm':cm,\n",
        "                              'cr':cr,\n",
        "                              'test_loss': score[0],\n",
        "                              'test_accuracy': score[1]\n",
        "                              }"
      ],
      "metadata": {
        "id": "-9d0_VxeUAZi"
      },
      "execution_count": 14,
      "outputs": []
    },
    {
      "cell_type": "code",
      "source": [
        "class MBTIDataGenerator(tf.keras.utils.Sequence): \n",
        "    def __init__(self,\n",
        "                 tokenizer,\n",
        "                 n_examples,\n",
        "                 df_train,\n",
        "                 df_labels,\n",
        "                 max_length=500,\n",
        "                 batch_size=32,\n",
        "                 shuffle=True):\n",
        "        \n",
        "        self.tokenizer = tokenizer\n",
        "        self.n_examples = n_examples\n",
        "        self.df_train = df_train\n",
        "        self.df_labels = df_labels\n",
        "        self.max_length = max_length\n",
        "        self.batch_size = batch_size\n",
        "        self.shuffle = shuffle\n",
        "        \n",
        "        # Initialize row order, call on_epoch_end to shuffle row indices\n",
        "        self.row_order = np.arange(1, self.n_examples+1)\n",
        "        self.on_epoch_end()\n",
        "    \n",
        "    def __len__(self):\n",
        "        # NOTE: USING REDUCED BATCHES PER EPOCH TO SPEED UP THE LIVE DEMO\n",
        "        # For normal use, this line should be:\n",
        "        return self.n_examples // self.batch_size\n",
        "        #return 1500\n",
        "    \n",
        "    def __getitem__(self, idx):\n",
        "        batch_start = idx * self.batch_size\n",
        "        batch_end = (idx + 1) * self.batch_size\n",
        "\n",
        "        \n",
        "        # we cant read the gcs file in batch in parquet mode.... we have to read the entire frame and then\n",
        "        # pass it to data frame for vectorization in the data loader and continue to loop thorugh that \n",
        "        \n",
        "        message = self.df_train.iloc[batch_start:batch_end]['message'].values.astype(str).tolist()\n",
        "        \n",
        "        labels = self.df_labels.iloc[batch_start:batch_end]['MBTI Type'].map(valid_MBTI).values.tolist()\n",
        "        \n",
        "        batch_data = preprocess_data(\n",
        "            message,\n",
        "            labels,\n",
        "            self.tokenizer,\n",
        "            self.max_length\n",
        "        )\n",
        "\n",
        "        return batch_data\n",
        "    \n",
        "    def on_epoch_end(self):\n",
        "        if self.shuffle:\n",
        "            self.row_order = list(np.random.permutation(self.row_order))"
      ],
      "metadata": {
        "id": "VXjNZiFkDYYQ"
      },
      "execution_count": 55,
      "outputs": []
    },
    {
      "cell_type": "code",
      "source": [
        "train_data_generator = MBTIDataGenerator(\n",
        "    tokenizer=bert_tokenizer,\n",
        "    #n_examples=1200000,\n",
        "    n_examples=120000,\n",
        "    df_train=train_mbti_data,\n",
        "    df_labels=train_mbti_labels,\n",
        "    max_length=500,\n",
        "    batch_size=32\n",
        ")"
      ],
      "metadata": {
        "id": "exioXnH8OZCp"
      },
      "execution_count": 56,
      "outputs": []
    },
    {
      "cell_type": "markdown",
      "source": [
        "# BERT + CNN for classification"
      ],
      "metadata": {
        "id": "cvGQsRRk4fUn"
      }
    },
    {
      "cell_type": "code",
      "source": [
        "def create_mbti_bert_train_cnn_model( bert_model,hidden_size = 501, \n",
        "                                learning_rate= 0.00005,\n",
        "                                num_filters = [200,100,75,60,40,25],\n",
        "                                kernel_sizes = [2,5,8,10,12,16],\n",
        "                                dropout = 0.3,\n",
        "                                last_layer_num = 11):\n",
        "    \"\"\"\n",
        "    Build a  classification model with BERT, where you apply CNN layers  to the BERT output\n",
        "    \"\"\"\n",
        "\n",
        "\n",
        "    # Freeze all but the last transformer block of the given bert model\n",
        "    for w in bert_model.weights:\n",
        "        if 'layer_._%s' % last_layer_num not in w.name:\n",
        "            w._trainable = False\n",
        "    \n",
        "    #Define the input layer\n",
        "    input_ids = layers.Input(shape=(max_length,), dtype=tf.int32, name='input_ids')\n",
        "    attention_masks = layers.Input(shape=(max_length,), dtype=tf.int32, name='attention_masks')\n",
        "    token_type_ids = layers.Input(shape=(max_length,), dtype=tf.int32, name='token_type_ids')\n",
        "\n",
        "    bert_output = bert_model(input_ids, attention_mask=attention_masks, token_type_ids=token_type_ids)\n",
        "    #Seprate Bert embeddings, here we pass all the embeddings and not just CLS token or Avg of all, let CNN learn and adjust classification weights from the BERT output\n",
        "    bert_embeddings = bert_output[0]\n",
        "    #Generate CNN model layers \n",
        "    conv_layers_for_all_kernel_sizes = []\n",
        "    for kernel_size, filters in zip(kernel_sizes, num_filters):\n",
        "        conv_layer = keras.layers.Conv1D(filters=filters, kernel_size=kernel_size, activation='relu')(bert_embeddings)\n",
        "        conv_layer = keras.layers.GlobalMaxPooling1D()(conv_layer)\n",
        "        conv_layers_for_all_kernel_sizes.append(conv_layer)\n",
        "    \n",
        "    conv_output = keras.layers.concatenate(conv_layers_for_all_kernel_sizes, axis=1)\n",
        "    last_hidden_output = keras.layers.Dropout(rate=dropout)(conv_output)\n",
        "\n",
        "    last_hidden_output = keras.layers.Dense(hidden_size, activation='relu')(last_hidden_output)\n",
        "\n",
        "    cnn_prediction = keras.layers.Dense(16, activation='softmax')(last_hidden_output)\n",
        "    #Set the model & Compile it\n",
        "    classfication_model = tf.keras.Model(inputs=[input_ids, token_type_ids, attention_masks], outputs=[cnn_prediction])\n",
        "    classfication_model.compile(optimizer=tf.keras.optimizers.Adam(learning_rate=learning_rate),\n",
        "                      loss=tf.losses.SparseCategoricalCrossentropy(from_logits=False),  # From information theory notebooks.\n",
        "                      metrics=['accuracy'])\n",
        "    \n",
        "    return classfication_model"
      ],
      "metadata": {
        "id": "s7Whr9ldPzH_"
      },
      "execution_count": 16,
      "outputs": []
    },
    {
      "cell_type": "code",
      "source": [
        "mbti_bert_train_cnn_model = create_mbti_bert_train_cnn_model(bert_model)"
      ],
      "metadata": {
        "id": "RaolXainQ2jj"
      },
      "execution_count": 17,
      "outputs": []
    },
    {
      "cell_type": "code",
      "source": [
        "# step to restore weights from the stored checkpoint \n",
        "# this is from epoch 5\n",
        "mbti_bert_train_cnn_model.load_weights(checkpoint_dir + 'bert_cnn.hdf5')"
      ],
      "metadata": {
        "id": "9VxcAKqUHo4E"
      },
      "execution_count": 18,
      "outputs": []
    },
    {
      "cell_type": "code",
      "source": [
        "keras.utils.plot_model(mbti_bert_train_cnn_model, show_shapes=True, dpi=90)"
      ],
      "metadata": {
        "colab": {
          "base_uri": "https://localhost:8080/",
          "height": 296
        },
        "id": "6W8WcTbERN8W",
        "outputId": "f42e76e6-60b7-4c13-e1fc-72f786869707"
      },
      "execution_count": 59,
      "outputs": [
        {
          "output_type": "execute_result",
          "data": {
            "image/png": "[encoded data removed]",
            "text/plain": [
              "<IPython.core.display.Image object>"
            ]
          },
          "metadata": {},
          "execution_count": 59
        }
      ]
    },
    {
      "cell_type": "code",
      "source": [
        "mbti_bert_train_cnn_model_history = mbti_bert_train_cnn_model.fit(train_data_generator,    \n",
        "                                                  validation_data=([dev_encodings.input_ids,dev_encodings.token_type_ids, dev_encodings.attention_mask],npdev_labels),    \n",
        "                                                  callbacks=[model_checkpoint_callback],\n",
        "                                                  epochs=8)"
      ],
      "metadata": {
        "colab": {
          "base_uri": "https://localhost:8080/"
        },
        "id": "lWkLWWbpRczZ",
        "outputId": "62a9bf29-4865-4e58-8bfb-31b5f5650a5c"
      },
      "execution_count": null,
      "outputs": [
        {
          "output_type": "stream",
          "name": "stdout",
          "text": [
            "Epoch 1/8\n",
            "3750/3750 [==============================] - 5691s 2s/step - loss: 2.7856 - accuracy: 0.0683 - val_loss: 2.7625 - val_accuracy: 0.0700\n",
            "Epoch 2/8\n",
            "3750/3750 [==============================] - 5691s 2s/step - loss: 2.7711 - accuracy: 0.0746 - val_loss: 2.7575 - val_accuracy: 0.0770\n",
            "Epoch 3/8\n",
            "3750/3750 [==============================] - 5692s 2s/step - loss: 2.7647 - accuracy: 0.0805 - val_loss: 2.7760 - val_accuracy: 0.0570\n",
            "Epoch 4/8\n",
            "3750/3750 [==============================] - 5688s 2s/step - loss: 2.7564 - accuracy: 0.0858 - val_loss: 2.7646 - val_accuracy: 0.0790\n",
            "Epoch 5/8\n",
            "3750/3750 [==============================] - 5690s 2s/step - loss: 2.7463 - accuracy: 0.0947 - val_loss: 2.7744 - val_accuracy: 0.0660\n",
            "Epoch 6/8\n",
            " 105/3750 [..............................] - ETA: 1:31:33 - loss: 2.7319 - accuracy: 0.1012"
          ]
        }
      ]
    },
    {
      "cell_type": "markdown",
      "source": [
        "## Load failed because of google colab+ limitation at 6th epoch"
      ],
      "metadata": {
        "id": "FyTVpaMB-Uip"
      }
    },
    {
      "cell_type": "markdown",
      "source": [
        "# Set up test and document the run"
      ],
      "metadata": {
        "id": "mLraZ0aI4pH3"
      }
    },
    {
      "cell_type": "code",
      "source": [
        "results_dict={}"
      ],
      "metadata": {
        "id": "SsUnHRXAiDNA"
      },
      "execution_count": 19,
      "outputs": []
    },
    {
      "cell_type": "code",
      "source": [
        "test_mbti_data = read_parquet_google_cloud('test_mbti_data.parquet')\n",
        "test_mbti_labels = read_parquet_google_cloud('test_mbti_labels.parquet')\n"
      ],
      "metadata": {
        "id": "8sK1-JQuiM1l"
      },
      "execution_count": 20,
      "outputs": []
    },
    {
      "cell_type": "code",
      "source": [
        " test_mbti_data, test_mbti_labels = test_mbti_data[:1000], test_mbti_labels[:1000]"
      ],
      "metadata": {
        "id": "QXgjco9gsET6"
      },
      "execution_count": 21,
      "outputs": []
    },
    {
      "cell_type": "code",
      "source": [
        "\n",
        "test_labels = test_mbti_labels['MBTI Type'].map(valid_MBTI).values.tolist()\n",
        "test_data_st = test_mbti_data['message'].values.astype(str).tolist()\n",
        "\n",
        "# Generate encodings for dev and test\n",
        "test_encodings = bert_tokenizer(test_data_st,truncation=True, max_length=max_length,padding='max_length',return_attention_mask=True,return_token_type_ids=True, return_tensors='tf')\n",
        "\n",
        "nptest_labels = np.asarray(test_labels)"
      ],
      "metadata": {
        "id": "Xi5NjwngibBZ"
      },
      "execution_count": 22,
      "outputs": []
    },
    {
      "cell_type": "code",
      "source": [
        "document_model_run('mbti_bert_train_cnn_model',\n",
        "                   mbti_bert_train_cnn_model,\n",
        "                   valid_MBTI,results_dict,\n",
        "                   test_encodings.input_ids,test_encodings.token_type_ids,test_encodings.attention_mask,\n",
        "                   nptest_labels)"
      ],
      "metadata": {
        "colab": {
          "base_uri": "https://localhost:8080/",
          "height": 1000
        },
        "id": "QoHfyH0i3RCE",
        "outputId": "3fa965ea-65ed-4c7f-e909-d796879a722a"
      },
      "execution_count": 22,
      "outputs": [
        {
          "output_type": "stream",
          "name": "stdout",
          "text": [
            "32/32 [==============================] - 49s 1s/step - loss: 2.7806 - accuracy: 0.0690\n",
            "Test loss: 2.780606508255005\n",
            "Test accuracy: 0.0689999982714653\n",
            "32/32 [==============================] - 47s 1s/step\n",
            "              precision    recall  f1-score   support\n",
            "\n",
            "        ISTJ       0.01      0.05      0.02        21\n",
            "        INTJ       0.25      0.01      0.01       137\n",
            "        ESTJ       0.18      0.08      0.11        26\n",
            "        ENTJ       0.00      0.00      0.00        43\n",
            "        ENTP       0.11      0.01      0.02        78\n",
            "        INTP       0.33      0.01      0.01       139\n",
            "        ISTP       0.05      0.19      0.07        43\n",
            "        ESTP       0.00      0.00      0.00        27\n",
            "        ISFJ       0.00      0.00      0.00        20\n",
            "        INFJ       0.12      0.34      0.18       112\n",
            "        ESFJ       0.04      0.12      0.06        24\n",
            "        ENFJ       0.00      0.00      0.00        29\n",
            "        ENFP       0.33      0.04      0.08       112\n",
            "        INFP       0.00      0.00      0.00       127\n",
            "        ISFP       0.05      0.13      0.08        38\n",
            "        ESFP       0.03      0.17      0.06        24\n",
            "\n",
            "    accuracy                           0.07      1000\n",
            "   macro avg       0.09      0.07      0.04      1000\n",
            "weighted avg       0.15      0.07      0.05      1000\n",
            "\n"
          ]
        },
        {
          "output_type": "stream",
          "name": "stderr",
          "text": [
            "/usr/local/lib/python3.7/dist-packages/sklearn/metrics/_classification.py:1318: UndefinedMetricWarning: Precision and F-score are ill-defined and being set to 0.0 in labels with no predicted samples. Use `zero_division` parameter to control this behavior.\n",
            "  _warn_prf(average, modifier, msg_start, len(result))\n",
            "/usr/local/lib/python3.7/dist-packages/sklearn/metrics/_classification.py:1318: UndefinedMetricWarning: Precision and F-score are ill-defined and being set to 0.0 in labels with no predicted samples. Use `zero_division` parameter to control this behavior.\n",
            "  _warn_prf(average, modifier, msg_start, len(result))\n",
            "/usr/local/lib/python3.7/dist-packages/sklearn/metrics/_classification.py:1318: UndefinedMetricWarning: Precision and F-score are ill-defined and being set to 0.0 in labels with no predicted samples. Use `zero_division` parameter to control this behavior.\n",
            "  _warn_prf(average, modifier, msg_start, len(result))\n",
            "/usr/local/lib/python3.7/dist-packages/sklearn/metrics/_classification.py:1318: UndefinedMetricWarning: Precision and F-score are ill-defined and being set to 0.0 in labels with no predicted samples. Use `zero_division` parameter to control this behavior.\n",
            "  _warn_prf(average, modifier, msg_start, len(result))\n",
            "/usr/local/lib/python3.7/dist-packages/sklearn/metrics/_classification.py:1318: UndefinedMetricWarning: Precision and F-score are ill-defined and being set to 0.0 in labels with no predicted samples. Use `zero_division` parameter to control this behavior.\n",
            "  _warn_prf(average, modifier, msg_start, len(result))\n",
            "/usr/local/lib/python3.7/dist-packages/sklearn/metrics/_classification.py:1318: UndefinedMetricWarning: Precision and F-score are ill-defined and being set to 0.0 in labels with no predicted samples. Use `zero_division` parameter to control this behavior.\n",
            "  _warn_prf(average, modifier, msg_start, len(result))\n"
          ]
        },
        {
          "output_type": "display_data",
          "data": {
            "text/plain": [
              "<Figure size 1440x1152 with 2 Axes>"
            ],
            "image/png": "[encoded data removed]"
          },
          "metadata": {
            "needs_background": "light"
          }
        }
      ]
    },
    {
      "cell_type": "code",
      "source": [
        "\n",
        "\n",
        "results_filepath = checkpoint_dir + 'bert_cnn_results.txt'\n",
        "f = open(results_filepath,\"w\")\n",
        "\n",
        "# write file\n",
        "f.write( str(results_dict) )\n",
        "\n",
        "# close file\n",
        "f.close()\n"
      ],
      "metadata": {
        "id": "qf8FjfreEyMq"
      },
      "execution_count": 23,
      "outputs": []
    },
    {
      "cell_type": "markdown",
      "source": [
        "# Commented out code"
      ],
      "metadata": {
        "id": "bt4m5u4u4xls"
      }
    },
    {
      "cell_type": "code",
      "source": [
        "# def create_mbti_bert_clstoken_model(bert_model,hidden_size = 501, \n",
        "#                                 dropout=0.3,\n",
        "#                                 learning_rate=0.00005):\n",
        "#     \"\"\"\n",
        "#     Build a simple classification model with BERT. Use the CLS Token output for classification purposes.\n",
        "#     \"\"\"\n",
        "#     #Define the input layer\n",
        "#     input_ids = layers.Input(shape=(max_length,), dtype=tf.int32, name='input_ids')\n",
        "#     attention_masks = layers.Input(shape=(max_length,), dtype=tf.int32, name='attention_masks')\n",
        "#     token_type_ids = layers.Input(shape=(max_length,), dtype=tf.int32, name='token_type_ids')\n",
        "\n",
        "#     bert_output = bert_model(input_ids, attention_mask=attention_masks, token_type_ids=token_type_ids)   \n",
        "\n",
        "#     #Get CLS token vector representation , CLS is at 0th position\n",
        "#     cls_token = bert_output[0][:,  0, :]\n",
        "\n",
        "#     hidden = tf.keras.layers.Dense(hidden_size, activation='relu', name='hidden_layer')(cls_token)\n",
        "\n",
        "#     hidden = tf.keras.layers.Dropout(dropout)(hidden)  \n",
        "\n",
        "#     classification = tf.keras.layers.Dense(16, activation='sigmoid',name='classification_layer')(hidden)\n",
        "    \n",
        "#     classification_model = tf.keras.Model(inputs=[input_ids, token_type_ids, attention_masks], outputs=[classification])\n",
        "    \n",
        "#     classification_model.compile(optimizer=tf.keras.optimizers.Adam(learning_rate=learning_rate),\n",
        "#                                  loss=tf.losses.SparseCategoricalCrossentropy(from_logits=False), \n",
        "#                                  #metrics=['sparse_categorical_accuracy']\n",
        "#                                  metrics=['accuracy'])\n",
        "#     return classification_model"
      ],
      "metadata": {
        "id": "dlI9umgqYhO8"
      },
      "execution_count": null,
      "outputs": []
    },
    {
      "cell_type": "code",
      "source": [
        "# mbti_bert_clstoken_model = create_mbti_bert_clstoken_model(bert_model)"
      ],
      "metadata": {
        "id": "i5_cWimBYhhY"
      },
      "execution_count": null,
      "outputs": []
    },
    {
      "cell_type": "code",
      "source": [
        "# keras.utils.plot_model(mbti_bert_clstoken_model, show_shapes=True, dpi=90)"
      ],
      "metadata": {
        "id": "rFCiOr7ZYhxh"
      },
      "execution_count": null,
      "outputs": []
    },
    {
      "cell_type": "code",
      "source": [
        "# mbti_bert_clstoken_model_history = mbti_bert_clstoken_model.fit(train_data_generator,    \n",
        "#                                                   validation_data=([dev_encodings.input_ids,dev_encodings.token_type_ids, dev_encodings.attention_mask],npdev_labels),    \n",
        "#                                                   callbacks=[model_checkpoint_callback],\n",
        "#                                                   epochs=2)"
      ],
      "metadata": {
        "id": "3ZoT8gV1Zdty"
      },
      "execution_count": null,
      "outputs": []
    },
    {
      "cell_type": "code",
      "source": [
        "# document_model_run('mbti_bert_clstoken_model',\n",
        "#                    mbti_bert_clstoken_model,\n",
        "#                    valid_MBTI,results_dict,\n",
        "#                    test_encodings.input_ids,test_encodings.token_type_ids,test_encodings.attention_mask,\n",
        "#                    nptest_labels)"
      ],
      "metadata": {
        "id": "WFF_UsTFhbyC"
      },
      "execution_count": null,
      "outputs": []
    },
    {
      "cell_type": "code",
      "source": [
        "# #first model run with key_dim =500\n",
        "# document_model_run('mbti_bert_train_cnn_model',\n",
        "#                    mbti_bert_model,\n",
        "#                    valid_MBTI,results_dict,\n",
        "#                    test_encodings.input_ids,test_encodings.token_type_ids,test_encodings.attention_mask,\n",
        "#                    nptest_labels)"
      ],
      "metadata": {
        "id": "IFKf9XHKUCji"
      },
      "execution_count": null,
      "outputs": []
    },
    {
      "cell_type": "code",
      "source": [
        "# # this one is based on the multiheaded attention added \n",
        "# def create_mbti_bert_model(bert_model,\n",
        "#                                 hidden_size = 501, \n",
        "#                                 dropout=0.3,\n",
        "#                                 learning_rate=0.00005,max_length=500):\n",
        "#     \"\"\"\n",
        "#     Build a simple classification model with BERT. Use the CLS Token output for classification purposes.\n",
        "#     \"\"\"\n",
        "\n",
        "#     input_ids = layers.Input(shape=(max_length,), dtype=tf.int32, name='input_ids')\n",
        "#     attention_masks = layers.Input(shape=(max_length,), dtype=tf.int32, name='attention_masks')\n",
        "#     token_type_ids = layers.Input(shape=(max_length,), dtype=tf.int32, name='token_type_ids')\n",
        "  \n",
        "#     bert_output = bert_model(input_ids, attention_mask=attention_masks, token_type_ids=token_type_ids)\n",
        "#     sequence_output = bert_output.last_hidden_state\n",
        "\n",
        "#     #attn_output = layers.MultiHeadAttention(num_heads=4, key_dim=100)(sequence_output, sequence_output)\n",
        "#     #Fix 1 increasing key dim to match the max length  \n",
        "#     attn_output = layers.MultiHeadAttention(num_heads=4, key_dim=500)(sequence_output, sequence_output)\n",
        "#     max_pool = layers.GlobalMaxPooling1D()(attn_output)\n",
        "#     dropout_output = layers.Dropout(0.3)(max_pool)\n",
        "#     final_output = layers.Dense(16, activation=\"softmax\")(dropout_output)\n",
        "    \n",
        "#     model = tf.keras.models.Model(inputs=[input_ids, attention_masks, token_type_ids],\n",
        "#                                   outputs=[final_output])\n",
        "#     model.compile(optimizer=tf.keras.optimizers.Adam(),\n",
        "#                   loss='sparse_categorical_crossentropy',\n",
        "#                   metrics=['accuracy'])\n",
        "#     return model"
      ],
      "metadata": {
        "id": "JBo0ysi_v2sk"
      },
      "execution_count": null,
      "outputs": []
    },
    {
      "cell_type": "code",
      "source": [
        "# mbti_bert_model = create_mbti_bert_model(bert_model)"
      ],
      "metadata": {
        "id": "7NeMbG_CVYqT"
      },
      "execution_count": null,
      "outputs": []
    },
    {
      "cell_type": "code",
      "source": [
        "# mbti_bert_model.summary()"
      ],
      "metadata": {
        "id": "jfYqzUh4wW-Q"
      },
      "execution_count": null,
      "outputs": []
    },
    {
      "cell_type": "code",
      "source": [
        "# keras.utils.plot_model(mbti_bert_model, show_shapes=True, dpi=90)"
      ],
      "metadata": {
        "id": "DRiSXh3amrqU"
      },
      "execution_count": null,
      "outputs": []
    },
    {
      "cell_type": "code",
      "source": [
        "# mbti_batch_bert_clstoken_model_history = mbti_bert_clstoken_model.fit([train_encodings.input_ids, train_encodings.token_type_ids, train_encodings.attention_mask], \n",
        "#                                                   nptrain_labels,   \n",
        "#                                                   validation_data=([valid_encodings.input_ids, valid_encodings.token_type_ids, valid_encodings.attention_mask], \n",
        "#                                                   npvalid_labels),    \n",
        "#                                                   batch_size=32, \n",
        "#                                                   epochs=2)"
      ],
      "metadata": {
        "id": "DJ-cwUkfOTfm"
      },
      "execution_count": null,
      "outputs": []
    },
    {
      "cell_type": "code",
      "source": [
        "# mbti_batch_bert_model_history = mbti_bert_model.fit(train_data_generator,    \n",
        "#                                                   validation_data=([dev_encodings.input_ids,dev_encodings.token_type_ids, dev_encodings.attention_mask],npdev_labels),    \n",
        "#                                                   # callbacks=[model_checkpoint_callback],\n",
        "#                                                   epochs=2)\n"
      ],
      "metadata": {
        "id": "ZYWOf_uyJ3O4"
      },
      "execution_count": null,
      "outputs": []
    },
    {
      "cell_type": "code",
      "source": [
        "# #first model run with key_dim =500\n",
        "# document_model_run('mbti_bert_model_key_dim_500',\n",
        "#                    mbti_bert_model,\n",
        "#                    valid_MBTI,results_dict,\n",
        "#                    test_encodings.input_ids,test_encodings.token_type_ids,test_encodings.attention_mask,\n",
        "#                    nptest_labels)"
      ],
      "metadata": {
        "id": "YpVv36M2Epu9"
      },
      "execution_count": null,
      "outputs": []
    },
    {
      "cell_type": "code",
      "source": [
        "\n",
        "# document_model_run('mbti_bert_model',\n",
        "#                    mbti_bert_model,\n",
        "#                    valid_MBTI,results_dict,\n",
        "#                    test_encodings.input_ids,test_encodings.token_type_ids,test_encodings.attention_mask,\n",
        "#                    nptest_labels)"
      ],
      "metadata": {
        "id": "Ub4RvedYhuZp"
      },
      "execution_count": null,
      "outputs": []
    },
    {
      "cell_type": "code",
      "source": [
        "# mbti_batch_bert_model_history = mbti_bert_model.fit(train_data_generator,    \n",
        "#                                                   validation_data=([dev_encodings.input_ids,dev_encodings.token_type_ids, dev_encodings.attention_mask],npdev_labels),    \n",
        "#                                                   callbacks=[model_checkpoint_callback],\n",
        "#                                                   epochs=2)\n"
      ],
      "metadata": {
        "id": "G5KRFJxGv0BZ"
      },
      "execution_count": null,
      "outputs": []
    },
    {
      "cell_type": "code",
      "source": [
        "# mbti_bert_model.save_weights(checkpoint_dir.format(epoch=2))"
      ],
      "metadata": {
        "id": "a5H2bkAXvbqB"
      },
      "execution_count": null,
      "outputs": []
    },
    {
      "cell_type": "code",
      "source": [
        "# results_dict.values()"
      ],
      "metadata": {
        "id": "q8YfXdVr-pFa"
      },
      "execution_count": null,
      "outputs": []
    },
    {
      "cell_type": "code",
      "source": [
        "# mbti_bert_model.summary()"
      ],
      "metadata": {
        "id": "dsarYSBNwDA_"
      },
      "execution_count": null,
      "outputs": []
    },
    {
      "cell_type": "code",
      "source": [
        "document_model_run('mbti_bert_train_cnn_model',\n",
        "                   mbti_bert_train_cnn_model,\n",
        "                   valid_MBTI,results_dict,\n",
        "                   test_encodings.input_ids,test_encodings.token_type_ids,test_encodings.attention_mask,\n",
        "                   nptest_labels)"
      ],
      "metadata": {
        "id": "WRYKPetEZ2Eb"
      },
      "execution_count": null,
      "outputs": []
    },
    {
      "cell_type": "code",
      "source": [
        "  predictions = mbti_bert_train_cnn_model.predict([test_encodings.input_ids,test_encodings.token_type_ids,test_encodings.attention_mask])\n",
        "\n",
        "  predictions = tf.argmax(predictions, axis=-1)\n",
        "\n",
        "  predictions = predictions.numpy()"
      ],
      "metadata": {
        "colab": {
          "base_uri": "https://localhost:8080/"
        },
        "id": "n09SjhviUhrv",
        "outputId": "4d41d5ab-0e63-47fb-e17d-bd5391a0d28b"
      },
      "execution_count": 23,
      "outputs": [
        {
          "output_type": "stream",
          "name": "stdout",
          "text": [
            "32/32 [==============================] - 43s 1s/step\n"
          ]
        }
      ]
    },
    {
      "cell_type": "code",
      "source": [
        "correct_classifications = list(np.where(nptest_labels == predictions))"
      ],
      "metadata": {
        "id": "6E0xavnubEdA"
      },
      "execution_count": 36,
      "outputs": []
    },
    {
      "cell_type": "code",
      "source": [
        "type(correct_classifications)"
      ],
      "metadata": {
        "colab": {
          "base_uri": "https://localhost:8080/"
        },
        "id": "CMozp7ZFc4IM",
        "outputId": "ede59a02-9320-459c-cde4-ee0f79b3487c"
      },
      "execution_count": 37,
      "outputs": [
        {
          "output_type": "execute_result",
          "data": {
            "text/plain": [
              "list"
            ]
          },
          "metadata": {},
          "execution_count": 37
        }
      ]
    },
    {
      "cell_type": "code",
      "source": [
        "correct_classifications[2]"
      ],
      "metadata": {
        "colab": {
          "base_uri": "https://localhost:8080/",
          "height": 169
        },
        "id": "tTN58s7MG0-q",
        "outputId": "0c507dd7-3876-4f6a-9759-e6a66e74425b"
      },
      "execution_count": 29,
      "outputs": [
        {
          "output_type": "error",
          "ename": "IndexError",
          "evalue": "ignored",
          "traceback": [
            "\u001b[0;31m---------------------------------------------------------------------------\u001b[0m",
            "\u001b[0;31mIndexError\u001b[0m                                Traceback (most recent call last)",
            "\u001b[0;32m<ipython-input-29-17b6ca71a5b9>\u001b[0m in \u001b[0;36m<module>\u001b[0;34m\u001b[0m\n\u001b[0;32m----> 1\u001b[0;31m \u001b[0mcorrect_classifications\u001b[0m\u001b[0;34m[\u001b[0m\u001b[0;36m2\u001b[0m\u001b[0;34m]\u001b[0m\u001b[0;34m\u001b[0m\u001b[0;34m\u001b[0m\u001b[0m\n\u001b[0m",
            "\u001b[0;31mIndexError\u001b[0m: tuple index out of range"
          ]
        }
      ]
    },
    {
      "cell_type": "code",
      "source": [
        "test_mbti_data, test_mbti_labels"
      ],
      "metadata": {
        "id": "RnQw6OtidtF8"
      },
      "execution_count": null,
      "outputs": []
    },
    {
      "cell_type": "code",
      "source": [
        "for i in correct_classifications:\n",
        "  print (i)"
      ],
      "metadata": {
        "colab": {
          "base_uri": "https://localhost:8080/"
        },
        "id": "kTlU9G1MHA4F",
        "outputId": "1725470e-3fd6-4b5f-f615-5f83bb3b2d00"
      },
      "execution_count": 45,
      "outputs": [
        {
          "output_type": "stream",
          "name": "stdout",
          "text": [
            "[  0   2   4  22  23  38  48  51  93 115 119 154 160 167 170 184 196 223\n",
            " 227 232 252 257 271 277 293 298 329 351 353 373 375 388 393 405 406 438\n",
            " 444 454 459 464 503 506 515 522 523 560 565 605 614 660 662 663 669 684\n",
            " 686 705 712 734 750 784 791 797 836 846 851 907 910 938 953]\n"
          ]
        }
      ]
    },
    {
      "cell_type": "code",
      "source": [
        "for i in correct_classifications:\n",
        "  message_length = len(test_data_st[i].split())\n",
        "  print (i,message_length)"
      ],
      "metadata": {
        "colab": {
          "base_uri": "https://localhost:8080/",
          "height": 204
        },
        "id": "tMI8_592c_F7",
        "outputId": "ecc578b6-0052-48ec-d702-beda400777e9"
      },
      "execution_count": 40,
      "outputs": [
        {
          "output_type": "error",
          "ename": "TypeError",
          "evalue": "ignored",
          "traceback": [
            "\u001b[0;31m---------------------------------------------------------------------------\u001b[0m",
            "\u001b[0;31mTypeError\u001b[0m                                 Traceback (most recent call last)",
            "\u001b[0;32m<ipython-input-40-dcf7748fe02f>\u001b[0m in \u001b[0;36m<module>\u001b[0;34m\u001b[0m\n\u001b[1;32m      1\u001b[0m \u001b[0;32mfor\u001b[0m \u001b[0mi\u001b[0m \u001b[0;32min\u001b[0m \u001b[0mcorrect_classifications\u001b[0m\u001b[0;34m:\u001b[0m\u001b[0;34m\u001b[0m\u001b[0;34m\u001b[0m\u001b[0m\n\u001b[0;32m----> 2\u001b[0;31m   \u001b[0mmessage_length\u001b[0m \u001b[0;34m=\u001b[0m \u001b[0mlen\u001b[0m\u001b[0;34m(\u001b[0m\u001b[0mtest_data_st\u001b[0m\u001b[0;34m[\u001b[0m\u001b[0mi\u001b[0m\u001b[0;34m]\u001b[0m\u001b[0;34m.\u001b[0m\u001b[0msplit\u001b[0m\u001b[0;34m(\u001b[0m\u001b[0;34m)\u001b[0m\u001b[0;34m)\u001b[0m\u001b[0;34m\u001b[0m\u001b[0;34m\u001b[0m\u001b[0m\n\u001b[0m\u001b[1;32m      3\u001b[0m   \u001b[0mprint\u001b[0m \u001b[0;34m(\u001b[0m\u001b[0mi\u001b[0m\u001b[0;34m,\u001b[0m\u001b[0mmessage_length\u001b[0m\u001b[0;34m)\u001b[0m\u001b[0;34m\u001b[0m\u001b[0;34m\u001b[0m\u001b[0m\n",
            "\u001b[0;31mTypeError\u001b[0m: only integer scalar arrays can be converted to a scalar index"
          ]
        }
      ]
    },
    {
      "cell_type": "code",
      "source": [
        "len(test_data_st[2].split())"
      ],
      "metadata": {
        "colab": {
          "base_uri": "https://localhost:8080/"
        },
        "id": "5eBycIHSqro4",
        "outputId": "0523fb8f-e5c2-41ec-cbb7-030a237a91b5"
      },
      "execution_count": 44,
      "outputs": [
        {
          "output_type": "execute_result",
          "data": {
            "text/plain": [
              "61"
            ]
          },
          "metadata": {},
          "execution_count": 44
        }
      ]
    },
    {
      "cell_type": "code",
      "source": [
        "len(test_mbti_data.iloc[2]['message'].split())"
      ],
      "metadata": {
        "colab": {
          "base_uri": "https://localhost:8080/"
        },
        "id": "sMr3-g_OeG-I",
        "outputId": "e9e8ea40-1041-45eb-9bbd-7b6c1760b913"
      },
      "execution_count": 44,
      "outputs": [
        {
          "output_type": "execute_result",
          "data": {
            "text/plain": [
              "61"
            ]
          },
          "metadata": {},
          "execution_count": 44
        }
      ]
    },
    {
      "cell_type": "code",
      "source": [
        "correct ={}\n",
        "wrong={}\n",
        "correct['mbti_bert_train_cnn_model'] = np.where(nptest_labels == predictions)\n",
        "wrong['mbti_bert_train_cnn_model'] = np.where(nptest_labels != predictions)"
      ],
      "metadata": {
        "id": "Z_Ooc8L9I22t"
      },
      "execution_count": 49,
      "outputs": []
    },
    {
      "cell_type": "code",
      "source": [
        "wrong['mbti_bert_train_cnn_model'][0]"
      ],
      "metadata": {
        "colab": {
          "base_uri": "https://localhost:8080/"
        },
        "id": "uWwIhx_GKjZL",
        "outputId": "cdab6975-e37f-45f1-f03f-d256d2fb7767"
      },
      "execution_count": 68,
      "outputs": [
        {
          "output_type": "execute_result",
          "data": {
            "text/plain": [
              "array([  1,   3,   5,   6,   7,   8,   9,  10,  11,  12,  13,  14,  15,\n",
              "        16,  17,  18,  19,  20,  21,  24,  25,  26,  27,  28,  29,  30,\n",
              "        31,  32,  33,  34,  35,  36,  37,  39,  40,  41,  42,  43,  44,\n",
              "        45,  46,  47,  49,  50,  52,  53,  54,  55,  56,  57,  58,  59,\n",
              "        60,  61,  62,  63,  64,  65,  66,  67,  68,  69,  70,  71,  72,\n",
              "        73,  74,  75,  76,  77,  78,  79,  80,  81,  82,  83,  84,  85,\n",
              "        86,  87,  88,  89,  90,  91,  92,  94,  95,  96,  97,  98,  99,\n",
              "       100, 101, 102, 103, 104, 105, 106, 107, 108, 109, 110, 111, 112,\n",
              "       113, 114, 116, 117, 118, 120, 121, 122, 123, 124, 125, 126, 127,\n",
              "       128, 129, 130, 131, 132, 133, 134, 135, 136, 137, 138, 139, 140,\n",
              "       141, 142, 143, 144, 145, 146, 147, 148, 149, 150, 151, 152, 153,\n",
              "       155, 156, 157, 158, 159, 161, 162, 163, 164, 165, 166, 168, 169,\n",
              "       171, 172, 173, 174, 175, 176, 177, 178, 179, 180, 181, 182, 183,\n",
              "       185, 186, 187, 188, 189, 190, 191, 192, 193, 194, 195, 197, 198,\n",
              "       199, 200, 201, 202, 203, 204, 205, 206, 207, 208, 209, 210, 211,\n",
              "       212, 213, 214, 215, 216, 217, 218, 219, 220, 221, 222, 224, 225,\n",
              "       226, 228, 229, 230, 231, 233, 234, 235, 236, 237, 238, 239, 240,\n",
              "       241, 242, 243, 244, 245, 246, 247, 248, 249, 250, 251, 253, 254,\n",
              "       255, 256, 258, 259, 260, 261, 262, 263, 264, 265, 266, 267, 268,\n",
              "       269, 270, 272, 273, 274, 275, 276, 278, 279, 280, 281, 282, 283,\n",
              "       284, 285, 286, 287, 288, 289, 290, 291, 292, 294, 295, 296, 297,\n",
              "       299, 300, 301, 302, 303, 304, 305, 306, 307, 308, 309, 310, 311,\n",
              "       312, 313, 314, 315, 316, 317, 318, 319, 320, 321, 322, 323, 324,\n",
              "       325, 326, 327, 328, 330, 331, 332, 333, 334, 335, 336, 337, 338,\n",
              "       339, 340, 341, 342, 343, 344, 345, 346, 347, 348, 349, 350, 352,\n",
              "       354, 355, 356, 357, 358, 359, 360, 361, 362, 363, 364, 365, 366,\n",
              "       367, 368, 369, 370, 371, 372, 374, 376, 377, 378, 379, 380, 381,\n",
              "       382, 383, 384, 385, 386, 387, 389, 390, 391, 392, 394, 395, 396,\n",
              "       397, 398, 399, 400, 401, 402, 403, 404, 407, 408, 409, 410, 411,\n",
              "       412, 413, 414, 415, 416, 417, 418, 419, 420, 421, 422, 423, 424,\n",
              "       425, 426, 427, 428, 429, 430, 431, 432, 433, 434, 435, 436, 437,\n",
              "       439, 440, 441, 442, 443, 445, 446, 447, 448, 449, 450, 451, 452,\n",
              "       453, 455, 456, 457, 458, 460, 461, 462, 463, 465, 466, 467, 468,\n",
              "       469, 470, 471, 472, 473, 474, 475, 476, 477, 478, 479, 480, 481,\n",
              "       482, 483, 484, 485, 486, 487, 488, 489, 490, 491, 492, 493, 494,\n",
              "       495, 496, 497, 498, 499, 500, 501, 502, 504, 505, 507, 508, 509,\n",
              "       510, 511, 512, 513, 514, 516, 517, 518, 519, 520, 521, 524, 525,\n",
              "       526, 527, 528, 529, 530, 531, 532, 533, 534, 535, 536, 537, 538,\n",
              "       539, 540, 541, 542, 543, 544, 545, 546, 547, 548, 549, 550, 551,\n",
              "       552, 553, 554, 555, 556, 557, 558, 559, 561, 562, 563, 564, 566,\n",
              "       567, 568, 569, 570, 571, 572, 573, 574, 575, 576, 577, 578, 579,\n",
              "       580, 581, 582, 583, 584, 585, 586, 587, 588, 589, 590, 591, 592,\n",
              "       593, 594, 595, 596, 597, 598, 599, 600, 601, 602, 603, 604, 606,\n",
              "       607, 608, 609, 610, 611, 612, 613, 615, 616, 617, 618, 619, 620,\n",
              "       621, 622, 623, 624, 625, 626, 627, 628, 629, 630, 631, 632, 633,\n",
              "       634, 635, 636, 637, 638, 639, 640, 641, 642, 643, 644, 645, 646,\n",
              "       647, 648, 649, 650, 651, 652, 653, 654, 655, 656, 657, 658, 659,\n",
              "       661, 664, 665, 666, 667, 668, 670, 671, 672, 673, 674, 675, 676,\n",
              "       677, 678, 679, 680, 681, 682, 683, 685, 687, 688, 689, 690, 691,\n",
              "       692, 693, 694, 695, 696, 697, 698, 699, 700, 701, 702, 703, 704,\n",
              "       706, 707, 708, 709, 710, 711, 713, 714, 715, 716, 717, 718, 719,\n",
              "       720, 721, 722, 723, 724, 725, 726, 727, 728, 729, 730, 731, 732,\n",
              "       733, 735, 736, 737, 738, 739, 740, 741, 742, 743, 744, 745, 746,\n",
              "       747, 748, 749, 751, 752, 753, 754, 755, 756, 757, 758, 759, 760,\n",
              "       761, 762, 763, 764, 765, 766, 767, 768, 769, 770, 771, 772, 773,\n",
              "       774, 775, 776, 777, 778, 779, 780, 781, 782, 783, 785, 786, 787,\n",
              "       788, 789, 790, 792, 793, 794, 795, 796, 798, 799, 800, 801, 802,\n",
              "       803, 804, 805, 806, 807, 808, 809, 810, 811, 812, 813, 814, 815,\n",
              "       816, 817, 818, 819, 820, 821, 822, 823, 824, 825, 826, 827, 828,\n",
              "       829, 830, 831, 832, 833, 834, 835, 837, 838, 839, 840, 841, 842,\n",
              "       843, 844, 845, 847, 848, 849, 850, 852, 853, 854, 855, 856, 857,\n",
              "       858, 859, 860, 861, 862, 863, 864, 865, 866, 867, 868, 869, 870,\n",
              "       871, 872, 873, 874, 875, 876, 877, 878, 879, 880, 881, 882, 883,\n",
              "       884, 885, 886, 887, 888, 889, 890, 891, 892, 893, 894, 895, 896,\n",
              "       897, 898, 899, 900, 901, 902, 903, 904, 905, 906, 908, 909, 911,\n",
              "       912, 913, 914, 915, 916, 917, 918, 919, 920, 921, 922, 923, 924,\n",
              "       925, 926, 927, 928, 929, 930, 931, 932, 933, 934, 935, 936, 937,\n",
              "       939, 940, 941, 942, 943, 944, 945, 946, 947, 948, 949, 950, 951,\n",
              "       952, 954, 955, 956, 957, 958, 959, 960, 961, 962, 963, 964, 965,\n",
              "       966, 967, 968, 969, 970, 971, 972, 973, 974, 975, 976, 977, 978,\n",
              "       979, 980, 981, 982, 983, 984, 985, 986, 987, 988, 989, 990, 991,\n",
              "       992, 993, 994, 995, 996, 997, 998, 999])"
            ]
          },
          "metadata": {},
          "execution_count": 68
        }
      ]
    },
    {
      "cell_type": "code",
      "source": [
        "print('mean',np.mean([len(test_data_st[i].split()) for i in correct['mbti_bert_train_cnn_model'][0]]))\n",
        "print('min',np.min([len(test_data_st[i].split()) for i in correct['mbti_bert_train_cnn_model'][0]]))\n",
        "print('max',np.max([len(test_data_st[i].split()) for i in correct['mbti_bert_train_cnn_model'][0]]))"
      ],
      "metadata": {
        "colab": {
          "base_uri": "https://localhost:8080/"
        },
        "id": "y_Hx95xgK5Te",
        "outputId": "10caaa0a-5e2f-4b7a-83c1-1b5f2c926894"
      },
      "execution_count": 71,
      "outputs": [
        {
          "output_type": "stream",
          "name": "stdout",
          "text": [
            "mean 94.2463768115942\n",
            "min 0\n",
            "max 794\n"
          ]
        }
      ]
    },
    {
      "cell_type": "code",
      "source": [
        "print('mean',np.mean([len(test_data_st[i].split()) for i in wrong['mbti_bert_train_cnn_model'][0]]))\n",
        "print('min',np.min([len(test_data_st[i].split()) for i in wrong['mbti_bert_train_cnn_model'][0]]))\n",
        "print('max',np.max([len(test_data_st[i].split()) for i in wrong['mbti_bert_train_cnn_model'][0]]))"
      ],
      "metadata": {
        "colab": {
          "base_uri": "https://localhost:8080/"
        },
        "id": "-T4TpWRXLKLI",
        "outputId": "6fe8da7e-55e0-4e96-9219-a35bc46fe357"
      },
      "execution_count": 72,
      "outputs": [
        {
          "output_type": "stream",
          "name": "stdout",
          "text": [
            "mean 82.59720730397422\n",
            "min 0\n",
            "max 3163\n"
          ]
        }
      ]
    },
    {
      "cell_type": "code",
      "source": [
        "len(test_data_st[100].split())"
      ],
      "metadata": {
        "colab": {
          "base_uri": "https://localhost:8080/"
        },
        "id": "TiXUFPWaJcUs",
        "outputId": "2875601d-63e1-4b27-e9b7-3f9153183bbc"
      },
      "execution_count": 70,
      "outputs": [
        {
          "output_type": "execute_result",
          "data": {
            "text/plain": [
              "260"
            ]
          },
          "metadata": {},
          "execution_count": 70
        }
      ]
    },
    {
      "cell_type": "code",
      "source": [
        "pd.Series(predictions).value_counts().plot(kind = 'bar')"
      ],
      "metadata": {
        "colab": {
          "base_uri": "https://localhost:8080/",
          "height": 286
        },
        "id": "-wErL8nbIrxY",
        "outputId": "53c40c5b-bafd-4e83-d02e-c3343cdb8080"
      },
      "execution_count": 47,
      "outputs": [
        {
          "output_type": "execute_result",
          "data": {
            "text/plain": [
              "<matplotlib.axes._subplots.AxesSubplot at 0x7f0bdbcc5710>"
            ]
          },
          "metadata": {},
          "execution_count": 47
        },
        {
          "output_type": "display_data",
          "data": {
            "text/plain": [
              "<Figure size 432x288 with 1 Axes>"
            ],
            "image/png": "[encoded data removed]"
          },
          "metadata": {
            "needs_background": "light"
          }
        }
      ]
    },
    {
      "cell_type": "code",
      "source": [
        "pd.Series(nptest_labels).value_counts().plot(kind = 'bar')"
      ],
      "metadata": {
        "colab": {
          "base_uri": "https://localhost:8080/",
          "height": 286
        },
        "id": "X-kQRR6bIfti",
        "outputId": "feb6dd2e-fa71-494b-a7ab-6d7ef417d807"
      },
      "execution_count": 46,
      "outputs": [
        {
          "output_type": "execute_result",
          "data": {
            "text/plain": [
              "<matplotlib.axes._subplots.AxesSubplot at 0x7f0bdc279250>"
            ]
          },
          "metadata": {},
          "execution_count": 46
        },
        {
          "output_type": "display_data",
          "data": {
            "text/plain": [
              "<Figure size 432x288 with 1 Axes>"
            ],
            "image/png": "[encoded data removed]"
          },
          "metadata": {
            "needs_background": "light"
          }
        }
      ]
    },
    {
      "cell_type": "markdown",
      "source": [
        "# Notes and Next Steps"
      ],
      "metadata": {
        "id": "I22gpkAH8Ser"
      }
    },
    {
      "cell_type": "markdown",
      "source": [
        "Tactial Portion\n",
        "\n",
        "\n",
        "a)  not much improvment after 5 epochs but better than 2 epochs , it is really about how far we can run this I guess\n",
        "\n",
        "b) another approach is to add multiheaded self attention on the BERT. @john in your code I think you added 16 heads but I guess thats too many we can try with 6 or 8 may be\n",
        "\n",
        "c) Current CNN filter sizes are random guess ..need to look into how can we make them better  \n",
        "\n",
        "d) Is 500 max length ... too much. @SJ will see in above model at message length we got the right output \n",
        "\n",
        "e) should we convert document run function from dictionary to pandas data frame ..minor point in big scheme of things\n",
        "\n",
        "f) I cut down train data size to 120000.. even then with batch size of 32 and one epoch it takes about 1:20 mins or so.. are there ways to make this faster. W251 was resource intensive and instructors gave guidance as well as processing capabilities needs for each home work as well as for project based on scope, here I guess I am doing something basic wrong which is adding more processing time , please review \n",
        "\n",
        "g) dataloaders - current implementation of data loaders is not most efficient one. If there is a way to convert source files into CSV(based on what I know) then we can utilize the skiprows option while data gets into the dataframe, with parquet format I could not get that working with pyarrow, so somewhat of a round about way of implementing this. but then with CSV the load times will be larger as it is not compressed as compared to parquet.. I dont think this would matter much to the grade but if either of you have bandwidth of experience on tuning this further please look into this.\n",
        "\n",
        "\n",
        "\n",
        "h) overall for BERT I think we have 2 options \n",
        "\n",
        "a) Unfreeze a layer and train it for our data set and then add CNN on top (which I have done here) \n",
        "\n",
        "b) Keep BERT as it is and then add multiheaded self attention layer (code is in this notebook but did not yield much results either)\n",
        "\n",
        "but i believe this a good topic to dig further into for BERT section of our report and showcase the differences \n",
        "\n"
      ],
      "metadata": {
        "id": "8ShBTZ1eJd9b"
      }
    }
  ]
}