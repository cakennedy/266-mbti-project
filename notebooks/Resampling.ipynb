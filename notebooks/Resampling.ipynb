{
  "cells": [
    {
      "cell_type": "markdown",
      "metadata": {
        "id": "4G73ZIA7FGaA"
      },
      "source": [
        "# W266 Final Project\n",
        "# Resampling\n",
        "# October 9, 2022\n",
        "# John Clark, Shrinivas Joshi, Courtney Kennedy\n",
        "\n",
        "[![Open In Colab](https://colab.research.google.com/assets/colab-badge.svg)](https://colab.research.google.com/github/cakennedy/266-mbti-project/blob/main/notebooks/Resampling.ipynb#)\n",
        "\n",
        "\n",
        "# There are several different resampling strategies to try\n",
        "\n",
        "#### First, we want to look at using the four letter types as well as the categorical variables, and create new distributions by under and over sampling based on both ways of organizing the data.\n",
        "\n",
        "#### Second, we want to try over/under sampling to get to different distributions.  These will include a uniform distribution across all categories and then a distribution that matches the natural distribution found in the general population."
      ]
    },
    {
      "cell_type": "code",
      "execution_count": 17,
      "metadata": {
        "colab": {
          "base_uri": "https://localhost:8080/"
        },
        "id": "23R-8TE-E_Ui",
        "outputId": "def982eb-9658-4df9-8914-3824a28281d0"
      },
      "outputs": [
        {
          "output_type": "stream",
          "name": "stdout",
          "text": [
            "Not connected to a GPU\n",
            "\n",
            "\n",
            "Your runtime has 54.8 gigabytes of available RAM\n",
            "\n",
            "You are using a high-RAM runtime!\n"
          ]
        }
      ],
      "source": [
        "# Google collab premium utilities status check\n",
        "# GPU\n",
        "gpu_info = !nvidia-smi\n",
        "gpu_info = '\\n'.join(gpu_info)\n",
        "if gpu_info.find('failed') >= 0:\n",
        "  print('Not connected to a GPU')\n",
        "else:\n",
        "  print(gpu_info)\n",
        "\n",
        "print( '\\n')\n",
        "\n",
        "# RAM\n",
        "from psutil import virtual_memory\n",
        "ram_gb = virtual_memory().total / 1e9\n",
        "print('Your runtime has {:.1f} gigabytes of available RAM\\n'.format(ram_gb))\n",
        "\n",
        "if ram_gb < 20:\n",
        "  print('Not using a high-RAM runtime')\n",
        "else:\n",
        "  print('You are using a high-RAM runtime!')"
      ]
    },
    {
      "cell_type": "code",
      "execution_count": 18,
      "metadata": {
        "colab": {
          "base_uri": "https://localhost:8080/"
        },
        "id": "bkEwUhSFFypg",
        "outputId": "a80913da-f9e6-4b40-acd5-9995ad9e0a44"
      },
      "outputs": [
        {
          "output_type": "stream",
          "name": "stderr",
          "text": [
            "[nltk_data] Downloading package punkt to /root/nltk_data...\n",
            "[nltk_data]   Package punkt is already up-to-date!\n",
            "[nltk_data] Downloading package stopwords to /root/nltk_data...\n",
            "[nltk_data]   Package stopwords is already up-to-date!\n",
            "[nltk_data] Downloading package wordnet to /root/nltk_data...\n",
            "[nltk_data]   Package wordnet is already up-to-date!\n"
          ]
        }
      ],
      "source": [
        "# imports\n",
        "import sys\n",
        "import csv\n",
        "\n",
        "\n",
        "import pandas as pd\n",
        "import io\n",
        "from io import BytesIO\n",
        "import matplotlib.pyplot as plt\n",
        "import altair as alt\n",
        "import numpy as np\n",
        "import textwrap\n",
        "\n",
        "import nltk\n",
        "nltk.download('punkt')\n",
        "nltk.download('stopwords')\n",
        "nltk.download('wordnet')\n",
        "from nltk import word_tokenize\n",
        "from nltk.corpus import stopwords\n",
        "import re\n",
        "import time\n",
        "from sklearn.feature_extraction.text import TfidfVectorizer\n",
        "from sklearn.linear_model import LogisticRegression\n",
        "from sklearn.svm import LinearSVC\n",
        "\n",
        "from sklearn.utils import resample\n",
        "from sklearn.utils import shuffle\n"
      ]
    },
    {
      "cell_type": "code",
      "execution_count": 19,
      "metadata": {
        "id": "gxTiGQmROBR2"
      },
      "outputs": [],
      "source": [
        "# Configuration Flags\n",
        "\n",
        "useGCloudForStorage = True\n",
        "\n"
      ]
    },
    {
      "cell_type": "code",
      "execution_count": 20,
      "metadata": {
        "id": "zt2RpMxgasCk"
      },
      "outputs": [],
      "source": [
        "\n",
        "# Global State Flags\n",
        "uploadedGCloudCredentials = False\n",
        "mountedGoogleDrive = False\n",
        "configuredGCloud = False\n",
        "\n",
        "\n",
        "# Global Variables\n",
        "gdrive_path = '/content/drive/MyDrive/content/drive/'\n",
        "\n",
        "gcloud_bucket = None\n",
        "gcloud_bucket_name = \"\""
      ]
    },
    {
      "cell_type": "code",
      "execution_count": 21,
      "metadata": {
        "id": "f5aiiZkZhwtR"
      },
      "outputs": [],
      "source": [
        "# To work from a google drive use this:\n",
        "from google.colab import drive\n",
        "\n",
        "def mount_google_drive():\n",
        "    global userGCloudForStorage\n",
        "    global mountedGoogleDrive\n",
        "\n",
        "    if useGCloudForStorage == False:\n",
        "        if mountedGoogleDrive == False:\n",
        "            drive.mount('/content/drive')\n",
        "            mountedGoogleDrive = True\n",
        "\n"
      ]
    },
    {
      "cell_type": "code",
      "execution_count": 22,
      "metadata": {
        "id": "U7TiC-iFN8RR"
      },
      "outputs": [],
      "source": [
        "# To work from gcloud, use this:\n",
        "\n",
        "# Upload Google Cloud service account key to enable authentication ( json file )\n",
        "# Go to https://console.cloud.google.com/:\n",
        "# Under the Navigation Menu ( upper left 3 horizontal lines) \n",
        "# 1. choose IAM & Admin>\n",
        "# 2. choose Service Accounts>\n",
        "# 3. Select a Service Account>\n",
        "# 4. Under the Actions menu ( 3 dots to the right of the service account )>Manage Keys to create your own json credentials file\n",
        "\n",
        "from google.colab import files\n",
        "from google.cloud import storage\n",
        "\n",
        "\n",
        "def upload_gcloud_credentials():\n",
        "    global useGCloudForStorage\n",
        "    global uploadedGCloudCredentials\n",
        "\n",
        "    if useGCloudForStorage:\n",
        "        if uploadedGCloudCredentials == False:\n",
        "\n",
        "            uploaded = files.upload()\n",
        "            uploadedGCloudCredentials = True\n",
        "\n",
        "\n",
        "def config_GCloud():\n",
        "    global configuredGCloud\n",
        "    global gcloud_bucket\n",
        "    global gcloud_bucket_name\n",
        "\n",
        "    if configuredGCloud:\n",
        "        return gcloud_bucket, gcloud_bucket_name\n",
        "\n",
        "    #Load Google Cloud storage client using service key\n",
        "    storage_client = storage.Client.from_service_account_json('pacific-castle-360400-a3ca89f64de6.json')\n",
        "    #Print buckets available\n",
        "    for bucket in storage_client.list_buckets():\n",
        "        print(bucket)\n",
        "\n",
        "    #Assign bucket name being used\n",
        "    gcloud_bucket_name = '266csffile'\n",
        "\n",
        "    #Get bucket\n",
        "    gcloud_bucket = storage_client.get_bucket(gcloud_bucket_name)\n",
        "\n",
        "    #Show list of files in bucket and list the files\n",
        "    filename = list(gcloud_bucket.list_blobs(prefix=''))\n",
        "    for name in filename:\n",
        "        print(name.name)\n",
        "\n",
        "    #Increase field size to allow reading in of files\n",
        "    maxInt = sys.maxsize\n",
        "\n",
        "    while True:\n",
        "        # decrease the maxInt value by factor 10 as long as overflow error occurs \n",
        "        try:\n",
        "            csv.field_size_limit(maxInt)\n",
        "            break\n",
        "        except OverflowError:\n",
        "            maxInt = int(maxInt/10)\n",
        "\n",
        "    configuredGCloud = True\n",
        "\n",
        "    return gcloud_bucket, gcloud_bucket_name\n"
      ]
    },
    {
      "cell_type": "code",
      "execution_count": 23,
      "metadata": {
        "id": "wa50rmErg6Y_"
      },
      "outputs": [],
      "source": [
        "# Read source data files in and create dataframes\n",
        "\n",
        "def read_sources_from_Drive():\n",
        "    global useGCloudForStorage\n",
        "\n",
        "    if useGCloudForStorage == True:  \n",
        "        return\n",
        "\n",
        "    mount_google_drive()\n",
        "\n",
        "    # test file is a 1000 row file to use in developing data cleaning routines before tackling the real files\n",
        "    # test_posts_df = pd.read_csv( '/content/drive/MyDrive/content/drive/test_posts.csv')\n",
        "\n",
        "    # Two forms of Posts files- both a full dataframe and an iterator\n",
        "    posts_full_df = pd.read_csv('/content/drive/MyDrive/content/drive/typology_xenforo-9-25-22-posts.csv')\n",
        "    posts_iterator = pd.read_csv('/content/drive/MyDrive/content/drive/typology_xenforo-9-25-22-posts.csv', chunksize = 10000)\n",
        "\n",
        "    header_df = pd.read_csv('/content/drive/MyDrive/content/drive/typology_xenforo.csv')\n",
        "\n",
        "    return header_df, posts_full_df, posts_iterator\n",
        "\n",
        "\n",
        "def read_sources_from_GCloud():\n",
        "    global useGCloudForStorage\n",
        "\n",
        "    if useGCloudForStorage == False:\n",
        "        return\n",
        "\n",
        "    upload_gcloud_credentials()\n",
        "    bucket, bucket_name = config_GCloud()\n",
        "\n",
        "    #Grab blob header file and download as string\n",
        "    users = bucket.blob('typology_xenforo-9-25-22.csv')\n",
        "    string_data_users = users.download_as_string()\n",
        "    print( string_data_users )\n",
        "\n",
        "    #Convert to pandas\n",
        "    header_df = pd.read_csv(io.BytesIO(string_data_users), encoding='utf-8', sep=',', engine='python')\n",
        "\n",
        "    #Grab blob posts file and download as string\n",
        "    posts = bucket.blob('typology_xenforo-9-25-22-posts.csv')\n",
        "    string_data_posts = posts.download_as_string()\n",
        "    print( string_data_posts)\n",
        "\n",
        "    #Convert to pandas\n",
        "    posts_full_df = pd.read_csv(io.BytesIO(string_data_posts), encoding='utf-8', sep=',', engine='python')\n",
        "\n",
        "    posts_iterator = pd.read_csv(io.BytesIO(string_data_posts), encoding='utf-8', sep=',', chunksize = 10000)\n",
        "\n",
        "    return header_df, posts_full_df, posts_iterator\n",
        "\n"
      ]
    },
    {
      "cell_type": "code",
      "execution_count": 24,
      "metadata": {
        "id": "vcihmi6mYiNY"
      },
      "outputs": [],
      "source": [
        "# write parquet files\n",
        "\n",
        "def write_parquet_gdrive( df, filename):\n",
        "    global gdrive_path\n",
        "\n",
        "    full_path_to_file = gdrive_path + filename\n",
        "\n",
        "    print( full_path_to_file)\n",
        "    df.to_parquet(full_path_to_file)\n",
        "\n",
        "\n",
        "def write_parquet_google_cloud( df, filename):\n",
        "\n",
        "    bucket, bucket_name = config_GCloud()\n",
        "\n",
        "    blob = bucket.blob( filename )\n",
        "    blob.upload_from_string(df.to_parquet(), 'application/octet-stream')\n",
        "\n",
        "def write_parquet_file( dataframe, filename):\n",
        "\n",
        "    global useGCloudForStorage\n",
        "\n",
        "    if useGCloudForStorage:\n",
        "        write_parquet_google_cloud( dataframe, filename )\n",
        "    else:\n",
        "        write_parquet_gdrive( dataframe, filename )\n",
        "\n"
      ]
    },
    {
      "cell_type": "code",
      "execution_count": 9,
      "metadata": {
        "id": "CzbJP-nYJ2Ab",
        "outputId": "93872d9d-4dd4-4224-d016-f0f8cfa86d82",
        "colab": {
          "base_uri": "https://localhost:8080/",
          "height": 288
        }
      },
      "outputs": [
        {
          "output_type": "display_data",
          "data": {
            "text/plain": [
              "<IPython.core.display.HTML object>"
            ],
            "text/html": [
              "\n",
              "     <input type=\"file\" id=\"files-2890ccbc-2576-4fc8-9454-94296b12fb5f\" name=\"files[]\" multiple disabled\n",
              "        style=\"border:none\" />\n",
              "     <output id=\"result-2890ccbc-2576-4fc8-9454-94296b12fb5f\">\n",
              "      Upload widget is only available when the cell has been executed in the\n",
              "      current browser session. Please rerun this cell to enable.\n",
              "      </output>\n",
              "      <script>// Copyright 2017 Google LLC\n",
              "//\n",
              "// Licensed under the Apache License, Version 2.0 (the \"License\");\n",
              "// you may not use this file except in compliance with the License.\n",
              "// You may obtain a copy of the License at\n",
              "//\n",
              "//      http://www.apache.org/licenses/LICENSE-2.0\n",
              "//\n",
              "// Unless required by applicable law or agreed to in writing, software\n",
              "// distributed under the License is distributed on an \"AS IS\" BASIS,\n",
              "// WITHOUT WARRANTIES OR CONDITIONS OF ANY KIND, either express or implied.\n",
              "// See the License for the specific language governing permissions and\n",
              "// limitations under the License.\n",
              "\n",
              "/**\n",
              " * @fileoverview Helpers for google.colab Python module.\n",
              " */\n",
              "(function(scope) {\n",
              "function span(text, styleAttributes = {}) {\n",
              "  const element = document.createElement('span');\n",
              "  element.textContent = text;\n",
              "  for (const key of Object.keys(styleAttributes)) {\n",
              "    element.style[key] = styleAttributes[key];\n",
              "  }\n",
              "  return element;\n",
              "}\n",
              "\n",
              "// Max number of bytes which will be uploaded at a time.\n",
              "const MAX_PAYLOAD_SIZE = 100 * 1024;\n",
              "\n",
              "function _uploadFiles(inputId, outputId) {\n",
              "  const steps = uploadFilesStep(inputId, outputId);\n",
              "  const outputElement = document.getElementById(outputId);\n",
              "  // Cache steps on the outputElement to make it available for the next call\n",
              "  // to uploadFilesContinue from Python.\n",
              "  outputElement.steps = steps;\n",
              "\n",
              "  return _uploadFilesContinue(outputId);\n",
              "}\n",
              "\n",
              "// This is roughly an async generator (not supported in the browser yet),\n",
              "// where there are multiple asynchronous steps and the Python side is going\n",
              "// to poll for completion of each step.\n",
              "// This uses a Promise to block the python side on completion of each step,\n",
              "// then passes the result of the previous step as the input to the next step.\n",
              "function _uploadFilesContinue(outputId) {\n",
              "  const outputElement = document.getElementById(outputId);\n",
              "  const steps = outputElement.steps;\n",
              "\n",
              "  const next = steps.next(outputElement.lastPromiseValue);\n",
              "  return Promise.resolve(next.value.promise).then((value) => {\n",
              "    // Cache the last promise value to make it available to the next\n",
              "    // step of the generator.\n",
              "    outputElement.lastPromiseValue = value;\n",
              "    return next.value.response;\n",
              "  });\n",
              "}\n",
              "\n",
              "/**\n",
              " * Generator function which is called between each async step of the upload\n",
              " * process.\n",
              " * @param {string} inputId Element ID of the input file picker element.\n",
              " * @param {string} outputId Element ID of the output display.\n",
              " * @return {!Iterable<!Object>} Iterable of next steps.\n",
              " */\n",
              "function* uploadFilesStep(inputId, outputId) {\n",
              "  const inputElement = document.getElementById(inputId);\n",
              "  inputElement.disabled = false;\n",
              "\n",
              "  const outputElement = document.getElementById(outputId);\n",
              "  outputElement.innerHTML = '';\n",
              "\n",
              "  const pickedPromise = new Promise((resolve) => {\n",
              "    inputElement.addEventListener('change', (e) => {\n",
              "      resolve(e.target.files);\n",
              "    });\n",
              "  });\n",
              "\n",
              "  const cancel = document.createElement('button');\n",
              "  inputElement.parentElement.appendChild(cancel);\n",
              "  cancel.textContent = 'Cancel upload';\n",
              "  const cancelPromise = new Promise((resolve) => {\n",
              "    cancel.onclick = () => {\n",
              "      resolve(null);\n",
              "    };\n",
              "  });\n",
              "\n",
              "  // Wait for the user to pick the files.\n",
              "  const files = yield {\n",
              "    promise: Promise.race([pickedPromise, cancelPromise]),\n",
              "    response: {\n",
              "      action: 'starting',\n",
              "    }\n",
              "  };\n",
              "\n",
              "  cancel.remove();\n",
              "\n",
              "  // Disable the input element since further picks are not allowed.\n",
              "  inputElement.disabled = true;\n",
              "\n",
              "  if (!files) {\n",
              "    return {\n",
              "      response: {\n",
              "        action: 'complete',\n",
              "      }\n",
              "    };\n",
              "  }\n",
              "\n",
              "  for (const file of files) {\n",
              "    const li = document.createElement('li');\n",
              "    li.append(span(file.name, {fontWeight: 'bold'}));\n",
              "    li.append(span(\n",
              "        `(${file.type || 'n/a'}) - ${file.size} bytes, ` +\n",
              "        `last modified: ${\n",
              "            file.lastModifiedDate ? file.lastModifiedDate.toLocaleDateString() :\n",
              "                                    'n/a'} - `));\n",
              "    const percent = span('0% done');\n",
              "    li.appendChild(percent);\n",
              "\n",
              "    outputElement.appendChild(li);\n",
              "\n",
              "    const fileDataPromise = new Promise((resolve) => {\n",
              "      const reader = new FileReader();\n",
              "      reader.onload = (e) => {\n",
              "        resolve(e.target.result);\n",
              "      };\n",
              "      reader.readAsArrayBuffer(file);\n",
              "    });\n",
              "    // Wait for the data to be ready.\n",
              "    let fileData = yield {\n",
              "      promise: fileDataPromise,\n",
              "      response: {\n",
              "        action: 'continue',\n",
              "      }\n",
              "    };\n",
              "\n",
              "    // Use a chunked sending to avoid message size limits. See b/62115660.\n",
              "    let position = 0;\n",
              "    do {\n",
              "      const length = Math.min(fileData.byteLength - position, MAX_PAYLOAD_SIZE);\n",
              "      const chunk = new Uint8Array(fileData, position, length);\n",
              "      position += length;\n",
              "\n",
              "      const base64 = btoa(String.fromCharCode.apply(null, chunk));\n",
              "      yield {\n",
              "        response: {\n",
              "          action: 'append',\n",
              "          file: file.name,\n",
              "          data: base64,\n",
              "        },\n",
              "      };\n",
              "\n",
              "      let percentDone = fileData.byteLength === 0 ?\n",
              "          100 :\n",
              "          Math.round((position / fileData.byteLength) * 100);\n",
              "      percent.textContent = `${percentDone}% done`;\n",
              "\n",
              "    } while (position < fileData.byteLength);\n",
              "  }\n",
              "\n",
              "  // All done.\n",
              "  yield {\n",
              "    response: {\n",
              "      action: 'complete',\n",
              "    }\n",
              "  };\n",
              "}\n",
              "\n",
              "scope.google = scope.google || {};\n",
              "scope.google.colab = scope.google.colab || {};\n",
              "scope.google.colab._files = {\n",
              "  _uploadFiles,\n",
              "  _uploadFilesContinue,\n",
              "};\n",
              "})(self);\n",
              "</script> "
            ]
          },
          "metadata": {}
        },
        {
          "output_type": "stream",
          "name": "stdout",
          "text": [
            "Saving pacific-castle-360400-a3ca89f64de6.json to pacific-castle-360400-a3ca89f64de6.json\n",
            "<Bucket: 266csffile>\n",
            "dev_mbti_data.csv\n",
            "dev_mbti_labels.csv\n",
            "test_mbti_data.csv\n",
            "test_mbti_labels.csv\n",
            "train_mbti_data.csv\n",
            "train_mbti_labels.csv\n",
            "typology_merged.parquet\n",
            "typology_users_clean.csv\n",
            "typology_xenforo-9-25-22-posts.csv\n",
            "typology_xenforo-9-25-22.csv\n",
            "typology_xenforo-9-25-22_clean.parquet\n"
          ]
        }
      ],
      "source": [
        "upload_gcloud_credentials()\n",
        "bucket, bucket_name = config_GCloud()\n",
        "\n"
      ]
    },
    {
      "cell_type": "code",
      "execution_count": 25,
      "metadata": {
        "colab": {
          "base_uri": "https://localhost:8080/"
        },
        "id": "8vN8FCt6F4ni",
        "outputId": "e3ee1b9e-88ab-48e5-9824-066a18705dfe"
      },
      "outputs": [
        {
          "output_type": "stream",
          "name": "stdout",
          "text": [
            "typology_xenforo-9-25-22_clean.parquet\n",
            "typology_xenforo-9-25-22_clean.parquet\n",
            "<Bucket: 266csffile>\n",
            "dev_mbti_data.csv\n",
            "dev_mbti_labels.csv\n",
            "test_mbti_data.csv\n",
            "test_mbti_labels.csv\n",
            "train_mbti_data.csv\n",
            "train_mbti_labels.csv\n",
            "typology_merged.parquet\n",
            "typology_users_clean.csv\n",
            "typology_xenforo-9-25-22-posts.csv\n",
            "typology_xenforo-9-25-22.csv\n",
            "typology_xenforo-9-25-22_clean.parquet\n"
          ]
        }
      ],
      "source": [
        "# read in the already cleaned posts data\n",
        "\n",
        "posts_filename = 'typology_xenforo-9-25-22_clean.parquet'\n",
        "\n",
        "print( posts_filename)\n",
        "\n",
        "# read back and look for corruption\n",
        "bucket, bucket_name = config_GCloud()\n",
        "\n",
        "read_back = bucket.blob(posts_filename)\n",
        "string_read_back = read_back.download_as_string()\n",
        "posts_df = pd.read_parquet(io.BytesIO(string_read_back))\n",
        "\n",
        "\n"
      ]
    },
    {
      "cell_type": "code",
      "execution_count": 26,
      "metadata": {
        "id": "eg404Y7qGMmb"
      },
      "outputs": [],
      "source": [
        "# read in the already cleaned header(user) data\n",
        "\n",
        "header_filename = 'typology_users_clean.csv'\n",
        "\n",
        "bucket, bucket_name = config_GCloud()\n",
        "\n",
        "header_blob = bucket.blob( header_filename )\n",
        "header_string = header_blob.download_as_string()\n",
        "   \n",
        "users_df = pd.read_csv(io.BytesIO(header_string), engine='python')\n",
        "\n",
        "\n",
        "\n"
      ]
    },
    {
      "cell_type": "code",
      "execution_count": 27,
      "metadata": {
        "colab": {
          "base_uri": "https://localhost:8080/"
        },
        "id": "bDRQeoDOWeO_",
        "outputId": "889286d6-11fd-4556-a0cb-8ec9d36bcf25"
      },
      "outputs": [
        {
          "output_type": "stream",
          "name": "stdout",
          "text": [
            "typology_merged.parquet\n",
            "typology_merged.parquet\n"
          ]
        }
      ],
      "source": [
        "# read in the already cleaned, merged data\n",
        "\n",
        "merged_filename = 'typology_merged.parquet'\n",
        "\n",
        "print( merged_filename)\n",
        "\n",
        "# read back and look for corruption\n",
        "bucket, bucket_name = config_GCloud()\n",
        "\n",
        "read_back = bucket.blob(merged_filename)\n",
        "string_read_back = read_back.download_as_string()\n",
        "merged_df = pd.read_parquet(io.BytesIO(string_read_back))\n",
        "\n",
        "\n"
      ]
    },
    {
      "cell_type": "code",
      "execution_count": 28,
      "metadata": {
        "colab": {
          "base_uri": "https://localhost:8080/"
        },
        "id": "44hqsfhFK864",
        "outputId": "4261e62e-dcee-4c12-9e09-ec9055af6c67"
      },
      "outputs": [
        {
          "output_type": "stream",
          "name": "stdout",
          "text": [
            "merged shape: (1611083, 17)\n",
            "merged columns: Index(['Unnamed: 0', 'Username', 'Age', 'Posts', 'MBTI Type', 'Enneagram',\n",
            "       'Instinctual Variant', 'Gender', 'Occupation', 'is_I', 'is_S', 'is_T',\n",
            "       'is_J', 'post_id', 'thread_id', 'post_date', 'message'],\n",
            "      dtype='object')\n",
            "merged index: Int64Index([      0,       1,       2,       3,       4,       5,       6,\n",
            "                  7,       8,       9,\n",
            "            ...\n",
            "            1611073, 1611074, 1611075, 1611076, 1611077, 1611078, 1611079,\n",
            "            1611080, 1611081, 1611082],\n",
            "           dtype='int64', length=1611083)\n",
            "merged shape: (1611083, 16)\n",
            "merged columns: Index(['Username', 'Age', 'Posts', 'MBTI Type', 'Enneagram',\n",
            "       'Instinctual Variant', 'Gender', 'Occupation', 'is_I', 'is_S', 'is_T',\n",
            "       'is_J', 'post_id', 'thread_id', 'post_date', 'message'],\n",
            "      dtype='object')\n",
            "merged shape: (1611083, 17)\n",
            "merged columns: Index(['Unnamed: 0', 'Username', 'Age', 'Posts', 'MBTI Type', 'Enneagram',\n",
            "       'Instinctual Variant', 'Gender', 'Occupation', 'is_I', 'is_S', 'is_T',\n",
            "       'is_J', 'post_id', 'thread_id', 'post_date', 'message'],\n",
            "      dtype='object')\n",
            "merged index: Int64Index([      0,       1,       2,       3,       4,       5,       6,\n",
            "                  7,       8,       9,\n",
            "            ...\n",
            "            1611073, 1611074, 1611075, 1611076, 1611077, 1611078, 1611079,\n",
            "            1611080, 1611081, 1611082],\n",
            "           dtype='int64', length=1611083)\n",
            "merged shape: (1611083, 16)\n",
            "merged columns: Index(['Username', 'Age', 'Posts', 'MBTI Type', 'Enneagram',\n",
            "       'Instinctual Variant', 'Gender', 'Occupation', 'is_I', 'is_S', 'is_T',\n",
            "       'is_J', 'post_id', 'thread_id', 'post_date', 'message'],\n",
            "      dtype='object')\n"
          ]
        }
      ],
      "source": [
        "# take stock of what we have\n",
        "\n",
        "\n",
        "# merged statistics\n",
        "\n",
        "print( \"merged shape:\", merged_df.shape )\n",
        "print( \"merged columns:\", merged_df.columns )\n",
        "print( \"merged index:\", merged_df.index )\n",
        "\n",
        "merged_df = merged_df.drop(['Unnamed: 0'], axis=1)\n",
        "\n",
        "print( \"merged shape:\", merged_df.shape )\n",
        "print( \"merged columns:\", merged_df.columns )\n",
        "\n",
        "\n",
        "\n",
        "\n",
        "\n",
        "\n"
      ]
    },
    {
      "cell_type": "markdown",
      "metadata": {
        "id": "TtMZffpNb_wF"
      },
      "source": [
        "##General Population Distribution, according to the Myers Briggs Website\n",
        "\n",
        "From https://www.myersbriggs.org/my-mbti-personality-type/my-mbti-results/how-frequent-is-my-type.htm\n",
        "\n",
        "That data is from 2002.  \n",
        "Here's another source that largely agrees:\n",
        "https://personalitymax.com/personality-types/population-gender/\n",
        "\n",
        "\n",
        "[link text](https://drive.google.com/file/d/1JuEw-cDa38wcex_igwtohygpv0q52vT3/view?usp=sharing)\n",
        "\n"
      ]
    },
    {
      "cell_type": "code",
      "execution_count": 30,
      "metadata": {
        "id": "OtDWJnQZdYWX"
      },
      "outputs": [],
      "source": [
        "# Valid MBTI Types\n",
        "\n",
        "valid_MBTI = ['ISTJ', \n",
        "              'INTJ', \n",
        "              'ESTJ', \n",
        "              'ENTJ', \n",
        "              'ENTP', \n",
        "              'INTP', \n",
        "              'ISTP', \n",
        "              'ESTP', \n",
        "              'ISFJ', \n",
        "              'INFJ', \n",
        "              'ESFJ', \n",
        "              'ENFJ', \n",
        "              'ENFP', \n",
        "              'INFP', \n",
        "              'ISFP', \n",
        "              'ESFP']\n",
        "\n",
        "valid_subtypes = [ 'Introverted',\n",
        "                   'Extroverted',\n",
        "                   'Sensing',\n",
        "                   'Intuitive',\n",
        "                   'Thinking',\n",
        "                   'Feeling',\n",
        "                   'Judging',\n",
        "                   'Perceiving' ]\n"
      ]
    },
    {
      "cell_type": "code",
      "execution_count": 31,
      "metadata": {
        "id": "-K8hNE-txiPm"
      },
      "outputs": [],
      "source": [
        "def get_MBTI_distribution( input_df ):\n",
        "    total_posts = input_df.shape[0]\n",
        "\n",
        "    mbti_type_counts = input_df['MBTI Type'].value_counts()\n",
        "    print( mbti_type_counts)\n",
        "\n",
        "    mbti_data_pct = [ mbti_type_counts[type]/total_posts for type in valid_MBTI ]\n",
        "    print( mbti_data_pct)\n",
        "\n",
        "    i_type_counts = input_df['is_I'].value_counts()\n",
        "    s_type_counts = input_df['is_S'].value_counts()\n",
        "    t_type_counts = input_df['is_T'].value_counts()\n",
        "    j_type_counts = input_df['is_J'].value_counts()\n",
        "\n",
        "    subtypes_data_counts = [i_type_counts[True],\n",
        "                            i_type_counts[False],\n",
        "                            s_type_counts[True],\n",
        "                            s_type_counts[False],\n",
        "                            t_type_counts[True],\n",
        "                            t_type_counts[False],\n",
        "                            j_type_counts[True],\n",
        "                            j_type_counts[False]\n",
        "                            ]\n",
        "    print( subtypes_data_counts)\n",
        "    subtypes_data_pct = [ i/total_posts for i in subtypes_data_counts ]\n",
        "    print( subtypes_data_pct)\n",
        "\n",
        "    return mbti_type_counts, mbti_data_pct, subtypes_data_counts, subtypes_data_pct\n"
      ]
    },
    {
      "cell_type": "code",
      "execution_count": 32,
      "metadata": {
        "colab": {
          "base_uri": "https://localhost:8080/"
        },
        "id": "AUaNwygSagx8",
        "outputId": "d3217084-35c2-4629-ff8a-7bdb01f9ab65"
      },
      "outputs": [
        {
          "output_type": "stream",
          "name": "stdout",
          "text": [
            "INTJ    228701\n",
            "INFP    216037\n",
            "INTP    214658\n",
            "ENFP    183607\n",
            "INFJ    162980\n",
            "ENTP    148135\n",
            "ENTJ     71974\n",
            "ISTP     69981\n",
            "ISFP     64670\n",
            "ENFJ     47045\n",
            "ESFJ     41885\n",
            "ESTJ     36633\n",
            "ESFP     33965\n",
            "ESTP     33643\n",
            "ISTJ     33379\n",
            "ISFJ     23790\n",
            "Name: MBTI Type, dtype: int64\n",
            "[0.020718361499686856, 0.14195482169447507, 0.022738120878936716, 0.04467429673083261, 0.09194746639372398, 0.13323832477904615, 0.04343724066357847, 0.020882226427812844, 0.014766464545898628, 0.10116176509838413, 0.02599803982786734, 0.029200854332148002, 0.11396495400919754, 0.1340942707483103, 0.04014070038601363, 0.021082091984087722]\n",
            "[1014196, 596887, 337946, 1273137, 837104, 773979, 646387, 964696]\n",
            "[0.6295119494153932, 0.37048805058460677, 0.2097632462138822, 0.7902367537861178, 0.5195908590680927, 0.4804091409319073, 0.4012127246082294, 0.5987872753917707]\n"
          ]
        }
      ],
      "source": [
        "# get distribution of MBTI types and of categorical types in our data\n",
        "\n",
        "mbti_type_counts, mbti_data_pct, subtypes_data_counts, subtypes_data_pct = get_MBTI_distribution( merged_df )\n"
      ]
    },
    {
      "cell_type": "code",
      "execution_count": 33,
      "metadata": {
        "id": "1reDwmvKahCV"
      },
      "outputs": [],
      "source": [
        "# General Population Distribution\n",
        "\n",
        "mbti_est_gen_pop_pct = [.116,  # ISTJ\n",
        "                        .021,  # INTJ\n",
        "                        .087,  # ESTJ\n",
        "                        .018,  # ENTJ\n",
        "                        .032,  # ENTP\n",
        "                        .033,  # INTP\n",
        "                        .054,  # ISTP\n",
        "                        .043,  # ESTP\n",
        "                        .138,  # ISFJ\n",
        "                        .015,  # INFJ\n",
        "                        .120,  # ESFJ\n",
        "                        .025,  # ENFJ\n",
        "                        .081,  # ENFP\n",
        "                        .044,  # INFP\n",
        "                        .088,  # ISFP\n",
        "                        .085 ] # ESFP\n",
        "                              \n",
        "subtypes_est_gen_pop_pct = [ .507,  # Introverted\n",
        "                             .493,  # Extroverted\n",
        "                             .733,  # Sensing\n",
        "                             .267,  # Intuitive\n",
        "                             .402,  # Thinking\n",
        "                             .598,  # Feeling\n",
        "                             .541,  # Judging\n",
        "                             .459]  # Perceiving\n",
        "\n",
        "mbti_uniform_pct = [1/len(valid_MBTI) for i in range( 0, len(valid_MBTI))]\n",
        "subtypes_uniform_pct = [.5 for i in range( 0, len(valid_subtypes))]\n",
        "\n"
      ]
    },
    {
      "cell_type": "code",
      "execution_count": null,
      "metadata": {
        "colab": {
          "base_uri": "https://localhost:8080/"
        },
        "id": "yV7Ez10NkBFX",
        "outputId": "162941d4-d247-4381-d2c5-a27317d56a4d"
      },
      "outputs": [
        {
          "name": "stdout",
          "output_type": "stream",
          "text": [
            "   MBTI Type      Data  Population  Uniform\n",
            "0       ISTJ  0.020718       0.116   0.0625\n",
            "1       INTJ  0.141955       0.021   0.0625\n",
            "2       ESTJ  0.022738       0.087   0.0625\n",
            "3       ENTJ  0.044674       0.018   0.0625\n",
            "4       ENTP  0.091947       0.032   0.0625\n",
            "5       INTP  0.133238       0.033   0.0625\n",
            "6       ISTP  0.043437       0.054   0.0625\n",
            "7       ESTP  0.020882       0.043   0.0625\n",
            "8       ISFJ  0.014766       0.138   0.0625\n",
            "9       INFJ  0.101162       0.015   0.0625\n",
            "10      ESFJ  0.025998       0.120   0.0625\n",
            "11      ENFJ  0.029201       0.025   0.0625\n",
            "12      ENFP  0.113965       0.081   0.0625\n",
            "13      INFP  0.134094       0.044   0.0625\n",
            "14      ISFP  0.040141       0.088   0.0625\n",
            "15      ESFP  0.021082       0.085   0.0625\n",
            "  MBTI Subtype      Data  Population  Uniform\n",
            "0  Introverted  0.629512       0.507    0.125\n",
            "1  Extroverted  0.370488       0.493    0.125\n",
            "2      Sensing  0.209763       0.733    0.125\n",
            "3    Intuitive  0.790237       0.267    0.125\n",
            "4     Thinking  0.519591       0.402    0.125\n",
            "5      Feeling  0.480409       0.598    0.125\n",
            "6      Judging  0.401213       0.541    0.125\n",
            "7   Perceiving  0.598787       0.459    0.125\n"
          ]
        }
      ],
      "source": [
        "mbti_dist = list( zip( valid_MBTI, mbti_data_pct, mbti_est_gen_pop_pct, mbti_uniform_pct))\n",
        "\n",
        "mbti_dist_df = pd.DataFrame( mbti_dist)\n",
        "mbti_dist_df.columns = ['MBTI Type', 'Data', 'Population', 'Uniform']\n",
        "print( mbti_dist_df )\n",
        "\n",
        "subtypes_dist = list( zip(valid_subtypes, subtypes_data_pct, subtypes_est_gen_pop_pct,  subtypes_uniform_pct))\n",
        "subtypes_dist_df = pd.DataFrame( subtypes_dist)\n",
        "subtypes_dist_df.columns = ['MBTI Subtype', 'Data', 'Population', 'Uniform']\n",
        "print( subtypes_dist_df )\n",
        "\n"
      ]
    },
    {
      "cell_type": "code",
      "execution_count": 34,
      "metadata": {
        "colab": {
          "base_uri": "https://localhost:8080/",
          "height": 653
        },
        "id": "kE2dADYSahOD",
        "outputId": "b66d3eb7-0fd7-471d-bada-0daaf43ee6ea"
      },
      "outputs": [
        {
          "output_type": "display_data",
          "data": {
            "text/plain": [
              "<Figure size 1440x1080 with 1 Axes>"
            ],
            "image/png": "[encoded data removed]"
          },
          "metadata": {
            "needs_background": "light"
          }
        }
      ],
      "source": [
        "# plot MBTI distributions for data, general population, uniform  \n",
        "\n",
        "X_axis = np.arange(len(valid_MBTI))  \n",
        "f = plt.figure()\n",
        "f.set_figwidth(20)\n",
        "f.set_figheight(15)\n",
        "\n",
        "\n",
        "plt.bar(X_axis - .3, mbti_data_pct, 0.3, label = 'Data')\n",
        "plt.bar(X_axis + 0, mbti_est_gen_pop_pct, 0.3, label = 'General Population')\n",
        "plt.bar(X_axis + .3, mbti_uniform_pct, 0.3, label = 'Uniform')\n",
        "  \n",
        "plt.xticks(X_axis, valid_MBTI)\n",
        "plt.xlabel(\"MBTI Types\")\n",
        "plt.ylabel(\"Percent\")\n",
        "plt.title(\"Distribution of MBTI Types\")\n",
        "plt.legend()\n",
        "\n",
        "\n",
        "plt.show()"
      ]
    },
    {
      "cell_type": "code",
      "execution_count": 35,
      "metadata": {
        "colab": {
          "base_uri": "https://localhost:8080/",
          "height": 657
        },
        "id": "HwOrS8bFrhZM",
        "outputId": "33ae8d7a-c35e-4aaa-a72b-ca3b3101fa44"
      },
      "outputs": [
        {
          "output_type": "display_data",
          "data": {
            "text/plain": [
              "<Figure size 1440x1080 with 1 Axes>"
            ],
            "image/png": "[encoded data removed]"
          },
          "metadata": {
            "needs_background": "light"
          }
        }
      ],
      "source": [
        "# plot MBTI subtypes distributions for data, general population, uniform  \n",
        "\n",
        "X_axis = np.arange(len(valid_subtypes))  \n",
        "f = plt.figure()\n",
        "f.set_figwidth(20)\n",
        "f.set_figheight(15)\n",
        "\n",
        "\n",
        "plt.bar(X_axis - .3, subtypes_data_pct, 0.3, label = 'Data')\n",
        "plt.bar(X_axis + 0, subtypes_est_gen_pop_pct, 0.3, label = 'General Population')\n",
        "plt.bar(X_axis + .3, subtypes_uniform_pct, 0.3, label = 'Uniform')\n",
        "  \n",
        "plt.xticks(X_axis, valid_subtypes)\n",
        "plt.xlabel(\"MBTI Subtypes\")\n",
        "plt.ylabel(\"Percent\")\n",
        "plt.title(\"Distribution of MBTI Subtypes\")\n",
        "plt.legend()\n",
        "\n",
        "\n",
        "plt.show()"
      ]
    },
    {
      "cell_type": "code",
      "execution_count": 36,
      "metadata": {
        "id": "X_T49Ofq0t6F"
      },
      "outputs": [],
      "source": [
        "def read_csv_from_gcloud( filename ):\n",
        "\n",
        "    bucket, bucket_name = config_GCloud()\n",
        "\n",
        "    blob = bucket.blob( filename )\n",
        "    blob_string = blob.download_as_string()\n",
        "    \n",
        "    read_df = pd.read_csv(io.BytesIO(blob_string), engine='python')\n",
        "    return read_df\n",
        "\n",
        "\n"
      ]
    },
    {
      "cell_type": "code",
      "execution_count": 37,
      "metadata": {
        "colab": {
          "base_uri": "https://localhost:8080/"
        },
        "id": "zxK58nLEynhs",
        "outputId": "1f60bb66-843c-4509-f925-b2ce65295685"
      },
      "outputs": [
        {
          "metadata": {
            "tags": null
          },
          "name": "stdout",
          "output_type": "stream",
          "text": [
            "train_df shape: (1200000, 18)\n",
            "train_df columns: Index(['Unnamed: 0', 'Unnamed: 0.1', 'Username', 'Age', 'Posts', 'MBTI Type',\n",
            "       'Enneagram', 'Instinctual Variant', 'Gender', 'Occupation', 'is_I',\n",
            "       'is_S', 'is_T', 'is_J', 'post_id', 'thread_id', 'post_date', 'message'],\n",
            "      dtype='object')\n",
            "test_df shape: (200000, 18)\n",
            "test_df columns: Index(['Unnamed: 0', 'Unnamed: 0.1', 'Username', 'Age', 'Posts', 'MBTI Type',\n",
            "       'Enneagram', 'Instinctual Variant', 'Gender', 'Occupation', 'is_I',\n",
            "       'is_S', 'is_T', 'is_J', 'post_id', 'thread_id', 'post_date', 'message'],\n",
            "      dtype='object')\n",
            "dev_df shape: (200000, 18)\n",
            "dev_df columns: Index(['Unnamed: 0', 'Unnamed: 0.1', 'Username', 'Age', 'Posts', 'MBTI Type',\n",
            "       'Enneagram', 'Instinctual Variant', 'Gender', 'Occupation', 'is_I',\n",
            "       'is_S', 'is_T', 'is_J', 'post_id', 'thread_id', 'post_date', 'message'],\n",
            "      dtype='object')\n"
          ]
        }
      ],
      "source": [
        "# read the Training, Test and Dev splits in from files\n",
        "\n",
        "# Training\n",
        "train_df = read_csv_from_gcloud( 'train_mbti_data.csv')\n",
        "# train_Y_df = read_csv_from_gcloud( 'train_mbti_labels.csv')\n",
        "\n",
        "# # put the data back together for the resampling process\n",
        "# train_df  = pd.concat([train_X_df, train_Y_df], axis=1)\n",
        "print( \"train_df shape:\", train_df.shape )\n",
        "print( \"train_df columns:\", train_df.columns )\n",
        "\n",
        "# Test\n",
        "test_df = read_csv_from_gcloud( 'test_mbti_data.csv')\n",
        "# test_Y_df = read_csv_from_gcloud( 'test_mbti_labels.csv')\n",
        "\n",
        "# # put the data back together for analysis\n",
        "# test_df  = pd.concat([test_X_df, test_Y_df], axis=1)\n",
        "print( \"test_df shape:\", test_df.shape )\n",
        "print( \"test_df columns:\", test_df.columns )\n",
        "\n",
        "\n",
        "# Dev\n",
        "dev_df = read_csv_from_gcloud( 'dev_mbti_data.csv')\n",
        "# dev_Y_df = read_csv_from_gcloud( 'dev_mbti_labels.csv')\n",
        "\n",
        "# # put the data back together for analysis\n",
        "# dev_df  = pd.concat([dev_X_df, dev_Y_df], axis=1)\n",
        "print( \"dev_df shape:\", dev_df.shape )\n",
        "print( \"dev_df columns:\", dev_df.columns )\n",
        "\n",
        "\n"
      ]
    },
    {
      "cell_type": "code",
      "execution_count": 38,
      "metadata": {
        "colab": {
          "base_uri": "https://localhost:8080/"
        },
        "id": "QdeByHsTukHy",
        "outputId": "b733cb56-9972-4afb-a0ca-430343891e67"
      },
      "outputs": [
        {
          "output_type": "stream",
          "name": "stdout",
          "text": [
            "INTJ    170285\n",
            "INFP    160567\n",
            "INTP    160019\n",
            "ENFP    137052\n",
            "INFJ    121476\n",
            "ENTP    110469\n",
            "ENTJ     53593\n",
            "ISTP     52033\n",
            "ISFP     48114\n",
            "ENFJ     35051\n",
            "ESFJ     31215\n",
            "ESTJ     27344\n",
            "ESFP     25341\n",
            "ESTP     24998\n",
            "ISTJ     24761\n",
            "ISFJ     17682\n",
            "Name: MBTI Type, dtype: int64\n",
            "[0.020634166666666665, 0.14190416666666666, 0.022786666666666667, 0.04466083333333333, 0.0920575, 0.13334916666666666, 0.043360833333333335, 0.020831666666666665, 0.014735, 0.10123, 0.0260125, 0.029209166666666668, 0.11421, 0.13380583333333335, 0.040095, 0.0211175]\n",
            "[754937, 445063, 251488, 948512, 623502, 576498, 481407, 718593]\n",
            "[0.6291141666666666, 0.37088583333333336, 0.20957333333333333, 0.7904266666666667, 0.519585, 0.480415, 0.4011725, 0.5988275]\n",
            "INTJ    28651\n",
            "INFP    27027\n",
            "INTP    26519\n",
            "ENFP    22579\n",
            "INFJ    20104\n",
            "ENTP    18207\n",
            "ENTJ     8835\n",
            "ISTP     8813\n",
            "ISFP     8062\n",
            "ENFJ     5819\n",
            "ESFJ     5318\n",
            "ESTJ     4511\n",
            "ESTP     4212\n",
            "ESFP     4204\n",
            "ISTJ     4187\n",
            "ISFJ     2952\n",
            "Name: MBTI Type, dtype: int64\n",
            "[0.020935, 0.143255, 0.022555, 0.044175, 0.091035, 0.132595, 0.044065, 0.02106, 0.01476, 0.10052, 0.02659, 0.029095, 0.112895, 0.135135, 0.04031, 0.02102]\n",
            "[126315, 73685, 42259, 157741, 103935, 96065, 80377, 119623]\n",
            "[0.631575, 0.368425, 0.211295, 0.788705, 0.519675, 0.480325, 0.401885, 0.598115]\n",
            "INTJ    28243\n",
            "INFP    26911\n",
            "INTP    26590\n",
            "ENFP    22720\n",
            "INFJ    20330\n",
            "ENTP    18462\n",
            "ENTJ     9041\n",
            "ISTP     8642\n",
            "ISFP     8056\n",
            "ENFJ     5848\n",
            "ESFJ     5067\n",
            "ESTJ     4519\n",
            "ESFP     4204\n",
            "ISTJ     4198\n",
            "ESTP     4190\n",
            "ISFJ     2979\n",
            "Name: MBTI Type, dtype: int64\n",
            "[0.02099, 0.141215, 0.022595, 0.045205, 0.09231, 0.13295, 0.04321, 0.02095, 0.014895, 0.10165, 0.025335, 0.02924, 0.1136, 0.134555, 0.04028, 0.02102]\n",
            "[125949, 74051, 41855, 158145, 103885, 96115, 80225, 119775]\n",
            "[0.629745, 0.370255, 0.209275, 0.790725, 0.519425, 0.480575, 0.401125, 0.598875]\n"
          ]
        }
      ],
      "source": [
        "# Now do a sanity check of the distribution in the Training, Test and Dev splits of the data\n",
        "\n",
        "train_type_counts, train_data_pct, train_sub_data_counts, train_sub_data_pct = get_MBTI_distribution( train_df )\n",
        "test_type_counts, test_data_pct, test_sub_data_counts, test_sub_data_pct = get_MBTI_distribution( test_df )\n",
        "dev_type_counts, dev_data_pct, dev_sub_data_counts, dev_sub_data_pct = get_MBTI_distribution( dev_df )\n"
      ]
    },
    {
      "cell_type": "code",
      "execution_count": 39,
      "metadata": {
        "id": "7PTk9PkG4Ql_"
      },
      "outputs": [],
      "source": [
        "# plot MBTI distributions for data, general population, uniform  \n",
        "\n",
        "def plot_MBTI_distribution( title, input_MBTI_pct ):\n",
        "\n",
        "    X_axis = np.arange(len(valid_MBTI))  \n",
        "    f = plt.figure()\n",
        "    f.set_figwidth(20)\n",
        "    f.set_figheight(15)\n",
        "\n",
        "\n",
        "    plt.bar(X_axis - .3, input_MBTI_pct, 0.3, label = 'Data')\n",
        "    plt.bar(X_axis + 0, mbti_est_gen_pop_pct, 0.3, label = 'General Population')\n",
        "    plt.bar(X_axis + .3, mbti_uniform_pct, 0.3, label = 'Uniform')\n",
        "    \n",
        "    plt.xticks(X_axis, valid_MBTI)\n",
        "    plt.xlabel(\"MBTI Types\")\n",
        "    plt.ylabel(\"Percent\")\n",
        "    plt.title(title)\n",
        "    plt.legend()\n",
        "\n",
        "\n",
        "    plt.show()\n",
        "\n",
        "def plot_MBTI_subtypes_distribution( title, input_subtypes_dist ):\n",
        "\n",
        "    X_axis = np.arange(len(valid_subtypes))  \n",
        "    f = plt.figure()\n",
        "    f.set_figwidth(20)\n",
        "    f.set_figheight(15)\n",
        "\n",
        "\n",
        "    plt.bar(X_axis - .3, input_subtypes_dist, 0.3, label = 'Data')\n",
        "    plt.bar(X_axis + 0, subtypes_est_gen_pop_pct, 0.3, label = 'General Population')\n",
        "    plt.bar(X_axis + .3, subtypes_uniform_pct, 0.3, label = 'Uniform')\n",
        "    \n",
        "    plt.xticks(X_axis, valid_subtypes)\n",
        "    plt.xlabel(\"MBTI Subtypes\")\n",
        "    plt.ylabel(\"Percent\")\n",
        "    plt.title(title)\n",
        "    plt.legend()\n",
        "\n",
        "\n",
        "    plt.show()"
      ]
    },
    {
      "cell_type": "code",
      "execution_count": 40,
      "metadata": {
        "id": "tBAvjWyC6_P4",
        "outputId": "7a501828-f2e5-45b5-bf80-797768a7cc57",
        "colab": {
          "base_uri": "https://localhost:8080/",
          "height": 1000
        }
      },
      "outputs": [
        {
          "output_type": "display_data",
          "data": {
            "text/plain": [
              "<Figure size 1440x1080 with 1 Axes>"
            ],
            "image/png": "[encoded data removed]"
          },
          "metadata": {
            "needs_background": "light"
          }
        },
        {
          "output_type": "display_data",
          "data": {
            "text/plain": [
              "<Figure size 1440x1080 with 1 Axes>"
            ],
            "image/png": "[encoded data removed]"
          },
          "metadata": {
            "needs_background": "light"
          }
        },
        {
          "output_type": "display_data",
          "data": {
            "text/plain": [
              "<Figure size 1440x1080 with 1 Axes>"
            ],
            "image/png": "[encoded data removed]"
          },
          "metadata": {
            "needs_background": "light"
          }
        },
        {
          "output_type": "display_data",
          "data": {
            "text/plain": [
              "<Figure size 1440x1080 with 1 Axes>"
            ],
            "image/png": "[encoded data removed]"
          },
          "metadata": {
            "needs_background": "light"
          }
        },
        {
          "output_type": "display_data",
          "data": {
            "text/plain": [
              "<Figure size 1440x1080 with 1 Axes>"
            ],
            "image/png": "[encoded data removed]"
          },
          "metadata": {
            "needs_background": "light"
          }
        },
        {
          "output_type": "display_data",
          "data": {
            "text/plain": [
              "<Figure size 1440x1080 with 1 Axes>"
            ],
            "image/png": "[encoded data removed]"
          },
          "metadata": {
            "needs_background": "light"
          }
        }
      ],
      "source": [
        "# Let's take a look - we should see the same distribution across the train, test and dev sets\n",
        "\n",
        "plot_MBTI_distribution( 'Distribution of MBTI Types in Train Set', train_data_pct )\n",
        "plot_MBTI_distribution( 'Distribution of MBTI Types in Test Set', test_data_pct )\n",
        "plot_MBTI_distribution( 'Distribution of MBTI Types in Dev Set', dev_data_pct )\n",
        "\n",
        "plot_MBTI_subtypes_distribution('Distribution of MBTI Subtypes in Train Set', train_sub_data_pct )\n",
        "plot_MBTI_subtypes_distribution('Distribution of MBTI Subtypes in Test Set', test_sub_data_pct )\n",
        "plot_MBTI_subtypes_distribution('Distribution of MBTI Subtypes in Dev Set', dev_sub_data_pct )"
      ]
    },
    {
      "cell_type": "code",
      "execution_count": null,
      "metadata": {
        "id": "lHJm_oAL79DJ"
      },
      "outputs": [],
      "source": [
        "# Now, resampling\n",
        "\n",
        "# First, work on uniform distributions which are simpler\n",
        "# Strategy 1:  Undersampling to uniform\n",
        "# Strategy 2:  Oversampling to uniform\n",
        "\n",
        "# Second, work on general population distribution\n",
        "# Strategy 3:  Undersampling to general population\n",
        "# Strategy 4:  Oversampling to general population"
      ]
    }
  ],
  "metadata": {
    "colab": {
      "collapsed_sections": [],
      "machine_shape": "hm",
      "provenance": []
    },
    "gpuClass": "premium",
    "kernelspec": {
      "display_name": "Python 3 (ipykernel)",
      "language": "python",
      "name": "python3"
    },
    "language_info": {
      "codemirror_mode": {
        "name": "ipython",
        "version": 3
      },
      "file_extension": ".py",
      "mimetype": "text/x-python",
      "name": "python",
      "nbconvert_exporter": "python",
      "pygments_lexer": "ipython3",
      "version": "3.9.12"
    }
  },
  "nbformat": 4,
  "nbformat_minor": 0
}