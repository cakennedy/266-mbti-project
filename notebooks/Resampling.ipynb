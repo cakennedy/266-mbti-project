{
  "cells": [
    {
      "cell_type": "markdown",
      "metadata": {
        "id": "4G73ZIA7FGaA"
      },
      "source": [
        "# W266 Final Project\n",
        "# Resampling\n",
        "# October 9, 2022\n",
        "# John Clark, Shrinivas Joshi, Courtney Kennedy\n",
        "\n",
        "[![Open In Colab](https://colab.research.google.com/assets/colab-badge.svg)](https://colab.research.google.com/github/cakennedy/266-mbti-project/blob/main/notebooks/Resampling.ipynb#)\n",
        "\n",
        "\n",
        "# There are several different resampling strategies to try\n",
        "\n",
        "#### First, we want to look at using the four letter types as well as the categorical variables, and create new distributions by under and over sampling based on both ways of organizing the data.\n",
        "\n",
        "#### Second, we want to try over/under sampling to get to different distributions.  These will include a uniform distribution across all categories and then a distribution that matches the natural distribution found in the general population."
      ]
    },
    {
      "cell_type": "code",
      "execution_count": 1,
      "metadata": {
        "colab": {
          "base_uri": "https://localhost:8080/"
        },
        "id": "23R-8TE-E_Ui",
        "outputId": "45cd5c0d-1148-4f3e-d9f7-5e0fa1d2ba57"
      },
      "outputs": [
        {
          "output_type": "stream",
          "name": "stdout",
          "text": [
            "Not connected to a GPU\n",
            "\n",
            "\n",
            "Your runtime has 54.8 gigabytes of available RAM\n",
            "\n",
            "You are using a high-RAM runtime!\n"
          ]
        }
      ],
      "source": [
        "# Google collab premium utilities status check\n",
        "# GPU\n",
        "gpu_info = !nvidia-smi\n",
        "gpu_info = '\\n'.join(gpu_info)\n",
        "if gpu_info.find('failed') >= 0:\n",
        "  print('Not connected to a GPU')\n",
        "else:\n",
        "  print(gpu_info)\n",
        "\n",
        "print( '\\n')\n",
        "\n",
        "# RAM\n",
        "from psutil import virtual_memory\n",
        "ram_gb = virtual_memory().total / 1e9\n",
        "print('Your runtime has {:.1f} gigabytes of available RAM\\n'.format(ram_gb))\n",
        "\n",
        "if ram_gb < 20:\n",
        "  print('Not using a high-RAM runtime')\n",
        "else:\n",
        "  print('You are using a high-RAM runtime!')"
      ]
    },
    {
      "cell_type": "code",
      "execution_count": 2,
      "metadata": {
        "colab": {
          "base_uri": "https://localhost:8080/"
        },
        "id": "bkEwUhSFFypg",
        "outputId": "5b0d4ec4-ef09-41b1-a7c0-ca38c41fe715"
      },
      "outputs": [
        {
          "output_type": "stream",
          "name": "stderr",
          "text": [
            "[nltk_data] Downloading package punkt to /root/nltk_data...\n",
            "[nltk_data]   Unzipping tokenizers/punkt.zip.\n",
            "[nltk_data] Downloading package stopwords to /root/nltk_data...\n",
            "[nltk_data]   Unzipping corpora/stopwords.zip.\n",
            "[nltk_data] Downloading package wordnet to /root/nltk_data...\n"
          ]
        }
      ],
      "source": [
        "# imports\n",
        "import sys\n",
        "import csv\n",
        "\n",
        "\n",
        "import pandas as pd\n",
        "import io\n",
        "from io import BytesIO\n",
        "import matplotlib.pyplot as plt\n",
        "import altair as alt\n",
        "import numpy as np\n",
        "import textwrap\n",
        "\n",
        "import nltk\n",
        "nltk.download('punkt')\n",
        "nltk.download('stopwords')\n",
        "nltk.download('wordnet')\n",
        "from nltk import word_tokenize\n",
        "from nltk.corpus import stopwords\n",
        "import re\n",
        "import time\n",
        "from sklearn.feature_extraction.text import TfidfVectorizer\n",
        "from sklearn.linear_model import LogisticRegression\n",
        "from sklearn.svm import LinearSVC\n",
        "\n",
        "from sklearn.utils import resample\n",
        "from sklearn.utils import shuffle\n"
      ]
    },
    {
      "cell_type": "code",
      "execution_count": 3,
      "metadata": {
        "id": "gxTiGQmROBR2"
      },
      "outputs": [],
      "source": [
        "# Configuration Flags\n",
        "\n",
        "useGCloudForStorage = True\n",
        "\n"
      ]
    },
    {
      "cell_type": "code",
      "execution_count": 4,
      "metadata": {
        "id": "zt2RpMxgasCk"
      },
      "outputs": [],
      "source": [
        "\n",
        "# Global State Flags\n",
        "uploadedGCloudCredentials = False\n",
        "mountedGoogleDrive = False\n",
        "configuredGCloud = False\n",
        "\n",
        "\n",
        "# Global Variables\n",
        "gdrive_path = '/content/drive/MyDrive/content/drive/'\n",
        "\n",
        "gcloud_bucket = None\n",
        "gcloud_bucket_name = \"\""
      ]
    },
    {
      "cell_type": "code",
      "execution_count": 5,
      "metadata": {
        "id": "f5aiiZkZhwtR"
      },
      "outputs": [],
      "source": [
        "# To work from a google drive use this:\n",
        "from google.colab import drive\n",
        "\n",
        "def mount_google_drive():\n",
        "    global userGCloudForStorage\n",
        "    global mountedGoogleDrive\n",
        "\n",
        "    if useGCloudForStorage == False:\n",
        "        if mountedGoogleDrive == False:\n",
        "            drive.mount('/content/drive')\n",
        "            mountedGoogleDrive = True\n",
        "\n"
      ]
    },
    {
      "cell_type": "code",
      "execution_count": 6,
      "metadata": {
        "id": "U7TiC-iFN8RR"
      },
      "outputs": [],
      "source": [
        "# To work from gcloud, use this:\n",
        "\n",
        "# Upload Google Cloud service account key to enable authentication ( json file )\n",
        "# Go to https://console.cloud.google.com/:\n",
        "# Under the Navigation Menu ( upper left 3 horizontal lines) \n",
        "# 1. choose IAM & Admin>\n",
        "# 2. choose Service Accounts>\n",
        "# 3. Select a Service Account>\n",
        "# 4. Under the Actions menu ( 3 dots to the right of the service account )>Manage Keys to create your own json credentials file\n",
        "\n",
        "from google.colab import files\n",
        "from google.cloud import storage\n",
        "\n",
        "\n",
        "def upload_gcloud_credentials():\n",
        "    global useGCloudForStorage\n",
        "    global uploadedGCloudCredentials\n",
        "\n",
        "    if useGCloudForStorage:\n",
        "        if uploadedGCloudCredentials == False:\n",
        "\n",
        "            uploaded = files.upload()\n",
        "            uploadedGCloudCredentials = True\n",
        "\n",
        "\n",
        "def config_GCloud():\n",
        "    global configuredGCloud\n",
        "    global gcloud_bucket\n",
        "    global gcloud_bucket_name\n",
        "\n",
        "    if configuredGCloud:\n",
        "        return gcloud_bucket, gcloud_bucket_name\n",
        "\n",
        "    #Load Google Cloud storage client using service key\n",
        "    storage_client = storage.Client.from_service_account_json('pacific-castle-360400-a3ca89f64de6.json')\n",
        "    #Print buckets available\n",
        "    for bucket in storage_client.list_buckets():\n",
        "        print(bucket)\n",
        "\n",
        "    #Assign bucket name being used\n",
        "    gcloud_bucket_name = '266csffile'\n",
        "\n",
        "    #Get bucket\n",
        "    gcloud_bucket = storage_client.get_bucket(gcloud_bucket_name)\n",
        "\n",
        "    #Show list of files in bucket and list the files\n",
        "    filename = list(gcloud_bucket.list_blobs(prefix=''))\n",
        "    for name in filename:\n",
        "        print(name.name)\n",
        "\n",
        "    #Increase field size to allow reading in of files\n",
        "    maxInt = sys.maxsize\n",
        "\n",
        "    while True:\n",
        "        # decrease the maxInt value by factor 10 as long as overflow error occurs \n",
        "        try:\n",
        "            csv.field_size_limit(maxInt)\n",
        "            break\n",
        "        except OverflowError:\n",
        "            maxInt = int(maxInt/10)\n",
        "\n",
        "    configuredGCloud = True\n",
        "\n",
        "    return gcloud_bucket, gcloud_bucket_name\n"
      ]
    },
    {
      "cell_type": "code",
      "execution_count": 7,
      "metadata": {
        "id": "wa50rmErg6Y_"
      },
      "outputs": [],
      "source": [
        "# Read source data files in and create dataframes\n",
        "\n",
        "def read_sources_from_Drive():\n",
        "    global useGCloudForStorage\n",
        "\n",
        "    if useGCloudForStorage == True:  \n",
        "        return\n",
        "\n",
        "    mount_google_drive()\n",
        "\n",
        "    # test file is a 1000 row file to use in developing data cleaning routines before tackling the real files\n",
        "    # test_posts_df = pd.read_csv( '/content/drive/MyDrive/content/drive/test_posts.csv')\n",
        "\n",
        "    # Two forms of Posts files- both a full dataframe and an iterator\n",
        "    posts_full_df = pd.read_csv('/content/drive/MyDrive/content/drive/typology_xenforo-9-25-22-posts.csv')\n",
        "    posts_iterator = pd.read_csv('/content/drive/MyDrive/content/drive/typology_xenforo-9-25-22-posts.csv', chunksize = 10000)\n",
        "\n",
        "    header_df = pd.read_csv('/content/drive/MyDrive/content/drive/typology_xenforo.csv')\n",
        "\n",
        "    return header_df, posts_full_df, posts_iterator\n",
        "\n",
        "\n",
        "def read_sources_from_GCloud():\n",
        "    global useGCloudForStorage\n",
        "\n",
        "    if useGCloudForStorage == False:\n",
        "        return\n",
        "\n",
        "    upload_gcloud_credentials()\n",
        "    bucket, bucket_name = config_GCloud()\n",
        "\n",
        "    #Grab blob header file and download as string\n",
        "    users = bucket.blob('typology_xenforo-9-25-22.csv')\n",
        "    string_data_users = users.download_as_string()\n",
        "    print( string_data_users )\n",
        "\n",
        "    #Convert to pandas\n",
        "    header_df = pd.read_csv(io.BytesIO(string_data_users), encoding='utf-8', sep=',', engine='python')\n",
        "\n",
        "    #Grab blob posts file and download as string\n",
        "    posts = bucket.blob('typology_xenforo-9-25-22-posts.csv')\n",
        "    string_data_posts = posts.download_as_string()\n",
        "    print( string_data_posts)\n",
        "\n",
        "    #Convert to pandas\n",
        "    posts_full_df = pd.read_csv(io.BytesIO(string_data_posts), encoding='utf-8', sep=',', engine='python')\n",
        "\n",
        "    posts_iterator = pd.read_csv(io.BytesIO(string_data_posts), encoding='utf-8', sep=',', chunksize = 10000)\n",
        "\n",
        "    return header_df, posts_full_df, posts_iterator\n",
        "\n"
      ]
    },
    {
      "cell_type": "code",
      "execution_count": 8,
      "metadata": {
        "id": "vcihmi6mYiNY"
      },
      "outputs": [],
      "source": [
        "# write parquet files\n",
        "\n",
        "def write_parquet_gdrive( df, filename):\n",
        "    global gdrive_path\n",
        "\n",
        "    full_path_to_file = gdrive_path + filename\n",
        "\n",
        "    print( full_path_to_file)\n",
        "    df.to_parquet(full_path_to_file)\n",
        "\n",
        "\n",
        "def write_parquet_google_cloud( df, filename):\n",
        "\n",
        "    bucket, bucket_name = config_GCloud()\n",
        "\n",
        "    blob = bucket.blob( filename )\n",
        "    blob.upload_from_string(df.to_parquet(), 'application/octet-stream')\n",
        "\n",
        "def write_parquet_file( dataframe, filename):\n",
        "\n",
        "    global useGCloudForStorage\n",
        "\n",
        "    if useGCloudForStorage:\n",
        "        write_parquet_google_cloud( dataframe, filename )\n",
        "    else:\n",
        "        write_parquet_gdrive( dataframe, filename )\n",
        "\n"
      ]
    },
    {
      "cell_type": "code",
      "source": [
        "# utility for writing a csv to our shared GCloud storage\n",
        "\n",
        "def write_csv_file( dataframe, \n",
        "                    filename,\n",
        "                    index,\n",
        "                    header,\n",
        "                    mode ):\n",
        "    '''This function writes a panda to a CSV file in the Google cloud storage \n",
        "    bucket. Input parameters include the dataframe, the name of the file to \n",
        "    write, the index (write row names), header(create column names) and \n",
        "    mode(write) '''\n",
        "\n",
        "    bucket, bucket_name = config_GCloud()\n",
        "    blob = bucket.blob( filename )\n",
        "    blob.upload_from_string(dataframe.to_csv(index=index, header=header, mode=mode), 'text/csv')\n",
        "\n"
      ],
      "metadata": {
        "id": "uxYOjBFHfWoB"
      },
      "execution_count": 9,
      "outputs": []
    },
    {
      "cell_type": "code",
      "execution_count": 10,
      "metadata": {
        "id": "CzbJP-nYJ2Ab",
        "outputId": "c90a6f3b-834f-4fc2-e8a2-2dab6d8b8bd6",
        "colab": {
          "base_uri": "https://localhost:8080/",
          "height": 395
        }
      },
      "outputs": [
        {
          "output_type": "display_data",
          "data": {
            "text/plain": [
              "<IPython.core.display.HTML object>"
            ],
            "text/html": [
              "\n",
              "     <input type=\"file\" id=\"files-a336ee1d-881b-4868-a0b9-ddc6b460c2bc\" name=\"files[]\" multiple disabled\n",
              "        style=\"border:none\" />\n",
              "     <output id=\"result-a336ee1d-881b-4868-a0b9-ddc6b460c2bc\">\n",
              "      Upload widget is only available when the cell has been executed in the\n",
              "      current browser session. Please rerun this cell to enable.\n",
              "      </output>\n",
              "      <script>// Copyright 2017 Google LLC\n",
              "//\n",
              "// Licensed under the Apache License, Version 2.0 (the \"License\");\n",
              "// you may not use this file except in compliance with the License.\n",
              "// You may obtain a copy of the License at\n",
              "//\n",
              "//      http://www.apache.org/licenses/LICENSE-2.0\n",
              "//\n",
              "// Unless required by applicable law or agreed to in writing, software\n",
              "// distributed under the License is distributed on an \"AS IS\" BASIS,\n",
              "// WITHOUT WARRANTIES OR CONDITIONS OF ANY KIND, either express or implied.\n",
              "// See the License for the specific language governing permissions and\n",
              "// limitations under the License.\n",
              "\n",
              "/**\n",
              " * @fileoverview Helpers for google.colab Python module.\n",
              " */\n",
              "(function(scope) {\n",
              "function span(text, styleAttributes = {}) {\n",
              "  const element = document.createElement('span');\n",
              "  element.textContent = text;\n",
              "  for (const key of Object.keys(styleAttributes)) {\n",
              "    element.style[key] = styleAttributes[key];\n",
              "  }\n",
              "  return element;\n",
              "}\n",
              "\n",
              "// Max number of bytes which will be uploaded at a time.\n",
              "const MAX_PAYLOAD_SIZE = 100 * 1024;\n",
              "\n",
              "function _uploadFiles(inputId, outputId) {\n",
              "  const steps = uploadFilesStep(inputId, outputId);\n",
              "  const outputElement = document.getElementById(outputId);\n",
              "  // Cache steps on the outputElement to make it available for the next call\n",
              "  // to uploadFilesContinue from Python.\n",
              "  outputElement.steps = steps;\n",
              "\n",
              "  return _uploadFilesContinue(outputId);\n",
              "}\n",
              "\n",
              "// This is roughly an async generator (not supported in the browser yet),\n",
              "// where there are multiple asynchronous steps and the Python side is going\n",
              "// to poll for completion of each step.\n",
              "// This uses a Promise to block the python side on completion of each step,\n",
              "// then passes the result of the previous step as the input to the next step.\n",
              "function _uploadFilesContinue(outputId) {\n",
              "  const outputElement = document.getElementById(outputId);\n",
              "  const steps = outputElement.steps;\n",
              "\n",
              "  const next = steps.next(outputElement.lastPromiseValue);\n",
              "  return Promise.resolve(next.value.promise).then((value) => {\n",
              "    // Cache the last promise value to make it available to the next\n",
              "    // step of the generator.\n",
              "    outputElement.lastPromiseValue = value;\n",
              "    return next.value.response;\n",
              "  });\n",
              "}\n",
              "\n",
              "/**\n",
              " * Generator function which is called between each async step of the upload\n",
              " * process.\n",
              " * @param {string} inputId Element ID of the input file picker element.\n",
              " * @param {string} outputId Element ID of the output display.\n",
              " * @return {!Iterable<!Object>} Iterable of next steps.\n",
              " */\n",
              "function* uploadFilesStep(inputId, outputId) {\n",
              "  const inputElement = document.getElementById(inputId);\n",
              "  inputElement.disabled = false;\n",
              "\n",
              "  const outputElement = document.getElementById(outputId);\n",
              "  outputElement.innerHTML = '';\n",
              "\n",
              "  const pickedPromise = new Promise((resolve) => {\n",
              "    inputElement.addEventListener('change', (e) => {\n",
              "      resolve(e.target.files);\n",
              "    });\n",
              "  });\n",
              "\n",
              "  const cancel = document.createElement('button');\n",
              "  inputElement.parentElement.appendChild(cancel);\n",
              "  cancel.textContent = 'Cancel upload';\n",
              "  const cancelPromise = new Promise((resolve) => {\n",
              "    cancel.onclick = () => {\n",
              "      resolve(null);\n",
              "    };\n",
              "  });\n",
              "\n",
              "  // Wait for the user to pick the files.\n",
              "  const files = yield {\n",
              "    promise: Promise.race([pickedPromise, cancelPromise]),\n",
              "    response: {\n",
              "      action: 'starting',\n",
              "    }\n",
              "  };\n",
              "\n",
              "  cancel.remove();\n",
              "\n",
              "  // Disable the input element since further picks are not allowed.\n",
              "  inputElement.disabled = true;\n",
              "\n",
              "  if (!files) {\n",
              "    return {\n",
              "      response: {\n",
              "        action: 'complete',\n",
              "      }\n",
              "    };\n",
              "  }\n",
              "\n",
              "  for (const file of files) {\n",
              "    const li = document.createElement('li');\n",
              "    li.append(span(file.name, {fontWeight: 'bold'}));\n",
              "    li.append(span(\n",
              "        `(${file.type || 'n/a'}) - ${file.size} bytes, ` +\n",
              "        `last modified: ${\n",
              "            file.lastModifiedDate ? file.lastModifiedDate.toLocaleDateString() :\n",
              "                                    'n/a'} - `));\n",
              "    const percent = span('0% done');\n",
              "    li.appendChild(percent);\n",
              "\n",
              "    outputElement.appendChild(li);\n",
              "\n",
              "    const fileDataPromise = new Promise((resolve) => {\n",
              "      const reader = new FileReader();\n",
              "      reader.onload = (e) => {\n",
              "        resolve(e.target.result);\n",
              "      };\n",
              "      reader.readAsArrayBuffer(file);\n",
              "    });\n",
              "    // Wait for the data to be ready.\n",
              "    let fileData = yield {\n",
              "      promise: fileDataPromise,\n",
              "      response: {\n",
              "        action: 'continue',\n",
              "      }\n",
              "    };\n",
              "\n",
              "    // Use a chunked sending to avoid message size limits. See b/62115660.\n",
              "    let position = 0;\n",
              "    do {\n",
              "      const length = Math.min(fileData.byteLength - position, MAX_PAYLOAD_SIZE);\n",
              "      const chunk = new Uint8Array(fileData, position, length);\n",
              "      position += length;\n",
              "\n",
              "      const base64 = btoa(String.fromCharCode.apply(null, chunk));\n",
              "      yield {\n",
              "        response: {\n",
              "          action: 'append',\n",
              "          file: file.name,\n",
              "          data: base64,\n",
              "        },\n",
              "      };\n",
              "\n",
              "      let percentDone = fileData.byteLength === 0 ?\n",
              "          100 :\n",
              "          Math.round((position / fileData.byteLength) * 100);\n",
              "      percent.textContent = `${percentDone}% done`;\n",
              "\n",
              "    } while (position < fileData.byteLength);\n",
              "  }\n",
              "\n",
              "  // All done.\n",
              "  yield {\n",
              "    response: {\n",
              "      action: 'complete',\n",
              "    }\n",
              "  };\n",
              "}\n",
              "\n",
              "scope.google = scope.google || {};\n",
              "scope.google.colab = scope.google.colab || {};\n",
              "scope.google.colab._files = {\n",
              "  _uploadFiles,\n",
              "  _uploadFilesContinue,\n",
              "};\n",
              "})(self);\n",
              "</script> "
            ]
          },
          "metadata": {}
        },
        {
          "output_type": "stream",
          "name": "stdout",
          "text": [
            "Saving pacific-castle-360400-a3ca89f64de6.json to pacific-castle-360400-a3ca89f64de6.json\n",
            "<Bucket: 266csffile>\n",
            "dev_mbti_data.csv\n",
            "dev_mbti_labels.csv\n",
            "test_mbti_data.csv\n",
            "test_mbti_labels.csv\n",
            "train_gen_pop_mbti_data.csv\n",
            "train_gen_pop_mbti_labels.csv\n",
            "train_mbti_data.csv\n",
            "train_mbti_labels.csv\n",
            "train_over_sampled_mbti_data.csv\n",
            "train_over_sampled_mbti_labels.csv\n",
            "train_under_sampled_mbti_data.csv\n",
            "train_under_sampled_mbti_labels.csv\n",
            "typology_merged.parquet\n",
            "typology_users_clean.csv\n",
            "typology_xenforo-9-25-22-posts.csv\n",
            "typology_xenforo-9-25-22.csv\n",
            "typology_xenforo-9-25-22_clean.parquet\n"
          ]
        }
      ],
      "source": [
        "upload_gcloud_credentials()\n",
        "bucket, bucket_name = config_GCloud()\n",
        "\n"
      ]
    },
    {
      "cell_type": "code",
      "execution_count": 11,
      "metadata": {
        "colab": {
          "base_uri": "https://localhost:8080/"
        },
        "id": "8vN8FCt6F4ni",
        "outputId": "ffb8c7cc-7e07-4774-8289-9b627c213912"
      },
      "outputs": [
        {
          "output_type": "stream",
          "name": "stdout",
          "text": [
            "typology_xenforo-9-25-22_clean.parquet\n"
          ]
        }
      ],
      "source": [
        "# read in the already cleaned posts data\n",
        "\n",
        "posts_filename = 'typology_xenforo-9-25-22_clean.parquet'\n",
        "\n",
        "print( posts_filename)\n",
        "\n",
        "# read back and look for corruption\n",
        "bucket, bucket_name = config_GCloud()\n",
        "\n",
        "read_back = bucket.blob(posts_filename)\n",
        "string_read_back = read_back.download_as_string()\n",
        "posts_df = pd.read_parquet(io.BytesIO(string_read_back))\n",
        "\n",
        "\n"
      ]
    },
    {
      "cell_type": "code",
      "execution_count": 12,
      "metadata": {
        "id": "eg404Y7qGMmb"
      },
      "outputs": [],
      "source": [
        "# read in the already cleaned header(user) data\n",
        "\n",
        "header_filename = 'typology_users_clean.csv'\n",
        "\n",
        "bucket, bucket_name = config_GCloud()\n",
        "\n",
        "header_blob = bucket.blob( header_filename )\n",
        "header_string = header_blob.download_as_string()\n",
        "   \n",
        "users_df = pd.read_csv(io.BytesIO(header_string), engine='python')\n",
        "\n",
        "\n",
        "\n"
      ]
    },
    {
      "cell_type": "code",
      "execution_count": 31,
      "metadata": {
        "id": "X_T49Ofq0t6F"
      },
      "outputs": [],
      "source": [
        "def read_csv_from_gcloud( filename ):\n",
        "\n",
        "    bucket, bucket_name = config_GCloud()\n",
        "\n",
        "    blob = bucket.blob( filename )\n",
        "    blob_string = blob.download_as_string()\n",
        "    \n",
        "    read_df = pd.read_csv(io.BytesIO(blob_string), engine='python')\n",
        "    return read_df\n",
        "\n",
        "\n"
      ]
    },
    {
      "cell_type": "code",
      "source": [
        "def read_parquet_from_gcloud( filename ):\n",
        "\n",
        "    bucket, bucket_name = config_GCloud()\n",
        "\n",
        "    blob = bucket.blob( filename )\n",
        "    blob_string = blob.download_as_string()\n",
        "    \n",
        "    read_df = pd.read_parquet(io.BytesIO(blob_string))\n",
        "    return read_df\n",
        "\n",
        "\n",
        "\n"
      ],
      "metadata": {
        "id": "PPwPDzY1pRgT"
      },
      "execution_count": 22,
      "outputs": []
    },
    {
      "cell_type": "code",
      "execution_count": 13,
      "metadata": {
        "colab": {
          "base_uri": "https://localhost:8080/"
        },
        "id": "bDRQeoDOWeO_",
        "outputId": "38751599-6c0b-41a1-ea16-a9009be141ce"
      },
      "outputs": [
        {
          "output_type": "stream",
          "name": "stdout",
          "text": [
            "merged data shape: (1611083, 17)\n",
            "merged data columns: Index(['Unnamed: 0', 'Username', 'Age', 'Posts', 'MBTI Type', 'Enneagram',\n",
            "       'Instinctual Variant', 'Gender', 'Occupation', 'is_I', 'is_S', 'is_T',\n",
            "       'is_J', 'post_id', 'thread_id', 'post_date', 'message'],\n",
            "      dtype='object')\n",
            "   Unnamed: 0   Username   Age  Posts MBTI Type Enneagram Instinctual Variant  \\\n",
            "0          12  (FL)Cross  31.0      3      ENTP       NaN                 NaN   \n",
            "1          12  (FL)Cross  31.0      3      ENTP       NaN                 NaN   \n",
            "\n",
            "  Gender Occupation   is_I   is_S  is_T   is_J  post_id  thread_id  \\\n",
            "0    NaN        NaN  False  False  True  False  1087131      28751   \n",
            "1    NaN        NaN  False  False  True  False  1087167      28480   \n",
            "\n",
            "    post_date                                            message  \n",
            "0  1268893290    ooh ooh ooh, how about listing bad pick up l...  \n",
            "1  1268894726  how can you tell if an XXXX likes you?  they j...  \n"
          ]
        }
      ],
      "source": [
        "# read in the already cleaned, merged data\n",
        "\n",
        "#Merge the post database and header database\n",
        "merged_df = users_df.merge(posts_df, on='Username')\n",
        "\n",
        "\n",
        "print(\"merged data shape:\", merged_df.shape)\n",
        "print( \"merged data columns:\", merged_df.columns )\n",
        "print(merged_df.head(2))\n",
        "\n",
        "\n"
      ]
    },
    {
      "cell_type": "code",
      "execution_count": 14,
      "metadata": {
        "colab": {
          "base_uri": "https://localhost:8080/"
        },
        "id": "44hqsfhFK864",
        "outputId": "6bde5723-49b4-45e1-9974-4a8106a4e0f0"
      },
      "outputs": [
        {
          "output_type": "stream",
          "name": "stdout",
          "text": [
            "merged shape: (1611083, 17)\n",
            "merged columns: Index(['Unnamed: 0', 'Username', 'Age', 'Posts', 'MBTI Type', 'Enneagram',\n",
            "       'Instinctual Variant', 'Gender', 'Occupation', 'is_I', 'is_S', 'is_T',\n",
            "       'is_J', 'post_id', 'thread_id', 'post_date', 'message'],\n",
            "      dtype='object')\n",
            "merged index: Int64Index([      0,       1,       2,       3,       4,       5,       6,\n",
            "                  7,       8,       9,\n",
            "            ...\n",
            "            1611073, 1611074, 1611075, 1611076, 1611077, 1611078, 1611079,\n",
            "            1611080, 1611081, 1611082],\n",
            "           dtype='int64', length=1611083)\n",
            "merged shape: (1611083, 16)\n",
            "merged columns: Index(['Username', 'Age', 'Posts', 'MBTI Type', 'Enneagram',\n",
            "       'Instinctual Variant', 'Gender', 'Occupation', 'is_I', 'is_S', 'is_T',\n",
            "       'is_J', 'post_id', 'thread_id', 'post_date', 'message'],\n",
            "      dtype='object')\n"
          ]
        }
      ],
      "source": [
        "# take stock of what we have\n",
        "\n",
        "\n",
        "# merged statistics\n",
        "\n",
        "print( \"merged shape:\", merged_df.shape )\n",
        "print( \"merged columns:\", merged_df.columns )\n",
        "print( \"merged index:\", merged_df.index )\n",
        "\n",
        "merged_df = merged_df.drop(['Unnamed: 0'], axis=1)\n",
        "\n",
        "print( \"merged shape:\", merged_df.shape )\n",
        "print( \"merged columns:\", merged_df.columns )\n",
        "\n",
        "\n",
        "\n",
        "\n",
        "\n",
        "\n"
      ]
    },
    {
      "cell_type": "code",
      "source": [
        "# write out merged_df to a parquet file\n",
        "merged_filename = 'typology_merged.parquet'\n",
        "\n",
        "print( merged_filename)\n",
        "write_parquet_file( merged_df, merged_filename)\n",
        "\n",
        "\n"
      ],
      "metadata": {
        "id": "1L4ZrD23kXM5",
        "outputId": "45373313-3ec1-45be-fa31-bd60f74f1c4a",
        "colab": {
          "base_uri": "https://localhost:8080/"
        }
      },
      "execution_count": 15,
      "outputs": [
        {
          "output_type": "stream",
          "name": "stdout",
          "text": [
            "typology_merged.parquet\n"
          ]
        }
      ]
    },
    {
      "cell_type": "markdown",
      "source": [
        "##Break up merged data in to Train, Test and Dev sets.\n",
        "## Also break up into data ( X ) and labels ( y ), using the 'MBTI Type' column as the label.\n"
      ],
      "metadata": {
        "id": "hPtZfLe9kfhr"
      }
    },
    {
      "cell_type": "code",
      "source": [
        "\n",
        "# Shuffle the data\n",
        "shuffle = np.random.permutation(np.arange(merged_df.shape[0]))\n",
        "\n"
      ],
      "metadata": {
        "id": "UimX5Yl1ktF7"
      },
      "execution_count": 16,
      "outputs": []
    },
    {
      "cell_type": "code",
      "source": [
        "# Separate out the labels column 'MBTI type\n",
        "labels_df = merged_df['MBTI Type']\n",
        "data_df = merged_df.drop(columns=['MBTI Type'])\n",
        "\n",
        "print( \"Labels shape:\", labels_df.shape )\n",
        "print( \"Labels head:\", labels_df.head())\n",
        "\n",
        "print( \"Data shape:\", data_df.shape )\n",
        "print( \"Data columns:\", data_df.columns )\n",
        "\n"
      ],
      "metadata": {
        "id": "YODIpRAImfXF",
        "outputId": "1069562d-388e-4fff-b6be-2596133b8f75",
        "colab": {
          "base_uri": "https://localhost:8080/"
        }
      },
      "execution_count": 18,
      "outputs": [
        {
          "output_type": "stream",
          "name": "stdout",
          "text": [
            "Labels shape: (1611083,)\n",
            "Labels head: 0    ENTP\n",
            "1    ENTP\n",
            "2    ENTP\n",
            "3    INFJ\n",
            "4    INFJ\n",
            "Name: MBTI Type, dtype: object\n",
            "Data shape: (1611083, 15)\n",
            "Data columns: Index(['Username', 'Age', 'Posts', 'Enneagram', 'Instinctual Variant',\n",
            "       'Gender', 'Occupation', 'is_I', 'is_S', 'is_T', 'is_J', 'post_id',\n",
            "       'thread_id', 'post_date', 'message'],\n",
            "      dtype='object')\n"
          ]
        }
      ]
    },
    {
      "cell_type": "code",
      "source": [
        "# Divide into Train, Test and Dev sets\n",
        "\n",
        "# Set some variables to hold test, dev, and training data.\n",
        "train_mbti_data, train_mbti_labels = data_df[:1200000], labels_df[:1200000]\n",
        "dev_mbti_data, dev_mbti_labels = data_df[1200000:1400000], labels_df[1200000:1400000]\n",
        "test_mbti_data, test_mbti_labels = data_df[1400000:1600000], labels_df[1400000:1600000]\n",
        "\n",
        "#Determine and print number of rows in each dataset\n",
        "train_mbti_rows = train_mbti_data.shape[0]\n",
        "dev_mbti_rows = dev_mbti_data.shape[0]\n",
        "test_mbti_rows = test_mbti_data.shape[0]\n",
        "total_mbti_records = train_mbti_rows+dev_mbti_rows+test_mbti_rows\n",
        "print('After Data Split')\n",
        "print(' TRAIN dataset row count: ', '{:,}'.format(train_mbti_rows))\n",
        "print(' DEV dataset row count  : ', '{:,}'.format(dev_mbti_rows))\n",
        "print(' TEST dataset row count : ', '{:,}'.format(test_mbti_rows))\n",
        "print(' Total rows             : ', '{:,}'.format(total_mbti_records))\n",
        "\n",
        "null_data = train_mbti_data.isnull().sum()\n",
        "print(' There are', '{:,}'.format(null_data['message']), 'missing message rows in the Train dataset')\n",
        "null_data = dev_mbti_data.isnull().sum()\n",
        "print(' There are', '{:,}'.format(null_data['message']), 'missing message rows in the Dev dataset')\n",
        "null_data = test_mbti_data.isnull().sum()\n",
        "print(' There are', '{:,}'.format(null_data['message']), 'missing message rows in the Test dataset')\n",
        "\n",
        "#Set option to print dataframe in one line\n",
        "pd.set_option('expand_frame_repr', False)\n",
        "\n",
        "#Check that data looks good\n",
        "print('\\nExample of data after cleaning and splitting:')\n",
        "print('\\nTraining data')\n",
        "print(train_mbti_data.head(10))\n",
        "print('\\nTraining labels')\n",
        "print(train_mbti_labels.head(10))\n",
        "print('')"
      ],
      "metadata": {
        "id": "uy2tYqUvmhoj",
        "outputId": "08e0472f-1388-4508-dc18-a72a18b3327c",
        "colab": {
          "base_uri": "https://localhost:8080/"
        }
      },
      "execution_count": 19,
      "outputs": [
        {
          "output_type": "stream",
          "name": "stdout",
          "text": [
            "After Data Split\n",
            " TRAIN dataset row count:  1,200,000\n",
            " DEV dataset row count  :  200,000\n",
            " TEST dataset row count :  200,000\n",
            " Total rows             :  1,600,000\n",
            " There are 0 missing message rows in the Train dataset\n",
            " There are 0 missing message rows in the Dev dataset\n",
            " There are 0 missing message rows in the Test dataset\n",
            "\n",
            "Example of data after cleaning and splitting:\n",
            "\n",
            "Training data\n",
            "    Username   Age  Posts Enneagram Instinctual Variant  Gender Occupation   is_I   is_S   is_T   is_J  post_id  thread_id   post_date                                            message\n",
            "0  (FL)Cross  31.0      3       NaN                 NaN     NaN        NaN  False  False   True  False  1087131      28751  1268893290    ooh ooh ooh, how about listing bad pick up l...\n",
            "1  (FL)Cross  31.0      3       NaN                 NaN     NaN        NaN  False  False   True  False  1087167      28480  1268894726  how can you tell if an XXXX likes you?  they j...\n",
            "2  (FL)Cross  31.0      3       NaN                 NaN     NaN        NaN  False  False   True  False  1087226      28924  1268899561  why do you keep letting these girls use you?  ...\n",
            "3  *avariel*  37.0     21       145               so_sp  female        NaN   True  False  False   True  2377882      51955  1414832242               hewo fred da batkat welcoenz you YYY\n",
            "4  *avariel*  37.0     21       145               so_sp  female        NaN   True  False  False   True  2377914      73107  1414842094                [mediayoutube]YYYeoupeafoee[/media]\n",
            "5  *avariel*  37.0     21       145               so_sp  female        NaN   True  False  False   True  2377916      61026  1414842673  awesome! it looks great [mentionYYYYYYYYYYYY]h...\n",
            "6  *avariel*  37.0     21       145               so_sp  female        NaN   True  False  False   True  2377917      63806  1414843383    well, that argument works for hard nipples a...\n",
            "7  *avariel*  37.0     21       145               so_sp  female        NaN   True  False  False   True  2379059      68692  1415013746    oh well, actually guilt is something i feel ...\n",
            "8  *avariel*  37.0     21       145               so_sp  female        NaN   True  False  False   True  2385775      73392  1416154261  \"tend to be a subjective thinker, if that make...\n",
            "9  *avariel*  37.0     21       145               so_sp  female        NaN   True  False  False   True  2425662       4423  1424959090  [mediayoutube]YYYkmlxzktYYYyYYY[/media]  [medi...\n",
            "\n",
            "Training labels\n",
            "0    ENTP\n",
            "1    ENTP\n",
            "2    ENTP\n",
            "3    INFJ\n",
            "4    INFJ\n",
            "5    INFJ\n",
            "6    INFJ\n",
            "7    INFJ\n",
            "8    INFJ\n",
            "9    INFJ\n",
            "Name: MBTI Type, dtype: object\n",
            "\n"
          ]
        }
      ]
    },
    {
      "cell_type": "code",
      "source": [
        "# write out un-resampled train, test and dev sets to files\n",
        "\n",
        "train_data_filename = 'train_mbti_data.parquet'\n",
        "train_labels_filename = 'train_mbti_labels.csv'\n",
        "\n",
        "write_parquet_file( train_mbti_data, train_data_filename)\n",
        "write_csv_file(train_mbti_labels, train_labels_filename, True, True, 'w')\n",
        "\n",
        "test_data_filename = 'test_mbti_data.parquet'\n",
        "test_labels_filename = 'test_mbti_labels.csv'\n",
        "\n",
        "write_parquet_file( test_mbti_data, test_data_filename)\n",
        "write_csv_file( test_mbti_labels, test_labels_filename, True, True, 'w')\n",
        "\n",
        "dev_data_filename = 'dev_mbti_data.parquet'\n",
        "dev_labels_filename = 'dev_mbti_labels.csv'\n",
        "\n",
        "write_parquet_file( dev_mbti_data, dev_data_filename)\n",
        "write_csv_file( dev_mbti_labels, dev_labels_filename, True, True, 'w')\n"
      ],
      "metadata": {
        "id": "uls7eIO2m_1_"
      },
      "execution_count": 21,
      "outputs": []
    },
    {
      "cell_type": "markdown",
      "metadata": {
        "id": "TtMZffpNb_wF"
      },
      "source": [
        "##General Population Distribution, according to the Myers Briggs Website\n",
        "\n",
        "From https://www.myersbriggs.org/my-mbti-personality-type/my-mbti-results/how-frequent-is-my-type.htm\n",
        "\n",
        "That data is from 2002.  \n",
        "Here's another source that largely agrees:\n",
        "https://personalitymax.com/personality-types/population-gender/\n",
        "\n",
        "\n",
        "[link text](https://drive.google.com/file/d/1JuEw-cDa38wcex_igwtohygpv0q52vT3/view?usp=sharing)\n",
        "\n"
      ]
    },
    {
      "cell_type": "code",
      "execution_count": 23,
      "metadata": {
        "id": "OtDWJnQZdYWX"
      },
      "outputs": [],
      "source": [
        "# Valid MBTI Types\n",
        "\n",
        "valid_MBTI = ['ISTJ', \n",
        "              'INTJ', \n",
        "              'ESTJ', \n",
        "              'ENTJ', \n",
        "              'ENTP', \n",
        "              'INTP', \n",
        "              'ISTP', \n",
        "              'ESTP', \n",
        "              'ISFJ', \n",
        "              'INFJ', \n",
        "              'ESFJ', \n",
        "              'ENFJ', \n",
        "              'ENFP', \n",
        "              'INFP', \n",
        "              'ISFP', \n",
        "              'ESFP']\n",
        "\n",
        "valid_subtypes = [ 'Introverted',\n",
        "                   'Extroverted',\n",
        "                   'Sensing',\n",
        "                   'Intuitive',\n",
        "                   'Thinking',\n",
        "                   'Feeling',\n",
        "                   'Judging',\n",
        "                   'Perceiving' ]\n"
      ]
    },
    {
      "cell_type": "code",
      "execution_count": 24,
      "metadata": {
        "id": "-K8hNE-txiPm"
      },
      "outputs": [],
      "source": [
        "def get_MBTI_distribution( input_df ):\n",
        "    total_posts = input_df.shape[0]\n",
        "\n",
        "    mbti_type_counts = input_df['MBTI Type'].value_counts()\n",
        "    print( mbti_type_counts)\n",
        "\n",
        "    mbti_data_pct = [ mbti_type_counts[type]/total_posts for type in valid_MBTI ]\n",
        "    print( mbti_data_pct)\n",
        "\n",
        "    i_type_counts = input_df['is_I'].value_counts()\n",
        "    s_type_counts = input_df['is_S'].value_counts()\n",
        "    t_type_counts = input_df['is_T'].value_counts()\n",
        "    j_type_counts = input_df['is_J'].value_counts()\n",
        "\n",
        "    subtypes_data_counts = [i_type_counts[True],\n",
        "                            i_type_counts[False],\n",
        "                            s_type_counts[True],\n",
        "                            s_type_counts[False],\n",
        "                            t_type_counts[True],\n",
        "                            t_type_counts[False],\n",
        "                            j_type_counts[True],\n",
        "                            j_type_counts[False]\n",
        "                            ]\n",
        "    print( subtypes_data_counts)\n",
        "    subtypes_data_pct = [ i/total_posts for i in subtypes_data_counts ]\n",
        "    print( subtypes_data_pct)\n",
        "\n",
        "    return mbti_type_counts, mbti_data_pct, subtypes_data_counts, subtypes_data_pct\n"
      ]
    },
    {
      "cell_type": "code",
      "execution_count": 25,
      "metadata": {
        "colab": {
          "base_uri": "https://localhost:8080/"
        },
        "id": "AUaNwygSagx8",
        "outputId": "42002749-1bcd-41b4-930e-84b984734c05"
      },
      "outputs": [
        {
          "output_type": "stream",
          "name": "stdout",
          "text": [
            "INTJ    228701\n",
            "INFP    216037\n",
            "INTP    214658\n",
            "ENFP    183607\n",
            "INFJ    162980\n",
            "ENTP    148135\n",
            "ENTJ     71974\n",
            "ISTP     69981\n",
            "ISFP     64670\n",
            "ENFJ     47045\n",
            "ESFJ     41885\n",
            "ESTJ     36633\n",
            "ESFP     33965\n",
            "ESTP     33643\n",
            "ISTJ     33379\n",
            "ISFJ     23790\n",
            "Name: MBTI Type, dtype: int64\n",
            "[0.020718361499686856, 0.14195482169447507, 0.022738120878936716, 0.04467429673083261, 0.09194746639372398, 0.13323832477904615, 0.04343724066357847, 0.020882226427812844, 0.014766464545898628, 0.10116176509838413, 0.02599803982786734, 0.029200854332148002, 0.11396495400919754, 0.1340942707483103, 0.04014070038601363, 0.021082091984087722]\n",
            "[1014196, 596887, 337946, 1273137, 837104, 773979, 646387, 964696]\n",
            "[0.6295119494153932, 0.37048805058460677, 0.2097632462138822, 0.7902367537861178, 0.5195908590680927, 0.4804091409319073, 0.4012127246082294, 0.5987872753917707]\n"
          ]
        }
      ],
      "source": [
        "# get distribution of MBTI types and of categorical types in our data\n",
        "\n",
        "mbti_type_counts, mbti_data_pct, subtypes_data_counts, subtypes_data_pct = get_MBTI_distribution( merged_df )\n"
      ]
    },
    {
      "cell_type": "code",
      "execution_count": 26,
      "metadata": {
        "id": "1reDwmvKahCV"
      },
      "outputs": [],
      "source": [
        "# General Population Distribution\n",
        "\n",
        "mbti_est_gen_pop_pct = [.116,  # ISTJ\n",
        "                        .021,  # INTJ\n",
        "                        .087,  # ESTJ\n",
        "                        .018,  # ENTJ\n",
        "                        .032,  # ENTP\n",
        "                        .033,  # INTP\n",
        "                        .054,  # ISTP\n",
        "                        .043,  # ESTP\n",
        "                        .138,  # ISFJ\n",
        "                        .015,  # INFJ\n",
        "                        .120,  # ESFJ\n",
        "                        .025,  # ENFJ\n",
        "                        .081,  # ENFP\n",
        "                        .044,  # INFP\n",
        "                        .088,  # ISFP\n",
        "                        .085 ] # ESFP\n",
        "                              \n",
        "subtypes_est_gen_pop_pct = [ .507,  # Introverted\n",
        "                             .493,  # Extroverted\n",
        "                             .733,  # Sensing\n",
        "                             .267,  # Intuitive\n",
        "                             .402,  # Thinking\n",
        "                             .598,  # Feeling\n",
        "                             .541,  # Judging\n",
        "                             .459]  # Perceiving\n",
        "\n",
        "mbti_uniform_pct = [1/len(valid_MBTI) for i in range( 0, len(valid_MBTI))]\n",
        "subtypes_uniform_pct = [.5 for i in range( 0, len(valid_subtypes))]\n",
        "\n"
      ]
    },
    {
      "cell_type": "code",
      "execution_count": 27,
      "metadata": {
        "colab": {
          "base_uri": "https://localhost:8080/"
        },
        "id": "yV7Ez10NkBFX",
        "outputId": "db22e39c-4e69-4905-9376-5c7b3563b8e6"
      },
      "outputs": [
        {
          "output_type": "stream",
          "name": "stdout",
          "text": [
            "   MBTI Type      Data  Population  Uniform\n",
            "0       ISTJ  0.020718       0.116   0.0625\n",
            "1       INTJ  0.141955       0.021   0.0625\n",
            "2       ESTJ  0.022738       0.087   0.0625\n",
            "3       ENTJ  0.044674       0.018   0.0625\n",
            "4       ENTP  0.091947       0.032   0.0625\n",
            "5       INTP  0.133238       0.033   0.0625\n",
            "6       ISTP  0.043437       0.054   0.0625\n",
            "7       ESTP  0.020882       0.043   0.0625\n",
            "8       ISFJ  0.014766       0.138   0.0625\n",
            "9       INFJ  0.101162       0.015   0.0625\n",
            "10      ESFJ  0.025998       0.120   0.0625\n",
            "11      ENFJ  0.029201       0.025   0.0625\n",
            "12      ENFP  0.113965       0.081   0.0625\n",
            "13      INFP  0.134094       0.044   0.0625\n",
            "14      ISFP  0.040141       0.088   0.0625\n",
            "15      ESFP  0.021082       0.085   0.0625\n",
            "  MBTI Subtype      Data  Population  Uniform\n",
            "0  Introverted  0.629512       0.507      0.5\n",
            "1  Extroverted  0.370488       0.493      0.5\n",
            "2      Sensing  0.209763       0.733      0.5\n",
            "3    Intuitive  0.790237       0.267      0.5\n",
            "4     Thinking  0.519591       0.402      0.5\n",
            "5      Feeling  0.480409       0.598      0.5\n",
            "6      Judging  0.401213       0.541      0.5\n",
            "7   Perceiving  0.598787       0.459      0.5\n"
          ]
        }
      ],
      "source": [
        "mbti_dist = list( zip( valid_MBTI, mbti_data_pct, mbti_est_gen_pop_pct, mbti_uniform_pct))\n",
        "\n",
        "mbti_dist_df = pd.DataFrame( mbti_dist)\n",
        "mbti_dist_df.columns = ['MBTI Type', 'Data', 'Population', 'Uniform']\n",
        "print( mbti_dist_df )\n",
        "\n",
        "subtypes_dist = list( zip(valid_subtypes, subtypes_data_pct, subtypes_est_gen_pop_pct,  subtypes_uniform_pct))\n",
        "subtypes_dist_df = pd.DataFrame( subtypes_dist)\n",
        "subtypes_dist_df.columns = ['MBTI Subtype', 'Data', 'Population', 'Uniform']\n",
        "print( subtypes_dist_df )\n",
        "\n"
      ]
    },
    {
      "cell_type": "code",
      "execution_count": 28,
      "metadata": {
        "colab": {
          "base_uri": "https://localhost:8080/",
          "height": 826
        },
        "id": "kE2dADYSahOD",
        "outputId": "0e2ae9a5-8b23-4da7-8867-6262d67a6b19"
      },
      "outputs": [
        {
          "output_type": "display_data",
          "data": {
            "text/plain": [
              "<Figure size 1440x1080 with 1 Axes>"
            ],
            "image/png": "[encoded data removed]"
          },
          "metadata": {
            "needs_background": "light"
          }
        }
      ],
      "source": [
        "# plot MBTI distributions for data, general population, uniform  \n",
        "\n",
        "X_axis = np.arange(len(valid_MBTI))  \n",
        "f = plt.figure()\n",
        "f.set_figwidth(20)\n",
        "f.set_figheight(15)\n",
        "\n",
        "\n",
        "plt.bar(X_axis - .3, mbti_data_pct, 0.3, label = 'Data')\n",
        "plt.bar(X_axis + 0, mbti_est_gen_pop_pct, 0.3, label = 'General Population')\n",
        "plt.bar(X_axis + .3, mbti_uniform_pct, 0.3, label = 'Uniform')\n",
        "  \n",
        "plt.xticks(X_axis, valid_MBTI)\n",
        "plt.xlabel(\"MBTI Types\")\n",
        "plt.ylabel(\"Percent\")\n",
        "plt.title(\"Distribution of MBTI Types\")\n",
        "plt.legend()\n",
        "\n",
        "\n",
        "plt.show()"
      ]
    },
    {
      "cell_type": "code",
      "execution_count": 29,
      "metadata": {
        "colab": {
          "base_uri": "https://localhost:8080/",
          "height": 830
        },
        "id": "HwOrS8bFrhZM",
        "outputId": "e919b2a0-1659-4059-9155-9097c954defb"
      },
      "outputs": [
        {
          "output_type": "display_data",
          "data": {
            "text/plain": [
              "<Figure size 1440x1080 with 1 Axes>"
            ],
            "image/png": "[encoded data removed]"
          },
          "metadata": {
            "needs_background": "light"
          }
        }
      ],
      "source": [
        "# plot MBTI subtypes distributions for data, general population, uniform  \n",
        "\n",
        "X_axis = np.arange(len(valid_subtypes))  \n",
        "f = plt.figure()\n",
        "f.set_figwidth(20)\n",
        "f.set_figheight(15)\n",
        "\n",
        "\n",
        "plt.bar(X_axis - .3, subtypes_data_pct, 0.3, label = 'Data')\n",
        "plt.bar(X_axis + 0, subtypes_est_gen_pop_pct, 0.3, label = 'General Population')\n",
        "plt.bar(X_axis + .3, subtypes_uniform_pct, 0.3, label = 'Uniform')\n",
        "  \n",
        "plt.xticks(X_axis, valid_subtypes)\n",
        "plt.xlabel(\"MBTI Subtypes\")\n",
        "plt.ylabel(\"Percent\")\n",
        "plt.title(\"Distribution of MBTI Subtypes\")\n",
        "plt.legend()\n",
        "\n",
        "\n",
        "plt.show()"
      ]
    },
    {
      "cell_type": "code",
      "execution_count": 33,
      "metadata": {
        "colab": {
          "base_uri": "https://localhost:8080/"
        },
        "id": "zxK58nLEynhs",
        "outputId": "33cee5f8-cdfe-4bc9-8d15-07908aaa73f1"
      },
      "outputs": [
        {
          "output_type": "stream",
          "name": "stdout",
          "text": [
            "train_df shape: (1200000, 16)\n",
            "train_df columns: Index(['Username', 'Age', 'Posts', 'Enneagram', 'Instinctual Variant',\n",
            "       'Gender', 'Occupation', 'is_I', 'is_S', 'is_T', 'is_J', 'post_id',\n",
            "       'thread_id', 'post_date', 'message', 'MBTI Type'],\n",
            "      dtype='object')\n",
            "test_df shape: (400000, 16)\n",
            "test_df columns: Index(['Username', 'Age', 'Posts', 'Enneagram', 'Instinctual Variant',\n",
            "       'Gender', 'Occupation', 'is_I', 'is_S', 'is_T', 'is_J', 'post_id',\n",
            "       'thread_id', 'post_date', 'message', 'MBTI Type'],\n",
            "      dtype='object')\n",
            "dev_df shape: (400000, 16)\n",
            "dev_df columns: Index(['Username', 'Age', 'Posts', 'Enneagram', 'Instinctual Variant',\n",
            "       'Gender', 'Occupation', 'is_I', 'is_S', 'is_T', 'is_J', 'post_id',\n",
            "       'thread_id', 'post_date', 'message', 'MBTI Type'],\n",
            "      dtype='object')\n"
          ]
        }
      ],
      "source": [
        "# read the Training, Test and Dev splits in from files\n",
        "\n",
        "\n",
        "# Training\n",
        "train_X_df = read_parquet_from_gcloud( 'train_mbti_data.parquet')\n",
        "train_y_df = read_csv_from_gcloud( 'train_mbti_labels.csv')\n",
        "\n",
        "# put the data back together for the resampling process\n",
        "train_df  = pd.concat([train_X_df, train_y_df], axis=1)\n",
        "train_df = train_df.drop(['Unnamed: 0'], axis=1)\n",
        "\n",
        "print( \"train_df shape:\", train_df.shape )\n",
        "print( \"train_df columns:\", train_df.columns )\n",
        "\n",
        "# Test\n",
        "test_X_df = read_parquet_from_gcloud( 'test_mbti_data.parquet')\n",
        "test_y_df = read_csv_from_gcloud( 'test_mbti_labels.csv')\n",
        "\n",
        "# put the data back together for analysis\n",
        "test_df  = pd.concat([test_X_df, test_y_df], axis=1)\n",
        "test_df = test_df.drop(['Unnamed: 0'], axis=1)\n",
        "print( \"test_df shape:\", test_df.shape )\n",
        "print( \"test_df columns:\", test_df.columns )\n",
        "\n",
        "\n",
        "# Dev\n",
        "dev_X_df = read_parquet_from_gcloud( 'dev_mbti_data.parquet')\n",
        "dev_y_df = read_csv_from_gcloud( 'dev_mbti_labels.csv')\n",
        "\n",
        "# put the data back together for analysis\n",
        "dev_df  = pd.concat([dev_X_df, dev_y_df], axis=1)\n",
        "dev_df = dev_df.drop(['Unnamed: 0'], axis=1)\n",
        "print( \"dev_df shape:\", dev_df.shape )\n",
        "print( \"dev_df columns:\", dev_df.columns )\n",
        "\n",
        "\n"
      ]
    },
    {
      "cell_type": "code",
      "execution_count": 34,
      "metadata": {
        "colab": {
          "base_uri": "https://localhost:8080/"
        },
        "id": "QdeByHsTukHy",
        "outputId": "7ab4d5dd-c44b-4eee-bae7-213e4a018d3a"
      },
      "outputs": [
        {
          "output_type": "stream",
          "name": "stdout",
          "text": [
            "INTJ    180427\n",
            "INTP    165814\n",
            "INFP    160191\n",
            "ENFP    154923\n",
            "INFJ    140110\n",
            "ENTP     96227\n",
            "ISTP     58050\n",
            "ENTJ     45507\n",
            "ESFP     32773\n",
            "ESTP     31526\n",
            "ESTJ     30144\n",
            "ENFJ     28401\n",
            "ESFJ     22173\n",
            "ISTJ     20249\n",
            "ISFP     17387\n",
            "ISFJ     16098\n",
            "Name: MBTI Type, dtype: int64\n",
            "[0.016874166666666666, 0.15035583333333333, 0.02512, 0.0379225, 0.08018916666666667, 0.13817833333333332, 0.048375, 0.026271666666666665, 0.013415, 0.11675833333333334, 0.0184775, 0.0236675, 0.1291025, 0.1334925, 0.014489166666666666, 0.027310833333333333]\n",
            "[758326, 441674, 228400, 971600, 627944, 572056, 483109, 716891]\n",
            "[0.6319383333333334, 0.3680616666666667, 0.19033333333333333, 0.8096666666666666, 0.5232866666666667, 0.4767133333333333, 0.40259083333333334, 0.5974091666666667]\n",
            "INTJ    42295\n",
            "ISFP    30046\n",
            "ENTJ    23602\n",
            "ENTP    19129\n",
            "INFP    17726\n",
            "INTP    16528\n",
            "ESFJ    11287\n",
            "ENFJ     9656\n",
            "INFJ     7074\n",
            "ISFJ     6727\n",
            "ENFP     6312\n",
            "ISTJ     5648\n",
            "ISTP     1239\n",
            "ESTJ     1182\n",
            "ESFP     1083\n",
            "ESTP      466\n",
            "Name: MBTI Type, dtype: int64\n",
            "[0.01412, 0.1057375, 0.002955, 0.059005, 0.0478225, 0.04132, 0.0030975, 0.001165, 0.0168175, 0.017685, 0.0282175, 0.02414, 0.01578, 0.044315, 0.075115, 0.0027075]\n",
            "[127283, 72717, 57678, 142322, 110089, 89911, 107471, 92529]\n",
            "[0.3182075, 0.1817925, 0.144195, 0.355805, 0.2752225, 0.2247775, 0.2686775, 0.2313225]\n",
            "INFP    34962\n",
            "INTP    30216\n",
            "ENTP    28869\n",
            "ENFP    22341\n",
            "ISFP    17212\n",
            "INFJ    15493\n",
            "ISTP    10599\n",
            "ENFJ     8951\n",
            "ESFJ     8425\n",
            "ISTJ     6529\n",
            "INTJ     5569\n",
            "ESTJ     5307\n",
            "ENTJ     2847\n",
            "ESTP     1642\n",
            "ISFJ      930\n",
            "ESFP      108\n",
            "Name: MBTI Type, dtype: int64\n",
            "[0.0163225, 0.0139225, 0.0132675, 0.0071175, 0.0721725, 0.07554, 0.0264975, 0.004105, 0.002325, 0.0387325, 0.0210625, 0.0223775, 0.0558525, 0.087405, 0.04303, 0.00027]\n",
            "[121510, 78490, 50752, 149248, 91578, 108422, 54051, 145949]\n",
            "[0.303775, 0.196225, 0.12688, 0.37312, 0.228945, 0.271055, 0.1351275, 0.3648725]\n"
          ]
        }
      ],
      "source": [
        "# Now do a sanity check of the distribution in the Training, Test and Dev splits of the data\n",
        "\n",
        "train_type_counts, train_data_pct, train_sub_data_counts, train_sub_data_pct = get_MBTI_distribution( train_df )\n",
        "test_type_counts, test_data_pct, test_sub_data_counts, test_sub_data_pct = get_MBTI_distribution( test_df )\n",
        "dev_type_counts, dev_data_pct, dev_sub_data_counts, dev_sub_data_pct = get_MBTI_distribution( dev_df )\n"
      ]
    },
    {
      "cell_type": "code",
      "execution_count": 35,
      "metadata": {
        "id": "7PTk9PkG4Ql_"
      },
      "outputs": [],
      "source": [
        "# plot MBTI distributions for data, general population, uniform  \n",
        "\n",
        "def plot_MBTI_distribution( title, input_MBTI_pct ):\n",
        "\n",
        "    X_axis = np.arange(len(valid_MBTI))  \n",
        "    f = plt.figure()\n",
        "    f.set_figwidth(20)\n",
        "    f.set_figheight(15)\n",
        "\n",
        "\n",
        "    plt.bar(X_axis - .3, input_MBTI_pct, 0.3, label = 'Data')\n",
        "    plt.bar(X_axis + 0, mbti_est_gen_pop_pct, 0.3, label = 'General Population')\n",
        "    plt.bar(X_axis + .3, mbti_uniform_pct, 0.3, label = 'Uniform')\n",
        "    \n",
        "    plt.xticks(X_axis, valid_MBTI)\n",
        "    plt.xlabel(\"MBTI Types\")\n",
        "    plt.ylabel(\"Percent\")\n",
        "    plt.title(title)\n",
        "    plt.legend()\n",
        "\n",
        "\n",
        "    plt.show()\n",
        "\n",
        "def plot_MBTI_subtypes_distribution( title, input_subtypes_dist ):\n",
        "\n",
        "    X_axis = np.arange(len(valid_subtypes))  \n",
        "    f = plt.figure()\n",
        "    f.set_figwidth(20)\n",
        "    f.set_figheight(15)\n",
        "\n",
        "\n",
        "    plt.bar(X_axis - .3, input_subtypes_dist, 0.3, label = 'Data')\n",
        "    plt.bar(X_axis + 0, subtypes_est_gen_pop_pct, 0.3, label = 'General Population')\n",
        "    plt.bar(X_axis + .3, subtypes_uniform_pct, 0.3, label = 'Uniform')\n",
        "    \n",
        "    plt.xticks(X_axis, valid_subtypes)\n",
        "    plt.xlabel(\"MBTI Subtypes\")\n",
        "    plt.ylabel(\"Percent\")\n",
        "    plt.title(title)\n",
        "    plt.legend()\n",
        "\n",
        "\n",
        "    plt.show()"
      ]
    },
    {
      "cell_type": "code",
      "execution_count": 36,
      "metadata": {
        "id": "tBAvjWyC6_P4",
        "outputId": "e17d3d7d-cefa-4b33-e631-773c1974d851",
        "colab": {
          "base_uri": "https://localhost:8080/",
          "height": 1000
        }
      },
      "outputs": [
        {
          "output_type": "display_data",
          "data": {
            "text/plain": [
              "<Figure size 1440x1080 with 1 Axes>"
            ],
            "image/png": "[encoded data removed]"
          },
          "metadata": {
            "needs_background": "light"
          }
        },
        {
          "output_type": "display_data",
          "data": {
            "text/plain": [
              "<Figure size 1440x1080 with 1 Axes>"
            ],
            "image/png": "[encoded data removed]"
          },
          "metadata": {
            "needs_background": "light"
          }
        },
        {
          "output_type": "display_data",
          "data": {
            "text/plain": [
              "<Figure size 1440x1080 with 1 Axes>"
            ],
            "image/png": "[encoded data removed]"
          },
          "metadata": {
            "needs_background": "light"
          }
        },
        {
          "output_type": "display_data",
          "data": {
            "text/plain": [
              "<Figure size 1440x1080 with 1 Axes>"
            ],
            "image/png": "[encoded data removed]"
          },
          "metadata": {
            "needs_background": "light"
          }
        },
        {
          "output_type": "display_data",
          "data": {
            "text/plain": [
              "<Figure size 1440x1080 with 1 Axes>"
            ],
            "image/png": "[encoded data removed]"
          },
          "metadata": {
            "needs_background": "light"
          }
        },
        {
          "output_type": "display_data",
          "data": {
            "text/plain": [
              "<Figure size 1440x1080 with 1 Axes>"
            ],
            "image/png": "[encoded data removed]"
          },
          "metadata": {
            "needs_background": "light"
          }
        }
      ],
      "source": [
        "# Let's take a look - we should see the same distribution across the train, test and dev sets\n",
        "\n",
        "plot_MBTI_distribution( 'Distribution of MBTI Types in Train Set', train_data_pct )\n",
        "plot_MBTI_distribution( 'Distribution of MBTI Types in Test Set', test_data_pct )\n",
        "plot_MBTI_distribution( 'Distribution of MBTI Types in Dev Set', dev_data_pct )\n",
        "\n",
        "plot_MBTI_subtypes_distribution('Distribution of MBTI Subtypes in Train Set', train_sub_data_pct )\n",
        "plot_MBTI_subtypes_distribution('Distribution of MBTI Subtypes in Test Set', test_sub_data_pct )\n",
        "plot_MBTI_subtypes_distribution('Distribution of MBTI Subtypes in Dev Set', dev_sub_data_pct )"
      ]
    },
    {
      "cell_type": "code",
      "execution_count": 37,
      "metadata": {
        "id": "lHJm_oAL79DJ"
      },
      "outputs": [],
      "source": [
        "# Now, resampling\n",
        "\n",
        "# First, work on uniform distributions which are simpler\n",
        "# Strategy 1:  Undersampling to uniform\n",
        "# Strategy 2:  Oversampling to uniform\n",
        "\n",
        "# Second, match general population distribution\n",
        "# Strategy 3:  Match general population\n",
        "\n",
        "\n",
        "\n",
        "resampling_strategy = [ 'uniform_undersampling',\n",
        "                        'uniform_oversampling',\n",
        "                        'match_general_population'\n",
        "                       ]\n",
        "\n",
        "\n",
        "      \n",
        "\n",
        "def is_MBTI_type( column_name ):\n",
        "    return column_name in valid_MBTI\n",
        "\n",
        "\n",
        "gen_pop_pcts_by_cat = {\n",
        "    'ISTJ': .116,\n",
        "    'INTJ': .021,\n",
        "    'ESTJ': .087,\n",
        "    'ENTJ': .018,\n",
        "    'ENTP': .032,\n",
        "    'INTP': .033,\n",
        "    'ISTP': .054,\n",
        "    'ESTP': .043,\n",
        "    'ISFJ': .138,\n",
        "    'INFJ': .015,\n",
        "    'ESFJ': .120,\n",
        "    'ENFJ': .025,\n",
        "    'ENFP': .081,\n",
        "    'INFP': .044,\n",
        "    'ISFP': .088,\n",
        "    'ESFP': .085,\n",
        "    'Introverted': .507,\n",
        "    'Extroverted': .493,\n",
        "    'Sensing': .733,\n",
        "    'Intuitive': .267,\n",
        "    'Thinking': .402,\n",
        "    'Feeling': .598,\n",
        "    'Judging': .541,\n",
        "    'Perceiving': .459\n",
        "}\n",
        "\n",
        "def get_general_pop_pct( category, column_name = None ):\n",
        "    if column_name == None:\n",
        "        if category == True:\n",
        "            print( \"invalid category- also need column name\")\n",
        "            return None\n",
        "        elif category == False:\n",
        "            print( \"invalid category- also need column name\")\n",
        "            return None\n",
        "        else:\n",
        "            return gen_pop_pcts_by_cat[category]\n",
        "    else:\n",
        "        if column_name == 'is_I':\n",
        "            if category == True:\n",
        "                return gen_pop_pcts_by_cat['Introverted']\n",
        "            else:\n",
        "                return gen_pop_pcts_by_cat['Extroverted']\n",
        "        elif column_name == 'is_S':\n",
        "            if category == True:\n",
        "                return gen_pop_pcts_by_cat['Sensing']\n",
        "            else:\n",
        "                return gen_pop_pcts_by_cat['Intuitive']\n",
        "        elif column_name == 'is_T':\n",
        "            if category == True:\n",
        "                return gen_pop_pcts_by_cat['Thinking']\n",
        "            else:\n",
        "                return gen_pop_pcts_by_cat['Feeling']\n",
        "        elif column_name == 'is_J':\n",
        "            if category == True:\n",
        "                return gen_pop_pcts_by_cat['Judging']\n",
        "            else:\n",
        "                return gen_pop_pcts_by_cat['Perceiving']\n",
        "        else:\n",
        "            return gen_pop_pcts_by_cat[category]\n",
        "\n",
        "\n",
        " "
      ]
    },
    {
      "cell_type": "code",
      "source": [
        "\n",
        "def resample_MBTI_data( input_df, column_name, strategy ):\n",
        "\n",
        "    input_n_samps = input_df.shape[0]\n",
        "    input_counts = input_df[column_name].value_counts()\n",
        "   # print( \"input counts:\", input_counts )\n",
        "    n_categories = len(input_counts)\n",
        "    categories_list = input_counts.index\n",
        "  #  print( \"input categories:\", categories_list)\n",
        "    min_count = min(input_counts)\n",
        "    max_count = max(input_counts)\n",
        "\n",
        "    categories_dfs = {}\n",
        "\n",
        "    for cat in categories_list:\n",
        "        cat_df = input_df.loc[input_df[column_name] == cat]\n",
        " #       print( cat_df.shape )\n",
        "        categories_dfs[cat] = cat_df\n",
        "\n",
        "    # figure out distribution across categories based on strategy\n",
        "    target_counts_by_cat = {}\n",
        "\n",
        "    if strategy == 'uniform_undersampling':\n",
        "        # find the category or categories with minimum count and reduce all the other categories to the same count\n",
        "        target_counts = [min_count for cat in categories_list ]\n",
        "        target_counts_by_cat = dict(zip(categories_list, target_counts))\n",
        "\n",
        "    elif strategy == 'uniform_oversampling':\n",
        "        # find the category or categories with maximum count and increase all the other categories to the same count\n",
        "        target_counts = [max_count for cat in categories_list ]\n",
        "        target_counts_by_cat = dict(zip(categories_list, target_counts))\n",
        "\n",
        "    else:\n",
        "        # for the general population distribution, either over or under sampling means applying the distribution to the counts of the input_df\n",
        "        # convert distribution to counts array based on the overall size\n",
        "\n",
        "        for cat in categories_list:\n",
        "   #         print( \"Category:\", cat )\n",
        "            cat_pct = get_general_pop_pct(cat, column_name)\n",
        "    #        print( \"cat_pct:\", cat_pct )\n",
        "            if cat_pct == None:\n",
        "                print( \"Error retrieving target percent for category\", cat, column_name )\n",
        "            cat_count = int(input_n_samps*cat_pct)\n",
        "  #          print( \"Category count:\", cat_count)\n",
        "            target_counts_by_cat[cat] = cat_count\n",
        "\n",
        "\n",
        "    # now do the resampling to the count in the target_counts_by_cat array for each category\n",
        "    resampled_dfs = {}\n",
        "\n",
        "    for cat in categories_list:\n",
        "        cat_in_df = categories_dfs[cat]\n",
        "        cat_out_count = target_counts_by_cat[cat]\n",
        "  #      print( \"Category count:\", cat_out_count)\n",
        "        cat_out_df = resample(cat_in_df, replace=True, n_samples = cat_out_count, random_state = 42)\n",
        "        resampled_dfs[cat] = cat_out_df\n",
        "\n",
        "    output_df = pd.concat(list(resampled_dfs.values()))\n",
        "\n",
        "    # shuffle the samples so that they are not sorted by category\n",
        "    output_df = output_df.sample(frac=1, random_state = 42).reset_index()\n",
        "\n",
        "    # check what we did\n",
        "    # for df in resampled_dfs.values():\n",
        "    #     print( \"Df shape:\", df.shape)\n",
        "\n",
        "    # print( \"output_df shape:\", output_df.shape)\n",
        "    return output_df\n",
        "\n",
        "\n",
        "\n",
        " \n"
      ],
      "metadata": {
        "id": "rUOrI3L4v2S1"
      },
      "execution_count": 38,
      "outputs": []
    },
    {
      "cell_type": "code",
      "source": [
        "# Let's do some resampling and write out different resampled versions of training data and labels\n",
        "\n",
        "# uniform under sampling MBTI\n",
        "under_sampled_MBTI_df = resample_MBTI_data( train_df, 'MBTI Type', 'uniform_undersampling')\n",
        "y_df = under_sampled_MBTI_df['MBTI Type']\n",
        "X_df = under_sampled_MBTI_df.drop(labels = ['MBTI Type'], axis = 1)\n",
        "\n",
        "write_parquet_file(X_df, 'train_under_sampled_mbti_data.parquet')\n",
        "write_csv_file(y_df, 'train_under_sampled_mbti_labels.csv', True, True, 'w')\n",
        "\n",
        "# uniform over sampling MBTI\n",
        "over_sampled_MBTI_df = resample_MBTI_data( train_df, 'MBTI Type', 'uniform_oversampling')\n",
        "y_df = over_sampled_MBTI_df['MBTI Type']\n",
        "X_df = over_sampled_MBTI_df.drop(labels = ['MBTI Type'], axis = 1)\n",
        "\n",
        "write_parquet_file(X_df, 'train_over_sampled_mbti_data.parquet')\n",
        "write_csv_file(y_df, 'train_over_sampled_mbti_labels.csv', True, True, 'w')\n",
        "\n",
        "\n",
        "# match gen pop MBTI\n",
        "gen_pop_dist_MBTI_df = resample_MBTI_data( train_df, 'MBTI Type', 'match_general_population')\n",
        "\n",
        "y_df = gen_pop_dist_MBTI_df['MBTI Type']\n",
        "X_df = gen_pop_dist_MBTI_df.drop(labels = ['MBTI Type'], axis = 1)\n",
        "\n",
        "write_parquet_file(X_df, 'train_gen_pop_mbti_data.parquet')\n",
        "write_csv_file(y_df, 'train_gen_pop_mbti_labels.csv', True, True, 'w')\n",
        "\n"
      ],
      "metadata": {
        "id": "eNFEeWkefvY6"
      },
      "execution_count": 40,
      "outputs": []
    },
    {
      "cell_type": "code",
      "source": [
        "# placeholder for creating resampled sets by subtypes"
      ],
      "metadata": {
        "id": "pblOFQ_KlcPi"
      },
      "execution_count": null,
      "outputs": []
    }
  ],
  "metadata": {
    "colab": {
      "collapsed_sections": [],
      "machine_shape": "hm",
      "provenance": []
    },
    "gpuClass": "premium",
    "kernelspec": {
      "display_name": "Python 3 (ipykernel)",
      "language": "python",
      "name": "python3"
    },
    "language_info": {
      "codemirror_mode": {
        "name": "ipython",
        "version": 3
      },
      "file_extension": ".py",
      "mimetype": "text/x-python",
      "name": "python",
      "nbconvert_exporter": "python",
      "pygments_lexer": "ipython3",
      "version": "3.9.12"
    }
  },
  "nbformat": 4,
  "nbformat_minor": 0
}