{
  "cells": [
    {
      "cell_type": "markdown",
      "metadata": {
        "id": "view-in-github",
        "colab_type": "text"
      },
      "source": [
        "<a href=\"https://colab.research.google.com/github/cakennedy/266-mbti-project/blob/main/notebooks/W266Multi%2BBinary_CK_T5_12_01__NoEmpath_Torch.ipynb\" target=\"_parent\"><img src=\"https://colab.research.google.com/assets/colab-badge.svg\" alt=\"Open In Colab\"/></a>"
      ]
    },
    {
      "cell_type": "markdown",
      "source": [
        "## T5 References\n",
        "\n",
        "https://huggingface.co/docs/transformers/model_doc/t5\n",
        "\n",
        "https://arxiv.org/pdf/1910.10683.pdf\n",
        "\n",
        "https://colab.research.google.com/github/patil-suraj/exploring-T5/blob/master/t5_fine_tuning.ipynb\n",
        "\n",
        "https://towardsdatascience.com/data-to-text-generation-with-t5-building-a-simple-yet-advanced-nlg-model-b5cce5a6df45\n",
        "\n",
        "https://colab.research.google.com/github/datasci-w266/2022-fall-main/blob/master/materials/lesson_notebooks/lesson_6_Machine_Translation.ipynb\n",
        "\n",
        "http://seekinginference.com/applied_nlp/t5-class.html\n",
        "http://seekinginference.com/NLP/T5_classification\n",
        "\n"
      ],
      "metadata": {
        "id": "k9Q9WYOa8_Cv"
      }
    },
    {
      "cell_type": "markdown",
      "metadata": {
        "id": "xrnrXyQ401dW"
      },
      "source": [
        "#Initial Set up "
      ]
    },
    {
      "cell_type": "markdown",
      "source": [
        "In this notebook \n",
        "a ) I am using data from GCS, from courtney which is cleaned for age and other additional columns , \n",
        "b) I am also removing AGE from the model and lower string transformations\n",
        "c) cleaning up the notebook for only model as of now"
      ],
      "metadata": {
        "id": "1T9lstXkwZpr"
      }
    },
    {
      "cell_type": "code",
      "execution_count": 27,
      "metadata": {
        "colab": {
          "base_uri": "https://localhost:8080/"
        },
        "id": "612BHau796hf",
        "outputId": "6322fbcb-adce-4fcc-bc6e-862fc4b32eba"
      },
      "outputs": [
        {
          "output_type": "stream",
          "name": "stdout",
          "text": [
            "Fri Dec  2 15:12:39 2022       \n",
            "+-----------------------------------------------------------------------------+\n",
            "| NVIDIA-SMI 460.32.03    Driver Version: 460.32.03    CUDA Version: 11.2     |\n",
            "|-------------------------------+----------------------+----------------------+\n",
            "| GPU  Name        Persistence-M| Bus-Id        Disp.A | Volatile Uncorr. ECC |\n",
            "| Fan  Temp  Perf  Pwr:Usage/Cap|         Memory-Usage | GPU-Util  Compute M. |\n",
            "|                               |                      |               MIG M. |\n",
            "|===============================+======================+======================|\n",
            "|   0  A100-SXM4-40GB      Off  | 00000000:00:04.0 Off |                    0 |\n",
            "| N/A   33C    P0    53W / 400W |   1234MiB / 40536MiB |      0%      Default |\n",
            "|                               |                      |             Disabled |\n",
            "+-------------------------------+----------------------+----------------------+\n",
            "                                                                               \n",
            "+-----------------------------------------------------------------------------+\n",
            "| Processes:                                                                  |\n",
            "|  GPU   GI   CI        PID   Type   Process name                  GPU Memory |\n",
            "|        ID   ID                                                   Usage      |\n",
            "|=============================================================================|\n",
            "+-----------------------------------------------------------------------------+\n",
            "\n",
            "\n",
            "Your runtime has 89.6 gigabytes of available RAM\n",
            "\n",
            "You are using a high-RAM runtime!\n"
          ]
        }
      ],
      "source": [
        "# Google collab premium utilities status check\n",
        "# GPU\n",
        "gpu_info = !nvidia-smi\n",
        "gpu_info = '\\n'.join(gpu_info)\n",
        "if gpu_info.find('failed') >= 0:\n",
        "  print('Not connected to a GPU')\n",
        "else:\n",
        "  print(gpu_info)\n",
        "\n",
        "print( '\\n')\n",
        "\n",
        "# RAM\n",
        "from psutil import virtual_memory\n",
        "ram_gb = virtual_memory().total / 1e9\n",
        "print('Your runtime has {:.1f} gigabytes of available RAM\\n'.format(ram_gb))\n",
        "\n",
        "if ram_gb < 20:\n",
        "  print('Not using a high-RAM runtime')\n",
        "else:\n",
        "  print('You are using a high-RAM runtime!')"
      ]
    },
    {
      "cell_type": "code",
      "source": [
        "# imports\n",
        "import sys\n",
        "import csv\n",
        "from enum import Enum\n",
        "\n",
        "#import unidecode \n",
        "#import unicodedata\n",
        "import pandas as pd\n",
        "import io\n",
        "from io import BytesIO\n",
        "import matplotlib.pyplot as plt\n",
        "import altair as alt\n",
        "import numpy as np\n",
        "import textwrap\n",
        "import re\n",
        "import time\n",
        "import random\n",
        "import datetime"
      ],
      "metadata": {
        "id": "zwdvgoM4C-8v"
      },
      "execution_count": 28,
      "outputs": []
    },
    {
      "cell_type": "code",
      "source": [
        "!pip install -q sentencepiece\n",
        "!pip install -q transformers\n",
        "!pip install -q optuna"
      ],
      "metadata": {
        "id": "uOnynJOH9f_F"
      },
      "execution_count": 29,
      "outputs": []
    },
    {
      "cell_type": "code",
      "source": [
        "\n",
        "import os, re\n",
        "import time\n",
        "import numpy as np\n",
        "import pandas as pd\n",
        "\n",
        "import io\n",
        "from io import BytesIO\n",
        "import torch\n",
        "import torch.nn as nn\n",
        "import torch.nn.functional as F\n",
        "from torch.cuda.amp import autocast, GradScaler\n",
        "from torch.utils.data import TensorDataset, random_split, DataLoader, RandomSampler\n",
        "from transformers import T5Tokenizer, T5ForConditionalGeneration\n",
        "from transformers import AdamW, get_linear_schedule_with_warmup\n",
        "\n",
        "from sklearn import metrics\n",
        "from sklearn.metrics import confusion_matrix\n",
        "from sklearn.metrics import accuracy_score, f1_score, precision_score, recall_score, classification_report\n",
        "from sklearn.metrics import f1_score,roc_auc_score,roc_curve,recall_score,matthews_corrcoef\n",
        "\n",
        "import seaborn as sns\n",
        "import matplotlib.pyplot as plt\n",
        "\n",
        "import optuna\n",
        "from optuna.pruners import SuccessiveHalvingPruner\n",
        "from optuna.samplers import TPESampler\n",
        "\n"
      ],
      "metadata": {
        "id": "Frks0mH7DA_1"
      },
      "execution_count": 31,
      "outputs": []
    },
    {
      "cell_type": "code",
      "source": [
        "SEED = 15\n",
        "random.seed(SEED)\n",
        "np.random.seed(SEED)\n",
        "torch.manual_seed(SEED)"
      ],
      "metadata": {
        "id": "exwoBGnlSKPl",
        "colab": {
          "base_uri": "https://localhost:8080/"
        },
        "outputId": "b718f71b-748d-439d-c4b9-e5ea95ffc061"
      },
      "execution_count": 32,
      "outputs": [
        {
          "output_type": "execute_result",
          "data": {
            "text/plain": [
              "<torch._C.Generator at 0x7f7488194410>"
            ]
          },
          "metadata": {},
          "execution_count": 32
        }
      ]
    },
    {
      "cell_type": "code",
      "source": [
        "torch.cuda.amp.autocast(enabled=True)"
      ],
      "metadata": {
        "colab": {
          "base_uri": "https://localhost:8080/"
        },
        "id": "jmL7C_aVSHan",
        "outputId": "20f5517e-8b02-4831-fb11-7b47be3faf74"
      },
      "execution_count": 33,
      "outputs": [
        {
          "output_type": "execute_result",
          "data": {
            "text/plain": [
              "<torch.cuda.amp.autocast_mode.autocast at 0x7f73076319d0>"
            ]
          },
          "metadata": {},
          "execution_count": 33
        }
      ]
    },
    {
      "cell_type": "code",
      "source": [
        "torch.backends.cudnn.deterministic = True\n",
        "\n",
        "# tell pytorch to use cuda\n",
        "device = torch.device(\"cuda\")"
      ],
      "metadata": {
        "id": "EX-hNOsRSNnA"
      },
      "execution_count": 34,
      "outputs": []
    },
    {
      "cell_type": "code",
      "source": [
        "#imports and installs for feature engineering\n",
        "!pip install empath\n",
        "from empath import Empath\n",
        "lexicon = Empath()\n",
        "# Import module\n",
        "!pip install NRCLex\n",
        "from nrclex import NRCLex\n",
        "import nltk\n",
        "nltk.download('punkt')\n",
        "import collections\n",
        "from collections import Counter\n",
        "import spacy\n",
        "nlp =spacy.load(\"en_core_web_sm\")"
      ],
      "metadata": {
        "colab": {
          "base_uri": "https://localhost:8080/"
        },
        "id": "Xbwneb_7DFOp",
        "outputId": "a3b4a0e7-cecc-4c99-d6ee-5e6f6b01048a"
      },
      "execution_count": 35,
      "outputs": [
        {
          "output_type": "stream",
          "name": "stdout",
          "text": [
            "Looking in indexes: https://pypi.org/simple, https://us-python.pkg.dev/colab-wheels/public/simple/\n",
            "Requirement already satisfied: empath in /usr/local/lib/python3.8/dist-packages (0.89)\n",
            "Requirement already satisfied: requests in /usr/local/lib/python3.8/dist-packages (from empath) (2.23.0)\n",
            "Requirement already satisfied: urllib3!=1.25.0,!=1.25.1,<1.26,>=1.21.1 in /usr/local/lib/python3.8/dist-packages (from requests->empath) (1.24.3)\n",
            "Requirement already satisfied: idna<3,>=2.5 in /usr/local/lib/python3.8/dist-packages (from requests->empath) (2.10)\n",
            "Requirement already satisfied: chardet<4,>=3.0.2 in /usr/local/lib/python3.8/dist-packages (from requests->empath) (3.0.4)\n",
            "Requirement already satisfied: certifi>=2017.4.17 in /usr/local/lib/python3.8/dist-packages (from requests->empath) (2022.9.24)\n",
            "Looking in indexes: https://pypi.org/simple, https://us-python.pkg.dev/colab-wheels/public/simple/\n",
            "Requirement already satisfied: NRCLex in /usr/local/lib/python3.8/dist-packages (3.0.0)\n",
            "Requirement already satisfied: textblob in /usr/local/lib/python3.8/dist-packages (from NRCLex) (0.15.3)\n",
            "Requirement already satisfied: nltk>=3.1 in /usr/local/lib/python3.8/dist-packages (from textblob->NRCLex) (3.7)\n",
            "Requirement already satisfied: click in /usr/local/lib/python3.8/dist-packages (from nltk>=3.1->textblob->NRCLex) (7.1.2)\n",
            "Requirement already satisfied: tqdm in /usr/local/lib/python3.8/dist-packages (from nltk>=3.1->textblob->NRCLex) (4.64.1)\n",
            "Requirement already satisfied: regex>=2021.8.3 in /usr/local/lib/python3.8/dist-packages (from nltk>=3.1->textblob->NRCLex) (2022.6.2)\n",
            "Requirement already satisfied: joblib in /usr/local/lib/python3.8/dist-packages (from nltk>=3.1->textblob->NRCLex) (1.2.0)\n"
          ]
        },
        {
          "output_type": "stream",
          "name": "stderr",
          "text": [
            "[nltk_data] Downloading package punkt to /root/nltk_data...\n",
            "[nltk_data]   Package punkt is already up-to-date!\n"
          ]
        }
      ]
    },
    {
      "cell_type": "code",
      "source": [
        "# To work from gcloud, use this:\n",
        "\n",
        "# Upload Google Cloud service account key to enable authentication ( json file )\n",
        "# Go to https://console.cloud.google.com/:\n",
        "# Under the Navigation Menu ( upper left 3 horizontal lines) \n",
        "# 1. choose IAM & Admin>\n",
        "# 2. choose Service Accounts>\n",
        "# 3. Select a Service Account>\n",
        "# 4. Under the Actions menu ( 3 dots to the right of the service account )>Manage Keys to create your own json credentials file\n",
        "\n",
        "from google.colab import files\n",
        "from google.cloud import storage\n",
        "\n",
        "\n",
        "def upload_gcloud_credentials():\n",
        "    uploaded = files.upload()\n",
        "\n",
        "\n",
        "def config_GCloud():\n",
        "    #Load Google Cloud storage client using service key\n",
        "    storage_client = storage.Client.from_service_account_json('pacific-castle-360400-a3ca89f64de6.json')\n",
        "    #Print buckets available\n",
        "    for bucket in storage_client.list_buckets():\n",
        "        print(bucket)\n",
        "\n",
        "    #Assign bucket name being used\n",
        "    gcloud_bucket_name = '266csffile'\n",
        "\n",
        "    #Get bucket\n",
        "    gcloud_bucket = storage_client.get_bucket(gcloud_bucket_name)\n",
        "\n",
        "    #Show list of files in bucket and list the files\n",
        "    filename = list(gcloud_bucket.list_blobs(prefix=''))\n",
        "    for name in filename:\n",
        "        print(name.name)\n",
        "\n",
        "    #Increase field size to allow reading in of files\n",
        "    maxInt = sys.maxsize\n",
        "\n",
        "    while True:\n",
        "        # decrease the maxInt value by factor 10 as long as overflow error occurs \n",
        "        try:\n",
        "            csv.field_size_limit(maxInt)\n",
        "            break\n",
        "        except OverflowError:\n",
        "            maxInt = int(maxInt/10)\n",
        "\n",
        " \n",
        "    return gcloud_bucket, gcloud_bucket_name\n"
      ],
      "metadata": {
        "id": "IJN8UDgGDIpS"
      },
      "execution_count": 36,
      "outputs": []
    },
    {
      "cell_type": "code",
      "source": [
        "upload_gcloud_credentials()"
      ],
      "metadata": {
        "colab": {
          "base_uri": "https://localhost:8080/",
          "height": 74
        },
        "id": "pdWDdCdGDLEm",
        "outputId": "085f4048-e85d-469c-dffd-5d7fed18060e"
      },
      "execution_count": 37,
      "outputs": [
        {
          "output_type": "display_data",
          "data": {
            "text/plain": [
              "<IPython.core.display.HTML object>"
            ],
            "text/html": [
              "\n",
              "     <input type=\"file\" id=\"files-b6312aad-b108-47d3-943e-1767aef50dd0\" name=\"files[]\" multiple disabled\n",
              "        style=\"border:none\" />\n",
              "     <output id=\"result-b6312aad-b108-47d3-943e-1767aef50dd0\">\n",
              "      Upload widget is only available when the cell has been executed in the\n",
              "      current browser session. Please rerun this cell to enable.\n",
              "      </output>\n",
              "      <script>// Copyright 2017 Google LLC\n",
              "//\n",
              "// Licensed under the Apache License, Version 2.0 (the \"License\");\n",
              "// you may not use this file except in compliance with the License.\n",
              "// You may obtain a copy of the License at\n",
              "//\n",
              "//      http://www.apache.org/licenses/LICENSE-2.0\n",
              "//\n",
              "// Unless required by applicable law or agreed to in writing, software\n",
              "// distributed under the License is distributed on an \"AS IS\" BASIS,\n",
              "// WITHOUT WARRANTIES OR CONDITIONS OF ANY KIND, either express or implied.\n",
              "// See the License for the specific language governing permissions and\n",
              "// limitations under the License.\n",
              "\n",
              "/**\n",
              " * @fileoverview Helpers for google.colab Python module.\n",
              " */\n",
              "(function(scope) {\n",
              "function span(text, styleAttributes = {}) {\n",
              "  const element = document.createElement('span');\n",
              "  element.textContent = text;\n",
              "  for (const key of Object.keys(styleAttributes)) {\n",
              "    element.style[key] = styleAttributes[key];\n",
              "  }\n",
              "  return element;\n",
              "}\n",
              "\n",
              "// Max number of bytes which will be uploaded at a time.\n",
              "const MAX_PAYLOAD_SIZE = 100 * 1024;\n",
              "\n",
              "function _uploadFiles(inputId, outputId) {\n",
              "  const steps = uploadFilesStep(inputId, outputId);\n",
              "  const outputElement = document.getElementById(outputId);\n",
              "  // Cache steps on the outputElement to make it available for the next call\n",
              "  // to uploadFilesContinue from Python.\n",
              "  outputElement.steps = steps;\n",
              "\n",
              "  return _uploadFilesContinue(outputId);\n",
              "}\n",
              "\n",
              "// This is roughly an async generator (not supported in the browser yet),\n",
              "// where there are multiple asynchronous steps and the Python side is going\n",
              "// to poll for completion of each step.\n",
              "// This uses a Promise to block the python side on completion of each step,\n",
              "// then passes the result of the previous step as the input to the next step.\n",
              "function _uploadFilesContinue(outputId) {\n",
              "  const outputElement = document.getElementById(outputId);\n",
              "  const steps = outputElement.steps;\n",
              "\n",
              "  const next = steps.next(outputElement.lastPromiseValue);\n",
              "  return Promise.resolve(next.value.promise).then((value) => {\n",
              "    // Cache the last promise value to make it available to the next\n",
              "    // step of the generator.\n",
              "    outputElement.lastPromiseValue = value;\n",
              "    return next.value.response;\n",
              "  });\n",
              "}\n",
              "\n",
              "/**\n",
              " * Generator function which is called between each async step of the upload\n",
              " * process.\n",
              " * @param {string} inputId Element ID of the input file picker element.\n",
              " * @param {string} outputId Element ID of the output display.\n",
              " * @return {!Iterable<!Object>} Iterable of next steps.\n",
              " */\n",
              "function* uploadFilesStep(inputId, outputId) {\n",
              "  const inputElement = document.getElementById(inputId);\n",
              "  inputElement.disabled = false;\n",
              "\n",
              "  const outputElement = document.getElementById(outputId);\n",
              "  outputElement.innerHTML = '';\n",
              "\n",
              "  const pickedPromise = new Promise((resolve) => {\n",
              "    inputElement.addEventListener('change', (e) => {\n",
              "      resolve(e.target.files);\n",
              "    });\n",
              "  });\n",
              "\n",
              "  const cancel = document.createElement('button');\n",
              "  inputElement.parentElement.appendChild(cancel);\n",
              "  cancel.textContent = 'Cancel upload';\n",
              "  const cancelPromise = new Promise((resolve) => {\n",
              "    cancel.onclick = () => {\n",
              "      resolve(null);\n",
              "    };\n",
              "  });\n",
              "\n",
              "  // Wait for the user to pick the files.\n",
              "  const files = yield {\n",
              "    promise: Promise.race([pickedPromise, cancelPromise]),\n",
              "    response: {\n",
              "      action: 'starting',\n",
              "    }\n",
              "  };\n",
              "\n",
              "  cancel.remove();\n",
              "\n",
              "  // Disable the input element since further picks are not allowed.\n",
              "  inputElement.disabled = true;\n",
              "\n",
              "  if (!files) {\n",
              "    return {\n",
              "      response: {\n",
              "        action: 'complete',\n",
              "      }\n",
              "    };\n",
              "  }\n",
              "\n",
              "  for (const file of files) {\n",
              "    const li = document.createElement('li');\n",
              "    li.append(span(file.name, {fontWeight: 'bold'}));\n",
              "    li.append(span(\n",
              "        `(${file.type || 'n/a'}) - ${file.size} bytes, ` +\n",
              "        `last modified: ${\n",
              "            file.lastModifiedDate ? file.lastModifiedDate.toLocaleDateString() :\n",
              "                                    'n/a'} - `));\n",
              "    const percent = span('0% done');\n",
              "    li.appendChild(percent);\n",
              "\n",
              "    outputElement.appendChild(li);\n",
              "\n",
              "    const fileDataPromise = new Promise((resolve) => {\n",
              "      const reader = new FileReader();\n",
              "      reader.onload = (e) => {\n",
              "        resolve(e.target.result);\n",
              "      };\n",
              "      reader.readAsArrayBuffer(file);\n",
              "    });\n",
              "    // Wait for the data to be ready.\n",
              "    let fileData = yield {\n",
              "      promise: fileDataPromise,\n",
              "      response: {\n",
              "        action: 'continue',\n",
              "      }\n",
              "    };\n",
              "\n",
              "    // Use a chunked sending to avoid message size limits. See b/62115660.\n",
              "    let position = 0;\n",
              "    do {\n",
              "      const length = Math.min(fileData.byteLength - position, MAX_PAYLOAD_SIZE);\n",
              "      const chunk = new Uint8Array(fileData, position, length);\n",
              "      position += length;\n",
              "\n",
              "      const base64 = btoa(String.fromCharCode.apply(null, chunk));\n",
              "      yield {\n",
              "        response: {\n",
              "          action: 'append',\n",
              "          file: file.name,\n",
              "          data: base64,\n",
              "        },\n",
              "      };\n",
              "\n",
              "      let percentDone = fileData.byteLength === 0 ?\n",
              "          100 :\n",
              "          Math.round((position / fileData.byteLength) * 100);\n",
              "      percent.textContent = `${percentDone}% done`;\n",
              "\n",
              "    } while (position < fileData.byteLength);\n",
              "  }\n",
              "\n",
              "  // All done.\n",
              "  yield {\n",
              "    response: {\n",
              "      action: 'complete',\n",
              "    }\n",
              "  };\n",
              "}\n",
              "\n",
              "scope.google = scope.google || {};\n",
              "scope.google.colab = scope.google.colab || {};\n",
              "scope.google.colab._files = {\n",
              "  _uploadFiles,\n",
              "  _uploadFilesContinue,\n",
              "};\n",
              "})(self);\n",
              "</script> "
            ]
          },
          "metadata": {}
        },
        {
          "output_type": "stream",
          "name": "stdout",
          "text": [
            "Saving pacific-castle-360400-a3ca89f64de6.json to pacific-castle-360400-a3ca89f64de6 (1).json\n"
          ]
        }
      ]
    },
    {
      "cell_type": "code",
      "source": [
        "bucket, bucket_name = config_GCloud()"
      ],
      "metadata": {
        "id": "WPYSOhndDM0E",
        "colab": {
          "base_uri": "https://localhost:8080/"
        },
        "outputId": "d3dffaac-350a-4aeb-b7c7-8af4a4cc062f"
      },
      "execution_count": 38,
      "outputs": [
        {
          "output_type": "stream",
          "name": "stdout",
          "text": [
            "<Bucket: 266csffile>\n",
            "<Bucket: w266liwc>\n",
            "dev_is_I_data.parquet\n",
            "dev_is_I_labels.parquet\n",
            "dev_is_J_data.parquet\n",
            "dev_is_J_labels.parquet\n",
            "dev_is_S_data.parquet\n",
            "dev_is_S_labels.parquet\n",
            "dev_is_T_data.parquet\n",
            "dev_is_T_labels.parquet\n",
            "dev_mbti_data.parquet\n",
            "dev_mbti_labels.parquet\n",
            "mrc2.dct.textClipping\n",
            "old_files/\n",
            "old_files/dev_mbti_data.csv\n",
            "old_files/dev_mbti_data.parquet\n",
            "old_files/dev_mbti_labels.csv\n",
            "old_files/test_mbti_data.csv\n",
            "old_files/test_mbti_data.parquet\n",
            "old_files/test_mbti_labels.csv\n",
            "old_files/train_gen_pop_mbti_data.csv\n",
            "old_files/train_gen_pop_mbti_data.parquet\n",
            "old_files/train_gen_pop_mbti_labels.csv\n",
            "old_files/train_mbti_data.csv\n",
            "old_files/train_mbti_data.parquet\n",
            "old_files/train_mbti_labels.csv\n",
            "old_files/train_over_sampled_mbti_data.csv\n",
            "old_files/train_over_sampled_mbti_data.parquet\n",
            "old_files/train_over_sampled_mbti_labels.csv\n",
            "old_files/train_under_sampled_mbti_data.csv\n",
            "old_files/train_under_sampled_mbti_data.parquet\n",
            "old_files/train_under_sampled_mbti_labels.csv\n",
            "t5_dev_uniform.parquet\n",
            "t5_test_uniform.parquet\n",
            "t5_train_uniform.parquet\n",
            "test_is_I_data.parquet\n",
            "test_is_I_labels.parquet\n",
            "test_is_J_data.parquet\n",
            "test_is_J_labels.parquet\n",
            "test_is_S_data.parquet\n",
            "test_is_S_labels.parquet\n",
            "test_is_T_data.parquet\n",
            "test_is_T_labels.parquet\n",
            "test_mbti_data.parquet\n",
            "test_mbti_labels.parquet\n",
            "train_gen_pop_is_I_data.parquet\n",
            "train_gen_pop_is_I_labels.parquet\n",
            "train_gen_pop_is_J_data.parquet\n",
            "train_gen_pop_is_J_labels.parquet\n",
            "train_gen_pop_is_S_data.parquet\n",
            "train_gen_pop_is_S_labels.parquet\n",
            "train_gen_pop_is_T_data.parquet\n",
            "train_gen_pop_is_T_labels.parquet\n",
            "train_gen_pop_mbti_data.parquet\n",
            "train_gen_pop_mbti_labels.parquet\n",
            "train_is_I_data.parquet\n",
            "train_is_I_labels.parquet\n",
            "train_is_J_data.parquet\n",
            "train_is_J_labels.parquet\n",
            "train_is_S_data.parquet\n",
            "train_is_S_labels.parquet\n",
            "train_is_T_data.parquet\n",
            "train_is_T_labels.parquet\n",
            "train_mbti_data.parquet\n",
            "train_mbti_labels.parquet\n",
            "train_uniform_is_I_data.parquet\n",
            "train_uniform_is_I_labels.parquet\n",
            "train_uniform_is_J_data.parquet\n",
            "train_uniform_is_J_labels.parquet\n",
            "train_uniform_is_S_data.parquet\n",
            "train_uniform_is_S_labels.parquet\n",
            "train_uniform_is_T_data.parquet\n",
            "train_uniform_is_T_labels.parquet\n",
            "train_uniform_mbti_data.parquet\n",
            "train_uniform_mbti_labels.parquet\n",
            "typology_merged.parquet\n",
            "typology_users_clean.csv\n",
            "typology_xenforo-9-25-22-posts.csv\n",
            "typology_xenforo-9-25-22-posts.parquet\n",
            "typology_xenforo-9-25-22.csv\n",
            "typology_xenforo-9-25-22_clean.parquet\n"
          ]
        }
      ]
    },
    {
      "cell_type": "code",
      "execution_count": 39,
      "metadata": {
        "colab": {
          "base_uri": "https://localhost:8080/"
        },
        "id": "M0HEh8D3-Ooe",
        "outputId": "d8be9eb5-5d35-4ae2-dfa5-34f8c9d4f9b5"
      },
      "outputs": [
        {
          "output_type": "stream",
          "name": "stdout",
          "text": [
            "Drive already mounted at /content/drive; to attempt to forcibly remount, call drive.mount(\"/content/drive\", force_remount=True).\n",
            "total 20\n",
            "drwx------ 2 root root 4096 Jan 24  2022 'Colab Notebooks'\n",
            "drwx------ 2 root root 4096 Oct 21 00:00  content\n",
            "drwx------ 2 root root 4096 Oct 21 17:29  ULondon\n",
            "drwx------ 2 root root 4096 Oct 21 17:31  MIDS\n",
            "drwx------ 3 root root 4096 Nov 22 16:09  W266\n",
            "total 1344494\n",
            "-rw------- 1 root root 445902488 Nov 22 22:37 bert_multibinary_1122_noemote.hdf5\n",
            "-rw------- 1 root root 445902488 Nov 28 19:50 bert_multibinary_1120.hdf5\n",
            "-rw------- 1 root root 242086395 Dec  2 03:22 t5-classification.pt\n",
            "-rw------- 1 root root      1473 Dec  2 03:22 config.json\n",
            "-rw------- 1 root root 242070267 Dec  2 03:22 pytorch_model.bin\n",
            "-rw------- 1 root root      2374 Dec  2 03:22 tokenizer_config.json\n",
            "-rw------- 1 root root    791656 Dec  2 03:22 spiece.model\n",
            "-rw------- 1 root root      2201 Dec  2 03:22 special_tokens_map.json\n"
          ]
        }
      ],
      "source": [
        "# setup google drive access for checkpoint file\n",
        "\n",
        "from google.colab import drive\n",
        "drive.mount('/content/drive')\n",
        "\n",
        "!ls -lrt \"/content/drive/My Drive\"\n",
        "!ls -lrt \"/content/drive/My Drive/W266/MBTI/model_checkpoints\""
      ]
    },
    {
      "cell_type": "code",
      "source": [
        "t5_model_name='t5-small'"
      ],
      "metadata": {
        "id": "tnJZFtwBTRjb"
      },
      "execution_count": 40,
      "outputs": []
    },
    {
      "cell_type": "code",
      "source": [
        "t5_tokenizer = T5Tokenizer.from_pretrained(t5_model_name )"
      ],
      "metadata": {
        "id": "PaNxFkaTTWbp"
      },
      "execution_count": 41,
      "outputs": []
    },
    {
      "cell_type": "code",
      "source": [
        "print(t5_tokenizer.eos_token_id)\n",
        "print(t5_tokenizer.bos_token_id)\n",
        "print(t5_tokenizer.unk_token_id)\n",
        "print(t5_tokenizer.pad_token_id)"
      ],
      "metadata": {
        "colab": {
          "base_uri": "https://localhost:8080/"
        },
        "id": "tHulkX6RTid7",
        "outputId": "177ec60c-e6a9-4db2-ace5-57b61d9ba066"
      },
      "execution_count": 42,
      "outputs": [
        {
          "output_type": "stream",
          "name": "stdout",
          "text": [
            "1\n",
            "None\n",
            "2\n",
            "0\n"
          ]
        }
      ]
    },
    {
      "cell_type": "markdown",
      "metadata": {
        "id": "Env_Nqyh07cj"
      },
      "source": [
        "# Data Prep"
      ]
    },
    {
      "cell_type": "code",
      "execution_count": 43,
      "metadata": {
        "id": "4sK8hG76V7Kg"
      },
      "outputs": [],
      "source": [
        "max_length = 512\n",
        "batch_size = 16"
      ]
    },
    {
      "cell_type": "code",
      "source": [
        "def read_parquet_google_cloud(file):\n",
        "    '''This function reads a file from the google cloud storage bucket. Input\n",
        "    parameters include the filename, encoding and CSV file separators.'''\n",
        "\n",
        "    #Load Google Cloud storage client using service key\n",
        "\n",
        "    blob = bucket.blob(file)\n",
        "    read_back = bucket.blob(file)\n",
        "    string_read_back = read_back.download_as_string()\n",
        "    new_df = pd.read_parquet(io.BytesIO(string_read_back))\n",
        "\n",
        "    return new_df"
      ],
      "metadata": {
        "id": "ZQy-SXwyDzOH"
      },
      "execution_count": 44,
      "outputs": []
    },
    {
      "cell_type": "code",
      "source": [
        "def write_parquet_google_cloud( df, filename):\n",
        "\n",
        "    bucket, bucket_name = config_GCloud()\n",
        "\n",
        "    blob = bucket.blob( filename )\n",
        "    blob.upload_from_string(df.to_parquet(), 'application/octet-stream')\n"
      ],
      "metadata": {
        "id": "-VeENPgByO0E"
      },
      "execution_count": 45,
      "outputs": []
    },
    {
      "cell_type": "code",
      "source": [
        "\n",
        "\n",
        "# for T5\n",
        "separator_token = \" </s>\"\n",
        "prefix_text = 'multilabel classification: '\n",
        "\n",
        "# for Bert\n",
        "# separator_token = \" [SEP] \"\n",
        "# prefix_text = ''\n",
        "\n",
        "\n",
        "class Features(Enum):\n",
        "    all_features = 1\n",
        "    no_username = 2\n",
        "    no_emotions = 3\n",
        "    no_lexicon = 4\n",
        "    no_postags = 5\n",
        "\n",
        "def combine_no_username(df):\n",
        "    df['lexicon'] = df['message'].apply(lambda x: ', '.join(f'{key} {str(value)}' for key, value in lexicon.analyze(x).items() if value > 0))\n",
        "    df['emotions'] = df['message'].apply(lambda x: ', '.join(f'{key} {str(value)}' for key, value in NRCLex(x).raw_emotion_scores.items() if value > 0))\n",
        "    df['postags'] =  df['message'].apply(lambda x: ', '.join(f'{key.lower()} {str(value)}' for key, value in Counter((token.pos_ for token in nlp(x))).items()))\n",
        " \n",
        "    df['combined'] = prefix_text + df['Age'].astype(str)+ separator_token + df['Posts'].astype(str)+ separator_token +df['Occupation'].astype(str)+ separator_token +\"lexical categories: \"+df['lexicon'].astype(str)+  separator_token +\"emotion scores: \"+df['emotions'].astype(str)+ separator_token + \"pos tags: \"+df['postags'].astype(str)+ separator_token+ df['message'].astype(str)+ separator_token\n",
        "    return df\n",
        "\n",
        "def combine_no_emotion(df):\n",
        "    df['lexicon'] = df['message'].apply(lambda x: ', '.join(f'{key} {str(value)}' for key, value in lexicon.analyze(x).items() if value > 0))\n",
        "    df['postags'] =  df['message'].apply(lambda x: ', '.join(f'{key.lower()} {str(value)}' for key, value in Counter((token.pos_ for token in nlp(x))).items()))\n",
        " \n",
        "    df['combined'] = prefix_text +  df['Username'].astype(str)+ separator_token + df['Age'].astype(str)+ separator_token +df['Posts'].astype(str)+ separator_token +df['Occupation'].astype(str)+ separator_token +\"lexical categories: \"+df['lexicon'].astype(str)+  separator_token + \"pos tags: \"+df['postags'].astype(str)+  separator_token + df['message'].astype(str)+ separator_token\n",
        "    return df\n",
        "\n",
        "def combine_no_lexical(df):\n",
        "    df['emotions'] = df['message'].apply(lambda x: ', '.join(f'{key} {str(value)}' for key, value in NRCLex(x).raw_emotion_scores.items() if value > 0))\n",
        "    df['postags'] =  df['message'].apply(lambda x: ', '.join(f'{key.lower()} {str(value)}' for key, value in Counter((token.pos_ for token in nlp(x))).items()))\n",
        " \n",
        "    df['combined'] = prefix_text +  df['Username'].astype(str)+ separator_token + df['Age'].astype(str)+ separator_token +df['Posts'].astype(str)+ separator_token +df['Occupation'].astype(str)+ separator_token +\"emotion scores: \"+df['emotions'].astype(str)+ separator_token + \"pos tags: \"+df['postags'].astype(str)+ separator_token + df['message'].astype(str)+ separator_token\n",
        "    return df\n",
        "\n",
        "def combine_no_pos(df):\n",
        "    df['lexicon'] = df['message'].apply(lambda x: ', '.join(f'{key} {str(value)}' for key, value in lexicon.analyze(x).items() if value > 0))\n",
        "    df['emotions'] = df['message'].apply(lambda x: ', '.join(f'{key} {str(value)}' for key, value in NRCLex(x).raw_emotion_scores.items() if value > 0))\n",
        " \n",
        "    df['combined'] = prefix_text +  df['Username'].astype(str)+ separator_token + df['Age'].astype(str)+ separator_token +df['Posts'].astype(str)+ separator_token +df['Occupation'].astype(str)+ separator_token +\"lexical categories: \"+df['lexicon'].astype(str)+ separator_token +\"emotion scores: \"+df['emotions'].astype(str)+ separator_token+ df['message'].astype(str)+ separator_token\n",
        "    return df\n",
        "\n",
        "def combine_all(df):\n",
        "    df['lexicon'] = df['message'].apply(lambda x: ', '.join(f'{key} {str(value)}' for key, value in lexicon.analyze(x).items() if value > 0))\n",
        "    df['emotions'] = df['message'].apply(lambda x: ', '.join(f'{key} {str(value)}' for key, value in NRCLex(x).raw_emotion_scores.items() if value > 0))\n",
        "    df['postags'] =  df['message'].apply(lambda x: ', '.join(f'{key.lower()} {str(value)}' for key, value in Counter((token.pos_ for token in nlp(x))).items()))\n",
        " \n",
        "    df['combined'] = prefix_text +  df['Username'].astype(str)+ separator_token + df['Age'].astype(str)+ separator_token +df['Posts'].astype(str)+ separator_token +df['Occupation'].astype(str)+ separator_token +\"lexical categories: \"+df['lexicon'].astype(str)+  separator_token +\"emotion scores: \"+df['emotions'].astype(str)+ separator_token + \"pos tags: \"+df['postags'].astype(str)+ separator_token + df['message'].astype(str)+ separator_token\n",
        "    return df\n",
        "\n",
        "\n",
        "\n",
        "def add_features( df, features_to_include ):\n",
        "\n",
        "    if features_to_include is Features.all_features:\n",
        "        return combine_all(df)\n",
        "\n",
        "    elif features_to_include is Features.no_username:\n",
        "        return combine_no_username(df)\n",
        "\n",
        "    elif features_to_include is Features.no_emotions:\n",
        "        return combine_no_emotion(df)\n",
        "\n",
        "    elif features_to_include is Features.no_lexicon:\n",
        "        return combine_no_lexical(df)\n",
        "\n",
        "    else: # features_to_include is Features.no_postags:\n",
        "        return combine_no_pos(df)\n",
        "\n",
        "\n",
        " \n",
        "\n",
        "    "
      ],
      "metadata": {
        "id": "prpEvKx3D6CF"
      },
      "execution_count": 46,
      "outputs": []
    },
    {
      "cell_type": "code",
      "execution_count": null,
      "metadata": {
        "id": "fva4rdJfGmF-"
      },
      "outputs": [],
      "source": [
        "train_mbti_data = read_parquet_google_cloud('train_uniform_mbti_data.parquet')\n",
        "train_mbti_labels = read_parquet_google_cloud('train_uniform_mbti_labels.parquet')\n",
        "\n",
        "#remove gender from the train data set ( rather than dealing with de-biasing )\n",
        "train_mbti_data = train_mbti_data[['Username','Age','Posts','Occupation','message','is_I','is_S','is_T','is_J']]\n",
        "\n",
        "dev_mbti_data = read_parquet_google_cloud('dev_mbti_data.parquet')\n",
        "dev_mbti_labels = read_parquet_google_cloud('dev_mbti_labels.parquet')\n",
        "\n",
        "#remove gender from the dev data set ( rather than dealing with de-biasing )\n",
        "dev_mbti_data = dev_mbti_data[['Username','Age','Posts','Occupation','message','is_I','is_S','is_T','is_J']]\n",
        "\n",
        "test_mbti_data = read_parquet_google_cloud('test_mbti_data.parquet')\n",
        "test_mbti_labels = read_parquet_google_cloud('test_mbti_labels.parquet')\n",
        "\n",
        "#remove gender from the dev data set ( rather than dealing with de-biasing )\n",
        "test_mbti_data = test_mbti_data[['Username','Age','Posts','Occupation','message','is_I','is_S','is_T','is_J']]"
      ]
    },
    {
      "cell_type": "code",
      "execution_count": 47,
      "metadata": {
        "id": "Bd4LRdqFrb0d"
      },
      "outputs": [],
      "source": [
        "# define sample sizes for each run\n",
        "\n",
        "# start with small dimensions to try out the model\n",
        "n_train_samples = 120000\n",
        "n_test_samples = 93106\n",
        "n_dev_samples = 20000"
      ]
    },
    {
      "cell_type": "code",
      "source": [
        "# add features, but only to the number of samples dictated by the sample size defined above.\n",
        "\n",
        "train_mbti_short_df = train_mbti_data[ 0 : n_train_samples ]\n",
        "test_mbti_short_df = test_mbti_data[ 0 : n_test_samples ]\n",
        "dev_mbti_short_df = dev_mbti_data[ 0: n_dev_samples ]\n",
        "\n",
        "train_mbti_short_labels_df = train_mbti_labels[0: n_train_samples]\n",
        "test_mbti_short_labels_df = test_mbti_labels[0: n_test_samples]\n",
        "dev_mbti_short_labels_df = dev_mbti_labels[0: n_dev_samples]\n",
        "\n",
        "\n",
        "train_df = add_features(train_mbti_short_df, Features.no_lexicon)\n",
        "test_df = add_features(test_mbti_short_df, Features.no_lexicon)\n",
        "dev_df = add_features( dev_mbti_short_df, Features.no_lexicon)\n"
      ],
      "metadata": {
        "colab": {
          "base_uri": "https://localhost:8080/"
        },
        "id": "07c2wmw3USWm",
        "outputId": "15e8e2aa-8f3e-45cc-e116-824c980dd4e7"
      },
      "execution_count": null,
      "outputs": [
        {
          "output_type": "stream",
          "name": "stderr",
          "text": [
            "<ipython-input-19-465bc000b9c4>:33: SettingWithCopyWarning: \n",
            "A value is trying to be set on a copy of a slice from a DataFrame.\n",
            "Try using .loc[row_indexer,col_indexer] = value instead\n",
            "\n",
            "See the caveats in the documentation: https://pandas.pydata.org/pandas-docs/stable/user_guide/indexing.html#returning-a-view-versus-a-copy\n",
            "  df['emotions'] = df['message'].apply(lambda x: ', '.join(f'{key} {str(value)}' for key, value in NRCLex(x).raw_emotion_scores.items() if value > 0))\n",
            "<ipython-input-19-465bc000b9c4>:34: SettingWithCopyWarning: \n",
            "A value is trying to be set on a copy of a slice from a DataFrame.\n",
            "Try using .loc[row_indexer,col_indexer] = value instead\n",
            "\n",
            "See the caveats in the documentation: https://pandas.pydata.org/pandas-docs/stable/user_guide/indexing.html#returning-a-view-versus-a-copy\n",
            "  df['postags'] =  df['message'].apply(lambda x: ', '.join(f'{key.lower()} {str(value)}' for key, value in Counter((token.pos_ for token in nlp(x))).items()))\n",
            "<ipython-input-19-465bc000b9c4>:36: SettingWithCopyWarning: \n",
            "A value is trying to be set on a copy of a slice from a DataFrame.\n",
            "Try using .loc[row_indexer,col_indexer] = value instead\n",
            "\n",
            "See the caveats in the documentation: https://pandas.pydata.org/pandas-docs/stable/user_guide/indexing.html#returning-a-view-versus-a-copy\n",
            "  df['combined'] = prefix_text +  df['Username'].astype(str)+ separator_token + df['Age'].astype(str)+ separator_token +df['Posts'].astype(str)+ separator_token +df['Occupation'].astype(str)+ separator_token +\"emotion scores: \"+df['emotions'].astype(str)+ separator_token + \"pos tags: \"+df['postags'].astype(str)+ separator_token + df['message'].astype(str)+ separator_token\n"
          ]
        }
      ]
    },
    {
      "cell_type": "code",
      "source": [
        "train_df.head()"
      ],
      "metadata": {
        "colab": {
          "base_uri": "https://localhost:8080/",
          "height": 337
        },
        "id": "skwJUoGdFlwg",
        "outputId": "d85c692f-307a-4670-8bf5-ce1bf39d7cbf"
      },
      "execution_count": null,
      "outputs": [
        {
          "output_type": "execute_result",
          "data": {
            "text/plain": [
              "       Username   Age  Posts    Occupation  \\\n",
              "0    oneandonly  37.0    109          None   \n",
              "1      thalassa  45.0  25183   tree people   \n",
              "2        lady_x  46.0  18233  photographer   \n",
              "3         eagle  31.0    733       student   \n",
              "4  ayoitsstepho  31.0   4838       painter   \n",
              "\n",
              "                                             message   is_I   is_S   is_T  \\\n",
              "0    i do not think i am at all. but the question...   True  False  False   \n",
              "1    YYY0 of the longest threads on this site con...   True   True  False   \n",
              "2  XXXX seems right..i would guess t/f were balan...  False  False  False   \n",
              "3    i noticed. it is hard to care over such a gr...   True   True   True   \n",
              "4                                              :hug:   True   True  False   \n",
              "\n",
              "    is_J                                           emotions  \\\n",
              "0   True             negative 2, positive 2, anticipation 1   \n",
              "1  False  negative 2, anger 1, anticipation 1, joy 1, po...   \n",
              "2  False             surprise 1, positive 3, joy 1, trust 1   \n",
              "3   True  fear 2, negative 2, trust 3, positive 2, joy 1...   \n",
              "4  False                         joy 1, positive 1, trust 1   \n",
              "\n",
              "                                             postags  \\\n",
              "0  space 1, pron 18, aux 17, part 8, verb 19, adv...   \n",
              "1  space 2, propn 2, adp 7, det 3, adj 7, noun 6,...   \n",
              "2  noun 6, verb 5, adj 3, punct 6, pron 5, aux 3,...   \n",
              "3  space 1, pron 9, verb 7, punct 8, aux 6, adj 7...   \n",
              "4                                    punct 2, noun 1   \n",
              "\n",
              "                                            combined  \n",
              "0  multilabel classification: oneandonly </s>37.0...  \n",
              "1  multilabel classification: thalassa </s>45.0 <...  \n",
              "2  multilabel classification: lady_x </s>46.0 </s...  \n",
              "3  multilabel classification: eagle </s>31.0 </s>...  \n",
              "4  multilabel classification: ayoitsstepho </s>31...  "
            ],
            "text/html": [
              "\n",
              "  <div id=\"df-d110adab-9208-4195-985b-da20d1f9a63e\">\n",
              "    <div class=\"colab-df-container\">\n",
              "      <div>\n",
              "<style scoped>\n",
              "    .dataframe tbody tr th:only-of-type {\n",
              "        vertical-align: middle;\n",
              "    }\n",
              "\n",
              "    .dataframe tbody tr th {\n",
              "        vertical-align: top;\n",
              "    }\n",
              "\n",
              "    .dataframe thead th {\n",
              "        text-align: right;\n",
              "    }\n",
              "</style>\n",
              "<table border=\"1\" class=\"dataframe\">\n",
              "  <thead>\n",
              "    <tr style=\"text-align: right;\">\n",
              "      <th></th>\n",
              "      <th>Username</th>\n",
              "      <th>Age</th>\n",
              "      <th>Posts</th>\n",
              "      <th>Occupation</th>\n",
              "      <th>message</th>\n",
              "      <th>is_I</th>\n",
              "      <th>is_S</th>\n",
              "      <th>is_T</th>\n",
              "      <th>is_J</th>\n",
              "      <th>emotions</th>\n",
              "      <th>postags</th>\n",
              "      <th>combined</th>\n",
              "    </tr>\n",
              "  </thead>\n",
              "  <tbody>\n",
              "    <tr>\n",
              "      <th>0</th>\n",
              "      <td>oneandonly</td>\n",
              "      <td>37.0</td>\n",
              "      <td>109</td>\n",
              "      <td>None</td>\n",
              "      <td>i do not think i am at all. but the question...</td>\n",
              "      <td>True</td>\n",
              "      <td>False</td>\n",
              "      <td>False</td>\n",
              "      <td>True</td>\n",
              "      <td>negative 2, positive 2, anticipation 1</td>\n",
              "      <td>space 1, pron 18, aux 17, part 8, verb 19, adv...</td>\n",
              "      <td>multilabel classification: oneandonly &lt;/s&gt;37.0...</td>\n",
              "    </tr>\n",
              "    <tr>\n",
              "      <th>1</th>\n",
              "      <td>thalassa</td>\n",
              "      <td>45.0</td>\n",
              "      <td>25183</td>\n",
              "      <td>tree people</td>\n",
              "      <td>YYY0 of the longest threads on this site con...</td>\n",
              "      <td>True</td>\n",
              "      <td>True</td>\n",
              "      <td>False</td>\n",
              "      <td>False</td>\n",
              "      <td>negative 2, anger 1, anticipation 1, joy 1, po...</td>\n",
              "      <td>space 2, propn 2, adp 7, det 3, adj 7, noun 6,...</td>\n",
              "      <td>multilabel classification: thalassa &lt;/s&gt;45.0 &lt;...</td>\n",
              "    </tr>\n",
              "    <tr>\n",
              "      <th>2</th>\n",
              "      <td>lady_x</td>\n",
              "      <td>46.0</td>\n",
              "      <td>18233</td>\n",
              "      <td>photographer</td>\n",
              "      <td>XXXX seems right..i would guess t/f were balan...</td>\n",
              "      <td>False</td>\n",
              "      <td>False</td>\n",
              "      <td>False</td>\n",
              "      <td>False</td>\n",
              "      <td>surprise 1, positive 3, joy 1, trust 1</td>\n",
              "      <td>noun 6, verb 5, adj 3, punct 6, pron 5, aux 3,...</td>\n",
              "      <td>multilabel classification: lady_x &lt;/s&gt;46.0 &lt;/s...</td>\n",
              "    </tr>\n",
              "    <tr>\n",
              "      <th>3</th>\n",
              "      <td>eagle</td>\n",
              "      <td>31.0</td>\n",
              "      <td>733</td>\n",
              "      <td>student</td>\n",
              "      <td>i noticed. it is hard to care over such a gr...</td>\n",
              "      <td>True</td>\n",
              "      <td>True</td>\n",
              "      <td>True</td>\n",
              "      <td>True</td>\n",
              "      <td>fear 2, negative 2, trust 3, positive 2, joy 1...</td>\n",
              "      <td>space 1, pron 9, verb 7, punct 8, aux 6, adj 7...</td>\n",
              "      <td>multilabel classification: eagle &lt;/s&gt;31.0 &lt;/s&gt;...</td>\n",
              "    </tr>\n",
              "    <tr>\n",
              "      <th>4</th>\n",
              "      <td>ayoitsstepho</td>\n",
              "      <td>31.0</td>\n",
              "      <td>4838</td>\n",
              "      <td>painter</td>\n",
              "      <td>:hug:</td>\n",
              "      <td>True</td>\n",
              "      <td>True</td>\n",
              "      <td>False</td>\n",
              "      <td>False</td>\n",
              "      <td>joy 1, positive 1, trust 1</td>\n",
              "      <td>punct 2, noun 1</td>\n",
              "      <td>multilabel classification: ayoitsstepho &lt;/s&gt;31...</td>\n",
              "    </tr>\n",
              "  </tbody>\n",
              "</table>\n",
              "</div>\n",
              "      <button class=\"colab-df-convert\" onclick=\"convertToInteractive('df-d110adab-9208-4195-985b-da20d1f9a63e')\"\n",
              "              title=\"Convert this dataframe to an interactive table.\"\n",
              "              style=\"display:none;\">\n",
              "        \n",
              "  <svg xmlns=\"http://www.w3.org/2000/svg\" height=\"24px\"viewBox=\"0 0 24 24\"\n",
              "       width=\"24px\">\n",
              "    <path d=\"M0 0h24v24H0V0z\" fill=\"none\"/>\n",
              "    <path d=\"M18.56 5.44l.94 2.06.94-2.06 2.06-.94-2.06-.94-.94-2.06-.94 2.06-2.06.94zm-11 1L8.5 8.5l.94-2.06 2.06-.94-2.06-.94L8.5 2.5l-.94 2.06-2.06.94zm10 10l.94 2.06.94-2.06 2.06-.94-2.06-.94-.94-2.06-.94 2.06-2.06.94z\"/><path d=\"M17.41 7.96l-1.37-1.37c-.4-.4-.92-.59-1.43-.59-.52 0-1.04.2-1.43.59L10.3 9.45l-7.72 7.72c-.78.78-.78 2.05 0 2.83L4 21.41c.39.39.9.59 1.41.59.51 0 1.02-.2 1.41-.59l7.78-7.78 2.81-2.81c.8-.78.8-2.07 0-2.86zM5.41 20L4 18.59l7.72-7.72 1.47 1.35L5.41 20z\"/>\n",
              "  </svg>\n",
              "      </button>\n",
              "      \n",
              "  <style>\n",
              "    .colab-df-container {\n",
              "      display:flex;\n",
              "      flex-wrap:wrap;\n",
              "      gap: 12px;\n",
              "    }\n",
              "\n",
              "    .colab-df-convert {\n",
              "      background-color: #E8F0FE;\n",
              "      border: none;\n",
              "      border-radius: 50%;\n",
              "      cursor: pointer;\n",
              "      display: none;\n",
              "      fill: #1967D2;\n",
              "      height: 32px;\n",
              "      padding: 0 0 0 0;\n",
              "      width: 32px;\n",
              "    }\n",
              "\n",
              "    .colab-df-convert:hover {\n",
              "      background-color: #E2EBFA;\n",
              "      box-shadow: 0px 1px 2px rgba(60, 64, 67, 0.3), 0px 1px 3px 1px rgba(60, 64, 67, 0.15);\n",
              "      fill: #174EA6;\n",
              "    }\n",
              "\n",
              "    [theme=dark] .colab-df-convert {\n",
              "      background-color: #3B4455;\n",
              "      fill: #D2E3FC;\n",
              "    }\n",
              "\n",
              "    [theme=dark] .colab-df-convert:hover {\n",
              "      background-color: #434B5C;\n",
              "      box-shadow: 0px 1px 3px 1px rgba(0, 0, 0, 0.15);\n",
              "      filter: drop-shadow(0px 1px 2px rgba(0, 0, 0, 0.3));\n",
              "      fill: #FFFFFF;\n",
              "    }\n",
              "  </style>\n",
              "\n",
              "      <script>\n",
              "        const buttonEl =\n",
              "          document.querySelector('#df-d110adab-9208-4195-985b-da20d1f9a63e button.colab-df-convert');\n",
              "        buttonEl.style.display =\n",
              "          google.colab.kernel.accessAllowed ? 'block' : 'none';\n",
              "\n",
              "        async function convertToInteractive(key) {\n",
              "          const element = document.querySelector('#df-d110adab-9208-4195-985b-da20d1f9a63e');\n",
              "          const dataTable =\n",
              "            await google.colab.kernel.invokeFunction('convertToInteractive',\n",
              "                                                     [key], {});\n",
              "          if (!dataTable) return;\n",
              "\n",
              "          const docLinkHtml = 'Like what you see? Visit the ' +\n",
              "            '<a target=\"_blank\" href=https://colab.research.google.com/notebooks/data_table.ipynb>data table notebook</a>'\n",
              "            + ' to learn more about interactive tables.';\n",
              "          element.innerHTML = '';\n",
              "          dataTable['output_type'] = 'display_data';\n",
              "          await google.colab.output.renderOutput(dataTable, element);\n",
              "          const docLink = document.createElement('div');\n",
              "          docLink.innerHTML = docLinkHtml;\n",
              "          element.appendChild(docLink);\n",
              "        }\n",
              "      </script>\n",
              "    </div>\n",
              "  </div>\n",
              "  "
            ]
          },
          "metadata": {},
          "execution_count": 26
        }
      ]
    },
    {
      "cell_type": "code",
      "source": [
        "# write these out to files\n",
        "\n",
        "write_parquet_google_cloud( train_df, 't5_train_uniform.parquet')\n",
        "write_parquet_google_cloud( test_df, 't5_test_uniform.parquet')\n",
        "write_parquet_google_cloud( dev_df, 't5_dev_uniform.parquet')"
      ],
      "metadata": {
        "id": "29oYz1DVxygG",
        "outputId": "4cfe720b-fbd0-4d05-ddd6-69158f13128e",
        "colab": {
          "base_uri": "https://localhost:8080/"
        }
      },
      "execution_count": null,
      "outputs": [
        {
          "output_type": "stream",
          "name": "stdout",
          "text": [
            "<Bucket: 266csffile>\n",
            "<Bucket: w266liwc>\n",
            "dev_is_I_data.parquet\n",
            "dev_is_I_labels.parquet\n",
            "dev_is_J_data.parquet\n",
            "dev_is_J_labels.parquet\n",
            "dev_is_S_data.parquet\n",
            "dev_is_S_labels.parquet\n",
            "dev_is_T_data.parquet\n",
            "dev_is_T_labels.parquet\n",
            "dev_mbti_data.parquet\n",
            "dev_mbti_labels.parquet\n",
            "mrc2.dct.textClipping\n",
            "old_files/\n",
            "old_files/dev_mbti_data.csv\n",
            "old_files/dev_mbti_data.parquet\n",
            "old_files/dev_mbti_labels.csv\n",
            "old_files/test_mbti_data.csv\n",
            "old_files/test_mbti_data.parquet\n",
            "old_files/test_mbti_labels.csv\n",
            "old_files/train_gen_pop_mbti_data.csv\n",
            "old_files/train_gen_pop_mbti_data.parquet\n",
            "old_files/train_gen_pop_mbti_labels.csv\n",
            "old_files/train_mbti_data.csv\n",
            "old_files/train_mbti_data.parquet\n",
            "old_files/train_mbti_labels.csv\n",
            "old_files/train_over_sampled_mbti_data.csv\n",
            "old_files/train_over_sampled_mbti_data.parquet\n",
            "old_files/train_over_sampled_mbti_labels.csv\n",
            "old_files/train_under_sampled_mbti_data.csv\n",
            "old_files/train_under_sampled_mbti_data.parquet\n",
            "old_files/train_under_sampled_mbti_labels.csv\n",
            "t5_dev_uniform.parquet\n",
            "t5_test_uniform.parquet\n",
            "t5_train_uniform.parquet\n",
            "test_is_I_data.parquet\n",
            "test_is_I_labels.parquet\n",
            "test_is_J_data.parquet\n",
            "test_is_J_labels.parquet\n",
            "test_is_S_data.parquet\n",
            "test_is_S_labels.parquet\n",
            "test_is_T_data.parquet\n",
            "test_is_T_labels.parquet\n",
            "test_mbti_data.parquet\n",
            "test_mbti_labels.parquet\n",
            "train_gen_pop_is_I_data.parquet\n",
            "train_gen_pop_is_I_labels.parquet\n",
            "train_gen_pop_is_J_data.parquet\n",
            "train_gen_pop_is_J_labels.parquet\n",
            "train_gen_pop_is_S_data.parquet\n",
            "train_gen_pop_is_S_labels.parquet\n",
            "train_gen_pop_is_T_data.parquet\n",
            "train_gen_pop_is_T_labels.parquet\n",
            "train_gen_pop_mbti_data.parquet\n",
            "train_gen_pop_mbti_labels.parquet\n",
            "train_is_I_data.parquet\n",
            "train_is_I_labels.parquet\n",
            "train_is_J_data.parquet\n",
            "train_is_J_labels.parquet\n",
            "train_is_S_data.parquet\n",
            "train_is_S_labels.parquet\n",
            "train_is_T_data.parquet\n",
            "train_is_T_labels.parquet\n",
            "train_mbti_data.parquet\n",
            "train_mbti_labels.parquet\n",
            "train_uniform_is_I_data.parquet\n",
            "train_uniform_is_I_labels.parquet\n",
            "train_uniform_is_J_data.parquet\n",
            "train_uniform_is_J_labels.parquet\n",
            "train_uniform_is_S_data.parquet\n",
            "train_uniform_is_S_labels.parquet\n",
            "train_uniform_is_T_data.parquet\n",
            "train_uniform_is_T_labels.parquet\n",
            "train_uniform_mbti_data.parquet\n",
            "train_uniform_mbti_labels.parquet\n",
            "typology_merged.parquet\n",
            "typology_users_clean.csv\n",
            "typology_xenforo-9-25-22-posts.csv\n",
            "typology_xenforo-9-25-22-posts.parquet\n",
            "typology_xenforo-9-25-22.csv\n",
            "typology_xenforo-9-25-22_clean.parquet\n",
            "<Bucket: 266csffile>\n",
            "<Bucket: w266liwc>\n",
            "dev_is_I_data.parquet\n",
            "dev_is_I_labels.parquet\n",
            "dev_is_J_data.parquet\n",
            "dev_is_J_labels.parquet\n",
            "dev_is_S_data.parquet\n",
            "dev_is_S_labels.parquet\n",
            "dev_is_T_data.parquet\n",
            "dev_is_T_labels.parquet\n",
            "dev_mbti_data.parquet\n",
            "dev_mbti_labels.parquet\n",
            "mrc2.dct.textClipping\n",
            "old_files/\n",
            "old_files/dev_mbti_data.csv\n",
            "old_files/dev_mbti_data.parquet\n",
            "old_files/dev_mbti_labels.csv\n",
            "old_files/test_mbti_data.csv\n",
            "old_files/test_mbti_data.parquet\n",
            "old_files/test_mbti_labels.csv\n",
            "old_files/train_gen_pop_mbti_data.csv\n",
            "old_files/train_gen_pop_mbti_data.parquet\n",
            "old_files/train_gen_pop_mbti_labels.csv\n",
            "old_files/train_mbti_data.csv\n",
            "old_files/train_mbti_data.parquet\n",
            "old_files/train_mbti_labels.csv\n",
            "old_files/train_over_sampled_mbti_data.csv\n",
            "old_files/train_over_sampled_mbti_data.parquet\n",
            "old_files/train_over_sampled_mbti_labels.csv\n",
            "old_files/train_under_sampled_mbti_data.csv\n",
            "old_files/train_under_sampled_mbti_data.parquet\n",
            "old_files/train_under_sampled_mbti_labels.csv\n",
            "t5_dev_uniform.parquet\n",
            "t5_test_uniform.parquet\n",
            "t5_train_uniform.parquet\n",
            "test_is_I_data.parquet\n",
            "test_is_I_labels.parquet\n",
            "test_is_J_data.parquet\n",
            "test_is_J_labels.parquet\n",
            "test_is_S_data.parquet\n",
            "test_is_S_labels.parquet\n",
            "test_is_T_data.parquet\n",
            "test_is_T_labels.parquet\n",
            "test_mbti_data.parquet\n",
            "test_mbti_labels.parquet\n",
            "train_gen_pop_is_I_data.parquet\n",
            "train_gen_pop_is_I_labels.parquet\n",
            "train_gen_pop_is_J_data.parquet\n",
            "train_gen_pop_is_J_labels.parquet\n",
            "train_gen_pop_is_S_data.parquet\n",
            "train_gen_pop_is_S_labels.parquet\n",
            "train_gen_pop_is_T_data.parquet\n",
            "train_gen_pop_is_T_labels.parquet\n",
            "train_gen_pop_mbti_data.parquet\n",
            "train_gen_pop_mbti_labels.parquet\n",
            "train_is_I_data.parquet\n",
            "train_is_I_labels.parquet\n",
            "train_is_J_data.parquet\n",
            "train_is_J_labels.parquet\n",
            "train_is_S_data.parquet\n",
            "train_is_S_labels.parquet\n",
            "train_is_T_data.parquet\n",
            "train_is_T_labels.parquet\n",
            "train_mbti_data.parquet\n",
            "train_mbti_labels.parquet\n",
            "train_uniform_is_I_data.parquet\n",
            "train_uniform_is_I_labels.parquet\n",
            "train_uniform_is_J_data.parquet\n",
            "train_uniform_is_J_labels.parquet\n",
            "train_uniform_is_S_data.parquet\n",
            "train_uniform_is_S_labels.parquet\n",
            "train_uniform_is_T_data.parquet\n",
            "train_uniform_is_T_labels.parquet\n",
            "train_uniform_mbti_data.parquet\n",
            "train_uniform_mbti_labels.parquet\n",
            "typology_merged.parquet\n",
            "typology_users_clean.csv\n",
            "typology_xenforo-9-25-22-posts.csv\n",
            "typology_xenforo-9-25-22-posts.parquet\n",
            "typology_xenforo-9-25-22.csv\n",
            "typology_xenforo-9-25-22_clean.parquet\n",
            "<Bucket: 266csffile>\n",
            "<Bucket: w266liwc>\n",
            "dev_is_I_data.parquet\n",
            "dev_is_I_labels.parquet\n",
            "dev_is_J_data.parquet\n",
            "dev_is_J_labels.parquet\n",
            "dev_is_S_data.parquet\n",
            "dev_is_S_labels.parquet\n",
            "dev_is_T_data.parquet\n",
            "dev_is_T_labels.parquet\n",
            "dev_mbti_data.parquet\n",
            "dev_mbti_labels.parquet\n",
            "mrc2.dct.textClipping\n",
            "old_files/\n",
            "old_files/dev_mbti_data.csv\n",
            "old_files/dev_mbti_data.parquet\n",
            "old_files/dev_mbti_labels.csv\n",
            "old_files/test_mbti_data.csv\n",
            "old_files/test_mbti_data.parquet\n",
            "old_files/test_mbti_labels.csv\n",
            "old_files/train_gen_pop_mbti_data.csv\n",
            "old_files/train_gen_pop_mbti_data.parquet\n",
            "old_files/train_gen_pop_mbti_labels.csv\n",
            "old_files/train_mbti_data.csv\n",
            "old_files/train_mbti_data.parquet\n",
            "old_files/train_mbti_labels.csv\n",
            "old_files/train_over_sampled_mbti_data.csv\n",
            "old_files/train_over_sampled_mbti_data.parquet\n",
            "old_files/train_over_sampled_mbti_labels.csv\n",
            "old_files/train_under_sampled_mbti_data.csv\n",
            "old_files/train_under_sampled_mbti_data.parquet\n",
            "old_files/train_under_sampled_mbti_labels.csv\n",
            "t5_dev_uniform.parquet\n",
            "t5_test_uniform.parquet\n",
            "t5_train_uniform.parquet\n",
            "test_is_I_data.parquet\n",
            "test_is_I_labels.parquet\n",
            "test_is_J_data.parquet\n",
            "test_is_J_labels.parquet\n",
            "test_is_S_data.parquet\n",
            "test_is_S_labels.parquet\n",
            "test_is_T_data.parquet\n",
            "test_is_T_labels.parquet\n",
            "test_mbti_data.parquet\n",
            "test_mbti_labels.parquet\n",
            "train_gen_pop_is_I_data.parquet\n",
            "train_gen_pop_is_I_labels.parquet\n",
            "train_gen_pop_is_J_data.parquet\n",
            "train_gen_pop_is_J_labels.parquet\n",
            "train_gen_pop_is_S_data.parquet\n",
            "train_gen_pop_is_S_labels.parquet\n",
            "train_gen_pop_is_T_data.parquet\n",
            "train_gen_pop_is_T_labels.parquet\n",
            "train_gen_pop_mbti_data.parquet\n",
            "train_gen_pop_mbti_labels.parquet\n",
            "train_is_I_data.parquet\n",
            "train_is_I_labels.parquet\n",
            "train_is_J_data.parquet\n",
            "train_is_J_labels.parquet\n",
            "train_is_S_data.parquet\n",
            "train_is_S_labels.parquet\n",
            "train_is_T_data.parquet\n",
            "train_is_T_labels.parquet\n",
            "train_mbti_data.parquet\n",
            "train_mbti_labels.parquet\n",
            "train_uniform_is_I_data.parquet\n",
            "train_uniform_is_I_labels.parquet\n",
            "train_uniform_is_J_data.parquet\n",
            "train_uniform_is_J_labels.parquet\n",
            "train_uniform_is_S_data.parquet\n",
            "train_uniform_is_S_labels.parquet\n",
            "train_uniform_is_T_data.parquet\n",
            "train_uniform_is_T_labels.parquet\n",
            "train_uniform_mbti_data.parquet\n",
            "train_uniform_mbti_labels.parquet\n",
            "typology_merged.parquet\n",
            "typology_users_clean.csv\n",
            "typology_xenforo-9-25-22-posts.csv\n",
            "typology_xenforo-9-25-22-posts.parquet\n",
            "typology_xenforo-9-25-22.csv\n",
            "typology_xenforo-9-25-22_clean.parquet\n"
          ]
        }
      ]
    },
    {
      "cell_type": "code",
      "source": [
        "train_df = read_parquet_google_cloud('t5_train_uniform.parquet')\n",
        "test_df = read_parquet_google_cloud('t5_test_uniform.parquet')\n",
        "dev_df = read_parquet_google_cloud('t5_dev_uniform.parquet')\n",
        "\n",
        "train_mbti_labels = read_parquet_google_cloud('train_uniform_mbti_labels.parquet')\n",
        "dev_mbti_labels = read_parquet_google_cloud('dev_mbti_labels.parquet')\n",
        "test_mbti_labels = read_parquet_google_cloud('test_mbti_labels.parquet')\n",
        "\n",
        "train_mbti_short_labels_df = train_mbti_labels[0: n_train_samples]\n",
        "test_mbti_short_labels_df = test_mbti_labels[0: n_test_samples]\n",
        "dev_mbti_short_labels_df = dev_mbti_labels[0: n_dev_samples]\n"
      ],
      "metadata": {
        "id": "Wgks3PJ4RTCS"
      },
      "execution_count": 48,
      "outputs": []
    },
    {
      "cell_type": "code",
      "source": [
        "# create pandas dataframe with the correct format of \"prefix\" + \"input_text\" and \"target_text\"\n",
        "\n",
        "\n",
        "def create_T5_df( input_df, labels_df, n_rows ):\n",
        "    input_text_list = input_df['combined']\n",
        "    target_text_list = labels_df['MBTI Type']\n",
        "\n",
        "    combined_dict = { 'input_text': input_text_list, 'target_text': target_text_list}\n",
        "\n",
        "    return pd.DataFrame(combined_dict)\n"
      ],
      "metadata": {
        "id": "xuOkoQlJAhOq"
      },
      "execution_count": 49,
      "outputs": []
    },
    {
      "cell_type": "code",
      "source": [
        "# create custom dfs with the 3 columns necessary for creating prefix, input text and target text \n",
        "\n",
        "t5_train_df = create_T5_df(train_df, train_mbti_short_labels_df, n_train_samples )\n",
        "t5_test_df = create_T5_df(test_df, test_mbti_short_labels_df, n_test_samples )\n",
        "t5_dev_df = create_T5_df(dev_df, dev_mbti_short_labels_df, n_dev_samples )"
      ],
      "metadata": {
        "id": "rKc2gPvFAsPv"
      },
      "execution_count": 50,
      "outputs": []
    },
    {
      "cell_type": "code",
      "source": [
        "t5_train_df.head()"
      ],
      "metadata": {
        "id": "hwujBWbvFuMV"
      },
      "execution_count": null,
      "outputs": []
    },
    {
      "cell_type": "code",
      "execution_count": 52,
      "metadata": {
        "id": "tkWEjy9U-3xM"
      },
      "outputs": [],
      "source": [
        "def preprocess_data( input_text, target_text, tokenizer, max_length=512 ):\n",
        "\n",
        "    input_ids = []\n",
        "    input_attention_masks = []\n",
        "\n",
        "    target_ids = []\n",
        "\n",
        "    input_encodings = tokenizer.encode_plus(input_text,\n",
        "                                            add_special_tokens=True, # add tokens relative to model\n",
        "                                            truncation=True,  # truncate longer inputs\n",
        "                                            max_length=max_length,  # set max_length\n",
        "                                            padding = 'max_length',  # add padding\n",
        "                                            return_attention_mask=True,  # create attn masks\n",
        "                                            return_tensors='pt')  #return pytorch tensors\n",
        "\n",
        "    # Extract input ids and attention masks, add to corresponding lists\n",
        "    input_ids.append(input_encodings[\"input_ids\"])\n",
        "    input_attention_masks.append(input_encodings[\"attention_mask\"])\n",
        "\n",
        "    target_ids.append(tokenizer(target_text + \" </s>\"))\n",
        "\n",
        "    return [input_ids,input_attention_masks], [target_ids]\n"
      ]
    },
    {
      "cell_type": "code",
      "source": [
        "# figure out the max_length for the targets after tokenizing\n",
        "target_text_list = [ label + \" </s>\" for label in train_mbti_short_labels_df['MBTI Type']]\n",
        "target_tokens_length = []\n",
        "\n",
        "for i in range( 0, len(target_text_list)):\n",
        "    target_tokens_length.append(len(t5_tokenizer.tokenize(target_text_list[i])))\n",
        "\n",
        "target_len_df = pd.DataFrame({'len_target_tokens': target_tokens_length})\n",
        "\n",
        "mean_len = target_len_df['len_target_tokens'].mean()\n",
        "max_len = target_len_df['len_target_tokens'].max()\n",
        "\n",
        "print( \"Mean target tokens len:\", mean_len, \"Max target tokens len:\", max_len )\n",
        "\n",
        "max_target_length = max_len\n"
      ],
      "metadata": {
        "colab": {
          "base_uri": "https://localhost:8080/"
        },
        "id": "SR0ToR9QY3Mg",
        "outputId": "a039e584-5185-40a7-c88b-e9463e2da2cb"
      },
      "execution_count": 53,
      "outputs": [
        {
          "output_type": "stream",
          "name": "stdout",
          "text": [
            "Mean target tokens len: 3.74945 Max target tokens len: 4\n"
          ]
        }
      ]
    },
    {
      "cell_type": "code",
      "source": [
        "def tokenize_textlist( text_list, tokenizer, max_length = 512 ):\n",
        "\n",
        "    token_ids = []\n",
        "    token_attention_masks = []\n",
        "\n",
        "    for text in text_list:\n",
        "        token_encodings = tokenizer.encode_plus(text,\n",
        "                                            add_special_tokens=True, # add tokens relative to model\n",
        "                                            truncation=True,  # truncate longer inputs\n",
        "                                            max_length=max_length,  # set max_length\n",
        "                                            padding = 'max_length',  # add padding\n",
        "                                            return_attention_mask=True,  # create attn masks\n",
        "                                            return_tensors='pt')  #return pytorch tensors\n",
        "\n",
        "        token_ids.append(token_encodings['input_ids'])\n",
        "        token_attention_masks.append(token_encodings['attention_mask'])\n",
        "\n",
        "    return torch.cat(token_ids, dim=0), torch.cat(token_attention_masks, dim=0)\n",
        "\n"
      ],
      "metadata": {
        "id": "OdLZNsHOWxq6"
      },
      "execution_count": 54,
      "outputs": []
    },
    {
      "cell_type": "code",
      "source": [
        "# tokenize train set\n",
        "\n",
        "train_input_ids, train_attention_masks = tokenize_textlist( t5_train_df['input_text'], t5_tokenizer, 512 )\n",
        "train_target_ids, train_target_attention_masks = tokenize_textlist( t5_train_df['target_text'], t5_tokenizer, max_target_length)\n",
        "\n",
        "# create a dataset for training\n",
        "train_dataset = TensorDataset( train_input_ids, train_attention_masks, train_target_ids, train_target_attention_masks )\n",
        "\n",
        "# create a dataloader for training\n",
        "train_dataloader = DataLoader(train_dataset, batch_size = 16, shuffle = False)\n"
      ],
      "metadata": {
        "colab": {
          "base_uri": "https://localhost:8080/"
        },
        "id": "akW5nba8b6Vz",
        "outputId": "cce690ef-4d73-4381-c2f9-b1d3f18b6420"
      },
      "execution_count": 55,
      "outputs": [
        {
          "output_type": "stream",
          "name": "stderr",
          "text": [
            "/usr/local/lib/python3.8/dist-packages/transformers/models/t5/tokenization_t5.py:226: UserWarning: This sequence already has </s>. In future versions this behavior may lead to duplicated eos tokens being added.\n",
            "  warnings.warn(\n"
          ]
        }
      ]
    },
    {
      "cell_type": "code",
      "source": [
        "# tokenize test set\n",
        "\n",
        "test_input_ids, test_attention_masks = tokenize_textlist( t5_test_df['input_text'], t5_tokenizer, 512 )\n",
        "test_target_ids, test_target_attention_masks = tokenize_textlist( t5_test_df['target_text'], t5_tokenizer, max_target_length)\n",
        "\n",
        "# create a dataset for test\n",
        "test_dataset = TensorDataset( test_input_ids, test_attention_masks, test_target_ids, test_target_attention_masks )\n",
        "\n",
        "# create a dataloader for test\n",
        "test_dataloader = DataLoader(test_dataset, batch_size = 16, shuffle = False)\n",
        "\n"
      ],
      "metadata": {
        "id": "DPTRcLY0c6_m",
        "colab": {
          "base_uri": "https://localhost:8080/"
        },
        "outputId": "67bf051e-e27e-4c1a-f4e2-43f613c2188f"
      },
      "execution_count": 56,
      "outputs": [
        {
          "output_type": "stream",
          "name": "stderr",
          "text": [
            "/usr/local/lib/python3.8/dist-packages/transformers/models/t5/tokenization_t5.py:226: UserWarning: This sequence already has </s>. In future versions this behavior may lead to duplicated eos tokens being added.\n",
            "  warnings.warn(\n"
          ]
        }
      ]
    },
    {
      "cell_type": "code",
      "source": [
        "# tokenize dev set\n",
        "\n",
        "dev_input_ids, dev_attention_masks = tokenize_textlist( t5_dev_df['input_text'], t5_tokenizer, 512 )\n",
        "dev_target_ids, dev_target_attention_masks = tokenize_textlist( t5_dev_df['target_text'], t5_tokenizer, max_target_length)\n",
        "\n",
        "# create a dataset for dev\n",
        "dev_dataset = TensorDataset( dev_input_ids, dev_attention_masks, dev_target_ids, dev_target_attention_masks )\n",
        "\n",
        "# create a dataloader for dev\n",
        "dev_dataloader = DataLoader(dev_dataset, batch_size = 16, shuffle = False)\n",
        "\n"
      ],
      "metadata": {
        "id": "jFlSC8jYdDZG"
      },
      "execution_count": 57,
      "outputs": []
    },
    {
      "cell_type": "markdown",
      "metadata": {
        "id": "mLraZ0aI4pH3"
      },
      "source": [
        "# Create Model and Stages for it\n",
        "\n",
        "the following code is largely cut and paste from http://seekinginference.com/applied_nlp/t5-class.html\n"
      ]
    },
    {
      "cell_type": "code",
      "source": [
        "def train(model, dataloader, optimizer):\n",
        "\n",
        "    # capture time\n",
        "    total_t0 = time.time()\n",
        "\n",
        "    # Perform one full pass over the training set.\n",
        "    print(\"\")\n",
        "    print('======== Epoch {:} / {:} ========'.format(epoch + 1, epochs))\n",
        "    print('Training...')\n",
        "\n",
        "    # reset total loss for epoch\n",
        "    train_total_loss = 0\n",
        "    total_train_f1 = 0\n",
        "\n",
        "    # put model into traning mode\n",
        "    model.train()\n",
        "\n",
        "    # for each batch of training data...\n",
        "    for step, batch in enumerate(dataloader):\n",
        "\n",
        "        # progress update every 40 batches.\n",
        "        if step % 40 == 0 and not step == 0:\n",
        "\n",
        "            # Report progress.\n",
        "            print('  Batch {:>5,}  of  {:>5,}.'.format(step, len(dataloader)))\n",
        "\n",
        "        # Unpack this training batch from our dataloader:\n",
        "        #\n",
        "        # As we unpack the batch, we'll also copy each tensor to the GPU using\n",
        "        # the `to` method.\n",
        "        #\n",
        "        # `batch` contains 4 pytorch tensors:\n",
        "        #   [0]: input tokens\n",
        "        #   [1]: attention masks\n",
        "        #   [2]: target tokens\n",
        "        #   [3]: target attenion masks\n",
        "        b_input_ids = batch[0].cuda()\n",
        "        b_input_mask = batch[1].cuda()\n",
        "        b_target_ids = batch[2].cuda()\n",
        "        b_target_mask = batch[3].cuda()\n",
        "\n",
        "        # clear previously calculated gradients\n",
        "        optimizer.zero_grad()\n",
        "\n",
        "        # runs the forward pass with autocasting.\n",
        "        with autocast():\n",
        "            # forward propagation (evaluate model on training batch)\n",
        "            outputs = model(input_ids=b_input_ids,\n",
        "                            attention_mask=b_input_mask,\n",
        "                            labels=b_target_ids,\n",
        "                            decoder_attention_mask=b_target_mask)\n",
        "\n",
        "            loss, prediction_scores = outputs[:2]\n",
        "\n",
        "            # sum the training loss over all batches for average loss at end\n",
        "            # loss is a tensor containing a single value\n",
        "            train_total_loss += loss.item()\n",
        "\n",
        "        # Scales loss.  Calls backward() on scaled loss to create scaled gradients.\n",
        "        # Backward passes under autocast are not recommended.\n",
        "        # Backward ops run in the same dtype autocast chose for corresponding forward ops.\n",
        "        scaler.scale(loss).backward()\n",
        "\n",
        "        # scaler.step() first unscales the gradients of the optimizer's assigned params.\n",
        "        # If these gradients do not contain infs or NaNs, optimizer.step() is then called,\n",
        "        # otherwise, optimizer.step() is skipped.\n",
        "        scaler.step(optimizer)\n",
        "\n",
        "        # Updates the scale for next iteration.\n",
        "        scaler.update()\n",
        "\n",
        "        # update the learning rate\n",
        "        scheduler.step()\n",
        "\n",
        "    # calculate the average loss over all of the batches\n",
        "    avg_train_loss = train_total_loss / len(dataloader)\n",
        "\n",
        "    # Record all statistics from this epoch.\n",
        "    training_stats.append(\n",
        "        {\n",
        "            'Train Loss': avg_train_loss\n",
        "        }\n",
        "    )\n",
        "\n",
        "    # training time end\n",
        "    training_time = format_time(time.time() - total_t0)\n",
        "\n",
        "    # print result summaries\n",
        "    print(\"\")\n",
        "    print(\"summary results\")\n",
        "    print(\"epoch | trn loss | trn time \")\n",
        "    print(f\"{epoch+1:5d} | {avg_train_loss:.5f} | {training_time:}\")\n",
        "\n",
        "    return training_stats\n",
        "\n",
        "\n",
        "def validating(model, dataloader):\n",
        "\n",
        "    # capture validation time\n",
        "    total_t0 = time.time()\n",
        "\n",
        "    # After the completion of each training epoch, measure our performance on\n",
        "    # our validation set.\n",
        "    print(\"\")\n",
        "    print(\"Running Validation...\")\n",
        "\n",
        "    # put the model in evaluation mode\n",
        "    model.eval()\n",
        "\n",
        "    # track variables\n",
        "    total_valid_loss = 0\n",
        "\n",
        "    # evaluate data for one epoch\n",
        "    for batch in dataloader:\n",
        "\n",
        "        # Unpack this training batch from our dataloader:\n",
        "        # `batch` contains three pytorch tensors:\n",
        "        #   [0]: input tokens\n",
        "        #   [1]: attention masks\n",
        "        #   [2]: target tokens\n",
        "        #   [3]: target attenion masks\n",
        "        b_input_ids = batch[0].cuda()\n",
        "        b_input_mask = batch[1].cuda()\n",
        "        b_target_ids = batch[2].cuda()\n",
        "        b_target_mask = batch[3].cuda()\n",
        "\n",
        "        # tell pytorch not to bother calculating gradients\n",
        "        # as its only necessary for training\n",
        "        with torch.no_grad():\n",
        "\n",
        "            # forward propagation (evaluate model on training batch)\n",
        "            outputs = model(input_ids=b_input_ids,\n",
        "                            attention_mask=b_input_mask,\n",
        "                            labels=b_target_ids,\n",
        "                            decoder_attention_mask=b_target_mask)\n",
        "\n",
        "            loss, prediction_scores = outputs[:2]\n",
        "\n",
        "            # sum the training loss over all batches for average loss at end\n",
        "            # loss is a tensor containing a single value\n",
        "            total_valid_loss += loss.item()\n",
        "\n",
        "    # calculate the average loss over all of the batches.\n",
        "    global avg_val_loss\n",
        "    avg_val_loss = total_valid_loss / len(dataloader)\n",
        "\n",
        "    # Record all statistics from this epoch.\n",
        "    valid_stats.append(\n",
        "        {\n",
        "            'Val Loss': avg_val_loss,\n",
        "            'Val PPL.': np.exp(avg_val_loss)\n",
        "        }\n",
        "    )\n",
        "\n",
        "    # capture end validation time\n",
        "    training_time = format_time(time.time() - total_t0)\n",
        "\n",
        "    # print result summaries\n",
        "    print(\"\")\n",
        "    print(\"summary results\")\n",
        "    print(\"epoch | val loss | val ppl | val time\")\n",
        "    print(f\"{epoch+1:5d} | {avg_val_loss:.5f} | {np.exp(avg_val_loss):.3f} | {training_time:}\")\n",
        "\n",
        "    return valid_stats\n",
        "\n",
        "\n",
        "def testing(model, dataloader):\n",
        "\n",
        "    print(\"\")\n",
        "    print(\"Running Testing...\")\n",
        "\n",
        "    # measure training time\n",
        "    t0 = time.time()\n",
        "\n",
        "    # put the model in evaluation mode\n",
        "    model.eval()\n",
        "\n",
        "    # track variables\n",
        "    total_test_loss = 0\n",
        "    total_test_acc = 0\n",
        "    total_test_f1 = 0\n",
        "    predictions = []\n",
        "    actuals = []\n",
        "\n",
        "    # evaluate data for one epoch\n",
        "    for step, batch in enumerate(dataloader):\n",
        "        # progress update every 40 batches.\n",
        "        if step % 40 == 0 and not step == 0:\n",
        "            # Calculate elapsed time in minutes.\n",
        "            elapsed = format_time(time.time() - t0)\n",
        "            # Report progress.\n",
        "            print('  Batch {:>5,}  of  {:>5,}.    Elapsed: {:}.'.format(step, len(dataloader), elapsed))\n",
        "\n",
        "        # Unpack this training batch from our dataloader:\n",
        "        # `batch` contains 4 pytorch tensors:\n",
        "        #   [0]: input tokens\n",
        "        #   [1]: attention masks\n",
        "        #   [2]: target tokens\n",
        "        #   [3]: target attenion masks\n",
        "        b_input_ids = batch[0].cuda()\n",
        "        b_input_mask = batch[1].cuda()\n",
        "        b_target_ids = batch[2].cuda()\n",
        "        b_target_mask = batch[3].cuda()\n",
        "\n",
        "        # tell pytorch not to bother calculating gradients\n",
        "        # as its only necessary for training\n",
        "        with torch.no_grad():\n",
        "\n",
        "            # forward propagation (evaluate model on training batch)\n",
        "            outputs = model(input_ids=b_input_ids,\n",
        "                            attention_mask=b_input_mask,\n",
        "                            labels=b_target_ids,\n",
        "                            decoder_attention_mask=b_target_mask)\n",
        "\n",
        "            loss, prediction_scores = outputs[:2]\n",
        "\n",
        "            total_test_loss += loss.item()\n",
        "\n",
        "            generated_ids = model.generate(\n",
        "                    input_ids=b_input_ids,\n",
        "                    attention_mask=b_input_mask,\n",
        "                    max_length=max_target_length\n",
        "                    )\n",
        "\n",
        "            preds = [t5_tokenizer.decode(g, skip_special_tokens=True, clean_up_tokenization_spaces=True) for g in generated_ids]\n",
        "            target = [t5_tokenizer.decode(t, skip_special_tokens=True, clean_up_tokenization_spaces=True) for t in b_target_ids]\n",
        "\n",
        "            total_test_acc += accuracy_score(target, preds)\n",
        "            total_test_f1 += f1_score(preds, target,\n",
        "                                       average='weighted',\n",
        "                                       labels=np.unique(preds))\n",
        "            predictions.extend(preds)\n",
        "            actuals.extend(target)\n",
        "\n",
        "    # calculate the average loss over all of the batches.\n",
        "    avg_test_loss = total_test_loss / len(dataloader)\n",
        "\n",
        "    avg_test_acc = total_test_acc / len(test_dataloader)\n",
        "\n",
        "    avg_test_f1 = total_test_f1 / len(test_dataloader)\n",
        "\n",
        "    # Record all statistics from this epoch.\n",
        "    test_stats.append(\n",
        "        {\n",
        "            'Test Loss': avg_test_loss,\n",
        "            'Test PPL.': np.exp(avg_test_loss),\n",
        "            'Test Acc.': avg_test_acc,\n",
        "            'Test F1': avg_test_f1\n",
        "        }\n",
        "    )\n",
        "    global df2\n",
        "    temp_data = pd.DataFrame({'predicted': predictions, 'actual': actuals})\n",
        "    df2 = df2.append(temp_data)\n",
        "\n",
        "    return test_stats\n",
        "    \n",
        "\n",
        "# time function\n",
        "def format_time(elapsed):\n",
        "    '''\n",
        "    Takes a time in seconds and returns a string hh:mm:ss\n",
        "    '''\n",
        "    # Round to the nearest second.\n",
        "    elapsed_rounded = int(round((elapsed)))\n",
        "    # Format as hh:mm:ss\n",
        "    return str(datetime.timedelta(seconds=elapsed_rounded))"
      ],
      "metadata": {
        "id": "8ooE6knvdgjg"
      },
      "execution_count": 58,
      "outputs": []
    },
    {
      "cell_type": "markdown",
      "source": [
        "## Training Preparation\n"
      ],
      "metadata": {
        "id": "Noc11PRGbejy"
      }
    },
    {
      "cell_type": "code",
      "source": [
        "# instantiate model T5 transformer with a language modeling head on top\n",
        "model = T5ForConditionalGeneration.from_pretrained(t5_model_name).cuda()  # to GPU"
      ],
      "metadata": {
        "id": "jQMtiYRbdgso"
      },
      "execution_count": 111,
      "outputs": []
    },
    {
      "cell_type": "code",
      "source": [
        "# Adam w/ Weight Decay Fix\n",
        "# set to optimizer_grouped_parameters or model.parameters()\n",
        "optimizer = torch.optim.AdamW(model.parameters(),\n",
        "                  lr = 3e-5\n",
        "                  )\n",
        "\n",
        "# epochs\n",
        "epochs = 4\n",
        "\n",
        "# lr scheduler\n",
        "total_steps = len(train_dataloader) * epochs\n",
        "scheduler = get_linear_schedule_with_warmup(optimizer,\n",
        "                                            num_warmup_steps=0,\n",
        "                                            num_training_steps=total_steps)\n",
        "\n",
        "# create gradient scaler for mixed precision\n",
        "scaler = GradScaler()\n"
      ],
      "metadata": {
        "id": "dWoqkQdjdg2Q"
      },
      "execution_count": 112,
      "outputs": []
    },
    {
      "cell_type": "code",
      "source": [
        "print( \"Length train_dataloader:\", len(train_dataloader))\n",
        "print( \"Total steps:\", total_steps)"
      ],
      "metadata": {
        "colab": {
          "base_uri": "https://localhost:8080/"
        },
        "id": "m_3T9TCucF3I",
        "outputId": "dce51e97-749a-4095-8c67-f495118ac5f3"
      },
      "execution_count": 113,
      "outputs": [
        {
          "output_type": "stream",
          "name": "stdout",
          "text": [
            "Length train_dataloader: 7500\n",
            "Total steps: 30000\n"
          ]
        }
      ]
    },
    {
      "cell_type": "code",
      "source": [
        "# create training result storage\n",
        "training_stats = []\n",
        "valid_stats = []\n",
        "best_valid_loss = float('inf')\n",
        "\n",
        "\n",
        "\n",
        "# for each epoch\n",
        "for epoch in range(epochs):\n",
        "    # train\n",
        "    train(model, train_dataloader, optimizer)\n",
        "    # validate\n",
        "    validating(model, dev_dataloader)\n",
        "    # check validation loss\n",
        "    if valid_stats[epoch]['Val Loss'] < best_valid_loss:\n",
        "        best_valid_loss = valid_stats[epoch]['Val Loss']\n",
        "        # save best model for use later\n",
        "        torch.save({'epoch': valid_stats[epoch],\n",
        "                    'model_state_dict': model.state_dict(),\n",
        "                    'optimizer_state_dict': optimizer.state_dict(),\n",
        "                    'loss': valid_stats[epoch]['Val Loss']}, \n",
        "                    '/content/drive/My Drive/W266/MBTI/model_checkpoints/t5-classification.pt' )\n",
        "            \n",
        "        model_to_save = model.module if hasattr(model, 'module') else model\n",
        "        model_to_save.save_pretrained('/content/drive/My Drive/W266/MBTI/model_checkpoints/')  # transformers save\n",
        "        t5_tokenizer.save_pretrained('/content/drive/My Drive/W266/MBTI/model_checkpoints/')  # transformers save\n"
      ],
      "metadata": {
        "id": "KR13zG_eckmU"
      },
      "execution_count": null,
      "outputs": []
    },
    {
      "cell_type": "code",
      "source": [
        "# organize results\n",
        "pd.set_option('precision', 3)\n",
        "df_train_stats = pd.DataFrame(data=training_stats)\n",
        "df_valid_stats = pd.DataFrame(data=valid_stats)\n",
        "df_stats = pd.concat([df_train_stats, df_valid_stats], axis=1)\n",
        "df_stats.insert(0, 'Epoch', range(1, len(df_stats)+1))\n",
        "df_stats = df_stats.set_index('Epoch')\n",
        "df_stats\n"
      ],
      "metadata": {
        "colab": {
          "base_uri": "https://localhost:8080/",
          "height": 206
        },
        "id": "WiqXA4kKckwd",
        "outputId": "36e3188f-5d6d-4218-cf3b-5fbb48b5fcf3"
      },
      "execution_count": 117,
      "outputs": [
        {
          "output_type": "execute_result",
          "data": {
            "text/plain": [
              "       Train Loss  Val Loss  Val PPL.\n",
              "Epoch                                \n",
              "1           0.481     0.139     1.149\n",
              "2           0.136     0.078     1.081\n",
              "3           0.089     0.060     1.062\n",
              "4           0.074     0.055     1.057"
            ],
            "text/html": [
              "\n",
              "  <div id=\"df-8ae4c5e6-fb70-4b02-b686-cb3c1b1d90d5\">\n",
              "    <div class=\"colab-df-container\">\n",
              "      <div>\n",
              "<style scoped>\n",
              "    .dataframe tbody tr th:only-of-type {\n",
              "        vertical-align: middle;\n",
              "    }\n",
              "\n",
              "    .dataframe tbody tr th {\n",
              "        vertical-align: top;\n",
              "    }\n",
              "\n",
              "    .dataframe thead th {\n",
              "        text-align: right;\n",
              "    }\n",
              "</style>\n",
              "<table border=\"1\" class=\"dataframe\">\n",
              "  <thead>\n",
              "    <tr style=\"text-align: right;\">\n",
              "      <th></th>\n",
              "      <th>Train Loss</th>\n",
              "      <th>Val Loss</th>\n",
              "      <th>Val PPL.</th>\n",
              "    </tr>\n",
              "    <tr>\n",
              "      <th>Epoch</th>\n",
              "      <th></th>\n",
              "      <th></th>\n",
              "      <th></th>\n",
              "    </tr>\n",
              "  </thead>\n",
              "  <tbody>\n",
              "    <tr>\n",
              "      <th>1</th>\n",
              "      <td>0.481</td>\n",
              "      <td>0.139</td>\n",
              "      <td>1.149</td>\n",
              "    </tr>\n",
              "    <tr>\n",
              "      <th>2</th>\n",
              "      <td>0.136</td>\n",
              "      <td>0.078</td>\n",
              "      <td>1.081</td>\n",
              "    </tr>\n",
              "    <tr>\n",
              "      <th>3</th>\n",
              "      <td>0.089</td>\n",
              "      <td>0.060</td>\n",
              "      <td>1.062</td>\n",
              "    </tr>\n",
              "    <tr>\n",
              "      <th>4</th>\n",
              "      <td>0.074</td>\n",
              "      <td>0.055</td>\n",
              "      <td>1.057</td>\n",
              "    </tr>\n",
              "  </tbody>\n",
              "</table>\n",
              "</div>\n",
              "      <button class=\"colab-df-convert\" onclick=\"convertToInteractive('df-8ae4c5e6-fb70-4b02-b686-cb3c1b1d90d5')\"\n",
              "              title=\"Convert this dataframe to an interactive table.\"\n",
              "              style=\"display:none;\">\n",
              "        \n",
              "  <svg xmlns=\"http://www.w3.org/2000/svg\" height=\"24px\"viewBox=\"0 0 24 24\"\n",
              "       width=\"24px\">\n",
              "    <path d=\"M0 0h24v24H0V0z\" fill=\"none\"/>\n",
              "    <path d=\"M18.56 5.44l.94 2.06.94-2.06 2.06-.94-2.06-.94-.94-2.06-.94 2.06-2.06.94zm-11 1L8.5 8.5l.94-2.06 2.06-.94-2.06-.94L8.5 2.5l-.94 2.06-2.06.94zm10 10l.94 2.06.94-2.06 2.06-.94-2.06-.94-.94-2.06-.94 2.06-2.06.94z\"/><path d=\"M17.41 7.96l-1.37-1.37c-.4-.4-.92-.59-1.43-.59-.52 0-1.04.2-1.43.59L10.3 9.45l-7.72 7.72c-.78.78-.78 2.05 0 2.83L4 21.41c.39.39.9.59 1.41.59.51 0 1.02-.2 1.41-.59l7.78-7.78 2.81-2.81c.8-.78.8-2.07 0-2.86zM5.41 20L4 18.59l7.72-7.72 1.47 1.35L5.41 20z\"/>\n",
              "  </svg>\n",
              "      </button>\n",
              "      \n",
              "  <style>\n",
              "    .colab-df-container {\n",
              "      display:flex;\n",
              "      flex-wrap:wrap;\n",
              "      gap: 12px;\n",
              "    }\n",
              "\n",
              "    .colab-df-convert {\n",
              "      background-color: #E8F0FE;\n",
              "      border: none;\n",
              "      border-radius: 50%;\n",
              "      cursor: pointer;\n",
              "      display: none;\n",
              "      fill: #1967D2;\n",
              "      height: 32px;\n",
              "      padding: 0 0 0 0;\n",
              "      width: 32px;\n",
              "    }\n",
              "\n",
              "    .colab-df-convert:hover {\n",
              "      background-color: #E2EBFA;\n",
              "      box-shadow: 0px 1px 2px rgba(60, 64, 67, 0.3), 0px 1px 3px 1px rgba(60, 64, 67, 0.15);\n",
              "      fill: #174EA6;\n",
              "    }\n",
              "\n",
              "    [theme=dark] .colab-df-convert {\n",
              "      background-color: #3B4455;\n",
              "      fill: #D2E3FC;\n",
              "    }\n",
              "\n",
              "    [theme=dark] .colab-df-convert:hover {\n",
              "      background-color: #434B5C;\n",
              "      box-shadow: 0px 1px 3px 1px rgba(0, 0, 0, 0.15);\n",
              "      filter: drop-shadow(0px 1px 2px rgba(0, 0, 0, 0.3));\n",
              "      fill: #FFFFFF;\n",
              "    }\n",
              "  </style>\n",
              "\n",
              "      <script>\n",
              "        const buttonEl =\n",
              "          document.querySelector('#df-8ae4c5e6-fb70-4b02-b686-cb3c1b1d90d5 button.colab-df-convert');\n",
              "        buttonEl.style.display =\n",
              "          google.colab.kernel.accessAllowed ? 'block' : 'none';\n",
              "\n",
              "        async function convertToInteractive(key) {\n",
              "          const element = document.querySelector('#df-8ae4c5e6-fb70-4b02-b686-cb3c1b1d90d5');\n",
              "          const dataTable =\n",
              "            await google.colab.kernel.invokeFunction('convertToInteractive',\n",
              "                                                     [key], {});\n",
              "          if (!dataTable) return;\n",
              "\n",
              "          const docLinkHtml = 'Like what you see? Visit the ' +\n",
              "            '<a target=\"_blank\" href=https://colab.research.google.com/notebooks/data_table.ipynb>data table notebook</a>'\n",
              "            + ' to learn more about interactive tables.';\n",
              "          element.innerHTML = '';\n",
              "          dataTable['output_type'] = 'display_data';\n",
              "          await google.colab.output.renderOutput(dataTable, element);\n",
              "          const docLink = document.createElement('div');\n",
              "          docLink.innerHTML = docLinkHtml;\n",
              "          element.appendChild(docLink);\n",
              "        }\n",
              "      </script>\n",
              "    </div>\n",
              "  </div>\n",
              "  "
            ]
          },
          "metadata": {},
          "execution_count": 117
        }
      ]
    },
    {
      "cell_type": "code",
      "source": [
        "def load_model_from_checkpoints( model, optimizer, path_to_checkpoint ):\n",
        "\n",
        "    # load state from file\n",
        "    checkpoint = torch.load('/content/drive/My Drive/W266/MBTI/model_checkpoints/t5-classification.pt')\n",
        "    model.load_state_dict(checkpoint['model_state_dict'])\n",
        "    optimizer.load_state_dict(checkpoint['optimizer_state_dict'])\n",
        "    epoch = checkpoint['epoch']\n",
        "    loss = checkpoint['loss']\n",
        "\n",
        "    return model, optimizer, epoch, loss"
      ],
      "metadata": {
        "id": "Ew1WUFn_eQn1"
      },
      "execution_count": 118,
      "outputs": []
    },
    {
      "cell_type": "code",
      "source": [
        "# alternatively, load model from checkpoint if it has already been trained and saved satisfactorily.\n",
        "\n",
        "# use this cell if you trained the model in a previous session and are reloading it from a file\n",
        "\n",
        "# instantiate model T5 transformer with a language modeling head on top\n",
        "model = T5ForConditionalGeneration.from_pretrained(t5_model_name).cuda()  # to GPU\n",
        "\n",
        "# Adam w/ Weight Decay Fix\n",
        "# set to optimizer_grouped_parameters or model.parameters()\n",
        "optimizer = torch.optim.AdamW(model.parameters(),\n",
        "                  lr = 3e-5\n",
        "                  )\n",
        "\n",
        "\n",
        "\n",
        "model, optimizer, epoch, loss = load_model_from_checkpoints( model, optimizer, '/content/drive/My Drive/W266/MBTI/model_checkpoints/t5-classification.pt')\n",
        "\n"
      ],
      "metadata": {
        "id": "1aznWrTXaArJ"
      },
      "execution_count": null,
      "outputs": []
    },
    {
      "cell_type": "code",
      "source": [
        "# test the model\n",
        "df2 = pd.DataFrame({'predicted': [], 'actual': []})\n",
        "test_stats = []\n",
        "\n",
        "model, optimizer, epoch, loss = load_model_from_checkpoints( model, optimizer, '/content/drive/My Drive/W266/MBTI/model_checkpoints/t5-classification.pt')\n"
      ],
      "metadata": {
        "id": "Ab0S8aV2gXpf"
      },
      "execution_count": 119,
      "outputs": []
    },
    {
      "cell_type": "code",
      "source": [
        "testing( model, test_dataloader )"
      ],
      "metadata": {
        "colab": {
          "base_uri": "https://localhost:8080/"
        },
        "id": "b0JbGCPyiIVs",
        "outputId": "28ac3b38-9f75-40e2-ad96-3c8cda158b07"
      },
      "execution_count": 120,
      "outputs": [
        {
          "output_type": "stream",
          "name": "stdout",
          "text": [
            "\n",
            "Running Testing...\n",
            "  Batch    40  of  5,820.    Elapsed: 0:00:06.\n",
            "  Batch    80  of  5,820.    Elapsed: 0:00:12.\n",
            "  Batch   120  of  5,820.    Elapsed: 0:00:18.\n",
            "  Batch   160  of  5,820.    Elapsed: 0:00:24.\n",
            "  Batch   200  of  5,820.    Elapsed: 0:00:30.\n",
            "  Batch   240  of  5,820.    Elapsed: 0:00:36.\n",
            "  Batch   280  of  5,820.    Elapsed: 0:00:42.\n",
            "  Batch   320  of  5,820.    Elapsed: 0:00:48.\n",
            "  Batch   360  of  5,820.    Elapsed: 0:00:55.\n",
            "  Batch   400  of  5,820.    Elapsed: 0:01:01.\n",
            "  Batch   440  of  5,820.    Elapsed: 0:01:07.\n",
            "  Batch   480  of  5,820.    Elapsed: 0:01:13.\n",
            "  Batch   520  of  5,820.    Elapsed: 0:01:19.\n",
            "  Batch   560  of  5,820.    Elapsed: 0:01:25.\n",
            "  Batch   600  of  5,820.    Elapsed: 0:01:31.\n",
            "  Batch   640  of  5,820.    Elapsed: 0:01:37.\n",
            "  Batch   680  of  5,820.    Elapsed: 0:01:43.\n",
            "  Batch   720  of  5,820.    Elapsed: 0:01:49.\n",
            "  Batch   760  of  5,820.    Elapsed: 0:01:55.\n",
            "  Batch   800  of  5,820.    Elapsed: 0:02:01.\n",
            "  Batch   840  of  5,820.    Elapsed: 0:02:07.\n",
            "  Batch   880  of  5,820.    Elapsed: 0:02:13.\n",
            "  Batch   920  of  5,820.    Elapsed: 0:02:19.\n",
            "  Batch   960  of  5,820.    Elapsed: 0:02:25.\n",
            "  Batch 1,000  of  5,820.    Elapsed: 0:02:31.\n",
            "  Batch 1,040  of  5,820.    Elapsed: 0:02:37.\n",
            "  Batch 1,080  of  5,820.    Elapsed: 0:02:43.\n",
            "  Batch 1,120  of  5,820.    Elapsed: 0:02:49.\n",
            "  Batch 1,160  of  5,820.    Elapsed: 0:02:56.\n",
            "  Batch 1,200  of  5,820.    Elapsed: 0:03:02.\n",
            "  Batch 1,240  of  5,820.    Elapsed: 0:03:08.\n",
            "  Batch 1,280  of  5,820.    Elapsed: 0:03:14.\n",
            "  Batch 1,320  of  5,820.    Elapsed: 0:03:20.\n",
            "  Batch 1,360  of  5,820.    Elapsed: 0:03:26.\n",
            "  Batch 1,400  of  5,820.    Elapsed: 0:03:32.\n",
            "  Batch 1,440  of  5,820.    Elapsed: 0:03:38.\n",
            "  Batch 1,480  of  5,820.    Elapsed: 0:03:44.\n",
            "  Batch 1,520  of  5,820.    Elapsed: 0:03:50.\n",
            "  Batch 1,560  of  5,820.    Elapsed: 0:03:56.\n",
            "  Batch 1,600  of  5,820.    Elapsed: 0:04:02.\n",
            "  Batch 1,640  of  5,820.    Elapsed: 0:04:08.\n",
            "  Batch 1,680  of  5,820.    Elapsed: 0:04:14.\n",
            "  Batch 1,720  of  5,820.    Elapsed: 0:04:20.\n",
            "  Batch 1,760  of  5,820.    Elapsed: 0:04:26.\n",
            "  Batch 1,800  of  5,820.    Elapsed: 0:04:32.\n",
            "  Batch 1,840  of  5,820.    Elapsed: 0:04:38.\n",
            "  Batch 1,880  of  5,820.    Elapsed: 0:04:44.\n",
            "  Batch 1,920  of  5,820.    Elapsed: 0:04:50.\n",
            "  Batch 1,960  of  5,820.    Elapsed: 0:04:56.\n",
            "  Batch 2,000  of  5,820.    Elapsed: 0:05:02.\n",
            "  Batch 2,040  of  5,820.    Elapsed: 0:05:08.\n",
            "  Batch 2,080  of  5,820.    Elapsed: 0:05:14.\n",
            "  Batch 2,120  of  5,820.    Elapsed: 0:05:20.\n",
            "  Batch 2,160  of  5,820.    Elapsed: 0:05:26.\n",
            "  Batch 2,200  of  5,820.    Elapsed: 0:05:32.\n",
            "  Batch 2,240  of  5,820.    Elapsed: 0:05:38.\n",
            "  Batch 2,280  of  5,820.    Elapsed: 0:05:44.\n",
            "  Batch 2,320  of  5,820.    Elapsed: 0:05:50.\n",
            "  Batch 2,360  of  5,820.    Elapsed: 0:05:56.\n",
            "  Batch 2,400  of  5,820.    Elapsed: 0:06:02.\n",
            "  Batch 2,440  of  5,820.    Elapsed: 0:06:08.\n",
            "  Batch 2,480  of  5,820.    Elapsed: 0:06:14.\n",
            "  Batch 2,520  of  5,820.    Elapsed: 0:06:20.\n",
            "  Batch 2,560  of  5,820.    Elapsed: 0:06:26.\n",
            "  Batch 2,600  of  5,820.    Elapsed: 0:06:32.\n",
            "  Batch 2,640  of  5,820.    Elapsed: 0:06:38.\n",
            "  Batch 2,680  of  5,820.    Elapsed: 0:06:44.\n",
            "  Batch 2,720  of  5,820.    Elapsed: 0:06:51.\n",
            "  Batch 2,760  of  5,820.    Elapsed: 0:06:57.\n",
            "  Batch 2,800  of  5,820.    Elapsed: 0:07:03.\n",
            "  Batch 2,840  of  5,820.    Elapsed: 0:07:09.\n",
            "  Batch 2,880  of  5,820.    Elapsed: 0:07:15.\n",
            "  Batch 2,920  of  5,820.    Elapsed: 0:07:21.\n",
            "  Batch 2,960  of  5,820.    Elapsed: 0:07:27.\n",
            "  Batch 3,000  of  5,820.    Elapsed: 0:07:33.\n",
            "  Batch 3,040  of  5,820.    Elapsed: 0:07:39.\n",
            "  Batch 3,080  of  5,820.    Elapsed: 0:07:45.\n",
            "  Batch 3,120  of  5,820.    Elapsed: 0:07:51.\n",
            "  Batch 3,160  of  5,820.    Elapsed: 0:07:57.\n",
            "  Batch 3,200  of  5,820.    Elapsed: 0:08:03.\n",
            "  Batch 3,240  of  5,820.    Elapsed: 0:08:09.\n",
            "  Batch 3,280  of  5,820.    Elapsed: 0:08:15.\n",
            "  Batch 3,320  of  5,820.    Elapsed: 0:08:21.\n",
            "  Batch 3,360  of  5,820.    Elapsed: 0:08:27.\n",
            "  Batch 3,400  of  5,820.    Elapsed: 0:08:33.\n",
            "  Batch 3,440  of  5,820.    Elapsed: 0:08:39.\n",
            "  Batch 3,480  of  5,820.    Elapsed: 0:08:46.\n",
            "  Batch 3,520  of  5,820.    Elapsed: 0:08:52.\n",
            "  Batch 3,560  of  5,820.    Elapsed: 0:08:58.\n",
            "  Batch 3,600  of  5,820.    Elapsed: 0:09:04.\n",
            "  Batch 3,640  of  5,820.    Elapsed: 0:09:10.\n",
            "  Batch 3,680  of  5,820.    Elapsed: 0:09:16.\n",
            "  Batch 3,720  of  5,820.    Elapsed: 0:09:22.\n",
            "  Batch 3,760  of  5,820.    Elapsed: 0:09:28.\n",
            "  Batch 3,800  of  5,820.    Elapsed: 0:09:34.\n",
            "  Batch 3,840  of  5,820.    Elapsed: 0:09:40.\n",
            "  Batch 3,880  of  5,820.    Elapsed: 0:09:46.\n",
            "  Batch 3,920  of  5,820.    Elapsed: 0:09:52.\n",
            "  Batch 3,960  of  5,820.    Elapsed: 0:09:58.\n",
            "  Batch 4,000  of  5,820.    Elapsed: 0:10:04.\n",
            "  Batch 4,040  of  5,820.    Elapsed: 0:10:10.\n",
            "  Batch 4,080  of  5,820.    Elapsed: 0:10:16.\n",
            "  Batch 4,120  of  5,820.    Elapsed: 0:10:22.\n",
            "  Batch 4,160  of  5,820.    Elapsed: 0:10:28.\n",
            "  Batch 4,200  of  5,820.    Elapsed: 0:10:35.\n",
            "  Batch 4,240  of  5,820.    Elapsed: 0:10:41.\n",
            "  Batch 4,280  of  5,820.    Elapsed: 0:10:47.\n",
            "  Batch 4,320  of  5,820.    Elapsed: 0:10:53.\n",
            "  Batch 4,360  of  5,820.    Elapsed: 0:10:59.\n",
            "  Batch 4,400  of  5,820.    Elapsed: 0:11:05.\n",
            "  Batch 4,440  of  5,820.    Elapsed: 0:11:11.\n",
            "  Batch 4,480  of  5,820.    Elapsed: 0:11:17.\n",
            "  Batch 4,520  of  5,820.    Elapsed: 0:11:23.\n",
            "  Batch 4,560  of  5,820.    Elapsed: 0:11:29.\n",
            "  Batch 4,600  of  5,820.    Elapsed: 0:11:35.\n",
            "  Batch 4,640  of  5,820.    Elapsed: 0:11:41.\n",
            "  Batch 4,680  of  5,820.    Elapsed: 0:11:47.\n",
            "  Batch 4,720  of  5,820.    Elapsed: 0:11:53.\n",
            "  Batch 4,760  of  5,820.    Elapsed: 0:11:59.\n",
            "  Batch 4,800  of  5,820.    Elapsed: 0:12:05.\n",
            "  Batch 4,840  of  5,820.    Elapsed: 0:12:11.\n",
            "  Batch 4,880  of  5,820.    Elapsed: 0:12:17.\n",
            "  Batch 4,920  of  5,820.    Elapsed: 0:12:23.\n",
            "  Batch 4,960  of  5,820.    Elapsed: 0:12:29.\n",
            "  Batch 5,000  of  5,820.    Elapsed: 0:12:35.\n",
            "  Batch 5,040  of  5,820.    Elapsed: 0:12:42.\n",
            "  Batch 5,080  of  5,820.    Elapsed: 0:12:48.\n",
            "  Batch 5,120  of  5,820.    Elapsed: 0:12:54.\n",
            "  Batch 5,160  of  5,820.    Elapsed: 0:13:00.\n",
            "  Batch 5,200  of  5,820.    Elapsed: 0:13:06.\n",
            "  Batch 5,240  of  5,820.    Elapsed: 0:13:12.\n",
            "  Batch 5,280  of  5,820.    Elapsed: 0:13:18.\n",
            "  Batch 5,320  of  5,820.    Elapsed: 0:13:24.\n",
            "  Batch 5,360  of  5,820.    Elapsed: 0:13:30.\n",
            "  Batch 5,400  of  5,820.    Elapsed: 0:13:36.\n",
            "  Batch 5,440  of  5,820.    Elapsed: 0:13:42.\n",
            "  Batch 5,480  of  5,820.    Elapsed: 0:13:48.\n",
            "  Batch 5,520  of  5,820.    Elapsed: 0:13:54.\n",
            "  Batch 5,560  of  5,820.    Elapsed: 0:14:00.\n",
            "  Batch 5,600  of  5,820.    Elapsed: 0:14:06.\n",
            "  Batch 5,640  of  5,820.    Elapsed: 0:14:12.\n",
            "  Batch 5,680  of  5,820.    Elapsed: 0:14:18.\n",
            "  Batch 5,720  of  5,820.    Elapsed: 0:14:24.\n",
            "  Batch 5,760  of  5,820.    Elapsed: 0:14:30.\n",
            "  Batch 5,800  of  5,820.    Elapsed: 0:14:36.\n"
          ]
        },
        {
          "output_type": "execute_result",
          "data": {
            "text/plain": [
              "[{'Test Loss': 0.056949202388161264,\n",
              "  'Test PPL.': 1.058602034574426,\n",
              "  'Test Acc.': 0.925805412371134,\n",
              "  'Test F1': 0.9196260505309629}]"
            ]
          },
          "metadata": {},
          "execution_count": 120
        }
      ]
    },
    {
      "cell_type": "code",
      "source": [
        "df_test_stats = pd.DataFrame(data=test_stats)\n",
        "print(df_test_stats)"
      ],
      "metadata": {
        "colab": {
          "base_uri": "https://localhost:8080/"
        },
        "id": "-NWm8mtgiN4I",
        "outputId": "8444f03a-c39e-49d2-ecc1-11167475c614"
      },
      "execution_count": 121,
      "outputs": [
        {
          "output_type": "stream",
          "name": "stdout",
          "text": [
            "   Test Loss  Test PPL.  Test Acc.  Test F1\n",
            "0      0.057      1.059      0.926     0.92\n"
          ]
        }
      ]
    },
    {
      "cell_type": "code",
      "source": [
        "print(df2.head(50))"
      ],
      "metadata": {
        "colab": {
          "base_uri": "https://localhost:8080/"
        },
        "id": "wAQ_5yTUiQnp",
        "outputId": "b0952af7-ac16-46a2-92e7-2fecf78d9151"
      },
      "execution_count": 122,
      "outputs": [
        {
          "output_type": "stream",
          "name": "stdout",
          "text": [
            "   predicted actual\n",
            "0       ENFP   ENFP\n",
            "1       ENFJ   ENFJ\n",
            "2       INTP   INTP\n",
            "3       INTP   INTP\n",
            "4       ESFJ   ESFJ\n",
            "5       ENTP   ENTP\n",
            "6       INFP   INFP\n",
            "7       INFP   INFP\n",
            "8       INFP   INFP\n",
            "9       INFJ   INFJ\n",
            "10      ENFP   ENFP\n",
            "11      ESFP   ESFP\n",
            "12      ISFJ   ISFJ\n",
            "13      ISTP   ISTP\n",
            "14      INTJ   INTJ\n",
            "15      ENFP   ENFP\n",
            "16      ESTJ   ESTJ\n",
            "17      INFJ   INFJ\n",
            "18      INFJ   INFJ\n",
            "19      ENFP   ENFP\n",
            "20      ESTJ   ESTJ\n",
            "21      ESFP   ESFP\n",
            "22      ENFP   ENFP\n",
            "23      ESTJ   ESTJ\n",
            "24      INTP   INTP\n",
            "25      INTJ   INTJ\n",
            "26      INTP   INTP\n",
            "27      ISTP   ISTP\n",
            "28      ISFP   ISFP\n",
            "29      INTJ   INTJ\n",
            "30      ISFP   ISFP\n",
            "31      ISTP   ISTP\n",
            "32      ISTJ   INFJ\n",
            "33      ENFP   ENFP\n",
            "34      INFJ   ENFJ\n",
            "35      INTJ   INTJ\n",
            "36      INFJ   INFJ\n",
            "37      ENFP   ENFP\n",
            "38      ESFJ   ESFJ\n",
            "39      ISTP   ISTP\n",
            "40      ENFP   ENFP\n",
            "41      ENTJ   ENTJ\n",
            "42      ENTP   ENTP\n",
            "43      INFP   INFP\n",
            "44      ENTJ   ENTJ\n",
            "45      ISFP   ISFP\n",
            "46      ISFP   ISFP\n",
            "47      INFJ   INFJ\n",
            "48      INTJ   INTJ\n",
            "49      INTP   INTP\n"
          ]
        }
      ]
    },
    {
      "cell_type": "markdown",
      "source": [
        "# Results Analysis"
      ],
      "metadata": {
        "id": "o78cDNA2cWy9"
      }
    },
    {
      "cell_type": "code",
      "source": [
        "# first look at the target labels for the test set\n",
        "# are there any invalid labels, and if so, are they in the predictions or the input?\n",
        "\n",
        "target_class_group = t5_test_df.groupby(['target_text']).count()\n",
        "\n",
        "print( \"t5 test target classes:\", target_class_group )\n",
        "\n",
        "predicted_class_group = df2.groupby(['predicted']).count()\n",
        "actual_class_group = df2.groupby(['actual']).count()\n",
        "\n",
        "print( \"predicted classes:\", predicted_class_group )\n",
        "print( \"actual classes:\", actual_class_group )\n",
        "\n",
        "\n",
        "# so the invalid classes are a result of prediction, not invalid inputs\n",
        "\n",
        "predicted_classes = [ ]\n",
        "\n",
        "for group in predicted_class_group:\n",
        "    print( group )\n"
      ],
      "metadata": {
        "colab": {
          "base_uri": "https://localhost:8080/"
        },
        "id": "XkjghJQJgRRn",
        "outputId": "fb311dc3-d0d7-4026-fbb6-8b69c92cddd3"
      },
      "execution_count": 123,
      "outputs": [
        {
          "output_type": "stream",
          "name": "stdout",
          "text": [
            "t5 test target classes:              input_text  prediction\n",
            "target_text                        \n",
            "ENFJ               2920           0\n",
            "ENFP              11048           0\n",
            "ENTJ               4186           0\n",
            "ENTP               8567           0\n",
            "ESFJ               2169           0\n",
            "ESFP               2126           0\n",
            "ESTJ               2243           0\n",
            "ESTP               1840           0\n",
            "INFJ               9275           0\n",
            "INFP              12497           0\n",
            "INTJ              12850           0\n",
            "INTP              12925           0\n",
            "ISFJ               1061           0\n",
            "ISFP               3946           0\n",
            "ISTJ               1877           0\n",
            "ISTP               3576           0\n",
            "predicted classes:            actual\n",
            "predicted        \n",
            "ENFJ         2914\n",
            "ENFP        10335\n",
            "ENTJ         4357\n",
            "ENTP         8797\n",
            "ESFJ         2146\n",
            "ESFP         2141\n",
            "ESTJ         2243\n",
            "ESTP         1912\n",
            "INFJ         8854\n",
            "INFP        11689\n",
            "INTJ        12092\n",
            "INTP        12250\n",
            "ISFJ         1226\n",
            "ISFP         3886\n",
            "ISTJ         2974\n",
            "ISTP         5290\n",
            "actual classes:         predicted\n",
            "actual           \n",
            "ENFJ         2920\n",
            "ENFP        11048\n",
            "ENTJ         4186\n",
            "ENTP         8567\n",
            "ESFJ         2169\n",
            "ESFP         2126\n",
            "ESTJ         2243\n",
            "ESTP         1840\n",
            "INFJ         9275\n",
            "INFP        12497\n",
            "INTJ        12850\n",
            "INTP        12925\n",
            "ISFJ         1061\n",
            "ISFP         3946\n",
            "ISTJ         1877\n",
            "ISTP         3576\n",
            "actual\n"
          ]
        }
      ]
    },
    {
      "cell_type": "code",
      "source": [
        "# create lists of predicted and actual class types for display\n",
        "\n",
        "predicted_classes = [ ]\n",
        "actual_classes = [ ]\n",
        "\n",
        "print( predicted_class_group )\n",
        "print( type( predicted_class_group))\n",
        "\n",
        "for row in predicted_class_group.iterrows():\n",
        "    print( row[0] )\n",
        "    predicted_classes.append(row[0])\n",
        "\n",
        "for row in actual_class_group.iterrows():\n",
        "    print( row[0] )\n",
        "    actual_classes.append(row[0])\n",
        "\n",
        "\n"
      ],
      "metadata": {
        "colab": {
          "base_uri": "https://localhost:8080/"
        },
        "id": "OHTLehsLmQai",
        "outputId": "6458c4e0-c269-4323-ea6b-d8c8016274c9"
      },
      "execution_count": 180,
      "outputs": [
        {
          "output_type": "stream",
          "name": "stdout",
          "text": [
            "           actual\n",
            "predicted        \n",
            "ENFJ         2914\n",
            "ENFP        10335\n",
            "ENTJ         4357\n",
            "ENTP         8797\n",
            "ESFJ         2146\n",
            "ESFP         2141\n",
            "ESTJ         2243\n",
            "ESTP         1912\n",
            "INFJ         8854\n",
            "INFP        11689\n",
            "INTJ        12092\n",
            "INTP        12250\n",
            "ISFJ         1226\n",
            "ISFP         3886\n",
            "ISTJ         2974\n",
            "ISTP         5290\n",
            "<class 'pandas.core.frame.DataFrame'>\n",
            "ENFJ\n",
            "ENFP\n",
            "ENTJ\n",
            "ENTP\n",
            "ESFJ\n",
            "ESFP\n",
            "ESTJ\n",
            "ESTP\n",
            "INFJ\n",
            "INFP\n",
            "INTJ\n",
            "INTP\n",
            "ISFJ\n",
            "ISFP\n",
            "ISTJ\n",
            "ISTP\n",
            "ENFJ\n",
            "ENFP\n",
            "ENTJ\n",
            "ENTP\n",
            "ESFJ\n",
            "ESFP\n",
            "ESTJ\n",
            "ESTP\n",
            "INFJ\n",
            "INFP\n",
            "INTJ\n",
            "INTP\n",
            "ISFJ\n",
            "ISFP\n",
            "ISTJ\n",
            "ISTP\n"
          ]
        }
      ]
    },
    {
      "cell_type": "code",
      "source": [
        "# check to see if we got any unknown class types, and if so what percentage of the results they account for\n",
        "unknown_class_count = 0\n",
        "\n",
        "predicted_values = []\n",
        "actual_values = []\n",
        "\n",
        "columns = list(df2)\n",
        "for i in range( 0, df2.shape[0]):\n",
        "    if df2.iloc[i][0] not in actual_classes:\n",
        "        print( \"row:\", i, \"predicted:\", df2.iloc[i][0] , \"actual:\", df2.iloc[i][1])\n",
        "        unknown_class_count = unknown_class_count + 1\n",
        "    else:\n",
        "        predicted_values.append(df2.iloc[i][0])\n",
        "        actual_values.append( df2.iloc[i][1])\n",
        "\n",
        "print( \"Percentage of predictions outside of class set:\", 100*unknown_class_count/ df2.shape[0])\n"
      ],
      "metadata": {
        "colab": {
          "base_uri": "https://localhost:8080/"
        },
        "id": "IPZKSOJ_oyt9",
        "outputId": "d8deb1bd-70b7-4de6-e05a-9c81e10023f4"
      },
      "execution_count": 181,
      "outputs": [
        {
          "output_type": "stream",
          "name": "stdout",
          "text": [
            "Percentage of predictions outside of class set: 0.0\n"
          ]
        }
      ]
    },
    {
      "cell_type": "code",
      "source": [
        "print( len(actual_classes))"
      ],
      "metadata": {
        "id": "rbIbjJauI3Ke",
        "outputId": "3dc056f6-8bb4-403d-f7d6-d85f578bc1e4",
        "colab": {
          "base_uri": "https://localhost:8080/"
        }
      },
      "execution_count": 185,
      "outputs": [
        {
          "output_type": "stream",
          "name": "stdout",
          "text": [
            "16\n"
          ]
        }
      ]
    },
    {
      "cell_type": "markdown",
      "source": [
        "### Earlier runs of the t5-small model with just a single epoch were returning some class types that were invalid.  Increasing the training to 4 epochs eliminated this problem."
      ],
      "metadata": {
        "id": "CcvdKdRKIG-B"
      }
    },
    {
      "cell_type": "code",
      "source": [
        "from sklearn.metrics import confusion_matrix\n",
        "\n",
        "\n",
        "def document_multimodel_run( model_type,\n",
        "                            mbti_model,\n",
        "                            predicted_results,\n",
        "                            predicted_labels,\n",
        "                            actual_values,\n",
        "                            actual_labels ):\n",
        "\n",
        "\n",
        " \n",
        "   #Multiclass classification\n",
        "  print(classification_report(actual_values, predicted_results))\n",
        "\n",
        "  cr_multi = classification_report(actual_values, predicted_results)\n",
        "\n",
        "  cm_multi = confusion_matrix(actual_values, predicted_results)\n",
        "  cm_multi = cm_multi/cm_multi.sum(axis=1)[:,np.newaxis]\n",
        "\n",
        "  plt.figure(figsize=(len(predicted_labels),len(actual_labels)))\n",
        "  sns.heatmap(\n",
        "      cm_multi, annot=True, annot_kws={\"size\": 10},\n",
        "      xticklabels=predicted_labels,\n",
        "      yticklabels=actual_labels)\n",
        "  plt.xlabel(\"Predicted\", fontsize=20)\n",
        "  plt.ylabel(\"True\", fontsize=20)\n",
        "\n",
        "  "
      ],
      "metadata": {
        "id": "RyyMrKNIO99h"
      },
      "execution_count": 198,
      "outputs": []
    },
    {
      "cell_type": "markdown",
      "source": [
        "Run the classification and confusion matrix after filtering out invalid predictions."
      ],
      "metadata": {
        "id": "m67dqorpyv6R"
      }
    },
    {
      "cell_type": "code",
      "source": [
        "document_multimodel_run('mbti_t5_model',\n",
        "                         model,\n",
        "                         predicted_values,\n",
        "                         actual_classes,\n",
        "                         actual_values,\n",
        "                         actual_classes )\n",
        "\n",
        "\n"
      ],
      "metadata": {
        "id": "mqiJ3qQ7azol",
        "colab": {
          "base_uri": "https://localhost:8080/",
          "height": 1000
        },
        "outputId": "8daded70-23d4-45b1-ab25-a27d28d00777"
      },
      "execution_count": 199,
      "outputs": [
        {
          "output_type": "stream",
          "name": "stdout",
          "text": [
            "              precision    recall  f1-score   support\n",
            "\n",
            "        ENFJ       0.95      0.95      0.95      2920\n",
            "        ENFP       0.98      0.92      0.95     11048\n",
            "        ENTJ       0.93      0.96      0.94      4186\n",
            "        ENTP       0.92      0.94      0.93      8567\n",
            "        ESFJ       1.00      0.99      0.99      2169\n",
            "        ESFP       0.98      0.98      0.98      2126\n",
            "        ESTJ       0.99      0.99      0.99      2243\n",
            "        ESTP       0.94      0.98      0.96      1840\n",
            "        INFJ       0.93      0.89      0.91      9275\n",
            "        INFP       0.95      0.89      0.92     12497\n",
            "        INTJ       0.98      0.92      0.95     12850\n",
            "        INTP       0.95      0.90      0.93     12925\n",
            "        ISFJ       0.82      0.95      0.88      1061\n",
            "        ISFP       0.97      0.96      0.96      3946\n",
            "        ISTJ       0.62      0.98      0.76      1877\n",
            "        ISTP       0.66      0.97      0.78      3576\n",
            "\n",
            "    accuracy                           0.93     93106\n",
            "   macro avg       0.91      0.95      0.92     93106\n",
            "weighted avg       0.94      0.93      0.93     93106\n",
            "\n"
          ]
        },
        {
          "output_type": "display_data",
          "data": {
            "text/plain": [
              "<Figure size 1152x1152 with 2 Axes>"
            ],
            "image/png": "[encoded data removed]"
          },
          "metadata": {}
        }
      ]
    },
    {
      "cell_type": "markdown",
      "source": [
        "# Error Analysis"
      ],
      "metadata": {
        "id": "gWd7gkkYxB7g"
      }
    },
    {
      "cell_type": "code",
      "source": [
        "test_df = test_df[['Username','Age','Posts','Occupation','message','combined']]\n",
        "test_df.head()"
      ],
      "metadata": {
        "colab": {
          "base_uri": "https://localhost:8080/",
          "height": 206
        },
        "id": "XIMOYPCx-oRe",
        "outputId": "7b62f7c7-7070-4eba-df14-2b42c911a082"
      },
      "execution_count": 142,
      "outputs": [
        {
          "output_type": "execute_result",
          "data": {
            "text/plain": [
              "                  Username   Age  Posts               Occupation  \\\n",
              "1400000             laurie  49.0   6072                     nada   \n",
              "1400001  searchingforpeace  52.0   5569                     None   \n",
              "1400002          anonymous  33.0    605                     None   \n",
              "1400003             eric b  56.0   3620          subway motorman   \n",
              "1400004               yama  28.0   7684  microbiology technician   \n",
              "\n",
              "                                                   message  \\\n",
              "1400000                                        i liked it.   \n",
              "1400001                                     nope just why?   \n",
              "1400002    heh, why n? he comes across as an enforcer o...   \n",
              "1400003  ^ i think so too!! tyrion and brienne are both...   \n",
              "1400004  [mentionYYYYYYYYYYYYYYY]forever[/mention] here...   \n",
              "\n",
              "                                                  combined  \n",
              "1400000  multilabel classification: laurie </s>49.0 </s...  \n",
              "1400001  multilabel classification: searchingforpeace <...  \n",
              "1400002  multilabel classification: anonymous </s>33.0 ...  \n",
              "1400003  multilabel classification: eric b </s>56.0 </s...  \n",
              "1400004  multilabel classification: yama </s>28.0 </s>7...  "
            ],
            "text/html": [
              "\n",
              "  <div id=\"df-072dcd95-461f-4398-b66b-c598e1032978\">\n",
              "    <div class=\"colab-df-container\">\n",
              "      <div>\n",
              "<style scoped>\n",
              "    .dataframe tbody tr th:only-of-type {\n",
              "        vertical-align: middle;\n",
              "    }\n",
              "\n",
              "    .dataframe tbody tr th {\n",
              "        vertical-align: top;\n",
              "    }\n",
              "\n",
              "    .dataframe thead th {\n",
              "        text-align: right;\n",
              "    }\n",
              "</style>\n",
              "<table border=\"1\" class=\"dataframe\">\n",
              "  <thead>\n",
              "    <tr style=\"text-align: right;\">\n",
              "      <th></th>\n",
              "      <th>Username</th>\n",
              "      <th>Age</th>\n",
              "      <th>Posts</th>\n",
              "      <th>Occupation</th>\n",
              "      <th>message</th>\n",
              "      <th>combined</th>\n",
              "    </tr>\n",
              "  </thead>\n",
              "  <tbody>\n",
              "    <tr>\n",
              "      <th>1400000</th>\n",
              "      <td>laurie</td>\n",
              "      <td>49.0</td>\n",
              "      <td>6072</td>\n",
              "      <td>nada</td>\n",
              "      <td>i liked it.</td>\n",
              "      <td>multilabel classification: laurie &lt;/s&gt;49.0 &lt;/s...</td>\n",
              "    </tr>\n",
              "    <tr>\n",
              "      <th>1400001</th>\n",
              "      <td>searchingforpeace</td>\n",
              "      <td>52.0</td>\n",
              "      <td>5569</td>\n",
              "      <td>None</td>\n",
              "      <td>nope just why?</td>\n",
              "      <td>multilabel classification: searchingforpeace &lt;...</td>\n",
              "    </tr>\n",
              "    <tr>\n",
              "      <th>1400002</th>\n",
              "      <td>anonymous</td>\n",
              "      <td>33.0</td>\n",
              "      <td>605</td>\n",
              "      <td>None</td>\n",
              "      <td>heh, why n? he comes across as an enforcer o...</td>\n",
              "      <td>multilabel classification: anonymous &lt;/s&gt;33.0 ...</td>\n",
              "    </tr>\n",
              "    <tr>\n",
              "      <th>1400003</th>\n",
              "      <td>eric b</td>\n",
              "      <td>56.0</td>\n",
              "      <td>3620</td>\n",
              "      <td>subway motorman</td>\n",
              "      <td>^ i think so too!! tyrion and brienne are both...</td>\n",
              "      <td>multilabel classification: eric b &lt;/s&gt;56.0 &lt;/s...</td>\n",
              "    </tr>\n",
              "    <tr>\n",
              "      <th>1400004</th>\n",
              "      <td>yama</td>\n",
              "      <td>28.0</td>\n",
              "      <td>7684</td>\n",
              "      <td>microbiology technician</td>\n",
              "      <td>[mentionYYYYYYYYYYYYYYY]forever[/mention] here...</td>\n",
              "      <td>multilabel classification: yama &lt;/s&gt;28.0 &lt;/s&gt;7...</td>\n",
              "    </tr>\n",
              "  </tbody>\n",
              "</table>\n",
              "</div>\n",
              "      <button class=\"colab-df-convert\" onclick=\"convertToInteractive('df-072dcd95-461f-4398-b66b-c598e1032978')\"\n",
              "              title=\"Convert this dataframe to an interactive table.\"\n",
              "              style=\"display:none;\">\n",
              "        \n",
              "  <svg xmlns=\"http://www.w3.org/2000/svg\" height=\"24px\"viewBox=\"0 0 24 24\"\n",
              "       width=\"24px\">\n",
              "    <path d=\"M0 0h24v24H0V0z\" fill=\"none\"/>\n",
              "    <path d=\"M18.56 5.44l.94 2.06.94-2.06 2.06-.94-2.06-.94-.94-2.06-.94 2.06-2.06.94zm-11 1L8.5 8.5l.94-2.06 2.06-.94-2.06-.94L8.5 2.5l-.94 2.06-2.06.94zm10 10l.94 2.06.94-2.06 2.06-.94-2.06-.94-.94-2.06-.94 2.06-2.06.94z\"/><path d=\"M17.41 7.96l-1.37-1.37c-.4-.4-.92-.59-1.43-.59-.52 0-1.04.2-1.43.59L10.3 9.45l-7.72 7.72c-.78.78-.78 2.05 0 2.83L4 21.41c.39.39.9.59 1.41.59.51 0 1.02-.2 1.41-.59l7.78-7.78 2.81-2.81c.8-.78.8-2.07 0-2.86zM5.41 20L4 18.59l7.72-7.72 1.47 1.35L5.41 20z\"/>\n",
              "  </svg>\n",
              "      </button>\n",
              "      \n",
              "  <style>\n",
              "    .colab-df-container {\n",
              "      display:flex;\n",
              "      flex-wrap:wrap;\n",
              "      gap: 12px;\n",
              "    }\n",
              "\n",
              "    .colab-df-convert {\n",
              "      background-color: #E8F0FE;\n",
              "      border: none;\n",
              "      border-radius: 50%;\n",
              "      cursor: pointer;\n",
              "      display: none;\n",
              "      fill: #1967D2;\n",
              "      height: 32px;\n",
              "      padding: 0 0 0 0;\n",
              "      width: 32px;\n",
              "    }\n",
              "\n",
              "    .colab-df-convert:hover {\n",
              "      background-color: #E2EBFA;\n",
              "      box-shadow: 0px 1px 2px rgba(60, 64, 67, 0.3), 0px 1px 3px 1px rgba(60, 64, 67, 0.15);\n",
              "      fill: #174EA6;\n",
              "    }\n",
              "\n",
              "    [theme=dark] .colab-df-convert {\n",
              "      background-color: #3B4455;\n",
              "      fill: #D2E3FC;\n",
              "    }\n",
              "\n",
              "    [theme=dark] .colab-df-convert:hover {\n",
              "      background-color: #434B5C;\n",
              "      box-shadow: 0px 1px 3px 1px rgba(0, 0, 0, 0.15);\n",
              "      filter: drop-shadow(0px 1px 2px rgba(0, 0, 0, 0.3));\n",
              "      fill: #FFFFFF;\n",
              "    }\n",
              "  </style>\n",
              "\n",
              "      <script>\n",
              "        const buttonEl =\n",
              "          document.querySelector('#df-072dcd95-461f-4398-b66b-c598e1032978 button.colab-df-convert');\n",
              "        buttonEl.style.display =\n",
              "          google.colab.kernel.accessAllowed ? 'block' : 'none';\n",
              "\n",
              "        async function convertToInteractive(key) {\n",
              "          const element = document.querySelector('#df-072dcd95-461f-4398-b66b-c598e1032978');\n",
              "          const dataTable =\n",
              "            await google.colab.kernel.invokeFunction('convertToInteractive',\n",
              "                                                     [key], {});\n",
              "          if (!dataTable) return;\n",
              "\n",
              "          const docLinkHtml = 'Like what you see? Visit the ' +\n",
              "            '<a target=\"_blank\" href=https://colab.research.google.com/notebooks/data_table.ipynb>data table notebook</a>'\n",
              "            + ' to learn more about interactive tables.';\n",
              "          element.innerHTML = '';\n",
              "          dataTable['output_type'] = 'display_data';\n",
              "          await google.colab.output.renderOutput(dataTable, element);\n",
              "          const docLink = document.createElement('div');\n",
              "          docLink.innerHTML = docLinkHtml;\n",
              "          element.appendChild(docLink);\n",
              "        }\n",
              "      </script>\n",
              "    </div>\n",
              "  </div>\n",
              "  "
            ]
          },
          "metadata": {},
          "execution_count": 142
        }
      ]
    },
    {
      "cell_type": "code",
      "source": [
        "test_df.shape"
      ],
      "metadata": {
        "colab": {
          "base_uri": "https://localhost:8080/"
        },
        "id": "lnEmw0ZHBHQ5",
        "outputId": "73ac693f-0aa0-4c84-e327-b2d47a225b4d"
      },
      "execution_count": 139,
      "outputs": [
        {
          "output_type": "execute_result",
          "data": {
            "text/plain": [
              "(93106, 6)"
            ]
          },
          "metadata": {},
          "execution_count": 139
        }
      ]
    },
    {
      "cell_type": "code",
      "source": [
        "df2.head()"
      ],
      "metadata": {
        "colab": {
          "base_uri": "https://localhost:8080/",
          "height": 206
        },
        "id": "vLtHEq6cw_k-",
        "outputId": "d77382d5-512f-40c2-ad75-76897c3969f5"
      },
      "execution_count": 137,
      "outputs": [
        {
          "output_type": "execute_result",
          "data": {
            "text/plain": [
              "  predicted actual\n",
              "0      ENFP   ENFP\n",
              "1      ENFJ   ENFJ\n",
              "2      INTP   INTP\n",
              "3      INTP   INTP\n",
              "4      ESFJ   ESFJ"
            ],
            "text/html": [
              "\n",
              "  <div id=\"df-e773b0d6-f641-4853-a340-51181a401d82\">\n",
              "    <div class=\"colab-df-container\">\n",
              "      <div>\n",
              "<style scoped>\n",
              "    .dataframe tbody tr th:only-of-type {\n",
              "        vertical-align: middle;\n",
              "    }\n",
              "\n",
              "    .dataframe tbody tr th {\n",
              "        vertical-align: top;\n",
              "    }\n",
              "\n",
              "    .dataframe thead th {\n",
              "        text-align: right;\n",
              "    }\n",
              "</style>\n",
              "<table border=\"1\" class=\"dataframe\">\n",
              "  <thead>\n",
              "    <tr style=\"text-align: right;\">\n",
              "      <th></th>\n",
              "      <th>predicted</th>\n",
              "      <th>actual</th>\n",
              "    </tr>\n",
              "  </thead>\n",
              "  <tbody>\n",
              "    <tr>\n",
              "      <th>0</th>\n",
              "      <td>ENFP</td>\n",
              "      <td>ENFP</td>\n",
              "    </tr>\n",
              "    <tr>\n",
              "      <th>1</th>\n",
              "      <td>ENFJ</td>\n",
              "      <td>ENFJ</td>\n",
              "    </tr>\n",
              "    <tr>\n",
              "      <th>2</th>\n",
              "      <td>INTP</td>\n",
              "      <td>INTP</td>\n",
              "    </tr>\n",
              "    <tr>\n",
              "      <th>3</th>\n",
              "      <td>INTP</td>\n",
              "      <td>INTP</td>\n",
              "    </tr>\n",
              "    <tr>\n",
              "      <th>4</th>\n",
              "      <td>ESFJ</td>\n",
              "      <td>ESFJ</td>\n",
              "    </tr>\n",
              "  </tbody>\n",
              "</table>\n",
              "</div>\n",
              "      <button class=\"colab-df-convert\" onclick=\"convertToInteractive('df-e773b0d6-f641-4853-a340-51181a401d82')\"\n",
              "              title=\"Convert this dataframe to an interactive table.\"\n",
              "              style=\"display:none;\">\n",
              "        \n",
              "  <svg xmlns=\"http://www.w3.org/2000/svg\" height=\"24px\"viewBox=\"0 0 24 24\"\n",
              "       width=\"24px\">\n",
              "    <path d=\"M0 0h24v24H0V0z\" fill=\"none\"/>\n",
              "    <path d=\"M18.56 5.44l.94 2.06.94-2.06 2.06-.94-2.06-.94-.94-2.06-.94 2.06-2.06.94zm-11 1L8.5 8.5l.94-2.06 2.06-.94-2.06-.94L8.5 2.5l-.94 2.06-2.06.94zm10 10l.94 2.06.94-2.06 2.06-.94-2.06-.94-.94-2.06-.94 2.06-2.06.94z\"/><path d=\"M17.41 7.96l-1.37-1.37c-.4-.4-.92-.59-1.43-.59-.52 0-1.04.2-1.43.59L10.3 9.45l-7.72 7.72c-.78.78-.78 2.05 0 2.83L4 21.41c.39.39.9.59 1.41.59.51 0 1.02-.2 1.41-.59l7.78-7.78 2.81-2.81c.8-.78.8-2.07 0-2.86zM5.41 20L4 18.59l7.72-7.72 1.47 1.35L5.41 20z\"/>\n",
              "  </svg>\n",
              "      </button>\n",
              "      \n",
              "  <style>\n",
              "    .colab-df-container {\n",
              "      display:flex;\n",
              "      flex-wrap:wrap;\n",
              "      gap: 12px;\n",
              "    }\n",
              "\n",
              "    .colab-df-convert {\n",
              "      background-color: #E8F0FE;\n",
              "      border: none;\n",
              "      border-radius: 50%;\n",
              "      cursor: pointer;\n",
              "      display: none;\n",
              "      fill: #1967D2;\n",
              "      height: 32px;\n",
              "      padding: 0 0 0 0;\n",
              "      width: 32px;\n",
              "    }\n",
              "\n",
              "    .colab-df-convert:hover {\n",
              "      background-color: #E2EBFA;\n",
              "      box-shadow: 0px 1px 2px rgba(60, 64, 67, 0.3), 0px 1px 3px 1px rgba(60, 64, 67, 0.15);\n",
              "      fill: #174EA6;\n",
              "    }\n",
              "\n",
              "    [theme=dark] .colab-df-convert {\n",
              "      background-color: #3B4455;\n",
              "      fill: #D2E3FC;\n",
              "    }\n",
              "\n",
              "    [theme=dark] .colab-df-convert:hover {\n",
              "      background-color: #434B5C;\n",
              "      box-shadow: 0px 1px 3px 1px rgba(0, 0, 0, 0.15);\n",
              "      filter: drop-shadow(0px 1px 2px rgba(0, 0, 0, 0.3));\n",
              "      fill: #FFFFFF;\n",
              "    }\n",
              "  </style>\n",
              "\n",
              "      <script>\n",
              "        const buttonEl =\n",
              "          document.querySelector('#df-e773b0d6-f641-4853-a340-51181a401d82 button.colab-df-convert');\n",
              "        buttonEl.style.display =\n",
              "          google.colab.kernel.accessAllowed ? 'block' : 'none';\n",
              "\n",
              "        async function convertToInteractive(key) {\n",
              "          const element = document.querySelector('#df-e773b0d6-f641-4853-a340-51181a401d82');\n",
              "          const dataTable =\n",
              "            await google.colab.kernel.invokeFunction('convertToInteractive',\n",
              "                                                     [key], {});\n",
              "          if (!dataTable) return;\n",
              "\n",
              "          const docLinkHtml = 'Like what you see? Visit the ' +\n",
              "            '<a target=\"_blank\" href=https://colab.research.google.com/notebooks/data_table.ipynb>data table notebook</a>'\n",
              "            + ' to learn more about interactive tables.';\n",
              "          element.innerHTML = '';\n",
              "          dataTable['output_type'] = 'display_data';\n",
              "          await google.colab.output.renderOutput(dataTable, element);\n",
              "          const docLink = document.createElement('div');\n",
              "          docLink.innerHTML = docLinkHtml;\n",
              "          element.appendChild(docLink);\n",
              "        }\n",
              "      </script>\n",
              "    </div>\n",
              "  </div>\n",
              "  "
            ]
          },
          "metadata": {},
          "execution_count": 137
        }
      ]
    },
    {
      "cell_type": "code",
      "source": [
        "test_df['predicted'] = df2['predicted'].to_list()"
      ],
      "metadata": {
        "id": "_IyLdYQ-yH1f"
      },
      "execution_count": 145,
      "outputs": []
    },
    {
      "cell_type": "code",
      "source": [
        "test_df['label'] = df2['actual'].to_list()"
      ],
      "metadata": {
        "id": "0xiOdo99C1Gf"
      },
      "execution_count": 147,
      "outputs": []
    },
    {
      "cell_type": "code",
      "source": [
        "test_df.head()"
      ],
      "metadata": {
        "colab": {
          "base_uri": "https://localhost:8080/",
          "height": 337
        },
        "id": "YKwzCRq7184f",
        "outputId": "0d470c4a-d3f4-4cb2-aa07-440f748c5640"
      },
      "execution_count": 148,
      "outputs": [
        {
          "output_type": "execute_result",
          "data": {
            "text/plain": [
              "                  Username   Age  Posts               Occupation  \\\n",
              "1400000             laurie  49.0   6072                     nada   \n",
              "1400001  searchingforpeace  52.0   5569                     None   \n",
              "1400002          anonymous  33.0    605                     None   \n",
              "1400003             eric b  56.0   3620          subway motorman   \n",
              "1400004               yama  28.0   7684  microbiology technician   \n",
              "\n",
              "                                                   message  \\\n",
              "1400000                                        i liked it.   \n",
              "1400001                                     nope just why?   \n",
              "1400002    heh, why n? he comes across as an enforcer o...   \n",
              "1400003  ^ i think so too!! tyrion and brienne are both...   \n",
              "1400004  [mentionYYYYYYYYYYYYYYY]forever[/mention] here...   \n",
              "\n",
              "                                                  combined predicted label  \n",
              "1400000  multilabel classification: laurie </s>49.0 </s...      ENFP  ENFP  \n",
              "1400001  multilabel classification: searchingforpeace <...      ENFJ  ENFJ  \n",
              "1400002  multilabel classification: anonymous </s>33.0 ...      INTP  INTP  \n",
              "1400003  multilabel classification: eric b </s>56.0 </s...      INTP  INTP  \n",
              "1400004  multilabel classification: yama </s>28.0 </s>7...      ESFJ  ESFJ  "
            ],
            "text/html": [
              "\n",
              "  <div id=\"df-5465c466-8e95-4cf7-85f4-1b80df511c6f\">\n",
              "    <div class=\"colab-df-container\">\n",
              "      <div>\n",
              "<style scoped>\n",
              "    .dataframe tbody tr th:only-of-type {\n",
              "        vertical-align: middle;\n",
              "    }\n",
              "\n",
              "    .dataframe tbody tr th {\n",
              "        vertical-align: top;\n",
              "    }\n",
              "\n",
              "    .dataframe thead th {\n",
              "        text-align: right;\n",
              "    }\n",
              "</style>\n",
              "<table border=\"1\" class=\"dataframe\">\n",
              "  <thead>\n",
              "    <tr style=\"text-align: right;\">\n",
              "      <th></th>\n",
              "      <th>Username</th>\n",
              "      <th>Age</th>\n",
              "      <th>Posts</th>\n",
              "      <th>Occupation</th>\n",
              "      <th>message</th>\n",
              "      <th>combined</th>\n",
              "      <th>predicted</th>\n",
              "      <th>label</th>\n",
              "    </tr>\n",
              "  </thead>\n",
              "  <tbody>\n",
              "    <tr>\n",
              "      <th>1400000</th>\n",
              "      <td>laurie</td>\n",
              "      <td>49.0</td>\n",
              "      <td>6072</td>\n",
              "      <td>nada</td>\n",
              "      <td>i liked it.</td>\n",
              "      <td>multilabel classification: laurie &lt;/s&gt;49.0 &lt;/s...</td>\n",
              "      <td>ENFP</td>\n",
              "      <td>ENFP</td>\n",
              "    </tr>\n",
              "    <tr>\n",
              "      <th>1400001</th>\n",
              "      <td>searchingforpeace</td>\n",
              "      <td>52.0</td>\n",
              "      <td>5569</td>\n",
              "      <td>None</td>\n",
              "      <td>nope just why?</td>\n",
              "      <td>multilabel classification: searchingforpeace &lt;...</td>\n",
              "      <td>ENFJ</td>\n",
              "      <td>ENFJ</td>\n",
              "    </tr>\n",
              "    <tr>\n",
              "      <th>1400002</th>\n",
              "      <td>anonymous</td>\n",
              "      <td>33.0</td>\n",
              "      <td>605</td>\n",
              "      <td>None</td>\n",
              "      <td>heh, why n? he comes across as an enforcer o...</td>\n",
              "      <td>multilabel classification: anonymous &lt;/s&gt;33.0 ...</td>\n",
              "      <td>INTP</td>\n",
              "      <td>INTP</td>\n",
              "    </tr>\n",
              "    <tr>\n",
              "      <th>1400003</th>\n",
              "      <td>eric b</td>\n",
              "      <td>56.0</td>\n",
              "      <td>3620</td>\n",
              "      <td>subway motorman</td>\n",
              "      <td>^ i think so too!! tyrion and brienne are both...</td>\n",
              "      <td>multilabel classification: eric b &lt;/s&gt;56.0 &lt;/s...</td>\n",
              "      <td>INTP</td>\n",
              "      <td>INTP</td>\n",
              "    </tr>\n",
              "    <tr>\n",
              "      <th>1400004</th>\n",
              "      <td>yama</td>\n",
              "      <td>28.0</td>\n",
              "      <td>7684</td>\n",
              "      <td>microbiology technician</td>\n",
              "      <td>[mentionYYYYYYYYYYYYYYY]forever[/mention] here...</td>\n",
              "      <td>multilabel classification: yama &lt;/s&gt;28.0 &lt;/s&gt;7...</td>\n",
              "      <td>ESFJ</td>\n",
              "      <td>ESFJ</td>\n",
              "    </tr>\n",
              "  </tbody>\n",
              "</table>\n",
              "</div>\n",
              "      <button class=\"colab-df-convert\" onclick=\"convertToInteractive('df-5465c466-8e95-4cf7-85f4-1b80df511c6f')\"\n",
              "              title=\"Convert this dataframe to an interactive table.\"\n",
              "              style=\"display:none;\">\n",
              "        \n",
              "  <svg xmlns=\"http://www.w3.org/2000/svg\" height=\"24px\"viewBox=\"0 0 24 24\"\n",
              "       width=\"24px\">\n",
              "    <path d=\"M0 0h24v24H0V0z\" fill=\"none\"/>\n",
              "    <path d=\"M18.56 5.44l.94 2.06.94-2.06 2.06-.94-2.06-.94-.94-2.06-.94 2.06-2.06.94zm-11 1L8.5 8.5l.94-2.06 2.06-.94-2.06-.94L8.5 2.5l-.94 2.06-2.06.94zm10 10l.94 2.06.94-2.06 2.06-.94-2.06-.94-.94-2.06-.94 2.06-2.06.94z\"/><path d=\"M17.41 7.96l-1.37-1.37c-.4-.4-.92-.59-1.43-.59-.52 0-1.04.2-1.43.59L10.3 9.45l-7.72 7.72c-.78.78-.78 2.05 0 2.83L4 21.41c.39.39.9.59 1.41.59.51 0 1.02-.2 1.41-.59l7.78-7.78 2.81-2.81c.8-.78.8-2.07 0-2.86zM5.41 20L4 18.59l7.72-7.72 1.47 1.35L5.41 20z\"/>\n",
              "  </svg>\n",
              "      </button>\n",
              "      \n",
              "  <style>\n",
              "    .colab-df-container {\n",
              "      display:flex;\n",
              "      flex-wrap:wrap;\n",
              "      gap: 12px;\n",
              "    }\n",
              "\n",
              "    .colab-df-convert {\n",
              "      background-color: #E8F0FE;\n",
              "      border: none;\n",
              "      border-radius: 50%;\n",
              "      cursor: pointer;\n",
              "      display: none;\n",
              "      fill: #1967D2;\n",
              "      height: 32px;\n",
              "      padding: 0 0 0 0;\n",
              "      width: 32px;\n",
              "    }\n",
              "\n",
              "    .colab-df-convert:hover {\n",
              "      background-color: #E2EBFA;\n",
              "      box-shadow: 0px 1px 2px rgba(60, 64, 67, 0.3), 0px 1px 3px 1px rgba(60, 64, 67, 0.15);\n",
              "      fill: #174EA6;\n",
              "    }\n",
              "\n",
              "    [theme=dark] .colab-df-convert {\n",
              "      background-color: #3B4455;\n",
              "      fill: #D2E3FC;\n",
              "    }\n",
              "\n",
              "    [theme=dark] .colab-df-convert:hover {\n",
              "      background-color: #434B5C;\n",
              "      box-shadow: 0px 1px 3px 1px rgba(0, 0, 0, 0.15);\n",
              "      filter: drop-shadow(0px 1px 2px rgba(0, 0, 0, 0.3));\n",
              "      fill: #FFFFFF;\n",
              "    }\n",
              "  </style>\n",
              "\n",
              "      <script>\n",
              "        const buttonEl =\n",
              "          document.querySelector('#df-5465c466-8e95-4cf7-85f4-1b80df511c6f button.colab-df-convert');\n",
              "        buttonEl.style.display =\n",
              "          google.colab.kernel.accessAllowed ? 'block' : 'none';\n",
              "\n",
              "        async function convertToInteractive(key) {\n",
              "          const element = document.querySelector('#df-5465c466-8e95-4cf7-85f4-1b80df511c6f');\n",
              "          const dataTable =\n",
              "            await google.colab.kernel.invokeFunction('convertToInteractive',\n",
              "                                                     [key], {});\n",
              "          if (!dataTable) return;\n",
              "\n",
              "          const docLinkHtml = 'Like what you see? Visit the ' +\n",
              "            '<a target=\"_blank\" href=https://colab.research.google.com/notebooks/data_table.ipynb>data table notebook</a>'\n",
              "            + ' to learn more about interactive tables.';\n",
              "          element.innerHTML = '';\n",
              "          dataTable['output_type'] = 'display_data';\n",
              "          await google.colab.output.renderOutput(dataTable, element);\n",
              "          const docLink = document.createElement('div');\n",
              "          docLink.innerHTML = docLinkHtml;\n",
              "          element.appendChild(docLink);\n",
              "        }\n",
              "      </script>\n",
              "    </div>\n",
              "  </div>\n",
              "  "
            ]
          },
          "metadata": {},
          "execution_count": 148
        }
      ]
    },
    {
      "cell_type": "code",
      "source": [
        "test_df['accurate'] = test_df['label'] == test_df['predicted']\n",
        "test_df['message_len'] = test_df['message'].str.split().str.len()\n",
        "test_df['feature_len'] = test_df['combined'].str.split().str.len()"
      ],
      "metadata": {
        "id": "YAMW4UEzxFnh"
      },
      "execution_count": 150,
      "outputs": []
    },
    {
      "cell_type": "code",
      "source": [
        "test_df"
      ],
      "metadata": {
        "colab": {
          "base_uri": "https://localhost:8080/",
          "height": 991
        },
        "id": "fswyyr64xAkx",
        "outputId": "2866604b-eed5-41a1-8c54-2e2a69a17731"
      },
      "execution_count": 151,
      "outputs": [
        {
          "output_type": "execute_result",
          "data": {
            "text/plain": [
              "                  Username   Age  Posts  \\\n",
              "1400000             laurie  49.0   6072   \n",
              "1400001  searchingforpeace  52.0   5569   \n",
              "1400002          anonymous  33.0    605   \n",
              "1400003             eric b  56.0   3620   \n",
              "1400004               yama  28.0   7684   \n",
              "...                    ...   ...    ...   \n",
              "1493101           coriolis  45.0  26905   \n",
              "1493102             uumlau  56.0   5517   \n",
              "1493103         betty blue  45.0   5064   \n",
              "1493104           jeffster  46.0   6743   \n",
              "1493105         badoctopus  37.0   3234   \n",
              "\n",
              "                                     Occupation  \\\n",
              "1400000                                    nada   \n",
              "1400001                                    None   \n",
              "1400002                                    None   \n",
              "1400003                         subway motorman   \n",
              "1400004                 microbiology technician   \n",
              "...                                         ...   \n",
              "1493101                                    None   \n",
              "1493102                                    None   \n",
              "1493103                           self employed   \n",
              "1493104  office manager for subway (eat fresh!)   \n",
              "1493105                                    None   \n",
              "\n",
              "                                                   message  \\\n",
              "1400000                                        i liked it.   \n",
              "1400001                                     nope just why?   \n",
              "1400002    heh, why n? he comes across as an enforcer o...   \n",
              "1400003  ^ i think so too!! tyrion and brienne are both...   \n",
              "1400004  [mentionYYYYYYYYYYYYYYY]forever[/mention] here...   \n",
              "...                                                    ...   \n",
              "1493101  a lot of things because me feel guilty, even t...   \n",
              "1493102    you are so cute. yes you can blow an extraor...   \n",
              "1493103  vacuumed the whole house, ran greatest distanc...   \n",
              "1493104                                           XXXXc ^?   \n",
              "1493105    cheryl has two friends: albert and bernard. ...   \n",
              "\n",
              "                                                  combined predicted label  \\\n",
              "1400000  multilabel classification: laurie </s>49.0 </s...      ENFP  ENFP   \n",
              "1400001  multilabel classification: searchingforpeace <...      ENFJ  ENFJ   \n",
              "1400002  multilabel classification: anonymous </s>33.0 ...      INTP  INTP   \n",
              "1400003  multilabel classification: eric b </s>56.0 </s...      INTP  INTP   \n",
              "1400004  multilabel classification: yama </s>28.0 </s>7...      ESFJ  ESFJ   \n",
              "...                                                    ...       ...   ...   \n",
              "1493101  multilabel classification: coriolis </s>45.0 <...      INTJ  INTJ   \n",
              "1493102  multilabel classification: uumlau </s>56.0 </s...      INTJ  INTJ   \n",
              "1493103  multilabel classification: betty blue </s>45.0...      ENFP  ENFP   \n",
              "1493104  multilabel classification: jeffster </s>46.0 <...      ESFP  ESFP   \n",
              "1493105  multilabel classification: badoctopus </s>37.0...      INTJ  INTJ   \n",
              "\n",
              "         accurate  message_len  feature_len  \n",
              "1400000      True            3           20  \n",
              "1400001      True            3           25  \n",
              "1400002      True           28           76  \n",
              "1400003      True           89          150  \n",
              "1400004      True            4           28  \n",
              "...           ...          ...          ...  \n",
              "1493101      True          267          326  \n",
              "1493102      True          161          223  \n",
              "1493103      True           12           43  \n",
              "1493104      True            2           24  \n",
              "1493105      True          139          197  \n",
              "\n",
              "[93106 rows x 11 columns]"
            ],
            "text/html": [
              "\n",
              "  <div id=\"df-4afd4181-6ee1-4090-bc7e-2aef8a6a8eeb\">\n",
              "    <div class=\"colab-df-container\">\n",
              "      <div>\n",
              "<style scoped>\n",
              "    .dataframe tbody tr th:only-of-type {\n",
              "        vertical-align: middle;\n",
              "    }\n",
              "\n",
              "    .dataframe tbody tr th {\n",
              "        vertical-align: top;\n",
              "    }\n",
              "\n",
              "    .dataframe thead th {\n",
              "        text-align: right;\n",
              "    }\n",
              "</style>\n",
              "<table border=\"1\" class=\"dataframe\">\n",
              "  <thead>\n",
              "    <tr style=\"text-align: right;\">\n",
              "      <th></th>\n",
              "      <th>Username</th>\n",
              "      <th>Age</th>\n",
              "      <th>Posts</th>\n",
              "      <th>Occupation</th>\n",
              "      <th>message</th>\n",
              "      <th>combined</th>\n",
              "      <th>predicted</th>\n",
              "      <th>label</th>\n",
              "      <th>accurate</th>\n",
              "      <th>message_len</th>\n",
              "      <th>feature_len</th>\n",
              "    </tr>\n",
              "  </thead>\n",
              "  <tbody>\n",
              "    <tr>\n",
              "      <th>1400000</th>\n",
              "      <td>laurie</td>\n",
              "      <td>49.0</td>\n",
              "      <td>6072</td>\n",
              "      <td>nada</td>\n",
              "      <td>i liked it.</td>\n",
              "      <td>multilabel classification: laurie &lt;/s&gt;49.0 &lt;/s...</td>\n",
              "      <td>ENFP</td>\n",
              "      <td>ENFP</td>\n",
              "      <td>True</td>\n",
              "      <td>3</td>\n",
              "      <td>20</td>\n",
              "    </tr>\n",
              "    <tr>\n",
              "      <th>1400001</th>\n",
              "      <td>searchingforpeace</td>\n",
              "      <td>52.0</td>\n",
              "      <td>5569</td>\n",
              "      <td>None</td>\n",
              "      <td>nope just why?</td>\n",
              "      <td>multilabel classification: searchingforpeace &lt;...</td>\n",
              "      <td>ENFJ</td>\n",
              "      <td>ENFJ</td>\n",
              "      <td>True</td>\n",
              "      <td>3</td>\n",
              "      <td>25</td>\n",
              "    </tr>\n",
              "    <tr>\n",
              "      <th>1400002</th>\n",
              "      <td>anonymous</td>\n",
              "      <td>33.0</td>\n",
              "      <td>605</td>\n",
              "      <td>None</td>\n",
              "      <td>heh, why n? he comes across as an enforcer o...</td>\n",
              "      <td>multilabel classification: anonymous &lt;/s&gt;33.0 ...</td>\n",
              "      <td>INTP</td>\n",
              "      <td>INTP</td>\n",
              "      <td>True</td>\n",
              "      <td>28</td>\n",
              "      <td>76</td>\n",
              "    </tr>\n",
              "    <tr>\n",
              "      <th>1400003</th>\n",
              "      <td>eric b</td>\n",
              "      <td>56.0</td>\n",
              "      <td>3620</td>\n",
              "      <td>subway motorman</td>\n",
              "      <td>^ i think so too!! tyrion and brienne are both...</td>\n",
              "      <td>multilabel classification: eric b &lt;/s&gt;56.0 &lt;/s...</td>\n",
              "      <td>INTP</td>\n",
              "      <td>INTP</td>\n",
              "      <td>True</td>\n",
              "      <td>89</td>\n",
              "      <td>150</td>\n",
              "    </tr>\n",
              "    <tr>\n",
              "      <th>1400004</th>\n",
              "      <td>yama</td>\n",
              "      <td>28.0</td>\n",
              "      <td>7684</td>\n",
              "      <td>microbiology technician</td>\n",
              "      <td>[mentionYYYYYYYYYYYYYYY]forever[/mention] here...</td>\n",
              "      <td>multilabel classification: yama &lt;/s&gt;28.0 &lt;/s&gt;7...</td>\n",
              "      <td>ESFJ</td>\n",
              "      <td>ESFJ</td>\n",
              "      <td>True</td>\n",
              "      <td>4</td>\n",
              "      <td>28</td>\n",
              "    </tr>\n",
              "    <tr>\n",
              "      <th>...</th>\n",
              "      <td>...</td>\n",
              "      <td>...</td>\n",
              "      <td>...</td>\n",
              "      <td>...</td>\n",
              "      <td>...</td>\n",
              "      <td>...</td>\n",
              "      <td>...</td>\n",
              "      <td>...</td>\n",
              "      <td>...</td>\n",
              "      <td>...</td>\n",
              "      <td>...</td>\n",
              "    </tr>\n",
              "    <tr>\n",
              "      <th>1493101</th>\n",
              "      <td>coriolis</td>\n",
              "      <td>45.0</td>\n",
              "      <td>26905</td>\n",
              "      <td>None</td>\n",
              "      <td>a lot of things because me feel guilty, even t...</td>\n",
              "      <td>multilabel classification: coriolis &lt;/s&gt;45.0 &lt;...</td>\n",
              "      <td>INTJ</td>\n",
              "      <td>INTJ</td>\n",
              "      <td>True</td>\n",
              "      <td>267</td>\n",
              "      <td>326</td>\n",
              "    </tr>\n",
              "    <tr>\n",
              "      <th>1493102</th>\n",
              "      <td>uumlau</td>\n",
              "      <td>56.0</td>\n",
              "      <td>5517</td>\n",
              "      <td>None</td>\n",
              "      <td>you are so cute. yes you can blow an extraor...</td>\n",
              "      <td>multilabel classification: uumlau &lt;/s&gt;56.0 &lt;/s...</td>\n",
              "      <td>INTJ</td>\n",
              "      <td>INTJ</td>\n",
              "      <td>True</td>\n",
              "      <td>161</td>\n",
              "      <td>223</td>\n",
              "    </tr>\n",
              "    <tr>\n",
              "      <th>1493103</th>\n",
              "      <td>betty blue</td>\n",
              "      <td>45.0</td>\n",
              "      <td>5064</td>\n",
              "      <td>self employed</td>\n",
              "      <td>vacuumed the whole house, ran greatest distanc...</td>\n",
              "      <td>multilabel classification: betty blue &lt;/s&gt;45.0...</td>\n",
              "      <td>ENFP</td>\n",
              "      <td>ENFP</td>\n",
              "      <td>True</td>\n",
              "      <td>12</td>\n",
              "      <td>43</td>\n",
              "    </tr>\n",
              "    <tr>\n",
              "      <th>1493104</th>\n",
              "      <td>jeffster</td>\n",
              "      <td>46.0</td>\n",
              "      <td>6743</td>\n",
              "      <td>office manager for subway (eat fresh!)</td>\n",
              "      <td>XXXXc ^?</td>\n",
              "      <td>multilabel classification: jeffster &lt;/s&gt;46.0 &lt;...</td>\n",
              "      <td>ESFP</td>\n",
              "      <td>ESFP</td>\n",
              "      <td>True</td>\n",
              "      <td>2</td>\n",
              "      <td>24</td>\n",
              "    </tr>\n",
              "    <tr>\n",
              "      <th>1493105</th>\n",
              "      <td>badoctopus</td>\n",
              "      <td>37.0</td>\n",
              "      <td>3234</td>\n",
              "      <td>None</td>\n",
              "      <td>cheryl has two friends: albert and bernard. ...</td>\n",
              "      <td>multilabel classification: badoctopus &lt;/s&gt;37.0...</td>\n",
              "      <td>INTJ</td>\n",
              "      <td>INTJ</td>\n",
              "      <td>True</td>\n",
              "      <td>139</td>\n",
              "      <td>197</td>\n",
              "    </tr>\n",
              "  </tbody>\n",
              "</table>\n",
              "<p>93106 rows × 11 columns</p>\n",
              "</div>\n",
              "      <button class=\"colab-df-convert\" onclick=\"convertToInteractive('df-4afd4181-6ee1-4090-bc7e-2aef8a6a8eeb')\"\n",
              "              title=\"Convert this dataframe to an interactive table.\"\n",
              "              style=\"display:none;\">\n",
              "        \n",
              "  <svg xmlns=\"http://www.w3.org/2000/svg\" height=\"24px\"viewBox=\"0 0 24 24\"\n",
              "       width=\"24px\">\n",
              "    <path d=\"M0 0h24v24H0V0z\" fill=\"none\"/>\n",
              "    <path d=\"M18.56 5.44l.94 2.06.94-2.06 2.06-.94-2.06-.94-.94-2.06-.94 2.06-2.06.94zm-11 1L8.5 8.5l.94-2.06 2.06-.94-2.06-.94L8.5 2.5l-.94 2.06-2.06.94zm10 10l.94 2.06.94-2.06 2.06-.94-2.06-.94-.94-2.06-.94 2.06-2.06.94z\"/><path d=\"M17.41 7.96l-1.37-1.37c-.4-.4-.92-.59-1.43-.59-.52 0-1.04.2-1.43.59L10.3 9.45l-7.72 7.72c-.78.78-.78 2.05 0 2.83L4 21.41c.39.39.9.59 1.41.59.51 0 1.02-.2 1.41-.59l7.78-7.78 2.81-2.81c.8-.78.8-2.07 0-2.86zM5.41 20L4 18.59l7.72-7.72 1.47 1.35L5.41 20z\"/>\n",
              "  </svg>\n",
              "      </button>\n",
              "      \n",
              "  <style>\n",
              "    .colab-df-container {\n",
              "      display:flex;\n",
              "      flex-wrap:wrap;\n",
              "      gap: 12px;\n",
              "    }\n",
              "\n",
              "    .colab-df-convert {\n",
              "      background-color: #E8F0FE;\n",
              "      border: none;\n",
              "      border-radius: 50%;\n",
              "      cursor: pointer;\n",
              "      display: none;\n",
              "      fill: #1967D2;\n",
              "      height: 32px;\n",
              "      padding: 0 0 0 0;\n",
              "      width: 32px;\n",
              "    }\n",
              "\n",
              "    .colab-df-convert:hover {\n",
              "      background-color: #E2EBFA;\n",
              "      box-shadow: 0px 1px 2px rgba(60, 64, 67, 0.3), 0px 1px 3px 1px rgba(60, 64, 67, 0.15);\n",
              "      fill: #174EA6;\n",
              "    }\n",
              "\n",
              "    [theme=dark] .colab-df-convert {\n",
              "      background-color: #3B4455;\n",
              "      fill: #D2E3FC;\n",
              "    }\n",
              "\n",
              "    [theme=dark] .colab-df-convert:hover {\n",
              "      background-color: #434B5C;\n",
              "      box-shadow: 0px 1px 3px 1px rgba(0, 0, 0, 0.15);\n",
              "      filter: drop-shadow(0px 1px 2px rgba(0, 0, 0, 0.3));\n",
              "      fill: #FFFFFF;\n",
              "    }\n",
              "  </style>\n",
              "\n",
              "      <script>\n",
              "        const buttonEl =\n",
              "          document.querySelector('#df-4afd4181-6ee1-4090-bc7e-2aef8a6a8eeb button.colab-df-convert');\n",
              "        buttonEl.style.display =\n",
              "          google.colab.kernel.accessAllowed ? 'block' : 'none';\n",
              "\n",
              "        async function convertToInteractive(key) {\n",
              "          const element = document.querySelector('#df-4afd4181-6ee1-4090-bc7e-2aef8a6a8eeb');\n",
              "          const dataTable =\n",
              "            await google.colab.kernel.invokeFunction('convertToInteractive',\n",
              "                                                     [key], {});\n",
              "          if (!dataTable) return;\n",
              "\n",
              "          const docLinkHtml = 'Like what you see? Visit the ' +\n",
              "            '<a target=\"_blank\" href=https://colab.research.google.com/notebooks/data_table.ipynb>data table notebook</a>'\n",
              "            + ' to learn more about interactive tables.';\n",
              "          element.innerHTML = '';\n",
              "          dataTable['output_type'] = 'display_data';\n",
              "          await google.colab.output.renderOutput(dataTable, element);\n",
              "          const docLink = document.createElement('div');\n",
              "          docLink.innerHTML = docLinkHtml;\n",
              "          element.appendChild(docLink);\n",
              "        }\n",
              "      </script>\n",
              "    </div>\n",
              "  </div>\n",
              "  "
            ]
          },
          "metadata": {},
          "execution_count": 151
        }
      ]
    },
    {
      "cell_type": "code",
      "source": [
        "# get feature length distribution and look for outliers\n",
        "\n",
        "sns.set(rc={'figure.figsize':(30,10)})\n",
        "sns.boxplot(test_df['feature_len'])"
      ],
      "metadata": {
        "colab": {
          "base_uri": "https://localhost:8080/",
          "height": 525
        },
        "id": "Od3l2TVQxAtW",
        "outputId": "2ea6770d-aadb-4274-ad5a-5b052a474b53"
      },
      "execution_count": 153,
      "outputs": [
        {
          "output_type": "stream",
          "name": "stderr",
          "text": [
            "/usr/local/lib/python3.8/dist-packages/seaborn/_decorators.py:36: FutureWarning: Pass the following variable as a keyword arg: x. From version 0.12, the only valid positional argument will be `data`, and passing other arguments without an explicit keyword will result in an error or misinterpretation.\n",
            "  warnings.warn(\n"
          ]
        },
        {
          "output_type": "execute_result",
          "data": {
            "text/plain": [
              "<matplotlib.axes._subplots.AxesSubplot at 0x7f73105c9fd0>"
            ]
          },
          "metadata": {},
          "execution_count": 153
        },
        {
          "output_type": "display_data",
          "data": {
            "text/plain": [
              "<Figure size 2160x720 with 1 Axes>"
            ],
            "image/png": "[encoded data removed]"
          },
          "metadata": {}
        }
      ]
    },
    {
      "cell_type": "code",
      "source": [
        "# T5 has a max length of 512, so features longer than that are truncated.  \n",
        "# has does accuracy compare between truncated and non-truncated features?\n",
        "\n",
        "test_df['feature_len'][test_df['feature_len'] > 512].hist(by=test_df['accurate'],bins=20,figsize=(20,10))"
      ],
      "metadata": {
        "colab": {
          "base_uri": "https://localhost:8080/",
          "height": 685
        },
        "id": "yhTP2u5mxA2f",
        "outputId": "c39250de-16f1-4ea2-e8f2-a8e2e3cdff67"
      },
      "execution_count": 154,
      "outputs": [
        {
          "output_type": "execute_result",
          "data": {
            "text/plain": [
              "array([<matplotlib.axes._subplots.AxesSubplot object at 0x7f730f540820>,\n",
              "       <matplotlib.axes._subplots.AxesSubplot object at 0x7f731060bc70>],\n",
              "      dtype=object)"
            ]
          },
          "metadata": {},
          "execution_count": 154
        },
        {
          "output_type": "display_data",
          "data": {
            "text/plain": [
              "<Figure size 1440x720 with 2 Axes>"
            ],
            "image/png": "[encoded data removed]"
          },
          "metadata": {}
        }
      ]
    },
    {
      "cell_type": "code",
      "source": [
        "\n",
        "test_df['accurate'][test_df['feature_len'] > 512].value_counts(normalize = True)"
      ],
      "metadata": {
        "colab": {
          "base_uri": "https://localhost:8080/"
        },
        "id": "TiOYVqTLzNWr",
        "outputId": "111ff38b-f53e-4c13-eb83-18edc0d91477"
      },
      "execution_count": 155,
      "outputs": [
        {
          "output_type": "execute_result",
          "data": {
            "text/plain": [
              "True     0.907\n",
              "False    0.093\n",
              "Name: accurate, dtype: float64"
            ]
          },
          "metadata": {},
          "execution_count": 155
        }
      ]
    },
    {
      "cell_type": "code",
      "source": [
        "\n",
        "\n",
        "test_df['accurate'][test_df['feature_len'] <= 512].value_counts(normalize = True)"
      ],
      "metadata": {
        "colab": {
          "base_uri": "https://localhost:8080/"
        },
        "id": "E5cF39SKzTED",
        "outputId": "cc0ce9a0-ca87-42ad-8b10-8116aed1021c"
      },
      "execution_count": 156,
      "outputs": [
        {
          "output_type": "execute_result",
          "data": {
            "text/plain": [
              "True     0.926\n",
              "False    0.074\n",
              "Name: accurate, dtype: float64"
            ]
          },
          "metadata": {},
          "execution_count": 156
        }
      ]
    },
    {
      "cell_type": "markdown",
      "source": [
        "# Comparing accuracy between truncated and non-truncated samples shows a small accuracy decline when the feature input is truncated.  However, our technique of extracting features and placing them at the beginning of hte feature input preserves information even when inputs are truncated.\n",
        "\n"
      ],
      "metadata": {
        "id": "vwx5THH8zkfa"
      }
    },
    {
      "cell_type": "code",
      "source": [
        "\n",
        "# layered histogram\n",
        "import matplotlib.pyplot as plt\n",
        "f = plt.figure(figsize=(30,10))\n",
        "ax = f.add_subplot(1,1,1)\n",
        "import seaborn as sns\n",
        "sns.histplot(data=test_df[test_df['feature_len'] <= 512], ax=ax, stat=\"count\", multiple=\"layer\",\n",
        "             x=\"feature_len\", kde=False,\n",
        "             palette=\"pastel\", hue=\"accurate\",\n",
        "             element=\"bars\", legend=True)\n",
        "ax.set_title(\"Layered Histogram for feature length up to 512\")\n",
        "ax.set_xlabel(\"Feature Length\")\n",
        "ax.set_ylabel(\"Count\")\n",
        "     "
      ],
      "metadata": {
        "colab": {
          "base_uri": "https://localhost:8080/",
          "height": 467
        },
        "id": "x6_zoMqmzcnP",
        "outputId": "df1e82a7-f560-4735-928f-7dcc3e5c9e8f"
      },
      "execution_count": 157,
      "outputs": [
        {
          "output_type": "execute_result",
          "data": {
            "text/plain": [
              "Text(0, 0.5, 'Count')"
            ]
          },
          "metadata": {},
          "execution_count": 157
        },
        {
          "output_type": "display_data",
          "data": {
            "text/plain": [
              "<Figure size 2160x720 with 1 Axes>"
            ],
            "image/png": "[encoded data removed]"
          },
          "metadata": {}
        }
      ]
    },
    {
      "cell_type": "code",
      "source": [
        "\n",
        "# layered histogram\n",
        "import matplotlib.pyplot as plt\n",
        "f = plt.figure(figsize=(30,10))\n",
        "ax = f.add_subplot(1,1,1)\n",
        "import seaborn as sns\n",
        "sns.histplot(data=test_df[test_df['feature_len'] > 512 ], ax=ax, stat=\"count\", multiple=\"layer\",\n",
        "             x=\"feature_len\", kde=False,\n",
        "             palette=\"pastel\", hue=\"accurate\",\n",
        "             element=\"bars\", legend=True)\n",
        "ax.set_title(\"Layered Histogram for feature length greater than 512\")\n",
        "ax.set_xlabel(\"Feature Length\")\n",
        "ax.set_ylabel(\"Count\")\n",
        "     "
      ],
      "metadata": {
        "colab": {
          "base_uri": "https://localhost:8080/",
          "height": 468
        },
        "id": "KfyFwNzKz_i9",
        "outputId": "e9949a2a-a651-41f2-def2-e62c1717e0ec"
      },
      "execution_count": 158,
      "outputs": [
        {
          "output_type": "execute_result",
          "data": {
            "text/plain": [
              "Text(0, 0.5, 'Count')"
            ]
          },
          "metadata": {},
          "execution_count": 158
        },
        {
          "output_type": "display_data",
          "data": {
            "text/plain": [
              "<Figure size 2160x720 with 1 Axes>"
            ],
            "image/png": "[encoded data removed]"
          },
          "metadata": {}
        }
      ]
    },
    {
      "cell_type": "markdown",
      "source": [
        "# Next, look at relative accuracy across the 16 MBTI categories.\n"
      ],
      "metadata": {
        "id": "WW6bQ_FA0ZiN"
      }
    },
    {
      "cell_type": "code",
      "source": [
        "def show_values(axs, orient=\"v\", space=.01):\n",
        "    def _single(ax):\n",
        "        if orient == \"v\":\n",
        "            for p in ax.patches:\n",
        "                _x = p.get_x() + p.get_width() / 2\n",
        "                _y = p.get_y() + p.get_height() + (p.get_height()*0.01)\n",
        "                value = '{:.0f}'.format(p.get_height())\n",
        "                ax.text(_x, _y, value, ha=\"center\",fontsize=10) \n",
        "        elif orient == \"h\":\n",
        "            for p in ax.patches:\n",
        "                _x = p.get_x() + p.get_width() + float(space)\n",
        "                _y = p.get_y() + p.get_height() - (p.get_height()*0.5)\n",
        "                value = '{:.0f}'.format(p.get_width())\n",
        "                ax.text(_x, _y, value, ha=\"left\",fontsize=10)\n",
        "\n",
        "    if isinstance(axs, np.ndarray):\n",
        "        for idx, ax in np.ndenumerate(axs):\n",
        "            _single(ax)\n",
        "    else:\n",
        "        _single(axs)\n",
        "     "
      ],
      "metadata": {
        "id": "5Wiby5Qr0LGP"
      },
      "execution_count": 159,
      "outputs": []
    },
    {
      "cell_type": "code",
      "source": [
        "\n",
        "#let us look at percent distribution of errors per MBTI Type\n",
        "sns.displot(data=test_df, x='label', stat='percent', hue='accurate',height=8, aspect=11/8)"
      ],
      "metadata": {
        "colab": {
          "base_uri": "https://localhost:8080/",
          "height": 599
        },
        "id": "ztH4xJOA0wC1",
        "outputId": "5c5a1748-e421-4d71-8ed2-43f5f07b82f0"
      },
      "execution_count": 161,
      "outputs": [
        {
          "output_type": "execute_result",
          "data": {
            "text/plain": [
              "<seaborn.axisgrid.FacetGrid at 0x7f730def0280>"
            ]
          },
          "metadata": {},
          "execution_count": 161
        },
        {
          "output_type": "display_data",
          "data": {
            "text/plain": [
              "<Figure size 859.475x576 with 1 Axes>"
            ],
            "image/png": "[encoded data removed]"
          },
          "metadata": {}
        }
      ]
    },
    {
      "cell_type": "code",
      "source": [
        "\n",
        "#plot with absolute count\n",
        "f = plt.figure(figsize=(30,10))\n",
        "sns.set(font_scale=2)\n",
        "ax = f.add_subplot(1,1,1)\n",
        "#sns.histplot(data=add_combined, x=\"MBTI Type\", color=\"skyblue\", label=\"accurate\", kde=True,hue=\"accurate\")\n",
        "sns.histplot(data=test_df, x=\"label\",  label=\"accurate\", kde=False,hue=\"accurate\")\n",
        "#sns.histplot(data=add_combined, x=\"Posts\", color=\"red\", label=\"Posts\", kde=True,hue=\"accurate\")\n",
        "ax.set_title(\"Accuracy by MBTI Type\")\n",
        "ax.set_xlabel(\"MBTI Type\")\n",
        "ax.set_ylabel(\"Count\")\n",
        "show_values(ax)\n",
        "     "
      ],
      "metadata": {
        "colab": {
          "base_uri": "https://localhost:8080/",
          "height": 456
        },
        "id": "hV9IykXY00ax",
        "outputId": "3af7a9be-b2b0-40e9-e0f1-2212271a52ee"
      },
      "execution_count": 163,
      "outputs": [
        {
          "output_type": "display_data",
          "data": {
            "text/plain": [
              "<Figure size 2160x720 with 1 Axes>"
            ],
            "image/png": "[encoded data removed]"
          },
          "metadata": {}
        }
      ]
    },
    {
      "cell_type": "code",
      "source": [
        "\n",
        "\n",
        "test_df.groupby(['label'])['accurate'].value_counts(normalize=True).unstack(level=1)"
      ],
      "metadata": {
        "colab": {
          "base_uri": "https://localhost:8080/",
          "height": 582
        },
        "id": "vcd27kVU0829",
        "outputId": "84fb660c-3580-4788-9fc3-a66f9fe2de7e"
      },
      "execution_count": 165,
      "outputs": [
        {
          "output_type": "execute_result",
          "data": {
            "text/plain": [
              "accurate  False   True\n",
              "label                 \n",
              "ENFJ      0.054  0.946\n",
              "ENFP      0.080  0.920\n",
              "ENTJ      0.036  0.964\n",
              "ENTP      0.057  0.943\n",
              "ESFJ      0.014  0.986\n",
              "ESFP      0.016  0.984\n",
              "ESTJ      0.012  0.988\n",
              "ESTP      0.019  0.981\n",
              "INFJ      0.115  0.885\n",
              "INFP      0.111  0.889\n",
              "INTJ      0.080  0.920\n",
              "INTP      0.097  0.903\n",
              "ISFJ      0.051  0.949\n",
              "ISFP      0.044  0.956\n",
              "ISTJ      0.023  0.977\n",
              "ISTP      0.030  0.970"
            ],
            "text/html": [
              "\n",
              "  <div id=\"df-95deafa9-ffa5-4289-aeda-c451e09e254f\">\n",
              "    <div class=\"colab-df-container\">\n",
              "      <div>\n",
              "<style scoped>\n",
              "    .dataframe tbody tr th:only-of-type {\n",
              "        vertical-align: middle;\n",
              "    }\n",
              "\n",
              "    .dataframe tbody tr th {\n",
              "        vertical-align: top;\n",
              "    }\n",
              "\n",
              "    .dataframe thead th {\n",
              "        text-align: right;\n",
              "    }\n",
              "</style>\n",
              "<table border=\"1\" class=\"dataframe\">\n",
              "  <thead>\n",
              "    <tr style=\"text-align: right;\">\n",
              "      <th>accurate</th>\n",
              "      <th>False</th>\n",
              "      <th>True</th>\n",
              "    </tr>\n",
              "    <tr>\n",
              "      <th>label</th>\n",
              "      <th></th>\n",
              "      <th></th>\n",
              "    </tr>\n",
              "  </thead>\n",
              "  <tbody>\n",
              "    <tr>\n",
              "      <th>ENFJ</th>\n",
              "      <td>0.054</td>\n",
              "      <td>0.946</td>\n",
              "    </tr>\n",
              "    <tr>\n",
              "      <th>ENFP</th>\n",
              "      <td>0.080</td>\n",
              "      <td>0.920</td>\n",
              "    </tr>\n",
              "    <tr>\n",
              "      <th>ENTJ</th>\n",
              "      <td>0.036</td>\n",
              "      <td>0.964</td>\n",
              "    </tr>\n",
              "    <tr>\n",
              "      <th>ENTP</th>\n",
              "      <td>0.057</td>\n",
              "      <td>0.943</td>\n",
              "    </tr>\n",
              "    <tr>\n",
              "      <th>ESFJ</th>\n",
              "      <td>0.014</td>\n",
              "      <td>0.986</td>\n",
              "    </tr>\n",
              "    <tr>\n",
              "      <th>ESFP</th>\n",
              "      <td>0.016</td>\n",
              "      <td>0.984</td>\n",
              "    </tr>\n",
              "    <tr>\n",
              "      <th>ESTJ</th>\n",
              "      <td>0.012</td>\n",
              "      <td>0.988</td>\n",
              "    </tr>\n",
              "    <tr>\n",
              "      <th>ESTP</th>\n",
              "      <td>0.019</td>\n",
              "      <td>0.981</td>\n",
              "    </tr>\n",
              "    <tr>\n",
              "      <th>INFJ</th>\n",
              "      <td>0.115</td>\n",
              "      <td>0.885</td>\n",
              "    </tr>\n",
              "    <tr>\n",
              "      <th>INFP</th>\n",
              "      <td>0.111</td>\n",
              "      <td>0.889</td>\n",
              "    </tr>\n",
              "    <tr>\n",
              "      <th>INTJ</th>\n",
              "      <td>0.080</td>\n",
              "      <td>0.920</td>\n",
              "    </tr>\n",
              "    <tr>\n",
              "      <th>INTP</th>\n",
              "      <td>0.097</td>\n",
              "      <td>0.903</td>\n",
              "    </tr>\n",
              "    <tr>\n",
              "      <th>ISFJ</th>\n",
              "      <td>0.051</td>\n",
              "      <td>0.949</td>\n",
              "    </tr>\n",
              "    <tr>\n",
              "      <th>ISFP</th>\n",
              "      <td>0.044</td>\n",
              "      <td>0.956</td>\n",
              "    </tr>\n",
              "    <tr>\n",
              "      <th>ISTJ</th>\n",
              "      <td>0.023</td>\n",
              "      <td>0.977</td>\n",
              "    </tr>\n",
              "    <tr>\n",
              "      <th>ISTP</th>\n",
              "      <td>0.030</td>\n",
              "      <td>0.970</td>\n",
              "    </tr>\n",
              "  </tbody>\n",
              "</table>\n",
              "</div>\n",
              "      <button class=\"colab-df-convert\" onclick=\"convertToInteractive('df-95deafa9-ffa5-4289-aeda-c451e09e254f')\"\n",
              "              title=\"Convert this dataframe to an interactive table.\"\n",
              "              style=\"display:none;\">\n",
              "        \n",
              "  <svg xmlns=\"http://www.w3.org/2000/svg\" height=\"24px\"viewBox=\"0 0 24 24\"\n",
              "       width=\"24px\">\n",
              "    <path d=\"M0 0h24v24H0V0z\" fill=\"none\"/>\n",
              "    <path d=\"M18.56 5.44l.94 2.06.94-2.06 2.06-.94-2.06-.94-.94-2.06-.94 2.06-2.06.94zm-11 1L8.5 8.5l.94-2.06 2.06-.94-2.06-.94L8.5 2.5l-.94 2.06-2.06.94zm10 10l.94 2.06.94-2.06 2.06-.94-2.06-.94-.94-2.06-.94 2.06-2.06.94z\"/><path d=\"M17.41 7.96l-1.37-1.37c-.4-.4-.92-.59-1.43-.59-.52 0-1.04.2-1.43.59L10.3 9.45l-7.72 7.72c-.78.78-.78 2.05 0 2.83L4 21.41c.39.39.9.59 1.41.59.51 0 1.02-.2 1.41-.59l7.78-7.78 2.81-2.81c.8-.78.8-2.07 0-2.86zM5.41 20L4 18.59l7.72-7.72 1.47 1.35L5.41 20z\"/>\n",
              "  </svg>\n",
              "      </button>\n",
              "      \n",
              "  <style>\n",
              "    .colab-df-container {\n",
              "      display:flex;\n",
              "      flex-wrap:wrap;\n",
              "      gap: 12px;\n",
              "    }\n",
              "\n",
              "    .colab-df-convert {\n",
              "      background-color: #E8F0FE;\n",
              "      border: none;\n",
              "      border-radius: 50%;\n",
              "      cursor: pointer;\n",
              "      display: none;\n",
              "      fill: #1967D2;\n",
              "      height: 32px;\n",
              "      padding: 0 0 0 0;\n",
              "      width: 32px;\n",
              "    }\n",
              "\n",
              "    .colab-df-convert:hover {\n",
              "      background-color: #E2EBFA;\n",
              "      box-shadow: 0px 1px 2px rgba(60, 64, 67, 0.3), 0px 1px 3px 1px rgba(60, 64, 67, 0.15);\n",
              "      fill: #174EA6;\n",
              "    }\n",
              "\n",
              "    [theme=dark] .colab-df-convert {\n",
              "      background-color: #3B4455;\n",
              "      fill: #D2E3FC;\n",
              "    }\n",
              "\n",
              "    [theme=dark] .colab-df-convert:hover {\n",
              "      background-color: #434B5C;\n",
              "      box-shadow: 0px 1px 3px 1px rgba(0, 0, 0, 0.15);\n",
              "      filter: drop-shadow(0px 1px 2px rgba(0, 0, 0, 0.3));\n",
              "      fill: #FFFFFF;\n",
              "    }\n",
              "  </style>\n",
              "\n",
              "      <script>\n",
              "        const buttonEl =\n",
              "          document.querySelector('#df-95deafa9-ffa5-4289-aeda-c451e09e254f button.colab-df-convert');\n",
              "        buttonEl.style.display =\n",
              "          google.colab.kernel.accessAllowed ? 'block' : 'none';\n",
              "\n",
              "        async function convertToInteractive(key) {\n",
              "          const element = document.querySelector('#df-95deafa9-ffa5-4289-aeda-c451e09e254f');\n",
              "          const dataTable =\n",
              "            await google.colab.kernel.invokeFunction('convertToInteractive',\n",
              "                                                     [key], {});\n",
              "          if (!dataTable) return;\n",
              "\n",
              "          const docLinkHtml = 'Like what you see? Visit the ' +\n",
              "            '<a target=\"_blank\" href=https://colab.research.google.com/notebooks/data_table.ipynb>data table notebook</a>'\n",
              "            + ' to learn more about interactive tables.';\n",
              "          element.innerHTML = '';\n",
              "          dataTable['output_type'] = 'display_data';\n",
              "          await google.colab.output.renderOutput(dataTable, element);\n",
              "          const docLink = document.createElement('div');\n",
              "          docLink.innerHTML = docLinkHtml;\n",
              "          element.appendChild(docLink);\n",
              "        }\n",
              "      </script>\n",
              "    </div>\n",
              "  </div>\n",
              "  "
            ]
          },
          "metadata": {},
          "execution_count": 165
        }
      ]
    },
    {
      "cell_type": "code",
      "source": [
        "top_5_worst = ['INFJ', 'INFP', 'INTP', 'INTJ', 'ENTP']"
      ],
      "metadata": {
        "id": "v3qmIHk_2Uox"
      },
      "execution_count": 166,
      "outputs": []
    },
    {
      "cell_type": "code",
      "source": [
        "# layered histogram\n",
        "import matplotlib.pyplot as plt\n",
        "f = plt.figure(figsize=(30,10))\n",
        "ax = f.add_subplot(1,1,1)\n",
        "import seaborn as sns\n",
        "sns.histplot(data=test_df[(test_df['label'].isin(top_5_worst)) & (test_df['accurate'] == False) & (test_df['feature_len'] <= 200) ], ax=ax, stat=\"count\", multiple=\"layer\",\n",
        "             x=\"feature_len\", kde=False,\n",
        "             palette=\"pastel\", hue=\"accurate\",\n",
        "             element=\"bars\", legend=True)\n",
        "ax.set_title(\"Layered Histogram for top 5 error categories\")\n",
        "ax.set_xlabel(\"Feature Length\")\n",
        "ax.set_ylabel(\"Count\")\n",
        "     \n"
      ],
      "metadata": {
        "colab": {
          "base_uri": "https://localhost:8080/",
          "height": 481
        },
        "id": "Sz8PHFk429wU",
        "outputId": "e7577bb9-9255-4451-c5ee-2bb64519a099"
      },
      "execution_count": 168,
      "outputs": [
        {
          "output_type": "execute_result",
          "data": {
            "text/plain": [
              "Text(0, 0.5, 'Count')"
            ]
          },
          "metadata": {},
          "execution_count": 168
        },
        {
          "output_type": "display_data",
          "data": {
            "text/plain": [
              "<Figure size 2160x720 with 1 Axes>"
            ],
            "image/png": "[encoded data removed]"
          },
          "metadata": {}
        }
      ]
    },
    {
      "cell_type": "code",
      "source": [
        "\n",
        "#let us create a error dataframe\n",
        "drill_down = test_df[(test_df['label'].isin(top_5_worst)) & (test_df['accurate'] == False) & (test_df['feature_len'] <= 200) ]\n",
        "     \n"
      ],
      "metadata": {
        "id": "Fl-Gn26Q3PXt"
      },
      "execution_count": 170,
      "outputs": []
    },
    {
      "cell_type": "code",
      "source": [
        "\n",
        "#analyze occupations\n",
        "drill_down['Occupation'].value_counts()"
      ],
      "metadata": {
        "colab": {
          "base_uri": "https://localhost:8080/"
        },
        "id": "4E8QIeqe3UGi",
        "outputId": "9fc397de-415e-4b0a-e612-4384068171f1"
      },
      "execution_count": 171,
      "outputs": [
        {
          "output_type": "execute_result",
          "data": {
            "text/plain": [
              "student                                                     348\n",
              "professional artist                                          22\n",
              "student-geology                                              21\n",
              "enforcer. i am the law!                                      21\n",
              "professional gimp, recovering attorney                       20\n",
              "                                                           ... \n",
              "arcade clerk                                                  1\n",
              "server                                                        1\n",
              "communications                                                1\n",
              "again with the jibes. memory loss is a serious condition      1\n",
              "music student                                                 1\n",
              "Name: Occupation, Length: 370, dtype: int64"
            ]
          },
          "metadata": {},
          "execution_count": 171
        }
      ]
    },
    {
      "cell_type": "code",
      "source": [
        "\n",
        "drill_down['occu_len']=drill_down['Occupation'].str.split().str.len()"
      ],
      "metadata": {
        "colab": {
          "base_uri": "https://localhost:8080/"
        },
        "id": "fkShxNNG3XaA",
        "outputId": "749a91a0-f266-4538-c8bd-65095efc460d"
      },
      "execution_count": 172,
      "outputs": [
        {
          "output_type": "stream",
          "name": "stderr",
          "text": [
            "<ipython-input-172-b7e9c05b8fe7>:1: SettingWithCopyWarning: \n",
            "A value is trying to be set on a copy of a slice from a DataFrame.\n",
            "Try using .loc[row_indexer,col_indexer] = value instead\n",
            "\n",
            "See the caveats in the documentation: https://pandas.pydata.org/pandas-docs/stable/user_guide/indexing.html#returning-a-view-versus-a-copy\n",
            "  drill_down['occu_len']=drill_down['Occupation'].str.split().str.len()\n"
          ]
        }
      ]
    },
    {
      "cell_type": "code",
      "source": [
        "\n",
        "f = plt.figure(figsize=(30,10))\n",
        "ax = f.add_subplot(1,1,1)\n",
        "import seaborn as sns\n",
        "sns.histplot(data=drill_down, ax=ax, stat=\"count\", multiple=\"layer\",\n",
        "             x=\"occu_len\", kde=False,\n",
        "             palette=\"pastel\", hue=\"accurate\",\n",
        "             element=\"bars\", legend=True)\n",
        "ax.set_title(\"Layered Histogram for top 5 error categories\")\n",
        "ax.set_xlabel(\"Occupation Length\")\n",
        "ax.set_ylabel(\"Count\")"
      ],
      "metadata": {
        "colab": {
          "base_uri": "https://localhost:8080/",
          "height": 695
        },
        "id": "5zgdPEEa3evC",
        "outputId": "39dbe92c-760b-4e35-8678-7e9684434233"
      },
      "execution_count": 173,
      "outputs": [
        {
          "output_type": "execute_result",
          "data": {
            "text/plain": [
              "Text(0, 0.5, 'Count')"
            ]
          },
          "metadata": {},
          "execution_count": 173
        },
        {
          "output_type": "display_data",
          "data": {
            "text/plain": [
              "<Figure size 2160x720 with 1 Axes>"
            ],
            "image/png": "[encoded data removed]"
          },
          "metadata": {}
        }
      ]
    },
    {
      "cell_type": "code",
      "source": [
        "\n",
        "f = plt.figure(figsize=(30,10))\n",
        "ax = f.add_subplot(1,1,1)\n",
        "import seaborn as sns\n",
        "sns.histplot(data=drill_down, ax=ax, stat=\"count\", multiple=\"layer\",\n",
        "             x=\"Posts\", kde=False,\n",
        "             palette=\"pastel\", hue=\"accurate\",\n",
        "             element=\"bars\", legend=True)\n",
        "ax.set_title(\"Layered Histogram for top 5 error categories\")\n",
        "ax.set_xlabel(\"Posts\")\n",
        "ax.set_ylabel(\"Count\")"
      ],
      "metadata": {
        "colab": {
          "base_uri": "https://localhost:8080/",
          "height": 481
        },
        "id": "_qqxuzaQEqNN",
        "outputId": "ff4131d6-8c61-44ac-b6d7-9bfbdba79a88"
      },
      "execution_count": 174,
      "outputs": [
        {
          "output_type": "execute_result",
          "data": {
            "text/plain": [
              "Text(0, 0.5, 'Count')"
            ]
          },
          "metadata": {},
          "execution_count": 174
        },
        {
          "output_type": "display_data",
          "data": {
            "text/plain": [
              "<Figure size 2160x720 with 1 Axes>"
            ],
            "image/png": "[encoded data removed]"
          },
          "metadata": {}
        }
      ]
    },
    {
      "cell_type": "markdown",
      "source": [
        "## This shows that the T5 model becomes more accurate for people who post more.  The greatest counts of misclassified types are for people with few posts."
      ],
      "metadata": {
        "id": "3E8C1ev3E3fg"
      }
    },
    {
      "cell_type": "code",
      "source": [
        "drill_down[drill_down['occu_len']==2]"
      ],
      "metadata": {
        "colab": {
          "base_uri": "https://localhost:8080/",
          "height": 919
        },
        "id": "uF9Wa9e0E08Q",
        "outputId": "74d7ec6e-1124-46e9-83f6-3ce80dff8e4c"
      },
      "execution_count": 175,
      "outputs": [
        {
          "output_type": "execute_result",
          "data": {
            "text/plain": [
              "                   Username   Age  Posts                    Occupation  \\\n",
              "1400146           evastover  23.0     77             freelance pianist   \n",
              "1400159                coll  43.0     73           mental masturbation   \n",
              "1400400          observer84  38.0     44                       lab rat   \n",
              "1400433             talisyn  38.0     84            elementary teacher   \n",
              "1400550                sqnh  42.0     28              graduate student   \n",
              "...                     ...   ...    ...                           ...   \n",
              "1492326  peter pettishrooms  29.0     59       professional freeloader   \n",
              "1492387    moonlit_reveries  37.0     26                 music student   \n",
              "1492515               snail  43.0    141  artist, songwriter/performer   \n",
              "1492612              abhaya  38.0     97   tile setter/musician/artist   \n",
              "1492652            mrrandom  37.0    151              artist, designer   \n",
              "\n",
              "                                                   message  \\\n",
              "1400146    that is too freudian and slowmoving for my t...   \n",
              "1400159                                      turnip farmer   \n",
              "1400400    it is my understanding that there was no sex...   \n",
              "1400433           why? because he was actually never born.   \n",
              "1400550  someone get banned so i can read the banned an...   \n",
              "...                                                    ...   \n",
              "1492326    cool thanks. glad to hear it. i actually wou...   \n",
              "1492387  hehe thanks for the welcome czecze. i hope to ...   \n",
              "1492515    i like your writing as is.  it could be a co...   \n",
              "1492612                                         hello :hi:   \n",
              "1492652  anybody watching this amazing series? the seco...   \n",
              "\n",
              "                                                  combined predicted label  \\\n",
              "1400146  multilabel classification: evastover </s>23.0 ...      ENTP  INFP   \n",
              "1400159  multilabel classification: coll </s>43.0 </s>7...      ENTP  INFJ   \n",
              "1400400  multilabel classification: observer84 </s>38.0...      ENFP  INTP   \n",
              "1400433  multilabel classification: talisyn </s>38.0 </...      INFJ  INFP   \n",
              "1400550  multilabel classification: sqnh </s>42.0 </s>2...      ISTJ  INFP   \n",
              "...                                                    ...       ...   ...   \n",
              "1492326  multilabel classification: peter pettishrooms ...      ENFP  INTJ   \n",
              "1492387  multilabel classification: moonlit_reveries </...      ENFP  INFJ   \n",
              "1492515  multilabel classification: snail </s>43.0 </s>...      ISTJ  INFP   \n",
              "1492612  multilabel classification: abhaya </s>38.0 </s...      ISTJ  INFP   \n",
              "1492652  multilabel classification: mrrandom </s>37.0 <...      INTP  INFJ   \n",
              "\n",
              "         accurate  message_len  feature_len  occu_len  \n",
              "1400146     False          106          165       2.0  \n",
              "1400159     False            2           16       2.0  \n",
              "1400400     False           38           87       2.0  \n",
              "1400433     False            7           31       2.0  \n",
              "1400550     False           12           40       2.0  \n",
              "...           ...          ...          ...       ...  \n",
              "1492326     False           29           73       2.0  \n",
              "1492387     False           14           58       2.0  \n",
              "1492515     False           38           75       2.0  \n",
              "1492612     False            2           18       2.0  \n",
              "1492652     False           78          126       2.0  \n",
              "\n",
              "[400 rows x 12 columns]"
            ],
            "text/html": [
              "\n",
              "  <div id=\"df-6191f2c7-bf42-439b-8702-fa6cfdccce66\">\n",
              "    <div class=\"colab-df-container\">\n",
              "      <div>\n",
              "<style scoped>\n",
              "    .dataframe tbody tr th:only-of-type {\n",
              "        vertical-align: middle;\n",
              "    }\n",
              "\n",
              "    .dataframe tbody tr th {\n",
              "        vertical-align: top;\n",
              "    }\n",
              "\n",
              "    .dataframe thead th {\n",
              "        text-align: right;\n",
              "    }\n",
              "</style>\n",
              "<table border=\"1\" class=\"dataframe\">\n",
              "  <thead>\n",
              "    <tr style=\"text-align: right;\">\n",
              "      <th></th>\n",
              "      <th>Username</th>\n",
              "      <th>Age</th>\n",
              "      <th>Posts</th>\n",
              "      <th>Occupation</th>\n",
              "      <th>message</th>\n",
              "      <th>combined</th>\n",
              "      <th>predicted</th>\n",
              "      <th>label</th>\n",
              "      <th>accurate</th>\n",
              "      <th>message_len</th>\n",
              "      <th>feature_len</th>\n",
              "      <th>occu_len</th>\n",
              "    </tr>\n",
              "  </thead>\n",
              "  <tbody>\n",
              "    <tr>\n",
              "      <th>1400146</th>\n",
              "      <td>evastover</td>\n",
              "      <td>23.0</td>\n",
              "      <td>77</td>\n",
              "      <td>freelance pianist</td>\n",
              "      <td>that is too freudian and slowmoving for my t...</td>\n",
              "      <td>multilabel classification: evastover &lt;/s&gt;23.0 ...</td>\n",
              "      <td>ENTP</td>\n",
              "      <td>INFP</td>\n",
              "      <td>False</td>\n",
              "      <td>106</td>\n",
              "      <td>165</td>\n",
              "      <td>2.0</td>\n",
              "    </tr>\n",
              "    <tr>\n",
              "      <th>1400159</th>\n",
              "      <td>coll</td>\n",
              "      <td>43.0</td>\n",
              "      <td>73</td>\n",
              "      <td>mental masturbation</td>\n",
              "      <td>turnip farmer</td>\n",
              "      <td>multilabel classification: coll &lt;/s&gt;43.0 &lt;/s&gt;7...</td>\n",
              "      <td>ENTP</td>\n",
              "      <td>INFJ</td>\n",
              "      <td>False</td>\n",
              "      <td>2</td>\n",
              "      <td>16</td>\n",
              "      <td>2.0</td>\n",
              "    </tr>\n",
              "    <tr>\n",
              "      <th>1400400</th>\n",
              "      <td>observer84</td>\n",
              "      <td>38.0</td>\n",
              "      <td>44</td>\n",
              "      <td>lab rat</td>\n",
              "      <td>it is my understanding that there was no sex...</td>\n",
              "      <td>multilabel classification: observer84 &lt;/s&gt;38.0...</td>\n",
              "      <td>ENFP</td>\n",
              "      <td>INTP</td>\n",
              "      <td>False</td>\n",
              "      <td>38</td>\n",
              "      <td>87</td>\n",
              "      <td>2.0</td>\n",
              "    </tr>\n",
              "    <tr>\n",
              "      <th>1400433</th>\n",
              "      <td>talisyn</td>\n",
              "      <td>38.0</td>\n",
              "      <td>84</td>\n",
              "      <td>elementary teacher</td>\n",
              "      <td>why? because he was actually never born.</td>\n",
              "      <td>multilabel classification: talisyn &lt;/s&gt;38.0 &lt;/...</td>\n",
              "      <td>INFJ</td>\n",
              "      <td>INFP</td>\n",
              "      <td>False</td>\n",
              "      <td>7</td>\n",
              "      <td>31</td>\n",
              "      <td>2.0</td>\n",
              "    </tr>\n",
              "    <tr>\n",
              "      <th>1400550</th>\n",
              "      <td>sqnh</td>\n",
              "      <td>42.0</td>\n",
              "      <td>28</td>\n",
              "      <td>graduate student</td>\n",
              "      <td>someone get banned so i can read the banned an...</td>\n",
              "      <td>multilabel classification: sqnh &lt;/s&gt;42.0 &lt;/s&gt;2...</td>\n",
              "      <td>ISTJ</td>\n",
              "      <td>INFP</td>\n",
              "      <td>False</td>\n",
              "      <td>12</td>\n",
              "      <td>40</td>\n",
              "      <td>2.0</td>\n",
              "    </tr>\n",
              "    <tr>\n",
              "      <th>...</th>\n",
              "      <td>...</td>\n",
              "      <td>...</td>\n",
              "      <td>...</td>\n",
              "      <td>...</td>\n",
              "      <td>...</td>\n",
              "      <td>...</td>\n",
              "      <td>...</td>\n",
              "      <td>...</td>\n",
              "      <td>...</td>\n",
              "      <td>...</td>\n",
              "      <td>...</td>\n",
              "      <td>...</td>\n",
              "    </tr>\n",
              "    <tr>\n",
              "      <th>1492326</th>\n",
              "      <td>peter pettishrooms</td>\n",
              "      <td>29.0</td>\n",
              "      <td>59</td>\n",
              "      <td>professional freeloader</td>\n",
              "      <td>cool thanks. glad to hear it. i actually wou...</td>\n",
              "      <td>multilabel classification: peter pettishrooms ...</td>\n",
              "      <td>ENFP</td>\n",
              "      <td>INTJ</td>\n",
              "      <td>False</td>\n",
              "      <td>29</td>\n",
              "      <td>73</td>\n",
              "      <td>2.0</td>\n",
              "    </tr>\n",
              "    <tr>\n",
              "      <th>1492387</th>\n",
              "      <td>moonlit_reveries</td>\n",
              "      <td>37.0</td>\n",
              "      <td>26</td>\n",
              "      <td>music student</td>\n",
              "      <td>hehe thanks for the welcome czecze. i hope to ...</td>\n",
              "      <td>multilabel classification: moonlit_reveries &lt;/...</td>\n",
              "      <td>ENFP</td>\n",
              "      <td>INFJ</td>\n",
              "      <td>False</td>\n",
              "      <td>14</td>\n",
              "      <td>58</td>\n",
              "      <td>2.0</td>\n",
              "    </tr>\n",
              "    <tr>\n",
              "      <th>1492515</th>\n",
              "      <td>snail</td>\n",
              "      <td>43.0</td>\n",
              "      <td>141</td>\n",
              "      <td>artist, songwriter/performer</td>\n",
              "      <td>i like your writing as is.  it could be a co...</td>\n",
              "      <td>multilabel classification: snail &lt;/s&gt;43.0 &lt;/s&gt;...</td>\n",
              "      <td>ISTJ</td>\n",
              "      <td>INFP</td>\n",
              "      <td>False</td>\n",
              "      <td>38</td>\n",
              "      <td>75</td>\n",
              "      <td>2.0</td>\n",
              "    </tr>\n",
              "    <tr>\n",
              "      <th>1492612</th>\n",
              "      <td>abhaya</td>\n",
              "      <td>38.0</td>\n",
              "      <td>97</td>\n",
              "      <td>tile setter/musician/artist</td>\n",
              "      <td>hello :hi:</td>\n",
              "      <td>multilabel classification: abhaya &lt;/s&gt;38.0 &lt;/s...</td>\n",
              "      <td>ISTJ</td>\n",
              "      <td>INFP</td>\n",
              "      <td>False</td>\n",
              "      <td>2</td>\n",
              "      <td>18</td>\n",
              "      <td>2.0</td>\n",
              "    </tr>\n",
              "    <tr>\n",
              "      <th>1492652</th>\n",
              "      <td>mrrandom</td>\n",
              "      <td>37.0</td>\n",
              "      <td>151</td>\n",
              "      <td>artist, designer</td>\n",
              "      <td>anybody watching this amazing series? the seco...</td>\n",
              "      <td>multilabel classification: mrrandom &lt;/s&gt;37.0 &lt;...</td>\n",
              "      <td>INTP</td>\n",
              "      <td>INFJ</td>\n",
              "      <td>False</td>\n",
              "      <td>78</td>\n",
              "      <td>126</td>\n",
              "      <td>2.0</td>\n",
              "    </tr>\n",
              "  </tbody>\n",
              "</table>\n",
              "<p>400 rows × 12 columns</p>\n",
              "</div>\n",
              "      <button class=\"colab-df-convert\" onclick=\"convertToInteractive('df-6191f2c7-bf42-439b-8702-fa6cfdccce66')\"\n",
              "              title=\"Convert this dataframe to an interactive table.\"\n",
              "              style=\"display:none;\">\n",
              "        \n",
              "  <svg xmlns=\"http://www.w3.org/2000/svg\" height=\"24px\"viewBox=\"0 0 24 24\"\n",
              "       width=\"24px\">\n",
              "    <path d=\"M0 0h24v24H0V0z\" fill=\"none\"/>\n",
              "    <path d=\"M18.56 5.44l.94 2.06.94-2.06 2.06-.94-2.06-.94-.94-2.06-.94 2.06-2.06.94zm-11 1L8.5 8.5l.94-2.06 2.06-.94-2.06-.94L8.5 2.5l-.94 2.06-2.06.94zm10 10l.94 2.06.94-2.06 2.06-.94-2.06-.94-.94-2.06-.94 2.06-2.06.94z\"/><path d=\"M17.41 7.96l-1.37-1.37c-.4-.4-.92-.59-1.43-.59-.52 0-1.04.2-1.43.59L10.3 9.45l-7.72 7.72c-.78.78-.78 2.05 0 2.83L4 21.41c.39.39.9.59 1.41.59.51 0 1.02-.2 1.41-.59l7.78-7.78 2.81-2.81c.8-.78.8-2.07 0-2.86zM5.41 20L4 18.59l7.72-7.72 1.47 1.35L5.41 20z\"/>\n",
              "  </svg>\n",
              "      </button>\n",
              "      \n",
              "  <style>\n",
              "    .colab-df-container {\n",
              "      display:flex;\n",
              "      flex-wrap:wrap;\n",
              "      gap: 12px;\n",
              "    }\n",
              "\n",
              "    .colab-df-convert {\n",
              "      background-color: #E8F0FE;\n",
              "      border: none;\n",
              "      border-radius: 50%;\n",
              "      cursor: pointer;\n",
              "      display: none;\n",
              "      fill: #1967D2;\n",
              "      height: 32px;\n",
              "      padding: 0 0 0 0;\n",
              "      width: 32px;\n",
              "    }\n",
              "\n",
              "    .colab-df-convert:hover {\n",
              "      background-color: #E2EBFA;\n",
              "      box-shadow: 0px 1px 2px rgba(60, 64, 67, 0.3), 0px 1px 3px 1px rgba(60, 64, 67, 0.15);\n",
              "      fill: #174EA6;\n",
              "    }\n",
              "\n",
              "    [theme=dark] .colab-df-convert {\n",
              "      background-color: #3B4455;\n",
              "      fill: #D2E3FC;\n",
              "    }\n",
              "\n",
              "    [theme=dark] .colab-df-convert:hover {\n",
              "      background-color: #434B5C;\n",
              "      box-shadow: 0px 1px 3px 1px rgba(0, 0, 0, 0.15);\n",
              "      filter: drop-shadow(0px 1px 2px rgba(0, 0, 0, 0.3));\n",
              "      fill: #FFFFFF;\n",
              "    }\n",
              "  </style>\n",
              "\n",
              "      <script>\n",
              "        const buttonEl =\n",
              "          document.querySelector('#df-6191f2c7-bf42-439b-8702-fa6cfdccce66 button.colab-df-convert');\n",
              "        buttonEl.style.display =\n",
              "          google.colab.kernel.accessAllowed ? 'block' : 'none';\n",
              "\n",
              "        async function convertToInteractive(key) {\n",
              "          const element = document.querySelector('#df-6191f2c7-bf42-439b-8702-fa6cfdccce66');\n",
              "          const dataTable =\n",
              "            await google.colab.kernel.invokeFunction('convertToInteractive',\n",
              "                                                     [key], {});\n",
              "          if (!dataTable) return;\n",
              "\n",
              "          const docLinkHtml = 'Like what you see? Visit the ' +\n",
              "            '<a target=\"_blank\" href=https://colab.research.google.com/notebooks/data_table.ipynb>data table notebook</a>'\n",
              "            + ' to learn more about interactive tables.';\n",
              "          element.innerHTML = '';\n",
              "          dataTable['output_type'] = 'display_data';\n",
              "          await google.colab.output.renderOutput(dataTable, element);\n",
              "          const docLink = document.createElement('div');\n",
              "          docLink.innerHTML = docLinkHtml;\n",
              "          element.appendChild(docLink);\n",
              "        }\n",
              "      </script>\n",
              "    </div>\n",
              "  </div>\n",
              "  "
            ]
          },
          "metadata": {},
          "execution_count": 175
        }
      ]
    },
    {
      "cell_type": "code",
      "source": [
        "\n",
        "# layered histogram\n",
        "import matplotlib.pyplot as plt\n",
        "f = plt.figure(figsize=(30,10))\n",
        "ax = f.add_subplot(1,1,1)\n",
        "import seaborn as sns\n",
        "sns.histplot(data=test_df[test_df['label'].isin(top_5_worst)], ax=ax, stat=\"count\", multiple=\"layer\",\n",
        "             x=\"Posts\", kde=False,\n",
        "             palette=\"pastel\", hue=\"accurate\",\n",
        "             element=\"bars\", legend=True)\n",
        "ax.set_title(\"Layered Histogram for number of posts for top 5 error categories\")\n",
        "ax.set_xlabel(\"Posts\")\n",
        "ax.set_ylabel(\"Count\")"
      ],
      "metadata": {
        "colab": {
          "base_uri": "https://localhost:8080/",
          "height": 695
        },
        "id": "4A7SVZ91F-ff",
        "outputId": "df23ce2b-b71e-4aea-a4ee-4b06e51cfcba"
      },
      "execution_count": 178,
      "outputs": [
        {
          "output_type": "execute_result",
          "data": {
            "text/plain": [
              "Text(0, 0.5, 'Count')"
            ]
          },
          "metadata": {},
          "execution_count": 178
        },
        {
          "output_type": "display_data",
          "data": {
            "text/plain": [
              "<Figure size 2160x720 with 1 Axes>"
            ],
            "image/png": "[encoded data removed]"
          },
          "metadata": {}
        }
      ]
    },
    {
      "cell_type": "markdown",
      "source": [
        "## This plot shows again that we are prone to misclassifcation for users with few posts."
      ],
      "metadata": {
        "id": "rlD-GQbwGUfh"
      }
    }
  ],
  "metadata": {
    "accelerator": "GPU",
    "colab": {
      "collapsed_sections": [
        "IIqxC-eGzzak"
      ],
      "machine_shape": "hm",
      "provenance": [],
      "include_colab_link": true
    },
    "gpuClass": "premium",
    "kernelspec": {
      "display_name": "Python 3",
      "name": "python3"
    },
    "language_info": {
      "name": "python"
    }
  },
  "nbformat": 4,
  "nbformat_minor": 0
}