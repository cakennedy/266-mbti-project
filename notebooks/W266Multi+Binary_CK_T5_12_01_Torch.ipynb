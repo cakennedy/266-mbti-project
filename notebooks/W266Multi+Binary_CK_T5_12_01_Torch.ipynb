{
  "cells": [
    {
      "cell_type": "markdown",
      "metadata": {
        "id": "view-in-github",
        "colab_type": "text"
      },
      "source": [
        "<a href=\"https://colab.research.google.com/github/cakennedy/266-mbti-project/blob/main/notebooks/W266Multi%2BBinary_CK_T5_12_01_Torch.ipynb\" target=\"_parent\"><img src=\"https://colab.research.google.com/assets/colab-badge.svg\" alt=\"Open In Colab\"/></a>"
      ]
    },
    {
      "cell_type": "markdown",
      "source": [
        "## T5 References\n",
        "\n",
        "https://huggingface.co/docs/transformers/model_doc/t5\n",
        "\n",
        "https://arxiv.org/pdf/1910.10683.pdf\n",
        "\n",
        "https://colab.research.google.com/github/patil-suraj/exploring-T5/blob/master/t5_fine_tuning.ipynb\n",
        "\n",
        "https://towardsdatascience.com/data-to-text-generation-with-t5-building-a-simple-yet-advanced-nlg-model-b5cce5a6df45\n",
        "\n",
        "https://colab.research.google.com/github/datasci-w266/2022-fall-main/blob/master/materials/lesson_notebooks/lesson_6_Machine_Translation.ipynb\n",
        "\n",
        "http://seekinginference.com/applied_nlp/t5-class.html\n",
        "http://seekinginference.com/NLP/T5_classification\n",
        "\n"
      ],
      "metadata": {
        "id": "k9Q9WYOa8_Cv"
      }
    },
    {
      "cell_type": "markdown",
      "metadata": {
        "id": "xrnrXyQ401dW"
      },
      "source": [
        "#Initial Set up "
      ]
    },
    {
      "cell_type": "markdown",
      "source": [
        "In this notebook \n",
        "a ) I am using data from GCS, from courtney which is cleaned for age and other additional columns , \n",
        "b) I am also removing AGE from the model and lower string transformations\n",
        "c) cleaning up the notebook for only model as of now"
      ],
      "metadata": {
        "id": "1T9lstXkwZpr"
      }
    },
    {
      "cell_type": "code",
      "execution_count": 1,
      "metadata": {
        "colab": {
          "base_uri": "https://localhost:8080/"
        },
        "id": "612BHau796hf",
        "outputId": "3bc0d3a4-bee5-4d80-a42e-574471a5fe9e"
      },
      "outputs": [
        {
          "output_type": "stream",
          "name": "stdout",
          "text": [
            "Thu Dec  1 20:30:02 2022       \n",
            "+-----------------------------------------------------------------------------+\n",
            "| NVIDIA-SMI 460.32.03    Driver Version: 460.32.03    CUDA Version: 11.2     |\n",
            "|-------------------------------+----------------------+----------------------+\n",
            "| GPU  Name        Persistence-M| Bus-Id        Disp.A | Volatile Uncorr. ECC |\n",
            "| Fan  Temp  Perf  Pwr:Usage/Cap|         Memory-Usage | GPU-Util  Compute M. |\n",
            "|                               |                      |               MIG M. |\n",
            "|===============================+======================+======================|\n",
            "|   0  Tesla T4            Off  | 00000000:00:04.0 Off |                    0 |\n",
            "| N/A   55C    P0    26W /  70W |      0MiB / 15109MiB |      0%      Default |\n",
            "|                               |                      |                  N/A |\n",
            "+-------------------------------+----------------------+----------------------+\n",
            "                                                                               \n",
            "+-----------------------------------------------------------------------------+\n",
            "| Processes:                                                                  |\n",
            "|  GPU   GI   CI        PID   Type   Process name                  GPU Memory |\n",
            "|        ID   ID                                                   Usage      |\n",
            "|=============================================================================|\n",
            "|  No running processes found                                                 |\n",
            "+-----------------------------------------------------------------------------+\n",
            "\n",
            "\n",
            "Your runtime has 54.8 gigabytes of available RAM\n",
            "\n",
            "You are using a high-RAM runtime!\n"
          ]
        }
      ],
      "source": [
        "# Google collab premium utilities status check\n",
        "# GPU\n",
        "gpu_info = !nvidia-smi\n",
        "gpu_info = '\\n'.join(gpu_info)\n",
        "if gpu_info.find('failed') >= 0:\n",
        "  print('Not connected to a GPU')\n",
        "else:\n",
        "  print(gpu_info)\n",
        "\n",
        "print( '\\n')\n",
        "\n",
        "# RAM\n",
        "from psutil import virtual_memory\n",
        "ram_gb = virtual_memory().total / 1e9\n",
        "print('Your runtime has {:.1f} gigabytes of available RAM\\n'.format(ram_gb))\n",
        "\n",
        "if ram_gb < 20:\n",
        "  print('Not using a high-RAM runtime')\n",
        "else:\n",
        "  print('You are using a high-RAM runtime!')"
      ]
    },
    {
      "cell_type": "code",
      "source": [
        "# imports\n",
        "import sys\n",
        "import csv\n",
        "from enum import Enum\n",
        "\n",
        "#import unidecode \n",
        "#import unicodedata\n",
        "import pandas as pd\n",
        "import io\n",
        "from io import BytesIO\n",
        "import matplotlib.pyplot as plt\n",
        "import altair as alt\n",
        "import numpy as np\n",
        "import textwrap\n",
        "import re\n",
        "import time\n",
        "import random\n",
        "import datetime"
      ],
      "metadata": {
        "id": "zwdvgoM4C-8v"
      },
      "execution_count": 44,
      "outputs": []
    },
    {
      "cell_type": "code",
      "source": [
        "!pip install -q sentencepiece\n",
        "!pip install -q transformers\n",
        "!pip install -q optuna"
      ],
      "metadata": {
        "id": "uOnynJOH9f_F",
        "colab": {
          "base_uri": "https://localhost:8080/"
        },
        "outputId": "117e37b0-55e8-408e-e815-064397d0c755"
      },
      "execution_count": 3,
      "outputs": [
        {
          "output_type": "stream",
          "name": "stdout",
          "text": [
            "\u001b[K     |████████████████████████████████| 1.3 MB 23.0 MB/s \n",
            "\u001b[K     |████████████████████████████████| 5.5 MB 33.8 MB/s \n",
            "\u001b[K     |████████████████████████████████| 7.6 MB 76.6 MB/s \n",
            "\u001b[K     |████████████████████████████████| 182 kB 96.1 MB/s \n",
            "\u001b[K     |████████████████████████████████| 348 kB 32.4 MB/s \n",
            "\u001b[K     |████████████████████████████████| 209 kB 100.4 MB/s \n",
            "\u001b[K     |████████████████████████████████| 81 kB 11.1 MB/s \n",
            "\u001b[K     |████████████████████████████████| 78 kB 9.1 MB/s \n",
            "\u001b[K     |████████████████████████████████| 50 kB 6.9 MB/s \n",
            "\u001b[K     |████████████████████████████████| 147 kB 79.7 MB/s \n",
            "\u001b[K     |████████████████████████████████| 112 kB 100.7 MB/s \n",
            "\u001b[?25h  Building wheel for pyperclip (setup.py) ... \u001b[?25l\u001b[?25hdone\n"
          ]
        }
      ]
    },
    {
      "cell_type": "code",
      "source": [
        "\n",
        "import os, re\n",
        "import time\n",
        "import numpy as np\n",
        "import pandas as pd\n",
        "\n",
        "import io\n",
        "from io import BytesIO\n",
        "import torch\n",
        "import torch.nn as nn\n",
        "import torch.nn.functional as F\n",
        "from torch.cuda.amp import autocast, GradScaler\n",
        "from torch.utils.data import TensorDataset, random_split, DataLoader, RandomSampler\n",
        "from transformers import T5Tokenizer, T5ForConditionalGeneration\n",
        "from transformers import AdamW, get_linear_schedule_with_warmup\n",
        "\n",
        "from sklearn import metrics\n",
        "from sklearn.metrics import confusion_matrix\n",
        "from sklearn.metrics import accuracy_score, f1_score, precision_score, recall_score, classification_report\n",
        "from sklearn.metrics import f1_score,roc_auc_score,roc_curve,recall_score,matthews_corrcoef\n",
        "\n",
        "import seaborn as sns\n",
        "import matplotlib.pyplot as plt\n",
        "\n",
        "import optuna\n",
        "from optuna.pruners import SuccessiveHalvingPruner\n",
        "from optuna.samplers import TPESampler\n",
        "\n"
      ],
      "metadata": {
        "id": "Frks0mH7DA_1"
      },
      "execution_count": 4,
      "outputs": []
    },
    {
      "cell_type": "code",
      "source": [
        "SEED = 15\n",
        "random.seed(SEED)\n",
        "np.random.seed(SEED)\n",
        "torch.manual_seed(SEED)"
      ],
      "metadata": {
        "colab": {
          "base_uri": "https://localhost:8080/"
        },
        "id": "exwoBGnlSKPl",
        "outputId": "1bf2b406-3942-4df6-a5c4-bd64bd9567af"
      },
      "execution_count": 5,
      "outputs": [
        {
          "output_type": "execute_result",
          "data": {
            "text/plain": [
              "<torch._C.Generator at 0x7fb23b4d1df0>"
            ]
          },
          "metadata": {},
          "execution_count": 5
        }
      ]
    },
    {
      "cell_type": "code",
      "source": [
        "torch.cuda.amp.autocast(enabled=True)"
      ],
      "metadata": {
        "colab": {
          "base_uri": "https://localhost:8080/"
        },
        "id": "jmL7C_aVSHan",
        "outputId": "998f25f0-776e-400f-e693-3984d598ee1d"
      },
      "execution_count": 6,
      "outputs": [
        {
          "output_type": "execute_result",
          "data": {
            "text/plain": [
              "<torch.cuda.amp.autocast_mode.autocast at 0x7fb2a900f340>"
            ]
          },
          "metadata": {},
          "execution_count": 6
        }
      ]
    },
    {
      "cell_type": "code",
      "source": [
        "torch.backends.cudnn.deterministic = True\n",
        "\n",
        "# tell pytorch to use cuda\n",
        "device = torch.device(\"cuda\")"
      ],
      "metadata": {
        "id": "EX-hNOsRSNnA"
      },
      "execution_count": 7,
      "outputs": []
    },
    {
      "cell_type": "code",
      "source": [
        "#imports and installs for feature engineering\n",
        "!pip install empath\n",
        "from empath import Empath\n",
        "lexicon = Empath()\n",
        "# Import module\n",
        "!pip install NRCLex\n",
        "from nrclex import NRCLex\n",
        "import nltk\n",
        "nltk.download('punkt')\n",
        "import collections\n",
        "from collections import Counter\n",
        "import spacy\n",
        "nlp =spacy.load(\"en_core_web_sm\")"
      ],
      "metadata": {
        "colab": {
          "base_uri": "https://localhost:8080/"
        },
        "id": "Xbwneb_7DFOp",
        "outputId": "80e15354-388c-4901-a414-9199b4be4068"
      },
      "execution_count": 8,
      "outputs": [
        {
          "output_type": "stream",
          "name": "stdout",
          "text": [
            "Looking in indexes: https://pypi.org/simple, https://us-python.pkg.dev/colab-wheels/public/simple/\n",
            "Collecting empath\n",
            "  Downloading empath-0.89.tar.gz (57 kB)\n",
            "\u001b[K     |████████████████████████████████| 57 kB 5.7 MB/s \n",
            "\u001b[?25hRequirement already satisfied: requests in /usr/local/lib/python3.8/dist-packages (from empath) (2.23.0)\n",
            "Requirement already satisfied: idna<3,>=2.5 in /usr/local/lib/python3.8/dist-packages (from requests->empath) (2.10)\n",
            "Requirement already satisfied: certifi>=2017.4.17 in /usr/local/lib/python3.8/dist-packages (from requests->empath) (2022.9.24)\n",
            "Requirement already satisfied: chardet<4,>=3.0.2 in /usr/local/lib/python3.8/dist-packages (from requests->empath) (3.0.4)\n",
            "Requirement already satisfied: urllib3!=1.25.0,!=1.25.1,<1.26,>=1.21.1 in /usr/local/lib/python3.8/dist-packages (from requests->empath) (1.24.3)\n",
            "Building wheels for collected packages: empath\n",
            "  Building wheel for empath (setup.py) ... \u001b[?25l\u001b[?25hdone\n",
            "  Created wheel for empath: filename=empath-0.89-py3-none-any.whl size=57822 sha256=d81e7447eadbf7d11efa3ccab8c89dee9f1a470c182e9e09785b80aad84a39f1\n",
            "  Stored in directory: /root/.cache/pip/wheels/2a/e5/c2/fd8dad0a452927c85ecd3c6cbaa4748125246eed73d8303184\n",
            "Successfully built empath\n",
            "Installing collected packages: empath\n",
            "Successfully installed empath-0.89\n",
            "Looking in indexes: https://pypi.org/simple, https://us-python.pkg.dev/colab-wheels/public/simple/\n",
            "Collecting NRCLex\n",
            "  Downloading NRCLex-4.0-py3-none-any.whl (4.4 kB)\n",
            "  Downloading NRCLex-3.0.0.tar.gz (396 kB)\n",
            "\u001b[K     |████████████████████████████████| 396 kB 33.3 MB/s \n",
            "\u001b[?25hRequirement already satisfied: textblob in /usr/local/lib/python3.8/dist-packages (from NRCLex) (0.15.3)\n",
            "Requirement already satisfied: nltk>=3.1 in /usr/local/lib/python3.8/dist-packages (from textblob->NRCLex) (3.7)\n",
            "Requirement already satisfied: regex>=2021.8.3 in /usr/local/lib/python3.8/dist-packages (from nltk>=3.1->textblob->NRCLex) (2022.6.2)\n",
            "Requirement already satisfied: tqdm in /usr/local/lib/python3.8/dist-packages (from nltk>=3.1->textblob->NRCLex) (4.64.1)\n",
            "Requirement already satisfied: click in /usr/local/lib/python3.8/dist-packages (from nltk>=3.1->textblob->NRCLex) (7.1.2)\n",
            "Requirement already satisfied: joblib in /usr/local/lib/python3.8/dist-packages (from nltk>=3.1->textblob->NRCLex) (1.2.0)\n",
            "Building wheels for collected packages: NRCLex\n",
            "  Building wheel for NRCLex (setup.py) ... \u001b[?25l\u001b[?25hdone\n",
            "  Created wheel for NRCLex: filename=NRCLex-3.0.0-py3-none-any.whl size=43329 sha256=6362b1b0e223681c12339f374b66c720f4a7cee8ba52515cd17e75ef1ebf1f73\n",
            "  Stored in directory: /root/.cache/pip/wheels/83/95/c0/42b43fb15eb48e4f5a67cba8915540cb2783591c59c037a9e5\n",
            "Successfully built NRCLex\n",
            "Installing collected packages: NRCLex\n",
            "Successfully installed NRCLex-3.0.0\n"
          ]
        },
        {
          "output_type": "stream",
          "name": "stderr",
          "text": [
            "[nltk_data] Downloading package punkt to /root/nltk_data...\n",
            "[nltk_data]   Unzipping tokenizers/punkt.zip.\n"
          ]
        }
      ]
    },
    {
      "cell_type": "code",
      "source": [
        "# To work from gcloud, use this:\n",
        "\n",
        "# Upload Google Cloud service account key to enable authentication ( json file )\n",
        "# Go to https://console.cloud.google.com/:\n",
        "# Under the Navigation Menu ( upper left 3 horizontal lines) \n",
        "# 1. choose IAM & Admin>\n",
        "# 2. choose Service Accounts>\n",
        "# 3. Select a Service Account>\n",
        "# 4. Under the Actions menu ( 3 dots to the right of the service account )>Manage Keys to create your own json credentials file\n",
        "\n",
        "from google.colab import files\n",
        "from google.cloud import storage\n",
        "\n",
        "\n",
        "def upload_gcloud_credentials():\n",
        "    uploaded = files.upload()\n",
        "\n",
        "\n",
        "def config_GCloud():\n",
        "    #Load Google Cloud storage client using service key\n",
        "    storage_client = storage.Client.from_service_account_json('pacific-castle-360400-a3ca89f64de6.json')\n",
        "    #Print buckets available\n",
        "    for bucket in storage_client.list_buckets():\n",
        "        print(bucket)\n",
        "\n",
        "    #Assign bucket name being used\n",
        "    gcloud_bucket_name = '266csffile'\n",
        "\n",
        "    #Get bucket\n",
        "    gcloud_bucket = storage_client.get_bucket(gcloud_bucket_name)\n",
        "\n",
        "    #Show list of files in bucket and list the files\n",
        "    filename = list(gcloud_bucket.list_blobs(prefix=''))\n",
        "    for name in filename:\n",
        "        print(name.name)\n",
        "\n",
        "    #Increase field size to allow reading in of files\n",
        "    maxInt = sys.maxsize\n",
        "\n",
        "    while True:\n",
        "        # decrease the maxInt value by factor 10 as long as overflow error occurs \n",
        "        try:\n",
        "            csv.field_size_limit(maxInt)\n",
        "            break\n",
        "        except OverflowError:\n",
        "            maxInt = int(maxInt/10)\n",
        "\n",
        " \n",
        "    return gcloud_bucket, gcloud_bucket_name\n"
      ],
      "metadata": {
        "id": "IJN8UDgGDIpS"
      },
      "execution_count": 9,
      "outputs": []
    },
    {
      "cell_type": "code",
      "source": [
        "upload_gcloud_credentials()"
      ],
      "metadata": {
        "colab": {
          "base_uri": "https://localhost:8080/",
          "height": 74
        },
        "id": "pdWDdCdGDLEm",
        "outputId": "ff395a33-dffd-40bf-ad54-9d04417400f2"
      },
      "execution_count": 10,
      "outputs": [
        {
          "output_type": "display_data",
          "data": {
            "text/plain": [
              "<IPython.core.display.HTML object>"
            ],
            "text/html": [
              "\n",
              "     <input type=\"file\" id=\"files-87002ac9-3594-46da-b359-f96d5e2a5809\" name=\"files[]\" multiple disabled\n",
              "        style=\"border:none\" />\n",
              "     <output id=\"result-87002ac9-3594-46da-b359-f96d5e2a5809\">\n",
              "      Upload widget is only available when the cell has been executed in the\n",
              "      current browser session. Please rerun this cell to enable.\n",
              "      </output>\n",
              "      <script>// Copyright 2017 Google LLC\n",
              "//\n",
              "// Licensed under the Apache License, Version 2.0 (the \"License\");\n",
              "// you may not use this file except in compliance with the License.\n",
              "// You may obtain a copy of the License at\n",
              "//\n",
              "//      http://www.apache.org/licenses/LICENSE-2.0\n",
              "//\n",
              "// Unless required by applicable law or agreed to in writing, software\n",
              "// distributed under the License is distributed on an \"AS IS\" BASIS,\n",
              "// WITHOUT WARRANTIES OR CONDITIONS OF ANY KIND, either express or implied.\n",
              "// See the License for the specific language governing permissions and\n",
              "// limitations under the License.\n",
              "\n",
              "/**\n",
              " * @fileoverview Helpers for google.colab Python module.\n",
              " */\n",
              "(function(scope) {\n",
              "function span(text, styleAttributes = {}) {\n",
              "  const element = document.createElement('span');\n",
              "  element.textContent = text;\n",
              "  for (const key of Object.keys(styleAttributes)) {\n",
              "    element.style[key] = styleAttributes[key];\n",
              "  }\n",
              "  return element;\n",
              "}\n",
              "\n",
              "// Max number of bytes which will be uploaded at a time.\n",
              "const MAX_PAYLOAD_SIZE = 100 * 1024;\n",
              "\n",
              "function _uploadFiles(inputId, outputId) {\n",
              "  const steps = uploadFilesStep(inputId, outputId);\n",
              "  const outputElement = document.getElementById(outputId);\n",
              "  // Cache steps on the outputElement to make it available for the next call\n",
              "  // to uploadFilesContinue from Python.\n",
              "  outputElement.steps = steps;\n",
              "\n",
              "  return _uploadFilesContinue(outputId);\n",
              "}\n",
              "\n",
              "// This is roughly an async generator (not supported in the browser yet),\n",
              "// where there are multiple asynchronous steps and the Python side is going\n",
              "// to poll for completion of each step.\n",
              "// This uses a Promise to block the python side on completion of each step,\n",
              "// then passes the result of the previous step as the input to the next step.\n",
              "function _uploadFilesContinue(outputId) {\n",
              "  const outputElement = document.getElementById(outputId);\n",
              "  const steps = outputElement.steps;\n",
              "\n",
              "  const next = steps.next(outputElement.lastPromiseValue);\n",
              "  return Promise.resolve(next.value.promise).then((value) => {\n",
              "    // Cache the last promise value to make it available to the next\n",
              "    // step of the generator.\n",
              "    outputElement.lastPromiseValue = value;\n",
              "    return next.value.response;\n",
              "  });\n",
              "}\n",
              "\n",
              "/**\n",
              " * Generator function which is called between each async step of the upload\n",
              " * process.\n",
              " * @param {string} inputId Element ID of the input file picker element.\n",
              " * @param {string} outputId Element ID of the output display.\n",
              " * @return {!Iterable<!Object>} Iterable of next steps.\n",
              " */\n",
              "function* uploadFilesStep(inputId, outputId) {\n",
              "  const inputElement = document.getElementById(inputId);\n",
              "  inputElement.disabled = false;\n",
              "\n",
              "  const outputElement = document.getElementById(outputId);\n",
              "  outputElement.innerHTML = '';\n",
              "\n",
              "  const pickedPromise = new Promise((resolve) => {\n",
              "    inputElement.addEventListener('change', (e) => {\n",
              "      resolve(e.target.files);\n",
              "    });\n",
              "  });\n",
              "\n",
              "  const cancel = document.createElement('button');\n",
              "  inputElement.parentElement.appendChild(cancel);\n",
              "  cancel.textContent = 'Cancel upload';\n",
              "  const cancelPromise = new Promise((resolve) => {\n",
              "    cancel.onclick = () => {\n",
              "      resolve(null);\n",
              "    };\n",
              "  });\n",
              "\n",
              "  // Wait for the user to pick the files.\n",
              "  const files = yield {\n",
              "    promise: Promise.race([pickedPromise, cancelPromise]),\n",
              "    response: {\n",
              "      action: 'starting',\n",
              "    }\n",
              "  };\n",
              "\n",
              "  cancel.remove();\n",
              "\n",
              "  // Disable the input element since further picks are not allowed.\n",
              "  inputElement.disabled = true;\n",
              "\n",
              "  if (!files) {\n",
              "    return {\n",
              "      response: {\n",
              "        action: 'complete',\n",
              "      }\n",
              "    };\n",
              "  }\n",
              "\n",
              "  for (const file of files) {\n",
              "    const li = document.createElement('li');\n",
              "    li.append(span(file.name, {fontWeight: 'bold'}));\n",
              "    li.append(span(\n",
              "        `(${file.type || 'n/a'}) - ${file.size} bytes, ` +\n",
              "        `last modified: ${\n",
              "            file.lastModifiedDate ? file.lastModifiedDate.toLocaleDateString() :\n",
              "                                    'n/a'} - `));\n",
              "    const percent = span('0% done');\n",
              "    li.appendChild(percent);\n",
              "\n",
              "    outputElement.appendChild(li);\n",
              "\n",
              "    const fileDataPromise = new Promise((resolve) => {\n",
              "      const reader = new FileReader();\n",
              "      reader.onload = (e) => {\n",
              "        resolve(e.target.result);\n",
              "      };\n",
              "      reader.readAsArrayBuffer(file);\n",
              "    });\n",
              "    // Wait for the data to be ready.\n",
              "    let fileData = yield {\n",
              "      promise: fileDataPromise,\n",
              "      response: {\n",
              "        action: 'continue',\n",
              "      }\n",
              "    };\n",
              "\n",
              "    // Use a chunked sending to avoid message size limits. See b/62115660.\n",
              "    let position = 0;\n",
              "    do {\n",
              "      const length = Math.min(fileData.byteLength - position, MAX_PAYLOAD_SIZE);\n",
              "      const chunk = new Uint8Array(fileData, position, length);\n",
              "      position += length;\n",
              "\n",
              "      const base64 = btoa(String.fromCharCode.apply(null, chunk));\n",
              "      yield {\n",
              "        response: {\n",
              "          action: 'append',\n",
              "          file: file.name,\n",
              "          data: base64,\n",
              "        },\n",
              "      };\n",
              "\n",
              "      let percentDone = fileData.byteLength === 0 ?\n",
              "          100 :\n",
              "          Math.round((position / fileData.byteLength) * 100);\n",
              "      percent.textContent = `${percentDone}% done`;\n",
              "\n",
              "    } while (position < fileData.byteLength);\n",
              "  }\n",
              "\n",
              "  // All done.\n",
              "  yield {\n",
              "    response: {\n",
              "      action: 'complete',\n",
              "    }\n",
              "  };\n",
              "}\n",
              "\n",
              "scope.google = scope.google || {};\n",
              "scope.google.colab = scope.google.colab || {};\n",
              "scope.google.colab._files = {\n",
              "  _uploadFiles,\n",
              "  _uploadFilesContinue,\n",
              "};\n",
              "})(self);\n",
              "</script> "
            ]
          },
          "metadata": {}
        },
        {
          "output_type": "stream",
          "name": "stdout",
          "text": [
            "Saving pacific-castle-360400-a3ca89f64de6.json to pacific-castle-360400-a3ca89f64de6.json\n"
          ]
        }
      ]
    },
    {
      "cell_type": "code",
      "source": [
        "bucket, bucket_name = config_GCloud()"
      ],
      "metadata": {
        "id": "WPYSOhndDM0E",
        "colab": {
          "base_uri": "https://localhost:8080/"
        },
        "outputId": "cc5f9b8e-b7bf-4de8-8cd1-1770d6e9ee4b"
      },
      "execution_count": 11,
      "outputs": [
        {
          "output_type": "stream",
          "name": "stdout",
          "text": [
            "<Bucket: 266csffile>\n",
            "<Bucket: w266liwc>\n",
            "dev_is_I_data.parquet\n",
            "dev_is_I_labels.parquet\n",
            "dev_is_J_data.parquet\n",
            "dev_is_J_labels.parquet\n",
            "dev_is_S_data.parquet\n",
            "dev_is_S_labels.parquet\n",
            "dev_is_T_data.parquet\n",
            "dev_is_T_labels.parquet\n",
            "dev_mbti_data.parquet\n",
            "dev_mbti_labels.parquet\n",
            "mrc2.dct.textClipping\n",
            "old_files/\n",
            "old_files/dev_mbti_data.csv\n",
            "old_files/dev_mbti_data.parquet\n",
            "old_files/dev_mbti_labels.csv\n",
            "old_files/test_mbti_data.csv\n",
            "old_files/test_mbti_data.parquet\n",
            "old_files/test_mbti_labels.csv\n",
            "old_files/train_gen_pop_mbti_data.csv\n",
            "old_files/train_gen_pop_mbti_data.parquet\n",
            "old_files/train_gen_pop_mbti_labels.csv\n",
            "old_files/train_mbti_data.csv\n",
            "old_files/train_mbti_data.parquet\n",
            "old_files/train_mbti_labels.csv\n",
            "old_files/train_over_sampled_mbti_data.csv\n",
            "old_files/train_over_sampled_mbti_data.parquet\n",
            "old_files/train_over_sampled_mbti_labels.csv\n",
            "old_files/train_under_sampled_mbti_data.csv\n",
            "old_files/train_under_sampled_mbti_data.parquet\n",
            "old_files/train_under_sampled_mbti_labels.csv\n",
            "test_is_I_data.parquet\n",
            "test_is_I_labels.parquet\n",
            "test_is_J_data.parquet\n",
            "test_is_J_labels.parquet\n",
            "test_is_S_data.parquet\n",
            "test_is_S_labels.parquet\n",
            "test_is_T_data.parquet\n",
            "test_is_T_labels.parquet\n",
            "test_mbti_data.parquet\n",
            "test_mbti_labels.parquet\n",
            "train_gen_pop_is_I_data.parquet\n",
            "train_gen_pop_is_I_labels.parquet\n",
            "train_gen_pop_is_J_data.parquet\n",
            "train_gen_pop_is_J_labels.parquet\n",
            "train_gen_pop_is_S_data.parquet\n",
            "train_gen_pop_is_S_labels.parquet\n",
            "train_gen_pop_is_T_data.parquet\n",
            "train_gen_pop_is_T_labels.parquet\n",
            "train_gen_pop_mbti_data.parquet\n",
            "train_gen_pop_mbti_labels.parquet\n",
            "train_is_I_data.parquet\n",
            "train_is_I_labels.parquet\n",
            "train_is_J_data.parquet\n",
            "train_is_J_labels.parquet\n",
            "train_is_S_data.parquet\n",
            "train_is_S_labels.parquet\n",
            "train_is_T_data.parquet\n",
            "train_is_T_labels.parquet\n",
            "train_mbti_data.parquet\n",
            "train_mbti_labels.parquet\n",
            "train_uniform_is_I_data.parquet\n",
            "train_uniform_is_I_labels.parquet\n",
            "train_uniform_is_J_data.parquet\n",
            "train_uniform_is_J_labels.parquet\n",
            "train_uniform_is_S_data.parquet\n",
            "train_uniform_is_S_labels.parquet\n",
            "train_uniform_is_T_data.parquet\n",
            "train_uniform_is_T_labels.parquet\n",
            "train_uniform_mbti_data.parquet\n",
            "train_uniform_mbti_labels.parquet\n",
            "typology_merged.parquet\n",
            "typology_users_clean.csv\n",
            "typology_xenforo-9-25-22-posts.csv\n",
            "typology_xenforo-9-25-22-posts.parquet\n",
            "typology_xenforo-9-25-22.csv\n",
            "typology_xenforo-9-25-22_clean.parquet\n"
          ]
        }
      ]
    },
    {
      "cell_type": "code",
      "execution_count": 12,
      "metadata": {
        "colab": {
          "base_uri": "https://localhost:8080/"
        },
        "id": "M0HEh8D3-Ooe",
        "outputId": "271d2031-f215-4965-8595-d53e4ef7df61"
      },
      "outputs": [
        {
          "output_type": "stream",
          "name": "stdout",
          "text": [
            "Mounted at /content/drive\n",
            "total 20\n",
            "drwx------ 2 root root 4096 Jan 24  2022 'Colab Notebooks'\n",
            "drwx------ 2 root root 4096 Oct 21 00:00  content\n",
            "drwx------ 2 root root 4096 Oct 21 17:29  ULondon\n",
            "drwx------ 2 root root 4096 Oct 21 17:31  MIDS\n",
            "drwx------ 2 root root 4096 Nov 22 16:09  W266\n",
            "total 1742198\n",
            "-rw------- 1 root root 445902488 Nov 22 22:37 bert_multibinary_1122_noemote.hdf5\n",
            "-rw------- 1 root root 445902488 Nov 28 19:50 bert_multibinary_1120.hdf5\n",
            "-rw------- 1 root root 892204416 Dec  1 04:12 t5_multibinary_1120.hdf5\n"
          ]
        }
      ],
      "source": [
        "# setup google drive access for checkpoint file\n",
        "\n",
        "from google.colab import drive\n",
        "drive.mount('/content/drive')\n",
        "\n",
        "!ls -lrt \"/content/drive/My Drive\"\n",
        "!ls -lrt \"/content/drive/My Drive/W266/MBTI/model_checkpoints\""
      ]
    },
    {
      "cell_type": "code",
      "source": [
        "t5_model_name='t5-small'"
      ],
      "metadata": {
        "id": "tnJZFtwBTRjb"
      },
      "execution_count": 13,
      "outputs": []
    },
    {
      "cell_type": "code",
      "source": [
        "t5_tokenizer = T5Tokenizer.from_pretrained(t5_model_name )"
      ],
      "metadata": {
        "colab": {
          "base_uri": "https://localhost:8080/",
          "height": 189,
          "referenced_widgets": [
            "3a423f0839f14151a71c498ac3d9cb80",
            "4309aecc1ed04dffa60eb78ca886981b",
            "4f82afad4fd64a459e16c6e5ebc4e633",
            "4f1c5fbc2c57408eb40ecaf59dd156b2",
            "5396ce9d1517403e99ee1295f2f82d6b",
            "69ba833709774dbb80fc6703436b50e0",
            "9d0371e8e1374a31b74493f82e9c25ab",
            "48a1ae6f6908469a93787c514ea504b1",
            "bd6a521d61d147bf9dd3cbb4b01e122a",
            "6a2d15fc0bec480e822c889c9c268733",
            "d5d730cac0ee4788ad04af051fa441bf",
            "91230bb7e9854c9e95c4e820bd55879b",
            "5501715166024a819debfcaedb7694e5",
            "cff1cb225ec04421905fc257b45c7e71",
            "bd16fcad82d449da8b24e7c385ee52d5",
            "67e30c5c4ff549599ba7597137c86672",
            "a8d30ce0b2ab4a89b18002ba3f9495d9",
            "a2bdacdcfef6475cb085366c6017c834",
            "8a8f4933ed294fe0a67adfe172d419f2",
            "cfac93d013ad40b7a97254be45c55856",
            "3e0b76a8aca444a0a8b94f578f088d6f",
            "57dd73e9ee9040789f2ff6321cb610b8"
          ]
        },
        "id": "PaNxFkaTTWbp",
        "outputId": "936fd49d-dd18-4bc1-85e2-f726550eb552"
      },
      "execution_count": 14,
      "outputs": [
        {
          "output_type": "display_data",
          "data": {
            "text/plain": [
              "Downloading:   0%|          | 0.00/792k [00:00<?, ?B/s]"
            ],
            "application/vnd.jupyter.widget-view+json": {
              "version_major": 2,
              "version_minor": 0,
              "model_id": "3a423f0839f14151a71c498ac3d9cb80"
            }
          },
          "metadata": {}
        },
        {
          "output_type": "display_data",
          "data": {
            "text/plain": [
              "Downloading:   0%|          | 0.00/1.20k [00:00<?, ?B/s]"
            ],
            "application/vnd.jupyter.widget-view+json": {
              "version_major": 2,
              "version_minor": 0,
              "model_id": "91230bb7e9854c9e95c4e820bd55879b"
            }
          },
          "metadata": {}
        },
        {
          "output_type": "stream",
          "name": "stderr",
          "text": [
            "/usr/local/lib/python3.8/dist-packages/transformers/models/t5/tokenization_t5.py:164: FutureWarning: This tokenizer was incorrectly instantiated with a model max length of 512 which will be corrected in Transformers v5.\n",
            "For now, this behavior is kept to avoid breaking backwards compatibility when padding/encoding with `truncation is True`.\n",
            "- Be aware that you SHOULD NOT rely on t5-small automatically truncating your input to 512 when padding/encoding.\n",
            "- If you want to encode/pad to sequences longer than 512 you can either instantiate this tokenizer with `model_max_length` or pass `max_length` when encoding/padding.\n",
            "- To avoid this warning, please instantiate this tokenizer with `model_max_length` set to your preferred value.\n",
            "  warnings.warn(\n"
          ]
        }
      ]
    },
    {
      "cell_type": "code",
      "source": [
        "print(t5_tokenizer.eos_token_id)\n",
        "print(t5_tokenizer.bos_token_id)\n",
        "print(t5_tokenizer.unk_token_id)\n",
        "print(t5_tokenizer.pad_token_id)"
      ],
      "metadata": {
        "colab": {
          "base_uri": "https://localhost:8080/"
        },
        "id": "tHulkX6RTid7",
        "outputId": "a8453086-7aa4-4197-8add-38831fc1481d"
      },
      "execution_count": 15,
      "outputs": [
        {
          "output_type": "stream",
          "name": "stdout",
          "text": [
            "1\n",
            "None\n",
            "2\n",
            "0\n"
          ]
        }
      ]
    },
    {
      "cell_type": "markdown",
      "metadata": {
        "id": "Env_Nqyh07cj"
      },
      "source": [
        "# Data Prep"
      ]
    },
    {
      "cell_type": "code",
      "execution_count": 17,
      "metadata": {
        "id": "4sK8hG76V7Kg"
      },
      "outputs": [],
      "source": [
        "max_length = 512\n",
        "batch_size = 16"
      ]
    },
    {
      "cell_type": "code",
      "source": [
        "def read_parquet_google_cloud(file):\n",
        "    '''This function reads a file from the google cloud storage bucket. Input\n",
        "    parameters include the filename, encoding and CSV file separators.'''\n",
        "\n",
        "    #Load Google Cloud storage client using service key\n",
        "\n",
        "    blob = bucket.blob(file)\n",
        "    read_back = bucket.blob(file)\n",
        "    string_read_back = read_back.download_as_string()\n",
        "    new_df = pd.read_parquet(io.BytesIO(string_read_back))\n",
        "\n",
        "    return new_df"
      ],
      "metadata": {
        "id": "ZQy-SXwyDzOH"
      },
      "execution_count": 18,
      "outputs": []
    },
    {
      "cell_type": "code",
      "source": [
        "\n",
        "\n",
        "# for T5\n",
        "separator_token = \" </s>\"\n",
        "prefix_text = 'multilabel classification: '\n",
        "\n",
        "# for Bert\n",
        "# separator_token = \" [SEP] \"\n",
        "# prefix_text = ''\n",
        "\n",
        "\n",
        "class Features(Enum):\n",
        "    all_features = 1\n",
        "    no_username = 2\n",
        "    no_emotions = 3\n",
        "    no_lexicon = 4\n",
        "    no_postags = 5\n",
        "\n",
        "def combine_no_username(df):\n",
        "    df['lexicon'] = df['message'].apply(lambda x: ', '.join(f'{key} {str(value)}' for key, value in lexicon.analyze(x).items() if value > 0))\n",
        "    df['emotions'] = df['message'].apply(lambda x: ', '.join(f'{key} {str(value)}' for key, value in NRCLex(x).raw_emotion_scores.items() if value > 0))\n",
        "    df['postags'] =  df['message'].apply(lambda x: ', '.join(f'{key.lower()} {str(value)}' for key, value in Counter((token.pos_ for token in nlp(x))).items()))\n",
        " \n",
        "    df['combined'] = prefix_text + df['Age'].astype(str)+ separator_token + df['Posts'].astype(str)+ separator_token +df['Occupation'].astype(str)+ separator_token +\"lexical categories: \"+df['lexicon'].astype(str)+  separator_token +\"emotion scores: \"+df['emotions'].astype(str)+ separator_token + \"pos tags: \"+df['postags'].astype(str)+ separator_token+ df['message'].astype(str)+ separator_token\n",
        "    return df\n",
        "\n",
        "def combine_no_emotion(df):\n",
        "    df['lexicon'] = df['message'].apply(lambda x: ', '.join(f'{key} {str(value)}' for key, value in lexicon.analyze(x).items() if value > 0))\n",
        "    df['postags'] =  df['message'].apply(lambda x: ', '.join(f'{key.lower()} {str(value)}' for key, value in Counter((token.pos_ for token in nlp(x))).items()))\n",
        " \n",
        "    df['combined'] = prefix_text +  df['Username'].astype(str)+ separator_token + df['Age'].astype(str)+ separator_token +df['Posts'].astype(str)+ separator_token +df['Occupation'].astype(str)+ separator_token +\"lexical categories: \"+df['lexicon'].astype(str)+  separator_token + \"pos tags: \"+df['postags'].astype(str)+  separator_token + df['message'].astype(str)+ separator_token\n",
        "    return df\n",
        "\n",
        "def combine_no_lexical(df):\n",
        "    df['emotions'] = df['message'].apply(lambda x: ', '.join(f'{key} {str(value)}' for key, value in NRCLex(x).raw_emotion_scores.items() if value > 0))\n",
        "    df['postags'] =  df['message'].apply(lambda x: ', '.join(f'{key.lower()} {str(value)}' for key, value in Counter((token.pos_ for token in nlp(x))).items()))\n",
        " \n",
        "    df['combined'] = prefix_text +  df['Username'].astype(str)+ separator_token + df['Age'].astype(str)+ separator_token +df['Posts'].astype(str)+ separator_token +df['Occupation'].astype(str)+ separator_token +\"emotion scores: \"+df['emotions'].astype(str)+ separator_token + \"pos tags: \"+df['postags'].astype(str)+ separator_token + df['message'].astype(str)+ separator_token\n",
        "    return df\n",
        "\n",
        "def combine_no_pos(df):\n",
        "    df['lexicon'] = df['message'].apply(lambda x: ', '.join(f'{key} {str(value)}' for key, value in lexicon.analyze(x).items() if value > 0))\n",
        "    df['emotions'] = df['message'].apply(lambda x: ', '.join(f'{key} {str(value)}' for key, value in NRCLex(x).raw_emotion_scores.items() if value > 0))\n",
        " \n",
        "    df['combined'] = prefix_text +  df['Username'].astype(str)+ separator_token + df['Age'].astype(str)+ separator_token +df['Posts'].astype(str)+ separator_token +df['Occupation'].astype(str)+ separator_token +\"lexical categories: \"+df['lexicon'].astype(str)+ separator_token +\"emotion scores: \"+df['emotions'].astype(str)+ separator_token+ df['message'].astype(str)+ separator_token\n",
        "    return df\n",
        "\n",
        "def combine_all(df):\n",
        "    df['lexicon'] = df['message'].apply(lambda x: ', '.join(f'{key} {str(value)}' for key, value in lexicon.analyze(x).items() if value > 0))\n",
        "    df['emotions'] = df['message'].apply(lambda x: ', '.join(f'{key} {str(value)}' for key, value in NRCLex(x).raw_emotion_scores.items() if value > 0))\n",
        "    df['postags'] =  df['message'].apply(lambda x: ', '.join(f'{key.lower()} {str(value)}' for key, value in Counter((token.pos_ for token in nlp(x))).items()))\n",
        " \n",
        "    df['combined'] = prefix_text +  df['Username'].astype(str)+ separator_token + df['Age'].astype(str)+ separator_token +df['Posts'].astype(str)+ separator_token +df['Occupation'].astype(str)+ separator_token +\"lexical categories: \"+df['lexicon'].astype(str)+  separator_token +\"emotion scores: \"+df['emotions'].astype(str)+ separator_token + \"pos tags: \"+df['postags'].astype(str)+ separator_token + df['message'].astype(str)+ separator_token\n",
        "    return df\n",
        "\n",
        "\n",
        "\n",
        "def add_features( df, features_to_include ):\n",
        "\n",
        "    if features_to_include is Features.all_features:\n",
        "        return combine_all(df)\n",
        "\n",
        "    elif features_to_include is Features.no_username:\n",
        "        return combine_no_username(df)\n",
        "\n",
        "    elif features_to_include is Features.no_emotions:\n",
        "        return combine_no_emotion(df)\n",
        "\n",
        "    elif features_to_include is Features.no_lexicon:\n",
        "        return combine_no_lexical(df)\n",
        "\n",
        "    else: # features_to_include is Features.no_postags:\n",
        "        return combine_no_pos(df)\n",
        "\n",
        "\n",
        " \n",
        "\n",
        "    "
      ],
      "metadata": {
        "id": "prpEvKx3D6CF"
      },
      "execution_count": 19,
      "outputs": []
    },
    {
      "cell_type": "code",
      "execution_count": 20,
      "metadata": {
        "id": "fva4rdJfGmF-"
      },
      "outputs": [],
      "source": [
        "train_mbti_data = read_parquet_google_cloud('train_uniform_mbti_data.parquet')\n",
        "train_mbti_labels = read_parquet_google_cloud('train_uniform_mbti_labels.parquet')\n",
        "\n",
        "#remove gender from the train data set ( rather than dealing with de-biasing )\n",
        "train_mbti_data = train_mbti_data[['Username','Age','Posts','Occupation','message','is_I','is_S','is_T','is_J']]\n",
        "\n",
        "dev_mbti_data = read_parquet_google_cloud('dev_mbti_data.parquet')\n",
        "dev_mbti_labels = read_parquet_google_cloud('dev_mbti_labels.parquet')\n",
        "\n",
        "#remove gender from the dev data set ( rather than dealing with de-biasing )\n",
        "dev_mbti_data = dev_mbti_data[['Username','Age','Posts','Occupation','message','is_I','is_S','is_T','is_J']]\n",
        "\n",
        "test_mbti_data = read_parquet_google_cloud('test_mbti_data.parquet')\n",
        "test_mbti_labels = read_parquet_google_cloud('test_mbti_labels.parquet')\n",
        "\n",
        "#remove gender from the dev data set ( rather than dealing with de-biasing )\n",
        "test_mbti_data = test_mbti_data[['Username','Age','Posts','Occupation','message','is_I','is_S','is_T','is_J']]"
      ]
    },
    {
      "cell_type": "code",
      "execution_count": 21,
      "metadata": {
        "id": "Bd4LRdqFrb0d"
      },
      "outputs": [],
      "source": [
        "# define sample sizes for each run\n",
        "\n",
        "# start with small dimensions to try out the model\n",
        "n_train_samples = 6000\n",
        "n_test_samples = 1000\n",
        "n_dev_samples = 1000"
      ]
    },
    {
      "cell_type": "code",
      "source": [
        "# add features, but only to the number of samples dictated by the sample size defined above.\n",
        "\n",
        "train_mbti_short_df = train_mbti_data[ 0 : n_train_samples ]\n",
        "test_mbti_short_df = test_mbti_data[ 0 : n_test_samples ]\n",
        "dev_mbti_short_df = dev_mbti_data[ 0: n_dev_samples ]\n",
        "\n",
        "train_mbti_short_labels_df = train_mbti_labels[0: n_train_samples]\n",
        "test_mbti_short_labels_df = test_mbti_labels[0: n_test_samples]\n",
        "dev_mbti_short_labels_df = dev_mbti_labels[0: n_dev_samples]\n",
        "\n",
        "\n",
        "train_df = add_features(train_mbti_short_df, Features.all_features)\n",
        "test_df = add_features(test_mbti_short_df, Features.all_features)\n",
        "dev_df = add_features( dev_mbti_short_df, Features.all_features)\n"
      ],
      "metadata": {
        "colab": {
          "base_uri": "https://localhost:8080/"
        },
        "id": "07c2wmw3USWm",
        "outputId": "aadb95dd-7475-4b67-9dd0-e8f9952820aa"
      },
      "execution_count": 22,
      "outputs": [
        {
          "output_type": "stream",
          "name": "stderr",
          "text": [
            "<ipython-input-19-465bc000b9c4>:47: SettingWithCopyWarning: \n",
            "A value is trying to be set on a copy of a slice from a DataFrame.\n",
            "Try using .loc[row_indexer,col_indexer] = value instead\n",
            "\n",
            "See the caveats in the documentation: https://pandas.pydata.org/pandas-docs/stable/user_guide/indexing.html#returning-a-view-versus-a-copy\n",
            "  df['lexicon'] = df['message'].apply(lambda x: ', '.join(f'{key} {str(value)}' for key, value in lexicon.analyze(x).items() if value > 0))\n",
            "<ipython-input-19-465bc000b9c4>:48: SettingWithCopyWarning: \n",
            "A value is trying to be set on a copy of a slice from a DataFrame.\n",
            "Try using .loc[row_indexer,col_indexer] = value instead\n",
            "\n",
            "See the caveats in the documentation: https://pandas.pydata.org/pandas-docs/stable/user_guide/indexing.html#returning-a-view-versus-a-copy\n",
            "  df['emotions'] = df['message'].apply(lambda x: ', '.join(f'{key} {str(value)}' for key, value in NRCLex(x).raw_emotion_scores.items() if value > 0))\n",
            "<ipython-input-19-465bc000b9c4>:49: SettingWithCopyWarning: \n",
            "A value is trying to be set on a copy of a slice from a DataFrame.\n",
            "Try using .loc[row_indexer,col_indexer] = value instead\n",
            "\n",
            "See the caveats in the documentation: https://pandas.pydata.org/pandas-docs/stable/user_guide/indexing.html#returning-a-view-versus-a-copy\n",
            "  df['postags'] =  df['message'].apply(lambda x: ', '.join(f'{key.lower()} {str(value)}' for key, value in Counter((token.pos_ for token in nlp(x))).items()))\n",
            "<ipython-input-19-465bc000b9c4>:51: SettingWithCopyWarning: \n",
            "A value is trying to be set on a copy of a slice from a DataFrame.\n",
            "Try using .loc[row_indexer,col_indexer] = value instead\n",
            "\n",
            "See the caveats in the documentation: https://pandas.pydata.org/pandas-docs/stable/user_guide/indexing.html#returning-a-view-versus-a-copy\n",
            "  df['combined'] = prefix_text +  df['Username'].astype(str)+ separator_token + df['Age'].astype(str)+ separator_token +df['Posts'].astype(str)+ separator_token +df['Occupation'].astype(str)+ separator_token +\"lexical categories: \"+df['lexicon'].astype(str)+  separator_token +\"emotion scores: \"+df['emotions'].astype(str)+ separator_token + \"pos tags: \"+df['postags'].astype(str)+ separator_token + df['message'].astype(str)+ separator_token\n"
          ]
        }
      ]
    },
    {
      "cell_type": "code",
      "source": [
        "train_df.head()"
      ],
      "metadata": {
        "colab": {
          "base_uri": "https://localhost:8080/",
          "height": 206
        },
        "id": "skwJUoGdFlwg",
        "outputId": "c6dcaac1-5b9a-458a-d9ab-21201cf5782a"
      },
      "execution_count": 23,
      "outputs": [
        {
          "output_type": "execute_result",
          "data": {
            "text/plain": [
              "       Username   Age  Posts    Occupation  \\\n",
              "0    oneandonly  37.0    109          None   \n",
              "1      thalassa  45.0  25183   tree people   \n",
              "2        lady_x  46.0  18233  photographer   \n",
              "3         eagle  31.0    733       student   \n",
              "4  ayoitsstepho  31.0   4838       painter   \n",
              "\n",
              "                                             message   is_I   is_S   is_T  \\\n",
              "0    i do not think i am at all. but the question...   True  False  False   \n",
              "1    YYY0 of the longest threads on this site con...   True   True  False   \n",
              "2  XXXX seems right..i would guess t/f were balan...  False  False  False   \n",
              "3    i noticed. it is hard to care over such a gr...   True   True   True   \n",
              "4                                              :hug:   True   True  False   \n",
              "\n",
              "    is_J                                            lexicon  \\\n",
              "0   True  help 1.0, vacation 1.0, driving 1.0, death 1.0...   \n",
              "1  False  wedding 1.0, journalism 1.0, social_media 1.0,...   \n",
              "2  False                                                      \n",
              "3   True  dispute 1.0, school 1.0, college 1.0, healing ...   \n",
              "4  False                                                      \n",
              "\n",
              "                                            emotions  \\\n",
              "0             negative 2, positive 2, anticipation 1   \n",
              "1  negative 2, anger 1, anticipation 1, joy 1, po...   \n",
              "2             surprise 1, positive 3, joy 1, trust 1   \n",
              "3  fear 2, negative 2, trust 3, positive 2, joy 1...   \n",
              "4                         joy 1, positive 1, trust 1   \n",
              "\n",
              "                                             postags  \\\n",
              "0  space 1, pron 18, aux 17, part 8, verb 19, adv...   \n",
              "1  space 2, propn 2, adp 7, det 3, adj 7, noun 6,...   \n",
              "2  noun 6, verb 5, adj 3, punct 6, pron 5, aux 3,...   \n",
              "3  space 1, pron 9, verb 7, punct 8, aux 6, adj 7...   \n",
              "4                                    punct 2, noun 1   \n",
              "\n",
              "                                            combined  \n",
              "0  multilabel classification: oneandonly </s>37.0...  \n",
              "1  multilabel classification: thalassa </s>45.0 <...  \n",
              "2  multilabel classification: lady_x </s>46.0 </s...  \n",
              "3  multilabel classification: eagle </s>31.0 </s>...  \n",
              "4  multilabel classification: ayoitsstepho </s>31...  "
            ],
            "text/html": [
              "\n",
              "  <div id=\"df-0980cdcd-5bee-4c14-8643-124a4de4bd40\">\n",
              "    <div class=\"colab-df-container\">\n",
              "      <div>\n",
              "<style scoped>\n",
              "    .dataframe tbody tr th:only-of-type {\n",
              "        vertical-align: middle;\n",
              "    }\n",
              "\n",
              "    .dataframe tbody tr th {\n",
              "        vertical-align: top;\n",
              "    }\n",
              "\n",
              "    .dataframe thead th {\n",
              "        text-align: right;\n",
              "    }\n",
              "</style>\n",
              "<table border=\"1\" class=\"dataframe\">\n",
              "  <thead>\n",
              "    <tr style=\"text-align: right;\">\n",
              "      <th></th>\n",
              "      <th>Username</th>\n",
              "      <th>Age</th>\n",
              "      <th>Posts</th>\n",
              "      <th>Occupation</th>\n",
              "      <th>message</th>\n",
              "      <th>is_I</th>\n",
              "      <th>is_S</th>\n",
              "      <th>is_T</th>\n",
              "      <th>is_J</th>\n",
              "      <th>lexicon</th>\n",
              "      <th>emotions</th>\n",
              "      <th>postags</th>\n",
              "      <th>combined</th>\n",
              "    </tr>\n",
              "  </thead>\n",
              "  <tbody>\n",
              "    <tr>\n",
              "      <th>0</th>\n",
              "      <td>oneandonly</td>\n",
              "      <td>37.0</td>\n",
              "      <td>109</td>\n",
              "      <td>None</td>\n",
              "      <td>i do not think i am at all. but the question...</td>\n",
              "      <td>True</td>\n",
              "      <td>False</td>\n",
              "      <td>False</td>\n",
              "      <td>True</td>\n",
              "      <td>help 1.0, vacation 1.0, driving 1.0, death 1.0...</td>\n",
              "      <td>negative 2, positive 2, anticipation 1</td>\n",
              "      <td>space 1, pron 18, aux 17, part 8, verb 19, adv...</td>\n",
              "      <td>multilabel classification: oneandonly &lt;/s&gt;37.0...</td>\n",
              "    </tr>\n",
              "    <tr>\n",
              "      <th>1</th>\n",
              "      <td>thalassa</td>\n",
              "      <td>45.0</td>\n",
              "      <td>25183</td>\n",
              "      <td>tree people</td>\n",
              "      <td>YYY0 of the longest threads on this site con...</td>\n",
              "      <td>True</td>\n",
              "      <td>True</td>\n",
              "      <td>False</td>\n",
              "      <td>False</td>\n",
              "      <td>wedding 1.0, journalism 1.0, social_media 1.0,...</td>\n",
              "      <td>negative 2, anger 1, anticipation 1, joy 1, po...</td>\n",
              "      <td>space 2, propn 2, adp 7, det 3, adj 7, noun 6,...</td>\n",
              "      <td>multilabel classification: thalassa &lt;/s&gt;45.0 &lt;...</td>\n",
              "    </tr>\n",
              "    <tr>\n",
              "      <th>2</th>\n",
              "      <td>lady_x</td>\n",
              "      <td>46.0</td>\n",
              "      <td>18233</td>\n",
              "      <td>photographer</td>\n",
              "      <td>XXXX seems right..i would guess t/f were balan...</td>\n",
              "      <td>False</td>\n",
              "      <td>False</td>\n",
              "      <td>False</td>\n",
              "      <td>False</td>\n",
              "      <td></td>\n",
              "      <td>surprise 1, positive 3, joy 1, trust 1</td>\n",
              "      <td>noun 6, verb 5, adj 3, punct 6, pron 5, aux 3,...</td>\n",
              "      <td>multilabel classification: lady_x &lt;/s&gt;46.0 &lt;/s...</td>\n",
              "    </tr>\n",
              "    <tr>\n",
              "      <th>3</th>\n",
              "      <td>eagle</td>\n",
              "      <td>31.0</td>\n",
              "      <td>733</td>\n",
              "      <td>student</td>\n",
              "      <td>i noticed. it is hard to care over such a gr...</td>\n",
              "      <td>True</td>\n",
              "      <td>True</td>\n",
              "      <td>True</td>\n",
              "      <td>True</td>\n",
              "      <td>dispute 1.0, school 1.0, college 1.0, healing ...</td>\n",
              "      <td>fear 2, negative 2, trust 3, positive 2, joy 1...</td>\n",
              "      <td>space 1, pron 9, verb 7, punct 8, aux 6, adj 7...</td>\n",
              "      <td>multilabel classification: eagle &lt;/s&gt;31.0 &lt;/s&gt;...</td>\n",
              "    </tr>\n",
              "    <tr>\n",
              "      <th>4</th>\n",
              "      <td>ayoitsstepho</td>\n",
              "      <td>31.0</td>\n",
              "      <td>4838</td>\n",
              "      <td>painter</td>\n",
              "      <td>:hug:</td>\n",
              "      <td>True</td>\n",
              "      <td>True</td>\n",
              "      <td>False</td>\n",
              "      <td>False</td>\n",
              "      <td></td>\n",
              "      <td>joy 1, positive 1, trust 1</td>\n",
              "      <td>punct 2, noun 1</td>\n",
              "      <td>multilabel classification: ayoitsstepho &lt;/s&gt;31...</td>\n",
              "    </tr>\n",
              "  </tbody>\n",
              "</table>\n",
              "</div>\n",
              "      <button class=\"colab-df-convert\" onclick=\"convertToInteractive('df-0980cdcd-5bee-4c14-8643-124a4de4bd40')\"\n",
              "              title=\"Convert this dataframe to an interactive table.\"\n",
              "              style=\"display:none;\">\n",
              "        \n",
              "  <svg xmlns=\"http://www.w3.org/2000/svg\" height=\"24px\"viewBox=\"0 0 24 24\"\n",
              "       width=\"24px\">\n",
              "    <path d=\"M0 0h24v24H0V0z\" fill=\"none\"/>\n",
              "    <path d=\"M18.56 5.44l.94 2.06.94-2.06 2.06-.94-2.06-.94-.94-2.06-.94 2.06-2.06.94zm-11 1L8.5 8.5l.94-2.06 2.06-.94-2.06-.94L8.5 2.5l-.94 2.06-2.06.94zm10 10l.94 2.06.94-2.06 2.06-.94-2.06-.94-.94-2.06-.94 2.06-2.06.94z\"/><path d=\"M17.41 7.96l-1.37-1.37c-.4-.4-.92-.59-1.43-.59-.52 0-1.04.2-1.43.59L10.3 9.45l-7.72 7.72c-.78.78-.78 2.05 0 2.83L4 21.41c.39.39.9.59 1.41.59.51 0 1.02-.2 1.41-.59l7.78-7.78 2.81-2.81c.8-.78.8-2.07 0-2.86zM5.41 20L4 18.59l7.72-7.72 1.47 1.35L5.41 20z\"/>\n",
              "  </svg>\n",
              "      </button>\n",
              "      \n",
              "  <style>\n",
              "    .colab-df-container {\n",
              "      display:flex;\n",
              "      flex-wrap:wrap;\n",
              "      gap: 12px;\n",
              "    }\n",
              "\n",
              "    .colab-df-convert {\n",
              "      background-color: #E8F0FE;\n",
              "      border: none;\n",
              "      border-radius: 50%;\n",
              "      cursor: pointer;\n",
              "      display: none;\n",
              "      fill: #1967D2;\n",
              "      height: 32px;\n",
              "      padding: 0 0 0 0;\n",
              "      width: 32px;\n",
              "    }\n",
              "\n",
              "    .colab-df-convert:hover {\n",
              "      background-color: #E2EBFA;\n",
              "      box-shadow: 0px 1px 2px rgba(60, 64, 67, 0.3), 0px 1px 3px 1px rgba(60, 64, 67, 0.15);\n",
              "      fill: #174EA6;\n",
              "    }\n",
              "\n",
              "    [theme=dark] .colab-df-convert {\n",
              "      background-color: #3B4455;\n",
              "      fill: #D2E3FC;\n",
              "    }\n",
              "\n",
              "    [theme=dark] .colab-df-convert:hover {\n",
              "      background-color: #434B5C;\n",
              "      box-shadow: 0px 1px 3px 1px rgba(0, 0, 0, 0.15);\n",
              "      filter: drop-shadow(0px 1px 2px rgba(0, 0, 0, 0.3));\n",
              "      fill: #FFFFFF;\n",
              "    }\n",
              "  </style>\n",
              "\n",
              "      <script>\n",
              "        const buttonEl =\n",
              "          document.querySelector('#df-0980cdcd-5bee-4c14-8643-124a4de4bd40 button.colab-df-convert');\n",
              "        buttonEl.style.display =\n",
              "          google.colab.kernel.accessAllowed ? 'block' : 'none';\n",
              "\n",
              "        async function convertToInteractive(key) {\n",
              "          const element = document.querySelector('#df-0980cdcd-5bee-4c14-8643-124a4de4bd40');\n",
              "          const dataTable =\n",
              "            await google.colab.kernel.invokeFunction('convertToInteractive',\n",
              "                                                     [key], {});\n",
              "          if (!dataTable) return;\n",
              "\n",
              "          const docLinkHtml = 'Like what you see? Visit the ' +\n",
              "            '<a target=\"_blank\" href=https://colab.research.google.com/notebooks/data_table.ipynb>data table notebook</a>'\n",
              "            + ' to learn more about interactive tables.';\n",
              "          element.innerHTML = '';\n",
              "          dataTable['output_type'] = 'display_data';\n",
              "          await google.colab.output.renderOutput(dataTable, element);\n",
              "          const docLink = document.createElement('div');\n",
              "          docLink.innerHTML = docLinkHtml;\n",
              "          element.appendChild(docLink);\n",
              "        }\n",
              "      </script>\n",
              "    </div>\n",
              "  </div>\n",
              "  "
            ]
          },
          "metadata": {},
          "execution_count": 23
        }
      ]
    },
    {
      "cell_type": "code",
      "source": [
        "# create pandas dataframe with the correct format of \"prefix\" + \"input_text\" and \"target_text\"\n",
        "\n",
        "\n",
        "def create_T5_df( input_df, labels_df, n_rows ):\n",
        "    input_text_list = input_df['combined']\n",
        "    target_text_list = labels_df['MBTI Type']\n",
        "\n",
        "    combined_dict = { 'input_text': input_text_list, 'target_text': target_text_list}\n",
        "\n",
        "    return pd.DataFrame(combined_dict)\n"
      ],
      "metadata": {
        "id": "xuOkoQlJAhOq"
      },
      "execution_count": 24,
      "outputs": []
    },
    {
      "cell_type": "code",
      "source": [
        "# create custom dfs with the 3 columns necessary for creating prefix, input text and target text \n",
        "\n",
        "t5_train_df = create_T5_df(train_df, train_mbti_short_labels_df, n_train_samples )\n",
        "t5_test_df = create_T5_df(test_df, test_mbti_short_labels_df, n_test_samples )\n",
        "t5_dev_df = create_T5_df(dev_df, dev_mbti_short_labels_df, n_dev_samples )"
      ],
      "metadata": {
        "id": "rKc2gPvFAsPv"
      },
      "execution_count": 25,
      "outputs": []
    },
    {
      "cell_type": "code",
      "source": [
        "t5_train_df.head()"
      ],
      "metadata": {
        "colab": {
          "base_uri": "https://localhost:8080/",
          "height": 206
        },
        "id": "hwujBWbvFuMV",
        "outputId": "94f2a327-7a84-451b-a256-4cc8ce0a4d92"
      },
      "execution_count": 26,
      "outputs": [
        {
          "output_type": "execute_result",
          "data": {
            "text/plain": [
              "                                          input_text target_text\n",
              "0  multilabel classification: oneandonly </s>37.0...        INFJ\n",
              "1  multilabel classification: thalassa </s>45.0 <...        ISFP\n",
              "2  multilabel classification: lady_x </s>46.0 </s...        ENFP\n",
              "3  multilabel classification: eagle </s>31.0 </s>...        ISTJ\n",
              "4  multilabel classification: ayoitsstepho </s>31...        ISFP"
            ],
            "text/html": [
              "\n",
              "  <div id=\"df-916e1e22-7c31-4208-847b-3bb3bb811e7e\">\n",
              "    <div class=\"colab-df-container\">\n",
              "      <div>\n",
              "<style scoped>\n",
              "    .dataframe tbody tr th:only-of-type {\n",
              "        vertical-align: middle;\n",
              "    }\n",
              "\n",
              "    .dataframe tbody tr th {\n",
              "        vertical-align: top;\n",
              "    }\n",
              "\n",
              "    .dataframe thead th {\n",
              "        text-align: right;\n",
              "    }\n",
              "</style>\n",
              "<table border=\"1\" class=\"dataframe\">\n",
              "  <thead>\n",
              "    <tr style=\"text-align: right;\">\n",
              "      <th></th>\n",
              "      <th>input_text</th>\n",
              "      <th>target_text</th>\n",
              "    </tr>\n",
              "  </thead>\n",
              "  <tbody>\n",
              "    <tr>\n",
              "      <th>0</th>\n",
              "      <td>multilabel classification: oneandonly &lt;/s&gt;37.0...</td>\n",
              "      <td>INFJ</td>\n",
              "    </tr>\n",
              "    <tr>\n",
              "      <th>1</th>\n",
              "      <td>multilabel classification: thalassa &lt;/s&gt;45.0 &lt;...</td>\n",
              "      <td>ISFP</td>\n",
              "    </tr>\n",
              "    <tr>\n",
              "      <th>2</th>\n",
              "      <td>multilabel classification: lady_x &lt;/s&gt;46.0 &lt;/s...</td>\n",
              "      <td>ENFP</td>\n",
              "    </tr>\n",
              "    <tr>\n",
              "      <th>3</th>\n",
              "      <td>multilabel classification: eagle &lt;/s&gt;31.0 &lt;/s&gt;...</td>\n",
              "      <td>ISTJ</td>\n",
              "    </tr>\n",
              "    <tr>\n",
              "      <th>4</th>\n",
              "      <td>multilabel classification: ayoitsstepho &lt;/s&gt;31...</td>\n",
              "      <td>ISFP</td>\n",
              "    </tr>\n",
              "  </tbody>\n",
              "</table>\n",
              "</div>\n",
              "      <button class=\"colab-df-convert\" onclick=\"convertToInteractive('df-916e1e22-7c31-4208-847b-3bb3bb811e7e')\"\n",
              "              title=\"Convert this dataframe to an interactive table.\"\n",
              "              style=\"display:none;\">\n",
              "        \n",
              "  <svg xmlns=\"http://www.w3.org/2000/svg\" height=\"24px\"viewBox=\"0 0 24 24\"\n",
              "       width=\"24px\">\n",
              "    <path d=\"M0 0h24v24H0V0z\" fill=\"none\"/>\n",
              "    <path d=\"M18.56 5.44l.94 2.06.94-2.06 2.06-.94-2.06-.94-.94-2.06-.94 2.06-2.06.94zm-11 1L8.5 8.5l.94-2.06 2.06-.94-2.06-.94L8.5 2.5l-.94 2.06-2.06.94zm10 10l.94 2.06.94-2.06 2.06-.94-2.06-.94-.94-2.06-.94 2.06-2.06.94z\"/><path d=\"M17.41 7.96l-1.37-1.37c-.4-.4-.92-.59-1.43-.59-.52 0-1.04.2-1.43.59L10.3 9.45l-7.72 7.72c-.78.78-.78 2.05 0 2.83L4 21.41c.39.39.9.59 1.41.59.51 0 1.02-.2 1.41-.59l7.78-7.78 2.81-2.81c.8-.78.8-2.07 0-2.86zM5.41 20L4 18.59l7.72-7.72 1.47 1.35L5.41 20z\"/>\n",
              "  </svg>\n",
              "      </button>\n",
              "      \n",
              "  <style>\n",
              "    .colab-df-container {\n",
              "      display:flex;\n",
              "      flex-wrap:wrap;\n",
              "      gap: 12px;\n",
              "    }\n",
              "\n",
              "    .colab-df-convert {\n",
              "      background-color: #E8F0FE;\n",
              "      border: none;\n",
              "      border-radius: 50%;\n",
              "      cursor: pointer;\n",
              "      display: none;\n",
              "      fill: #1967D2;\n",
              "      height: 32px;\n",
              "      padding: 0 0 0 0;\n",
              "      width: 32px;\n",
              "    }\n",
              "\n",
              "    .colab-df-convert:hover {\n",
              "      background-color: #E2EBFA;\n",
              "      box-shadow: 0px 1px 2px rgba(60, 64, 67, 0.3), 0px 1px 3px 1px rgba(60, 64, 67, 0.15);\n",
              "      fill: #174EA6;\n",
              "    }\n",
              "\n",
              "    [theme=dark] .colab-df-convert {\n",
              "      background-color: #3B4455;\n",
              "      fill: #D2E3FC;\n",
              "    }\n",
              "\n",
              "    [theme=dark] .colab-df-convert:hover {\n",
              "      background-color: #434B5C;\n",
              "      box-shadow: 0px 1px 3px 1px rgba(0, 0, 0, 0.15);\n",
              "      filter: drop-shadow(0px 1px 2px rgba(0, 0, 0, 0.3));\n",
              "      fill: #FFFFFF;\n",
              "    }\n",
              "  </style>\n",
              "\n",
              "      <script>\n",
              "        const buttonEl =\n",
              "          document.querySelector('#df-916e1e22-7c31-4208-847b-3bb3bb811e7e button.colab-df-convert');\n",
              "        buttonEl.style.display =\n",
              "          google.colab.kernel.accessAllowed ? 'block' : 'none';\n",
              "\n",
              "        async function convertToInteractive(key) {\n",
              "          const element = document.querySelector('#df-916e1e22-7c31-4208-847b-3bb3bb811e7e');\n",
              "          const dataTable =\n",
              "            await google.colab.kernel.invokeFunction('convertToInteractive',\n",
              "                                                     [key], {});\n",
              "          if (!dataTable) return;\n",
              "\n",
              "          const docLinkHtml = 'Like what you see? Visit the ' +\n",
              "            '<a target=\"_blank\" href=https://colab.research.google.com/notebooks/data_table.ipynb>data table notebook</a>'\n",
              "            + ' to learn more about interactive tables.';\n",
              "          element.innerHTML = '';\n",
              "          dataTable['output_type'] = 'display_data';\n",
              "          await google.colab.output.renderOutput(dataTable, element);\n",
              "          const docLink = document.createElement('div');\n",
              "          docLink.innerHTML = docLinkHtml;\n",
              "          element.appendChild(docLink);\n",
              "        }\n",
              "      </script>\n",
              "    </div>\n",
              "  </div>\n",
              "  "
            ]
          },
          "metadata": {},
          "execution_count": 26
        }
      ]
    },
    {
      "cell_type": "code",
      "execution_count": 32,
      "metadata": {
        "id": "tkWEjy9U-3xM"
      },
      "outputs": [],
      "source": [
        "def preprocess_data( input_text, target_text, tokenizer, max_length=512 ):\n",
        "\n",
        "    input_ids = []\n",
        "    input_attention_masks = []\n",
        "\n",
        "    target_ids = []\n",
        "\n",
        "    input_encodings = tokenizer.encode_plus(input_text,\n",
        "                                            add_special_tokens=True, # add tokens relative to model\n",
        "                                            truncation=True,  # truncate longer inputs\n",
        "                                            max_length=max_length,  # set max_length\n",
        "                                            padding = 'max_length',  # add padding\n",
        "                                            return_attention_mask=True,  # create attn masks\n",
        "                                            return_tensors='pt')  #return pytorch tensors\n",
        "\n",
        "    # Extract input ids and attention masks, add to corresponding lists\n",
        "    input_ids.append(input_encodings[\"input_ids\"])\n",
        "    input_attention_masks.append(input_encodings[\"attention_mask\"])\n",
        "\n",
        "    target_ids.append(tokenizer(target_text + \" </s>\"))\n",
        "\n",
        "    return [input_ids,input_attention_masks], [target_ids]\n"
      ]
    },
    {
      "cell_type": "code",
      "source": [
        "# figure out the max_length for the targets after tokenizing\n",
        "target_text_list = [ label + \" </s>\" for label in train_mbti_short_labels_df['MBTI Type']]\n",
        "target_tokens_length = []\n",
        "\n",
        "for i in range( 0, len(target_text_list)):\n",
        "    target_tokens_length.append(len(t5_tokenizer.tokenize(target_text_list[i])))\n",
        "\n",
        "target_len_df = pd.DataFrame({'len_target_tokens': target_tokens_length})\n",
        "\n",
        "mean_len = target_len_df['len_target_tokens'].mean()\n",
        "max_len = target_len_df['len_target_tokens'].max()\n",
        "\n",
        "print( \"Mean target tokens len:\", mean_len, \"Max target tokens len:\", max_len )\n",
        "\n",
        "max_target_length = max_len\n"
      ],
      "metadata": {
        "colab": {
          "base_uri": "https://localhost:8080/"
        },
        "id": "SR0ToR9QY3Mg",
        "outputId": "6d00b927-6bac-4420-c4e8-cd32f4c93029"
      },
      "execution_count": 28,
      "outputs": [
        {
          "output_type": "stream",
          "name": "stdout",
          "text": [
            "Mean target tokens len: 3.747333333333333 Max target tokens len: 4\n"
          ]
        }
      ]
    },
    {
      "cell_type": "code",
      "source": [
        "def tokenize_textlist( text_list, tokenizer, max_length = 512 ):\n",
        "\n",
        "    token_ids = []\n",
        "    token_attention_masks = []\n",
        "\n",
        "    for text in text_list:\n",
        "        token_encodings = tokenizer.encode_plus(text,\n",
        "                                            add_special_tokens=True, # add tokens relative to model\n",
        "                                            truncation=True,  # truncate longer inputs\n",
        "                                            max_length=max_length,  # set max_length\n",
        "                                            padding = 'max_length',  # add padding\n",
        "                                            return_attention_mask=True,  # create attn masks\n",
        "                                            return_tensors='pt')  #return pytorch tensors\n",
        "\n",
        "        token_ids.append(token_encodings['input_ids'])\n",
        "        token_attention_masks.append(token_encodings['attention_mask'])\n",
        "\n",
        "    return torch.cat(token_ids, dim=0), torch.cat(token_attention_masks, dim=0)\n",
        "\n"
      ],
      "metadata": {
        "id": "OdLZNsHOWxq6"
      },
      "execution_count": 31,
      "outputs": []
    },
    {
      "cell_type": "code",
      "source": [
        "# tokenize train set\n",
        "\n",
        "train_input_ids, train_attention_masks = tokenize_textlist( t5_train_df['input_text'], t5_tokenizer, 512 )\n",
        "train_target_ids, train_target_attention_masks = tokenize_textlist( t5_train_df['target_text'], t5_tokenizer, max_target_length)\n",
        "\n",
        "# create a dataset for training\n",
        "train_dataset = TensorDataset( train_input_ids, train_attention_masks, train_target_ids, train_target_attention_masks )\n",
        "\n",
        "# create a dataloader for training\n",
        "train_dataloader = DataLoader(train_dataset, batch_size = 16, shuffle = False)\n"
      ],
      "metadata": {
        "colab": {
          "base_uri": "https://localhost:8080/"
        },
        "id": "akW5nba8b6Vz",
        "outputId": "87dac520-7482-44f5-94a4-b2811e0a1e74"
      },
      "execution_count": 33,
      "outputs": [
        {
          "output_type": "stream",
          "name": "stderr",
          "text": [
            "/usr/local/lib/python3.8/dist-packages/transformers/models/t5/tokenization_t5.py:219: UserWarning: This sequence already has </s>. In future versions this behavior may lead to duplicated eos tokens being added.\n",
            "  warnings.warn(\n"
          ]
        }
      ]
    },
    {
      "cell_type": "code",
      "source": [
        "# tokenize test set\n",
        "\n",
        "test_input_ids, test_attention_masks = tokenize_textlist( t5_test_df['input_text'], t5_tokenizer, 512 )\n",
        "test_target_ids, test_target_attention_masks = tokenize_textlist( t5_test_df['target_text'], t5_tokenizer, max_target_length)\n",
        "\n",
        "# create a dataset for test\n",
        "test_dataset = TensorDataset( test_input_ids, test_attention_masks, test_target_ids, test_target_attention_masks )\n",
        "\n",
        "# create a dataloader for test\n",
        "test_dataloader = DataLoader(test_dataset, batch_size = 16, shuffle = False)\n",
        "\n"
      ],
      "metadata": {
        "id": "DPTRcLY0c6_m"
      },
      "execution_count": 34,
      "outputs": []
    },
    {
      "cell_type": "code",
      "source": [
        "# tokenize dev set\n",
        "\n",
        "dev_input_ids, dev_attention_masks = tokenize_textlist( t5_dev_df['input_text'], t5_tokenizer, 512 )\n",
        "dev_target_ids, dev_target_attention_masks = tokenize_textlist( t5_dev_df['target_text'], t5_tokenizer, max_target_length)\n",
        "\n",
        "# create a dataset for dev\n",
        "dev_dataset = TensorDataset( dev_input_ids, dev_attention_masks, dev_target_ids, dev_target_attention_masks )\n",
        "\n",
        "# create a dataloader for dev\n",
        "dev_dataloader = DataLoader(dev_dataset, batch_size = 16, shuffle = False)\n",
        "\n"
      ],
      "metadata": {
        "colab": {
          "base_uri": "https://localhost:8080/"
        },
        "id": "jFlSC8jYdDZG",
        "outputId": "1b0f90e8-a533-4a60-f24f-f71774a456d0"
      },
      "execution_count": 62,
      "outputs": [
        {
          "output_type": "stream",
          "name": "stderr",
          "text": [
            "/usr/local/lib/python3.8/dist-packages/transformers/models/t5/tokenization_t5.py:219: UserWarning: This sequence already has </s>. In future versions this behavior may lead to duplicated eos tokens being added.\n",
            "  warnings.warn(\n"
          ]
        }
      ]
    },
    {
      "cell_type": "markdown",
      "metadata": {
        "id": "mLraZ0aI4pH3"
      },
      "source": [
        "# Create Model and Stages for it\n",
        "\n",
        "this cell is cut and past from http://seekinginference.com/applied_nlp/t5-class.html\n"
      ]
    },
    {
      "cell_type": "code",
      "source": [
        "def train(model, dataloader, optimizer):\n",
        "\n",
        "    # capture time\n",
        "    total_t0 = time.time()\n",
        "\n",
        "    # Perform one full pass over the training set.\n",
        "    print(\"\")\n",
        "    print('======== Epoch {:} / {:} ========'.format(epoch + 1, epochs))\n",
        "    print('Training...')\n",
        "\n",
        "    # reset total loss for epoch\n",
        "    train_total_loss = 0\n",
        "    total_train_f1 = 0\n",
        "\n",
        "    # put model into traning mode\n",
        "    model.train()\n",
        "\n",
        "    # for each batch of training data...\n",
        "    for step, batch in enumerate(dataloader):\n",
        "\n",
        "        # progress update every 40 batches.\n",
        "        if step % 40 == 0 and not step == 0:\n",
        "\n",
        "            # Report progress.\n",
        "            print('  Batch {:>5,}  of  {:>5,}.'.format(step, len(dataloader)))\n",
        "\n",
        "        # Unpack this training batch from our dataloader:\n",
        "        #\n",
        "        # As we unpack the batch, we'll also copy each tensor to the GPU using\n",
        "        # the `to` method.\n",
        "        #\n",
        "        # `batch` contains 4 pytorch tensors:\n",
        "        #   [0]: input tokens\n",
        "        #   [1]: attention masks\n",
        "        #   [2]: target tokens\n",
        "        #   [3]: target attenion masks\n",
        "        b_input_ids = batch[0].cuda()\n",
        "        b_input_mask = batch[1].cuda()\n",
        "        b_target_ids = batch[2].cuda()\n",
        "        b_target_mask = batch[3].cuda()\n",
        "\n",
        "        # clear previously calculated gradients\n",
        "        optimizer.zero_grad()\n",
        "\n",
        "        # runs the forward pass with autocasting.\n",
        "        with autocast():\n",
        "            # forward propagation (evaluate model on training batch)\n",
        "            outputs = model(input_ids=b_input_ids,\n",
        "                            attention_mask=b_input_mask,\n",
        "                            labels=b_target_ids,\n",
        "                            decoder_attention_mask=b_target_mask)\n",
        "\n",
        "            loss, prediction_scores = outputs[:2]\n",
        "\n",
        "            # sum the training loss over all batches for average loss at end\n",
        "            # loss is a tensor containing a single value\n",
        "            train_total_loss += loss.item()\n",
        "\n",
        "        # Scales loss.  Calls backward() on scaled loss to create scaled gradients.\n",
        "        # Backward passes under autocast are not recommended.\n",
        "        # Backward ops run in the same dtype autocast chose for corresponding forward ops.\n",
        "        scaler.scale(loss).backward()\n",
        "\n",
        "        # scaler.step() first unscales the gradients of the optimizer's assigned params.\n",
        "        # If these gradients do not contain infs or NaNs, optimizer.step() is then called,\n",
        "        # otherwise, optimizer.step() is skipped.\n",
        "        scaler.step(optimizer)\n",
        "\n",
        "        # Updates the scale for next iteration.\n",
        "        scaler.update()\n",
        "\n",
        "        # update the learning rate\n",
        "        scheduler.step()\n",
        "\n",
        "    # calculate the average loss over all of the batches\n",
        "    avg_train_loss = train_total_loss / len(dataloader)\n",
        "\n",
        "    # Record all statistics from this epoch.\n",
        "    training_stats.append(\n",
        "        {\n",
        "            'Train Loss': avg_train_loss\n",
        "        }\n",
        "    )\n",
        "\n",
        "    # training time end\n",
        "    training_time = format_time(time.time() - total_t0)\n",
        "\n",
        "    # print result summaries\n",
        "    print(\"\")\n",
        "    print(\"summary results\")\n",
        "    print(\"epoch | trn loss | trn time \")\n",
        "    print(f\"{epoch+1:5d} | {avg_train_loss:.5f} | {training_time:}\")\n",
        "\n",
        "    return training_stats\n",
        "\n",
        "\n",
        "def validating(model, dataloader):\n",
        "\n",
        "    # capture validation time\n",
        "    total_t0 = time.time()\n",
        "\n",
        "    # After the completion of each training epoch, measure our performance on\n",
        "    # our validation set.\n",
        "    print(\"\")\n",
        "    print(\"Running Validation...\")\n",
        "\n",
        "    # put the model in evaluation mode\n",
        "    model.eval()\n",
        "\n",
        "    # track variables\n",
        "    total_valid_loss = 0\n",
        "\n",
        "    # evaluate data for one epoch\n",
        "    for batch in dataloader:\n",
        "\n",
        "        # Unpack this training batch from our dataloader:\n",
        "        # `batch` contains three pytorch tensors:\n",
        "        #   [0]: input tokens\n",
        "        #   [1]: attention masks\n",
        "        #   [2]: target tokens\n",
        "        #   [3]: target attenion masks\n",
        "        b_input_ids = batch[0].cuda()\n",
        "        b_input_mask = batch[1].cuda()\n",
        "        b_target_ids = batch[2].cuda()\n",
        "        b_target_mask = batch[3].cuda()\n",
        "\n",
        "        # tell pytorch not to bother calculating gradients\n",
        "        # as its only necessary for training\n",
        "        with torch.no_grad():\n",
        "\n",
        "            # forward propagation (evaluate model on training batch)\n",
        "            outputs = model(input_ids=b_input_ids,\n",
        "                            attention_mask=b_input_mask,\n",
        "                            labels=b_target_ids,\n",
        "                            decoder_attention_mask=b_target_mask)\n",
        "\n",
        "            loss, prediction_scores = outputs[:2]\n",
        "\n",
        "            # sum the training loss over all batches for average loss at end\n",
        "            # loss is a tensor containing a single value\n",
        "            total_valid_loss += loss.item()\n",
        "\n",
        "    # calculate the average loss over all of the batches.\n",
        "    global avg_val_loss\n",
        "    avg_val_loss = total_valid_loss / len(dataloader)\n",
        "\n",
        "    # Record all statistics from this epoch.\n",
        "    valid_stats.append(\n",
        "        {\n",
        "            'Val Loss': avg_val_loss,\n",
        "            'Val PPL.': np.exp(avg_val_loss)\n",
        "        }\n",
        "    )\n",
        "\n",
        "    # capture end validation time\n",
        "    training_time = format_time(time.time() - total_t0)\n",
        "\n",
        "    # print result summaries\n",
        "    print(\"\")\n",
        "    print(\"summary results\")\n",
        "    print(\"epoch | val loss | val ppl | val time\")\n",
        "    print(f\"{epoch+1:5d} | {avg_val_loss:.5f} | {np.exp(avg_val_loss):.3f} | {training_time:}\")\n",
        "\n",
        "    return valid_stats\n",
        "\n",
        "\n",
        "def testing(model, dataloader):\n",
        "\n",
        "    print(\"\")\n",
        "    print(\"Running Testing...\")\n",
        "\n",
        "    # measure training time\n",
        "    t0 = time.time()\n",
        "\n",
        "    # put the model in evaluation mode\n",
        "    model.eval()\n",
        "\n",
        "    # track variables\n",
        "    total_test_loss = 0\n",
        "    total_test_acc = 0\n",
        "    total_test_f1 = 0\n",
        "    predictions = []\n",
        "    actuals = []\n",
        "\n",
        "    # evaluate data for one epoch\n",
        "    for step, batch in enumerate(dataloader):\n",
        "        # progress update every 40 batches.\n",
        "        if step % 40 == 0 and not step == 0:\n",
        "            # Calculate elapsed time in minutes.\n",
        "            elapsed = format_time(time.time() - t0)\n",
        "            # Report progress.\n",
        "            print('  Batch {:>5,}  of  {:>5,}.    Elapsed: {:}.'.format(step, len(dataloader), elapsed))\n",
        "\n",
        "        # Unpack this training batch from our dataloader:\n",
        "        # `batch` contains three pytorch tensors:\n",
        "        #   [0]: input tokens\n",
        "        #   [1]: attention masks\n",
        "        #   [2]: target tokens\n",
        "        #   [3]: target attenion masks\n",
        "        b_input_ids = batch[0].cuda()\n",
        "        b_input_mask = batch[1].cuda()\n",
        "        b_target_ids = batch[2].cuda()\n",
        "        b_target_mask = batch[3].cuda()\n",
        "\n",
        "        # tell pytorch not to bother calculating gradients\n",
        "        # as its only necessary for training\n",
        "        with torch.no_grad():\n",
        "\n",
        "            # forward propagation (evaluate model on training batch)\n",
        "            outputs = model(input_ids=b_input_ids,\n",
        "                            attention_mask=b_input_mask,\n",
        "                            labels=b_target_ids,\n",
        "                            decoder_attention_mask=b_target_mask)\n",
        "\n",
        "            loss, prediction_scores = outputs[:2]\n",
        "\n",
        "            total_test_loss += loss.item()\n",
        "\n",
        "            generated_ids = model.generate(\n",
        "                    input_ids=b_input_ids,\n",
        "                    attention_mask=b_input_mask,\n",
        "                    max_length=max_target_length\n",
        "                    )\n",
        "\n",
        "            preds = [t5_tokenizer.decode(g, skip_special_tokens=True, clean_up_tokenization_spaces=True) for g in generated_ids]\n",
        "            target = [t5_tokenizer.decode(t, skip_special_tokens=True, clean_up_tokenization_spaces=True) for t in b_target_ids]\n",
        "\n",
        "            total_test_acc += accuracy_score(target, preds)\n",
        "            total_test_f1 += f1_score(preds, target,\n",
        "                                       average='weighted',\n",
        "                                       labels=np.unique(preds))\n",
        "            predictions.extend(preds)\n",
        "            actuals.extend(target)\n",
        "\n",
        "    # calculate the average loss over all of the batches.\n",
        "    avg_test_loss = total_test_loss / len(dataloader)\n",
        "\n",
        "    avg_test_acc = total_test_acc / len(test_dataloader)\n",
        "\n",
        "    avg_test_f1 = total_test_f1 / len(test_dataloader)\n",
        "\n",
        "    # Record all statistics from this epoch.\n",
        "    test_stats.append(\n",
        "        {\n",
        "            'Test Loss': avg_test_loss,\n",
        "            'Test PPL.': np.exp(avg_test_loss),\n",
        "            'Test Acc.': avg_test_acc,\n",
        "            'Test F1': avg_test_f1\n",
        "        }\n",
        "    )\n",
        "    global df2\n",
        "    temp_data = pd.DataFrame({'predicted': predictions, 'actual': actuals})\n",
        "    df2 = df2.append(temp_data)\n",
        "\n",
        "    return test_stats\n",
        "    \n",
        "\n",
        "# time function\n",
        "def format_time(elapsed):\n",
        "    '''\n",
        "    Takes a time in seconds and returns a string hh:mm:ss\n",
        "    '''\n",
        "    # Round to the nearest second.\n",
        "    elapsed_rounded = int(round((elapsed)))\n",
        "    # Format as hh:mm:ss\n",
        "    return str(datetime.timedelta(seconds=elapsed_rounded))"
      ],
      "metadata": {
        "id": "8ooE6knvdgjg"
      },
      "execution_count": 61,
      "outputs": []
    },
    {
      "cell_type": "markdown",
      "source": [
        "## Training Preparation\n"
      ],
      "metadata": {
        "id": "Noc11PRGbejy"
      }
    },
    {
      "cell_type": "code",
      "source": [
        "# instantiate model T5 transformer with a language modeling head on top\n",
        "model = T5ForConditionalGeneration.from_pretrained('t5-small').cuda()  # to GPU"
      ],
      "metadata": {
        "id": "jQMtiYRbdgso"
      },
      "execution_count": 63,
      "outputs": []
    },
    {
      "cell_type": "code",
      "source": [
        "# Adam w/ Weight Decay Fix\n",
        "# set to optimizer_grouped_parameters or model.parameters()\n",
        "optimizer = torch.optim.AdamW(model.parameters(),\n",
        "                  lr = 3e-5\n",
        "                  )\n",
        "\n",
        "# epochs\n",
        "epochs = 2\n",
        "\n",
        "# lr scheduler\n",
        "total_steps = len(train_dataloader) * epochs\n",
        "scheduler = get_linear_schedule_with_warmup(optimizer,\n",
        "                                            num_warmup_steps=0,\n",
        "                                            num_training_steps=total_steps)\n",
        "\n",
        "# create gradient scaler for mixed precision\n",
        "scaler = GradScaler()\n"
      ],
      "metadata": {
        "id": "dWoqkQdjdg2Q"
      },
      "execution_count": 64,
      "outputs": []
    },
    {
      "cell_type": "code",
      "source": [
        "print( \"Length train_dataloader:\", len(train_dataloader))\n",
        "print( \"Total steps:\", total_steps)"
      ],
      "metadata": {
        "colab": {
          "base_uri": "https://localhost:8080/"
        },
        "id": "m_3T9TCucF3I",
        "outputId": "65601b1d-4cd3-458e-e084-ccc83f763082"
      },
      "execution_count": 65,
      "outputs": [
        {
          "output_type": "stream",
          "name": "stdout",
          "text": [
            "Length train_dataloader: 375\n",
            "Total steps: 750\n"
          ]
        }
      ]
    },
    {
      "cell_type": "code",
      "source": [
        "# create training result storage\n",
        "training_stats = []\n",
        "valid_stats = []\n",
        "best_valid_loss = float('inf')\n",
        "\n",
        "# for each epoch\n",
        "for epoch in range(epochs):\n",
        "    # train\n",
        "    train(model, train_dataloader, optimizer)\n",
        "    # validate\n",
        "    validating(model, dev_dataloader)\n",
        "    # check validation loss\n",
        "    if valid_stats[epoch]['Val Loss'] < best_valid_loss:\n",
        "        best_valid_loss = valid_stats[epoch]['Val Loss']\n",
        "        # save best model for use later\n",
        "        torch.save(model.state_dict(), '/content/drive/My Drive/W266/MBTI/model_checkpoints/t5-classification.pt')  # torch save\n",
        "        model_to_save = model.module if hasattr(model, 'module') else model\n",
        "        model_to_save.save_pretrained('/content/drive/My Drive/W266/MBTI/model_checkpoints/')  # transformers save\n",
        "        t5_tokenizer.save_pretrained('/content/drive/My Drive/W266/MBTI/model_checkpoints/')  # transformers save\n"
      ],
      "metadata": {
        "colab": {
          "base_uri": "https://localhost:8080/"
        },
        "id": "KR13zG_eckmU",
        "outputId": "70256e91-27a6-4cac-93f0-3cea716f3fc2"
      },
      "execution_count": 66,
      "outputs": [
        {
          "output_type": "stream",
          "name": "stdout",
          "text": [
            "\n",
            "======== Epoch 1 / 2 ========\n",
            "Training...\n"
          ]
        },
        {
          "output_type": "stream",
          "name": "stderr",
          "text": [
            "/usr/local/lib/python3.8/dist-packages/torch/optim/lr_scheduler.py:131: UserWarning: Detected call of `lr_scheduler.step()` before `optimizer.step()`. In PyTorch 1.1.0 and later, you should call them in the opposite order: `optimizer.step()` before `lr_scheduler.step()`.  Failure to do this will result in PyTorch skipping the first value of the learning rate schedule. See more details at https://pytorch.org/docs/stable/optim.html#how-to-adjust-learning-rate\n",
            "  warnings.warn(\"Detected call of `lr_scheduler.step()` before `optimizer.step()`. \"\n"
          ]
        },
        {
          "output_type": "stream",
          "name": "stdout",
          "text": [
            "  Batch    40  of    375.\n",
            "  Batch    80  of    375.\n",
            "  Batch   120  of    375.\n",
            "  Batch   160  of    375.\n",
            "  Batch   200  of    375.\n",
            "  Batch   240  of    375.\n",
            "  Batch   280  of    375.\n",
            "  Batch   320  of    375.\n",
            "  Batch   360  of    375.\n",
            "\n",
            "summary results\n",
            "epoch | trn loss | trn time \n",
            "    1 | 2.09865 | 0:01:38\n",
            "\n",
            "Running Validation...\n",
            "\n",
            "summary results\n",
            "epoch | val loss | val ppl | val time\n",
            "    1 | 0.74763 | 2.112 | 0:00:10\n",
            "\n",
            "======== Epoch 2 / 2 ========\n",
            "Training...\n",
            "  Batch    40  of    375.\n",
            "  Batch    80  of    375.\n",
            "  Batch   120  of    375.\n",
            "  Batch   160  of    375.\n",
            "  Batch   200  of    375.\n",
            "  Batch   240  of    375.\n",
            "  Batch   280  of    375.\n",
            "  Batch   320  of    375.\n",
            "  Batch   360  of    375.\n",
            "\n",
            "summary results\n",
            "epoch | trn loss | trn time \n",
            "    2 | 0.90351 | 0:01:38\n",
            "\n",
            "Running Validation...\n",
            "\n",
            "summary results\n",
            "epoch | val loss | val ppl | val time\n",
            "    2 | 0.73953 | 2.095 | 0:00:10\n"
          ]
        }
      ]
    },
    {
      "cell_type": "code",
      "source": [
        "# organize results\n",
        "pd.set_option('precision', 3)\n",
        "df_train_stats = pd.DataFrame(data=training_stats)\n",
        "df_valid_stats = pd.DataFrame(data=valid_stats)\n",
        "df_stats = pd.concat([df_train_stats, df_valid_stats], axis=1)\n",
        "df_stats.insert(0, 'Epoch', range(1, len(df_stats)+1))\n",
        "df_stats = df_stats.set_index('Epoch')\n",
        "df_stats\n"
      ],
      "metadata": {
        "colab": {
          "base_uri": "https://localhost:8080/",
          "height": 143
        },
        "id": "WiqXA4kKckwd",
        "outputId": "c5aa3b16-cc6b-4098-8935-627f557705d5"
      },
      "execution_count": 67,
      "outputs": [
        {
          "output_type": "execute_result",
          "data": {
            "text/plain": [
              "       Train Loss  Val Loss  Val PPL.\n",
              "Epoch                                \n",
              "1           2.099     0.748     2.112\n",
              "2           0.904     0.740     2.095"
            ],
            "text/html": [
              "\n",
              "  <div id=\"df-08eb7e7c-9feb-4d6b-a457-d830e2bf9e09\">\n",
              "    <div class=\"colab-df-container\">\n",
              "      <div>\n",
              "<style scoped>\n",
              "    .dataframe tbody tr th:only-of-type {\n",
              "        vertical-align: middle;\n",
              "    }\n",
              "\n",
              "    .dataframe tbody tr th {\n",
              "        vertical-align: top;\n",
              "    }\n",
              "\n",
              "    .dataframe thead th {\n",
              "        text-align: right;\n",
              "    }\n",
              "</style>\n",
              "<table border=\"1\" class=\"dataframe\">\n",
              "  <thead>\n",
              "    <tr style=\"text-align: right;\">\n",
              "      <th></th>\n",
              "      <th>Train Loss</th>\n",
              "      <th>Val Loss</th>\n",
              "      <th>Val PPL.</th>\n",
              "    </tr>\n",
              "    <tr>\n",
              "      <th>Epoch</th>\n",
              "      <th></th>\n",
              "      <th></th>\n",
              "      <th></th>\n",
              "    </tr>\n",
              "  </thead>\n",
              "  <tbody>\n",
              "    <tr>\n",
              "      <th>1</th>\n",
              "      <td>2.099</td>\n",
              "      <td>0.748</td>\n",
              "      <td>2.112</td>\n",
              "    </tr>\n",
              "    <tr>\n",
              "      <th>2</th>\n",
              "      <td>0.904</td>\n",
              "      <td>0.740</td>\n",
              "      <td>2.095</td>\n",
              "    </tr>\n",
              "  </tbody>\n",
              "</table>\n",
              "</div>\n",
              "      <button class=\"colab-df-convert\" onclick=\"convertToInteractive('df-08eb7e7c-9feb-4d6b-a457-d830e2bf9e09')\"\n",
              "              title=\"Convert this dataframe to an interactive table.\"\n",
              "              style=\"display:none;\">\n",
              "        \n",
              "  <svg xmlns=\"http://www.w3.org/2000/svg\" height=\"24px\"viewBox=\"0 0 24 24\"\n",
              "       width=\"24px\">\n",
              "    <path d=\"M0 0h24v24H0V0z\" fill=\"none\"/>\n",
              "    <path d=\"M18.56 5.44l.94 2.06.94-2.06 2.06-.94-2.06-.94-.94-2.06-.94 2.06-2.06.94zm-11 1L8.5 8.5l.94-2.06 2.06-.94-2.06-.94L8.5 2.5l-.94 2.06-2.06.94zm10 10l.94 2.06.94-2.06 2.06-.94-2.06-.94-.94-2.06-.94 2.06-2.06.94z\"/><path d=\"M17.41 7.96l-1.37-1.37c-.4-.4-.92-.59-1.43-.59-.52 0-1.04.2-1.43.59L10.3 9.45l-7.72 7.72c-.78.78-.78 2.05 0 2.83L4 21.41c.39.39.9.59 1.41.59.51 0 1.02-.2 1.41-.59l7.78-7.78 2.81-2.81c.8-.78.8-2.07 0-2.86zM5.41 20L4 18.59l7.72-7.72 1.47 1.35L5.41 20z\"/>\n",
              "  </svg>\n",
              "      </button>\n",
              "      \n",
              "  <style>\n",
              "    .colab-df-container {\n",
              "      display:flex;\n",
              "      flex-wrap:wrap;\n",
              "      gap: 12px;\n",
              "    }\n",
              "\n",
              "    .colab-df-convert {\n",
              "      background-color: #E8F0FE;\n",
              "      border: none;\n",
              "      border-radius: 50%;\n",
              "      cursor: pointer;\n",
              "      display: none;\n",
              "      fill: #1967D2;\n",
              "      height: 32px;\n",
              "      padding: 0 0 0 0;\n",
              "      width: 32px;\n",
              "    }\n",
              "\n",
              "    .colab-df-convert:hover {\n",
              "      background-color: #E2EBFA;\n",
              "      box-shadow: 0px 1px 2px rgba(60, 64, 67, 0.3), 0px 1px 3px 1px rgba(60, 64, 67, 0.15);\n",
              "      fill: #174EA6;\n",
              "    }\n",
              "\n",
              "    [theme=dark] .colab-df-convert {\n",
              "      background-color: #3B4455;\n",
              "      fill: #D2E3FC;\n",
              "    }\n",
              "\n",
              "    [theme=dark] .colab-df-convert:hover {\n",
              "      background-color: #434B5C;\n",
              "      box-shadow: 0px 1px 3px 1px rgba(0, 0, 0, 0.15);\n",
              "      filter: drop-shadow(0px 1px 2px rgba(0, 0, 0, 0.3));\n",
              "      fill: #FFFFFF;\n",
              "    }\n",
              "  </style>\n",
              "\n",
              "      <script>\n",
              "        const buttonEl =\n",
              "          document.querySelector('#df-08eb7e7c-9feb-4d6b-a457-d830e2bf9e09 button.colab-df-convert');\n",
              "        buttonEl.style.display =\n",
              "          google.colab.kernel.accessAllowed ? 'block' : 'none';\n",
              "\n",
              "        async function convertToInteractive(key) {\n",
              "          const element = document.querySelector('#df-08eb7e7c-9feb-4d6b-a457-d830e2bf9e09');\n",
              "          const dataTable =\n",
              "            await google.colab.kernel.invokeFunction('convertToInteractive',\n",
              "                                                     [key], {});\n",
              "          if (!dataTable) return;\n",
              "\n",
              "          const docLinkHtml = 'Like what you see? Visit the ' +\n",
              "            '<a target=\"_blank\" href=https://colab.research.google.com/notebooks/data_table.ipynb>data table notebook</a>'\n",
              "            + ' to learn more about interactive tables.';\n",
              "          element.innerHTML = '';\n",
              "          dataTable['output_type'] = 'display_data';\n",
              "          await google.colab.output.renderOutput(dataTable, element);\n",
              "          const docLink = document.createElement('div');\n",
              "          docLink.innerHTML = docLinkHtml;\n",
              "          element.appendChild(docLink);\n",
              "        }\n",
              "      </script>\n",
              "    </div>\n",
              "  </div>\n",
              "  "
            ]
          },
          "metadata": {},
          "execution_count": 67
        }
      ]
    },
    {
      "cell_type": "code",
      "source": [
        "# test the model\n",
        "df2 = pd.DataFrame({'predicted': [], 'actual': []})\n",
        "test_stats = []\n",
        "model.load_state_dict(torch.load('/content/drive/My Drive/W266/MBTI/model_checkpoints/t5-classification.pt'))"
      ],
      "metadata": {
        "colab": {
          "base_uri": "https://localhost:8080/"
        },
        "id": "Ab0S8aV2gXpf",
        "outputId": "92233731-d511-490b-ab56-4027b9f37d6d"
      },
      "execution_count": 68,
      "outputs": [
        {
          "output_type": "execute_result",
          "data": {
            "text/plain": [
              "<All keys matched successfully>"
            ]
          },
          "metadata": {},
          "execution_count": 68
        }
      ]
    },
    {
      "cell_type": "code",
      "source": [
        "testing( model, test_dataloader )"
      ],
      "metadata": {
        "colab": {
          "base_uri": "https://localhost:8080/"
        },
        "id": "b0JbGCPyiIVs",
        "outputId": "eecc72f3-0203-4abd-dee1-34ffd9bc4dc3"
      },
      "execution_count": 69,
      "outputs": [
        {
          "output_type": "stream",
          "name": "stdout",
          "text": [
            "\n",
            "Running Testing...\n",
            "  Batch    40  of     63.    Elapsed: 0:00:15.\n"
          ]
        },
        {
          "output_type": "execute_result",
          "data": {
            "text/plain": [
              "[{'Test Loss': 0.7397071444799029,\n",
              "  'Test PPL.': 2.095321798078684,\n",
              "  'Test Acc.': 0.09126984126984126,\n",
              "  'Test F1': 0.12505177252201058}]"
            ]
          },
          "metadata": {},
          "execution_count": 69
        }
      ]
    },
    {
      "cell_type": "code",
      "source": [
        "df_test_stats = pd.DataFrame(data=test_stats)\n",
        "print(df_test_stats)"
      ],
      "metadata": {
        "colab": {
          "base_uri": "https://localhost:8080/"
        },
        "id": "-NWm8mtgiN4I",
        "outputId": "9b2daa7c-797f-4719-c57d-e611f63cd547"
      },
      "execution_count": 70,
      "outputs": [
        {
          "output_type": "stream",
          "name": "stdout",
          "text": [
            "   Test Loss  Test PPL.  Test Acc.  Test F1\n",
            "0       0.74      2.095      0.091    0.125\n"
          ]
        }
      ]
    },
    {
      "cell_type": "code",
      "source": [
        "print(df2.head(50))"
      ],
      "metadata": {
        "colab": {
          "base_uri": "https://localhost:8080/"
        },
        "id": "wAQ_5yTUiQnp",
        "outputId": "46ae3362-3ae7-4980-dc41-638388cb9fd8"
      },
      "execution_count": 71,
      "outputs": [
        {
          "output_type": "stream",
          "name": "stdout",
          "text": [
            "   predicted actual\n",
            "0       ISTP   ENFP\n",
            "1       ISTJ   ENFJ\n",
            "2       ENTP   INTP\n",
            "3       ENTP   INTP\n",
            "4       INTJ   ESFJ\n",
            "5       ENTP   ENTP\n",
            "6       ESTP   INFP\n",
            "7       ENTP   INFP\n",
            "8       ESTP   INFP\n",
            "9       ENTP   INFJ\n",
            "10      ESTP   ENFP\n",
            "11      ENTP   ESFP\n",
            "12      ESTP   ISFJ\n",
            "13      ESTP   ISTP\n",
            "14      ISTJ   INTJ\n",
            "15      ENTP   ENFP\n",
            "16      ESTJ   ESTJ\n",
            "17      ESTP   INFJ\n",
            "18      INTJ   INFJ\n",
            "19      ENTP   ENFP\n",
            "20      ESTJ   ESTJ\n",
            "21      ENTP   ESFP\n",
            "22      ENTP   ENFP\n",
            "23      ENTP   ESTJ\n",
            "24      INTJ   INTP\n",
            "25      ENTP   INTJ\n",
            "26      ENTP   INTP\n",
            "27      ENTP   ISTP\n",
            "28      ENTJ   ISFP\n",
            "29      ISTJ   INTJ\n",
            "30      ESTP   ISFP\n",
            "31      ENTP   ISTP\n",
            "32      ENTP   INFJ\n",
            "33      ENTP   ENFP\n",
            "34      ENTP   ENFJ\n",
            "35      ENTP   INTJ\n",
            "36      ENTP   INFJ\n",
            "37      ESTP   ENFP\n",
            "38      ENTP   ESFJ\n",
            "39      ENTP   ISTP\n",
            "40      ENTP   ENFP\n",
            "41      ENTP   ENTJ\n",
            "42      ENTP   ENTP\n",
            "43      ESTP   INFP\n",
            "44      ENTP   ENTJ\n",
            "45      ENTP   ISFP\n",
            "46      ESTP   ISFP\n",
            "47      ENTP   INFJ\n",
            "48      ENTP   INTJ\n",
            "49      ENTP   INTP\n"
          ]
        }
      ]
    },
    {
      "cell_type": "markdown",
      "source": [
        "# Multihead attention Model with Multiclass Classification"
      ],
      "metadata": {
        "id": "o78cDNA2cWy9"
      }
    },
    {
      "cell_type": "code",
      "source": [
        "from sklearn.metrics import confusion_matrix\n",
        "\n",
        "#Create dictonary to transform MBTI type into multiclass value from 0 to 15\n",
        "valid_MBTI = {'ISTJ': 0, 'INTJ': 1, 'ESTJ': 2, 'ENTJ': 3, 'ENTP': 4, 'INTP': 5, \\\n",
        "              'ISTP': 6, 'ESTP': 7, 'ISFJ': 8, 'INFJ': 9, 'ESFJ': 10, \\\n",
        "              'ENFJ': 11, 'ENFP': 12, 'INFP': 13, 'ISFP': 14, 'ESFP': 15}\n",
        "\n",
        "def document_multimodel_run( model_type,\n",
        "                            mbti_model,\n",
        "                            predicted_results,\n",
        "                            actual_values ):\n",
        "\n",
        "\n",
        " \n",
        "   #Multiclass classification\n",
        "  print(classification_report(actual_values, predicted_results))\n",
        "\n",
        "  cr_multi = classification_report(actual_values, predicted_results)\n",
        "\n",
        "  cm_multi = confusion_matrix(actual_values, predicted_results)\n",
        "  cm_multi = cm_multi/cm_multi.sum(axis=1)[:,np.newaxis]\n",
        "\n",
        "  plt.figure(figsize=(20,16))\n",
        "  sns.heatmap(\n",
        "      cm_multi, annot=True,\n",
        "      xticklabels=valid_MBTI,\n",
        "      yticklabels=valid_MBTI)\n",
        "  plt.xlabel(\"Predicted\")\n",
        "  plt.ylabel(\"True\")\n",
        "\n",
        "  "
      ],
      "metadata": {
        "id": "RyyMrKNIO99h"
      },
      "execution_count": 73,
      "outputs": []
    },
    {
      "cell_type": "markdown",
      "source": [
        "Question 3 : Do we need to report on all 5 different loss and accuracy scores for test"
      ],
      "metadata": {
        "id": "m67dqorpyv6R"
      }
    },
    {
      "cell_type": "code",
      "source": [
        "document_multimodel_run('mbti_t5_model',\n",
        "                         model,\n",
        "                         df2['predicted'],\n",
        "                         df2['actual'] )\n",
        "\n",
        "\n"
      ],
      "metadata": {
        "id": "mqiJ3qQ7azol",
        "colab": {
          "base_uri": "https://localhost:8080/",
          "height": 1000
        },
        "outputId": "1d9b27ad-777e-4311-c1c0-874bc4131a80"
      },
      "execution_count": 74,
      "outputs": [
        {
          "output_type": "stream",
          "name": "stderr",
          "text": [
            "/usr/local/lib/python3.8/dist-packages/sklearn/metrics/_classification.py:1318: UndefinedMetricWarning: Precision and F-score are ill-defined and being set to 0.0 in labels with no predicted samples. Use `zero_division` parameter to control this behavior.\n",
            "  _warn_prf(average, modifier, msg_start, len(result))\n",
            "/usr/local/lib/python3.8/dist-packages/sklearn/metrics/_classification.py:1318: UndefinedMetricWarning: Precision and F-score are ill-defined and being set to 0.0 in labels with no predicted samples. Use `zero_division` parameter to control this behavior.\n",
            "  _warn_prf(average, modifier, msg_start, len(result))\n",
            "/usr/local/lib/python3.8/dist-packages/sklearn/metrics/_classification.py:1318: UndefinedMetricWarning: Precision and F-score are ill-defined and being set to 0.0 in labels with no predicted samples. Use `zero_division` parameter to control this behavior.\n",
            "  _warn_prf(average, modifier, msg_start, len(result))\n",
            "/usr/local/lib/python3.8/dist-packages/sklearn/metrics/_classification.py:1318: UndefinedMetricWarning: Precision and F-score are ill-defined and being set to 0.0 in labels with no predicted samples. Use `zero_division` parameter to control this behavior.\n",
            "  _warn_prf(average, modifier, msg_start, len(result))\n",
            "/usr/local/lib/python3.8/dist-packages/sklearn/metrics/_classification.py:1318: UndefinedMetricWarning: Precision and F-score are ill-defined and being set to 0.0 in labels with no predicted samples. Use `zero_division` parameter to control this behavior.\n",
            "  _warn_prf(average, modifier, msg_start, len(result))\n",
            "/usr/local/lib/python3.8/dist-packages/sklearn/metrics/_classification.py:1318: UndefinedMetricWarning: Precision and F-score are ill-defined and being set to 0.0 in labels with no predicted samples. Use `zero_division` parameter to control this behavior.\n",
            "  _warn_prf(average, modifier, msg_start, len(result))\n"
          ]
        },
        {
          "output_type": "stream",
          "name": "stdout",
          "text": [
            "              precision    recall  f1-score   support\n",
            "\n",
            "        ENFJ       0.00      0.00      0.00        34\n",
            "        ENFP       0.00      0.00      0.00       127\n",
            "        ENTJ       0.03      0.03      0.03        39\n",
            "        ENTP       0.09      0.56      0.16        93\n",
            "        ESFJ       0.00      0.00      0.00        21\n",
            "        ESFP       0.00      0.00      0.00        18\n",
            "        ESTJ       0.84      0.59      0.70        27\n",
            "        ESTP       0.03      0.21      0.05        24\n",
            "        INFJ       0.00      0.00      0.00       104\n",
            "        INFP       0.00      0.00      0.00       126\n",
            "        INTJ       0.11      0.03      0.05       128\n",
            "        INTP       0.00      0.00      0.00       133\n",
            "        ISFJ       0.00      0.00      0.00        12\n",
            "        ISFP       0.00      0.00      0.00        40\n",
            "        ISTJ       0.01      0.04      0.02        24\n",
            "        ISTP       0.16      0.24      0.19        50\n",
            "\n",
            "    accuracy                           0.09      1000\n",
            "   macro avg       0.08      0.11      0.07      1000\n",
            "weighted avg       0.06      0.09      0.05      1000\n",
            "\n"
          ]
        },
        {
          "output_type": "display_data",
          "data": {
            "text/plain": [
              "<Figure size 1440x1152 with 2 Axes>"
            ],
            "image/png": "[encoded data removed]"
          },
          "metadata": {
            "needs_background": "light"
          }
        }
      ]
    },
    {
      "cell_type": "markdown",
      "metadata": {
        "id": "I22gpkAH8Ser"
      },
      "source": [
        "# Notes and Next Steps"
      ]
    }
  ],
  "metadata": {
    "accelerator": "GPU",
    "colab": {
      "collapsed_sections": [
        "IIqxC-eGzzak"
      ],
      "machine_shape": "hm",
      "provenance": [],
      "include_colab_link": true
    },
    "gpuClass": "premium",
    "kernelspec": {
      "display_name": "Python 3",
      "name": "python3"
    },
    "language_info": {
      "name": "python"
    },
    "widgets": {
      "application/vnd.jupyter.widget-state+json": {
        "3a423f0839f14151a71c498ac3d9cb80": {
          "model_module": "@jupyter-widgets/controls",
          "model_name": "HBoxModel",
          "model_module_version": "1.5.0",
          "state": {
            "_dom_classes": [],
            "_model_module": "@jupyter-widgets/controls",
            "_model_module_version": "1.5.0",
            "_model_name": "HBoxModel",
            "_view_count": null,
            "_view_module": "@jupyter-widgets/controls",
            "_view_module_version": "1.5.0",
            "_view_name": "HBoxView",
            "box_style": "",
            "children": [
              "IPY_MODEL_4309aecc1ed04dffa60eb78ca886981b",
              "IPY_MODEL_4f82afad4fd64a459e16c6e5ebc4e633",
              "IPY_MODEL_4f1c5fbc2c57408eb40ecaf59dd156b2"
            ],
            "layout": "IPY_MODEL_5396ce9d1517403e99ee1295f2f82d6b"
          }
        },
        "4309aecc1ed04dffa60eb78ca886981b": {
          "model_module": "@jupyter-widgets/controls",
          "model_name": "HTMLModel",
          "model_module_version": "1.5.0",
          "state": {
            "_dom_classes": [],
            "_model_module": "@jupyter-widgets/controls",
            "_model_module_version": "1.5.0",
            "_model_name": "HTMLModel",
            "_view_count": null,
            "_view_module": "@jupyter-widgets/controls",
            "_view_module_version": "1.5.0",
            "_view_name": "HTMLView",
            "description": "",
            "description_tooltip": null,
            "layout": "IPY_MODEL_69ba833709774dbb80fc6703436b50e0",
            "placeholder": "​",
            "style": "IPY_MODEL_9d0371e8e1374a31b74493f82e9c25ab",
            "value": "Downloading: 100%"
          }
        },
        "4f82afad4fd64a459e16c6e5ebc4e633": {
          "model_module": "@jupyter-widgets/controls",
          "model_name": "FloatProgressModel",
          "model_module_version": "1.5.0",
          "state": {
            "_dom_classes": [],
            "_model_module": "@jupyter-widgets/controls",
            "_model_module_version": "1.5.0",
            "_model_name": "FloatProgressModel",
            "_view_count": null,
            "_view_module": "@jupyter-widgets/controls",
            "_view_module_version": "1.5.0",
            "_view_name": "ProgressView",
            "bar_style": "success",
            "description": "",
            "description_tooltip": null,
            "layout": "IPY_MODEL_48a1ae6f6908469a93787c514ea504b1",
            "max": 791656,
            "min": 0,
            "orientation": "horizontal",
            "style": "IPY_MODEL_bd6a521d61d147bf9dd3cbb4b01e122a",
            "value": 791656
          }
        },
        "4f1c5fbc2c57408eb40ecaf59dd156b2": {
          "model_module": "@jupyter-widgets/controls",
          "model_name": "HTMLModel",
          "model_module_version": "1.5.0",
          "state": {
            "_dom_classes": [],
            "_model_module": "@jupyter-widgets/controls",
            "_model_module_version": "1.5.0",
            "_model_name": "HTMLModel",
            "_view_count": null,
            "_view_module": "@jupyter-widgets/controls",
            "_view_module_version": "1.5.0",
            "_view_name": "HTMLView",
            "description": "",
            "description_tooltip": null,
            "layout": "IPY_MODEL_6a2d15fc0bec480e822c889c9c268733",
            "placeholder": "​",
            "style": "IPY_MODEL_d5d730cac0ee4788ad04af051fa441bf",
            "value": " 792k/792k [00:01&lt;00:00, 523kB/s]"
          }
        },
        "5396ce9d1517403e99ee1295f2f82d6b": {
          "model_module": "@jupyter-widgets/base",
          "model_name": "LayoutModel",
          "model_module_version": "1.2.0",
          "state": {
            "_model_module": "@jupyter-widgets/base",
            "_model_module_version": "1.2.0",
            "_model_name": "LayoutModel",
            "_view_count": null,
            "_view_module": "@jupyter-widgets/base",
            "_view_module_version": "1.2.0",
            "_view_name": "LayoutView",
            "align_content": null,
            "align_items": null,
            "align_self": null,
            "border": null,
            "bottom": null,
            "display": null,
            "flex": null,
            "flex_flow": null,
            "grid_area": null,
            "grid_auto_columns": null,
            "grid_auto_flow": null,
            "grid_auto_rows": null,
            "grid_column": null,
            "grid_gap": null,
            "grid_row": null,
            "grid_template_areas": null,
            "grid_template_columns": null,
            "grid_template_rows": null,
            "height": null,
            "justify_content": null,
            "justify_items": null,
            "left": null,
            "margin": null,
            "max_height": null,
            "max_width": null,
            "min_height": null,
            "min_width": null,
            "object_fit": null,
            "object_position": null,
            "order": null,
            "overflow": null,
            "overflow_x": null,
            "overflow_y": null,
            "padding": null,
            "right": null,
            "top": null,
            "visibility": null,
            "width": null
          }
        },
        "69ba833709774dbb80fc6703436b50e0": {
          "model_module": "@jupyter-widgets/base",
          "model_name": "LayoutModel",
          "model_module_version": "1.2.0",
          "state": {
            "_model_module": "@jupyter-widgets/base",
            "_model_module_version": "1.2.0",
            "_model_name": "LayoutModel",
            "_view_count": null,
            "_view_module": "@jupyter-widgets/base",
            "_view_module_version": "1.2.0",
            "_view_name": "LayoutView",
            "align_content": null,
            "align_items": null,
            "align_self": null,
            "border": null,
            "bottom": null,
            "display": null,
            "flex": null,
            "flex_flow": null,
            "grid_area": null,
            "grid_auto_columns": null,
            "grid_auto_flow": null,
            "grid_auto_rows": null,
            "grid_column": null,
            "grid_gap": null,
            "grid_row": null,
            "grid_template_areas": null,
            "grid_template_columns": null,
            "grid_template_rows": null,
            "height": null,
            "justify_content": null,
            "justify_items": null,
            "left": null,
            "margin": null,
            "max_height": null,
            "max_width": null,
            "min_height": null,
            "min_width": null,
            "object_fit": null,
            "object_position": null,
            "order": null,
            "overflow": null,
            "overflow_x": null,
            "overflow_y": null,
            "padding": null,
            "right": null,
            "top": null,
            "visibility": null,
            "width": null
          }
        },
        "9d0371e8e1374a31b74493f82e9c25ab": {
          "model_module": "@jupyter-widgets/controls",
          "model_name": "DescriptionStyleModel",
          "model_module_version": "1.5.0",
          "state": {
            "_model_module": "@jupyter-widgets/controls",
            "_model_module_version": "1.5.0",
            "_model_name": "DescriptionStyleModel",
            "_view_count": null,
            "_view_module": "@jupyter-widgets/base",
            "_view_module_version": "1.2.0",
            "_view_name": "StyleView",
            "description_width": ""
          }
        },
        "48a1ae6f6908469a93787c514ea504b1": {
          "model_module": "@jupyter-widgets/base",
          "model_name": "LayoutModel",
          "model_module_version": "1.2.0",
          "state": {
            "_model_module": "@jupyter-widgets/base",
            "_model_module_version": "1.2.0",
            "_model_name": "LayoutModel",
            "_view_count": null,
            "_view_module": "@jupyter-widgets/base",
            "_view_module_version": "1.2.0",
            "_view_name": "LayoutView",
            "align_content": null,
            "align_items": null,
            "align_self": null,
            "border": null,
            "bottom": null,
            "display": null,
            "flex": null,
            "flex_flow": null,
            "grid_area": null,
            "grid_auto_columns": null,
            "grid_auto_flow": null,
            "grid_auto_rows": null,
            "grid_column": null,
            "grid_gap": null,
            "grid_row": null,
            "grid_template_areas": null,
            "grid_template_columns": null,
            "grid_template_rows": null,
            "height": null,
            "justify_content": null,
            "justify_items": null,
            "left": null,
            "margin": null,
            "max_height": null,
            "max_width": null,
            "min_height": null,
            "min_width": null,
            "object_fit": null,
            "object_position": null,
            "order": null,
            "overflow": null,
            "overflow_x": null,
            "overflow_y": null,
            "padding": null,
            "right": null,
            "top": null,
            "visibility": null,
            "width": null
          }
        },
        "bd6a521d61d147bf9dd3cbb4b01e122a": {
          "model_module": "@jupyter-widgets/controls",
          "model_name": "ProgressStyleModel",
          "model_module_version": "1.5.0",
          "state": {
            "_model_module": "@jupyter-widgets/controls",
            "_model_module_version": "1.5.0",
            "_model_name": "ProgressStyleModel",
            "_view_count": null,
            "_view_module": "@jupyter-widgets/base",
            "_view_module_version": "1.2.0",
            "_view_name": "StyleView",
            "bar_color": null,
            "description_width": ""
          }
        },
        "6a2d15fc0bec480e822c889c9c268733": {
          "model_module": "@jupyter-widgets/base",
          "model_name": "LayoutModel",
          "model_module_version": "1.2.0",
          "state": {
            "_model_module": "@jupyter-widgets/base",
            "_model_module_version": "1.2.0",
            "_model_name": "LayoutModel",
            "_view_count": null,
            "_view_module": "@jupyter-widgets/base",
            "_view_module_version": "1.2.0",
            "_view_name": "LayoutView",
            "align_content": null,
            "align_items": null,
            "align_self": null,
            "border": null,
            "bottom": null,
            "display": null,
            "flex": null,
            "flex_flow": null,
            "grid_area": null,
            "grid_auto_columns": null,
            "grid_auto_flow": null,
            "grid_auto_rows": null,
            "grid_column": null,
            "grid_gap": null,
            "grid_row": null,
            "grid_template_areas": null,
            "grid_template_columns": null,
            "grid_template_rows": null,
            "height": null,
            "justify_content": null,
            "justify_items": null,
            "left": null,
            "margin": null,
            "max_height": null,
            "max_width": null,
            "min_height": null,
            "min_width": null,
            "object_fit": null,
            "object_position": null,
            "order": null,
            "overflow": null,
            "overflow_x": null,
            "overflow_y": null,
            "padding": null,
            "right": null,
            "top": null,
            "visibility": null,
            "width": null
          }
        },
        "d5d730cac0ee4788ad04af051fa441bf": {
          "model_module": "@jupyter-widgets/controls",
          "model_name": "DescriptionStyleModel",
          "model_module_version": "1.5.0",
          "state": {
            "_model_module": "@jupyter-widgets/controls",
            "_model_module_version": "1.5.0",
            "_model_name": "DescriptionStyleModel",
            "_view_count": null,
            "_view_module": "@jupyter-widgets/base",
            "_view_module_version": "1.2.0",
            "_view_name": "StyleView",
            "description_width": ""
          }
        },
        "91230bb7e9854c9e95c4e820bd55879b": {
          "model_module": "@jupyter-widgets/controls",
          "model_name": "HBoxModel",
          "model_module_version": "1.5.0",
          "state": {
            "_dom_classes": [],
            "_model_module": "@jupyter-widgets/controls",
            "_model_module_version": "1.5.0",
            "_model_name": "HBoxModel",
            "_view_count": null,
            "_view_module": "@jupyter-widgets/controls",
            "_view_module_version": "1.5.0",
            "_view_name": "HBoxView",
            "box_style": "",
            "children": [
              "IPY_MODEL_5501715166024a819debfcaedb7694e5",
              "IPY_MODEL_cff1cb225ec04421905fc257b45c7e71",
              "IPY_MODEL_bd16fcad82d449da8b24e7c385ee52d5"
            ],
            "layout": "IPY_MODEL_67e30c5c4ff549599ba7597137c86672"
          }
        },
        "5501715166024a819debfcaedb7694e5": {
          "model_module": "@jupyter-widgets/controls",
          "model_name": "HTMLModel",
          "model_module_version": "1.5.0",
          "state": {
            "_dom_classes": [],
            "_model_module": "@jupyter-widgets/controls",
            "_model_module_version": "1.5.0",
            "_model_name": "HTMLModel",
            "_view_count": null,
            "_view_module": "@jupyter-widgets/controls",
            "_view_module_version": "1.5.0",
            "_view_name": "HTMLView",
            "description": "",
            "description_tooltip": null,
            "layout": "IPY_MODEL_a8d30ce0b2ab4a89b18002ba3f9495d9",
            "placeholder": "​",
            "style": "IPY_MODEL_a2bdacdcfef6475cb085366c6017c834",
            "value": "Downloading: 100%"
          }
        },
        "cff1cb225ec04421905fc257b45c7e71": {
          "model_module": "@jupyter-widgets/controls",
          "model_name": "FloatProgressModel",
          "model_module_version": "1.5.0",
          "state": {
            "_dom_classes": [],
            "_model_module": "@jupyter-widgets/controls",
            "_model_module_version": "1.5.0",
            "_model_name": "FloatProgressModel",
            "_view_count": null,
            "_view_module": "@jupyter-widgets/controls",
            "_view_module_version": "1.5.0",
            "_view_name": "ProgressView",
            "bar_style": "success",
            "description": "",
            "description_tooltip": null,
            "layout": "IPY_MODEL_8a8f4933ed294fe0a67adfe172d419f2",
            "max": 1197,
            "min": 0,
            "orientation": "horizontal",
            "style": "IPY_MODEL_cfac93d013ad40b7a97254be45c55856",
            "value": 1197
          }
        },
        "bd16fcad82d449da8b24e7c385ee52d5": {
          "model_module": "@jupyter-widgets/controls",
          "model_name": "HTMLModel",
          "model_module_version": "1.5.0",
          "state": {
            "_dom_classes": [],
            "_model_module": "@jupyter-widgets/controls",
            "_model_module_version": "1.5.0",
            "_model_name": "HTMLModel",
            "_view_count": null,
            "_view_module": "@jupyter-widgets/controls",
            "_view_module_version": "1.5.0",
            "_view_name": "HTMLView",
            "description": "",
            "description_tooltip": null,
            "layout": "IPY_MODEL_3e0b76a8aca444a0a8b94f578f088d6f",
            "placeholder": "​",
            "style": "IPY_MODEL_57dd73e9ee9040789f2ff6321cb610b8",
            "value": " 1.20k/1.20k [00:00&lt;00:00, 58.5kB/s]"
          }
        },
        "67e30c5c4ff549599ba7597137c86672": {
          "model_module": "@jupyter-widgets/base",
          "model_name": "LayoutModel",
          "model_module_version": "1.2.0",
          "state": {
            "_model_module": "@jupyter-widgets/base",
            "_model_module_version": "1.2.0",
            "_model_name": "LayoutModel",
            "_view_count": null,
            "_view_module": "@jupyter-widgets/base",
            "_view_module_version": "1.2.0",
            "_view_name": "LayoutView",
            "align_content": null,
            "align_items": null,
            "align_self": null,
            "border": null,
            "bottom": null,
            "display": null,
            "flex": null,
            "flex_flow": null,
            "grid_area": null,
            "grid_auto_columns": null,
            "grid_auto_flow": null,
            "grid_auto_rows": null,
            "grid_column": null,
            "grid_gap": null,
            "grid_row": null,
            "grid_template_areas": null,
            "grid_template_columns": null,
            "grid_template_rows": null,
            "height": null,
            "justify_content": null,
            "justify_items": null,
            "left": null,
            "margin": null,
            "max_height": null,
            "max_width": null,
            "min_height": null,
            "min_width": null,
            "object_fit": null,
            "object_position": null,
            "order": null,
            "overflow": null,
            "overflow_x": null,
            "overflow_y": null,
            "padding": null,
            "right": null,
            "top": null,
            "visibility": null,
            "width": null
          }
        },
        "a8d30ce0b2ab4a89b18002ba3f9495d9": {
          "model_module": "@jupyter-widgets/base",
          "model_name": "LayoutModel",
          "model_module_version": "1.2.0",
          "state": {
            "_model_module": "@jupyter-widgets/base",
            "_model_module_version": "1.2.0",
            "_model_name": "LayoutModel",
            "_view_count": null,
            "_view_module": "@jupyter-widgets/base",
            "_view_module_version": "1.2.0",
            "_view_name": "LayoutView",
            "align_content": null,
            "align_items": null,
            "align_self": null,
            "border": null,
            "bottom": null,
            "display": null,
            "flex": null,
            "flex_flow": null,
            "grid_area": null,
            "grid_auto_columns": null,
            "grid_auto_flow": null,
            "grid_auto_rows": null,
            "grid_column": null,
            "grid_gap": null,
            "grid_row": null,
            "grid_template_areas": null,
            "grid_template_columns": null,
            "grid_template_rows": null,
            "height": null,
            "justify_content": null,
            "justify_items": null,
            "left": null,
            "margin": null,
            "max_height": null,
            "max_width": null,
            "min_height": null,
            "min_width": null,
            "object_fit": null,
            "object_position": null,
            "order": null,
            "overflow": null,
            "overflow_x": null,
            "overflow_y": null,
            "padding": null,
            "right": null,
            "top": null,
            "visibility": null,
            "width": null
          }
        },
        "a2bdacdcfef6475cb085366c6017c834": {
          "model_module": "@jupyter-widgets/controls",
          "model_name": "DescriptionStyleModel",
          "model_module_version": "1.5.0",
          "state": {
            "_model_module": "@jupyter-widgets/controls",
            "_model_module_version": "1.5.0",
            "_model_name": "DescriptionStyleModel",
            "_view_count": null,
            "_view_module": "@jupyter-widgets/base",
            "_view_module_version": "1.2.0",
            "_view_name": "StyleView",
            "description_width": ""
          }
        },
        "8a8f4933ed294fe0a67adfe172d419f2": {
          "model_module": "@jupyter-widgets/base",
          "model_name": "LayoutModel",
          "model_module_version": "1.2.0",
          "state": {
            "_model_module": "@jupyter-widgets/base",
            "_model_module_version": "1.2.0",
            "_model_name": "LayoutModel",
            "_view_count": null,
            "_view_module": "@jupyter-widgets/base",
            "_view_module_version": "1.2.0",
            "_view_name": "LayoutView",
            "align_content": null,
            "align_items": null,
            "align_self": null,
            "border": null,
            "bottom": null,
            "display": null,
            "flex": null,
            "flex_flow": null,
            "grid_area": null,
            "grid_auto_columns": null,
            "grid_auto_flow": null,
            "grid_auto_rows": null,
            "grid_column": null,
            "grid_gap": null,
            "grid_row": null,
            "grid_template_areas": null,
            "grid_template_columns": null,
            "grid_template_rows": null,
            "height": null,
            "justify_content": null,
            "justify_items": null,
            "left": null,
            "margin": null,
            "max_height": null,
            "max_width": null,
            "min_height": null,
            "min_width": null,
            "object_fit": null,
            "object_position": null,
            "order": null,
            "overflow": null,
            "overflow_x": null,
            "overflow_y": null,
            "padding": null,
            "right": null,
            "top": null,
            "visibility": null,
            "width": null
          }
        },
        "cfac93d013ad40b7a97254be45c55856": {
          "model_module": "@jupyter-widgets/controls",
          "model_name": "ProgressStyleModel",
          "model_module_version": "1.5.0",
          "state": {
            "_model_module": "@jupyter-widgets/controls",
            "_model_module_version": "1.5.0",
            "_model_name": "ProgressStyleModel",
            "_view_count": null,
            "_view_module": "@jupyter-widgets/base",
            "_view_module_version": "1.2.0",
            "_view_name": "StyleView",
            "bar_color": null,
            "description_width": ""
          }
        },
        "3e0b76a8aca444a0a8b94f578f088d6f": {
          "model_module": "@jupyter-widgets/base",
          "model_name": "LayoutModel",
          "model_module_version": "1.2.0",
          "state": {
            "_model_module": "@jupyter-widgets/base",
            "_model_module_version": "1.2.0",
            "_model_name": "LayoutModel",
            "_view_count": null,
            "_view_module": "@jupyter-widgets/base",
            "_view_module_version": "1.2.0",
            "_view_name": "LayoutView",
            "align_content": null,
            "align_items": null,
            "align_self": null,
            "border": null,
            "bottom": null,
            "display": null,
            "flex": null,
            "flex_flow": null,
            "grid_area": null,
            "grid_auto_columns": null,
            "grid_auto_flow": null,
            "grid_auto_rows": null,
            "grid_column": null,
            "grid_gap": null,
            "grid_row": null,
            "grid_template_areas": null,
            "grid_template_columns": null,
            "grid_template_rows": null,
            "height": null,
            "justify_content": null,
            "justify_items": null,
            "left": null,
            "margin": null,
            "max_height": null,
            "max_width": null,
            "min_height": null,
            "min_width": null,
            "object_fit": null,
            "object_position": null,
            "order": null,
            "overflow": null,
            "overflow_x": null,
            "overflow_y": null,
            "padding": null,
            "right": null,
            "top": null,
            "visibility": null,
            "width": null
          }
        },
        "57dd73e9ee9040789f2ff6321cb610b8": {
          "model_module": "@jupyter-widgets/controls",
          "model_name": "DescriptionStyleModel",
          "model_module_version": "1.5.0",
          "state": {
            "_model_module": "@jupyter-widgets/controls",
            "_model_module_version": "1.5.0",
            "_model_name": "DescriptionStyleModel",
            "_view_count": null,
            "_view_module": "@jupyter-widgets/base",
            "_view_module_version": "1.2.0",
            "_view_name": "StyleView",
            "description_width": ""
          }
        }
      }
    }
  },
  "nbformat": 4,
  "nbformat_minor": 0
}