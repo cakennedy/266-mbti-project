{
  "cells": [
    {
      "cell_type": "markdown",
      "metadata": {
        "id": "view-in-github",
        "colab_type": "text"
      },
      "source": [
        "<a href=\"https://colab.research.google.com/github/cakennedy/266-mbti-project/blob/main/notebooks/W266MBTIEMPATH_SJ_1112.ipynb\" target=\"_parent\"><img src=\"https://colab.research.google.com/assets/colab-badge.svg\" alt=\"Open In Colab\"/></a>"
      ]
    },
    {
      "cell_type": "markdown",
      "metadata": {
        "id": "xrnrXyQ401dW"
      },
      "source": [
        "#Initial Set up "
      ]
    },
    {
      "cell_type": "code",
      "execution_count": 2,
      "metadata": {
        "colab": {
          "base_uri": "https://localhost:8080/"
        },
        "id": "612BHau796hf",
        "outputId": "8a989bf9-653d-4d9c-f5d3-45d3d443f8a1"
      },
      "outputs": [
        {
          "output_type": "stream",
          "name": "stdout",
          "text": [
            "Mon Nov 14 20:31:01 2022       \n",
            "+-----------------------------------------------------------------------------+\n",
            "| NVIDIA-SMI 460.32.03    Driver Version: 460.32.03    CUDA Version: 11.2     |\n",
            "|-------------------------------+----------------------+----------------------+\n",
            "| GPU  Name        Persistence-M| Bus-Id        Disp.A | Volatile Uncorr. ECC |\n",
            "| Fan  Temp  Perf  Pwr:Usage/Cap|         Memory-Usage | GPU-Util  Compute M. |\n",
            "|                               |                      |               MIG M. |\n",
            "|===============================+======================+======================|\n",
            "|   0  Tesla T4            Off  | 00000000:00:04.0 Off |                    0 |\n",
            "| N/A   44C    P8    10W /  70W |      0MiB / 15109MiB |      0%      Default |\n",
            "|                               |                      |                  N/A |\n",
            "+-------------------------------+----------------------+----------------------+\n",
            "                                                                               \n",
            "+-----------------------------------------------------------------------------+\n",
            "| Processes:                                                                  |\n",
            "|  GPU   GI   CI        PID   Type   Process name                  GPU Memory |\n",
            "|        ID   ID                                                   Usage      |\n",
            "|=============================================================================|\n",
            "|  No running processes found                                                 |\n",
            "+-----------------------------------------------------------------------------+\n",
            "\n",
            "\n",
            "Your runtime has 54.8 gigabytes of available RAM\n",
            "\n",
            "You are using a high-RAM runtime!\n"
          ]
        }
      ],
      "source": [
        "# Google collab premium utilities status check\n",
        "# GPU\n",
        "gpu_info = !nvidia-smi\n",
        "gpu_info = '\\n'.join(gpu_info)\n",
        "if gpu_info.find('failed') >= 0:\n",
        "  print('Not connected to a GPU')\n",
        "else:\n",
        "  print(gpu_info)\n",
        "\n",
        "print( '\\n')\n",
        "\n",
        "# RAM\n",
        "from psutil import virtual_memory\n",
        "ram_gb = virtual_memory().total / 1e9\n",
        "print('Your runtime has {:.1f} gigabytes of available RAM\\n'.format(ram_gb))\n",
        "\n",
        "if ram_gb < 20:\n",
        "  print('Not using a high-RAM runtime')\n",
        "else:\n",
        "  print('You are using a high-RAM runtime!')"
      ]
    },
    {
      "cell_type": "code",
      "execution_count": 3,
      "metadata": {
        "colab": {
          "base_uri": "https://localhost:8080/"
        },
        "id": "M0HEh8D3-Ooe",
        "outputId": "2a0643ea-4b54-4b68-91d3-44c17aebbf08"
      },
      "outputs": [
        {
          "output_type": "stream",
          "name": "stdout",
          "text": [
            "-rw------- 1 root root 2308 Oct 13 00:53 /content/drive/MyDrive/nlpproject.json\n",
            "-rw------- 1 root root 2326 Oct 31 03:37 /content/drive/MyDrive/pacific-castle-360400-a3ca89f64de6.json\n"
          ]
        }
      ],
      "source": [
        "! ls -lrt /content/drive/MyDrive/*.json"
      ]
    },
    {
      "cell_type": "code",
      "execution_count": 4,
      "metadata": {
        "colab": {
          "base_uri": "https://localhost:8080/"
        },
        "id": "bKxMh2wb-gYO",
        "outputId": "cade9f82-34fc-4d93-b317-6e3f19cddaa5"
      },
      "outputs": [
        {
          "output_type": "stream",
          "name": "stdout",
          "text": [
            "/content/drive/MyDrive/pacific-castle-360400-a3ca89f64de6.json\n"
          ]
        }
      ],
      "source": [
        "import os\n",
        "os.environ['GOOGLE_APPLICATION_CREDENTIALS'] = '/content/drive/MyDrive/pacific-castle-360400-a3ca89f64de6.json' \n",
        "!echo $GOOGLE_APPLICATION_CREDENTIALS"
      ]
    },
    {
      "cell_type": "code",
      "execution_count": 5,
      "metadata": {
        "colab": {
          "base_uri": "https://localhost:8080/"
        },
        "id": "5TcU3v7W-i36",
        "outputId": "b2cd61f1-2301-4247-f259-b547bd755b3f"
      },
      "outputs": [
        {
          "output_type": "stream",
          "name": "stdout",
          "text": [
            "-- List of buckets in project \"pacific-castle-360400\"\n",
            "266csffile\n",
            "w266liwc\n"
          ]
        }
      ],
      "source": [
        "from google.cloud import storage\n",
        "\n",
        "storage_client = storage.Client()\n",
        "\n",
        "buckets = storage_client.list_buckets()\n",
        "\n",
        "print('-- List of buckets in project \\\"' + storage_client.project + '\\\"')\n",
        "\n",
        "for b in buckets:\n",
        "  print(b.name)"
      ]
    },
    {
      "cell_type": "code",
      "execution_count": 6,
      "metadata": {
        "colab": {
          "base_uri": "https://localhost:8080/"
        },
        "id": "Rk516UIQ-olJ",
        "outputId": "3e87d813-abe2-4fbe-b495-c434a788619d"
      },
      "outputs": [
        {
          "output_type": "stream",
          "name": "stdout",
          "text": [
            "Looking in indexes: https://pypi.org/simple, https://us-python.pkg.dev/colab-wheels/public/simple/\n",
            "Collecting transformers\n",
            "  Downloading transformers-4.24.0-py3-none-any.whl (5.5 MB)\n",
            "\u001b[K     |████████████████████████████████| 5.5 MB 4.0 MB/s \n",
            "\u001b[?25hRequirement already satisfied: regex!=2019.12.17 in /usr/local/lib/python3.7/dist-packages (from transformers) (2022.6.2)\n",
            "Collecting tokenizers!=0.11.3,<0.14,>=0.11.1\n",
            "  Downloading tokenizers-0.13.2-cp37-cp37m-manylinux_2_17_x86_64.manylinux2014_x86_64.whl (7.6 MB)\n",
            "\u001b[K     |████████████████████████████████| 7.6 MB 59.4 MB/s \n",
            "\u001b[?25hRequirement already satisfied: pyyaml>=5.1 in /usr/local/lib/python3.7/dist-packages (from transformers) (6.0)\n",
            "Requirement already satisfied: requests in /usr/local/lib/python3.7/dist-packages (from transformers) (2.23.0)\n",
            "Requirement already satisfied: filelock in /usr/local/lib/python3.7/dist-packages (from transformers) (3.8.0)\n",
            "Requirement already satisfied: importlib-metadata in /usr/local/lib/python3.7/dist-packages (from transformers) (4.13.0)\n",
            "Requirement already satisfied: packaging>=20.0 in /usr/local/lib/python3.7/dist-packages (from transformers) (21.3)\n",
            "Requirement already satisfied: numpy>=1.17 in /usr/local/lib/python3.7/dist-packages (from transformers) (1.21.6)\n",
            "Requirement already satisfied: tqdm>=4.27 in /usr/local/lib/python3.7/dist-packages (from transformers) (4.64.1)\n",
            "Collecting huggingface-hub<1.0,>=0.10.0\n",
            "  Downloading huggingface_hub-0.10.1-py3-none-any.whl (163 kB)\n",
            "\u001b[K     |████████████████████████████████| 163 kB 95.1 MB/s \n",
            "\u001b[?25hRequirement already satisfied: typing-extensions>=3.7.4.3 in /usr/local/lib/python3.7/dist-packages (from huggingface-hub<1.0,>=0.10.0->transformers) (4.1.1)\n",
            "Requirement already satisfied: pyparsing!=3.0.5,>=2.0.2 in /usr/local/lib/python3.7/dist-packages (from packaging>=20.0->transformers) (3.0.9)\n",
            "Requirement already satisfied: zipp>=0.5 in /usr/local/lib/python3.7/dist-packages (from importlib-metadata->transformers) (3.10.0)\n",
            "Requirement already satisfied: urllib3!=1.25.0,!=1.25.1,<1.26,>=1.21.1 in /usr/local/lib/python3.7/dist-packages (from requests->transformers) (1.24.3)\n",
            "Requirement already satisfied: certifi>=2017.4.17 in /usr/local/lib/python3.7/dist-packages (from requests->transformers) (2022.9.24)\n",
            "Requirement already satisfied: idna<3,>=2.5 in /usr/local/lib/python3.7/dist-packages (from requests->transformers) (2.10)\n",
            "Requirement already satisfied: chardet<4,>=3.0.2 in /usr/local/lib/python3.7/dist-packages (from requests->transformers) (3.0.4)\n",
            "Installing collected packages: tokenizers, huggingface-hub, transformers\n",
            "Successfully installed huggingface-hub-0.10.1 tokenizers-0.13.2 transformers-4.24.0\n"
          ]
        }
      ],
      "source": [
        "!pip install transformers\n",
        "import os, re\n",
        "import time\n",
        "import numpy as np\n",
        "import pandas as pd\n",
        "\n",
        "import tensorflow as tf\n",
        "from tensorflow import keras\n",
        "from tensorflow.keras import layers\n",
        "import io\n",
        "from io import BytesIO\n",
        "from transformers import AutoTokenizer, TFAutoModel\n",
        "from transformers import BertTokenizer, TFBertModel\n",
        "from sklearn.metrics import confusion_matrix\n",
        "from sklearn import metrics\n",
        "from sklearn.metrics import accuracy_score\n",
        "from sklearn.metrics import classification_report\n",
        "from sklearn.metrics import f1_score,roc_auc_score,roc_curve,recall_score, precision_score, f1_score,matthews_corrcoef\n",
        "import seaborn as sns\n",
        "import matplotlib.pyplot as plt"
      ]
    },
    {
      "cell_type": "code",
      "execution_count": 7,
      "metadata": {
        "colab": {
          "base_uri": "https://localhost:8080/"
        },
        "id": "kZ_sypYSV_XW",
        "outputId": "cc43baa5-a993-4f26-f2dd-64ac2ac6d758"
      },
      "outputs": [
        {
          "output_type": "stream",
          "name": "stdout",
          "text": [
            "Looking in indexes: https://pypi.org/simple, https://us-python.pkg.dev/colab-wheels/public/simple/\n",
            "Collecting empath\n",
            "  Downloading empath-0.89.tar.gz (57 kB)\n",
            "\u001b[K     |████████████████████████████████| 57 kB 2.6 MB/s \n",
            "\u001b[?25hRequirement already satisfied: requests in /usr/local/lib/python3.7/dist-packages (from empath) (2.23.0)\n",
            "Requirement already satisfied: urllib3!=1.25.0,!=1.25.1,<1.26,>=1.21.1 in /usr/local/lib/python3.7/dist-packages (from requests->empath) (1.24.3)\n",
            "Requirement already satisfied: idna<3,>=2.5 in /usr/local/lib/python3.7/dist-packages (from requests->empath) (2.10)\n",
            "Requirement already satisfied: chardet<4,>=3.0.2 in /usr/local/lib/python3.7/dist-packages (from requests->empath) (3.0.4)\n",
            "Requirement already satisfied: certifi>=2017.4.17 in /usr/local/lib/python3.7/dist-packages (from requests->empath) (2022.9.24)\n",
            "Building wheels for collected packages: empath\n",
            "  Building wheel for empath (setup.py) ... \u001b[?25l\u001b[?25hdone\n",
            "  Created wheel for empath: filename=empath-0.89-py3-none-any.whl size=57822 sha256=0218a51e3236fa37a2e8007d483ee6db82203f57ea55ec92a7dac79e0eb30726\n",
            "  Stored in directory: /root/.cache/pip/wheels/2b/78/a8/37d4505eeae79807f4b5565a193f7cfcee892137ad37591029\n",
            "Successfully built empath\n",
            "Installing collected packages: empath\n",
            "Successfully installed empath-0.89\n",
            "Looking in indexes: https://pypi.org/simple, https://us-python.pkg.dev/colab-wheels/public/simple/\n",
            "Collecting NRCLex\n",
            "  Downloading NRCLex-4.0-py3-none-any.whl (4.4 kB)\n",
            "Requirement already satisfied: textblob in /usr/local/lib/python3.7/dist-packages (from NRCLex) (0.15.3)\n",
            "  Downloading NRCLex-3.0.0.tar.gz (396 kB)\n",
            "\u001b[K     |████████████████████████████████| 396 kB 4.3 MB/s \n",
            "\u001b[?25hRequirement already satisfied: nltk>=3.1 in /usr/local/lib/python3.7/dist-packages (from textblob->NRCLex) (3.7)\n",
            "Requirement already satisfied: click in /usr/local/lib/python3.7/dist-packages (from nltk>=3.1->textblob->NRCLex) (7.1.2)\n",
            "Requirement already satisfied: tqdm in /usr/local/lib/python3.7/dist-packages (from nltk>=3.1->textblob->NRCLex) (4.64.1)\n",
            "Requirement already satisfied: regex>=2021.8.3 in /usr/local/lib/python3.7/dist-packages (from nltk>=3.1->textblob->NRCLex) (2022.6.2)\n",
            "Requirement already satisfied: joblib in /usr/local/lib/python3.7/dist-packages (from nltk>=3.1->textblob->NRCLex) (1.2.0)\n",
            "Building wheels for collected packages: NRCLex\n",
            "  Building wheel for NRCLex (setup.py) ... \u001b[?25l\u001b[?25hdone\n",
            "  Created wheel for NRCLex: filename=NRCLex-3.0.0-py3-none-any.whl size=43328 sha256=6989c95cb4d900857d243330ed5e6941a295f2dd0a0cc415457a3b8250f50901\n",
            "  Stored in directory: /root/.cache/pip/wheels/af/2c/9c/dfa19d1b65326c520b32850a9311f6d4eda679ac04dba26081\n",
            "Successfully built NRCLex\n",
            "Installing collected packages: NRCLex\n",
            "Successfully installed NRCLex-3.0.0\n"
          ]
        },
        {
          "output_type": "stream",
          "name": "stderr",
          "text": [
            "[nltk_data] Downloading package punkt to /root/nltk_data...\n",
            "[nltk_data]   Unzipping tokenizers/punkt.zip.\n"
          ]
        }
      ],
      "source": [
        "#imports and installs for feature engineering\n",
        "!pip install empath\n",
        "from empath import Empath\n",
        "lexicon = Empath()\n",
        "# Import module\n",
        "!pip install NRCLex\n",
        "from nrclex import NRCLex\n",
        "import nltk\n",
        "nltk.download('punkt')\n",
        "import collections\n",
        "from collections import Counter\n",
        "import spacy\n",
        "nlp =spacy.load(\"en_core_web_sm\")"
      ]
    },
    {
      "cell_type": "code",
      "execution_count": 8,
      "metadata": {
        "colab": {
          "base_uri": "https://localhost:8080/",
          "height": 286,
          "referenced_widgets": [
            "3724007fc09640b1b12840034c5c8253",
            "1f5bb337a0484349b9357780b6e3efbf",
            "f553e4b7a3d045c8b653ed18b2756dcd",
            "f0d35b2d54d84e32b94782a5ba9f9b11",
            "fd95fc1937a249abb85f49f77dca35a7",
            "e12a430b8b1a4d8f8108a85da49a5f80",
            "11078f4782514450b4669b2157a5a5fe",
            "99c80cc3f0e74b97aeeb43837480a39c",
            "83531450c50742c599c62ea6c00c8b51",
            "5882b84bb31142ec8da07e33fe2b807c",
            "f8dbaeb47baf465e89b98fabec71c9c1",
            "a9a0f8d9dd9a495e84e01ba43a70b6de",
            "4b6ddb70b1834f89a0605581675d0b7c",
            "651777c0cada4994a37d6c63abe71168",
            "90438be986734a0991a87899c3e30b48",
            "e48d339d5dc143f0907542147e161bac",
            "fe7c80ec0ecb4288ac08959a606ae172",
            "ead6448cc53d47a2b6aa82b1fc361d8a",
            "56bf742d5d614819bd2d9ce214c0cdba",
            "33776a9f3b8d4cec87700bb644dcebad",
            "aa050553f6a84ddfadbba92ea06bcc19",
            "879b3752ac134b9db345b5f94350c5f4",
            "50e4e4247d8540f7b53e873570e92984",
            "dac30b0487ed4d3e8b13203d2b3b2583",
            "fa1ff3f8c05241eb9884b1153ac43dcf",
            "9be27b5e4fd841d69ddc82689e4d79a7",
            "3ec6f38724674d93b2558c207e7bc4f9",
            "b9be2581e7544877a6bd7fe8c827063d",
            "ef97ee316faf47f69f59b92b6cb6f49f",
            "aa395f70b2264d6a91478a59e5a687a6",
            "11076f8e957143c6b0cb1aceb70fcda8",
            "263d9b0588e14332953d1106b63cf9af",
            "2f40006d3f384389a12ee2d362e41760",
            "e6dc765849924b348e48f03393a0e4f7",
            "65b522651fe94df381ba261b76e6501e",
            "998f73cf9aa14a81ac6bc91092c18a11",
            "8f36fa655968444a99f9a0bef2ef2242",
            "895cab5e61ab47068610ff3b0ea38f50",
            "d275fd8019084115b00c2b87476035bc",
            "fae9069bc1b94b889df5fc9626cc1114",
            "881d50f7d8cb4d00a2bfde6b5cebc8ba",
            "fd5ebfc581304edba4a43eab78e66817",
            "36da517f9d9b454ca288b7f8ad4c173c",
            "66dce22966b048d28551a7bab4a4cde0",
            "d04f6ff8a8db438e82b4f0a8862e1f6d",
            "549a16d447394ca3890dec3d5550225a",
            "ae9375c0abcf4856a465e0e7de2c6444",
            "f9bd059d92884590b4ed8889a94ef62e",
            "512838652e824eacbdd17d23cc8a117d",
            "75e48c5373e6492d8339cd1c8cae5eb2",
            "8e68ef3b7a9045e3b66c7bab3ccd516d",
            "36c29cb5f0e14e4caf510bc4b23b128b",
            "8bd5fcafd4884092b0e1218da23f2e20",
            "de2155d861754ab0b759d87923da62e0",
            "e8d98e9961754d1f85263360b64b37f8"
          ]
        },
        "id": "51XgfgAFO0S6",
        "outputId": "18cca25c-9b01-4d9f-f775-46868009f2ba"
      },
      "outputs": [
        {
          "output_type": "display_data",
          "data": {
            "text/plain": [
              "Downloading:   0%|          | 0.00/29.0 [00:00<?, ?B/s]"
            ],
            "application/vnd.jupyter.widget-view+json": {
              "version_major": 2,
              "version_minor": 0,
              "model_id": "3724007fc09640b1b12840034c5c8253"
            }
          },
          "metadata": {}
        },
        {
          "output_type": "display_data",
          "data": {
            "text/plain": [
              "Downloading:   0%|          | 0.00/570 [00:00<?, ?B/s]"
            ],
            "application/vnd.jupyter.widget-view+json": {
              "version_major": 2,
              "version_minor": 0,
              "model_id": "a9a0f8d9dd9a495e84e01ba43a70b6de"
            }
          },
          "metadata": {}
        },
        {
          "output_type": "display_data",
          "data": {
            "text/plain": [
              "Downloading:   0%|          | 0.00/213k [00:00<?, ?B/s]"
            ],
            "application/vnd.jupyter.widget-view+json": {
              "version_major": 2,
              "version_minor": 0,
              "model_id": "50e4e4247d8540f7b53e873570e92984"
            }
          },
          "metadata": {}
        },
        {
          "output_type": "display_data",
          "data": {
            "text/plain": [
              "Downloading:   0%|          | 0.00/436k [00:00<?, ?B/s]"
            ],
            "application/vnd.jupyter.widget-view+json": {
              "version_major": 2,
              "version_minor": 0,
              "model_id": "e6dc765849924b348e48f03393a0e4f7"
            }
          },
          "metadata": {}
        },
        {
          "output_type": "display_data",
          "data": {
            "text/plain": [
              "Downloading:   0%|          | 0.00/527M [00:00<?, ?B/s]"
            ],
            "application/vnd.jupyter.widget-view+json": {
              "version_major": 2,
              "version_minor": 0,
              "model_id": "d04f6ff8a8db438e82b4f0a8862e1f6d"
            }
          },
          "metadata": {}
        },
        {
          "output_type": "stream",
          "name": "stderr",
          "text": [
            "Some layers from the model checkpoint at bert-base-cased were not used when initializing TFBertModel: ['nsp___cls', 'mlm___cls']\n",
            "- This IS expected if you are initializing TFBertModel from the checkpoint of a model trained on another task or with another architecture (e.g. initializing a BertForSequenceClassification model from a BertForPreTraining model).\n",
            "- This IS NOT expected if you are initializing TFBertModel from the checkpoint of a model that you expect to be exactly identical (initializing a BertForSequenceClassification model from a BertForSequenceClassification model).\n",
            "All the layers of TFBertModel were initialized from the model checkpoint at bert-base-cased.\n",
            "If your task is similar to the task the model of the checkpoint was trained on, you can already use TFBertModel for predictions without further training.\n"
          ]
        }
      ],
      "source": [
        "bert_model_name='bert-base-cased'\n",
        "bert_tokenizer = AutoTokenizer.from_pretrained(bert_model_name)\n",
        "bert_model = TFAutoModel.from_pretrained(bert_model_name)\n",
        "#bert_tokenizer = BertTokenizer.from_pretrained('bert-base-cased')\n",
        "#bert_model = TFBertModel.from_pretrained('bert-base-cased')\n",
        "bert_model.trainable = False\n",
        "\n"
      ]
    },
    {
      "cell_type": "markdown",
      "metadata": {
        "id": "Env_Nqyh07cj"
      },
      "source": [
        "# Data Prep Training and Validation"
      ]
    },
    {
      "cell_type": "code",
      "execution_count": 9,
      "metadata": {
        "id": "4sK8hG76V7Kg"
      },
      "outputs": [],
      "source": [
        "# max_length=500\n",
        "#increasing max length by 250 to accomodate additional tags and user info\n",
        "max_length = 750\n",
        "batch_size = 32"
      ]
    },
    {
      "cell_type": "code",
      "execution_count": 10,
      "metadata": {
        "id": "cyQoVV0SSLrI"
      },
      "outputs": [],
      "source": [
        "# Checkpoint configurations on google drive \n",
        "\n",
        "checkpoint_dir = 'drive/MyDrive/W266/MBTI/model_checkpoints/'\n",
        "#checkpoint_filepath = checkpoint_dir + 'weights.{epoch:02d}-{val_accuracy:.2f}.hdf5'\n",
        "checkpoint_filepath = checkpoint_dir + 'bert_mh_1113.hdf5'\n",
        "model_checkpoint_callback = tf.keras.callbacks.ModelCheckpoint(\n",
        "    filepath=checkpoint_filepath,\n",
        "    save_weights_only=True,\n",
        "    #save_freq =100*batch_size\n",
        "    )"
      ]
    },
    {
      "cell_type": "code",
      "execution_count": 11,
      "metadata": {
        "colab": {
          "base_uri": "https://localhost:8080/"
        },
        "id": "f62EIC1vGO4a",
        "outputId": "0847d3aa-bd7c-4e16-9fa6-00d4d5ad9918"
      },
      "outputs": [
        {
          "output_type": "stream",
          "name": "stdout",
          "text": [
            "<Bucket: 266csffile>\n",
            "<Bucket: w266liwc>\n"
          ]
        }
      ],
      "source": [
        "#Initialize google storage\n",
        "#storage_client = storage.Client.from_service_account_json('pacific-castle-360400-a3ca89f64de6.json')\n",
        "\n",
        "#Print buckets available\n",
        "for bucket in storage_client.list_buckets():\n",
        "  print(bucket)\n",
        "\n",
        "#Assign bucket name being used\n",
        "bucket_name = '266csffile'\n",
        "\n",
        "#Get bucket\n",
        "bucket = storage_client.get_bucket(bucket_name)\n",
        "\n",
        "# #Show list of files in bucket and list the files\n",
        "# filelist = list(bucket.list_blobs(prefix=''))\n",
        "# for name in filelist:\n",
        "#   print(name.name)"
      ]
    },
    {
      "cell_type": "code",
      "execution_count": 12,
      "metadata": {
        "id": "KXw69cSOQIju"
      },
      "outputs": [],
      "source": [
        "def read_parquet_google_cloud(file):\n",
        "    '''This function reads a file from the google cloud storage bucket. Input\n",
        "    parameters include the filename, encoding and CSV file separators.'''\n",
        "\n",
        "    #Load Google Cloud storage client using service key\n",
        "\n",
        "    blob = bucket.blob(file)\n",
        "    read_back = bucket.blob(file)\n",
        "    string_read_back = read_back.download_as_string()\n",
        "    new_df = pd.read_parquet(io.BytesIO(string_read_back))\n",
        "\n",
        "    return new_df"
      ]
    },
    {
      "cell_type": "code",
      "execution_count": 13,
      "metadata": {
        "id": "pKn1Eu46ZIL-"
      },
      "outputs": [],
      "source": [
        "def add_features(df):\n",
        "  # df.loc[index,'lexicon'] = df['message'].apply(lambda x: ', '.join(f'{key} {str(value)}' for key, value in lexicon.analyze(x).items() if value > 0))\n",
        "  # df.loc[index,'emotions'] = df['message'].apply(lambda x: ', '.join(f'{key} {str(value)}' for key, value in NRCLex(x).raw_emotion_scores.items() if value > 0))\n",
        "  # df.loc[index,'postags'] =  df['message'].apply(lambda x: ', '.join(f'{key.lower()} {str(value)}' for key, value in Counter((token.pos_ for token in nlp(x))).items()))\n",
        "  # df.loc[index,'combined'] = df['Username'].astype(str).lower() +\" [SEP] \" + df['Age'].astype(str).lower()+\" [SEP] \"+\"lexical categories: \"+df['lexicon'].astype(str).lower()+ \" [SEP] \"+\"emotion scores: \"+df['emotions'].astype(str).lower()+\" [SEP] \" + \"pos tags: \"+df['postags'].astype(str).lower() + \" [SEP] \" + df['message'].astype(str)\n",
        "  df['Username'] = df['Username'].str.lower()\n",
        "  df['Gender'] = df['Gender'].str.lower()\n",
        "  df['Occupation'] = df['Occupation'].str.lower()\n",
        "  df['lexicon'] = df['message'].apply(lambda x: ', '.join(f'{key} {str(value)}' for key, value in lexicon.analyze(x).items() if value > 0))\n",
        "  df['emotions'] = df['message'].apply(lambda x: ', '.join(f'{key} {str(value)}' for key, value in NRCLex(x).raw_emotion_scores.items() if value > 0))\n",
        "  df['postags'] =  df['message'].apply(lambda x: ', '.join(f'{key.lower()} {str(value)}' for key, value in Counter((token.pos_ for token in nlp(x))).items()))\n",
        "  #df['combined'] = df['Username'].astype(str)+\" [SEP] \" + df['Age'].astype(str)+\" [SEP] \"+\"lexical categories: \"+df['lexicon'].astype(str)+ \" [SEP] \"+\"emotion scores: \"+df['emotions'].astype(str)+\" [SEP] \" + \"pos tags: \"+df['postags'].astype(str)+ \" [SEP] \" + df['message'].astype(str)\n",
        "  df['combined'] = df['Username'].astype(str)+\" [SEP] \" + df['Age'].astype(str)+\" [SEP] \"+df['Posts'].astype(str)+\" [SEP] \"+df['Gender'].astype(str)+\" [SEP] \"+df['Occupation'].astype(str)+\" [SEP] \"+\"lexical categories: \"+df['lexicon'].astype(str)+ \" [SEP] \"+\"emotion scores: \"+df['emotions'].astype(str)+\" [SEP] \" + \"pos tags: \"+df['postags'].astype(str)+ \" [SEP] \" + df['message'].astype(str)\n",
        "  return df\n",
        "\n",
        "\n",
        "  # for index, row in df.iterrows():\n",
        "  #   # Piece it together...    \n",
        "  #   combined = \"\"\n",
        "    \n",
        "  #   combined += \"{:} [SEP] {:} [SEP] \" \\\n",
        "  #               .format(row[\"Username\"], row[\"Age\"])\n",
        "\n",
        "  #   # call the empath function , not setting normalize equal to true to get integer values from the function\n",
        "  #   empath_out = lexicon.analyze(row[\"message\"])\n",
        "\n",
        "  #   empath_listing = ', '.join(f'{key} {value}' for key, value in empath_out.items() if value > 0)\n",
        "\n",
        "  #   combined += \"Lexical Categories: \" + empath_listing + \"[SEP] \"\n",
        "\n",
        "  #   # utilize NRCLex for extracting raw emotion scores\n",
        "  #   emotion = NRCLex(row[\"message\"])\n",
        "\n",
        "  #   raw_emotions = ', '.join(f'{key} {value}' for key, value in emotion.raw_emotion_scores.items() if value > 0)\n",
        "\n",
        "  #   combined += \"Emotion Scores: \" + raw_emotions + \"[SEP] \"\n",
        "\n",
        "  #   # extract part of speech to from the token using spacy\n",
        "\n",
        "  #   doc = nlp(row[\"message\"])\n",
        "\n",
        "  #   for token in doc:\n",
        "  #     pos_counter = Counter((token.pos_ for token in doc))\n",
        "\n",
        "  #   pos_tags = ', '.join(f'{key} {value}' for key, value in pos_counter.items()) \n",
        "\n",
        "  #   combined += \"POS Tags: \" + pos_tags + \"[SEP] \"\n",
        "    \n",
        "  #   # Finally, append the actual message!\n",
        "  #   combined += row[\"message\"]\n",
        "  #   df.loc[index,'combined'] = combined\n",
        "\n",
        "\n",
        "    "
      ]
    },
    {
      "cell_type": "code",
      "execution_count": null,
      "metadata": {
        "id": "4KuOuwV6jhx0"
      },
      "outputs": [],
      "source": [
        "# features_mbti_data = add_features(train_mbti_data)"
      ]
    },
    {
      "cell_type": "code",
      "execution_count": null,
      "metadata": {
        "id": "oklvker4kEL5"
      },
      "outputs": [],
      "source": [
        "# features_mbti_data"
      ]
    },
    {
      "cell_type": "code",
      "execution_count": null,
      "metadata": {
        "id": "4EGzBi_2GSWM"
      },
      "outputs": [],
      "source": [
        "# train_mbti_data['lexicon2'] = train_mbti_data['message'].apply(lambda x: ', '.join(f'{key} {str(value)}' for key, value in lexicon.analyze(x).items() if value > 0))"
      ]
    },
    {
      "cell_type": "code",
      "execution_count": null,
      "metadata": {
        "id": "CGKz_kfmHxK1"
      },
      "outputs": [],
      "source": [
        "# train_mbti_data['emotions'] = train_mbti_data['message'].apply(lambda x: ', '.join(f'{key} {str(value)}' for key, value in NRCLex(x).raw_emotion_scores.items() if value > 0))"
      ]
    },
    {
      "cell_type": "code",
      "execution_count": null,
      "metadata": {
        "id": "FiMPKSNcI1_O"
      },
      "outputs": [],
      "source": [
        "# train_mbti_data['postags'] = train_mbti_data['message'].apply(lambda x: ', '.join(f'{key.lower()} {str(value)}' for key, value in Counter((token.pos_ for token in nlp(x))).items()))"
      ]
    },
    {
      "cell_type": "code",
      "execution_count": 14,
      "metadata": {
        "id": "fva4rdJfGmF-"
      },
      "outputs": [],
      "source": [
        "train_mbti_data = read_parquet_google_cloud('train_uniform_mbti_data.parquet')\n",
        "train_mbti_labels = read_parquet_google_cloud('train_uniform_mbti_labels.parquet')\n",
        "#train_mbti_data, train_mbti_labels = train_mbti_data[120000:130000], train_mbti_labels[120000:130000]\n",
        "#train_mbti_data, train_mbti_labels = train_mbti_data[:40000], train_mbti_labels[:40000]\n",
        "#train_mbti_data = add_features(train_mbti_data)\n",
        "\n",
        "dev_mbti_data = read_parquet_google_cloud('dev_mbti_data.parquet')\n",
        "dev_mbti_labels = read_parquet_google_cloud('dev_mbti_labels.parquet')\n",
        "#dev_mbti_data, dev_mbti_labels = dev_mbti_data[:2000], dev_mbti_labels[:2000]\n",
        "dev_mbti_data = dev_mbti_data[['Username','Age','Posts','Gender','Occupation','message']]"
      ]
    },
    {
      "cell_type": "code",
      "execution_count": 15,
      "metadata": {
        "colab": {
          "base_uri": "https://localhost:8080/"
        },
        "id": "Bd4LRdqFrb0d",
        "outputId": "e6c31397-02c6-4886-bb56-1ecc0a206053"
      },
      "outputs": [
        {
          "output_type": "execute_result",
          "data": {
            "text/plain": [
              "index                  1200000\n",
              "original index         1200000\n",
              "Username               1200000\n",
              "Age                    1200000\n",
              "Posts                  1200000\n",
              "Enneagram               906987\n",
              "Instinctual Variant     657429\n",
              "Gender                  640188\n",
              "Occupation              614944\n",
              "is_I                   1200000\n",
              "is_S                   1200000\n",
              "is_T                   1200000\n",
              "is_J                   1200000\n",
              "post_id                1200000\n",
              "thread_id              1200000\n",
              "post_date              1200000\n",
              "message                1200000\n",
              "dtype: int64"
            ]
          },
          "metadata": {},
          "execution_count": 15
        }
      ],
      "source": [
        "train_mbti_data.count()"
      ]
    },
    {
      "cell_type": "code",
      "source": [
        "train_mbti_data = train_mbti_data[['Username','Age','Posts','Gender','Occupation','message']]"
      ],
      "metadata": {
        "id": "9X5q2VuQ2lG5"
      },
      "execution_count": 16,
      "outputs": []
    },
    {
      "cell_type": "code",
      "execution_count": 18,
      "metadata": {
        "colab": {
          "base_uri": "https://localhost:8080/"
        },
        "id": "JFxpvgpiGU6F",
        "outputId": "1825f152-cfbd-4633-b7ba-c2493cc59f68"
      },
      "outputs": [
        {
          "output_type": "execute_result",
          "data": {
            "text/plain": [
              "Username      1200000\n",
              "Age           1200000\n",
              "Posts         1200000\n",
              "Gender         640188\n",
              "Occupation     614944\n",
              "message       1200000\n",
              "dtype: int64"
            ]
          },
          "metadata": {},
          "execution_count": 18
        }
      ],
      "source": [
        "train_mbti_data.count()"
      ]
    },
    {
      "cell_type": "code",
      "source": [
        "train_mbti_data.isna().any()"
      ],
      "metadata": {
        "colab": {
          "base_uri": "https://localhost:8080/"
        },
        "id": "GzvWwhgP2zIC",
        "outputId": "c0feaf06-b3e8-48c6-effc-187aebfd7619"
      },
      "execution_count": 19,
      "outputs": [
        {
          "output_type": "execute_result",
          "data": {
            "text/plain": [
              "Username      False\n",
              "Age           False\n",
              "Posts         False\n",
              "Gender         True\n",
              "Occupation     True\n",
              "message       False\n",
              "dtype: bool"
            ]
          },
          "metadata": {},
          "execution_count": 19
        }
      ]
    },
    {
      "cell_type": "code",
      "source": [
        "train_mbti_data.isnull().any()"
      ],
      "metadata": {
        "colab": {
          "base_uri": "https://localhost:8080/"
        },
        "id": "nwh8Ile63CrG",
        "outputId": "46dd4a1b-3fcd-4f8a-d75b-33cb82524772"
      },
      "execution_count": 20,
      "outputs": [
        {
          "output_type": "execute_result",
          "data": {
            "text/plain": [
              "Username      False\n",
              "Age           False\n",
              "Posts         False\n",
              "Gender         True\n",
              "Occupation     True\n",
              "message       False\n",
              "dtype: bool"
            ]
          },
          "metadata": {},
          "execution_count": 20
        }
      ]
    },
    {
      "cell_type": "code",
      "source": [
        "train_mbti_data.Gender.value_counts().plot(kind = 'bar')"
      ],
      "metadata": {
        "colab": {
          "base_uri": "https://localhost:8080/",
          "height": 340
        },
        "id": "0n3ZKop83kDr",
        "outputId": "e6552db0-d97e-412d-bab2-a0fa73cd7ce4"
      },
      "execution_count": 21,
      "outputs": [
        {
          "output_type": "execute_result",
          "data": {
            "text/plain": [
              "<matplotlib.axes._subplots.AxesSubplot at 0x7f0a426298d0>"
            ]
          },
          "metadata": {},
          "execution_count": 21
        },
        {
          "output_type": "display_data",
          "data": {
            "text/plain": [
              "<Figure size 432x288 with 1 Axes>"
            ],
            "image/png": "[encoded data removed]"
          },
          "metadata": {
            "needs_background": "light"
          }
        }
      ]
    },
    {
      "cell_type": "code",
      "source": [
        "train_mbti_data.Age.value_counts().plot(kind = 'bar')"
      ],
      "metadata": {
        "colab": {
          "base_uri": "https://localhost:8080/",
          "height": 308
        },
        "id": "nDezj9gp3r7P",
        "outputId": "52b16ee6-3eca-4784-86a4-fc7abb666da9"
      },
      "execution_count": 22,
      "outputs": [
        {
          "output_type": "execute_result",
          "data": {
            "text/plain": [
              "<matplotlib.axes._subplots.AxesSubplot at 0x7f0a4266dbd0>"
            ]
          },
          "metadata": {},
          "execution_count": 22
        },
        {
          "output_type": "display_data",
          "data": {
            "text/plain": [
              "<Figure size 432x288 with 1 Axes>"
            ],
            "image/png": "[encoded data removed]"
          },
          "metadata": {
            "needs_background": "light"
          }
        }
      ]
    },
    {
      "cell_type": "code",
      "source": [
        "train_mbti_data.hist(column='Age')"
      ],
      "metadata": {
        "colab": {
          "base_uri": "https://localhost:8080/",
          "height": 169
        },
        "id": "tNTh3fDe38oQ",
        "outputId": "cd0885f0-c7c3-486e-ec8f-c8736a5ac956"
      },
      "execution_count": 1,
      "outputs": [
        {
          "output_type": "error",
          "ename": "NameError",
          "evalue": "ignored",
          "traceback": [
            "\u001b[0;31m---------------------------------------------------------------------------\u001b[0m",
            "\u001b[0;31mNameError\u001b[0m                                 Traceback (most recent call last)",
            "\u001b[0;32m<ipython-input-1-02040400f154>\u001b[0m in \u001b[0;36m<module>\u001b[0;34m\u001b[0m\n\u001b[0;32m----> 1\u001b[0;31m \u001b[0mtrain_mbti_data\u001b[0m\u001b[0;34m.\u001b[0m\u001b[0mhist\u001b[0m\u001b[0;34m(\u001b[0m\u001b[0mcolumn\u001b[0m\u001b[0;34m=\u001b[0m\u001b[0;34m'Age'\u001b[0m\u001b[0;34m)\u001b[0m\u001b[0;34m\u001b[0m\u001b[0;34m\u001b[0m\u001b[0m\n\u001b[0m",
            "\u001b[0;31mNameError\u001b[0m: name 'train_mbti_data' is not defined"
          ]
        }
      ]
    },
    {
      "cell_type": "code",
      "execution_count": null,
      "metadata": {
        "id": "_abNiBO3pojk"
      },
      "outputs": [],
      "source": [
        "# #add features on dev data\n",
        "# chunk_size = int(dev_mbti_data.shape[0] / batch_size)\n",
        "# #for start in range(0, dev_mbti_data.shape[0], chunk_size):\n",
        "# for start in range(0, 100, 50):\n",
        "#     dev_subset = dev_mbti_data.iloc[start:start + chunk_size]\n",
        "#     dev_labels_subset = dev_mbti_labels.iloc[start:start + chunk_size]\n",
        "#     dev_subset = add_features(dev_subset)\n",
        "#     dev_subset_st = dev_subset['combined'].values.astype(str).tolist()\n",
        "#     dev_subset_labels = dev_mbti_labels['MBTI Type'].map(valid_MBTI).values.tolist()\n",
        "#     dev_subset_encodings = bert_tokenizer(dev_subset_st,truncation=True, max_length=max_length,padding='max_length',return_attention_mask=True,return_token_type_ids=True, return_tensors='tf')\n",
        "#     npdev_subset_labels = np.asarray(dev_subset_labels)\n",
        "\n"
      ]
    },
    {
      "cell_type": "code",
      "execution_count": null,
      "metadata": {
        "id": "0JSAK7If0qO_"
      },
      "outputs": [],
      "source": [
        "#Create dictonary to transform MBTI type into multiclass value from 0 to 15\n",
        "valid_MBTI = {'ISTJ': 0, 'INTJ': 1, 'ESTJ': 2, 'ENTJ': 3, 'ENTP': 4, 'INTP': 5, \\\n",
        "              'ISTP': 6, 'ESTP': 7, 'ISFJ': 8, 'INFJ': 9, 'ESFJ': 10, \\\n",
        "              'ENFJ': 11, 'ENFP': 12, 'INFP': 13, 'ISFP': 14, 'ESFP': 15}"
      ]
    },
    {
      "cell_type": "code",
      "execution_count": null,
      "metadata": {
        "id": "tkWEjy9U-3xM"
      },
      "outputs": [],
      "source": [
        "def preprocess_data(message,labels,tokenizer,max_length=750):\n",
        "\n",
        "\n",
        "    encodings = tokenizer(message,truncation=True,max_length=max_length,\n",
        "                          padding='max_length',return_attention_mask=True,\n",
        "                          return_token_type_ids=True, return_tensors='tf')\n",
        "\n",
        "    # Extract encoded features and labels, add to corresponding lists\n",
        "    input_ids = np.array(encodings[\"input_ids\"], dtype=\"int32\")\n",
        "    attention_masks = np.array(encodings[\"attention_mask\"], dtype=\"int32\")\n",
        "    token_type_ids = np.array(encodings[\"token_type_ids\"], dtype=\"int32\")\n",
        "    np_labels = np.asarray(labels)\n",
        "    return [input_ids,attention_masks,token_type_ids], np_labels"
      ]
    },
    {
      "cell_type": "code",
      "execution_count": null,
      "metadata": {
        "id": "vMHAyI2rx8OH"
      },
      "outputs": [],
      "source": [
        "# # #in first batch we trained 5 epochs successfully till now  \n",
        "# # # train_mbti_data, train_mbti_labels = train_mbti_data[:120000], train_mbti_labels[:120000]\n",
        "# # # let us train on first 60000 rows\n",
        "#  train_mbti_data, train_mbti_labels = train_mbti_data[120000:220000], train_mbti_labels[120000:220000]"
      ]
    },
    {
      "cell_type": "code",
      "execution_count": null,
      "metadata": {
        "id": "ky7DBwDutPww"
      },
      "outputs": [],
      "source": [
        "# # just take 1000 examples for dev validation\n",
        "# # dev_mbti_data, dev_mbti_labels = dev_mbti_data[:1000], dev_mbti_labels[:1000]\n",
        "# # round 2 taking random dev validation than earlier round\n",
        "# dev_mbti_data, dev_mbti_labels = dev_mbti_data[1000:8000], dev_mbti_labels[1000:8000]"
      ]
    },
    {
      "cell_type": "code",
      "execution_count": null,
      "metadata": {
        "id": "m6oVVv-URBTr"
      },
      "outputs": [],
      "source": [
        "# #Map class for dev \n",
        "\n",
        "\n",
        "\n",
        "# #Generate data for encodings for dev \n",
        "\n",
        "# #dev_data_st = dev_mbti_data['message'].values.astype(str).tolist()\n",
        "# dev_data_st = dev_mbti_data['combined'].values.astype(str).tolist()\n",
        "# dev_labels = dev_mbti_labels['MBTI Type'].map(valid_MBTI).values.tolist()\n",
        "\n",
        "\n",
        "# # Generate encodings for dev and test\n",
        "# dev_encodings = bert_tokenizer(dev_data_st,truncation=True, max_length=max_length,padding='max_length',return_attention_mask=True,return_token_type_ids=True, return_tensors='tf')\n",
        "# npdev_labels = np.asarray(dev_labels)\n"
      ]
    },
    {
      "cell_type": "code",
      "execution_count": null,
      "metadata": {
        "id": "-9d0_VxeUAZi"
      },
      "outputs": [],
      "source": [
        "def document_model_run(model_type,mbti_model,target_names,results_dict,input_ids,token_type_ids,attention_mask,nptest_labels):\n",
        "\n",
        "  score = mbti_model.evaluate([input_ids,token_type_ids,attention_mask],nptest_labels) \n",
        "  print('Test loss:', score[0]) \n",
        "  print('Test accuracy:', score[1])\n",
        "\n",
        "  predictions = mbti_model.predict([input_ids,token_type_ids,attention_mask])\n",
        "\n",
        "  predictions = tf.argmax(predictions, axis=-1)\n",
        "\n",
        "  predictions = predictions.numpy()\n",
        "\n",
        "  print(classification_report(nptest_labels, predictions, target_names=target_names))\n",
        "\n",
        "  cr = classification_report(nptest_labels, predictions, target_names=target_names)\n",
        "\n",
        "  cm = tf.math.confusion_matrix(nptest_labels, predictions)\n",
        "  cm = cm/cm.numpy().sum(axis=1)[:, tf.newaxis]\n",
        "\n",
        "  plt.figure(figsize=(20,16))\n",
        "  sns.heatmap(\n",
        "      cm, annot=True,\n",
        "      xticklabels=target_names,\n",
        "      yticklabels=target_names)\n",
        "  plt.xlabel(\"Predicted\")\n",
        "  plt.ylabel(\"True\")\n",
        "\n",
        "  results_dict[model_type] = {'model_type': model_type,\n",
        "                              'cm':cm,\n",
        "                              'cr':cr,\n",
        "                              'test_loss': score[0],\n",
        "                              'test_accuracy': score[1]\n",
        "                              }"
      ]
    },
    {
      "cell_type": "code",
      "execution_count": null,
      "metadata": {
        "id": "VXjNZiFkDYYQ"
      },
      "outputs": [],
      "source": [
        "class MBTIDataGenerator(tf.keras.utils.Sequence): \n",
        "    def __init__(self,\n",
        "                 tokenizer,\n",
        "                 n_examples,\n",
        "                 df_train,\n",
        "                 df_labels,\n",
        "                 max_length=750,\n",
        "                 batch_size=32,\n",
        "                 shuffle=True):\n",
        "        \n",
        "        self.tokenizer = tokenizer\n",
        "        self.n_examples = n_examples\n",
        "        self.df_train = df_train\n",
        "        self.df_labels = df_labels\n",
        "        self.max_length = max_length\n",
        "        self.batch_size = batch_size\n",
        "        self.shuffle = shuffle\n",
        "        \n",
        "        # Initialize row order, call on_epoch_end to shuffle row indices\n",
        "        self.row_order = np.arange(1, self.n_examples+1)\n",
        "        self.on_epoch_end()\n",
        "    \n",
        "    def __len__(self):\n",
        "        # NOTE: USING REDUCED BATCHES PER EPOCH TO SPEED UP THE LIVE DEMO\n",
        "        # For normal use, this line should be:\n",
        "        return self.n_examples // self.batch_size\n",
        "        #return 1500\n",
        "    \n",
        "    def __getitem__(self, idx):\n",
        "        batch_start = idx * self.batch_size\n",
        "        batch_end = (idx + 1) * self.batch_size\n",
        "\n",
        "        \n",
        "        # we cant read the gcs file in batch in parquet mode.... we have to read the entire frame and then\n",
        "        # pass it to data frame for vectorization in the data loader and continue to loop thorugh that \n",
        "\n",
        "        processing_df = self.df_train.iloc[batch_start:batch_end][['Username','Age','Posts','Gender','Occupation','message']]\n",
        "\n",
        "        #processing_df['Username'] = processing_df['Username'].str.lower()\n",
        "\n",
        "        #processing_df['Gender'] = processing_df['Gender'].str.lower()\n",
        "\n",
        "        #processing_df['result'] = processing_df.astype(str).apply(' [SEP] '.join, axis=1).str.replace('None','').str.rstrip('.0')\n",
        "\n",
        "        features_df = add_features(processing_df)\n",
        "\n",
        "        #message = self.df_train.iloc[batch_start:batch_end]['combined'].values.astype(str).tolist()\n",
        "\n",
        "        message = features_df['combined'].values.astype(str).tolist()\n",
        "        \n",
        "        labels = self.df_labels.iloc[batch_start:batch_end]['MBTI Type'].map(valid_MBTI).values.tolist()\n",
        "        \n",
        "        batch_data = preprocess_data(\n",
        "            message,\n",
        "            labels,\n",
        "            self.tokenizer,\n",
        "            self.max_length\n",
        "        )\n",
        "\n",
        "        return batch_data\n",
        "    \n",
        "    def on_epoch_end(self):\n",
        "        if self.shuffle:\n",
        "            self.row_order = list(np.random.permutation(self.row_order))"
      ]
    },
    {
      "cell_type": "code",
      "execution_count": null,
      "metadata": {
        "id": "exioXnH8OZCp"
      },
      "outputs": [],
      "source": [
        "train_data_generator = MBTIDataGenerator(\n",
        "    tokenizer=bert_tokenizer,\n",
        "    #n_examples=1200000,\n",
        "    n_examples=500000,\n",
        "    df_train=train_mbti_data,\n",
        "    df_labels=train_mbti_labels,\n",
        "    max_length=750,\n",
        "    batch_size=32\n",
        ")"
      ]
    },
    {
      "cell_type": "code",
      "execution_count": null,
      "metadata": {
        "id": "XtBhAaNxHG9s"
      },
      "outputs": [],
      "source": [
        "dev_data_generator = MBTIDataGenerator(\n",
        "    tokenizer=bert_tokenizer,\n",
        "    #n_examples=200000,\n",
        "    n_examples=62500,\n",
        "    df_train=dev_mbti_data,\n",
        "    df_labels=dev_mbti_labels,\n",
        "    max_length=750,\n",
        "    batch_size=32\n",
        ")"
      ]
    },
    {
      "cell_type": "markdown",
      "metadata": {
        "id": "cvGQsRRk4fUn"
      },
      "source": [
        "# BERT + CNN for classification"
      ]
    },
    {
      "cell_type": "code",
      "execution_count": null,
      "metadata": {
        "id": "s7Whr9ldPzH_"
      },
      "outputs": [],
      "source": [
        "def create_mbti_bert_train_cnn_model( bert_model,hidden_size = 501, \n",
        "                                learning_rate= 0.00005,\n",
        "                                num_filters = [200,100,75,60,40,25],\n",
        "                                kernel_sizes = [2,5,8,10,12,16],\n",
        "                                dropout = 0.3,\n",
        "                                last_layer_num = 11):\n",
        "    \"\"\"\n",
        "    Build a  classification model with BERT, where you apply CNN layers  to the BERT output\n",
        "    \"\"\"\n",
        "\n",
        "\n",
        "    # Freeze all but the last transformer block of the given bert model\n",
        "    # \n",
        "    for w in bert_model.weights:\n",
        "        if 'layer_._%s' % last_layer_num not in w.name:\n",
        "            w._trainable = False\n",
        "    \n",
        "    #Define the input layer\n",
        "    input_ids = layers.Input(shape=(max_length,), dtype=tf.int32, name='input_ids')\n",
        "    attention_masks = layers.Input(shape=(max_length,), dtype=tf.int32, name='attention_masks')\n",
        "    token_type_ids = layers.Input(shape=(max_length,), dtype=tf.int32, name='token_type_ids')\n",
        "\n",
        "    bert_output = bert_model(input_ids, attention_mask=attention_masks, token_type_ids=token_type_ids)\n",
        "    #Seprate Bert embeddings, here we pass all the embeddings and not just CLS token or Avg of all, let CNN learn and adjust classification weights from the BERT output\n",
        "    bert_embeddings = bert_output[0]\n",
        "    #Generate CNN model layers \n",
        "    conv_layers_for_all_kernel_sizes = []\n",
        "    for kernel_size, filters in zip(kernel_sizes, num_filters):\n",
        "        conv_layer = keras.layers.Conv1D(filters=filters, kernel_size=kernel_size, activation='relu')(bert_embeddings)\n",
        "        conv_layer = keras.layers.GlobalMaxPooling1D()(conv_layer)\n",
        "        conv_layers_for_all_kernel_sizes.append(conv_layer)\n",
        "    \n",
        "    conv_output = keras.layers.concatenate(conv_layers_for_all_kernel_sizes, axis=1)\n",
        "    last_hidden_output = keras.layers.Dropout(rate=dropout)(conv_output)\n",
        "\n",
        "    #last_hidden_output = keras.layers.Dense(hidden_size, activation='relu')(last_hidden_output)\n",
        "    # changing dense layer to 100\n",
        "    last_hidden_output = keras.layers.Dense(100, activation='relu')(last_hidden_output)\n",
        "    cnn_prediction = keras.layers.Dense(16, activation='softmax')(last_hidden_output)\n",
        "    #Set the model & Compile it\n",
        "    classfication_model = tf.keras.Model(inputs=[input_ids, token_type_ids, attention_masks], outputs=[cnn_prediction])\n",
        "    classfication_model.compile(optimizer=tf.keras.optimizers.Adam(learning_rate=learning_rate),\n",
        "                      loss=tf.losses.SparseCategoricalCrossentropy(from_logits=False),  # From information theory notebooks.\n",
        "                      metrics=['accuracy'])\n",
        "    \n",
        "    return classfication_model"
      ]
    },
    {
      "cell_type": "code",
      "execution_count": null,
      "metadata": {
        "id": "RaolXainQ2jj"
      },
      "outputs": [],
      "source": [
        "mbti_bert_train_cnn_model = create_mbti_bert_train_cnn_model(bert_model)"
      ]
    },
    {
      "cell_type": "code",
      "execution_count": null,
      "metadata": {
        "id": "9VxcAKqUHo4E"
      },
      "outputs": [],
      "source": [
        "# step to restore weights from the stored checkpoint \n",
        "# this is from epoch 5\n",
        "mbti_bert_train_cnn_model.load_weights(checkpoint_dir + 'bert_cnn.hdf5')"
      ]
    },
    {
      "cell_type": "code",
      "execution_count": null,
      "metadata": {
        "colab": {
          "base_uri": "https://localhost:8080/",
          "height": 360
        },
        "id": "6W8WcTbERN8W",
        "outputId": "5045f3f0-b27a-4229-da4c-5d863eed5439"
      },
      "outputs": [
        {
          "data": {
            "image/png": "[encoded data removed]",
            "text/plain": [
              "<IPython.core.display.Image object>"
            ]
          },
          "execution_count": 43,
          "metadata": {},
          "output_type": "execute_result"
        }
      ],
      "source": [
        "keras.utils.plot_model(mbti_bert_train_cnn_model, show_shapes=True, dpi=90)"
      ]
    },
    {
      "cell_type": "code",
      "execution_count": null,
      "metadata": {
        "colab": {
          "base_uri": "https://localhost:8080/"
        },
        "id": "SOV0Ud0O-v_D",
        "outputId": "c62e3fee-7065-49c8-fd7c-aab833e26d37"
      },
      "outputs": [
        {
          "name": "stdout",
          "output_type": "stream",
          "text": [
            "Model: \"model_1\"\n",
            "__________________________________________________________________________________________________\n",
            " Layer (type)                   Output Shape         Param #     Connected to                     \n",
            "==================================================================================================\n",
            " input_ids (InputLayer)         [(None, 500)]        0           []                               \n",
            "                                                                                                  \n",
            " attention_masks (InputLayer)   [(None, 500)]        0           []                               \n",
            "                                                                                                  \n",
            " token_type_ids (InputLayer)    [(None, 500)]        0           []                               \n",
            "                                                                                                  \n",
            " tf_bert_model (TFBertModel)    TFBaseModelOutputWi  108310272   ['input_ids[0][0]',              \n",
            "                                thPoolingAndCrossAt               'attention_masks[0][0]',        \n",
            "                                tentions(last_hidde               'token_type_ids[0][0]']         \n",
            "                                n_state=(None, 500,                                               \n",
            "                                 768),                                                            \n",
            "                                 pooler_output=(Non                                               \n",
            "                                e, 768),                                                          \n",
            "                                 past_key_values=No                                               \n",
            "                                ne, hidden_states=N                                               \n",
            "                                one, attentions=Non                                               \n",
            "                                e, cross_attentions                                               \n",
            "                                =None)                                                            \n",
            "                                                                                                  \n",
            " conv1d_6 (Conv1D)              (None, 499, 200)     307400      ['tf_bert_model[1][0]']          \n",
            "                                                                                                  \n",
            " conv1d_7 (Conv1D)              (None, 496, 100)     384100      ['tf_bert_model[1][0]']          \n",
            "                                                                                                  \n",
            " conv1d_8 (Conv1D)              (None, 493, 75)      460875      ['tf_bert_model[1][0]']          \n",
            "                                                                                                  \n",
            " conv1d_9 (Conv1D)              (None, 491, 60)      460860      ['tf_bert_model[1][0]']          \n",
            "                                                                                                  \n",
            " conv1d_10 (Conv1D)             (None, 489, 40)      368680      ['tf_bert_model[1][0]']          \n",
            "                                                                                                  \n",
            " conv1d_11 (Conv1D)             (None, 485, 25)      307225      ['tf_bert_model[1][0]']          \n",
            "                                                                                                  \n",
            " global_max_pooling1d_6 (Global  (None, 200)         0           ['conv1d_6[0][0]']               \n",
            " MaxPooling1D)                                                                                    \n",
            "                                                                                                  \n",
            " global_max_pooling1d_7 (Global  (None, 100)         0           ['conv1d_7[0][0]']               \n",
            " MaxPooling1D)                                                                                    \n",
            "                                                                                                  \n",
            " global_max_pooling1d_8 (Global  (None, 75)          0           ['conv1d_8[0][0]']               \n",
            " MaxPooling1D)                                                                                    \n",
            "                                                                                                  \n",
            " global_max_pooling1d_9 (Global  (None, 60)          0           ['conv1d_9[0][0]']               \n",
            " MaxPooling1D)                                                                                    \n",
            "                                                                                                  \n",
            " global_max_pooling1d_10 (Globa  (None, 40)          0           ['conv1d_10[0][0]']              \n",
            " lMaxPooling1D)                                                                                   \n",
            "                                                                                                  \n",
            " global_max_pooling1d_11 (Globa  (None, 25)          0           ['conv1d_11[0][0]']              \n",
            " lMaxPooling1D)                                                                                   \n",
            "                                                                                                  \n",
            " concatenate_1 (Concatenate)    (None, 500)          0           ['global_max_pooling1d_6[0][0]', \n",
            "                                                                  'global_max_pooling1d_7[0][0]', \n",
            "                                                                  'global_max_pooling1d_8[0][0]', \n",
            "                                                                  'global_max_pooling1d_9[0][0]', \n",
            "                                                                  'global_max_pooling1d_10[0][0]',\n",
            "                                                                  'global_max_pooling1d_11[0][0]']\n",
            "                                                                                                  \n",
            " dropout_38 (Dropout)           (None, 500)          0           ['concatenate_1[0][0]']          \n",
            "                                                                                                  \n",
            " dense_2 (Dense)                (None, 100)          50100       ['dropout_38[0][0]']             \n",
            "                                                                                                  \n",
            " dense_3 (Dense)                (None, 16)           1616        ['dense_2[0][0]']                \n",
            "                                                                                                  \n",
            "==================================================================================================\n",
            "Total params: 110,651,128\n",
            "Trainable params: 2,340,856\n",
            "Non-trainable params: 108,310,272\n",
            "__________________________________________________________________________________________________\n"
          ]
        }
      ],
      "source": [
        "mbti_bert_train_cnn_model.summary()"
      ]
    },
    {
      "cell_type": "code",
      "execution_count": null,
      "metadata": {
        "colab": {
          "base_uri": "https://localhost:8080/"
        },
        "id": "lWkLWWbpRczZ",
        "outputId": "5e7d370d-aa5e-475b-d28b-741747b119be"
      },
      "outputs": [
        {
          "name": "stdout",
          "output_type": "stream",
          "text": [
            "2187/2187 [==============================] - 3513s 2s/step - loss: 2.8023 - accuracy: 0.0635 - val_loss: 2.7727 - val_accuracy: 0.0273\n"
          ]
        }
      ],
      "source": [
        "mbti_bert_train_cnn_model_history = mbti_bert_train_cnn_model.fit(train_data_generator,    \n",
        "                                                  validation_data=([dev_encodings.input_ids,dev_encodings.token_type_ids, dev_encodings.attention_mask],npdev_labels),    \n",
        "                                                  callbacks=[model_checkpoint_callback],\n",
        "                                                  epochs=1)"
      ]
    },
    {
      "cell_type": "markdown",
      "metadata": {
        "id": "FyTVpaMB-Uip"
      },
      "source": [
        "###  Training failed on 11/2 failed because of google colab+ limitation at 6th epoch\n",
        "### Training successful on 11/3 with 4 epochs for total data set of 70000 rows"
      ]
    },
    {
      "cell_type": "markdown",
      "metadata": {
        "id": "mLraZ0aI4pH3"
      },
      "source": [
        "# Set up test and document the run"
      ]
    },
    {
      "cell_type": "code",
      "execution_count": null,
      "metadata": {
        "id": "SsUnHRXAiDNA"
      },
      "outputs": [],
      "source": [
        "results_dict={}"
      ]
    },
    {
      "cell_type": "code",
      "execution_count": null,
      "metadata": {
        "id": "8sK1-JQuiM1l"
      },
      "outputs": [],
      "source": [
        "test_mbti_data = read_parquet_google_cloud('test_mbti_data.parquet')\n",
        "test_mbti_labels = read_parquet_google_cloud('test_mbti_labels.parquet')\n"
      ]
    },
    {
      "cell_type": "code",
      "execution_count": null,
      "metadata": {
        "id": "QXgjco9gsET6"
      },
      "outputs": [],
      "source": [
        " test_mbti_data, test_mbti_labels = test_mbti_data[:2000], test_mbti_labels[:2000]\n"
      ]
    },
    {
      "cell_type": "code",
      "execution_count": null,
      "metadata": {
        "id": "2AJ05d3Yqbx3"
      },
      "outputs": [],
      "source": [
        "test_mbti_data = test_mbti_data[['Username','Age','Posts','Gender','Occupation','message']]"
      ]
    },
    {
      "cell_type": "code",
      "execution_count": null,
      "metadata": {
        "id": "Gxs3GBha2aqB"
      },
      "outputs": [],
      "source": [
        " test_mbti_data = add_features(test_mbti_data)"
      ]
    },
    {
      "cell_type": "code",
      "execution_count": null,
      "metadata": {
        "id": "Xi5NjwngibBZ"
      },
      "outputs": [],
      "source": [
        "\n",
        "test_labels = test_mbti_labels['MBTI Type'].map(valid_MBTI).values.tolist()\n",
        "#test_data_st = test_mbti_data['message'].values.astype(str).tolist()\n",
        "test_data_st = test_mbti_data['combined'].values.astype(str).tolist()\n",
        "\n",
        "# Generate encodings for dev and test\n",
        "test_encodings = bert_tokenizer(test_data_st,truncation=True, max_length=max_length,padding='max_length',return_attention_mask=True,return_token_type_ids=True, return_tensors='tf')\n",
        "\n",
        "nptest_labels = np.asarray(test_labels)"
      ]
    },
    {
      "cell_type": "markdown",
      "metadata": {
        "id": "Em9m3KbBq8Q4"
      },
      "source": [
        "# Do Not Run"
      ]
    },
    {
      "cell_type": "code",
      "execution_count": null,
      "metadata": {
        "colab": {
          "base_uri": "https://localhost:8080/",
          "height": 1000
        },
        "id": "imTS0CY3JEPG",
        "outputId": "9f8a13c6-ed8a-4be6-93dd-ec703603db33"
      },
      "outputs": [
        {
          "name": "stdout",
          "output_type": "stream",
          "text": [
            "32/32 [==============================] - 42s 1s/step - loss: 2.7725 - accuracy: 0.0320\n",
            "Test loss: 2.772454261779785\n",
            "Test accuracy: 0.03200000151991844\n",
            "32/32 [==============================] - 44s 1s/step\n",
            "              precision    recall  f1-score   support\n",
            "\n",
            "        ISTJ       0.00      0.00      0.00        21\n",
            "        INTJ       0.00      0.00      0.00       137\n",
            "        ESTJ       0.00      0.00      0.00        26\n",
            "        ENTJ       0.00      0.00      0.00        43\n",
            "        ENTP       0.00      0.00      0.00        78\n",
            "        INTP       0.08      0.01      0.02       139\n",
            "        ISTP       1.00      0.02      0.05        43\n",
            "        ESTP       0.00      0.00      0.00        27\n",
            "        ISFJ       0.00      0.00      0.00        20\n",
            "        INFJ       0.00      0.00      0.00       112\n",
            "        ESFJ       0.00      0.00      0.00        24\n",
            "        ENFJ       0.03      1.00      0.06        29\n",
            "        ENFP       0.00      0.00      0.00       112\n",
            "        INFP       0.00      0.00      0.00       127\n",
            "        ISFP       0.00      0.00      0.00        38\n",
            "        ESFP       0.00      0.00      0.00        24\n",
            "\n",
            "    accuracy                           0.03      1000\n",
            "   macro avg       0.07      0.06      0.01      1000\n",
            "weighted avg       0.06      0.03      0.01      1000\n",
            "\n"
          ]
        },
        {
          "name": "stderr",
          "output_type": "stream",
          "text": [
            "/usr/local/lib/python3.7/dist-packages/sklearn/metrics/_classification.py:1318: UndefinedMetricWarning: Precision and F-score are ill-defined and being set to 0.0 in labels with no predicted samples. Use `zero_division` parameter to control this behavior.\n",
            "  _warn_prf(average, modifier, msg_start, len(result))\n",
            "/usr/local/lib/python3.7/dist-packages/sklearn/metrics/_classification.py:1318: UndefinedMetricWarning: Precision and F-score are ill-defined and being set to 0.0 in labels with no predicted samples. Use `zero_division` parameter to control this behavior.\n",
            "  _warn_prf(average, modifier, msg_start, len(result))\n",
            "/usr/local/lib/python3.7/dist-packages/sklearn/metrics/_classification.py:1318: UndefinedMetricWarning: Precision and F-score are ill-defined and being set to 0.0 in labels with no predicted samples. Use `zero_division` parameter to control this behavior.\n",
            "  _warn_prf(average, modifier, msg_start, len(result))\n",
            "/usr/local/lib/python3.7/dist-packages/sklearn/metrics/_classification.py:1318: UndefinedMetricWarning: Precision and F-score are ill-defined and being set to 0.0 in labels with no predicted samples. Use `zero_division` parameter to control this behavior.\n",
            "  _warn_prf(average, modifier, msg_start, len(result))\n",
            "/usr/local/lib/python3.7/dist-packages/sklearn/metrics/_classification.py:1318: UndefinedMetricWarning: Precision and F-score are ill-defined and being set to 0.0 in labels with no predicted samples. Use `zero_division` parameter to control this behavior.\n",
            "  _warn_prf(average, modifier, msg_start, len(result))\n",
            "/usr/local/lib/python3.7/dist-packages/sklearn/metrics/_classification.py:1318: UndefinedMetricWarning: Precision and F-score are ill-defined and being set to 0.0 in labels with no predicted samples. Use `zero_division` parameter to control this behavior.\n",
            "  _warn_prf(average, modifier, msg_start, len(result))\n"
          ]
        },
        {
          "data": {
            "image/png": "[encoded data removed]",
            "text/plain": [
              "<Figure size 1440x1152 with 2 Axes>"
            ]
          },
          "metadata": {},
          "output_type": "display_data"
        }
      ],
      "source": [
        "# #Run on 11/3 with dense layer of 100\n",
        "# document_model_run('mbti_bert_train_cnn_model',\n",
        "#                    mbti_bert_train_cnn_model,\n",
        "#                    valid_MBTI,results_dict,\n",
        "#                    test_encodings.input_ids,test_encodings.token_type_ids,test_encodings.attention_mask,\n",
        "#                    nptest_labels)"
      ]
    },
    {
      "cell_type": "code",
      "execution_count": null,
      "metadata": {
        "colab": {
          "base_uri": "https://localhost:8080/",
          "height": 1000
        },
        "id": "ZXJhutcFkAn5",
        "outputId": "078a4577-1ea5-4753-c912-6aa6fe501144"
      },
      "outputs": [
        {
          "name": "stdout",
          "output_type": "stream",
          "text": [
            "32/32 [==============================] - 42s 1s/step - loss: 2.8249 - accuracy: 0.0260\n",
            "Test loss: 2.824939727783203\n",
            "Test accuracy: 0.026000000536441803\n",
            "32/32 [==============================] - 44s 1s/step\n",
            "              precision    recall  f1-score   support\n",
            "\n",
            "        ISTJ       0.00      0.00      0.00        21\n",
            "        INTJ       0.12      0.03      0.05       137\n",
            "        ESTJ       0.01      0.04      0.02        26\n",
            "        ENTJ       0.00      0.00      0.00        43\n",
            "        ENTP       0.00      0.00      0.00        78\n",
            "        INTP       0.00      0.00      0.00       139\n",
            "        ISTP       0.05      0.21      0.09        43\n",
            "        ESTP       0.01      0.11      0.03        27\n",
            "        ISFJ       0.05      0.05      0.05        20\n",
            "        INFJ       0.02      0.01      0.01       112\n",
            "        ESFJ       0.02      0.17      0.04        24\n",
            "        ENFJ       0.00      0.00      0.00        29\n",
            "        ENFP       0.00      0.00      0.00       112\n",
            "        INFP       0.00      0.00      0.00       127\n",
            "        ISFP       0.00      0.00      0.00        38\n",
            "        ESFP       0.03      0.12      0.04        24\n",
            "\n",
            "    accuracy                           0.03      1000\n",
            "   macro avg       0.02      0.05      0.02      1000\n",
            "weighted avg       0.02      0.03      0.02      1000\n",
            "\n"
          ]
        },
        {
          "name": "stderr",
          "output_type": "stream",
          "text": [
            "/usr/local/lib/python3.7/dist-packages/sklearn/metrics/_classification.py:1318: UndefinedMetricWarning: Precision and F-score are ill-defined and being set to 0.0 in labels with no predicted samples. Use `zero_division` parameter to control this behavior.\n",
            "  _warn_prf(average, modifier, msg_start, len(result))\n",
            "/usr/local/lib/python3.7/dist-packages/sklearn/metrics/_classification.py:1318: UndefinedMetricWarning: Precision and F-score are ill-defined and being set to 0.0 in labels with no predicted samples. Use `zero_division` parameter to control this behavior.\n",
            "  _warn_prf(average, modifier, msg_start, len(result))\n",
            "/usr/local/lib/python3.7/dist-packages/sklearn/metrics/_classification.py:1318: UndefinedMetricWarning: Precision and F-score are ill-defined and being set to 0.0 in labels with no predicted samples. Use `zero_division` parameter to control this behavior.\n",
            "  _warn_prf(average, modifier, msg_start, len(result))\n",
            "/usr/local/lib/python3.7/dist-packages/sklearn/metrics/_classification.py:1318: UndefinedMetricWarning: Precision and F-score are ill-defined and being set to 0.0 in labels with no predicted samples. Use `zero_division` parameter to control this behavior.\n",
            "  _warn_prf(average, modifier, msg_start, len(result))\n",
            "/usr/local/lib/python3.7/dist-packages/sklearn/metrics/_classification.py:1318: UndefinedMetricWarning: Precision and F-score are ill-defined and being set to 0.0 in labels with no predicted samples. Use `zero_division` parameter to control this behavior.\n",
            "  _warn_prf(average, modifier, msg_start, len(result))\n",
            "/usr/local/lib/python3.7/dist-packages/sklearn/metrics/_classification.py:1318: UndefinedMetricWarning: Precision and F-score are ill-defined and being set to 0.0 in labels with no predicted samples. Use `zero_division` parameter to control this behavior.\n",
            "  _warn_prf(average, modifier, msg_start, len(result))\n"
          ]
        },
        {
          "data": {
            "image/png": "[encoded data removed]",
            "text/plain": [
              "<Figure size 1440x1152 with 2 Axes>"
            ]
          },
          "metadata": {},
          "output_type": "display_data"
        }
      ],
      "source": [
        "# #Run on 11/3 with dense layer of 500\n",
        "# document_model_run('mbti_bert_train_cnn_model',\n",
        "#                    mbti_bert_train_cnn_model,\n",
        "#                    valid_MBTI,results_dict,\n",
        "#                    test_encodings.input_ids,test_encodings.token_type_ids,test_encodings.attention_mask,\n",
        "#                    nptest_labels)"
      ]
    },
    {
      "cell_type": "code",
      "execution_count": null,
      "metadata": {
        "colab": {
          "base_uri": "https://localhost:8080/",
          "height": 1000
        },
        "id": "QoHfyH0i3RCE",
        "outputId": "3fa965ea-65ed-4c7f-e909-d796879a722a"
      },
      "outputs": [
        {
          "name": "stdout",
          "output_type": "stream",
          "text": [
            "32/32 [==============================] - 49s 1s/step - loss: 2.7806 - accuracy: 0.0690\n",
            "Test loss: 2.780606508255005\n",
            "Test accuracy: 0.0689999982714653\n",
            "32/32 [==============================] - 47s 1s/step\n",
            "              precision    recall  f1-score   support\n",
            "\n",
            "        ISTJ       0.01      0.05      0.02        21\n",
            "        INTJ       0.25      0.01      0.01       137\n",
            "        ESTJ       0.18      0.08      0.11        26\n",
            "        ENTJ       0.00      0.00      0.00        43\n",
            "        ENTP       0.11      0.01      0.02        78\n",
            "        INTP       0.33      0.01      0.01       139\n",
            "        ISTP       0.05      0.19      0.07        43\n",
            "        ESTP       0.00      0.00      0.00        27\n",
            "        ISFJ       0.00      0.00      0.00        20\n",
            "        INFJ       0.12      0.34      0.18       112\n",
            "        ESFJ       0.04      0.12      0.06        24\n",
            "        ENFJ       0.00      0.00      0.00        29\n",
            "        ENFP       0.33      0.04      0.08       112\n",
            "        INFP       0.00      0.00      0.00       127\n",
            "        ISFP       0.05      0.13      0.08        38\n",
            "        ESFP       0.03      0.17      0.06        24\n",
            "\n",
            "    accuracy                           0.07      1000\n",
            "   macro avg       0.09      0.07      0.04      1000\n",
            "weighted avg       0.15      0.07      0.05      1000\n",
            "\n"
          ]
        },
        {
          "name": "stderr",
          "output_type": "stream",
          "text": [
            "/usr/local/lib/python3.7/dist-packages/sklearn/metrics/_classification.py:1318: UndefinedMetricWarning: Precision and F-score are ill-defined and being set to 0.0 in labels with no predicted samples. Use `zero_division` parameter to control this behavior.\n",
            "  _warn_prf(average, modifier, msg_start, len(result))\n",
            "/usr/local/lib/python3.7/dist-packages/sklearn/metrics/_classification.py:1318: UndefinedMetricWarning: Precision and F-score are ill-defined and being set to 0.0 in labels with no predicted samples. Use `zero_division` parameter to control this behavior.\n",
            "  _warn_prf(average, modifier, msg_start, len(result))\n",
            "/usr/local/lib/python3.7/dist-packages/sklearn/metrics/_classification.py:1318: UndefinedMetricWarning: Precision and F-score are ill-defined and being set to 0.0 in labels with no predicted samples. Use `zero_division` parameter to control this behavior.\n",
            "  _warn_prf(average, modifier, msg_start, len(result))\n",
            "/usr/local/lib/python3.7/dist-packages/sklearn/metrics/_classification.py:1318: UndefinedMetricWarning: Precision and F-score are ill-defined and being set to 0.0 in labels with no predicted samples. Use `zero_division` parameter to control this behavior.\n",
            "  _warn_prf(average, modifier, msg_start, len(result))\n",
            "/usr/local/lib/python3.7/dist-packages/sklearn/metrics/_classification.py:1318: UndefinedMetricWarning: Precision and F-score are ill-defined and being set to 0.0 in labels with no predicted samples. Use `zero_division` parameter to control this behavior.\n",
            "  _warn_prf(average, modifier, msg_start, len(result))\n",
            "/usr/local/lib/python3.7/dist-packages/sklearn/metrics/_classification.py:1318: UndefinedMetricWarning: Precision and F-score are ill-defined and being set to 0.0 in labels with no predicted samples. Use `zero_division` parameter to control this behavior.\n",
            "  _warn_prf(average, modifier, msg_start, len(result))\n"
          ]
        },
        {
          "data": {
            "image/png": "[encoded data removed]",
            "text/plain": [
              "<Figure size 1440x1152 with 2 Axes>"
            ]
          },
          "metadata": {},
          "output_type": "display_data"
        }
      ],
      "source": [
        "#result of earlier run model from 11/2\n",
        "# document_model_run('mbti_bert_train_cnn_model',\n",
        "#                    mbti_bert_train_cnn_model,\n",
        "#                    valid_MBTI,results_dict,\n",
        "#                    test_encodings.input_ids,test_encodings.token_type_ids,test_encodings.attention_mask,\n",
        "#                    nptest_labels)"
      ]
    },
    {
      "cell_type": "code",
      "execution_count": null,
      "metadata": {
        "id": "qf8FjfreEyMq"
      },
      "outputs": [],
      "source": [
        "\n",
        "\n",
        "# results_filepath = checkpoint_dir + 'bert_cnn_results_113.txt'\n",
        "# f = open(results_filepath,\"w\")\n",
        "\n",
        "# # write file\n",
        "# f.write( str(results_dict) )\n",
        "\n",
        "# # close file\n",
        "# f.close()\n"
      ]
    },
    {
      "cell_type": "markdown",
      "metadata": {
        "id": "yDUlIAzRRxGE"
      },
      "source": [
        "# Multihead attention model no CNN"
      ]
    },
    {
      "cell_type": "code",
      "execution_count": null,
      "metadata": {
        "id": "JBo0ysi_v2sk"
      },
      "outputs": [],
      "source": [
        "# this one is based on the multiheaded attention added \n",
        "def create_mbti_bert_mh_model(bert_model,\n",
        "                                hidden_size = 501, \n",
        "                                dropout=0.3,\n",
        "                                learning_rate=0.00005,max_length=750):\n",
        "    \"\"\"\n",
        "    Build a simple classification model with BERT. Add self attention layers on top of BERT output , training entire BERT is costly\n",
        "    \"\"\"\n",
        "\n",
        "    input_ids = layers.Input(shape=(max_length,), dtype=tf.int32, name='input_ids')\n",
        "    attention_masks = layers.Input(shape=(max_length,), dtype=tf.int32, name='attention_masks')\n",
        "    token_type_ids = layers.Input(shape=(max_length,), dtype=tf.int32, name='token_type_ids')\n",
        "  \n",
        "    bert_output = bert_model(input_ids, attention_mask=attention_masks, token_type_ids=token_type_ids)\n",
        "    sequence_output = bert_output.last_hidden_state\n",
        "\n",
        "    #attn_output = layers.MultiHeadAttention(num_heads=4, key_dim=100)(sequence_output, sequence_output)\n",
        "    #Fix 1 increasing key dim to match the max length  \n",
        "    attn_output = layers.MultiHeadAttention(num_heads=4, key_dim=250)(sequence_output, sequence_output)\n",
        "    max_pool = layers.GlobalMaxPooling1D()(attn_output)\n",
        "    dropout_output = layers.Dropout(0.3)(max_pool)\n",
        "    final_output = layers.Dense(16, activation=\"softmax\")(dropout_output)\n",
        "    \n",
        "    model = tf.keras.models.Model(inputs=[input_ids, attention_masks, token_type_ids],\n",
        "                                  outputs=[final_output])\n",
        "    model.compile(optimizer=tf.keras.optimizers.Adam(),\n",
        "                  loss='sparse_categorical_crossentropy',\n",
        "                  metrics=['accuracy'])\n",
        "    return model"
      ]
    },
    {
      "cell_type": "code",
      "execution_count": null,
      "metadata": {
        "id": "7NeMbG_CVYqT"
      },
      "outputs": [],
      "source": [
        "mbti_bert_mh_model = create_mbti_bert_mh_model(bert_model)"
      ]
    },
    {
      "cell_type": "code",
      "execution_count": null,
      "metadata": {
        "colab": {
          "base_uri": "https://localhost:8080/"
        },
        "id": "jfYqzUh4wW-Q",
        "outputId": "67e06864-050a-4275-cbc0-1cba0524e821"
      },
      "outputs": [
        {
          "name": "stdout",
          "output_type": "stream",
          "text": [
            "Model: \"model\"\n",
            "__________________________________________________________________________________________________\n",
            " Layer (type)                   Output Shape         Param #     Connected to                     \n",
            "==================================================================================================\n",
            " input_ids (InputLayer)         [(None, 750)]        0           []                               \n",
            "                                                                                                  \n",
            " attention_masks (InputLayer)   [(None, 750)]        0           []                               \n",
            "                                                                                                  \n",
            " token_type_ids (InputLayer)    [(None, 750)]        0           []                               \n",
            "                                                                                                  \n",
            " tf_bert_model (TFBertModel)    TFBaseModelOutputWi  108310272   ['input_ids[0][0]',              \n",
            "                                thPoolingAndCrossAt               'attention_masks[0][0]',        \n",
            "                                tentions(last_hidde               'token_type_ids[0][0]']         \n",
            "                                n_state=(None, 750,                                               \n",
            "                                 768),                                                            \n",
            "                                 pooler_output=(Non                                               \n",
            "                                e, 768),                                                          \n",
            "                                 past_key_values=No                                               \n",
            "                                ne, hidden_states=N                                               \n",
            "                                one, attentions=Non                                               \n",
            "                                e, cross_attentions                                               \n",
            "                                =None)                                                            \n",
            "                                                                                                  \n",
            " multi_head_attention (MultiHea  (None, 750, 768)    3075768     ['tf_bert_model[0][0]',          \n",
            " dAttention)                                                      'tf_bert_model[0][0]']          \n",
            "                                                                                                  \n",
            " global_max_pooling1d (GlobalMa  (None, 768)         0           ['multi_head_attention[0][0]']   \n",
            " xPooling1D)                                                                                      \n",
            "                                                                                                  \n",
            " dropout_37 (Dropout)           (None, 768)          0           ['global_max_pooling1d[0][0]']   \n",
            "                                                                                                  \n",
            " dense (Dense)                  (None, 16)           12304       ['dropout_37[0][0]']             \n",
            "                                                                                                  \n",
            "==================================================================================================\n",
            "Total params: 111,398,344\n",
            "Trainable params: 3,088,072\n",
            "Non-trainable params: 108,310,272\n",
            "__________________________________________________________________________________________________\n"
          ]
        }
      ],
      "source": [
        "mbti_bert_mh_model.summary()"
      ]
    },
    {
      "cell_type": "code",
      "execution_count": null,
      "metadata": {
        "colab": {
          "base_uri": "https://localhost:8080/",
          "height": 625
        },
        "id": "DRiSXh3amrqU",
        "outputId": "0c089c33-d1eb-4d79-fd2e-e4428dd4022a"
      },
      "outputs": [
        {
          "data": {
            "image/png": "[encoded data removed]",
            "text/plain": [
              "<IPython.core.display.Image object>"
            ]
          },
          "execution_count": 52,
          "metadata": {},
          "output_type": "execute_result"
        }
      ],
      "source": [
        "keras.utils.plot_model(mbti_bert_mh_model, show_shapes=True, dpi=90)"
      ]
    },
    {
      "cell_type": "code",
      "execution_count": 59,
      "metadata": {
        "colab": {
          "base_uri": "https://localhost:8080/",
          "height": 389
        },
        "id": "lgvRQ1hfsvpF",
        "outputId": "f1c483a0-c871-4665-c7d9-8f6134489f48"
      },
      "outputs": [
        {
          "output_type": "stream",
          "name": "stdout",
          "text": [
            "14560/15625 [==========================>...] - ETA: 49:06 - loss: 0.4682 - accuracy: 0.8889"
          ]
        },
        {
          "output_type": "error",
          "ename": "KeyboardInterrupt",
          "evalue": "ignored",
          "traceback": [
            "\u001b[0;31m---------------------------------------------------------------------------\u001b[0m",
            "\u001b[0;31mKeyboardInterrupt\u001b[0m                         Traceback (most recent call last)",
            "\u001b[0;32m<ipython-input-59-bcee8c17179d>\u001b[0m in \u001b[0;36m<module>\u001b[0;34m\u001b[0m\n\u001b[1;32m      2\u001b[0m                                                   \u001b[0mvalidation_data\u001b[0m\u001b[0;34m=\u001b[0m\u001b[0mdev_data_generator\u001b[0m\u001b[0;34m,\u001b[0m\u001b[0;34m\u001b[0m\u001b[0;34m\u001b[0m\u001b[0m\n\u001b[1;32m      3\u001b[0m                                                   \u001b[0mcallbacks\u001b[0m\u001b[0;34m=\u001b[0m\u001b[0;34m[\u001b[0m\u001b[0mmodel_checkpoint_callback\u001b[0m\u001b[0;34m]\u001b[0m\u001b[0;34m,\u001b[0m\u001b[0;34m\u001b[0m\u001b[0;34m\u001b[0m\u001b[0m\n\u001b[0;32m----> 4\u001b[0;31m                                                   epochs=1)\n\u001b[0m",
            "\u001b[0;32m/usr/local/lib/python3.7/dist-packages/keras/utils/traceback_utils.py\u001b[0m in \u001b[0;36merror_handler\u001b[0;34m(*args, **kwargs)\u001b[0m\n\u001b[1;32m     62\u001b[0m     \u001b[0mfiltered_tb\u001b[0m \u001b[0;34m=\u001b[0m \u001b[0;32mNone\u001b[0m\u001b[0;34m\u001b[0m\u001b[0;34m\u001b[0m\u001b[0m\n\u001b[1;32m     63\u001b[0m     \u001b[0;32mtry\u001b[0m\u001b[0;34m:\u001b[0m\u001b[0;34m\u001b[0m\u001b[0;34m\u001b[0m\u001b[0m\n\u001b[0;32m---> 64\u001b[0;31m       \u001b[0;32mreturn\u001b[0m \u001b[0mfn\u001b[0m\u001b[0;34m(\u001b[0m\u001b[0;34m*\u001b[0m\u001b[0margs\u001b[0m\u001b[0;34m,\u001b[0m \u001b[0;34m**\u001b[0m\u001b[0mkwargs\u001b[0m\u001b[0;34m)\u001b[0m\u001b[0;34m\u001b[0m\u001b[0;34m\u001b[0m\u001b[0m\n\u001b[0m\u001b[1;32m     65\u001b[0m     \u001b[0;32mexcept\u001b[0m \u001b[0mException\u001b[0m \u001b[0;32mas\u001b[0m \u001b[0me\u001b[0m\u001b[0;34m:\u001b[0m  \u001b[0;31m# pylint: disable=broad-except\u001b[0m\u001b[0;34m\u001b[0m\u001b[0;34m\u001b[0m\u001b[0m\n\u001b[1;32m     66\u001b[0m       \u001b[0mfiltered_tb\u001b[0m \u001b[0;34m=\u001b[0m \u001b[0m_process_traceback_frames\u001b[0m\u001b[0;34m(\u001b[0m\u001b[0me\u001b[0m\u001b[0;34m.\u001b[0m\u001b[0m__traceback__\u001b[0m\u001b[0;34m)\u001b[0m\u001b[0;34m\u001b[0m\u001b[0;34m\u001b[0m\u001b[0m\n",
            "\u001b[0;32m/usr/local/lib/python3.7/dist-packages/keras/engine/training.py\u001b[0m in \u001b[0;36mfit\u001b[0;34m(self, x, y, batch_size, epochs, verbose, callbacks, validation_split, validation_data, shuffle, class_weight, sample_weight, initial_epoch, steps_per_epoch, validation_steps, validation_batch_size, validation_freq, max_queue_size, workers, use_multiprocessing)\u001b[0m\n\u001b[1;32m   1407\u001b[0m                 _r=1):\n\u001b[1;32m   1408\u001b[0m               \u001b[0mcallbacks\u001b[0m\u001b[0;34m.\u001b[0m\u001b[0mon_train_batch_begin\u001b[0m\u001b[0;34m(\u001b[0m\u001b[0mstep\u001b[0m\u001b[0;34m)\u001b[0m\u001b[0;34m\u001b[0m\u001b[0;34m\u001b[0m\u001b[0m\n\u001b[0;32m-> 1409\u001b[0;31m               \u001b[0mtmp_logs\u001b[0m \u001b[0;34m=\u001b[0m \u001b[0mself\u001b[0m\u001b[0;34m.\u001b[0m\u001b[0mtrain_function\u001b[0m\u001b[0;34m(\u001b[0m\u001b[0miterator\u001b[0m\u001b[0;34m)\u001b[0m\u001b[0;34m\u001b[0m\u001b[0;34m\u001b[0m\u001b[0m\n\u001b[0m\u001b[1;32m   1410\u001b[0m               \u001b[0;32mif\u001b[0m \u001b[0mdata_handler\u001b[0m\u001b[0;34m.\u001b[0m\u001b[0mshould_sync\u001b[0m\u001b[0;34m:\u001b[0m\u001b[0;34m\u001b[0m\u001b[0;34m\u001b[0m\u001b[0m\n\u001b[1;32m   1411\u001b[0m                 \u001b[0mcontext\u001b[0m\u001b[0;34m.\u001b[0m\u001b[0masync_wait\u001b[0m\u001b[0;34m(\u001b[0m\u001b[0;34m)\u001b[0m\u001b[0;34m\u001b[0m\u001b[0;34m\u001b[0m\u001b[0m\n",
            "\u001b[0;32m/usr/local/lib/python3.7/dist-packages/tensorflow/python/util/traceback_utils.py\u001b[0m in \u001b[0;36merror_handler\u001b[0;34m(*args, **kwargs)\u001b[0m\n\u001b[1;32m    148\u001b[0m     \u001b[0mfiltered_tb\u001b[0m \u001b[0;34m=\u001b[0m \u001b[0;32mNone\u001b[0m\u001b[0;34m\u001b[0m\u001b[0;34m\u001b[0m\u001b[0m\n\u001b[1;32m    149\u001b[0m     \u001b[0;32mtry\u001b[0m\u001b[0;34m:\u001b[0m\u001b[0;34m\u001b[0m\u001b[0;34m\u001b[0m\u001b[0m\n\u001b[0;32m--> 150\u001b[0;31m       \u001b[0;32mreturn\u001b[0m \u001b[0mfn\u001b[0m\u001b[0;34m(\u001b[0m\u001b[0;34m*\u001b[0m\u001b[0margs\u001b[0m\u001b[0;34m,\u001b[0m \u001b[0;34m**\u001b[0m\u001b[0mkwargs\u001b[0m\u001b[0;34m)\u001b[0m\u001b[0;34m\u001b[0m\u001b[0;34m\u001b[0m\u001b[0m\n\u001b[0m\u001b[1;32m    151\u001b[0m     \u001b[0;32mexcept\u001b[0m \u001b[0mException\u001b[0m \u001b[0;32mas\u001b[0m \u001b[0me\u001b[0m\u001b[0;34m:\u001b[0m\u001b[0;34m\u001b[0m\u001b[0;34m\u001b[0m\u001b[0m\n\u001b[1;32m    152\u001b[0m       \u001b[0mfiltered_tb\u001b[0m \u001b[0;34m=\u001b[0m \u001b[0m_process_traceback_frames\u001b[0m\u001b[0;34m(\u001b[0m\u001b[0me\u001b[0m\u001b[0;34m.\u001b[0m\u001b[0m__traceback__\u001b[0m\u001b[0;34m)\u001b[0m\u001b[0;34m\u001b[0m\u001b[0;34m\u001b[0m\u001b[0m\n",
            "\u001b[0;32m/usr/local/lib/python3.7/dist-packages/tensorflow/python/eager/def_function.py\u001b[0m in \u001b[0;36m__call__\u001b[0;34m(self, *args, **kwds)\u001b[0m\n\u001b[1;32m    913\u001b[0m \u001b[0;34m\u001b[0m\u001b[0m\n\u001b[1;32m    914\u001b[0m       \u001b[0;32mwith\u001b[0m \u001b[0mOptionalXlaContext\u001b[0m\u001b[0;34m(\u001b[0m\u001b[0mself\u001b[0m\u001b[0;34m.\u001b[0m\u001b[0m_jit_compile\u001b[0m\u001b[0;34m)\u001b[0m\u001b[0;34m:\u001b[0m\u001b[0;34m\u001b[0m\u001b[0;34m\u001b[0m\u001b[0m\n\u001b[0;32m--> 915\u001b[0;31m         \u001b[0mresult\u001b[0m \u001b[0;34m=\u001b[0m \u001b[0mself\u001b[0m\u001b[0;34m.\u001b[0m\u001b[0m_call\u001b[0m\u001b[0;34m(\u001b[0m\u001b[0;34m*\u001b[0m\u001b[0margs\u001b[0m\u001b[0;34m,\u001b[0m \u001b[0;34m**\u001b[0m\u001b[0mkwds\u001b[0m\u001b[0;34m)\u001b[0m\u001b[0;34m\u001b[0m\u001b[0;34m\u001b[0m\u001b[0m\n\u001b[0m\u001b[1;32m    916\u001b[0m \u001b[0;34m\u001b[0m\u001b[0m\n\u001b[1;32m    917\u001b[0m       \u001b[0mnew_tracing_count\u001b[0m \u001b[0;34m=\u001b[0m \u001b[0mself\u001b[0m\u001b[0;34m.\u001b[0m\u001b[0mexperimental_get_tracing_count\u001b[0m\u001b[0;34m(\u001b[0m\u001b[0;34m)\u001b[0m\u001b[0;34m\u001b[0m\u001b[0;34m\u001b[0m\u001b[0m\n",
            "\u001b[0;32m/usr/local/lib/python3.7/dist-packages/tensorflow/python/eager/def_function.py\u001b[0m in \u001b[0;36m_call\u001b[0;34m(self, *args, **kwds)\u001b[0m\n\u001b[1;32m    945\u001b[0m       \u001b[0;31m# In this case we have created variables on the first call, so we run the\u001b[0m\u001b[0;34m\u001b[0m\u001b[0;34m\u001b[0m\u001b[0;34m\u001b[0m\u001b[0m\n\u001b[1;32m    946\u001b[0m       \u001b[0;31m# defunned version which is guaranteed to never create variables.\u001b[0m\u001b[0;34m\u001b[0m\u001b[0;34m\u001b[0m\u001b[0;34m\u001b[0m\u001b[0m\n\u001b[0;32m--> 947\u001b[0;31m       \u001b[0;32mreturn\u001b[0m \u001b[0mself\u001b[0m\u001b[0;34m.\u001b[0m\u001b[0m_stateless_fn\u001b[0m\u001b[0;34m(\u001b[0m\u001b[0;34m*\u001b[0m\u001b[0margs\u001b[0m\u001b[0;34m,\u001b[0m \u001b[0;34m**\u001b[0m\u001b[0mkwds\u001b[0m\u001b[0;34m)\u001b[0m  \u001b[0;31m# pylint: disable=not-callable\u001b[0m\u001b[0;34m\u001b[0m\u001b[0;34m\u001b[0m\u001b[0m\n\u001b[0m\u001b[1;32m    948\u001b[0m     \u001b[0;32melif\u001b[0m \u001b[0mself\u001b[0m\u001b[0;34m.\u001b[0m\u001b[0m_stateful_fn\u001b[0m \u001b[0;32mis\u001b[0m \u001b[0;32mnot\u001b[0m \u001b[0;32mNone\u001b[0m\u001b[0;34m:\u001b[0m\u001b[0;34m\u001b[0m\u001b[0;34m\u001b[0m\u001b[0m\n\u001b[1;32m    949\u001b[0m       \u001b[0;31m# Release the lock early so that multiple threads can perform the call\u001b[0m\u001b[0;34m\u001b[0m\u001b[0;34m\u001b[0m\u001b[0;34m\u001b[0m\u001b[0m\n",
            "\u001b[0;32m/usr/local/lib/python3.7/dist-packages/tensorflow/python/eager/function.py\u001b[0m in \u001b[0;36m__call__\u001b[0;34m(self, *args, **kwargs)\u001b[0m\n\u001b[1;32m   2452\u001b[0m        filtered_flat_args) = self._maybe_define_function(args, kwargs)\n\u001b[1;32m   2453\u001b[0m     return graph_function._call_flat(\n\u001b[0;32m-> 2454\u001b[0;31m         filtered_flat_args, captured_inputs=graph_function.captured_inputs)  # pylint: disable=protected-access\n\u001b[0m\u001b[1;32m   2455\u001b[0m \u001b[0;34m\u001b[0m\u001b[0m\n\u001b[1;32m   2456\u001b[0m   \u001b[0;34m@\u001b[0m\u001b[0mproperty\u001b[0m\u001b[0;34m\u001b[0m\u001b[0;34m\u001b[0m\u001b[0m\n",
            "\u001b[0;32m/usr/local/lib/python3.7/dist-packages/tensorflow/python/eager/function.py\u001b[0m in \u001b[0;36m_call_flat\u001b[0;34m(self, args, captured_inputs, cancellation_manager)\u001b[0m\n\u001b[1;32m   1859\u001b[0m       \u001b[0;31m# No tape is watching; skip to running the function.\u001b[0m\u001b[0;34m\u001b[0m\u001b[0;34m\u001b[0m\u001b[0;34m\u001b[0m\u001b[0m\n\u001b[1;32m   1860\u001b[0m       return self._build_call_outputs(self._inference_function.call(\n\u001b[0;32m-> 1861\u001b[0;31m           ctx, args, cancellation_manager=cancellation_manager))\n\u001b[0m\u001b[1;32m   1862\u001b[0m     forward_backward = self._select_forward_and_backward_functions(\n\u001b[1;32m   1863\u001b[0m         \u001b[0margs\u001b[0m\u001b[0;34m,\u001b[0m\u001b[0;34m\u001b[0m\u001b[0;34m\u001b[0m\u001b[0m\n",
            "\u001b[0;32m/usr/local/lib/python3.7/dist-packages/tensorflow/python/eager/function.py\u001b[0m in \u001b[0;36mcall\u001b[0;34m(self, ctx, args, cancellation_manager)\u001b[0m\n\u001b[1;32m    500\u001b[0m               \u001b[0minputs\u001b[0m\u001b[0;34m=\u001b[0m\u001b[0margs\u001b[0m\u001b[0;34m,\u001b[0m\u001b[0;34m\u001b[0m\u001b[0;34m\u001b[0m\u001b[0m\n\u001b[1;32m    501\u001b[0m               \u001b[0mattrs\u001b[0m\u001b[0;34m=\u001b[0m\u001b[0mattrs\u001b[0m\u001b[0;34m,\u001b[0m\u001b[0;34m\u001b[0m\u001b[0;34m\u001b[0m\u001b[0m\n\u001b[0;32m--> 502\u001b[0;31m               ctx=ctx)\n\u001b[0m\u001b[1;32m    503\u001b[0m         \u001b[0;32melse\u001b[0m\u001b[0;34m:\u001b[0m\u001b[0;34m\u001b[0m\u001b[0;34m\u001b[0m\u001b[0m\n\u001b[1;32m    504\u001b[0m           outputs = execute.execute_with_cancellation(\n",
            "\u001b[0;32m/usr/local/lib/python3.7/dist-packages/tensorflow/python/eager/execute.py\u001b[0m in \u001b[0;36mquick_execute\u001b[0;34m(op_name, num_outputs, inputs, attrs, ctx, name)\u001b[0m\n\u001b[1;32m     53\u001b[0m     \u001b[0mctx\u001b[0m\u001b[0;34m.\u001b[0m\u001b[0mensure_initialized\u001b[0m\u001b[0;34m(\u001b[0m\u001b[0;34m)\u001b[0m\u001b[0;34m\u001b[0m\u001b[0;34m\u001b[0m\u001b[0m\n\u001b[1;32m     54\u001b[0m     tensors = pywrap_tfe.TFE_Py_Execute(ctx._handle, device_name, op_name,\n\u001b[0;32m---> 55\u001b[0;31m                                         inputs, attrs, num_outputs)\n\u001b[0m\u001b[1;32m     56\u001b[0m   \u001b[0;32mexcept\u001b[0m \u001b[0mcore\u001b[0m\u001b[0;34m.\u001b[0m\u001b[0m_NotOkStatusException\u001b[0m \u001b[0;32mas\u001b[0m \u001b[0me\u001b[0m\u001b[0;34m:\u001b[0m\u001b[0;34m\u001b[0m\u001b[0;34m\u001b[0m\u001b[0m\n\u001b[1;32m     57\u001b[0m     \u001b[0;32mif\u001b[0m \u001b[0mname\u001b[0m \u001b[0;32mis\u001b[0m \u001b[0;32mnot\u001b[0m \u001b[0;32mNone\u001b[0m\u001b[0;34m:\u001b[0m\u001b[0;34m\u001b[0m\u001b[0;34m\u001b[0m\u001b[0m\n",
            "\u001b[0;31mKeyboardInterrupt\u001b[0m: "
          ]
        }
      ],
      "source": [
        "mbti_bert_mh_model_history = mbti_bert_mh_model.fit(train_data_generator,    \n",
        "                                                  validation_data=dev_data_generator,    \n",
        "                                                  callbacks=[model_checkpoint_callback],\n",
        "                                                  epochs=1)"
      ]
    },
    {
      "cell_type": "code",
      "execution_count": null,
      "metadata": {
        "id": "fy4LR0idRHF0"
      },
      "outputs": [],
      "source": [
        "# mbti_bert_mh_model_history = mbti_bert_mh_model.fit(train_data_generator,    \n",
        "#                                                   validation_data=([dev_encodings.input_ids,dev_encodings.token_type_ids, dev_encodings.attention_mask],npdev_labels),    \n",
        "#                                                   callbacks=[model_checkpoint_callback],\n",
        "#                                                   epochs=1)"
      ]
    },
    {
      "cell_type": "code",
      "execution_count": null,
      "metadata": {
        "colab": {
          "base_uri": "https://localhost:8080/",
          "height": 1000
        },
        "id": "7HjccjY1SsvV",
        "outputId": "b75fd9e9-982f-4f57-e5af-8a3deaed3823"
      },
      "outputs": [
        {
          "name": "stdout",
          "output_type": "stream",
          "text": [
            "32/32 [==============================] - 8s 256ms/step - loss: 3.4961 - accuracy: 0.4120\n",
            "Test loss: 3.4960811138153076\n",
            "Test accuracy: 0.41200000047683716\n",
            "32/32 [==============================] - 11s 252ms/step\n",
            "              precision    recall  f1-score   support\n",
            "\n",
            "        ISTJ       0.92      0.52      0.67        21\n",
            "        INTJ       0.32      0.54      0.40       137\n",
            "        ESTJ       0.20      0.08      0.11        26\n",
            "        ENTJ       0.90      0.21      0.34        43\n",
            "        ENTP       0.64      0.27      0.38        78\n",
            "        INTP       0.49      0.43      0.46       139\n",
            "        ISTP       0.42      0.63      0.50        43\n",
            "        ESTP       1.00      0.30      0.46        27\n",
            "        ISFJ       0.36      0.20      0.26        20\n",
            "        INFJ       0.53      0.46      0.49       112\n",
            "        ESFJ       1.00      0.21      0.34        24\n",
            "        ENFJ       0.85      0.38      0.52        29\n",
            "        ENFP       0.29      0.58      0.38       112\n",
            "        INFP       0.68      0.28      0.40       127\n",
            "        ISFP       0.26      0.63      0.37        38\n",
            "        ESFP       0.33      0.12      0.18        24\n",
            "\n",
            "    accuracy                           0.41      1000\n",
            "   macro avg       0.57      0.37      0.39      1000\n",
            "weighted avg       0.52      0.41      0.41      1000\n",
            "\n"
          ]
        },
        {
          "data": {
            "image/png": "[encoded data removed]",
            "text/plain": [
              "<Figure size 1440x1152 with 2 Axes>"
            ]
          },
          "metadata": {},
          "output_type": "display_data"
        }
      ],
      "source": [
        "document_model_run('mbti_bert_mh_model',\n",
        "                   mbti_bert_mh_model,\n",
        "                   valid_MBTI,results_dict,\n",
        "                   test_encodings.input_ids,test_encodings.token_type_ids,test_encodings.attention_mask,\n",
        "                   nptest_labels)"
      ]
    },
    {
      "cell_type": "code",
      "execution_count": null,
      "metadata": {
        "id": "BHFQ9581R31c"
      },
      "outputs": [],
      "source": [
        "\n",
        "results_filepath = checkpoint_dir + 'bert_mh_results_1113.txt'\n",
        "f = open(results_filepath,\"w\")\n",
        "\n",
        "# write file\n",
        "f.write( str(results_dict) )\n",
        "\n",
        "# close file\n",
        "f.close()"
      ]
    },
    {
      "cell_type": "code",
      "execution_count": null,
      "metadata": {
        "colab": {
          "base_uri": "https://localhost:8080/"
        },
        "id": "PYkN2RpJ9_2O",
        "outputId": "48acb037-a388-4a78-fcf9-52d6d57cf7a0"
      },
      "outputs": [
        {
          "name": "stdout",
          "output_type": "stream",
          "text": [
            "32/32 [==============================] - 8s 253ms/step\n"
          ]
        }
      ],
      "source": [
        "  predictions = mbti_bert_mh_model.predict([test_encodings.input_ids,test_encodings.token_type_ids,test_encodings.attention_mask])\n",
        "\n",
        "  predictions = tf.argmax(predictions, axis=-1)\n",
        "\n",
        "  predictions = predictions.numpy()"
      ]
    },
    {
      "cell_type": "code",
      "execution_count": null,
      "metadata": {
        "id": "yhrtGvEK9zC-"
      },
      "outputs": [],
      "source": [
        "correct ={}\n",
        "wrong={}\n",
        "correct['mbti_bert_mh_model'] = np.where(nptest_labels == predictions)\n",
        "wrong['mbti_bert_mh_model'] = np.where(nptest_labels != predictions)"
      ]
    },
    {
      "cell_type": "code",
      "execution_count": null,
      "metadata": {
        "colab": {
          "base_uri": "https://localhost:8080/"
        },
        "id": "F9W30P69-R5s",
        "outputId": "51db106b-3447-4924-9b00-5f455e52a5dd"
      },
      "outputs": [
        {
          "name": "stdout",
          "output_type": "stream",
          "text": [
            "mean 160.86893203883494\n",
            "min 14\n",
            "max 3081\n"
          ]
        }
      ],
      "source": [
        "print('mean',np.mean([len(test_data_st[i].split()) for i in correct['mbti_bert_mh_model'][0]]))\n",
        "print('min',np.min([len(test_data_st[i].split()) for i in correct['mbti_bert_mh_model'][0]]))\n",
        "print('max',np.max([len(test_data_st[i].split()) for i in correct['mbti_bert_mh_model'][0]]))"
      ]
    },
    {
      "cell_type": "code",
      "execution_count": null,
      "metadata": {
        "colab": {
          "base_uri": "https://localhost:8080/"
        },
        "id": "lpxuFGUI-gdq",
        "outputId": "ff0d023b-ff78-490e-bffd-035553d11326"
      },
      "outputs": [
        {
          "name": "stdout",
          "output_type": "stream",
          "text": [
            "mean 149.5969387755102\n",
            "min 14\n",
            "max 3559\n"
          ]
        }
      ],
      "source": [
        "print('mean',np.mean([len(test_data_st[i].split()) for i in wrong['mbti_bert_mh_model'][0]]))\n",
        "print('min',np.min([len(test_data_st[i].split()) for i in wrong['mbti_bert_mh_model'][0]]))\n",
        "print('max',np.max([len(test_data_st[i].split()) for i in wrong['mbti_bert_mh_model'][0]]))"
      ]
    },
    {
      "cell_type": "code",
      "execution_count": null,
      "metadata": {
        "id": "dBBls98r-1CY"
      },
      "outputs": [],
      "source": [
        "wrong_guesses = [i for i in np.squeeze(wrong['mbti_bert_mh_model'][0])]"
      ]
    },
    {
      "cell_type": "code",
      "execution_count": null,
      "metadata": {
        "id": "gNgkeAjhB9Mc"
      },
      "outputs": [],
      "source": [
        "correct_guesses = [i for i in np.squeeze(correct['mbti_bert_mh_model'][0])]"
      ]
    },
    {
      "cell_type": "code",
      "execution_count": null,
      "metadata": {
        "id": "HDKxnxnSBcIl"
      },
      "outputs": [],
      "source": [
        "stops = {'a', 'the', 'an', 'one', 'these', 'those', 'this', 'that',\n",
        "         'is', 'was', 'are', 'were'}\n",
        "\n",
        "def pct_stopwords(text):\n",
        "    toks = re.findall('\\w+', text.lower())\n",
        "    #b and a / b or 0\n",
        "    return len(toks) and 100 * len([tok for tok in toks if tok in stops]) / len(toks) or 0\n",
        "\n",
        "#pct_stopwords('This is a sentence with some stopwords in it.')\n"
      ]
    },
    {
      "cell_type": "code",
      "execution_count": null,
      "metadata": {
        "colab": {
          "base_uri": "https://localhost:8080/"
        },
        "id": "SoX-miyDCIPG",
        "outputId": "e136cd81-aab6-4d3e-df7b-487761099027"
      },
      "outputs": [
        {
          "name": "stdout",
          "output_type": "stream",
          "text": [
            "Stop Words 0.0\n",
            "Stop Words 0.0\n",
            "Stop Words 11.11111111111111\n",
            "Stop Words 14.285714285714286\n",
            "Stop Words 23.076923076923077\n",
            "Stop Words 0.0\n",
            "Stop Words 14.349775784753364\n",
            "Stop Words 0.0\n",
            "Stop Words 21.21212121212121\n",
            "Stop Words 7.5\n"
          ]
        }
      ],
      "source": [
        "for i in correct_guesses[:10]:\n",
        "  #print(\"Combined Mess\",test_mbti_data['combined'].values[i])\n",
        "  #print(\"label type\",test_mbti_labels['MBTI Type'].values[i])\n",
        "  #print(\"Total Length\",len(test_mbti_data['message'].values[i]))\n",
        "  print(\"Stop Words\",pct_stopwords(test_mbti_data['message'].values[i]))"
      ]
    },
    {
      "cell_type": "code",
      "execution_count": null,
      "metadata": {
        "colab": {
          "base_uri": "https://localhost:8080/"
        },
        "id": "WwCFZikYD4LX",
        "outputId": "016ec520-8653-41c9-bb1c-a8088e4d7c04"
      },
      "outputs": [
        {
          "data": {
            "text/plain": [
              "412"
            ]
          },
          "execution_count": 198,
          "metadata": {},
          "output_type": "execute_result"
        }
      ],
      "source": [
        "len(correct_guesses)"
      ]
    },
    {
      "cell_type": "code",
      "execution_count": null,
      "metadata": {
        "colab": {
          "base_uri": "https://localhost:8080/"
        },
        "id": "X5aMXn-uDedY",
        "outputId": "382e7d42-ffb9-42a5-cfbe-3906d3ffa075"
      },
      "outputs": [
        {
          "name": "stdout",
          "output_type": "stream",
          "text": [
            "avg stop words in correct  11.329425449819025\n"
          ]
        }
      ],
      "source": [
        "tot = 0\n",
        "for i in correct_guesses:\n",
        "  tot = tot + pct_stopwords(test_mbti_data['message'].values[i])\n",
        "print (\"avg stop words in correct \", tot/412)"
      ]
    },
    {
      "cell_type": "code",
      "execution_count": null,
      "metadata": {
        "colab": {
          "base_uri": "https://localhost:8080/"
        },
        "id": "5bcP1HMgFXFs",
        "outputId": "4ce45e70-e5de-42c9-a33a-bf84f8d30456"
      },
      "outputs": [
        {
          "name": "stdout",
          "output_type": "stream",
          "text": [
            "avg stop words in wrong  15.267077541478878\n"
          ]
        }
      ],
      "source": [
        "tot = 0\n",
        "for i in wrong_guesses:\n",
        "  tot = tot + pct_stopwords(test_mbti_data['message'].values[i])\n",
        "print (\"avg stop words in wrong \", tot/412)"
      ]
    },
    {
      "cell_type": "code",
      "execution_count": null,
      "metadata": {
        "colab": {
          "base_uri": "https://localhost:8080/"
        },
        "id": "UCljq1bq_YiA",
        "outputId": "a375d7ff-5843-4c54-8c75-451283db3e4f"
      },
      "outputs": [
        {
          "name": "stdout",
          "output_type": "stream",
          "text": [
            "Total Words 95\n",
            "Stop Words 10.526315789473685\n",
            "Total Words 322\n",
            "Stop Words 17.741935483870968\n",
            "Total Words 136\n",
            "Stop Words 23.333333333333332\n",
            "Total Words 33\n",
            "Stop Words 0\n",
            "Total Words 885\n",
            "Stop Words 18.39080459770115\n",
            "Total Words 256\n",
            "Stop Words 12.962962962962964\n",
            "Total Words 82\n",
            "Stop Words 13.333333333333334\n",
            "Total Words 905\n",
            "Stop Words 10.884353741496598\n",
            "Total Words 428\n",
            "Stop Words 13.414634146341463\n",
            "Total Words 392\n",
            "Stop Words 13.043478260869565\n",
            "Total Words 28\n",
            "Stop Words 20.0\n",
            "Total Words 278\n",
            "Stop Words 0\n",
            "Total Words 23\n",
            "Stop Words 40.0\n",
            "Total Words 383\n",
            "Stop Words 12.162162162162161\n",
            "Total Words 84\n",
            "Stop Words 12.5\n",
            "Total Words 107\n",
            "Stop Words 21.05263157894737\n",
            "Total Words 29\n",
            "Stop Words 16.666666666666668\n",
            "Total Words 96\n",
            "Stop Words 0\n",
            "Total Words 239\n",
            "Stop Words 13.043478260869565\n",
            "Total Words 1680\n",
            "Stop Words 13.829787234042554\n",
            "Total Words 165\n",
            "Stop Words 21.875\n",
            "Total Words 717\n",
            "Stop Words 15.671641791044776\n",
            "Total Words 168\n",
            "Stop Words 29.032258064516128\n",
            "Total Words 25\n",
            "Stop Words 0\n",
            "Total Words 32\n",
            "Stop Words 0\n",
            "Total Words 68\n",
            "Stop Words 0\n",
            "Total Words 172\n",
            "Stop Words 9.090909090909092\n",
            "Total Words 426\n",
            "Stop Words 14.814814814814815\n",
            "Total Words 171\n",
            "Stop Words 18.75\n",
            "Total Words 8\n",
            "Stop Words 0\n",
            "Total Words 10\n",
            "Stop Words 0\n",
            "Total Words 314\n",
            "Stop Words 12.698412698412698\n",
            "Total Words 32\n",
            "Stop Words 0\n",
            "Total Words 2\n",
            "Stop Words 0\n",
            "Total Words 405\n",
            "Stop Words 7.792207792207792\n",
            "Total Words 2954\n",
            "Stop Words 11.837455830388693\n",
            "Total Words 46\n",
            "Stop Words 42.857142857142854\n",
            "Total Words 33\n",
            "Stop Words 0\n",
            "Total Words 111\n",
            "Stop Words 16.666666666666668\n",
            "Total Words 141\n",
            "Stop Words 5.2631578947368425\n",
            "Total Words 35\n",
            "Stop Words 20.0\n",
            "Total Words 2084\n",
            "Stop Words 10.677083333333334\n",
            "Total Words 501\n",
            "Stop Words 3.260869565217391\n",
            "Total Words 71\n",
            "Stop Words 0\n",
            "Total Words 187\n",
            "Stop Words 21.428571428571427\n",
            "Total Words 2036\n",
            "Stop Words 10.880829015544041\n",
            "Total Words 4\n",
            "Stop Words 0\n",
            "Total Words 229\n",
            "Stop Words 11.11111111111111\n",
            "Total Words 38\n",
            "Stop Words 16.666666666666668\n",
            "Total Words 302\n",
            "Stop Words 0\n",
            "Total Words 424\n",
            "Stop Words 8.450704225352112\n",
            "Total Words 37\n",
            "Stop Words 16.666666666666668\n",
            "Total Words 628\n",
            "Stop Words 10.0\n",
            "Total Words 470\n",
            "Stop Words 12.5\n",
            "Total Words 103\n",
            "Stop Words 0\n",
            "Total Words 197\n",
            "Stop Words 10.81081081081081\n",
            "Total Words 303\n",
            "Stop Words 10.416666666666666\n",
            "Total Words 213\n",
            "Stop Words 21.428571428571427\n",
            "Total Words 544\n",
            "Stop Words 16.363636363636363\n",
            "Total Words 38\n",
            "Stop Words 0\n",
            "Total Words 135\n",
            "Stop Words 12.0\n",
            "Total Words 244\n",
            "Stop Words 11.11111111111111\n",
            "Total Words 88\n",
            "Stop Words 11.764705882352942\n",
            "Total Words 101\n",
            "Stop Words 9.523809523809524\n",
            "Total Words 1406\n",
            "Stop Words 13.768115942028986\n",
            "Total Words 22\n",
            "Stop Words 0\n",
            "Total Words 11\n",
            "Stop Words 0\n",
            "Total Words 7\n",
            "Stop Words 0\n",
            "Total Words 28\n",
            "Stop Words 20.0\n",
            "Total Words 55\n",
            "Stop Words 0\n",
            "Total Words 124\n",
            "Stop Words 14.285714285714286\n",
            "Total Words 474\n",
            "Stop Words 9.63855421686747\n",
            "Total Words 462\n",
            "Stop Words 12.222222222222221\n",
            "Total Words 368\n",
            "Stop Words 8.695652173913043\n",
            "Total Words 98\n",
            "Stop Words 5.882352941176471\n",
            "Total Words 65\n",
            "Stop Words 16.666666666666668\n",
            "Total Words 181\n",
            "Stop Words 3.5714285714285716\n",
            "Total Words 32\n",
            "Stop Words 20.0\n",
            "Total Words 21\n",
            "Stop Words 0\n",
            "Total Words 85\n",
            "Stop Words 11.764705882352942\n",
            "Total Words 723\n",
            "Stop Words 13.571428571428571\n",
            "Total Words 6279\n",
            "Stop Words 11.308016877637131\n",
            "Total Words 4\n",
            "Stop Words 0\n",
            "Total Words 1\n",
            "Stop Words 0\n",
            "Total Words 227\n",
            "Stop Words 9.090909090909092\n",
            "Total Words 658\n",
            "Stop Words 10.256410256410257\n",
            "Total Words 121\n",
            "Stop Words 16.666666666666668\n",
            "Total Words 33\n",
            "Stop Words 33.333333333333336\n",
            "Total Words 748\n",
            "Stop Words 12.592592592592593\n",
            "Total Words 104\n",
            "Stop Words 19.047619047619047\n",
            "Total Words 276\n",
            "Stop Words 1.7241379310344827\n",
            "Total Words 38\n",
            "Stop Words 0\n",
            "Total Words 6\n",
            "Stop Words 0\n",
            "Total Words 948\n",
            "Stop Words 10.795454545454545\n",
            "Total Words 91\n",
            "Stop Words 17.647058823529413\n",
            "Total Words 370\n",
            "Stop Words 11.764705882352942\n",
            "Total Words 287\n",
            "Stop Words 9.836065573770492\n",
            "Total Words 88\n",
            "Stop Words 28.571428571428573\n",
            "Total Words 22\n",
            "Stop Words 0\n",
            "Total Words 30\n",
            "Stop Words 16.666666666666668\n",
            "Total Words 561\n",
            "Stop Words 15.09433962264151\n",
            "Total Words 592\n",
            "Stop Words 16.513761467889907\n",
            "Total Words 36\n",
            "Stop Words 0\n",
            "Total Words 87\n",
            "Stop Words 26.666666666666668\n",
            "Total Words 12\n",
            "Stop Words 0\n",
            "Total Words 180\n",
            "Stop Words 8.823529411764707\n",
            "Total Words 90\n",
            "Stop Words 16.666666666666668\n",
            "Total Words 28\n",
            "Stop Words 16.666666666666668\n",
            "Total Words 212\n",
            "Stop Words 2.5\n",
            "Total Words 1542\n",
            "Stop Words 11.475409836065573\n",
            "Total Words 506\n",
            "Stop Words 8.695652173913043\n",
            "Total Words 787\n",
            "Stop Words 13.86861313868613\n",
            "Total Words 534\n",
            "Stop Words 11.650485436893204\n",
            "Total Words 281\n",
            "Stop Words 14.754098360655737\n",
            "Total Words 2473\n",
            "Stop Words 12.731481481481481\n",
            "Total Words 119\n",
            "Stop Words 10.526315789473685\n",
            "Total Words 216\n",
            "Stop Words 5.128205128205129\n",
            "Total Words 4\n",
            "Stop Words 0\n",
            "Total Words 80\n",
            "Stop Words 0\n",
            "Total Words 62\n",
            "Stop Words 0\n",
            "Total Words 139\n",
            "Stop Words 4.545454545454546\n",
            "Total Words 114\n",
            "Stop Words 5.0\n",
            "Total Words 28\n",
            "Stop Words 0\n",
            "Total Words 349\n",
            "Stop Words 11.11111111111111\n",
            "Total Words 201\n",
            "Stop Words 21.875\n",
            "Total Words 5\n",
            "Stop Words 0\n",
            "Total Words 79\n",
            "Stop Words 25.0\n",
            "Total Words 35\n",
            "Stop Words 0\n",
            "Total Words 946\n",
            "Stop Words 6.63265306122449\n",
            "Total Words 441\n",
            "Stop Words 17.105263157894736\n",
            "Total Words 536\n",
            "Stop Words 6.730769230769231\n",
            "Total Words 9467\n",
            "Stop Words 9.289311695579183\n",
            "Total Words 2394\n",
            "Stop Words 12.272727272727273\n",
            "Total Words 95\n",
            "Stop Words 4.545454545454546\n",
            "Total Words 794\n",
            "Stop Words 14.285714285714286\n",
            "Total Words 10\n",
            "Stop Words 0\n",
            "Total Words 10381\n",
            "Stop Words 9.819532908704883\n",
            "Total Words 970\n",
            "Stop Words 12.021857923497267\n",
            "Total Words 97\n",
            "Stop Words 10.0\n",
            "Total Words 5275\n",
            "Stop Words 13.149847094801224\n",
            "Total Words 158\n",
            "Stop Words 7.6923076923076925\n",
            "Total Words 532\n",
            "Stop Words 15.151515151515152\n",
            "Total Words 424\n",
            "Stop Words 12.790697674418604\n",
            "Total Words 10\n",
            "Stop Words 0\n",
            "Total Words 43\n",
            "Stop Words 11.11111111111111\n",
            "Total Words 101\n",
            "Stop Words 0\n",
            "Total Words 196\n",
            "Stop Words 16.216216216216218\n",
            "Total Words 4\n",
            "Stop Words 0\n",
            "Total Words 27\n",
            "Stop Words 0\n",
            "Total Words 272\n",
            "Stop Words 6.666666666666667\n",
            "Total Words 1110\n",
            "Stop Words 12.5\n",
            "Total Words 32\n",
            "Stop Words 14.285714285714286\n",
            "Total Words 200\n",
            "Stop Words 11.428571428571429\n",
            "Total Words 25\n",
            "Stop Words 0\n",
            "Total Words 329\n",
            "Stop Words 6.896551724137931\n",
            "Total Words 89\n",
            "Stop Words 6.666666666666667\n",
            "Total Words 43\n",
            "Stop Words 0\n",
            "Total Words 582\n",
            "Stop Words 3.1914893617021276\n",
            "Total Words 114\n",
            "Stop Words 13.043478260869565\n",
            "Total Words 7\n",
            "Stop Words 0\n",
            "Total Words 46\n",
            "Stop Words 22.22222222222222\n",
            "Total Words 78\n",
            "Stop Words 12.5\n",
            "Total Words 64\n",
            "Stop Words 10.0\n",
            "Total Words 724\n",
            "Stop Words 6.4\n",
            "Total Words 86\n",
            "Stop Words 11.764705882352942\n",
            "Total Words 140\n",
            "Stop Words 6.666666666666667\n",
            "Total Words 17514\n",
            "Stop Words 13.114754098360656\n",
            "Total Words 1584\n",
            "Stop Words 13.81578947368421\n",
            "Total Words 846\n",
            "Stop Words 8.333333333333334\n",
            "Total Words 35\n",
            "Stop Words 0\n",
            "Total Words 85\n",
            "Stop Words 5.882352941176471\n",
            "Total Words 998\n",
            "Stop Words 18.556701030927837\n",
            "Total Words 974\n",
            "Stop Words 12.182741116751268\n",
            "Total Words 56\n",
            "Stop Words 10.0\n",
            "Total Words 268\n",
            "Stop Words 11.764705882352942\n",
            "Total Words 445\n",
            "Stop Words 9.722222222222221\n",
            "Total Words 28\n",
            "Stop Words 0\n",
            "Total Words 160\n",
            "Stop Words 15.151515151515152\n",
            "Total Words 387\n",
            "Stop Words 10.38961038961039\n",
            "Total Words 350\n",
            "Stop Words 16.129032258064516\n",
            "Total Words 76\n",
            "Stop Words 25.0\n",
            "Total Words 7\n",
            "Stop Words 0\n",
            "Total Words 24\n",
            "Stop Words 25.0\n",
            "Total Words 76\n",
            "Stop Words 15.789473684210526\n",
            "Total Words 7\n",
            "Stop Words 0\n",
            "Total Words 530\n",
            "Stop Words 20.652173913043477\n",
            "Total Words 258\n",
            "Stop Words 18.0\n",
            "Total Words 524\n",
            "Stop Words 10.0\n",
            "Total Words 28\n",
            "Stop Words 0\n",
            "Total Words 91\n",
            "Stop Words 6.25\n",
            "Total Words 12\n",
            "Stop Words 0\n",
            "Total Words 21\n",
            "Stop Words 0\n",
            "Total Words 134\n",
            "Stop Words 8.695652173913043\n",
            "Total Words 172\n",
            "Stop Words 12.903225806451612\n",
            "Total Words 555\n",
            "Stop Words 9.649122807017545\n",
            "Total Words 67\n",
            "Stop Words 0\n",
            "Total Words 33\n",
            "Stop Words 0\n",
            "Total Words 547\n",
            "Stop Words 17.894736842105264\n",
            "Total Words 1878\n",
            "Stop Words 15.112540192926046\n",
            "Total Words 426\n",
            "Stop Words 10.975609756097562\n",
            "Total Words 208\n",
            "Stop Words 0\n",
            "Total Words 84\n",
            "Stop Words 29.41176470588235\n",
            "Total Words 365\n",
            "Stop Words 9.58904109589041\n",
            "Total Words 258\n",
            "Stop Words 15.384615384615385\n",
            "Total Words 130\n",
            "Stop Words 7.6923076923076925\n",
            "Total Words 141\n",
            "Stop Words 11.538461538461538\n",
            "Total Words 150\n",
            "Stop Words 19.23076923076923\n",
            "Total Words 1207\n",
            "Stop Words 10.176991150442477\n",
            "Total Words 696\n",
            "Stop Words 10.56910569105691\n",
            "Total Words 26\n",
            "Stop Words 16.666666666666668\n",
            "Total Words 1115\n",
            "Stop Words 12.871287128712872\n",
            "Total Words 141\n",
            "Stop Words 11.538461538461538\n",
            "Total Words 330\n",
            "Stop Words 8.19672131147541\n",
            "Total Words 182\n",
            "Stop Words 3.0303030303030303\n",
            "Total Words 272\n",
            "Stop Words 14.583333333333334\n",
            "Total Words 413\n",
            "Stop Words 12.790697674418604\n",
            "Total Words 1\n",
            "Stop Words 0\n",
            "Total Words 105\n",
            "Stop Words 5.555555555555555\n",
            "Total Words 35\n",
            "Stop Words 0\n",
            "Total Words 1\n",
            "Stop Words 0\n",
            "Total Words 43\n",
            "Stop Words 0\n",
            "Total Words 69\n",
            "Stop Words 0\n",
            "Total Words 74\n",
            "Stop Words 15.384615384615385\n",
            "Total Words 68\n",
            "Stop Words 0\n",
            "Total Words 267\n",
            "Stop Words 19.642857142857142\n",
            "Total Words 15\n",
            "Stop Words 33.333333333333336\n",
            "Total Words 75\n",
            "Stop Words 5.555555555555555\n",
            "Total Words 70\n",
            "Stop Words 20.0\n",
            "Total Words 1305\n",
            "Stop Words 12.350597609561753\n",
            "Total Words 11\n",
            "Stop Words 0\n",
            "Total Words 3257\n",
            "Stop Words 11.743772241992882\n",
            "Total Words 167\n",
            "Stop Words 13.333333333333334\n",
            "Total Words 56\n",
            "Stop Words 0\n",
            "Total Words 175\n",
            "Stop Words 16.666666666666668\n",
            "Total Words 742\n",
            "Stop Words 7.096774193548387\n",
            "Total Words 29\n",
            "Stop Words 33.333333333333336\n",
            "Total Words 46\n",
            "Stop Words 25.0\n",
            "Total Words 79\n",
            "Stop Words 25.0\n",
            "Total Words 263\n",
            "Stop Words 14.0\n",
            "Total Words 235\n",
            "Stop Words 16.0\n",
            "Total Words 328\n",
            "Stop Words 15.254237288135593\n",
            "Total Words 130\n",
            "Stop Words 23.076923076923077\n",
            "Total Words 790\n",
            "Stop Words 12.056737588652481\n",
            "Total Words 276\n",
            "Stop Words 16.949152542372882\n",
            "Total Words 543\n",
            "Stop Words 12.380952380952381\n",
            "Total Words 504\n",
            "Stop Words 10.416666666666666\n",
            "Total Words 93\n",
            "Stop Words 6.25\n",
            "Total Words 295\n",
            "Stop Words 17.54385964912281\n",
            "Total Words 11\n",
            "Stop Words 33.333333333333336\n",
            "Total Words 1\n",
            "Stop Words 0\n",
            "Total Words 26\n",
            "Stop Words 33.333333333333336\n",
            "Total Words 96\n",
            "Stop Words 10.0\n",
            "Total Words 65\n",
            "Stop Words 0\n",
            "Total Words 607\n",
            "Stop Words 9.90990990990991\n",
            "Total Words 200\n",
            "Stop Words 20.512820512820515\n",
            "Total Words 111\n",
            "Stop Words 15.789473684210526\n",
            "Total Words 128\n",
            "Stop Words 7.407407407407407\n",
            "Total Words 693\n",
            "Stop Words 10.79136690647482\n",
            "Total Words 1\n",
            "Stop Words 0\n",
            "Total Words 473\n",
            "Stop Words 10.526315789473685\n",
            "Total Words 20\n",
            "Stop Words 25.0\n",
            "Total Words 189\n",
            "Stop Words 17.647058823529413\n",
            "Total Words 340\n",
            "Stop Words 21.53846153846154\n",
            "Total Words 296\n",
            "Stop Words 5.2631578947368425\n",
            "Total Words 486\n",
            "Stop Words 16.129032258064516\n",
            "Total Words 683\n",
            "Stop Words 16.39344262295082\n",
            "Total Words 112\n",
            "Stop Words 4.3478260869565215\n",
            "Total Words 343\n",
            "Stop Words 10.447761194029852\n",
            "Total Words 1\n",
            "Stop Words 0\n",
            "Total Words 65\n",
            "Stop Words 23.076923076923077\n",
            "Total Words 1049\n",
            "Stop Words 12.244897959183673\n",
            "Total Words 378\n",
            "Stop Words 15.384615384615385\n",
            "Total Words 147\n",
            "Stop Words 15.384615384615385\n",
            "Total Words 44\n",
            "Stop Words 20.0\n",
            "Total Words 165\n",
            "Stop Words 9.090909090909092\n",
            "Total Words 162\n",
            "Stop Words 16.0\n",
            "Total Words 1954\n",
            "Stop Words 15.508021390374331\n",
            "Total Words 168\n",
            "Stop Words 2.9411764705882355\n",
            "Total Words 382\n",
            "Stop Words 8.571428571428571\n",
            "Total Words 906\n",
            "Stop Words 9.090909090909092\n",
            "Total Words 80\n",
            "Stop Words 14.285714285714286\n",
            "Total Words 170\n",
            "Stop Words 24.242424242424242\n",
            "Total Words 190\n",
            "Stop Words 15.789473684210526\n",
            "Total Words 378\n",
            "Stop Words 15.942028985507246\n",
            "Total Words 420\n",
            "Stop Words 13.095238095238095\n",
            "Total Words 35\n",
            "Stop Words 0\n",
            "Total Words 68\n",
            "Stop Words 0\n",
            "Total Words 171\n",
            "Stop Words 25.0\n",
            "Total Words 973\n",
            "Stop Words 11.11111111111111\n",
            "Total Words 165\n",
            "Stop Words 18.181818181818183\n",
            "Total Words 226\n",
            "Stop Words 12.5\n",
            "Total Words 1130\n",
            "Stop Words 15.492957746478874\n",
            "Total Words 303\n",
            "Stop Words 11.764705882352942\n",
            "Total Words 62\n",
            "Stop Words 36.36363636363637\n",
            "Total Words 349\n",
            "Stop Words 3.9473684210526314\n",
            "Total Words 23\n",
            "Stop Words 25.0\n",
            "Total Words 343\n",
            "Stop Words 7.894736842105263\n",
            "Total Words 27\n",
            "Stop Words 33.333333333333336\n",
            "Total Words 144\n",
            "Stop Words 7.142857142857143\n",
            "Total Words 112\n",
            "Stop Words 13.636363636363637\n",
            "Total Words 181\n",
            "Stop Words 18.75\n",
            "Total Words 44\n",
            "Stop Words 30.0\n",
            "Total Words 830\n",
            "Stop Words 9.523809523809524\n",
            "Total Words 514\n",
            "Stop Words 12.0\n",
            "Total Words 103\n",
            "Stop Words 4.761904761904762\n",
            "Total Words 945\n",
            "Stop Words 16.571428571428573\n",
            "Total Words 1\n",
            "Stop Words 0\n",
            "Total Words 38\n",
            "Stop Words 20.0\n",
            "Total Words 138\n",
            "Stop Words 0\n",
            "Total Words 158\n",
            "Stop Words 24.137931034482758\n",
            "Total Words 88\n",
            "Stop Words 7.142857142857143\n",
            "Total Words 533\n",
            "Stop Words 8.791208791208792\n",
            "Total Words 171\n",
            "Stop Words 20.58823529411765\n",
            "Total Words 764\n",
            "Stop Words 16.083916083916083\n",
            "Total Words 1396\n",
            "Stop Words 7.6\n",
            "Total Words 138\n",
            "Stop Words 6.896551724137931\n",
            "Total Words 71\n",
            "Stop Words 9.090909090909092\n",
            "Total Words 1918\n",
            "Stop Words 9.863013698630137\n",
            "Total Words 276\n",
            "Stop Words 16.071428571428573\n",
            "Total Words 293\n",
            "Stop Words 3.5714285714285716\n",
            "Total Words 63\n",
            "Stop Words 0\n",
            "Total Words 247\n",
            "Stop Words 4.444444444444445\n",
            "Total Words 926\n",
            "Stop Words 16.184971098265898\n",
            "Total Words 372\n",
            "Stop Words 10.81081081081081\n",
            "Total Words 138\n",
            "Stop Words 10.714285714285714\n",
            "Total Words 53\n",
            "Stop Words 22.22222222222222\n",
            "Total Words 158\n",
            "Stop Words 8.571428571428571\n",
            "Total Words 18\n",
            "Stop Words 0\n",
            "Total Words 224\n",
            "Stop Words 2.4390243902439024\n",
            "Total Words 234\n",
            "Stop Words 5.0\n",
            "Total Words 115\n",
            "Stop Words 8.333333333333334\n",
            "Total Words 234\n",
            "Stop Words 8.88888888888889\n",
            "Total Words 69\n",
            "Stop Words 16.666666666666668\n",
            "Total Words 1\n",
            "Stop Words 0\n",
            "Total Words 1063\n",
            "Stop Words 15.816326530612244\n",
            "Total Words 45\n",
            "Stop Words 11.11111111111111\n",
            "Total Words 730\n",
            "Stop Words 13.043478260869565\n",
            "Total Words 317\n",
            "Stop Words 10.714285714285714\n",
            "Total Words 1253\n",
            "Stop Words 13.274336283185841\n",
            "Total Words 143\n",
            "Stop Words 7.407407407407407\n",
            "Total Words 285\n",
            "Stop Words 10.169491525423728\n",
            "Total Words 1052\n",
            "Stop Words 18.42105263157895\n",
            "Total Words 736\n",
            "Stop Words 16.783216783216783\n",
            "Total Words 4\n",
            "Stop Words 0\n",
            "Total Words 207\n",
            "Stop Words 10.81081081081081\n",
            "Total Words 62\n",
            "Stop Words 18.181818181818183\n",
            "Total Words 119\n",
            "Stop Words 23.80952380952381\n",
            "Total Words 58\n",
            "Stop Words 20.0\n",
            "Total Words 73\n",
            "Stop Words 0\n",
            "Total Words 288\n",
            "Stop Words 12.727272727272727\n",
            "Total Words 29\n",
            "Stop Words 0\n",
            "Total Words 202\n",
            "Stop Words 13.157894736842104\n",
            "Total Words 147\n",
            "Stop Words 17.857142857142858\n",
            "Total Words 514\n",
            "Stop Words 12.5\n",
            "Total Words 54\n",
            "Stop Words 22.22222222222222\n",
            "Total Words 2831\n",
            "Stop Words 10.504201680672269\n",
            "Total Words 47\n",
            "Stop Words 22.22222222222222\n",
            "Total Words 375\n",
            "Stop Words 7.6923076923076925\n",
            "Total Words 11\n",
            "Stop Words 0\n",
            "Total Words 912\n",
            "Stop Words 12.087912087912088\n",
            "Total Words 71\n",
            "Stop Words 12.5\n",
            "Total Words 35\n",
            "Stop Words 37.5\n",
            "Total Words 282\n",
            "Stop Words 9.67741935483871\n",
            "Total Words 135\n",
            "Stop Words 20.833333333333332\n",
            "Total Words 2255\n",
            "Stop Words 10.138248847926267\n",
            "Total Words 114\n",
            "Stop Words 11.11111111111111\n",
            "Total Words 25\n",
            "Stop Words 0\n",
            "Total Words 92\n",
            "Stop Words 10.526315789473685\n",
            "Total Words 1223\n",
            "Stop Words 11.965811965811966\n",
            "Total Words 312\n",
            "Stop Words 7.017543859649122\n",
            "Total Words 41\n",
            "Stop Words 0\n",
            "Total Words 152\n",
            "Stop Words 7.142857142857143\n",
            "Total Words 91\n",
            "Stop Words 10.0\n",
            "Total Words 248\n",
            "Stop Words 17.77777777777778\n",
            "Total Words 525\n",
            "Stop Words 12.871287128712872\n",
            "Total Words 94\n",
            "Stop Words 7.6923076923076925\n",
            "Total Words 766\n",
            "Stop Words 11.11111111111111\n",
            "Total Words 294\n",
            "Stop Words 7.142857142857143\n",
            "Total Words 93\n",
            "Stop Words 0\n",
            "Total Words 16\n",
            "Stop Words 0\n",
            "Total Words 1\n",
            "Stop Words 0\n",
            "Total Words 178\n",
            "Stop Words 15.625\n",
            "Total Words 205\n",
            "Stop Words 9.30232558139535\n",
            "Total Words 518\n",
            "Stop Words 8.333333333333334\n",
            "Total Words 1\n",
            "Stop Words 0\n",
            "Total Words 3\n",
            "Stop Words 0\n",
            "Total Words 600\n",
            "Stop Words 6.976744186046512\n",
            "Total Words 573\n",
            "Stop Words 20.792079207920793\n",
            "Total Words 563\n",
            "Stop Words 9.090909090909092\n",
            "Total Words 35\n",
            "Stop Words 0\n",
            "Total Words 633\n",
            "Stop Words 15.315315315315315\n",
            "Total Words 242\n",
            "Stop Words 0\n",
            "Total Words 86\n",
            "Stop Words 7.142857142857143\n",
            "Total Words 306\n",
            "Stop Words 5.555555555555555\n",
            "Total Words 724\n",
            "Stop Words 9.923664122137405\n",
            "Total Words 364\n",
            "Stop Words 11.594202898550725\n",
            "Total Words 1379\n",
            "Stop Words 10.566037735849056\n",
            "Total Words 1401\n",
            "Stop Words 15.966386554621849\n",
            "Total Words 851\n",
            "Stop Words 10.126582278481013\n",
            "Total Words 139\n",
            "Stop Words 0\n",
            "Total Words 537\n",
            "Stop Words 12.5\n",
            "Total Words 23\n",
            "Stop Words 0\n",
            "Total Words 258\n",
            "Stop Words 8.16326530612245\n",
            "Total Words 128\n",
            "Stop Words 26.08695652173913\n",
            "Total Words 1\n",
            "Stop Words 0\n",
            "Total Words 158\n",
            "Stop Words 17.647058823529413\n",
            "Total Words 41\n",
            "Stop Words 25.0\n",
            "Total Words 356\n",
            "Stop Words 10.0\n",
            "Total Words 93\n",
            "Stop Words 15.789473684210526\n",
            "Total Words 47\n",
            "Stop Words 14.285714285714286\n",
            "Total Words 328\n",
            "Stop Words 12.903225806451612\n",
            "Total Words 63\n",
            "Stop Words 0\n",
            "Total Words 4003\n",
            "Stop Words 11.45703611457036\n",
            "Total Words 395\n",
            "Stop Words 12.5\n",
            "Total Words 1\n",
            "Stop Words 0\n",
            "Total Words 103\n",
            "Stop Words 9.523809523809524\n",
            "Total Words 62\n",
            "Stop Words 28.571428571428573\n",
            "Total Words 1518\n",
            "Stop Words 14.17624521072797\n",
            "Total Words 623\n",
            "Stop Words 8.108108108108109\n",
            "Total Words 110\n",
            "Stop Words 0\n",
            "Total Words 257\n",
            "Stop Words 20.0\n",
            "Total Words 14224\n",
            "Stop Words 9.775580068467098\n",
            "Total Words 802\n",
            "Stop Words 8.441558441558442\n",
            "Total Words 1256\n",
            "Stop Words 15.668202764976959\n",
            "Total Words 859\n",
            "Stop Words 9.202453987730062\n",
            "Total Words 37\n",
            "Stop Words 33.333333333333336\n",
            "Total Words 463\n",
            "Stop Words 4.49438202247191\n",
            "Total Words 37\n",
            "Stop Words 0\n",
            "Total Words 124\n",
            "Stop Words 12.0\n",
            "Total Words 193\n",
            "Stop Words 9.090909090909092\n",
            "Total Words 366\n",
            "Stop Words 8.474576271186441\n",
            "Total Words 210\n",
            "Stop Words 10.526315789473685\n",
            "Total Words 268\n",
            "Stop Words 20.930232558139537\n",
            "Total Words 508\n",
            "Stop Words 10.185185185185185\n",
            "Total Words 31\n",
            "Stop Words 0\n",
            "Total Words 5\n",
            "Stop Words 0\n",
            "Total Words 112\n",
            "Stop Words 27.272727272727273\n",
            "Total Words 1\n",
            "Stop Words 0\n",
            "Total Words 48\n",
            "Stop Words 33.333333333333336\n",
            "Total Words 535\n",
            "Stop Words 10.75268817204301\n",
            "Total Words 6538\n",
            "Stop Words 16.728624535315983\n",
            "Total Words 340\n",
            "Stop Words 13.043478260869565\n",
            "Total Words 27\n",
            "Stop Words 0\n",
            "Total Words 122\n",
            "Stop Words 4.545454545454546\n",
            "Total Words 201\n",
            "Stop Words 10.526315789473685\n",
            "Total Words 231\n",
            "Stop Words 2.2222222222222223\n",
            "Total Words 115\n",
            "Stop Words 13.636363636363637\n",
            "Total Words 22\n",
            "Stop Words 50.0\n",
            "Total Words 189\n",
            "Stop Words 5.882352941176471\n",
            "Total Words 1736\n",
            "Stop Words 12.048192771084338\n",
            "Total Words 4\n",
            "Stop Words 0\n",
            "Total Words 1216\n",
            "Stop Words 9.486166007905139\n",
            "Total Words 234\n",
            "Stop Words 10.81081081081081\n",
            "Total Words 107\n",
            "Stop Words 10.0\n",
            "Total Words 39\n",
            "Stop Words 0\n",
            "Total Words 29\n",
            "Stop Words 16.666666666666668\n",
            "Total Words 238\n",
            "Stop Words 11.538461538461538\n",
            "Total Words 49\n",
            "Stop Words 22.22222222222222\n",
            "Total Words 41\n",
            "Stop Words 0\n",
            "Total Words 147\n",
            "Stop Words 0\n",
            "Total Words 953\n",
            "Stop Words 15.686274509803921\n",
            "Total Words 484\n",
            "Stop Words 13.68421052631579\n",
            "Total Words 9\n",
            "Stop Words 0\n",
            "Total Words 872\n",
            "Stop Words 6.410256410256411\n",
            "Total Words 300\n",
            "Stop Words 12.5\n",
            "Total Words 6\n",
            "Stop Words 0\n",
            "Total Words 427\n",
            "Stop Words 14.634146341463415\n",
            "Total Words 19\n",
            "Stop Words 0\n",
            "Total Words 36\n",
            "Stop Words 0\n",
            "Total Words 495\n",
            "Stop Words 14.285714285714286\n",
            "Total Words 13\n",
            "Stop Words 0\n",
            "Total Words 24\n",
            "Stop Words 0\n",
            "Total Words 55\n",
            "Stop Words 0\n",
            "Total Words 420\n",
            "Stop Words 9.090909090909092\n",
            "Total Words 64\n",
            "Stop Words 0\n",
            "Total Words 130\n",
            "Stop Words 0\n",
            "Total Words 59\n",
            "Stop Words 14.285714285714286\n",
            "Total Words 151\n",
            "Stop Words 13.333333333333334\n",
            "Total Words 647\n",
            "Stop Words 9.433962264150944\n",
            "Total Words 387\n",
            "Stop Words 12.67605633802817\n",
            "Total Words 131\n",
            "Stop Words 8.333333333333334\n",
            "Total Words 121\n",
            "Stop Words 15.0\n",
            "Total Words 233\n",
            "Stop Words 14.285714285714286\n",
            "Total Words 1\n",
            "Stop Words 0\n",
            "Total Words 6020\n",
            "Stop Words 11.207729468599034\n",
            "Total Words 199\n",
            "Stop Words 14.634146341463415\n",
            "Total Words 46\n",
            "Stop Words 11.11111111111111\n",
            "Total Words 90\n",
            "Stop Words 10.526315789473685\n",
            "Total Words 553\n",
            "Stop Words 8.411214953271028\n",
            "Total Words 76\n",
            "Stop Words 15.384615384615385\n",
            "Total Words 95\n",
            "Stop Words 18.75\n",
            "Total Words 379\n",
            "Stop Words 7.462686567164179\n",
            "Total Words 157\n",
            "Stop Words 14.285714285714286\n",
            "Total Words 77\n",
            "Stop Words 0\n",
            "Total Words 13\n",
            "Stop Words 0\n",
            "Total Words 125\n",
            "Stop Words 4.545454545454546\n",
            "Total Words 68\n",
            "Stop Words 15.384615384615385\n",
            "Total Words 228\n",
            "Stop Words 7.142857142857143\n",
            "Total Words 104\n",
            "Stop Words 0\n",
            "Total Words 141\n",
            "Stop Words 3.7037037037037037\n",
            "Total Words 451\n",
            "Stop Words 4.054054054054054\n",
            "Total Words 10\n",
            "Stop Words 0\n",
            "Total Words 67\n",
            "Stop Words 16.666666666666668\n",
            "Total Words 115\n",
            "Stop Words 12.5\n",
            "Total Words 28\n",
            "Stop Words 16.666666666666668\n",
            "Total Words 17\n",
            "Stop Words 0\n",
            "Total Words 97\n",
            "Stop Words 11.11111111111111\n",
            "Total Words 45\n",
            "Stop Words 22.22222222222222\n",
            "Total Words 671\n",
            "Stop Words 4.615384615384615\n",
            "Total Words 940\n",
            "Stop Words 9.89010989010989\n",
            "Total Words 1\n",
            "Stop Words 0\n",
            "Total Words 319\n",
            "Stop Words 21.05263157894737\n",
            "Total Words 27\n",
            "Stop Words 20.0\n",
            "Total Words 91\n",
            "Stop Words 8.333333333333334\n",
            "Total Words 612\n",
            "Stop Words 12.068965517241379\n",
            "Total Words 588\n",
            "Stop Words 6.818181818181818\n",
            "Total Words 118\n",
            "Stop Words 10.0\n",
            "Total Words 3156\n",
            "Stop Words 10.72\n",
            "Total Words 208\n",
            "Stop Words 17.5\n",
            "Total Words 2367\n",
            "Stop Words 14.0625\n",
            "Total Words 77\n",
            "Stop Words 15.384615384615385\n",
            "Total Words 172\n",
            "Stop Words 12.5\n",
            "Total Words 435\n",
            "Stop Words 16.883116883116884\n",
            "Total Words 583\n",
            "Stop Words 7.017543859649122\n",
            "Total Words 675\n",
            "Stop Words 12.598425196850394\n",
            "Total Words 1115\n",
            "Stop Words 17.258883248730964\n",
            "Total Words 93\n",
            "Stop Words 15.789473684210526\n",
            "Total Words 44\n",
            "Stop Words 33.333333333333336\n",
            "Total Words 621\n",
            "Stop Words 13.445378151260504\n",
            "Total Words 1\n",
            "Stop Words 0\n",
            "Total Words 209\n",
            "Stop Words 2.5641025641025643\n",
            "Total Words 672\n",
            "Stop Words 11.029411764705882\n",
            "Total Words 141\n",
            "Stop Words 6.896551724137931\n",
            "Total Words 168\n",
            "Stop Words 8.333333333333334\n",
            "Total Words 22\n",
            "Stop Words 0\n",
            "Total Words 47\n",
            "Stop Words 14.285714285714286\n",
            "Total Words 473\n",
            "Stop Words 7.792207792207792\n",
            "Total Words 279\n",
            "Stop Words 6.382978723404255\n",
            "Total Words 165\n",
            "Stop Words 3.0303030303030303\n",
            "Total Words 148\n",
            "Stop Words 25.0\n",
            "Total Words 257\n",
            "Stop Words 13.72549019607843\n",
            "Total Words 338\n",
            "Stop Words 10.0\n",
            "Total Words 100\n",
            "Stop Words 22.22222222222222\n",
            "Total Words 114\n",
            "Stop Words 8.695652173913043\n",
            "Total Words 57\n",
            "Stop Words 0\n",
            "Total Words 17\n",
            "Stop Words 0\n",
            "Total Words 332\n",
            "Stop Words 20.3125\n",
            "Total Words 422\n",
            "Stop Words 12.345679012345679\n",
            "Total Words 263\n",
            "Stop Words 8.16326530612245\n",
            "Total Words 50\n",
            "Stop Words 18.181818181818183\n",
            "Total Words 39\n",
            "Stop Words 14.285714285714286\n",
            "Total Words 90\n",
            "Stop Words 20.0\n",
            "Total Words 696\n",
            "Stop Words 13.28125\n",
            "Total Words 230\n",
            "Stop Words 12.76595744680851\n",
            "Total Words 326\n",
            "Stop Words 8.064516129032258\n",
            "Total Words 522\n",
            "Stop Words 15.384615384615385\n",
            "Total Words 75\n",
            "Stop Words 7.6923076923076925\n",
            "Total Words 181\n",
            "Stop Words 14.705882352941176\n",
            "Total Words 230\n",
            "Stop Words 3.0303030303030303\n",
            "Total Words 16\n",
            "Stop Words 0\n",
            "Total Words 29\n",
            "Stop Words 25.0\n",
            "Total Words 144\n",
            "Stop Words 13.793103448275861\n",
            "Total Words 26\n",
            "Stop Words 0\n",
            "Total Words 190\n",
            "Stop Words 13.513513513513514\n",
            "Total Words 276\n",
            "Stop Words 6.25\n",
            "Total Words 56\n",
            "Stop Words 30.0\n",
            "Total Words 68\n",
            "Stop Words 0\n",
            "Total Words 643\n",
            "Stop Words 15.966386554621849\n",
            "Total Words 321\n",
            "Stop Words 15.625\n",
            "Total Words 29\n",
            "Stop Words 0\n",
            "Total Words 145\n",
            "Stop Words 7.6923076923076925\n",
            "Total Words 189\n",
            "Stop Words 11.11111111111111\n",
            "Total Words 155\n",
            "Stop Words 22.580645161290324\n",
            "Total Words 341\n",
            "Stop Words 10.9375\n",
            "Total Words 63\n",
            "Stop Words 7.6923076923076925\n",
            "Total Words 1411\n",
            "Stop Words 9.313725490196079\n",
            "Total Words 30\n",
            "Stop Words 0\n",
            "Total Words 138\n",
            "Stop Words 6.666666666666667\n",
            "Total Words 74\n",
            "Stop Words 10.0\n",
            "Total Words 536\n",
            "Stop Words 12.62135922330097\n",
            "Total Words 106\n",
            "Stop Words 11.11111111111111\n",
            "Total Words 15\n",
            "Stop Words 0\n",
            "Total Words 35\n",
            "Stop Words 0\n",
            "Total Words 85\n",
            "Stop Words 0\n",
            "Total Words 18\n",
            "Stop Words 20.0\n",
            "Total Words 90\n",
            "Stop Words 11.764705882352942\n",
            "Total Words 206\n",
            "Stop Words 5.882352941176471\n",
            "Total Words 13\n",
            "Stop Words 0\n"
          ]
        }
      ],
      "source": [
        "for i in wrong_guesses:\n",
        "  #print(\"Combined Mess\",test_mbti_data['combined'].values[i])\n",
        "  #print(\"label type\",test_mbti_labels['MBTI Type'].values[i])\n",
        "  #print(\"Total Length\",len(test_mbti_data['message'].values[i]))\n",
        "  print(\"Total Words\",len(test_mbti_data['message'].values[i]))\n",
        "  print(\"Stop Words\",pct_stopwords(test_mbti_data['message'].values[i]))"
      ]
    },
    {
      "cell_type": "code",
      "execution_count": null,
      "metadata": {
        "colab": {
          "base_uri": "https://localhost:8080/"
        },
        "id": "Fey1uZgiBYsO",
        "outputId": "85713699-1c7d-4dbf-a7b7-9330ed57a669"
      },
      "outputs": [
        {
          "data": {
            "text/plain": [
              "33.333333333333336"
            ]
          },
          "execution_count": 189,
          "metadata": {},
          "output_type": "execute_result"
        }
      ],
      "source": [
        "stops = {'a', 'the', 'an', 'one', 'these', 'those', 'this', 'that',\n",
        "         'is', 'was', 'are', 'were'}\n",
        "\n",
        "def pct_stopwords(text):\n",
        "    toks = re.findall('\\w+', text.lower())\n",
        "    return 100 * len([tok for tok in toks if tok in stops]) / len(toks)\n",
        "\n",
        "pct_stopwords('This is a sentence with some stopwords in it.')\n"
      ]
    },
    {
      "cell_type": "markdown",
      "metadata": {
        "id": "bt4m5u4u4xls"
      },
      "source": [
        "# Commented out code"
      ]
    },
    {
      "cell_type": "code",
      "execution_count": null,
      "metadata": {
        "id": "dlI9umgqYhO8"
      },
      "outputs": [],
      "source": [
        "# def create_mbti_bert_clstoken_model(bert_model,hidden_size = 501, \n",
        "#                                 dropout=0.3,\n",
        "#                                 learning_rate=0.00005):\n",
        "#     \"\"\"\n",
        "#     Build a simple classification model with BERT. Use the CLS Token output for classification purposes.\n",
        "#     \"\"\"\n",
        "#     #Define the input layer\n",
        "#     input_ids = layers.Input(shape=(max_length,), dtype=tf.int32, name='input_ids')\n",
        "#     attention_masks = layers.Input(shape=(max_length,), dtype=tf.int32, name='attention_masks')\n",
        "#     token_type_ids = layers.Input(shape=(max_length,), dtype=tf.int32, name='token_type_ids')\n",
        "\n",
        "#     bert_output = bert_model(input_ids, attention_mask=attention_masks, token_type_ids=token_type_ids)   \n",
        "\n",
        "#     #Get CLS token vector representation , CLS is at 0th position\n",
        "#     cls_token = bert_output[0][:,  0, :]\n",
        "\n",
        "#     hidden = tf.keras.layers.Dense(hidden_size, activation='relu', name='hidden_layer')(cls_token)\n",
        "\n",
        "#     hidden = tf.keras.layers.Dropout(dropout)(hidden)  \n",
        "\n",
        "#     classification = tf.keras.layers.Dense(16, activation='sigmoid',name='classification_layer')(hidden)\n",
        "    \n",
        "#     classification_model = tf.keras.Model(inputs=[input_ids, token_type_ids, attention_masks], outputs=[classification])\n",
        "    \n",
        "#     classification_model.compile(optimizer=tf.keras.optimizers.Adam(learning_rate=learning_rate),\n",
        "#                                  loss=tf.losses.SparseCategoricalCrossentropy(from_logits=False), \n",
        "#                                  #metrics=['sparse_categorical_accuracy']\n",
        "#                                  metrics=['accuracy'])\n",
        "#     return classification_model"
      ]
    },
    {
      "cell_type": "code",
      "execution_count": null,
      "metadata": {
        "id": "i5_cWimBYhhY"
      },
      "outputs": [],
      "source": [
        "# mbti_bert_clstoken_model = create_mbti_bert_clstoken_model(bert_model)"
      ]
    },
    {
      "cell_type": "code",
      "execution_count": null,
      "metadata": {
        "id": "rFCiOr7ZYhxh"
      },
      "outputs": [],
      "source": [
        "# keras.utils.plot_model(mbti_bert_clstoken_model, show_shapes=True, dpi=90)"
      ]
    },
    {
      "cell_type": "code",
      "execution_count": null,
      "metadata": {
        "id": "3ZoT8gV1Zdty"
      },
      "outputs": [],
      "source": [
        "# mbti_bert_clstoken_model_history = mbti_bert_clstoken_model.fit(train_data_generator,    \n",
        "#                                                   validation_data=([dev_encodings.input_ids,dev_encodings.token_type_ids, dev_encodings.attention_mask],npdev_labels),    \n",
        "#                                                   callbacks=[model_checkpoint_callback],\n",
        "#                                                   epochs=2)"
      ]
    },
    {
      "cell_type": "code",
      "execution_count": null,
      "metadata": {
        "id": "WFF_UsTFhbyC"
      },
      "outputs": [],
      "source": [
        "# document_model_run('mbti_bert_clstoken_model',\n",
        "#                    mbti_bert_clstoken_model,\n",
        "#                    valid_MBTI,results_dict,\n",
        "#                    test_encodings.input_ids,test_encodings.token_type_ids,test_encodings.attention_mask,\n",
        "#                    nptest_labels)"
      ]
    },
    {
      "cell_type": "code",
      "execution_count": null,
      "metadata": {
        "id": "IFKf9XHKUCji"
      },
      "outputs": [],
      "source": [
        "# #first model run with key_dim =500\n",
        "# document_model_run('mbti_bert_train_cnn_model',\n",
        "#                    mbti_bert_model,\n",
        "#                    valid_MBTI,results_dict,\n",
        "#                    test_encodings.input_ids,test_encodings.token_type_ids,test_encodings.attention_mask,\n",
        "#                    nptest_labels)"
      ]
    },
    {
      "cell_type": "code",
      "execution_count": null,
      "metadata": {
        "id": "DJ-cwUkfOTfm"
      },
      "outputs": [],
      "source": [
        "# mbti_batch_bert_clstoken_model_history = mbti_bert_clstoken_model.fit([train_encodings.input_ids, train_encodings.token_type_ids, train_encodings.attention_mask], \n",
        "#                                                   nptrain_labels,   \n",
        "#                                                   validation_data=([valid_encodings.input_ids, valid_encodings.token_type_ids, valid_encodings.attention_mask], \n",
        "#                                                   npvalid_labels),    \n",
        "#                                                   batch_size=32, \n",
        "#                                                   epochs=2)"
      ]
    },
    {
      "cell_type": "code",
      "execution_count": null,
      "metadata": {
        "id": "ZYWOf_uyJ3O4"
      },
      "outputs": [],
      "source": [
        "# mbti_batch_bert_model_history = mbti_bert_model.fit(train_data_generator,    \n",
        "#                                                   validation_data=([dev_encodings.input_ids,dev_encodings.token_type_ids, dev_encodings.attention_mask],npdev_labels),    \n",
        "#                                                   # callbacks=[model_checkpoint_callback],\n",
        "#                                                   epochs=2)\n"
      ]
    },
    {
      "cell_type": "code",
      "execution_count": null,
      "metadata": {
        "id": "YpVv36M2Epu9"
      },
      "outputs": [],
      "source": [
        "# #first model run with key_dim =500\n",
        "# document_model_run('mbti_bert_model_key_dim_500',\n",
        "#                    mbti_bert_model,\n",
        "#                    valid_MBTI,results_dict,\n",
        "#                    test_encodings.input_ids,test_encodings.token_type_ids,test_encodings.attention_mask,\n",
        "#                    nptest_labels)"
      ]
    },
    {
      "cell_type": "code",
      "execution_count": null,
      "metadata": {
        "id": "Ub4RvedYhuZp"
      },
      "outputs": [],
      "source": [
        "\n",
        "# document_model_run('mbti_bert_model',\n",
        "#                    mbti_bert_model,\n",
        "#                    valid_MBTI,results_dict,\n",
        "#                    test_encodings.input_ids,test_encodings.token_type_ids,test_encodings.attention_mask,\n",
        "#                    nptest_labels)"
      ]
    },
    {
      "cell_type": "code",
      "execution_count": null,
      "metadata": {
        "id": "G5KRFJxGv0BZ"
      },
      "outputs": [],
      "source": [
        "# mbti_batch_bert_model_history = mbti_bert_model.fit(train_data_generator,    \n",
        "#                                                   validation_data=([dev_encodings.input_ids,dev_encodings.token_type_ids, dev_encodings.attention_mask],npdev_labels),    \n",
        "#                                                   callbacks=[model_checkpoint_callback],\n",
        "#                                                   epochs=2)\n"
      ]
    },
    {
      "cell_type": "code",
      "execution_count": null,
      "metadata": {
        "id": "a5H2bkAXvbqB"
      },
      "outputs": [],
      "source": [
        "# mbti_bert_model.save_weights(checkpoint_dir.format(epoch=2))"
      ]
    },
    {
      "cell_type": "code",
      "execution_count": null,
      "metadata": {
        "id": "q8YfXdVr-pFa"
      },
      "outputs": [],
      "source": [
        "# results_dict.values()"
      ]
    },
    {
      "cell_type": "code",
      "execution_count": null,
      "metadata": {
        "id": "dsarYSBNwDA_"
      },
      "outputs": [],
      "source": [
        "# mbti_bert_model.summary()"
      ]
    },
    {
      "cell_type": "code",
      "execution_count": null,
      "metadata": {
        "id": "WRYKPetEZ2Eb"
      },
      "outputs": [],
      "source": [
        "document_model_run('mbti_bert_train_cnn_model',\n",
        "                   mbti_bert_train_cnn_model,\n",
        "                   valid_MBTI,results_dict,\n",
        "                   test_encodings.input_ids,test_encodings.token_type_ids,test_encodings.attention_mask,\n",
        "                   nptest_labels)"
      ]
    },
    {
      "cell_type": "code",
      "execution_count": null,
      "metadata": {
        "colab": {
          "base_uri": "https://localhost:8080/"
        },
        "id": "n09SjhviUhrv",
        "outputId": "4d41d5ab-0e63-47fb-e17d-bd5391a0d28b"
      },
      "outputs": [
        {
          "name": "stdout",
          "output_type": "stream",
          "text": [
            "32/32 [==============================] - 43s 1s/step\n"
          ]
        }
      ],
      "source": [
        "  predictions = mbti_bert_train_cnn_model.predict([test_encodings.input_ids,test_encodings.token_type_ids,test_encodings.attention_mask])\n",
        "\n",
        "  predictions = tf.argmax(predictions, axis=-1)\n",
        "\n",
        "  predictions = predictions.numpy()"
      ]
    },
    {
      "cell_type": "code",
      "execution_count": null,
      "metadata": {
        "id": "6E0xavnubEdA"
      },
      "outputs": [],
      "source": [
        "correct_classifications = list(np.where(nptest_labels == predictions))"
      ]
    },
    {
      "cell_type": "code",
      "execution_count": null,
      "metadata": {
        "colab": {
          "base_uri": "https://localhost:8080/"
        },
        "id": "CMozp7ZFc4IM",
        "outputId": "ede59a02-9320-459c-cde4-ee0f79b3487c"
      },
      "outputs": [
        {
          "data": {
            "text/plain": [
              "list"
            ]
          },
          "execution_count": 37,
          "metadata": {},
          "output_type": "execute_result"
        }
      ],
      "source": [
        "type(correct_classifications)"
      ]
    },
    {
      "cell_type": "code",
      "execution_count": null,
      "metadata": {
        "colab": {
          "base_uri": "https://localhost:8080/",
          "height": 169
        },
        "id": "tTN58s7MG0-q",
        "outputId": "0c507dd7-3876-4f6a-9759-e6a66e74425b"
      },
      "outputs": [
        {
          "ename": "IndexError",
          "evalue": "ignored",
          "output_type": "error",
          "traceback": [
            "\u001b[0;31m---------------------------------------------------------------------------\u001b[0m",
            "\u001b[0;31mIndexError\u001b[0m                                Traceback (most recent call last)",
            "\u001b[0;32m<ipython-input-29-17b6ca71a5b9>\u001b[0m in \u001b[0;36m<module>\u001b[0;34m\u001b[0m\n\u001b[0;32m----> 1\u001b[0;31m \u001b[0mcorrect_classifications\u001b[0m\u001b[0;34m[\u001b[0m\u001b[0;36m2\u001b[0m\u001b[0;34m]\u001b[0m\u001b[0;34m\u001b[0m\u001b[0;34m\u001b[0m\u001b[0m\n\u001b[0m",
            "\u001b[0;31mIndexError\u001b[0m: tuple index out of range"
          ]
        }
      ],
      "source": [
        "correct_classifications[2]"
      ]
    },
    {
      "cell_type": "code",
      "execution_count": null,
      "metadata": {
        "id": "RnQw6OtidtF8"
      },
      "outputs": [],
      "source": [
        "test_mbti_data, test_mbti_labels"
      ]
    },
    {
      "cell_type": "code",
      "execution_count": null,
      "metadata": {
        "colab": {
          "base_uri": "https://localhost:8080/"
        },
        "id": "kTlU9G1MHA4F",
        "outputId": "1725470e-3fd6-4b5f-f615-5f83bb3b2d00"
      },
      "outputs": [
        {
          "name": "stdout",
          "output_type": "stream",
          "text": [
            "[  0   2   4  22  23  38  48  51  93 115 119 154 160 167 170 184 196 223\n",
            " 227 232 252 257 271 277 293 298 329 351 353 373 375 388 393 405 406 438\n",
            " 444 454 459 464 503 506 515 522 523 560 565 605 614 660 662 663 669 684\n",
            " 686 705 712 734 750 784 791 797 836 846 851 907 910 938 953]\n"
          ]
        }
      ],
      "source": [
        "for i in correct_classifications:\n",
        "  print (i)"
      ]
    },
    {
      "cell_type": "code",
      "execution_count": null,
      "metadata": {
        "colab": {
          "base_uri": "https://localhost:8080/",
          "height": 204
        },
        "id": "tMI8_592c_F7",
        "outputId": "ecc578b6-0052-48ec-d702-beda400777e9"
      },
      "outputs": [
        {
          "ename": "TypeError",
          "evalue": "ignored",
          "output_type": "error",
          "traceback": [
            "\u001b[0;31m---------------------------------------------------------------------------\u001b[0m",
            "\u001b[0;31mTypeError\u001b[0m                                 Traceback (most recent call last)",
            "\u001b[0;32m<ipython-input-40-dcf7748fe02f>\u001b[0m in \u001b[0;36m<module>\u001b[0;34m\u001b[0m\n\u001b[1;32m      1\u001b[0m \u001b[0;32mfor\u001b[0m \u001b[0mi\u001b[0m \u001b[0;32min\u001b[0m \u001b[0mcorrect_classifications\u001b[0m\u001b[0;34m:\u001b[0m\u001b[0;34m\u001b[0m\u001b[0;34m\u001b[0m\u001b[0m\n\u001b[0;32m----> 2\u001b[0;31m   \u001b[0mmessage_length\u001b[0m \u001b[0;34m=\u001b[0m \u001b[0mlen\u001b[0m\u001b[0;34m(\u001b[0m\u001b[0mtest_data_st\u001b[0m\u001b[0;34m[\u001b[0m\u001b[0mi\u001b[0m\u001b[0;34m]\u001b[0m\u001b[0;34m.\u001b[0m\u001b[0msplit\u001b[0m\u001b[0;34m(\u001b[0m\u001b[0;34m)\u001b[0m\u001b[0;34m)\u001b[0m\u001b[0;34m\u001b[0m\u001b[0;34m\u001b[0m\u001b[0m\n\u001b[0m\u001b[1;32m      3\u001b[0m   \u001b[0mprint\u001b[0m \u001b[0;34m(\u001b[0m\u001b[0mi\u001b[0m\u001b[0;34m,\u001b[0m\u001b[0mmessage_length\u001b[0m\u001b[0;34m)\u001b[0m\u001b[0;34m\u001b[0m\u001b[0;34m\u001b[0m\u001b[0m\n",
            "\u001b[0;31mTypeError\u001b[0m: only integer scalar arrays can be converted to a scalar index"
          ]
        }
      ],
      "source": [
        "for i in correct_classifications:\n",
        "  message_length = len(test_data_st[i].split())\n",
        "  print (i,message_length)"
      ]
    },
    {
      "cell_type": "code",
      "execution_count": null,
      "metadata": {
        "colab": {
          "base_uri": "https://localhost:8080/"
        },
        "id": "5eBycIHSqro4",
        "outputId": "0523fb8f-e5c2-41ec-cbb7-030a237a91b5"
      },
      "outputs": [
        {
          "data": {
            "text/plain": [
              "61"
            ]
          },
          "execution_count": 44,
          "metadata": {},
          "output_type": "execute_result"
        }
      ],
      "source": [
        "len(test_data_st[2].split())"
      ]
    },
    {
      "cell_type": "code",
      "execution_count": null,
      "metadata": {
        "colab": {
          "base_uri": "https://localhost:8080/"
        },
        "id": "sMr3-g_OeG-I",
        "outputId": "e9e8ea40-1041-45eb-9bbd-7b6c1760b913"
      },
      "outputs": [
        {
          "data": {
            "text/plain": [
              "61"
            ]
          },
          "execution_count": 44,
          "metadata": {},
          "output_type": "execute_result"
        }
      ],
      "source": [
        "len(test_mbti_data.iloc[2]['message'].split())"
      ]
    },
    {
      "cell_type": "code",
      "execution_count": null,
      "metadata": {
        "id": "Z_Ooc8L9I22t"
      },
      "outputs": [],
      "source": [
        "correct ={}\n",
        "wrong={}\n",
        "correct['mbti_bert_train_cnn_model'] = np.where(nptest_labels == predictions)\n",
        "wrong['mbti_bert_train_cnn_model'] = np.where(nptest_labels != predictions)"
      ]
    },
    {
      "cell_type": "code",
      "execution_count": null,
      "metadata": {
        "colab": {
          "base_uri": "https://localhost:8080/"
        },
        "id": "uWwIhx_GKjZL",
        "outputId": "cdab6975-e37f-45f1-f03f-d256d2fb7767"
      },
      "outputs": [
        {
          "data": {
            "text/plain": [
              "array([  1,   3,   5,   6,   7,   8,   9,  10,  11,  12,  13,  14,  15,\n",
              "        16,  17,  18,  19,  20,  21,  24,  25,  26,  27,  28,  29,  30,\n",
              "        31,  32,  33,  34,  35,  36,  37,  39,  40,  41,  42,  43,  44,\n",
              "        45,  46,  47,  49,  50,  52,  53,  54,  55,  56,  57,  58,  59,\n",
              "        60,  61,  62,  63,  64,  65,  66,  67,  68,  69,  70,  71,  72,\n",
              "        73,  74,  75,  76,  77,  78,  79,  80,  81,  82,  83,  84,  85,\n",
              "        86,  87,  88,  89,  90,  91,  92,  94,  95,  96,  97,  98,  99,\n",
              "       100, 101, 102, 103, 104, 105, 106, 107, 108, 109, 110, 111, 112,\n",
              "       113, 114, 116, 117, 118, 120, 121, 122, 123, 124, 125, 126, 127,\n",
              "       128, 129, 130, 131, 132, 133, 134, 135, 136, 137, 138, 139, 140,\n",
              "       141, 142, 143, 144, 145, 146, 147, 148, 149, 150, 151, 152, 153,\n",
              "       155, 156, 157, 158, 159, 161, 162, 163, 164, 165, 166, 168, 169,\n",
              "       171, 172, 173, 174, 175, 176, 177, 178, 179, 180, 181, 182, 183,\n",
              "       185, 186, 187, 188, 189, 190, 191, 192, 193, 194, 195, 197, 198,\n",
              "       199, 200, 201, 202, 203, 204, 205, 206, 207, 208, 209, 210, 211,\n",
              "       212, 213, 214, 215, 216, 217, 218, 219, 220, 221, 222, 224, 225,\n",
              "       226, 228, 229, 230, 231, 233, 234, 235, 236, 237, 238, 239, 240,\n",
              "       241, 242, 243, 244, 245, 246, 247, 248, 249, 250, 251, 253, 254,\n",
              "       255, 256, 258, 259, 260, 261, 262, 263, 264, 265, 266, 267, 268,\n",
              "       269, 270, 272, 273, 274, 275, 276, 278, 279, 280, 281, 282, 283,\n",
              "       284, 285, 286, 287, 288, 289, 290, 291, 292, 294, 295, 296, 297,\n",
              "       299, 300, 301, 302, 303, 304, 305, 306, 307, 308, 309, 310, 311,\n",
              "       312, 313, 314, 315, 316, 317, 318, 319, 320, 321, 322, 323, 324,\n",
              "       325, 326, 327, 328, 330, 331, 332, 333, 334, 335, 336, 337, 338,\n",
              "       339, 340, 341, 342, 343, 344, 345, 346, 347, 348, 349, 350, 352,\n",
              "       354, 355, 356, 357, 358, 359, 360, 361, 362, 363, 364, 365, 366,\n",
              "       367, 368, 369, 370, 371, 372, 374, 376, 377, 378, 379, 380, 381,\n",
              "       382, 383, 384, 385, 386, 387, 389, 390, 391, 392, 394, 395, 396,\n",
              "       397, 398, 399, 400, 401, 402, 403, 404, 407, 408, 409, 410, 411,\n",
              "       412, 413, 414, 415, 416, 417, 418, 419, 420, 421, 422, 423, 424,\n",
              "       425, 426, 427, 428, 429, 430, 431, 432, 433, 434, 435, 436, 437,\n",
              "       439, 440, 441, 442, 443, 445, 446, 447, 448, 449, 450, 451, 452,\n",
              "       453, 455, 456, 457, 458, 460, 461, 462, 463, 465, 466, 467, 468,\n",
              "       469, 470, 471, 472, 473, 474, 475, 476, 477, 478, 479, 480, 481,\n",
              "       482, 483, 484, 485, 486, 487, 488, 489, 490, 491, 492, 493, 494,\n",
              "       495, 496, 497, 498, 499, 500, 501, 502, 504, 505, 507, 508, 509,\n",
              "       510, 511, 512, 513, 514, 516, 517, 518, 519, 520, 521, 524, 525,\n",
              "       526, 527, 528, 529, 530, 531, 532, 533, 534, 535, 536, 537, 538,\n",
              "       539, 540, 541, 542, 543, 544, 545, 546, 547, 548, 549, 550, 551,\n",
              "       552, 553, 554, 555, 556, 557, 558, 559, 561, 562, 563, 564, 566,\n",
              "       567, 568, 569, 570, 571, 572, 573, 574, 575, 576, 577, 578, 579,\n",
              "       580, 581, 582, 583, 584, 585, 586, 587, 588, 589, 590, 591, 592,\n",
              "       593, 594, 595, 596, 597, 598, 599, 600, 601, 602, 603, 604, 606,\n",
              "       607, 608, 609, 610, 611, 612, 613, 615, 616, 617, 618, 619, 620,\n",
              "       621, 622, 623, 624, 625, 626, 627, 628, 629, 630, 631, 632, 633,\n",
              "       634, 635, 636, 637, 638, 639, 640, 641, 642, 643, 644, 645, 646,\n",
              "       647, 648, 649, 650, 651, 652, 653, 654, 655, 656, 657, 658, 659,\n",
              "       661, 664, 665, 666, 667, 668, 670, 671, 672, 673, 674, 675, 676,\n",
              "       677, 678, 679, 680, 681, 682, 683, 685, 687, 688, 689, 690, 691,\n",
              "       692, 693, 694, 695, 696, 697, 698, 699, 700, 701, 702, 703, 704,\n",
              "       706, 707, 708, 709, 710, 711, 713, 714, 715, 716, 717, 718, 719,\n",
              "       720, 721, 722, 723, 724, 725, 726, 727, 728, 729, 730, 731, 732,\n",
              "       733, 735, 736, 737, 738, 739, 740, 741, 742, 743, 744, 745, 746,\n",
              "       747, 748, 749, 751, 752, 753, 754, 755, 756, 757, 758, 759, 760,\n",
              "       761, 762, 763, 764, 765, 766, 767, 768, 769, 770, 771, 772, 773,\n",
              "       774, 775, 776, 777, 778, 779, 780, 781, 782, 783, 785, 786, 787,\n",
              "       788, 789, 790, 792, 793, 794, 795, 796, 798, 799, 800, 801, 802,\n",
              "       803, 804, 805, 806, 807, 808, 809, 810, 811, 812, 813, 814, 815,\n",
              "       816, 817, 818, 819, 820, 821, 822, 823, 824, 825, 826, 827, 828,\n",
              "       829, 830, 831, 832, 833, 834, 835, 837, 838, 839, 840, 841, 842,\n",
              "       843, 844, 845, 847, 848, 849, 850, 852, 853, 854, 855, 856, 857,\n",
              "       858, 859, 860, 861, 862, 863, 864, 865, 866, 867, 868, 869, 870,\n",
              "       871, 872, 873, 874, 875, 876, 877, 878, 879, 880, 881, 882, 883,\n",
              "       884, 885, 886, 887, 888, 889, 890, 891, 892, 893, 894, 895, 896,\n",
              "       897, 898, 899, 900, 901, 902, 903, 904, 905, 906, 908, 909, 911,\n",
              "       912, 913, 914, 915, 916, 917, 918, 919, 920, 921, 922, 923, 924,\n",
              "       925, 926, 927, 928, 929, 930, 931, 932, 933, 934, 935, 936, 937,\n",
              "       939, 940, 941, 942, 943, 944, 945, 946, 947, 948, 949, 950, 951,\n",
              "       952, 954, 955, 956, 957, 958, 959, 960, 961, 962, 963, 964, 965,\n",
              "       966, 967, 968, 969, 970, 971, 972, 973, 974, 975, 976, 977, 978,\n",
              "       979, 980, 981, 982, 983, 984, 985, 986, 987, 988, 989, 990, 991,\n",
              "       992, 993, 994, 995, 996, 997, 998, 999])"
            ]
          },
          "execution_count": 68,
          "metadata": {},
          "output_type": "execute_result"
        }
      ],
      "source": [
        "wrong['mbti_bert_train_cnn_model'][0]"
      ]
    },
    {
      "cell_type": "code",
      "execution_count": null,
      "metadata": {
        "colab": {
          "base_uri": "https://localhost:8080/"
        },
        "id": "y_Hx95xgK5Te",
        "outputId": "10caaa0a-5e2f-4b7a-83c1-1b5f2c926894"
      },
      "outputs": [
        {
          "name": "stdout",
          "output_type": "stream",
          "text": [
            "mean 94.2463768115942\n",
            "min 0\n",
            "max 794\n"
          ]
        }
      ],
      "source": [
        "print('mean',np.mean([len(test_data_st[i].split()) for i in correct['mbti_bert_train_cnn_model'][0]]))\n",
        "print('min',np.min([len(test_data_st[i].split()) for i in correct['mbti_bert_train_cnn_model'][0]]))\n",
        "print('max',np.max([len(test_data_st[i].split()) for i in correct['mbti_bert_train_cnn_model'][0]]))"
      ]
    },
    {
      "cell_type": "code",
      "execution_count": null,
      "metadata": {
        "colab": {
          "base_uri": "https://localhost:8080/"
        },
        "id": "-T4TpWRXLKLI",
        "outputId": "6fe8da7e-55e0-4e96-9219-a35bc46fe357"
      },
      "outputs": [
        {
          "name": "stdout",
          "output_type": "stream",
          "text": [
            "mean 82.59720730397422\n",
            "min 0\n",
            "max 3163\n"
          ]
        }
      ],
      "source": [
        "print('mean',np.mean([len(test_data_st[i].split()) for i in wrong['mbti_bert_train_cnn_model'][0]]))\n",
        "print('min',np.min([len(test_data_st[i].split()) for i in wrong['mbti_bert_train_cnn_model'][0]]))\n",
        "print('max',np.max([len(test_data_st[i].split()) for i in wrong['mbti_bert_train_cnn_model'][0]]))"
      ]
    },
    {
      "cell_type": "code",
      "execution_count": null,
      "metadata": {
        "colab": {
          "base_uri": "https://localhost:8080/"
        },
        "id": "TiXUFPWaJcUs",
        "outputId": "2875601d-63e1-4b27-e9b7-3f9153183bbc"
      },
      "outputs": [
        {
          "data": {
            "text/plain": [
              "260"
            ]
          },
          "execution_count": 70,
          "metadata": {},
          "output_type": "execute_result"
        }
      ],
      "source": [
        "len(test_data_st[100].split())"
      ]
    },
    {
      "cell_type": "code",
      "execution_count": null,
      "metadata": {
        "colab": {
          "base_uri": "https://localhost:8080/",
          "height": 286
        },
        "id": "-wErL8nbIrxY",
        "outputId": "53c40c5b-bafd-4e83-d02e-c3343cdb8080"
      },
      "outputs": [
        {
          "data": {
            "text/plain": [
              "<matplotlib.axes._subplots.AxesSubplot at 0x7f0bdbcc5710>"
            ]
          },
          "execution_count": 47,
          "metadata": {},
          "output_type": "execute_result"
        },
        {
          "data": {
            "image/png": "[encoded data removed]",
            "text/plain": [
              "<Figure size 432x288 with 1 Axes>"
            ]
          },
          "metadata": {},
          "output_type": "display_data"
        }
      ],
      "source": [
        "pd.Series(predictions).value_counts().plot(kind = 'bar')"
      ]
    },
    {
      "cell_type": "code",
      "execution_count": null,
      "metadata": {
        "colab": {
          "base_uri": "https://localhost:8080/",
          "height": 286
        },
        "id": "X-kQRR6bIfti",
        "outputId": "feb6dd2e-fa71-494b-a7ab-6d7ef417d807"
      },
      "outputs": [
        {
          "data": {
            "text/plain": [
              "<matplotlib.axes._subplots.AxesSubplot at 0x7f0bdc279250>"
            ]
          },
          "execution_count": 46,
          "metadata": {},
          "output_type": "execute_result"
        },
        {
          "data": {
            "image/png": "[encoded data removed]",
            "text/plain": [
              "<Figure size 432x288 with 1 Axes>"
            ]
          },
          "metadata": {},
          "output_type": "display_data"
        }
      ],
      "source": [
        "pd.Series(nptest_labels).value_counts().plot(kind = 'bar')"
      ]
    },
    {
      "cell_type": "markdown",
      "metadata": {
        "id": "I22gpkAH8Ser"
      },
      "source": [
        "# Notes and Next Steps"
      ]
    },
    {
      "cell_type": "markdown",
      "metadata": {
        "id": "8ShBTZ1eJd9b"
      },
      "source": [
        "Tactial Portion\n",
        "\n",
        "\n",
        "a)  not much improvment after 5 epochs but better than 2 epochs , it is really about how far we can run this I guess\n",
        "\n",
        "b) another approach is to add multiheaded self attention on the BERT. @john in your code I think you added 16 heads but I guess thats too many we can try with 6 or 8 may be\n",
        "\n",
        "c) Current CNN filter sizes are random guess ..need to look into how can we make them better  \n",
        "\n",
        "d) Is 500 max length ... too much. @SJ will see in above model at message length we got the right output \n",
        "\n",
        "e) should we convert document run function from dictionary to pandas data frame ..minor point in big scheme of things\n",
        "\n",
        "f) I cut down train data size to 120000.. even then with batch size of 32 and one epoch it takes about 1:20 mins or so.. are there ways to make this faster. W251 was resource intensive and instructors gave guidance as well as processing capabilities needs for each home work as well as for project based on scope, here I guess I am doing something basic wrong which is adding more processing time , please review \n",
        "\n",
        "g) dataloaders - current implementation of data loaders is not most efficient one. If there is a way to convert source files into CSV(based on what I know) then we can utilize the skiprows option while data gets into the dataframe, with parquet format I could not get that working with pyarrow, so somewhat of a round about way of implementing this. but then with CSV the load times will be larger as it is not compressed as compared to parquet.. I dont think this would matter much to the grade but if either of you have bandwidth of experience on tuning this further please look into this.\n",
        "\n",
        "\n",
        "\n",
        "h) overall for BERT I think we have 2 options \n",
        "\n",
        "a) Unfreeze a layer and train it for our data set and then add CNN on top (which I have done here) \n",
        "\n",
        "b) Keep BERT as it is and then add multiheaded self attention layer (code is in this notebook but did not yield much results either)\n",
        "\n",
        "but i believe this a good topic to dig further into for BERT section of our report and showcase the differences \n",
        "\n",
        "#update from 1113\n",
        "Better results on pushing user profile data into BERT\n",
        "\n",
        "Follow ups \n",
        "a) figure out how to find which results are coming wrong \n",
        "b) plot those \n",
        "c) also run the same model, without actually passing the message and does the result degrade \n",
        "d) look at notes to self in Slack\n",
        "\n"
      ]
    }
  ],
  "metadata": {
    "accelerator": "GPU",
    "colab": {
      "collapsed_sections": [
        "cvGQsRRk4fUn",
        "Em9m3KbBq8Q4"
      ],
      "machine_shape": "hm",
      "provenance": [],
      "mount_file_id": "1gxEfnnYFD7YDut5u8q1hFy17COE-SLJN",
      "authorship_tag": "ABX9TyP/0xo2VJ/4g1WviiO5gUNH",
      "include_colab_link": true
    },
    "gpuClass": "premium",
    "kernelspec": {
      "display_name": "Python 3",
      "name": "python3"
    },
    "language_info": {
      "name": "python"
    },
    "widgets": {
      "application/vnd.jupyter.widget-state+json": {
        "3724007fc09640b1b12840034c5c8253": {
          "model_module": "@jupyter-widgets/controls",
          "model_name": "HBoxModel",
          "model_module_version": "1.5.0",
          "state": {
            "_dom_classes": [],
            "_model_module": "@jupyter-widgets/controls",
            "_model_module_version": "1.5.0",
            "_model_name": "HBoxModel",
            "_view_count": null,
            "_view_module": "@jupyter-widgets/controls",
            "_view_module_version": "1.5.0",
            "_view_name": "HBoxView",
            "box_style": "",
            "children": [
              "IPY_MODEL_1f5bb337a0484349b9357780b6e3efbf",
              "IPY_MODEL_f553e4b7a3d045c8b653ed18b2756dcd",
              "IPY_MODEL_f0d35b2d54d84e32b94782a5ba9f9b11"
            ],
            "layout": "IPY_MODEL_fd95fc1937a249abb85f49f77dca35a7"
          }
        },
        "1f5bb337a0484349b9357780b6e3efbf": {
          "model_module": "@jupyter-widgets/controls",
          "model_name": "HTMLModel",
          "model_module_version": "1.5.0",
          "state": {
            "_dom_classes": [],
            "_model_module": "@jupyter-widgets/controls",
            "_model_module_version": "1.5.0",
            "_model_name": "HTMLModel",
            "_view_count": null,
            "_view_module": "@jupyter-widgets/controls",
            "_view_module_version": "1.5.0",
            "_view_name": "HTMLView",
            "description": "",
            "description_tooltip": null,
            "layout": "IPY_MODEL_e12a430b8b1a4d8f8108a85da49a5f80",
            "placeholder": "​",
            "style": "IPY_MODEL_11078f4782514450b4669b2157a5a5fe",
            "value": "Downloading: 100%"
          }
        },
        "f553e4b7a3d045c8b653ed18b2756dcd": {
          "model_module": "@jupyter-widgets/controls",
          "model_name": "FloatProgressModel",
          "model_module_version": "1.5.0",
          "state": {
            "_dom_classes": [],
            "_model_module": "@jupyter-widgets/controls",
            "_model_module_version": "1.5.0",
            "_model_name": "FloatProgressModel",
            "_view_count": null,
            "_view_module": "@jupyter-widgets/controls",
            "_view_module_version": "1.5.0",
            "_view_name": "ProgressView",
            "bar_style": "success",
            "description": "",
            "description_tooltip": null,
            "layout": "IPY_MODEL_99c80cc3f0e74b97aeeb43837480a39c",
            "max": 29,
            "min": 0,
            "orientation": "horizontal",
            "style": "IPY_MODEL_83531450c50742c599c62ea6c00c8b51",
            "value": 29
          }
        },
        "f0d35b2d54d84e32b94782a5ba9f9b11": {
          "model_module": "@jupyter-widgets/controls",
          "model_name": "HTMLModel",
          "model_module_version": "1.5.0",
          "state": {
            "_dom_classes": [],
            "_model_module": "@jupyter-widgets/controls",
            "_model_module_version": "1.5.0",
            "_model_name": "HTMLModel",
            "_view_count": null,
            "_view_module": "@jupyter-widgets/controls",
            "_view_module_version": "1.5.0",
            "_view_name": "HTMLView",
            "description": "",
            "description_tooltip": null,
            "layout": "IPY_MODEL_5882b84bb31142ec8da07e33fe2b807c",
            "placeholder": "​",
            "style": "IPY_MODEL_f8dbaeb47baf465e89b98fabec71c9c1",
            "value": " 29.0/29.0 [00:00&lt;00:00, 1.12kB/s]"
          }
        },
        "fd95fc1937a249abb85f49f77dca35a7": {
          "model_module": "@jupyter-widgets/base",
          "model_name": "LayoutModel",
          "model_module_version": "1.2.0",
          "state": {
            "_model_module": "@jupyter-widgets/base",
            "_model_module_version": "1.2.0",
            "_model_name": "LayoutModel",
            "_view_count": null,
            "_view_module": "@jupyter-widgets/base",
            "_view_module_version": "1.2.0",
            "_view_name": "LayoutView",
            "align_content": null,
            "align_items": null,
            "align_self": null,
            "border": null,
            "bottom": null,
            "display": null,
            "flex": null,
            "flex_flow": null,
            "grid_area": null,
            "grid_auto_columns": null,
            "grid_auto_flow": null,
            "grid_auto_rows": null,
            "grid_column": null,
            "grid_gap": null,
            "grid_row": null,
            "grid_template_areas": null,
            "grid_template_columns": null,
            "grid_template_rows": null,
            "height": null,
            "justify_content": null,
            "justify_items": null,
            "left": null,
            "margin": null,
            "max_height": null,
            "max_width": null,
            "min_height": null,
            "min_width": null,
            "object_fit": null,
            "object_position": null,
            "order": null,
            "overflow": null,
            "overflow_x": null,
            "overflow_y": null,
            "padding": null,
            "right": null,
            "top": null,
            "visibility": null,
            "width": null
          }
        },
        "e12a430b8b1a4d8f8108a85da49a5f80": {
          "model_module": "@jupyter-widgets/base",
          "model_name": "LayoutModel",
          "model_module_version": "1.2.0",
          "state": {
            "_model_module": "@jupyter-widgets/base",
            "_model_module_version": "1.2.0",
            "_model_name": "LayoutModel",
            "_view_count": null,
            "_view_module": "@jupyter-widgets/base",
            "_view_module_version": "1.2.0",
            "_view_name": "LayoutView",
            "align_content": null,
            "align_items": null,
            "align_self": null,
            "border": null,
            "bottom": null,
            "display": null,
            "flex": null,
            "flex_flow": null,
            "grid_area": null,
            "grid_auto_columns": null,
            "grid_auto_flow": null,
            "grid_auto_rows": null,
            "grid_column": null,
            "grid_gap": null,
            "grid_row": null,
            "grid_template_areas": null,
            "grid_template_columns": null,
            "grid_template_rows": null,
            "height": null,
            "justify_content": null,
            "justify_items": null,
            "left": null,
            "margin": null,
            "max_height": null,
            "max_width": null,
            "min_height": null,
            "min_width": null,
            "object_fit": null,
            "object_position": null,
            "order": null,
            "overflow": null,
            "overflow_x": null,
            "overflow_y": null,
            "padding": null,
            "right": null,
            "top": null,
            "visibility": null,
            "width": null
          }
        },
        "11078f4782514450b4669b2157a5a5fe": {
          "model_module": "@jupyter-widgets/controls",
          "model_name": "DescriptionStyleModel",
          "model_module_version": "1.5.0",
          "state": {
            "_model_module": "@jupyter-widgets/controls",
            "_model_module_version": "1.5.0",
            "_model_name": "DescriptionStyleModel",
            "_view_count": null,
            "_view_module": "@jupyter-widgets/base",
            "_view_module_version": "1.2.0",
            "_view_name": "StyleView",
            "description_width": ""
          }
        },
        "99c80cc3f0e74b97aeeb43837480a39c": {
          "model_module": "@jupyter-widgets/base",
          "model_name": "LayoutModel",
          "model_module_version": "1.2.0",
          "state": {
            "_model_module": "@jupyter-widgets/base",
            "_model_module_version": "1.2.0",
            "_model_name": "LayoutModel",
            "_view_count": null,
            "_view_module": "@jupyter-widgets/base",
            "_view_module_version": "1.2.0",
            "_view_name": "LayoutView",
            "align_content": null,
            "align_items": null,
            "align_self": null,
            "border": null,
            "bottom": null,
            "display": null,
            "flex": null,
            "flex_flow": null,
            "grid_area": null,
            "grid_auto_columns": null,
            "grid_auto_flow": null,
            "grid_auto_rows": null,
            "grid_column": null,
            "grid_gap": null,
            "grid_row": null,
            "grid_template_areas": null,
            "grid_template_columns": null,
            "grid_template_rows": null,
            "height": null,
            "justify_content": null,
            "justify_items": null,
            "left": null,
            "margin": null,
            "max_height": null,
            "max_width": null,
            "min_height": null,
            "min_width": null,
            "object_fit": null,
            "object_position": null,
            "order": null,
            "overflow": null,
            "overflow_x": null,
            "overflow_y": null,
            "padding": null,
            "right": null,
            "top": null,
            "visibility": null,
            "width": null
          }
        },
        "83531450c50742c599c62ea6c00c8b51": {
          "model_module": "@jupyter-widgets/controls",
          "model_name": "ProgressStyleModel",
          "model_module_version": "1.5.0",
          "state": {
            "_model_module": "@jupyter-widgets/controls",
            "_model_module_version": "1.5.0",
            "_model_name": "ProgressStyleModel",
            "_view_count": null,
            "_view_module": "@jupyter-widgets/base",
            "_view_module_version": "1.2.0",
            "_view_name": "StyleView",
            "bar_color": null,
            "description_width": ""
          }
        },
        "5882b84bb31142ec8da07e33fe2b807c": {
          "model_module": "@jupyter-widgets/base",
          "model_name": "LayoutModel",
          "model_module_version": "1.2.0",
          "state": {
            "_model_module": "@jupyter-widgets/base",
            "_model_module_version": "1.2.0",
            "_model_name": "LayoutModel",
            "_view_count": null,
            "_view_module": "@jupyter-widgets/base",
            "_view_module_version": "1.2.0",
            "_view_name": "LayoutView",
            "align_content": null,
            "align_items": null,
            "align_self": null,
            "border": null,
            "bottom": null,
            "display": null,
            "flex": null,
            "flex_flow": null,
            "grid_area": null,
            "grid_auto_columns": null,
            "grid_auto_flow": null,
            "grid_auto_rows": null,
            "grid_column": null,
            "grid_gap": null,
            "grid_row": null,
            "grid_template_areas": null,
            "grid_template_columns": null,
            "grid_template_rows": null,
            "height": null,
            "justify_content": null,
            "justify_items": null,
            "left": null,
            "margin": null,
            "max_height": null,
            "max_width": null,
            "min_height": null,
            "min_width": null,
            "object_fit": null,
            "object_position": null,
            "order": null,
            "overflow": null,
            "overflow_x": null,
            "overflow_y": null,
            "padding": null,
            "right": null,
            "top": null,
            "visibility": null,
            "width": null
          }
        },
        "f8dbaeb47baf465e89b98fabec71c9c1": {
          "model_module": "@jupyter-widgets/controls",
          "model_name": "DescriptionStyleModel",
          "model_module_version": "1.5.0",
          "state": {
            "_model_module": "@jupyter-widgets/controls",
            "_model_module_version": "1.5.0",
            "_model_name": "DescriptionStyleModel",
            "_view_count": null,
            "_view_module": "@jupyter-widgets/base",
            "_view_module_version": "1.2.0",
            "_view_name": "StyleView",
            "description_width": ""
          }
        },
        "a9a0f8d9dd9a495e84e01ba43a70b6de": {
          "model_module": "@jupyter-widgets/controls",
          "model_name": "HBoxModel",
          "model_module_version": "1.5.0",
          "state": {
            "_dom_classes": [],
            "_model_module": "@jupyter-widgets/controls",
            "_model_module_version": "1.5.0",
            "_model_name": "HBoxModel",
            "_view_count": null,
            "_view_module": "@jupyter-widgets/controls",
            "_view_module_version": "1.5.0",
            "_view_name": "HBoxView",
            "box_style": "",
            "children": [
              "IPY_MODEL_4b6ddb70b1834f89a0605581675d0b7c",
              "IPY_MODEL_651777c0cada4994a37d6c63abe71168",
              "IPY_MODEL_90438be986734a0991a87899c3e30b48"
            ],
            "layout": "IPY_MODEL_e48d339d5dc143f0907542147e161bac"
          }
        },
        "4b6ddb70b1834f89a0605581675d0b7c": {
          "model_module": "@jupyter-widgets/controls",
          "model_name": "HTMLModel",
          "model_module_version": "1.5.0",
          "state": {
            "_dom_classes": [],
            "_model_module": "@jupyter-widgets/controls",
            "_model_module_version": "1.5.0",
            "_model_name": "HTMLModel",
            "_view_count": null,
            "_view_module": "@jupyter-widgets/controls",
            "_view_module_version": "1.5.0",
            "_view_name": "HTMLView",
            "description": "",
            "description_tooltip": null,
            "layout": "IPY_MODEL_fe7c80ec0ecb4288ac08959a606ae172",
            "placeholder": "​",
            "style": "IPY_MODEL_ead6448cc53d47a2b6aa82b1fc361d8a",
            "value": "Downloading: 100%"
          }
        },
        "651777c0cada4994a37d6c63abe71168": {
          "model_module": "@jupyter-widgets/controls",
          "model_name": "FloatProgressModel",
          "model_module_version": "1.5.0",
          "state": {
            "_dom_classes": [],
            "_model_module": "@jupyter-widgets/controls",
            "_model_module_version": "1.5.0",
            "_model_name": "FloatProgressModel",
            "_view_count": null,
            "_view_module": "@jupyter-widgets/controls",
            "_view_module_version": "1.5.0",
            "_view_name": "ProgressView",
            "bar_style": "success",
            "description": "",
            "description_tooltip": null,
            "layout": "IPY_MODEL_56bf742d5d614819bd2d9ce214c0cdba",
            "max": 570,
            "min": 0,
            "orientation": "horizontal",
            "style": "IPY_MODEL_33776a9f3b8d4cec87700bb644dcebad",
            "value": 570
          }
        },
        "90438be986734a0991a87899c3e30b48": {
          "model_module": "@jupyter-widgets/controls",
          "model_name": "HTMLModel",
          "model_module_version": "1.5.0",
          "state": {
            "_dom_classes": [],
            "_model_module": "@jupyter-widgets/controls",
            "_model_module_version": "1.5.0",
            "_model_name": "HTMLModel",
            "_view_count": null,
            "_view_module": "@jupyter-widgets/controls",
            "_view_module_version": "1.5.0",
            "_view_name": "HTMLView",
            "description": "",
            "description_tooltip": null,
            "layout": "IPY_MODEL_aa050553f6a84ddfadbba92ea06bcc19",
            "placeholder": "​",
            "style": "IPY_MODEL_879b3752ac134b9db345b5f94350c5f4",
            "value": " 570/570 [00:00&lt;00:00, 23.1kB/s]"
          }
        },
        "e48d339d5dc143f0907542147e161bac": {
          "model_module": "@jupyter-widgets/base",
          "model_name": "LayoutModel",
          "model_module_version": "1.2.0",
          "state": {
            "_model_module": "@jupyter-widgets/base",
            "_model_module_version": "1.2.0",
            "_model_name": "LayoutModel",
            "_view_count": null,
            "_view_module": "@jupyter-widgets/base",
            "_view_module_version": "1.2.0",
            "_view_name": "LayoutView",
            "align_content": null,
            "align_items": null,
            "align_self": null,
            "border": null,
            "bottom": null,
            "display": null,
            "flex": null,
            "flex_flow": null,
            "grid_area": null,
            "grid_auto_columns": null,
            "grid_auto_flow": null,
            "grid_auto_rows": null,
            "grid_column": null,
            "grid_gap": null,
            "grid_row": null,
            "grid_template_areas": null,
            "grid_template_columns": null,
            "grid_template_rows": null,
            "height": null,
            "justify_content": null,
            "justify_items": null,
            "left": null,
            "margin": null,
            "max_height": null,
            "max_width": null,
            "min_height": null,
            "min_width": null,
            "object_fit": null,
            "object_position": null,
            "order": null,
            "overflow": null,
            "overflow_x": null,
            "overflow_y": null,
            "padding": null,
            "right": null,
            "top": null,
            "visibility": null,
            "width": null
          }
        },
        "fe7c80ec0ecb4288ac08959a606ae172": {
          "model_module": "@jupyter-widgets/base",
          "model_name": "LayoutModel",
          "model_module_version": "1.2.0",
          "state": {
            "_model_module": "@jupyter-widgets/base",
            "_model_module_version": "1.2.0",
            "_model_name": "LayoutModel",
            "_view_count": null,
            "_view_module": "@jupyter-widgets/base",
            "_view_module_version": "1.2.0",
            "_view_name": "LayoutView",
            "align_content": null,
            "align_items": null,
            "align_self": null,
            "border": null,
            "bottom": null,
            "display": null,
            "flex": null,
            "flex_flow": null,
            "grid_area": null,
            "grid_auto_columns": null,
            "grid_auto_flow": null,
            "grid_auto_rows": null,
            "grid_column": null,
            "grid_gap": null,
            "grid_row": null,
            "grid_template_areas": null,
            "grid_template_columns": null,
            "grid_template_rows": null,
            "height": null,
            "justify_content": null,
            "justify_items": null,
            "left": null,
            "margin": null,
            "max_height": null,
            "max_width": null,
            "min_height": null,
            "min_width": null,
            "object_fit": null,
            "object_position": null,
            "order": null,
            "overflow": null,
            "overflow_x": null,
            "overflow_y": null,
            "padding": null,
            "right": null,
            "top": null,
            "visibility": null,
            "width": null
          }
        },
        "ead6448cc53d47a2b6aa82b1fc361d8a": {
          "model_module": "@jupyter-widgets/controls",
          "model_name": "DescriptionStyleModel",
          "model_module_version": "1.5.0",
          "state": {
            "_model_module": "@jupyter-widgets/controls",
            "_model_module_version": "1.5.0",
            "_model_name": "DescriptionStyleModel",
            "_view_count": null,
            "_view_module": "@jupyter-widgets/base",
            "_view_module_version": "1.2.0",
            "_view_name": "StyleView",
            "description_width": ""
          }
        },
        "56bf742d5d614819bd2d9ce214c0cdba": {
          "model_module": "@jupyter-widgets/base",
          "model_name": "LayoutModel",
          "model_module_version": "1.2.0",
          "state": {
            "_model_module": "@jupyter-widgets/base",
            "_model_module_version": "1.2.0",
            "_model_name": "LayoutModel",
            "_view_count": null,
            "_view_module": "@jupyter-widgets/base",
            "_view_module_version": "1.2.0",
            "_view_name": "LayoutView",
            "align_content": null,
            "align_items": null,
            "align_self": null,
            "border": null,
            "bottom": null,
            "display": null,
            "flex": null,
            "flex_flow": null,
            "grid_area": null,
            "grid_auto_columns": null,
            "grid_auto_flow": null,
            "grid_auto_rows": null,
            "grid_column": null,
            "grid_gap": null,
            "grid_row": null,
            "grid_template_areas": null,
            "grid_template_columns": null,
            "grid_template_rows": null,
            "height": null,
            "justify_content": null,
            "justify_items": null,
            "left": null,
            "margin": null,
            "max_height": null,
            "max_width": null,
            "min_height": null,
            "min_width": null,
            "object_fit": null,
            "object_position": null,
            "order": null,
            "overflow": null,
            "overflow_x": null,
            "overflow_y": null,
            "padding": null,
            "right": null,
            "top": null,
            "visibility": null,
            "width": null
          }
        },
        "33776a9f3b8d4cec87700bb644dcebad": {
          "model_module": "@jupyter-widgets/controls",
          "model_name": "ProgressStyleModel",
          "model_module_version": "1.5.0",
          "state": {
            "_model_module": "@jupyter-widgets/controls",
            "_model_module_version": "1.5.0",
            "_model_name": "ProgressStyleModel",
            "_view_count": null,
            "_view_module": "@jupyter-widgets/base",
            "_view_module_version": "1.2.0",
            "_view_name": "StyleView",
            "bar_color": null,
            "description_width": ""
          }
        },
        "aa050553f6a84ddfadbba92ea06bcc19": {
          "model_module": "@jupyter-widgets/base",
          "model_name": "LayoutModel",
          "model_module_version": "1.2.0",
          "state": {
            "_model_module": "@jupyter-widgets/base",
            "_model_module_version": "1.2.0",
            "_model_name": "LayoutModel",
            "_view_count": null,
            "_view_module": "@jupyter-widgets/base",
            "_view_module_version": "1.2.0",
            "_view_name": "LayoutView",
            "align_content": null,
            "align_items": null,
            "align_self": null,
            "border": null,
            "bottom": null,
            "display": null,
            "flex": null,
            "flex_flow": null,
            "grid_area": null,
            "grid_auto_columns": null,
            "grid_auto_flow": null,
            "grid_auto_rows": null,
            "grid_column": null,
            "grid_gap": null,
            "grid_row": null,
            "grid_template_areas": null,
            "grid_template_columns": null,
            "grid_template_rows": null,
            "height": null,
            "justify_content": null,
            "justify_items": null,
            "left": null,
            "margin": null,
            "max_height": null,
            "max_width": null,
            "min_height": null,
            "min_width": null,
            "object_fit": null,
            "object_position": null,
            "order": null,
            "overflow": null,
            "overflow_x": null,
            "overflow_y": null,
            "padding": null,
            "right": null,
            "top": null,
            "visibility": null,
            "width": null
          }
        },
        "879b3752ac134b9db345b5f94350c5f4": {
          "model_module": "@jupyter-widgets/controls",
          "model_name": "DescriptionStyleModel",
          "model_module_version": "1.5.0",
          "state": {
            "_model_module": "@jupyter-widgets/controls",
            "_model_module_version": "1.5.0",
            "_model_name": "DescriptionStyleModel",
            "_view_count": null,
            "_view_module": "@jupyter-widgets/base",
            "_view_module_version": "1.2.0",
            "_view_name": "StyleView",
            "description_width": ""
          }
        },
        "50e4e4247d8540f7b53e873570e92984": {
          "model_module": "@jupyter-widgets/controls",
          "model_name": "HBoxModel",
          "model_module_version": "1.5.0",
          "state": {
            "_dom_classes": [],
            "_model_module": "@jupyter-widgets/controls",
            "_model_module_version": "1.5.0",
            "_model_name": "HBoxModel",
            "_view_count": null,
            "_view_module": "@jupyter-widgets/controls",
            "_view_module_version": "1.5.0",
            "_view_name": "HBoxView",
            "box_style": "",
            "children": [
              "IPY_MODEL_dac30b0487ed4d3e8b13203d2b3b2583",
              "IPY_MODEL_fa1ff3f8c05241eb9884b1153ac43dcf",
              "IPY_MODEL_9be27b5e4fd841d69ddc82689e4d79a7"
            ],
            "layout": "IPY_MODEL_3ec6f38724674d93b2558c207e7bc4f9"
          }
        },
        "dac30b0487ed4d3e8b13203d2b3b2583": {
          "model_module": "@jupyter-widgets/controls",
          "model_name": "HTMLModel",
          "model_module_version": "1.5.0",
          "state": {
            "_dom_classes": [],
            "_model_module": "@jupyter-widgets/controls",
            "_model_module_version": "1.5.0",
            "_model_name": "HTMLModel",
            "_view_count": null,
            "_view_module": "@jupyter-widgets/controls",
            "_view_module_version": "1.5.0",
            "_view_name": "HTMLView",
            "description": "",
            "description_tooltip": null,
            "layout": "IPY_MODEL_b9be2581e7544877a6bd7fe8c827063d",
            "placeholder": "​",
            "style": "IPY_MODEL_ef97ee316faf47f69f59b92b6cb6f49f",
            "value": "Downloading: 100%"
          }
        },
        "fa1ff3f8c05241eb9884b1153ac43dcf": {
          "model_module": "@jupyter-widgets/controls",
          "model_name": "FloatProgressModel",
          "model_module_version": "1.5.0",
          "state": {
            "_dom_classes": [],
            "_model_module": "@jupyter-widgets/controls",
            "_model_module_version": "1.5.0",
            "_model_name": "FloatProgressModel",
            "_view_count": null,
            "_view_module": "@jupyter-widgets/controls",
            "_view_module_version": "1.5.0",
            "_view_name": "ProgressView",
            "bar_style": "success",
            "description": "",
            "description_tooltip": null,
            "layout": "IPY_MODEL_aa395f70b2264d6a91478a59e5a687a6",
            "max": 213450,
            "min": 0,
            "orientation": "horizontal",
            "style": "IPY_MODEL_11076f8e957143c6b0cb1aceb70fcda8",
            "value": 213450
          }
        },
        "9be27b5e4fd841d69ddc82689e4d79a7": {
          "model_module": "@jupyter-widgets/controls",
          "model_name": "HTMLModel",
          "model_module_version": "1.5.0",
          "state": {
            "_dom_classes": [],
            "_model_module": "@jupyter-widgets/controls",
            "_model_module_version": "1.5.0",
            "_model_name": "HTMLModel",
            "_view_count": null,
            "_view_module": "@jupyter-widgets/controls",
            "_view_module_version": "1.5.0",
            "_view_name": "HTMLView",
            "description": "",
            "description_tooltip": null,
            "layout": "IPY_MODEL_263d9b0588e14332953d1106b63cf9af",
            "placeholder": "​",
            "style": "IPY_MODEL_2f40006d3f384389a12ee2d362e41760",
            "value": " 213k/213k [00:00&lt;00:00, 310kB/s]"
          }
        },
        "3ec6f38724674d93b2558c207e7bc4f9": {
          "model_module": "@jupyter-widgets/base",
          "model_name": "LayoutModel",
          "model_module_version": "1.2.0",
          "state": {
            "_model_module": "@jupyter-widgets/base",
            "_model_module_version": "1.2.0",
            "_model_name": "LayoutModel",
            "_view_count": null,
            "_view_module": "@jupyter-widgets/base",
            "_view_module_version": "1.2.0",
            "_view_name": "LayoutView",
            "align_content": null,
            "align_items": null,
            "align_self": null,
            "border": null,
            "bottom": null,
            "display": null,
            "flex": null,
            "flex_flow": null,
            "grid_area": null,
            "grid_auto_columns": null,
            "grid_auto_flow": null,
            "grid_auto_rows": null,
            "grid_column": null,
            "grid_gap": null,
            "grid_row": null,
            "grid_template_areas": null,
            "grid_template_columns": null,
            "grid_template_rows": null,
            "height": null,
            "justify_content": null,
            "justify_items": null,
            "left": null,
            "margin": null,
            "max_height": null,
            "max_width": null,
            "min_height": null,
            "min_width": null,
            "object_fit": null,
            "object_position": null,
            "order": null,
            "overflow": null,
            "overflow_x": null,
            "overflow_y": null,
            "padding": null,
            "right": null,
            "top": null,
            "visibility": null,
            "width": null
          }
        },
        "b9be2581e7544877a6bd7fe8c827063d": {
          "model_module": "@jupyter-widgets/base",
          "model_name": "LayoutModel",
          "model_module_version": "1.2.0",
          "state": {
            "_model_module": "@jupyter-widgets/base",
            "_model_module_version": "1.2.0",
            "_model_name": "LayoutModel",
            "_view_count": null,
            "_view_module": "@jupyter-widgets/base",
            "_view_module_version": "1.2.0",
            "_view_name": "LayoutView",
            "align_content": null,
            "align_items": null,
            "align_self": null,
            "border": null,
            "bottom": null,
            "display": null,
            "flex": null,
            "flex_flow": null,
            "grid_area": null,
            "grid_auto_columns": null,
            "grid_auto_flow": null,
            "grid_auto_rows": null,
            "grid_column": null,
            "grid_gap": null,
            "grid_row": null,
            "grid_template_areas": null,
            "grid_template_columns": null,
            "grid_template_rows": null,
            "height": null,
            "justify_content": null,
            "justify_items": null,
            "left": null,
            "margin": null,
            "max_height": null,
            "max_width": null,
            "min_height": null,
            "min_width": null,
            "object_fit": null,
            "object_position": null,
            "order": null,
            "overflow": null,
            "overflow_x": null,
            "overflow_y": null,
            "padding": null,
            "right": null,
            "top": null,
            "visibility": null,
            "width": null
          }
        },
        "ef97ee316faf47f69f59b92b6cb6f49f": {
          "model_module": "@jupyter-widgets/controls",
          "model_name": "DescriptionStyleModel",
          "model_module_version": "1.5.0",
          "state": {
            "_model_module": "@jupyter-widgets/controls",
            "_model_module_version": "1.5.0",
            "_model_name": "DescriptionStyleModel",
            "_view_count": null,
            "_view_module": "@jupyter-widgets/base",
            "_view_module_version": "1.2.0",
            "_view_name": "StyleView",
            "description_width": ""
          }
        },
        "aa395f70b2264d6a91478a59e5a687a6": {
          "model_module": "@jupyter-widgets/base",
          "model_name": "LayoutModel",
          "model_module_version": "1.2.0",
          "state": {
            "_model_module": "@jupyter-widgets/base",
            "_model_module_version": "1.2.0",
            "_model_name": "LayoutModel",
            "_view_count": null,
            "_view_module": "@jupyter-widgets/base",
            "_view_module_version": "1.2.0",
            "_view_name": "LayoutView",
            "align_content": null,
            "align_items": null,
            "align_self": null,
            "border": null,
            "bottom": null,
            "display": null,
            "flex": null,
            "flex_flow": null,
            "grid_area": null,
            "grid_auto_columns": null,
            "grid_auto_flow": null,
            "grid_auto_rows": null,
            "grid_column": null,
            "grid_gap": null,
            "grid_row": null,
            "grid_template_areas": null,
            "grid_template_columns": null,
            "grid_template_rows": null,
            "height": null,
            "justify_content": null,
            "justify_items": null,
            "left": null,
            "margin": null,
            "max_height": null,
            "max_width": null,
            "min_height": null,
            "min_width": null,
            "object_fit": null,
            "object_position": null,
            "order": null,
            "overflow": null,
            "overflow_x": null,
            "overflow_y": null,
            "padding": null,
            "right": null,
            "top": null,
            "visibility": null,
            "width": null
          }
        },
        "11076f8e957143c6b0cb1aceb70fcda8": {
          "model_module": "@jupyter-widgets/controls",
          "model_name": "ProgressStyleModel",
          "model_module_version": "1.5.0",
          "state": {
            "_model_module": "@jupyter-widgets/controls",
            "_model_module_version": "1.5.0",
            "_model_name": "ProgressStyleModel",
            "_view_count": null,
            "_view_module": "@jupyter-widgets/base",
            "_view_module_version": "1.2.0",
            "_view_name": "StyleView",
            "bar_color": null,
            "description_width": ""
          }
        },
        "263d9b0588e14332953d1106b63cf9af": {
          "model_module": "@jupyter-widgets/base",
          "model_name": "LayoutModel",
          "model_module_version": "1.2.0",
          "state": {
            "_model_module": "@jupyter-widgets/base",
            "_model_module_version": "1.2.0",
            "_model_name": "LayoutModel",
            "_view_count": null,
            "_view_module": "@jupyter-widgets/base",
            "_view_module_version": "1.2.0",
            "_view_name": "LayoutView",
            "align_content": null,
            "align_items": null,
            "align_self": null,
            "border": null,
            "bottom": null,
            "display": null,
            "flex": null,
            "flex_flow": null,
            "grid_area": null,
            "grid_auto_columns": null,
            "grid_auto_flow": null,
            "grid_auto_rows": null,
            "grid_column": null,
            "grid_gap": null,
            "grid_row": null,
            "grid_template_areas": null,
            "grid_template_columns": null,
            "grid_template_rows": null,
            "height": null,
            "justify_content": null,
            "justify_items": null,
            "left": null,
            "margin": null,
            "max_height": null,
            "max_width": null,
            "min_height": null,
            "min_width": null,
            "object_fit": null,
            "object_position": null,
            "order": null,
            "overflow": null,
            "overflow_x": null,
            "overflow_y": null,
            "padding": null,
            "right": null,
            "top": null,
            "visibility": null,
            "width": null
          }
        },
        "2f40006d3f384389a12ee2d362e41760": {
          "model_module": "@jupyter-widgets/controls",
          "model_name": "DescriptionStyleModel",
          "model_module_version": "1.5.0",
          "state": {
            "_model_module": "@jupyter-widgets/controls",
            "_model_module_version": "1.5.0",
            "_model_name": "DescriptionStyleModel",
            "_view_count": null,
            "_view_module": "@jupyter-widgets/base",
            "_view_module_version": "1.2.0",
            "_view_name": "StyleView",
            "description_width": ""
          }
        },
        "e6dc765849924b348e48f03393a0e4f7": {
          "model_module": "@jupyter-widgets/controls",
          "model_name": "HBoxModel",
          "model_module_version": "1.5.0",
          "state": {
            "_dom_classes": [],
            "_model_module": "@jupyter-widgets/controls",
            "_model_module_version": "1.5.0",
            "_model_name": "HBoxModel",
            "_view_count": null,
            "_view_module": "@jupyter-widgets/controls",
            "_view_module_version": "1.5.0",
            "_view_name": "HBoxView",
            "box_style": "",
            "children": [
              "IPY_MODEL_65b522651fe94df381ba261b76e6501e",
              "IPY_MODEL_998f73cf9aa14a81ac6bc91092c18a11",
              "IPY_MODEL_8f36fa655968444a99f9a0bef2ef2242"
            ],
            "layout": "IPY_MODEL_895cab5e61ab47068610ff3b0ea38f50"
          }
        },
        "65b522651fe94df381ba261b76e6501e": {
          "model_module": "@jupyter-widgets/controls",
          "model_name": "HTMLModel",
          "model_module_version": "1.5.0",
          "state": {
            "_dom_classes": [],
            "_model_module": "@jupyter-widgets/controls",
            "_model_module_version": "1.5.0",
            "_model_name": "HTMLModel",
            "_view_count": null,
            "_view_module": "@jupyter-widgets/controls",
            "_view_module_version": "1.5.0",
            "_view_name": "HTMLView",
            "description": "",
            "description_tooltip": null,
            "layout": "IPY_MODEL_d275fd8019084115b00c2b87476035bc",
            "placeholder": "​",
            "style": "IPY_MODEL_fae9069bc1b94b889df5fc9626cc1114",
            "value": "Downloading: 100%"
          }
        },
        "998f73cf9aa14a81ac6bc91092c18a11": {
          "model_module": "@jupyter-widgets/controls",
          "model_name": "FloatProgressModel",
          "model_module_version": "1.5.0",
          "state": {
            "_dom_classes": [],
            "_model_module": "@jupyter-widgets/controls",
            "_model_module_version": "1.5.0",
            "_model_name": "FloatProgressModel",
            "_view_count": null,
            "_view_module": "@jupyter-widgets/controls",
            "_view_module_version": "1.5.0",
            "_view_name": "ProgressView",
            "bar_style": "success",
            "description": "",
            "description_tooltip": null,
            "layout": "IPY_MODEL_881d50f7d8cb4d00a2bfde6b5cebc8ba",
            "max": 435797,
            "min": 0,
            "orientation": "horizontal",
            "style": "IPY_MODEL_fd5ebfc581304edba4a43eab78e66817",
            "value": 435797
          }
        },
        "8f36fa655968444a99f9a0bef2ef2242": {
          "model_module": "@jupyter-widgets/controls",
          "model_name": "HTMLModel",
          "model_module_version": "1.5.0",
          "state": {
            "_dom_classes": [],
            "_model_module": "@jupyter-widgets/controls",
            "_model_module_version": "1.5.0",
            "_model_name": "HTMLModel",
            "_view_count": null,
            "_view_module": "@jupyter-widgets/controls",
            "_view_module_version": "1.5.0",
            "_view_name": "HTMLView",
            "description": "",
            "description_tooltip": null,
            "layout": "IPY_MODEL_36da517f9d9b454ca288b7f8ad4c173c",
            "placeholder": "​",
            "style": "IPY_MODEL_66dce22966b048d28551a7bab4a4cde0",
            "value": " 436k/436k [00:00&lt;00:00, 606kB/s]"
          }
        },
        "895cab5e61ab47068610ff3b0ea38f50": {
          "model_module": "@jupyter-widgets/base",
          "model_name": "LayoutModel",
          "model_module_version": "1.2.0",
          "state": {
            "_model_module": "@jupyter-widgets/base",
            "_model_module_version": "1.2.0",
            "_model_name": "LayoutModel",
            "_view_count": null,
            "_view_module": "@jupyter-widgets/base",
            "_view_module_version": "1.2.0",
            "_view_name": "LayoutView",
            "align_content": null,
            "align_items": null,
            "align_self": null,
            "border": null,
            "bottom": null,
            "display": null,
            "flex": null,
            "flex_flow": null,
            "grid_area": null,
            "grid_auto_columns": null,
            "grid_auto_flow": null,
            "grid_auto_rows": null,
            "grid_column": null,
            "grid_gap": null,
            "grid_row": null,
            "grid_template_areas": null,
            "grid_template_columns": null,
            "grid_template_rows": null,
            "height": null,
            "justify_content": null,
            "justify_items": null,
            "left": null,
            "margin": null,
            "max_height": null,
            "max_width": null,
            "min_height": null,
            "min_width": null,
            "object_fit": null,
            "object_position": null,
            "order": null,
            "overflow": null,
            "overflow_x": null,
            "overflow_y": null,
            "padding": null,
            "right": null,
            "top": null,
            "visibility": null,
            "width": null
          }
        },
        "d275fd8019084115b00c2b87476035bc": {
          "model_module": "@jupyter-widgets/base",
          "model_name": "LayoutModel",
          "model_module_version": "1.2.0",
          "state": {
            "_model_module": "@jupyter-widgets/base",
            "_model_module_version": "1.2.0",
            "_model_name": "LayoutModel",
            "_view_count": null,
            "_view_module": "@jupyter-widgets/base",
            "_view_module_version": "1.2.0",
            "_view_name": "LayoutView",
            "align_content": null,
            "align_items": null,
            "align_self": null,
            "border": null,
            "bottom": null,
            "display": null,
            "flex": null,
            "flex_flow": null,
            "grid_area": null,
            "grid_auto_columns": null,
            "grid_auto_flow": null,
            "grid_auto_rows": null,
            "grid_column": null,
            "grid_gap": null,
            "grid_row": null,
            "grid_template_areas": null,
            "grid_template_columns": null,
            "grid_template_rows": null,
            "height": null,
            "justify_content": null,
            "justify_items": null,
            "left": null,
            "margin": null,
            "max_height": null,
            "max_width": null,
            "min_height": null,
            "min_width": null,
            "object_fit": null,
            "object_position": null,
            "order": null,
            "overflow": null,
            "overflow_x": null,
            "overflow_y": null,
            "padding": null,
            "right": null,
            "top": null,
            "visibility": null,
            "width": null
          }
        },
        "fae9069bc1b94b889df5fc9626cc1114": {
          "model_module": "@jupyter-widgets/controls",
          "model_name": "DescriptionStyleModel",
          "model_module_version": "1.5.0",
          "state": {
            "_model_module": "@jupyter-widgets/controls",
            "_model_module_version": "1.5.0",
            "_model_name": "DescriptionStyleModel",
            "_view_count": null,
            "_view_module": "@jupyter-widgets/base",
            "_view_module_version": "1.2.0",
            "_view_name": "StyleView",
            "description_width": ""
          }
        },
        "881d50f7d8cb4d00a2bfde6b5cebc8ba": {
          "model_module": "@jupyter-widgets/base",
          "model_name": "LayoutModel",
          "model_module_version": "1.2.0",
          "state": {
            "_model_module": "@jupyter-widgets/base",
            "_model_module_version": "1.2.0",
            "_model_name": "LayoutModel",
            "_view_count": null,
            "_view_module": "@jupyter-widgets/base",
            "_view_module_version": "1.2.0",
            "_view_name": "LayoutView",
            "align_content": null,
            "align_items": null,
            "align_self": null,
            "border": null,
            "bottom": null,
            "display": null,
            "flex": null,
            "flex_flow": null,
            "grid_area": null,
            "grid_auto_columns": null,
            "grid_auto_flow": null,
            "grid_auto_rows": null,
            "grid_column": null,
            "grid_gap": null,
            "grid_row": null,
            "grid_template_areas": null,
            "grid_template_columns": null,
            "grid_template_rows": null,
            "height": null,
            "justify_content": null,
            "justify_items": null,
            "left": null,
            "margin": null,
            "max_height": null,
            "max_width": null,
            "min_height": null,
            "min_width": null,
            "object_fit": null,
            "object_position": null,
            "order": null,
            "overflow": null,
            "overflow_x": null,
            "overflow_y": null,
            "padding": null,
            "right": null,
            "top": null,
            "visibility": null,
            "width": null
          }
        },
        "fd5ebfc581304edba4a43eab78e66817": {
          "model_module": "@jupyter-widgets/controls",
          "model_name": "ProgressStyleModel",
          "model_module_version": "1.5.0",
          "state": {
            "_model_module": "@jupyter-widgets/controls",
            "_model_module_version": "1.5.0",
            "_model_name": "ProgressStyleModel",
            "_view_count": null,
            "_view_module": "@jupyter-widgets/base",
            "_view_module_version": "1.2.0",
            "_view_name": "StyleView",
            "bar_color": null,
            "description_width": ""
          }
        },
        "36da517f9d9b454ca288b7f8ad4c173c": {
          "model_module": "@jupyter-widgets/base",
          "model_name": "LayoutModel",
          "model_module_version": "1.2.0",
          "state": {
            "_model_module": "@jupyter-widgets/base",
            "_model_module_version": "1.2.0",
            "_model_name": "LayoutModel",
            "_view_count": null,
            "_view_module": "@jupyter-widgets/base",
            "_view_module_version": "1.2.0",
            "_view_name": "LayoutView",
            "align_content": null,
            "align_items": null,
            "align_self": null,
            "border": null,
            "bottom": null,
            "display": null,
            "flex": null,
            "flex_flow": null,
            "grid_area": null,
            "grid_auto_columns": null,
            "grid_auto_flow": null,
            "grid_auto_rows": null,
            "grid_column": null,
            "grid_gap": null,
            "grid_row": null,
            "grid_template_areas": null,
            "grid_template_columns": null,
            "grid_template_rows": null,
            "height": null,
            "justify_content": null,
            "justify_items": null,
            "left": null,
            "margin": null,
            "max_height": null,
            "max_width": null,
            "min_height": null,
            "min_width": null,
            "object_fit": null,
            "object_position": null,
            "order": null,
            "overflow": null,
            "overflow_x": null,
            "overflow_y": null,
            "padding": null,
            "right": null,
            "top": null,
            "visibility": null,
            "width": null
          }
        },
        "66dce22966b048d28551a7bab4a4cde0": {
          "model_module": "@jupyter-widgets/controls",
          "model_name": "DescriptionStyleModel",
          "model_module_version": "1.5.0",
          "state": {
            "_model_module": "@jupyter-widgets/controls",
            "_model_module_version": "1.5.0",
            "_model_name": "DescriptionStyleModel",
            "_view_count": null,
            "_view_module": "@jupyter-widgets/base",
            "_view_module_version": "1.2.0",
            "_view_name": "StyleView",
            "description_width": ""
          }
        },
        "d04f6ff8a8db438e82b4f0a8862e1f6d": {
          "model_module": "@jupyter-widgets/controls",
          "model_name": "HBoxModel",
          "model_module_version": "1.5.0",
          "state": {
            "_dom_classes": [],
            "_model_module": "@jupyter-widgets/controls",
            "_model_module_version": "1.5.0",
            "_model_name": "HBoxModel",
            "_view_count": null,
            "_view_module": "@jupyter-widgets/controls",
            "_view_module_version": "1.5.0",
            "_view_name": "HBoxView",
            "box_style": "",
            "children": [
              "IPY_MODEL_549a16d447394ca3890dec3d5550225a",
              "IPY_MODEL_ae9375c0abcf4856a465e0e7de2c6444",
              "IPY_MODEL_f9bd059d92884590b4ed8889a94ef62e"
            ],
            "layout": "IPY_MODEL_512838652e824eacbdd17d23cc8a117d"
          }
        },
        "549a16d447394ca3890dec3d5550225a": {
          "model_module": "@jupyter-widgets/controls",
          "model_name": "HTMLModel",
          "model_module_version": "1.5.0",
          "state": {
            "_dom_classes": [],
            "_model_module": "@jupyter-widgets/controls",
            "_model_module_version": "1.5.0",
            "_model_name": "HTMLModel",
            "_view_count": null,
            "_view_module": "@jupyter-widgets/controls",
            "_view_module_version": "1.5.0",
            "_view_name": "HTMLView",
            "description": "",
            "description_tooltip": null,
            "layout": "IPY_MODEL_75e48c5373e6492d8339cd1c8cae5eb2",
            "placeholder": "​",
            "style": "IPY_MODEL_8e68ef3b7a9045e3b66c7bab3ccd516d",
            "value": "Downloading: 100%"
          }
        },
        "ae9375c0abcf4856a465e0e7de2c6444": {
          "model_module": "@jupyter-widgets/controls",
          "model_name": "FloatProgressModel",
          "model_module_version": "1.5.0",
          "state": {
            "_dom_classes": [],
            "_model_module": "@jupyter-widgets/controls",
            "_model_module_version": "1.5.0",
            "_model_name": "FloatProgressModel",
            "_view_count": null,
            "_view_module": "@jupyter-widgets/controls",
            "_view_module_version": "1.5.0",
            "_view_name": "ProgressView",
            "bar_style": "success",
            "description": "",
            "description_tooltip": null,
            "layout": "IPY_MODEL_36c29cb5f0e14e4caf510bc4b23b128b",
            "max": 526681800,
            "min": 0,
            "orientation": "horizontal",
            "style": "IPY_MODEL_8bd5fcafd4884092b0e1218da23f2e20",
            "value": 526681800
          }
        },
        "f9bd059d92884590b4ed8889a94ef62e": {
          "model_module": "@jupyter-widgets/controls",
          "model_name": "HTMLModel",
          "model_module_version": "1.5.0",
          "state": {
            "_dom_classes": [],
            "_model_module": "@jupyter-widgets/controls",
            "_model_module_version": "1.5.0",
            "_model_name": "HTMLModel",
            "_view_count": null,
            "_view_module": "@jupyter-widgets/controls",
            "_view_module_version": "1.5.0",
            "_view_name": "HTMLView",
            "description": "",
            "description_tooltip": null,
            "layout": "IPY_MODEL_de2155d861754ab0b759d87923da62e0",
            "placeholder": "​",
            "style": "IPY_MODEL_e8d98e9961754d1f85263360b64b37f8",
            "value": " 527M/527M [03:22&lt;00:00, 65.4MB/s]"
          }
        },
        "512838652e824eacbdd17d23cc8a117d": {
          "model_module": "@jupyter-widgets/base",
          "model_name": "LayoutModel",
          "model_module_version": "1.2.0",
          "state": {
            "_model_module": "@jupyter-widgets/base",
            "_model_module_version": "1.2.0",
            "_model_name": "LayoutModel",
            "_view_count": null,
            "_view_module": "@jupyter-widgets/base",
            "_view_module_version": "1.2.0",
            "_view_name": "LayoutView",
            "align_content": null,
            "align_items": null,
            "align_self": null,
            "border": null,
            "bottom": null,
            "display": null,
            "flex": null,
            "flex_flow": null,
            "grid_area": null,
            "grid_auto_columns": null,
            "grid_auto_flow": null,
            "grid_auto_rows": null,
            "grid_column": null,
            "grid_gap": null,
            "grid_row": null,
            "grid_template_areas": null,
            "grid_template_columns": null,
            "grid_template_rows": null,
            "height": null,
            "justify_content": null,
            "justify_items": null,
            "left": null,
            "margin": null,
            "max_height": null,
            "max_width": null,
            "min_height": null,
            "min_width": null,
            "object_fit": null,
            "object_position": null,
            "order": null,
            "overflow": null,
            "overflow_x": null,
            "overflow_y": null,
            "padding": null,
            "right": null,
            "top": null,
            "visibility": null,
            "width": null
          }
        },
        "75e48c5373e6492d8339cd1c8cae5eb2": {
          "model_module": "@jupyter-widgets/base",
          "model_name": "LayoutModel",
          "model_module_version": "1.2.0",
          "state": {
            "_model_module": "@jupyter-widgets/base",
            "_model_module_version": "1.2.0",
            "_model_name": "LayoutModel",
            "_view_count": null,
            "_view_module": "@jupyter-widgets/base",
            "_view_module_version": "1.2.0",
            "_view_name": "LayoutView",
            "align_content": null,
            "align_items": null,
            "align_self": null,
            "border": null,
            "bottom": null,
            "display": null,
            "flex": null,
            "flex_flow": null,
            "grid_area": null,
            "grid_auto_columns": null,
            "grid_auto_flow": null,
            "grid_auto_rows": null,
            "grid_column": null,
            "grid_gap": null,
            "grid_row": null,
            "grid_template_areas": null,
            "grid_template_columns": null,
            "grid_template_rows": null,
            "height": null,
            "justify_content": null,
            "justify_items": null,
            "left": null,
            "margin": null,
            "max_height": null,
            "max_width": null,
            "min_height": null,
            "min_width": null,
            "object_fit": null,
            "object_position": null,
            "order": null,
            "overflow": null,
            "overflow_x": null,
            "overflow_y": null,
            "padding": null,
            "right": null,
            "top": null,
            "visibility": null,
            "width": null
          }
        },
        "8e68ef3b7a9045e3b66c7bab3ccd516d": {
          "model_module": "@jupyter-widgets/controls",
          "model_name": "DescriptionStyleModel",
          "model_module_version": "1.5.0",
          "state": {
            "_model_module": "@jupyter-widgets/controls",
            "_model_module_version": "1.5.0",
            "_model_name": "DescriptionStyleModel",
            "_view_count": null,
            "_view_module": "@jupyter-widgets/base",
            "_view_module_version": "1.2.0",
            "_view_name": "StyleView",
            "description_width": ""
          }
        },
        "36c29cb5f0e14e4caf510bc4b23b128b": {
          "model_module": "@jupyter-widgets/base",
          "model_name": "LayoutModel",
          "model_module_version": "1.2.0",
          "state": {
            "_model_module": "@jupyter-widgets/base",
            "_model_module_version": "1.2.0",
            "_model_name": "LayoutModel",
            "_view_count": null,
            "_view_module": "@jupyter-widgets/base",
            "_view_module_version": "1.2.0",
            "_view_name": "LayoutView",
            "align_content": null,
            "align_items": null,
            "align_self": null,
            "border": null,
            "bottom": null,
            "display": null,
            "flex": null,
            "flex_flow": null,
            "grid_area": null,
            "grid_auto_columns": null,
            "grid_auto_flow": null,
            "grid_auto_rows": null,
            "grid_column": null,
            "grid_gap": null,
            "grid_row": null,
            "grid_template_areas": null,
            "grid_template_columns": null,
            "grid_template_rows": null,
            "height": null,
            "justify_content": null,
            "justify_items": null,
            "left": null,
            "margin": null,
            "max_height": null,
            "max_width": null,
            "min_height": null,
            "min_width": null,
            "object_fit": null,
            "object_position": null,
            "order": null,
            "overflow": null,
            "overflow_x": null,
            "overflow_y": null,
            "padding": null,
            "right": null,
            "top": null,
            "visibility": null,
            "width": null
          }
        },
        "8bd5fcafd4884092b0e1218da23f2e20": {
          "model_module": "@jupyter-widgets/controls",
          "model_name": "ProgressStyleModel",
          "model_module_version": "1.5.0",
          "state": {
            "_model_module": "@jupyter-widgets/controls",
            "_model_module_version": "1.5.0",
            "_model_name": "ProgressStyleModel",
            "_view_count": null,
            "_view_module": "@jupyter-widgets/base",
            "_view_module_version": "1.2.0",
            "_view_name": "StyleView",
            "bar_color": null,
            "description_width": ""
          }
        },
        "de2155d861754ab0b759d87923da62e0": {
          "model_module": "@jupyter-widgets/base",
          "model_name": "LayoutModel",
          "model_module_version": "1.2.0",
          "state": {
            "_model_module": "@jupyter-widgets/base",
            "_model_module_version": "1.2.0",
            "_model_name": "LayoutModel",
            "_view_count": null,
            "_view_module": "@jupyter-widgets/base",
            "_view_module_version": "1.2.0",
            "_view_name": "LayoutView",
            "align_content": null,
            "align_items": null,
            "align_self": null,
            "border": null,
            "bottom": null,
            "display": null,
            "flex": null,
            "flex_flow": null,
            "grid_area": null,
            "grid_auto_columns": null,
            "grid_auto_flow": null,
            "grid_auto_rows": null,
            "grid_column": null,
            "grid_gap": null,
            "grid_row": null,
            "grid_template_areas": null,
            "grid_template_columns": null,
            "grid_template_rows": null,
            "height": null,
            "justify_content": null,
            "justify_items": null,
            "left": null,
            "margin": null,
            "max_height": null,
            "max_width": null,
            "min_height": null,
            "min_width": null,
            "object_fit": null,
            "object_position": null,
            "order": null,
            "overflow": null,
            "overflow_x": null,
            "overflow_y": null,
            "padding": null,
            "right": null,
            "top": null,
            "visibility": null,
            "width": null
          }
        },
        "e8d98e9961754d1f85263360b64b37f8": {
          "model_module": "@jupyter-widgets/controls",
          "model_name": "DescriptionStyleModel",
          "model_module_version": "1.5.0",
          "state": {
            "_model_module": "@jupyter-widgets/controls",
            "_model_module_version": "1.5.0",
            "_model_name": "DescriptionStyleModel",
            "_view_count": null,
            "_view_module": "@jupyter-widgets/base",
            "_view_module_version": "1.2.0",
            "_view_name": "StyleView",
            "description_width": ""
          }
        }
      }
    }
  },
  "nbformat": 4,
  "nbformat_minor": 0
}