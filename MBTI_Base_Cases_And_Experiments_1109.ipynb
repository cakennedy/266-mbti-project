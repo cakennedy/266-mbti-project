{
  "cells": [
    {
      "cell_type": "markdown",
      "metadata": {
        "id": "view-in-github",
        "colab_type": "text"
      },
      "source": [
        "<a href=\"https://colab.research.google.com/github/cakennedy/266-mbti-project/blob/main/MBTI_Base_Cases_And_Experiments_1109.ipynb\" target=\"_parent\"><img src=\"https://colab.research.google.com/assets/colab-badge.svg\" alt=\"Open In Colab\"/></a>"
      ]
    },
    {
      "cell_type": "markdown",
      "metadata": {
        "id": "zza_ThPGX-G-"
      },
      "source": [
        "# W266 Final Project\n",
        "# Model Building\n",
        "# October 22, 2022\n",
        "# John Clark, Shrinivas Joshi, Courtney Kennedy\n",
        "\n",
        "\n",
        "[![Open In Colab](https://colab.research.google.com/assets/colab-badge.svg)](https://colab.research.google.com/github/cakennedy/266-mbti-project/blob/main/notebooks/MBTI_Base_Cases_And_Experiments.ipynb#)"
      ]
    },
    {
      "cell_type": "code",
      "execution_count": 8,
      "metadata": {
        "colab": {
          "base_uri": "https://localhost:8080/"
        },
        "id": "7x9vrX02sLiA",
        "outputId": "087e1caa-a216-4b40-f85e-4354c00b2576"
      },
      "outputs": [
        {
          "output_type": "stream",
          "name": "stdout",
          "text": [
            "Looking in indexes: https://pypi.org/simple, https://us-python.pkg.dev/colab-wheels/public/simple/\n",
            "Requirement already satisfied: transformers in /usr/local/lib/python3.7/dist-packages (4.24.0)\n",
            "Requirement already satisfied: huggingface-hub<1.0,>=0.10.0 in /usr/local/lib/python3.7/dist-packages (from transformers) (0.10.1)\n",
            "Requirement already satisfied: filelock in /usr/local/lib/python3.7/dist-packages (from transformers) (3.8.0)\n",
            "Requirement already satisfied: numpy>=1.17 in /usr/local/lib/python3.7/dist-packages (from transformers) (1.21.6)\n",
            "Requirement already satisfied: importlib-metadata in /usr/local/lib/python3.7/dist-packages (from transformers) (4.13.0)\n",
            "Requirement already satisfied: requests in /usr/local/lib/python3.7/dist-packages (from transformers) (2.23.0)\n",
            "Requirement already satisfied: packaging>=20.0 in /usr/local/lib/python3.7/dist-packages (from transformers) (21.3)\n",
            "Requirement already satisfied: regex!=2019.12.17 in /usr/local/lib/python3.7/dist-packages (from transformers) (2022.6.2)\n",
            "Requirement already satisfied: tokenizers!=0.11.3,<0.14,>=0.11.1 in /usr/local/lib/python3.7/dist-packages (from transformers) (0.13.2)\n",
            "Requirement already satisfied: tqdm>=4.27 in /usr/local/lib/python3.7/dist-packages (from transformers) (4.64.1)\n",
            "Requirement already satisfied: pyyaml>=5.1 in /usr/local/lib/python3.7/dist-packages (from transformers) (6.0)\n",
            "Requirement already satisfied: typing-extensions>=3.7.4.3 in /usr/local/lib/python3.7/dist-packages (from huggingface-hub<1.0,>=0.10.0->transformers) (4.1.1)\n",
            "Requirement already satisfied: pyparsing!=3.0.5,>=2.0.2 in /usr/local/lib/python3.7/dist-packages (from packaging>=20.0->transformers) (3.0.9)\n",
            "Requirement already satisfied: zipp>=0.5 in /usr/local/lib/python3.7/dist-packages (from importlib-metadata->transformers) (3.10.0)\n",
            "Requirement already satisfied: certifi>=2017.4.17 in /usr/local/lib/python3.7/dist-packages (from requests->transformers) (2022.9.24)\n",
            "Requirement already satisfied: idna<3,>=2.5 in /usr/local/lib/python3.7/dist-packages (from requests->transformers) (2.10)\n",
            "Requirement already satisfied: urllib3!=1.25.0,!=1.25.1,<1.26,>=1.21.1 in /usr/local/lib/python3.7/dist-packages (from requests->transformers) (1.24.3)\n",
            "Requirement already satisfied: chardet<4,>=3.0.2 in /usr/local/lib/python3.7/dist-packages (from requests->transformers) (3.0.4)\n"
          ]
        },
        {
          "output_type": "stream",
          "name": "stderr",
          "text": [
            "[nltk_data] Downloading package omw-1.4 to /root/nltk_data...\n",
            "[nltk_data]   Package omw-1.4 is already up-to-date!\n",
            "[nltk_data] Downloading package punkt to /root/nltk_data...\n",
            "[nltk_data]   Package punkt is already up-to-date!\n",
            "[nltk_data] Downloading package stopwords to /root/nltk_data...\n",
            "[nltk_data]   Package stopwords is already up-to-date!\n",
            "[nltk_data] Downloading package wordnet to /root/nltk_data...\n",
            "[nltk_data]   Package wordnet is already up-to-date!\n"
          ]
        }
      ],
      "source": [
        "# Import libraries\n",
        "!pip install transformers\n",
        "from google.colab import files\n",
        "from google.cloud import storage\n",
        "import pandas as pd\n",
        "import io\n",
        "from io import BytesIO\n",
        "import matplotlib.pyplot as plt\n",
        "import altair as alt\n",
        "import numpy as np\n",
        "import textwrap\n",
        "import nltk\n",
        "nltk.download('omw-1.4')\n",
        "nltk.download('punkt')\n",
        "nltk.download('stopwords')\n",
        "nltk.download('wordnet')\n",
        "from nltk import word_tokenize\n",
        "from nltk.corpus import stopwords\n",
        "import re\n",
        "from sklearn.feature_extraction.text import TfidfVectorizer\n",
        "from sklearn.linear_model import LogisticRegression\n",
        "from sklearn.svm import LinearSVC\n",
        "from sklearn.feature_extraction.text import CountVectorizer\n",
        "from sklearn.feature_extraction.text import TfidfVectorizer\n",
        "from sklearn.model_selection import train_test_split\n",
        "import tensorflow as tf\n",
        "from tensorflow import keras\n",
        "from tensorflow.keras import layers\n",
        "import sys\n",
        "import csv\n",
        "from sklearn.metrics import confusion_matrix\n",
        "from sklearn import metrics\n",
        "from sklearn.metrics import accuracy_score\n",
        "from sklearn.metrics import classification_report\n",
        "from sklearn.model_selection import GridSearchCV\n",
        "\n",
        "# These auto classes load the right type of tokenizer and model based on a model name\n",
        "from transformers import AutoTokenizer, TFAutoModel\n",
        "from transformers import BertTokenizer, TFBertModel"
      ]
    },
    {
      "cell_type": "markdown",
      "metadata": {
        "id": "PpPKSPQ6kB-X"
      },
      "source": [
        "##Load Files\n",
        "\n",
        "The first step in this notebook is the load the train, dev and test files files created by PredictPersonality_Type_1018.ipynb. "
      ]
    },
    {
      "cell_type": "code",
      "execution_count": 9,
      "metadata": {
        "colab": {
          "base_uri": "https://localhost:8080/",
          "height": 73
        },
        "id": "s6zp5ZeaszPZ",
        "outputId": "97b9d5d7-d6c0-43c9-a771-78b36de9bd84"
      },
      "outputs": [
        {
          "output_type": "display_data",
          "data": {
            "text/plain": [
              "<IPython.core.display.HTML object>"
            ],
            "text/html": [
              "\n",
              "     <input type=\"file\" id=\"files-d579a71e-eaf9-46fe-9390-4115afea265b\" name=\"files[]\" multiple disabled\n",
              "        style=\"border:none\" />\n",
              "     <output id=\"result-d579a71e-eaf9-46fe-9390-4115afea265b\">\n",
              "      Upload widget is only available when the cell has been executed in the\n",
              "      current browser session. Please rerun this cell to enable.\n",
              "      </output>\n",
              "      <script>// Copyright 2017 Google LLC\n",
              "//\n",
              "// Licensed under the Apache License, Version 2.0 (the \"License\");\n",
              "// you may not use this file except in compliance with the License.\n",
              "// You may obtain a copy of the License at\n",
              "//\n",
              "//      http://www.apache.org/licenses/LICENSE-2.0\n",
              "//\n",
              "// Unless required by applicable law or agreed to in writing, software\n",
              "// distributed under the License is distributed on an \"AS IS\" BASIS,\n",
              "// WITHOUT WARRANTIES OR CONDITIONS OF ANY KIND, either express or implied.\n",
              "// See the License for the specific language governing permissions and\n",
              "// limitations under the License.\n",
              "\n",
              "/**\n",
              " * @fileoverview Helpers for google.colab Python module.\n",
              " */\n",
              "(function(scope) {\n",
              "function span(text, styleAttributes = {}) {\n",
              "  const element = document.createElement('span');\n",
              "  element.textContent = text;\n",
              "  for (const key of Object.keys(styleAttributes)) {\n",
              "    element.style[key] = styleAttributes[key];\n",
              "  }\n",
              "  return element;\n",
              "}\n",
              "\n",
              "// Max number of bytes which will be uploaded at a time.\n",
              "const MAX_PAYLOAD_SIZE = 100 * 1024;\n",
              "\n",
              "function _uploadFiles(inputId, outputId) {\n",
              "  const steps = uploadFilesStep(inputId, outputId);\n",
              "  const outputElement = document.getElementById(outputId);\n",
              "  // Cache steps on the outputElement to make it available for the next call\n",
              "  // to uploadFilesContinue from Python.\n",
              "  outputElement.steps = steps;\n",
              "\n",
              "  return _uploadFilesContinue(outputId);\n",
              "}\n",
              "\n",
              "// This is roughly an async generator (not supported in the browser yet),\n",
              "// where there are multiple asynchronous steps and the Python side is going\n",
              "// to poll for completion of each step.\n",
              "// This uses a Promise to block the python side on completion of each step,\n",
              "// then passes the result of the previous step as the input to the next step.\n",
              "function _uploadFilesContinue(outputId) {\n",
              "  const outputElement = document.getElementById(outputId);\n",
              "  const steps = outputElement.steps;\n",
              "\n",
              "  const next = steps.next(outputElement.lastPromiseValue);\n",
              "  return Promise.resolve(next.value.promise).then((value) => {\n",
              "    // Cache the last promise value to make it available to the next\n",
              "    // step of the generator.\n",
              "    outputElement.lastPromiseValue = value;\n",
              "    return next.value.response;\n",
              "  });\n",
              "}\n",
              "\n",
              "/**\n",
              " * Generator function which is called between each async step of the upload\n",
              " * process.\n",
              " * @param {string} inputId Element ID of the input file picker element.\n",
              " * @param {string} outputId Element ID of the output display.\n",
              " * @return {!Iterable<!Object>} Iterable of next steps.\n",
              " */\n",
              "function* uploadFilesStep(inputId, outputId) {\n",
              "  const inputElement = document.getElementById(inputId);\n",
              "  inputElement.disabled = false;\n",
              "\n",
              "  const outputElement = document.getElementById(outputId);\n",
              "  outputElement.innerHTML = '';\n",
              "\n",
              "  const pickedPromise = new Promise((resolve) => {\n",
              "    inputElement.addEventListener('change', (e) => {\n",
              "      resolve(e.target.files);\n",
              "    });\n",
              "  });\n",
              "\n",
              "  const cancel = document.createElement('button');\n",
              "  inputElement.parentElement.appendChild(cancel);\n",
              "  cancel.textContent = 'Cancel upload';\n",
              "  const cancelPromise = new Promise((resolve) => {\n",
              "    cancel.onclick = () => {\n",
              "      resolve(null);\n",
              "    };\n",
              "  });\n",
              "\n",
              "  // Wait for the user to pick the files.\n",
              "  const files = yield {\n",
              "    promise: Promise.race([pickedPromise, cancelPromise]),\n",
              "    response: {\n",
              "      action: 'starting',\n",
              "    }\n",
              "  };\n",
              "\n",
              "  cancel.remove();\n",
              "\n",
              "  // Disable the input element since further picks are not allowed.\n",
              "  inputElement.disabled = true;\n",
              "\n",
              "  if (!files) {\n",
              "    return {\n",
              "      response: {\n",
              "        action: 'complete',\n",
              "      }\n",
              "    };\n",
              "  }\n",
              "\n",
              "  for (const file of files) {\n",
              "    const li = document.createElement('li');\n",
              "    li.append(span(file.name, {fontWeight: 'bold'}));\n",
              "    li.append(span(\n",
              "        `(${file.type || 'n/a'}) - ${file.size} bytes, ` +\n",
              "        `last modified: ${\n",
              "            file.lastModifiedDate ? file.lastModifiedDate.toLocaleDateString() :\n",
              "                                    'n/a'} - `));\n",
              "    const percent = span('0% done');\n",
              "    li.appendChild(percent);\n",
              "\n",
              "    outputElement.appendChild(li);\n",
              "\n",
              "    const fileDataPromise = new Promise((resolve) => {\n",
              "      const reader = new FileReader();\n",
              "      reader.onload = (e) => {\n",
              "        resolve(e.target.result);\n",
              "      };\n",
              "      reader.readAsArrayBuffer(file);\n",
              "    });\n",
              "    // Wait for the data to be ready.\n",
              "    let fileData = yield {\n",
              "      promise: fileDataPromise,\n",
              "      response: {\n",
              "        action: 'continue',\n",
              "      }\n",
              "    };\n",
              "\n",
              "    // Use a chunked sending to avoid message size limits. See b/62115660.\n",
              "    let position = 0;\n",
              "    do {\n",
              "      const length = Math.min(fileData.byteLength - position, MAX_PAYLOAD_SIZE);\n",
              "      const chunk = new Uint8Array(fileData, position, length);\n",
              "      position += length;\n",
              "\n",
              "      const base64 = btoa(String.fromCharCode.apply(null, chunk));\n",
              "      yield {\n",
              "        response: {\n",
              "          action: 'append',\n",
              "          file: file.name,\n",
              "          data: base64,\n",
              "        },\n",
              "      };\n",
              "\n",
              "      let percentDone = fileData.byteLength === 0 ?\n",
              "          100 :\n",
              "          Math.round((position / fileData.byteLength) * 100);\n",
              "      percent.textContent = `${percentDone}% done`;\n",
              "\n",
              "    } while (position < fileData.byteLength);\n",
              "  }\n",
              "\n",
              "  // All done.\n",
              "  yield {\n",
              "    response: {\n",
              "      action: 'complete',\n",
              "    }\n",
              "  };\n",
              "}\n",
              "\n",
              "scope.google = scope.google || {};\n",
              "scope.google.colab = scope.google.colab || {};\n",
              "scope.google.colab._files = {\n",
              "  _uploadFiles,\n",
              "  _uploadFilesContinue,\n",
              "};\n",
              "})(self);\n",
              "</script> "
            ]
          },
          "metadata": {}
        },
        {
          "output_type": "stream",
          "name": "stdout",
          "text": [
            "Saving pacific-castle-360400-a3ca89f64de6.json to pacific-castle-360400-a3ca89f64de6 (1).json\n"
          ]
        }
      ],
      "source": [
        "#Manually upload JSON file for authentication\n",
        "uploaded = files.upload()"
      ]
    },
    {
      "cell_type": "code",
      "source": [
        "#utility for reading csv file from shared Google Cloud storage\n",
        "def read_csv_file( filename,\n",
        "                    encoding='utf-8',\n",
        "                    separator=',' ):\n",
        "    '''This function reads a file from the google cloud storage bucket. Input\n",
        "    parameters include the filename, encoding and CSV file separators.'''\n",
        "\n",
        "    #Grab blob posts file and download as string\n",
        "    blobby = bucket.blob(filename)\n",
        "    blobby_string = blobby.download_as_string()\n",
        "\n",
        "    #Convert to pandas\n",
        "    df = pd.read_csv(io.BytesIO(blobby_string), encoding=encoding, \\\n",
        "                     sep=separator, engine='python')\n",
        "   \n",
        "    return df"
      ],
      "metadata": {
        "id": "PaLY913j6_SZ"
      },
      "execution_count": 10,
      "outputs": []
    },
    {
      "cell_type": "code",
      "source": [
        "# Google collab premium utilities status check\n",
        "gpu_info = !nvidia-smi\n",
        "gpu_info = '\\n'.join(gpu_info)\n",
        "if gpu_info.find('failed') >= 0:\n",
        "  print('Not connected to a GPU')\n",
        "else:\n",
        "  print(gpu_info)\n",
        "\n",
        "print( '\\n')\n",
        "\n",
        "# RAM\n",
        "from psutil import virtual_memory\n",
        "ram_gb = virtual_memory().total / 1e9\n",
        "print('Your runtime has {:.1f} gigabytes of available RAM\\n'.format(ram_gb))\n",
        "\n",
        "if ram_gb < 20:\n",
        "  print('Not using a high-RAM runtime')\n",
        "else:\n",
        "  print('You are using a high-RAM runtime!')"
      ],
      "metadata": {
        "colab": {
          "base_uri": "https://localhost:8080/"
        },
        "id": "9bdAUDFH1Oyy",
        "outputId": "4024c5d1-8586-4a3e-ab22-41c0cf2c46b7"
      },
      "execution_count": 11,
      "outputs": [
        {
          "output_type": "stream",
          "name": "stdout",
          "text": [
            "Thu Nov 10 20:47:59 2022       \n",
            "+-----------------------------------------------------------------------------+\n",
            "| NVIDIA-SMI 460.32.03    Driver Version: 460.32.03    CUDA Version: 11.2     |\n",
            "|-------------------------------+----------------------+----------------------+\n",
            "| GPU  Name        Persistence-M| Bus-Id        Disp.A | Volatile Uncorr. ECC |\n",
            "| Fan  Temp  Perf  Pwr:Usage/Cap|         Memory-Usage | GPU-Util  Compute M. |\n",
            "|                               |                      |               MIG M. |\n",
            "|===============================+======================+======================|\n",
            "|   0  A100-SXM4-40GB      Off  | 00000000:00:04.0 Off |                    0 |\n",
            "| N/A   32C    P0    45W / 400W |      0MiB / 40536MiB |      0%      Default |\n",
            "|                               |                      |             Disabled |\n",
            "+-------------------------------+----------------------+----------------------+\n",
            "                                                                               \n",
            "+-----------------------------------------------------------------------------+\n",
            "| Processes:                                                                  |\n",
            "|  GPU   GI   CI        PID   Type   Process name                  GPU Memory |\n",
            "|        ID   ID                                                   Usage      |\n",
            "|=============================================================================|\n",
            "|  No running processes found                                                 |\n",
            "+-----------------------------------------------------------------------------+\n",
            "\n",
            "\n",
            "Your runtime has 89.6 gigabytes of available RAM\n",
            "\n",
            "You are using a high-RAM runtime!\n"
          ]
        }
      ]
    },
    {
      "cell_type": "code",
      "source": [
        "\n",
        "#Initialize google storage\n",
        "storage_client = storage.Client.from_service_account_json('pacific-castle-360400-a3ca89f64de6.json')\n",
        "\n",
        "#Print buckets available\n",
        "for bucket in storage_client.list_buckets():\n",
        "  print(bucket)\n",
        "\n",
        "#Assign bucket name being used\n",
        "bucket_name = '266csffile'\n",
        "\n",
        "#Get bucket\n",
        "bucket = storage_client.get_bucket(bucket_name)\n",
        "\n",
        "#Show list of files in bucket and list the files\n",
        "filelist = list(bucket.list_blobs(prefix=''))\n",
        "for name in filelist:\n",
        "  print(name.name)\n"
      ],
      "metadata": {
        "colab": {
          "base_uri": "https://localhost:8080/"
        },
        "id": "pMeFhnaw0ZrZ",
        "outputId": "46fc6b74-ef27-419d-ac27-428dcec2443c"
      },
      "execution_count": 12,
      "outputs": [
        {
          "output_type": "stream",
          "name": "stdout",
          "text": [
            "<Bucket: 266csffile>\n",
            "<Bucket: w266liwc>\n",
            "dev_is_I_data.parquet\n",
            "dev_is_I_labels.parquet\n",
            "dev_is_J_data.parquet\n",
            "dev_is_J_labels.parquet\n",
            "dev_is_S_data.parquet\n",
            "dev_is_S_labels.parquet\n",
            "dev_is_T_data.parquet\n",
            "dev_is_T_labels.parquet\n",
            "dev_mbti_data.parquet\n",
            "dev_mbti_labels.parquet\n",
            "mrc2.dct.textClipping\n",
            "old_files/\n",
            "old_files/dev_mbti_data.csv\n",
            "old_files/dev_mbti_data.parquet\n",
            "old_files/dev_mbti_labels.csv\n",
            "old_files/test_mbti_data.csv\n",
            "old_files/test_mbti_data.parquet\n",
            "old_files/test_mbti_labels.csv\n",
            "old_files/train_gen_pop_mbti_data.csv\n",
            "old_files/train_gen_pop_mbti_data.parquet\n",
            "old_files/train_gen_pop_mbti_labels.csv\n",
            "old_files/train_mbti_data.csv\n",
            "old_files/train_mbti_data.parquet\n",
            "old_files/train_mbti_labels.csv\n",
            "old_files/train_over_sampled_mbti_data.csv\n",
            "old_files/train_over_sampled_mbti_data.parquet\n",
            "old_files/train_over_sampled_mbti_labels.csv\n",
            "old_files/train_under_sampled_mbti_data.csv\n",
            "old_files/train_under_sampled_mbti_data.parquet\n",
            "old_files/train_under_sampled_mbti_labels.csv\n",
            "test_is_I_data.parquet\n",
            "test_is_I_labels.parquet\n",
            "test_is_J_data.parquet\n",
            "test_is_J_labels.parquet\n",
            "test_is_S_data.parquet\n",
            "test_is_S_labels.parquet\n",
            "test_is_T_data.parquet\n",
            "test_is_T_labels.parquet\n",
            "test_mbti_data.parquet\n",
            "test_mbti_labels.parquet\n",
            "train_gen_pop_is_I_data.parquet\n",
            "train_gen_pop_is_I_labels.parquet\n",
            "train_gen_pop_is_J_data.parquet\n",
            "train_gen_pop_is_J_labels.parquet\n",
            "train_gen_pop_is_S_data.parquet\n",
            "train_gen_pop_is_S_labels.parquet\n",
            "train_gen_pop_is_T_data.parquet\n",
            "train_gen_pop_is_T_labels.parquet\n",
            "train_gen_pop_mbti_data.parquet\n",
            "train_gen_pop_mbti_labels.parquet\n",
            "train_is_I_data.parquet\n",
            "train_is_I_labels.parquet\n",
            "train_is_J_data.parquet\n",
            "train_is_J_labels.parquet\n",
            "train_is_S_data.parquet\n",
            "train_is_S_labels.parquet\n",
            "train_is_T_data.parquet\n",
            "train_is_T_labels.parquet\n",
            "train_mbti_data.parquet\n",
            "train_mbti_labels.parquet\n",
            "train_uniform_is_I_data.parquet\n",
            "train_uniform_is_I_labels.parquet\n",
            "train_uniform_is_J_data.parquet\n",
            "train_uniform_is_J_labels.parquet\n",
            "train_uniform_is_S_data.parquet\n",
            "train_uniform_is_S_labels.parquet\n",
            "train_uniform_is_T_data.parquet\n",
            "train_uniform_is_T_labels.parquet\n",
            "train_uniform_mbti_data.parquet\n",
            "train_uniform_mbti_labels.parquet\n",
            "typology_merged.parquet\n",
            "typology_users_clean.csv\n",
            "typology_xenforo-9-25-22-posts.csv\n",
            "typology_xenforo-9-25-22.csv\n",
            "typology_xenforo-9-25-22_clean.parquet\n"
          ]
        }
      ]
    },
    {
      "cell_type": "code",
      "source": [
        "\n",
        "def read_parquet_google_cloud(file):\n",
        "    '''This function reads a file from the google cloud storage bucket. Input\n",
        "    parameters include the filename, encoding and CSV file separators.'''\n",
        "\n",
        "    #Load Google Cloud storage client using service key\n",
        "\n",
        "    blob = bucket.blob(file)\n",
        "    read_back = bucket.blob(file)\n",
        "    string_read_back = read_back.download_as_string()\n",
        "    new_df = pd.read_parquet(io.BytesIO(string_read_back))\n",
        "\n",
        "    return new_df\n",
        "\n",
        "#    blob.upload_from_string(df.to_parquet(), 'application/octet-stream')"
      ],
      "metadata": {
        "id": "1b44Qft--P_b"
      },
      "execution_count": 13,
      "outputs": []
    },
    {
      "cell_type": "code",
      "source": [
        "#Read in train, dev and test files\n",
        "train_mbti_data = read_parquet_google_cloud('train_gen_pop_mbti_data.parquet')\n",
        "train_mbti_labels = read_parquet_google_cloud('train_gen_pop_mbti_labels.parquet')\n",
        "test_mbti_data = read_parquet_google_cloud('test_mbti_data.parquet')\n",
        "test_mbti_labels = read_parquet_google_cloud('test_mbti_labels.parquet')\n",
        "dev_mbti_data = read_parquet_google_cloud('dev_mbti_data.parquet')\n",
        "dev_mbti_labels = read_parquet_google_cloud('dev_mbti_labels.parquet')\n"
      ],
      "metadata": {
        "id": "UN2qPyI23Wsf"
      },
      "execution_count": 14,
      "outputs": []
    },
    {
      "cell_type": "code",
      "source": [
        "print('train shape', train_mbti_data.shape)\n",
        "print('dev shape', dev_mbti_data.shape)\n",
        "print('test shape', test_mbti_data.shape)\n",
        "print('train labels shape', train_mbti_labels.shape)\n",
        "print('dev labels shape', dev_mbti_labels.shape)\n",
        "print('test labels shape', test_mbti_labels.shape)"
      ],
      "metadata": {
        "colab": {
          "base_uri": "https://localhost:8080/"
        },
        "id": "b8W-Qoar6izQ",
        "outputId": "c754cfae-bf75-4d35-d9cf-53c03e71f4fa"
      },
      "execution_count": 15,
      "outputs": [
        {
          "output_type": "stream",
          "name": "stdout",
          "text": [
            "train shape (1199999, 17)\n",
            "dev shape (200000, 16)\n",
            "test shape (200000, 16)\n",
            "train labels shape (1199999, 2)\n",
            "dev labels shape (200000, 2)\n",
            "test labels shape (200000, 2)\n"
          ]
        }
      ]
    },
    {
      "cell_type": "code",
      "source": [
        "train_mbti_labels[:600]"
      ],
      "metadata": {
        "colab": {
          "base_uri": "https://localhost:8080/",
          "height": 424
        },
        "id": "Rfh8DLBUPJyF",
        "outputId": "b1f288c3-6a2a-4357-c1a1-dab747a97c71"
      },
      "execution_count": 16,
      "outputs": [
        {
          "output_type": "execute_result",
          "data": {
            "text/plain": [
              "     original index MBTI Type\n",
              "0            549940      ISFP\n",
              "1           1065723      ESFJ\n",
              "2            231860      ENTP\n",
              "3           1412336      ISFP\n",
              "4           1254851      ESFJ\n",
              "..              ...       ...\n",
              "595         1430419      ISFP\n",
              "596         1410810      ISFP\n",
              "597          156967      ESFP\n",
              "598          926767      ISFJ\n",
              "599          241924      INFP\n",
              "\n",
              "[600 rows x 2 columns]"
            ],
            "text/html": [
              "\n",
              "  <div id=\"df-eeab3933-6aa0-436d-848e-1f30e3e5cb7a\">\n",
              "    <div class=\"colab-df-container\">\n",
              "      <div>\n",
              "<style scoped>\n",
              "    .dataframe tbody tr th:only-of-type {\n",
              "        vertical-align: middle;\n",
              "    }\n",
              "\n",
              "    .dataframe tbody tr th {\n",
              "        vertical-align: top;\n",
              "    }\n",
              "\n",
              "    .dataframe thead th {\n",
              "        text-align: right;\n",
              "    }\n",
              "</style>\n",
              "<table border=\"1\" class=\"dataframe\">\n",
              "  <thead>\n",
              "    <tr style=\"text-align: right;\">\n",
              "      <th></th>\n",
              "      <th>original index</th>\n",
              "      <th>MBTI Type</th>\n",
              "    </tr>\n",
              "  </thead>\n",
              "  <tbody>\n",
              "    <tr>\n",
              "      <th>0</th>\n",
              "      <td>549940</td>\n",
              "      <td>ISFP</td>\n",
              "    </tr>\n",
              "    <tr>\n",
              "      <th>1</th>\n",
              "      <td>1065723</td>\n",
              "      <td>ESFJ</td>\n",
              "    </tr>\n",
              "    <tr>\n",
              "      <th>2</th>\n",
              "      <td>231860</td>\n",
              "      <td>ENTP</td>\n",
              "    </tr>\n",
              "    <tr>\n",
              "      <th>3</th>\n",
              "      <td>1412336</td>\n",
              "      <td>ISFP</td>\n",
              "    </tr>\n",
              "    <tr>\n",
              "      <th>4</th>\n",
              "      <td>1254851</td>\n",
              "      <td>ESFJ</td>\n",
              "    </tr>\n",
              "    <tr>\n",
              "      <th>...</th>\n",
              "      <td>...</td>\n",
              "      <td>...</td>\n",
              "    </tr>\n",
              "    <tr>\n",
              "      <th>595</th>\n",
              "      <td>1430419</td>\n",
              "      <td>ISFP</td>\n",
              "    </tr>\n",
              "    <tr>\n",
              "      <th>596</th>\n",
              "      <td>1410810</td>\n",
              "      <td>ISFP</td>\n",
              "    </tr>\n",
              "    <tr>\n",
              "      <th>597</th>\n",
              "      <td>156967</td>\n",
              "      <td>ESFP</td>\n",
              "    </tr>\n",
              "    <tr>\n",
              "      <th>598</th>\n",
              "      <td>926767</td>\n",
              "      <td>ISFJ</td>\n",
              "    </tr>\n",
              "    <tr>\n",
              "      <th>599</th>\n",
              "      <td>241924</td>\n",
              "      <td>INFP</td>\n",
              "    </tr>\n",
              "  </tbody>\n",
              "</table>\n",
              "<p>600 rows × 2 columns</p>\n",
              "</div>\n",
              "      <button class=\"colab-df-convert\" onclick=\"convertToInteractive('df-eeab3933-6aa0-436d-848e-1f30e3e5cb7a')\"\n",
              "              title=\"Convert this dataframe to an interactive table.\"\n",
              "              style=\"display:none;\">\n",
              "        \n",
              "  <svg xmlns=\"http://www.w3.org/2000/svg\" height=\"24px\"viewBox=\"0 0 24 24\"\n",
              "       width=\"24px\">\n",
              "    <path d=\"M0 0h24v24H0V0z\" fill=\"none\"/>\n",
              "    <path d=\"M18.56 5.44l.94 2.06.94-2.06 2.06-.94-2.06-.94-.94-2.06-.94 2.06-2.06.94zm-11 1L8.5 8.5l.94-2.06 2.06-.94-2.06-.94L8.5 2.5l-.94 2.06-2.06.94zm10 10l.94 2.06.94-2.06 2.06-.94-2.06-.94-.94-2.06-.94 2.06-2.06.94z\"/><path d=\"M17.41 7.96l-1.37-1.37c-.4-.4-.92-.59-1.43-.59-.52 0-1.04.2-1.43.59L10.3 9.45l-7.72 7.72c-.78.78-.78 2.05 0 2.83L4 21.41c.39.39.9.59 1.41.59.51 0 1.02-.2 1.41-.59l7.78-7.78 2.81-2.81c.8-.78.8-2.07 0-2.86zM5.41 20L4 18.59l7.72-7.72 1.47 1.35L5.41 20z\"/>\n",
              "  </svg>\n",
              "      </button>\n",
              "      \n",
              "  <style>\n",
              "    .colab-df-container {\n",
              "      display:flex;\n",
              "      flex-wrap:wrap;\n",
              "      gap: 12px;\n",
              "    }\n",
              "\n",
              "    .colab-df-convert {\n",
              "      background-color: #E8F0FE;\n",
              "      border: none;\n",
              "      border-radius: 50%;\n",
              "      cursor: pointer;\n",
              "      display: none;\n",
              "      fill: #1967D2;\n",
              "      height: 32px;\n",
              "      padding: 0 0 0 0;\n",
              "      width: 32px;\n",
              "    }\n",
              "\n",
              "    .colab-df-convert:hover {\n",
              "      background-color: #E2EBFA;\n",
              "      box-shadow: 0px 1px 2px rgba(60, 64, 67, 0.3), 0px 1px 3px 1px rgba(60, 64, 67, 0.15);\n",
              "      fill: #174EA6;\n",
              "    }\n",
              "\n",
              "    [theme=dark] .colab-df-convert {\n",
              "      background-color: #3B4455;\n",
              "      fill: #D2E3FC;\n",
              "    }\n",
              "\n",
              "    [theme=dark] .colab-df-convert:hover {\n",
              "      background-color: #434B5C;\n",
              "      box-shadow: 0px 1px 3px 1px rgba(0, 0, 0, 0.15);\n",
              "      filter: drop-shadow(0px 1px 2px rgba(0, 0, 0, 0.3));\n",
              "      fill: #FFFFFF;\n",
              "    }\n",
              "  </style>\n",
              "\n",
              "      <script>\n",
              "        const buttonEl =\n",
              "          document.querySelector('#df-eeab3933-6aa0-436d-848e-1f30e3e5cb7a button.colab-df-convert');\n",
              "        buttonEl.style.display =\n",
              "          google.colab.kernel.accessAllowed ? 'block' : 'none';\n",
              "\n",
              "        async function convertToInteractive(key) {\n",
              "          const element = document.querySelector('#df-eeab3933-6aa0-436d-848e-1f30e3e5cb7a');\n",
              "          const dataTable =\n",
              "            await google.colab.kernel.invokeFunction('convertToInteractive',\n",
              "                                                     [key], {});\n",
              "          if (!dataTable) return;\n",
              "\n",
              "          const docLinkHtml = 'Like what you see? Visit the ' +\n",
              "            '<a target=\"_blank\" href=https://colab.research.google.com/notebooks/data_table.ipynb>data table notebook</a>'\n",
              "            + ' to learn more about interactive tables.';\n",
              "          element.innerHTML = '';\n",
              "          dataTable['output_type'] = 'display_data';\n",
              "          await google.colab.output.renderOutput(dataTable, element);\n",
              "          const docLink = document.createElement('div');\n",
              "          docLink.innerHTML = docLinkHtml;\n",
              "          element.appendChild(docLink);\n",
              "        }\n",
              "      </script>\n",
              "    </div>\n",
              "  </div>\n",
              "  "
            ]
          },
          "metadata": {},
          "execution_count": 16
        }
      ]
    },
    {
      "cell_type": "code",
      "execution_count": 17,
      "metadata": {
        "id": "mMNMC9-W_jgm"
      },
      "outputs": [],
      "source": [
        "#Increase field size to allow reading in of input files\n",
        "\n",
        "maxInt = sys.maxsize\n",
        "\n",
        "while True:\n",
        "    # decrease the maxInt value by factor 10 as long as overflow error occurs \n",
        "    try:\n",
        "        csv.field_size_limit(maxInt)\n",
        "        break\n",
        "    except OverflowError:\n",
        "        maxInt = int(maxInt/10)"
      ]
    },
    {
      "cell_type": "code",
      "execution_count": 18,
      "metadata": {
        "colab": {
          "base_uri": "https://localhost:8080/"
        },
        "id": "TNtUw0dN9-g-",
        "outputId": "7936020e-7afc-449d-965d-6addea8805e3"
      },
      "outputs": [
        {
          "output_type": "stream",
          "name": "stdout",
          "text": [
            "     index  original index      Username   Age  Posts Enneagram  \\\n",
            "0  1005117          549940  GoggleGirl17  29.0    472       479   \n",
            "1  1154593         1065723  pure_mercury  40.0   6946      None   \n",
            "2   461466          231860      Cenomite  34.0    623      None   \n",
            "3    16924         1412336      Thalassa  45.0  25183       6w7   \n",
            "4    87377         1254851     Showbread  29.0   2298       3w2   \n",
            "\n",
            "  Instinctual Variant         Gender  \\\n",
            "0               sp_sx         female   \n",
            "1                None           None   \n",
            "2                None           None   \n",
            "3                  sx  not_specified   \n",
            "4               so_sp         female   \n",
            "\n",
            "                                          Occupation   is_I   is_S   is_T  \\\n",
            "0                                               None   True   True  False   \n",
            "1               film major/Medical Records Assistant  False   True  False   \n",
            "2                                               None  False  False   True   \n",
            "3                                        Tree people   True   True  False   \n",
            "4  Mentoring college students, being a dog mom, a...  False   True  False   \n",
            "\n",
            "    is_J  post_id  thread_id   post_date  \\\n",
            "0  False  3314576     109526  1615322971   \n",
            "1   True   207872       5630  1210648898   \n",
            "2  False   799238      20885  1251052291   \n",
            "3  False   961858      10883  1260750656   \n",
            "4   True  2531892      70854  1443213165   \n",
            "\n",
            "                                             message  \n",
            "0  this is more of a theme song than something th...  \n",
            "1    everything i have ever read or heard secondh...  \n",
            "2  kangirl, if you get the whip, i will get my le...  \n",
            "3                  and damn does it feel good.  jk..  \n",
            "4  oh sorry i guess i was suppose to ask you to m...  \n",
            " There are 0 missing message rows in the Train dataset\n",
            " There are 0 missing message rows in the Dev dataset\n",
            " There are 0 missing message rows in the Test dataset\n"
          ]
        }
      ],
      "source": [
        "print(train_mbti_data.head() )\n",
        "\n",
        "null_data = train_mbti_data.isnull().sum()\n",
        "print(' There are', '{:,}'.format(null_data['message']), 'missing message rows in the Train dataset')\n",
        "null_data = dev_mbti_data.isnull().sum()\n",
        "print(' There are', '{:,}'.format(null_data['message']), 'missing message rows in the Dev dataset')\n",
        "null_data = test_mbti_data.isnull().sum()\n",
        "print(' There are', '{:,}'.format(null_data['message']), 'missing message rows in the Test dataset')"
      ]
    },
    {
      "cell_type": "code",
      "execution_count": 19,
      "metadata": {
        "colab": {
          "base_uri": "https://localhost:8080/"
        },
        "id": "ol9Ms5Mi_sQQ",
        "outputId": "9a252f4f-f7c5-4cf2-cf08-6204d154b378"
      },
      "outputs": [
        {
          "output_type": "stream",
          "name": "stdout",
          "text": [
            " There are 0 Nan values the Train dataset\n"
          ]
        }
      ],
      "source": [
        "print(' There are', '{:,}'.format(null_data['post_date']), 'Nan values the Train dataset')\n",
        "null_data = test_mbti_data.isnull().sum()"
      ]
    },
    {
      "cell_type": "code",
      "execution_count": 20,
      "metadata": {
        "colab": {
          "base_uri": "https://localhost:8080/"
        },
        "id": "zWTAadmGdsNe",
        "outputId": "c682a402-fa79-45fb-ab15-f7cc4acade76"
      },
      "outputs": [
        {
          "output_type": "stream",
          "name": "stdout",
          "text": [
            " There are 0 missing message rows in the Train dataset\n",
            " There are 0 missing message rows in the Dev dataset\n",
            " There are 0 missing message rows in the Test dataset\n"
          ]
        }
      ],
      "source": [
        "null_data = train_mbti_data.isnull().sum()\n",
        "print(' There are', '{:,}'.format(null_data['message']), 'missing message rows in the Train dataset')\n",
        "null_data = dev_mbti_data.isnull().sum()\n",
        "print(' There are', '{:,}'.format(null_data['message']), 'missing message rows in the Dev dataset')\n",
        "null_data = test_mbti_data.isnull().sum()\n",
        "print(' There are', '{:,}'.format(null_data['message']), 'missing message rows in the Test dataset')"
      ]
    },
    {
      "cell_type": "markdown",
      "metadata": {
        "id": "LBNRf9SzWFlO"
      },
      "source": [
        "Tempory code to clean data"
      ]
    },
    {
      "cell_type": "markdown",
      "metadata": {
        "id": "1dwy7RV4ltbL"
      },
      "source": [
        "##Run Baseline Models \n",
        "\n",
        "These steps run a set of baseline models with a small subset of the input data. "
      ]
    },
    {
      "cell_type": "code",
      "execution_count": 21,
      "metadata": {
        "colab": {
          "base_uri": "https://localhost:8080/"
        },
        "id": "vwzcMjp4h9Cj",
        "outputId": "55f0ab7a-e8b7-4c80-a3ac-3dbc63807682"
      },
      "outputs": [
        {
          "output_type": "stream",
          "name": "stdout",
          "text": [
            "After Data Split\n",
            " TRAIN dataset row count:  60,000\n",
            " DEV dataset row count  :  10,000\n",
            " TEST dataset row count :  10,000\n",
            " Total rows             :  80,000\n",
            " There are 0 missing message rows in the Train dataset\n",
            " There are 0 missing message rows in the Dev dataset\n",
            " There are 0 missing message rows in the Test dataset\n"
          ]
        }
      ],
      "source": [
        "#Set up small train, dev and test data and labels to do initial testing before chunking\n",
        "train_data, train_labels = train_mbti_data[:60000], train_mbti_labels[:60000]\n",
        "dev_data, dev_labels = dev_mbti_data[:10000], dev_mbti_labels[:10000]\n",
        "test_data, test_labels = test_mbti_data[:10000], test_mbti_labels[:10000]\n",
        "\n",
        "#Determine and print number of rows in each dataset\n",
        "train_rows = train_data.shape[0]\n",
        "dev_rows = dev_data.shape[0]\n",
        "test_rows = test_data.shape[0]\n",
        "total_records = train_rows+dev_rows+test_rows\n",
        "print('After Data Split')\n",
        "print(' TRAIN dataset row count: ', '{:,}'.format(train_rows))\n",
        "print(' DEV dataset row count  : ', '{:,}'.format(dev_rows))\n",
        "print(' TEST dataset row count : ', '{:,}'.format(test_rows))\n",
        "print(' Total rows             : ', '{:,}'.format(total_records))\n",
        "null_data = train_data.isnull().sum()\n",
        "print(' There are', '{:,}'.format(null_data['message']), 'missing message rows in the Train dataset')\n",
        "null_data = dev_data.isnull().sum()\n",
        "print(' There are', '{:,}'.format(null_data['message']), 'missing message rows in the Dev dataset')\n",
        "null_data = test_data.isnull().sum()\n",
        "print(' There are', '{:,}'.format(null_data['message']), 'missing message rows in the Test dataset')"
      ]
    },
    {
      "cell_type": "code",
      "execution_count": 22,
      "metadata": {
        "id": "5RIryRtP_iHU"
      },
      "outputs": [],
      "source": [
        "#Create dictonary to transform MBTI type into multiclass value from 0 to 15\n",
        "valid_MBTI = {'ISTJ': 0, 'INTJ': 1, 'ESTJ': 2, 'ENTJ': 3, 'ENTP': 4, 'INTP': 5, \\\n",
        "              'ISTP': 6, 'ESTP': 7, 'ISFJ': 8, 'INFJ': 9, 'ESFJ': 10, \\\n",
        "              'ENFJ': 11, 'ENFP': 12, 'INFP': 13, 'ISFP': 14, 'ESFP': 15}\n"
      ]
    },
    {
      "cell_type": "code",
      "execution_count": 23,
      "metadata": {
        "colab": {
          "base_uri": "https://localhost:8080/"
        },
        "id": "tn6kX3djBpGv",
        "outputId": "7dc062a5-df92-435c-d442-04ff229922c5"
      },
      "outputs": [
        {
          "output_type": "stream",
          "name": "stderr",
          "text": [
            "/usr/local/lib/python3.7/dist-packages/ipykernel_launcher.py:2: SettingWithCopyWarning: \n",
            "A value is trying to be set on a copy of a slice from a DataFrame.\n",
            "Try using .loc[row_indexer,col_indexer] = value instead\n",
            "\n",
            "See the caveats in the documentation: https://pandas.pydata.org/pandas-docs/stable/user_guide/indexing.html#returning-a-view-versus-a-copy\n",
            "  \n",
            "/usr/local/lib/python3.7/dist-packages/ipykernel_launcher.py:3: SettingWithCopyWarning: \n",
            "A value is trying to be set on a copy of a slice from a DataFrame.\n",
            "Try using .loc[row_indexer,col_indexer] = value instead\n",
            "\n",
            "See the caveats in the documentation: https://pandas.pydata.org/pandas-docs/stable/user_guide/indexing.html#returning-a-view-versus-a-copy\n",
            "  This is separate from the ipykernel package so we can avoid doing imports until\n",
            "/usr/local/lib/python3.7/dist-packages/ipykernel_launcher.py:4: SettingWithCopyWarning: \n",
            "A value is trying to be set on a copy of a slice from a DataFrame.\n",
            "Try using .loc[row_indexer,col_indexer] = value instead\n",
            "\n",
            "See the caveats in the documentation: https://pandas.pydata.org/pandas-docs/stable/user_guide/indexing.html#returning-a-view-versus-a-copy\n",
            "  after removing the cwd from sys.path.\n"
          ]
        }
      ],
      "source": [
        "#Set multiclass numerical value based on MBTI type\n",
        "train_labels['class'] = train_labels['MBTI Type'].map(valid_MBTI)\n",
        "test_labels['class'] = test_labels['MBTI Type'].map(valid_MBTI)\n",
        "dev_labels['class'] = dev_labels['MBTI Type'].map(valid_MBTI)\n",
        "\n"
      ]
    },
    {
      "cell_type": "code",
      "execution_count": 24,
      "metadata": {
        "colab": {
          "base_uri": "https://localhost:8080/",
          "height": 363
        },
        "id": "FCm1Q2ae-ak9",
        "outputId": "ce5b11d2-4d71-4148-b8bd-0324495a4e29"
      },
      "outputs": [
        {
          "output_type": "execute_result",
          "data": {
            "text/plain": [
              "   original index MBTI Type  class\n",
              "0          549940      ISFP     14\n",
              "1         1065723      ESFJ     10\n",
              "2          231860      ENTP      4\n",
              "3         1412336      ISFP     14\n",
              "4         1254851      ESFJ     10\n",
              "5          739591      ISFJ      8\n",
              "6          637886      ESFJ     10\n",
              "7          546639      ISTJ      0\n",
              "8          634073      ESFJ     10\n",
              "9         1252114      ISFJ      8"
            ],
            "text/html": [
              "\n",
              "  <div id=\"df-e1390ae6-379c-4d5a-b5fe-83467c4641ee\">\n",
              "    <div class=\"colab-df-container\">\n",
              "      <div>\n",
              "<style scoped>\n",
              "    .dataframe tbody tr th:only-of-type {\n",
              "        vertical-align: middle;\n",
              "    }\n",
              "\n",
              "    .dataframe tbody tr th {\n",
              "        vertical-align: top;\n",
              "    }\n",
              "\n",
              "    .dataframe thead th {\n",
              "        text-align: right;\n",
              "    }\n",
              "</style>\n",
              "<table border=\"1\" class=\"dataframe\">\n",
              "  <thead>\n",
              "    <tr style=\"text-align: right;\">\n",
              "      <th></th>\n",
              "      <th>original index</th>\n",
              "      <th>MBTI Type</th>\n",
              "      <th>class</th>\n",
              "    </tr>\n",
              "  </thead>\n",
              "  <tbody>\n",
              "    <tr>\n",
              "      <th>0</th>\n",
              "      <td>549940</td>\n",
              "      <td>ISFP</td>\n",
              "      <td>14</td>\n",
              "    </tr>\n",
              "    <tr>\n",
              "      <th>1</th>\n",
              "      <td>1065723</td>\n",
              "      <td>ESFJ</td>\n",
              "      <td>10</td>\n",
              "    </tr>\n",
              "    <tr>\n",
              "      <th>2</th>\n",
              "      <td>231860</td>\n",
              "      <td>ENTP</td>\n",
              "      <td>4</td>\n",
              "    </tr>\n",
              "    <tr>\n",
              "      <th>3</th>\n",
              "      <td>1412336</td>\n",
              "      <td>ISFP</td>\n",
              "      <td>14</td>\n",
              "    </tr>\n",
              "    <tr>\n",
              "      <th>4</th>\n",
              "      <td>1254851</td>\n",
              "      <td>ESFJ</td>\n",
              "      <td>10</td>\n",
              "    </tr>\n",
              "    <tr>\n",
              "      <th>5</th>\n",
              "      <td>739591</td>\n",
              "      <td>ISFJ</td>\n",
              "      <td>8</td>\n",
              "    </tr>\n",
              "    <tr>\n",
              "      <th>6</th>\n",
              "      <td>637886</td>\n",
              "      <td>ESFJ</td>\n",
              "      <td>10</td>\n",
              "    </tr>\n",
              "    <tr>\n",
              "      <th>7</th>\n",
              "      <td>546639</td>\n",
              "      <td>ISTJ</td>\n",
              "      <td>0</td>\n",
              "    </tr>\n",
              "    <tr>\n",
              "      <th>8</th>\n",
              "      <td>634073</td>\n",
              "      <td>ESFJ</td>\n",
              "      <td>10</td>\n",
              "    </tr>\n",
              "    <tr>\n",
              "      <th>9</th>\n",
              "      <td>1252114</td>\n",
              "      <td>ISFJ</td>\n",
              "      <td>8</td>\n",
              "    </tr>\n",
              "  </tbody>\n",
              "</table>\n",
              "</div>\n",
              "      <button class=\"colab-df-convert\" onclick=\"convertToInteractive('df-e1390ae6-379c-4d5a-b5fe-83467c4641ee')\"\n",
              "              title=\"Convert this dataframe to an interactive table.\"\n",
              "              style=\"display:none;\">\n",
              "        \n",
              "  <svg xmlns=\"http://www.w3.org/2000/svg\" height=\"24px\"viewBox=\"0 0 24 24\"\n",
              "       width=\"24px\">\n",
              "    <path d=\"M0 0h24v24H0V0z\" fill=\"none\"/>\n",
              "    <path d=\"M18.56 5.44l.94 2.06.94-2.06 2.06-.94-2.06-.94-.94-2.06-.94 2.06-2.06.94zm-11 1L8.5 8.5l.94-2.06 2.06-.94-2.06-.94L8.5 2.5l-.94 2.06-2.06.94zm10 10l.94 2.06.94-2.06 2.06-.94-2.06-.94-.94-2.06-.94 2.06-2.06.94z\"/><path d=\"M17.41 7.96l-1.37-1.37c-.4-.4-.92-.59-1.43-.59-.52 0-1.04.2-1.43.59L10.3 9.45l-7.72 7.72c-.78.78-.78 2.05 0 2.83L4 21.41c.39.39.9.59 1.41.59.51 0 1.02-.2 1.41-.59l7.78-7.78 2.81-2.81c.8-.78.8-2.07 0-2.86zM5.41 20L4 18.59l7.72-7.72 1.47 1.35L5.41 20z\"/>\n",
              "  </svg>\n",
              "      </button>\n",
              "      \n",
              "  <style>\n",
              "    .colab-df-container {\n",
              "      display:flex;\n",
              "      flex-wrap:wrap;\n",
              "      gap: 12px;\n",
              "    }\n",
              "\n",
              "    .colab-df-convert {\n",
              "      background-color: #E8F0FE;\n",
              "      border: none;\n",
              "      border-radius: 50%;\n",
              "      cursor: pointer;\n",
              "      display: none;\n",
              "      fill: #1967D2;\n",
              "      height: 32px;\n",
              "      padding: 0 0 0 0;\n",
              "      width: 32px;\n",
              "    }\n",
              "\n",
              "    .colab-df-convert:hover {\n",
              "      background-color: #E2EBFA;\n",
              "      box-shadow: 0px 1px 2px rgba(60, 64, 67, 0.3), 0px 1px 3px 1px rgba(60, 64, 67, 0.15);\n",
              "      fill: #174EA6;\n",
              "    }\n",
              "\n",
              "    [theme=dark] .colab-df-convert {\n",
              "      background-color: #3B4455;\n",
              "      fill: #D2E3FC;\n",
              "    }\n",
              "\n",
              "    [theme=dark] .colab-df-convert:hover {\n",
              "      background-color: #434B5C;\n",
              "      box-shadow: 0px 1px 3px 1px rgba(0, 0, 0, 0.15);\n",
              "      filter: drop-shadow(0px 1px 2px rgba(0, 0, 0, 0.3));\n",
              "      fill: #FFFFFF;\n",
              "    }\n",
              "  </style>\n",
              "\n",
              "      <script>\n",
              "        const buttonEl =\n",
              "          document.querySelector('#df-e1390ae6-379c-4d5a-b5fe-83467c4641ee button.colab-df-convert');\n",
              "        buttonEl.style.display =\n",
              "          google.colab.kernel.accessAllowed ? 'block' : 'none';\n",
              "\n",
              "        async function convertToInteractive(key) {\n",
              "          const element = document.querySelector('#df-e1390ae6-379c-4d5a-b5fe-83467c4641ee');\n",
              "          const dataTable =\n",
              "            await google.colab.kernel.invokeFunction('convertToInteractive',\n",
              "                                                     [key], {});\n",
              "          if (!dataTable) return;\n",
              "\n",
              "          const docLinkHtml = 'Like what you see? Visit the ' +\n",
              "            '<a target=\"_blank\" href=https://colab.research.google.com/notebooks/data_table.ipynb>data table notebook</a>'\n",
              "            + ' to learn more about interactive tables.';\n",
              "          element.innerHTML = '';\n",
              "          dataTable['output_type'] = 'display_data';\n",
              "          await google.colab.output.renderOutput(dataTable, element);\n",
              "          const docLink = document.createElement('div');\n",
              "          docLink.innerHTML = docLinkHtml;\n",
              "          element.appendChild(docLink);\n",
              "        }\n",
              "      </script>\n",
              "    </div>\n",
              "  </div>\n",
              "  "
            ]
          },
          "metadata": {},
          "execution_count": 24
        }
      ],
      "source": [
        "train_labels[:10]\n"
      ]
    },
    {
      "cell_type": "code",
      "execution_count": 25,
      "metadata": {
        "colab": {
          "base_uri": "https://localhost:8080/"
        },
        "id": "u51ab21YiJZ-",
        "outputId": "10999aba-0da0-4387-9391-549c744c18ac"
      },
      "outputs": [
        {
          "output_type": "stream",
          "name": "stdout",
          "text": [
            "\n",
            "train_features 71943\n",
            "dev features 71943\n",
            "\n",
            "Printing statistics for preprocessed data:\n",
            "Vocabulary size =  71,943\n",
            "Number of non zero features =  2,576,854\n",
            "Number of samples in training dataset =  60,000\n",
            "Average non zero features per example =  42.94756666666667\n",
            "Fraction of non zero entries in the matrix =  0.000597\n",
            "First feature =  00   Last feature =  zzril\n"
          ]
        }
      ],
      "source": [
        "#Transform data to matrices of word unigram features using preprocessing\n",
        "num_words_a = 1\n",
        "num_words_b = 1\n",
        "vectorizer_t_preprocess = TfidfVectorizer(ngram_range=(num_words_a, num_words_b))\n",
        "train_cv = vectorizer_t_preprocess.fit_transform(train_data[\"message\"].values.astype('U')) \n",
        "train_features = vectorizer_t_preprocess.get_feature_names_out()\n",
        "print('\\ntrain_features', len(train_features))\n",
        "vectorizer_d_nopreprocess = TfidfVectorizer(ngram_range=(num_words_a, num_words_b), vocabulary = train_features)\n",
        "dev_cv = vectorizer_d_nopreprocess.fit_transform(dev_data[\"message\"].values.astype('U')) \n",
        "dev_features = vectorizer_d_nopreprocess.get_feature_names_out()\n",
        "print('dev features', len(dev_features))\n",
        "\n",
        "#Print some statistics on the vectorization\n",
        "print('\\nPrinting statistics for preprocessed data:')\n",
        "print('Vocabulary size = ', \"{:,}\".format(train_cv.shape[1]))\n",
        "print('Number of non zero features = ', \"{:,}\".format(train_cv.nnz))\n",
        "print('Number of samples in training dataset = ', \"{:,}\".format(train_cv.shape[0]))\n",
        "print('Average non zero features per example = ', \"{:,}\".format(train_cv.nnz/train_cv.shape[0]))\n",
        "total_entries = train_cv.shape[0] * train_cv.shape[1]\n",
        "print('Fraction of non zero entries in the matrix = ', round((train_cv.nnz/total_entries), 6))\n",
        "print('First feature = ', train_features[0], '  Last feature = ', train_features[len(train_features) - 1])"
      ]
    },
    {
      "cell_type": "code",
      "execution_count": 26,
      "metadata": {
        "colab": {
          "base_uri": "https://localhost:8080/"
        },
        "id": "4Z8_lMrwmqD8",
        "outputId": "6d46fdf2-c0a8-4117-c1c1-d3305fa56a4a"
      },
      "outputs": [
        {
          "output_type": "stream",
          "name": "stderr",
          "text": [
            "/usr/local/lib/python3.7/dist-packages/sklearn/linear_model/_logistic.py:818: ConvergenceWarning: lbfgs failed to converge (status=1):\n",
            "STOP: TOTAL NO. of ITERATIONS REACHED LIMIT.\n",
            "\n",
            "Increase the number of iterations (max_iter) or scale the data as shown in:\n",
            "    https://scikit-learn.org/stable/modules/preprocessing.html\n",
            "Please also refer to the documentation for alternative solver options:\n",
            "    https://scikit-learn.org/stable/modules/linear_model.html#logistic-regression\n",
            "  extra_warning_msg=_LOGISTIC_SOLVER_CONVERGENCE_MSG,\n"
          ]
        },
        {
          "output_type": "stream",
          "name": "stdout",
          "text": [
            "\u001b[1m\n",
            "Logistic Regression using unigram features with default vectorization\u001b[0m\n",
            "\n",
            "F1 Score for c= 40 0.04335243791904876\n"
          ]
        },
        {
          "output_type": "stream",
          "name": "stderr",
          "text": [
            "/usr/local/lib/python3.7/dist-packages/sklearn/linear_model/_logistic.py:818: ConvergenceWarning: lbfgs failed to converge (status=1):\n",
            "STOP: TOTAL NO. of ITERATIONS REACHED LIMIT.\n",
            "\n",
            "Increase the number of iterations (max_iter) or scale the data as shown in:\n",
            "    https://scikit-learn.org/stable/modules/preprocessing.html\n",
            "Please also refer to the documentation for alternative solver options:\n",
            "    https://scikit-learn.org/stable/modules/linear_model.html#logistic-regression\n",
            "  extra_warning_msg=_LOGISTIC_SOLVER_CONVERGENCE_MSG,\n"
          ]
        },
        {
          "output_type": "stream",
          "name": "stdout",
          "text": [
            "\u001b[1m\n",
            "Logistic Regression using unigram features with default vectorization\u001b[0m\n",
            "\n",
            "F1 Score for c= 10 0.0403713009354925\n",
            "\u001b[1m\n",
            "Logistic Regression using unigram features with default vectorization\u001b[0m\n",
            "\n",
            "F1 Score for c= 1 0.02215722206546899\n",
            "\u001b[1m\n",
            "Logistic Regression using unigram features with default vectorization\u001b[0m\n",
            "\n",
            "F1 Score for c= 0.001 0.00035964479526393684\n",
            "\u001b[1m\n",
            "Logistic Regression using unigram features with default vectorization\u001b[0m\n",
            "\n",
            "F1 Score for c= 0.1 0.006580697026957721\n",
            "\u001b[1m\n",
            "Logistic Regression using unigram features with default vectorization\u001b[0m\n",
            "\n",
            "F1 Score for c= 0.01 0.0017025271402269426\n",
            "\u001b[1m\n",
            "Logistic Regression using unigram features with default vectorization\u001b[0m\n",
            "\n",
            "F1 Score for c= 0.0001 0.00035964479526393684\n"
          ]
        }
      ],
      "source": [
        "#Logistic Regression using tfid vectorized data, no preprocessing, searching for best C value\n",
        "for i in ([40,10,1, 0.001, .1, 0.01,0.0001]): \n",
        "  lr_model = LogisticRegression(C=i , solver='lbfgs' , max_iter = 300)\n",
        "  lr_model.fit(train_cv, train_labels['class'])  #Attempt ravel to provide distinct labels\n",
        "  predicted_labels = lr_model.predict(dev_cv)\n",
        "  #Print results for predictions with dev dataset\n",
        "  print('\\033[1m\\nLogistic Regression using unigram features with default vectorization\\033[0m\\n')\n",
        "  print('F1 Score for c=', i,  str(metrics.f1_score(dev_labels['class'],predicted_labels, average='weighted')))"
      ]
    },
    {
      "cell_type": "code",
      "source": [
        "print(dev_labels)"
      ],
      "metadata": {
        "colab": {
          "base_uri": "https://localhost:8080/"
        },
        "id": "DfAE2ndLRZIJ",
        "outputId": "ff364573-e6e7-420b-e796-a97d5d58eb0c"
      },
      "execution_count": 27,
      "outputs": [
        {
          "output_type": "stream",
          "name": "stdout",
          "text": [
            "         original index MBTI Type  class\n",
            "1200000          225208      INTJ      1\n",
            "1200001         1279120      ENTP      4\n",
            "1200002          355178      ENTP      4\n",
            "1200003          779566      ENTP      4\n",
            "1200004         1112817      INTJ      1\n",
            "...                 ...       ...    ...\n",
            "1209995         1411713      ISFP     14\n",
            "1209996          239767      INFJ      9\n",
            "1209997         1038259      ENFP     12\n",
            "1209998          246961      INFP     13\n",
            "1209999         1463021      INTJ      1\n",
            "\n",
            "[10000 rows x 3 columns]\n"
          ]
        }
      ]
    },
    {
      "cell_type": "code",
      "execution_count": 28,
      "metadata": {
        "colab": {
          "base_uri": "https://localhost:8080/",
          "height": 745
        },
        "id": "1jvLSdg4u8ez",
        "outputId": "837f99f3-5cf0-4c80-cc30-f26a9fbf1d5b"
      },
      "outputs": [
        {
          "output_type": "stream",
          "name": "stderr",
          "text": [
            "/usr/local/lib/python3.7/dist-packages/sklearn/metrics/_classification.py:1318: UndefinedMetricWarning: Recall and F-score are ill-defined and being set to 0.0 in labels with no true samples. Use `zero_division` parameter to control this behavior.\n",
            "  _warn_prf(average, modifier, msg_start, len(result))\n",
            "/usr/local/lib/python3.7/dist-packages/sklearn/metrics/_classification.py:1318: UndefinedMetricWarning: Recall and F-score are ill-defined and being set to 0.0 in labels with no true samples. Use `zero_division` parameter to control this behavior.\n",
            "  _warn_prf(average, modifier, msg_start, len(result))\n",
            "/usr/local/lib/python3.7/dist-packages/sklearn/metrics/_classification.py:1318: UndefinedMetricWarning: Recall and F-score are ill-defined and being set to 0.0 in labels with no true samples. Use `zero_division` parameter to control this behavior.\n",
            "  _warn_prf(average, modifier, msg_start, len(result))\n"
          ]
        },
        {
          "output_type": "display_data",
          "data": {
            "text/plain": [
              "<Figure size 720x720 with 2 Axes>"
            ],
            "image/png": "[encoded data removed]"
          },
          "metadata": {
            "needs_background": "light"
          }
        }
      ],
      "source": [
        "#Visual Confusion Matrix\n",
        "LR_Count = accuracy_score(predicted_labels, dev_labels['class'])\n",
        "LR_Count_CM = classification_report(predicted_labels, dev_labels['class']) \n",
        "\n",
        "LR_Count_Confusion = confusion_matrix(dev_labels['class'], predicted_labels)\n",
        "\n",
        "import seaborn as sns\n",
        "fig, ax = plt.subplots(figsize=(10,10))      \n",
        "sns.heatmap(LR_Count_Confusion, cmap=\"Blues\", annot=True, fmt='d', ) # for decimal\n",
        "\n",
        "# labels, title and ticks\n",
        "ax.set_xlabel('Predicted labels');ax.set_ylabel('True labels'); \n",
        "ax.set_title('Confusion Matrix'); \n",
        "ax.xaxis.set_ticklabels(['ISTJ', 'INTJ', 'ESTJ', 'ENTJ', 'ENTP', 'INTP', 'ISTP', \\\n",
        "                         'ESTP', 'ISFJ', 'INFJ', 'ESFJ', 'ENFJ', 'ENFP', 'INFP', \\\n",
        "                         'ISFP', 'ESFP']); \n",
        "ax.yaxis.set_ticklabels(['ISTJ', \\\n",
        "                         'INTJ', 'ESTJ', 'ENTJ', 'ENTP', 'INTP', 'ISTP', \\\n",
        "                         'ESTP', 'ISFJ', 'INFJ', 'ESFJ', 'ENFJ', 'ENFP', 'INFP', \\\n",
        "                         'ISFP', 'ESFP']);\n",
        "plt.show()"
      ]
    },
    {
      "cell_type": "code",
      "execution_count": 29,
      "metadata": {
        "colab": {
          "base_uri": "https://localhost:8080/"
        },
        "id": "65Diuv1p0Rer",
        "outputId": "2f12ce09-a62c-49fd-8391-12a9d0fe8cbc"
      },
      "outputs": [
        {
          "output_type": "stream",
          "name": "stdout",
          "text": [
            "Fitting 5 folds for each of 5 candidates, totalling 25 fits\n",
            "\n",
            "Best C value for LinearSVC: LinearSVC(C=3)\n",
            "\u001b[1m\n",
            "Linear SVC using Text word counts\u001b[0m\n",
            "\n",
            "F1 Score : 0.048083471824961296\n"
          ]
        }
      ],
      "source": [
        "#Set values of C\n",
        "param_grid = {'C': [0.1,1, 3, 5, 10]}\n",
        "\n",
        "#Conduct grid search for best C value\n",
        "grid = GridSearchCV(LinearSVC(),param_grid,refit=True,verbose=1)\n",
        "grid.fit(train_cv,train_labels['class'])\n",
        "\n",
        "#Print best value of C\n",
        "print('\\nBest C value for LinearSVC:', grid.best_estimator_)\n",
        "\n",
        "#Predict labels\n",
        "predicted_labels = grid.predict(dev_cv)\n",
        "\n",
        "#Print results for predictions with dev dataset\n",
        "print('\\033[1m\\nLinear SVC using Text word counts\\033[0m\\n')\n",
        "print('F1 Score : ' + str(metrics.f1_score(dev_labels['class'],predicted_labels, average='weighted')))"
      ]
    },
    {
      "cell_type": "code",
      "execution_count": 30,
      "metadata": {
        "id": "2lNHhUPBIajO"
      },
      "outputs": [],
      "source": [
        "#get the labels in a needed data format for validation\n",
        "npdev_labels = np.asarray(dev_labels['class'])\n",
        "nptrain_labels = np.asarray(train_labels['class'])\n",
        "nptest_labels = np.asarray(test_labels['class'])"
      ]
    },
    {
      "cell_type": "code",
      "execution_count": 31,
      "metadata": {
        "colab": {
          "base_uri": "https://localhost:8080/",
          "height": 252,
          "referenced_widgets": [
            "476f5cc593e847c5ae6f0c3fa1d28302",
            "615718048ea74408bb79dd207fd110ef",
            "73568d70751b407a99f6a5117245178c",
            "ee3d71dd8d754bc4850f373da58314aa",
            "75c564c2dcf7443bb0e311d44ef867d1",
            "c121f9477e6246a7b735846bd080db8b",
            "3e662cbfd0b04ff6a54ca340b0f0687c",
            "95bccfb4ea0c4cfd9a18e15be19110fa",
            "5e83bcc9b6fb495fbcbff5cdd4d7e413",
            "e637d5a4cc0941708c91e5cf75194e11",
            "a7b10c2eb3fa4641a0d36654caa48a1f",
            "1cf29769fdbb45b5ac2677683a44b8e1",
            "31dd5d7e98ac40be9ba2d112daa72a78",
            "59fe76b06d1d46ab832185e181deac60",
            "4c58fef4a7da4319a0d87663a1bcd4a1",
            "55542e6f1eb0423f8a3bc28e4dfcead5",
            "e3e0e25765e140b78062865c2235d397",
            "805a6802dc674163979a1d580dc929d7",
            "c9e8069e16a34247ad25eae56375d23e",
            "25435421530d42daae5f2e7784e18038",
            "8754beedbdc74bdb85b64c5cfcd9fb31",
            "8c407abf46b44892a604ec05c58b910d",
            "a523a784a1a247cbaee93e2a6abd3ca8",
            "2b9c26a6d42943cc903fc980e38988a0",
            "f413aa4e08d64cb88d85c0802862aa0e",
            "20a3e1993d6f4e0aaa486b85a21d345a",
            "9ee29e9be2a04e65b36e71d50a5bce02",
            "f9fa41af9e6a418f914770086b99dd82",
            "fe56f61a39ff465b82b34780000f131c",
            "3c45ed811f904a95b0793d3137d9fad1",
            "34f6871348b847008918d6cc3d79f746",
            "03de3413c3584df68098706a8a324b13",
            "b70506f3dde3481ca53d9692a3964161",
            "8a17c55d170848faa032f042e1be96ae",
            "f9cd3f8948c84da38636e885fe2a3dd1",
            "ed879f744d2b4dc5ab3090df98680cee",
            "18c7512abddf4d5ca97ff2481e0ae13b",
            "fd3614c386c348e1b0dfa5111ddac865",
            "ce2e14c3bc864753b9e75a3f69bbb12c",
            "2a0df341f24446d8adb0e7fa05cf2cf8",
            "aaa63936a344459e8fbe3868e8e05824",
            "92ce8b2d95c84bb7859d313c33bd53f7",
            "45728c7e020147249a427cb1a0510a34",
            "4430cf5d8e634200a3b0c2019a08f873"
          ]
        },
        "id": "xAzmgPCoGJwp",
        "outputId": "6ed79d5f-ca24-4f66-eec4-109415830b42"
      },
      "outputs": [
        {
          "output_type": "display_data",
          "data": {
            "text/plain": [
              "Downloading:   0%|          | 0.00/213k [00:00<?, ?B/s]"
            ],
            "application/vnd.jupyter.widget-view+json": {
              "version_major": 2,
              "version_minor": 0,
              "model_id": "476f5cc593e847c5ae6f0c3fa1d28302"
            }
          },
          "metadata": {}
        },
        {
          "output_type": "display_data",
          "data": {
            "text/plain": [
              "Downloading:   0%|          | 0.00/29.0 [00:00<?, ?B/s]"
            ],
            "application/vnd.jupyter.widget-view+json": {
              "version_major": 2,
              "version_minor": 0,
              "model_id": "1cf29769fdbb45b5ac2677683a44b8e1"
            }
          },
          "metadata": {}
        },
        {
          "output_type": "display_data",
          "data": {
            "text/plain": [
              "Downloading:   0%|          | 0.00/570 [00:00<?, ?B/s]"
            ],
            "application/vnd.jupyter.widget-view+json": {
              "version_major": 2,
              "version_minor": 0,
              "model_id": "a523a784a1a247cbaee93e2a6abd3ca8"
            }
          },
          "metadata": {}
        },
        {
          "output_type": "display_data",
          "data": {
            "text/plain": [
              "Downloading:   0%|          | 0.00/527M [00:00<?, ?B/s]"
            ],
            "application/vnd.jupyter.widget-view+json": {
              "version_major": 2,
              "version_minor": 0,
              "model_id": "8a17c55d170848faa032f042e1be96ae"
            }
          },
          "metadata": {}
        },
        {
          "output_type": "stream",
          "name": "stderr",
          "text": [
            "Some layers from the model checkpoint at bert-base-cased were not used when initializing TFBertModel: ['mlm___cls', 'nsp___cls']\n",
            "- This IS expected if you are initializing TFBertModel from the checkpoint of a model trained on another task or with another architecture (e.g. initializing a BertForSequenceClassification model from a BertForPreTraining model).\n",
            "- This IS NOT expected if you are initializing TFBertModel from the checkpoint of a model that you expect to be exactly identical (initializing a BertForSequenceClassification model from a BertForSequenceClassification model).\n",
            "All the layers of TFBertModel were initialized from the model checkpoint at bert-base-cased.\n",
            "If your task is similar to the task the model of the checkpoint was trained on, you can already use TFBertModel for predictions without further training.\n"
          ]
        }
      ],
      "source": [
        "#Run simple base case BERT model\n",
        "model_checkpoint = 'bert-base-cased'\n",
        "bert_tokenizer = BertTokenizer.from_pretrained(model_checkpoint)\n",
        "bert_model = TFBertModel.from_pretrained(model_checkpoint)\n",
        "max_length = 500\n"
      ]
    },
    {
      "cell_type": "code",
      "execution_count": 32,
      "metadata": {
        "id": "QfanImGkhvEz"
      },
      "outputs": [],
      "source": [
        "train_data_st = train_data['message'].values.tolist()\n",
        "dev_data_st = dev_data['message'].values.tolist()\n",
        "test_data_st = test_data['message'].values.tolist()"
      ]
    },
    {
      "cell_type": "code",
      "execution_count": 33,
      "metadata": {
        "colab": {
          "base_uri": "https://localhost:8080/"
        },
        "id": "7bu4mbRzpntG",
        "outputId": "e98b5563-57d2-4309-c4ac-20a4ebe3b6a9"
      },
      "outputs": [
        {
          "output_type": "stream",
          "name": "stdout",
          "text": [
            " There are 0 missing message rows in the Train dataset\n"
          ]
        }
      ],
      "source": [
        "null_data = train_data.isnull().sum()\n",
        "print(' There are', '{:,}'.format(null_data['message']), 'missing message rows in the Train dataset') \n"
      ]
    },
    {
      "cell_type": "code",
      "execution_count": 34,
      "metadata": {
        "colab": {
          "base_uri": "https://localhost:8080/"
        },
        "id": "BhSqBB-fSN9F",
        "outputId": "a8fe1bca-4384-4407-89ae-a9f543990753"
      },
      "outputs": [
        {
          "output_type": "stream",
          "name": "stdout",
          "text": [
            " There are 0 missing message rows in the Test dataset\n"
          ]
        }
      ],
      "source": [
        "null_data = test_data.isnull().sum()\n",
        "print(' There are', '{:,}'.format(null_data['message']), 'missing message rows in the Test dataset') \n"
      ]
    },
    {
      "cell_type": "code",
      "execution_count": 35,
      "metadata": {
        "colab": {
          "base_uri": "https://localhost:8080/"
        },
        "id": "ILu912ZPoAkL",
        "outputId": "1e946af0-b953-4385-ec63-77df1aead522"
      },
      "outputs": [
        {
          "output_type": "stream",
          "name": "stdout",
          "text": [
            " There are 0 missing message rows in the Dev dataset\n"
          ]
        }
      ],
      "source": [
        "null_data = dev_data.isnull().sum()\n",
        "print(' There are', '{:,}'.format(null_data['message']), 'missing message rows in the Dev dataset') "
      ]
    },
    {
      "cell_type": "code",
      "execution_count": 36,
      "metadata": {
        "id": "5nK4tD__ITa2"
      },
      "outputs": [],
      "source": [
        "# tokenize the dataset, truncate when passed `max_length`, \n",
        "# and pad with 0's when less than `max_length` and return a tf Tensor\n",
        "train_encodings = bert_tokenizer(train_data_st, truncation=True, padding=True, max_length=max_length, return_tensors='tf')\n",
        "valid_encodings = bert_tokenizer(dev_data_st, truncation=True, padding=True, max_length=max_length, return_tensors='tf')\n",
        "test_encodings = bert_tokenizer(test_data_st, truncation=True, padding=True, max_length=max_length, return_tensors='tf')"
      ]
    },
    {
      "cell_type": "code",
      "execution_count": 37,
      "metadata": {
        "colab": {
          "base_uri": "https://localhost:8080/"
        },
        "id": "vPmXvJ6GIVKR",
        "outputId": "4a533b82-9b6d-47e7-d3c3-f4e10249cec3"
      },
      "outputs": [
        {
          "output_type": "execute_result",
          "data": {
            "text/plain": [
              "(60000, 500)"
            ]
          },
          "metadata": {},
          "execution_count": 37
        }
      ],
      "source": [
        "# Extract encoded features and labels, add to corresponding lists\n",
        "input_ids = np.array(train_encodings[\"input_ids\"], dtype=\"int32\")\n",
        "attention_masks = np.array(train_encodings[\"attention_mask\"], dtype=\"int32\")\n",
        "token_type_ids = np.array(train_encodings[\"token_type_ids\"], dtype=\"int32\")\n",
        "\n",
        "attention_masks.shape"
      ]
    },
    {
      "cell_type": "code",
      "execution_count": 38,
      "metadata": {
        "colab": {
          "base_uri": "https://localhost:8080/"
        },
        "id": "UFoLpvDPNCUo",
        "outputId": "dfcb4ecf-16ab-482a-dcb2-981439b4902c"
      },
      "outputs": [
        {
          "output_type": "execute_result",
          "data": {
            "text/plain": [
              "<tf.Tensor: shape=(5, 500), dtype=int32, numpy=\n",
              "array([[  101,  1142,  1110, ...,     0,     0,     0],\n",
              "       [  101,  1917,   178, ...,     0,     0,     0],\n",
              "       [  101, 24181,  2118, ...,     0,     0,     0],\n",
              "       [  101,  1105,  4477, ...,     0,     0,     0],\n",
              "       [  101,  9294,  2959, ...,     0,     0,     0]], dtype=int32)>"
            ]
          },
          "metadata": {},
          "execution_count": 38
        }
      ],
      "source": [
        "train_encodings.input_ids[:5]"
      ]
    },
    {
      "cell_type": "code",
      "execution_count": 39,
      "metadata": {
        "id": "6fgHsCGQNHU3"
      },
      "outputs": [],
      "source": [
        "def create_bert_multiclass_model(checkpoint = model_checkpoint,\n",
        "                                hidden_size = 201, \n",
        "                                dropout=0.3,\n",
        "                                learning_rate=0.00005,\n",
        "                                train_layers=-1):\n",
        "\n",
        "  \"\"\"\n",
        "  Build a simple classification model with BERT. Use the Pooled Output for classification purposes.\n",
        "    \n",
        "  \"\"\"\n",
        "\n",
        "  input_ids = layers.Input(shape=(max_length), dtype=tf.int32, name='input_ids')\n",
        "  attention_masks = layers.Input(shape=(max_length), dtype=tf.int32, name='attention_masks')\n",
        "  token_type_ids = layers.Input(shape=(max_length), dtype=tf.int32, name='token_type_ids')\n",
        "\n",
        "  bert_model = TFBertModel.from_pretrained(checkpoint)                                              \n",
        "\n",
        "  bert_output = bert_model(input_ids, attention_mask=attention_masks, token_type_ids=token_type_ids)\n",
        "  sequence_output = bert_output.last_hidden_state\n",
        "\n",
        "  attn_output = layers.MultiHeadAttention(num_heads=16, key_dim=100)(sequence_output, sequence_output)\n",
        "  max_pool = layers.GlobalMaxPooling1D()(attn_output)\n",
        "  dropout_output = layers.Dropout(dropout)(max_pool)\n",
        "  final_output = layers.Dense(len(valid_MBTI), activation=\"softmax\")(dropout_output)\n",
        "    \n",
        "  classification_model = tf.keras.models.Model(inputs=[input_ids, attention_masks, token_type_ids],\n",
        "                                  outputs=[final_output])\n",
        "  \n",
        "  classification_model.compile(optimizer=tf.keras.optimizers.Adam(),\n",
        "                  loss='sparse_categorical_crossentropy',\n",
        "                  metrics=['accuracy'])\n",
        "\n",
        "  return classification_model"
      ]
    },
    {
      "cell_type": "code",
      "execution_count": 40,
      "metadata": {
        "id": "PsCFPNHVNtXg"
      },
      "outputs": [],
      "source": [
        "#Set training to be True for Bert layers\n",
        "bert_model.trainable = True"
      ]
    },
    {
      "cell_type": "code",
      "execution_count": 41,
      "metadata": {
        "colab": {
          "base_uri": "https://localhost:8080/"
        },
        "id": "BZjrjsWkNzJN",
        "outputId": "9ff0c9e7-73be-44f0-c8ad-001cd6192094"
      },
      "outputs": [
        {
          "output_type": "stream",
          "name": "stderr",
          "text": [
            "Some layers from the model checkpoint at bert-base-cased were not used when initializing TFBertModel: ['mlm___cls', 'nsp___cls']\n",
            "- This IS expected if you are initializing TFBertModel from the checkpoint of a model trained on another task or with another architecture (e.g. initializing a BertForSequenceClassification model from a BertForPreTraining model).\n",
            "- This IS NOT expected if you are initializing TFBertModel from the checkpoint of a model that you expect to be exactly identical (initializing a BertForSequenceClassification model from a BertForSequenceClassification model).\n",
            "All the layers of TFBertModel were initialized from the model checkpoint at bert-base-cased.\n",
            "If your task is similar to the task the model of the checkpoint was trained on, you can already use TFBertModel for predictions without further training.\n"
          ]
        }
      ],
      "source": [
        "pooled_bert_model = create_bert_multiclass_model(checkpoint = model_checkpoint)"
      ]
    },
    {
      "cell_type": "code",
      "execution_count": 42,
      "metadata": {
        "colab": {
          "base_uri": "https://localhost:8080/",
          "height": 598
        },
        "id": "m1kv3qdvN37Z",
        "outputId": "a67de045-36f2-42be-ea2d-053e9df6547a"
      },
      "outputs": [
        {
          "output_type": "execute_result",
          "data": {
            "image/png": "[encoded data removed]",
            "text/plain": [
              "<IPython.core.display.Image object>"
            ]
          },
          "metadata": {},
          "execution_count": 42
        }
      ],
      "source": [
        "keras.utils.plot_model(pooled_bert_model, show_shapes=True, dpi=90)"
      ]
    },
    {
      "cell_type": "code",
      "execution_count": 43,
      "metadata": {
        "colab": {
          "base_uri": "https://localhost:8080/"
        },
        "id": "VGU-GN_wN8q8",
        "outputId": "b936c2e0-dd9b-42d2-9eab-d1ca7c89fc64"
      },
      "outputs": [
        {
          "output_type": "stream",
          "name": "stdout",
          "text": [
            "Model: \"model\"\n",
            "__________________________________________________________________________________________________\n",
            " Layer (type)                   Output Shape         Param #     Connected to                     \n",
            "==================================================================================================\n",
            " input_ids (InputLayer)         [(None, 500)]        0           []                               \n",
            "                                                                                                  \n",
            " attention_masks (InputLayer)   [(None, 500)]        0           []                               \n",
            "                                                                                                  \n",
            " token_type_ids (InputLayer)    [(None, 500)]        0           []                               \n",
            "                                                                                                  \n",
            " tf_bert_model_1 (TFBertModel)  TFBaseModelOutputWi  108310272   ['input_ids[0][0]',              \n",
            "                                thPoolingAndCrossAt               'attention_masks[0][0]',        \n",
            "                                tentions(last_hidde               'token_type_ids[0][0]']         \n",
            "                                n_state=(None, 500,                                               \n",
            "                                 768),                                                            \n",
            "                                 pooler_output=(Non                                               \n",
            "                                e, 768),                                                          \n",
            "                                 past_key_values=No                                               \n",
            "                                ne, hidden_states=N                                               \n",
            "                                one, attentions=Non                                               \n",
            "                                e, cross_attentions                                               \n",
            "                                =None)                                                            \n",
            "                                                                                                  \n",
            " multi_head_attention (MultiHea  (None, 500, 768)    4920768     ['tf_bert_model_1[0][0]',        \n",
            " dAttention)                                                      'tf_bert_model_1[0][0]']        \n",
            "                                                                                                  \n",
            " global_max_pooling1d (GlobalMa  (None, 768)         0           ['multi_head_attention[0][0]']   \n",
            " xPooling1D)                                                                                      \n",
            "                                                                                                  \n",
            " dropout_74 (Dropout)           (None, 768)          0           ['global_max_pooling1d[0][0]']   \n",
            "                                                                                                  \n",
            " dense (Dense)                  (None, 16)           12304       ['dropout_74[0][0]']             \n",
            "                                                                                                  \n",
            "==================================================================================================\n",
            "Total params: 113,243,344\n",
            "Trainable params: 113,243,344\n",
            "Non-trainable params: 0\n",
            "__________________________________________________________________________________________________\n"
          ]
        }
      ],
      "source": [
        "pooled_bert_model.summary()"
      ]
    },
    {
      "cell_type": "code",
      "execution_count": 44,
      "metadata": {
        "colab": {
          "base_uri": "https://localhost:8080/"
        },
        "id": "R5wHnNzQcuBz",
        "outputId": "f0af4f19-ab6d-4f0a-b50b-5c9236397750"
      },
      "outputs": [
        {
          "output_type": "execute_result",
          "data": {
            "text/plain": [
              "(60000,)"
            ]
          },
          "metadata": {},
          "execution_count": 44
        }
      ],
      "source": [
        "nptrain_labels.shape"
      ]
    },
    {
      "cell_type": "code",
      "execution_count": 45,
      "metadata": {
        "colab": {
          "base_uri": "https://localhost:8080/"
        },
        "id": "XQaL40ejcyjC",
        "outputId": "e6890540-4844-43b0-8c53-448230f1b7f6"
      },
      "outputs": [
        {
          "output_type": "execute_result",
          "data": {
            "text/plain": [
              "(10000,)"
            ]
          },
          "metadata": {},
          "execution_count": 45
        }
      ],
      "source": [
        "npdev_labels.shape"
      ]
    },
    {
      "cell_type": "code",
      "execution_count": 46,
      "metadata": {
        "colab": {
          "base_uri": "https://localhost:8080/"
        },
        "id": "OkskZzD7OBmK",
        "outputId": "65a2709a-9a6e-4a03-eea5-c9424605ca2c"
      },
      "outputs": [
        {
          "output_type": "stream",
          "name": "stdout",
          "text": [
            "Epoch 1/2\n"
          ]
        },
        {
          "output_type": "stream",
          "name": "stderr",
          "text": [
            "WARNING:tensorflow:Gradients do not exist for variables ['tf_bert_model_1/bert/pooler/dense/kernel:0', 'tf_bert_model_1/bert/pooler/dense/bias:0'] when minimizing the loss. If you're using `model.compile()`, did you forget to provide a `loss`argument?\n",
            "WARNING:tensorflow:Gradients do not exist for variables ['tf_bert_model_1/bert/pooler/dense/kernel:0', 'tf_bert_model_1/bert/pooler/dense/bias:0'] when minimizing the loss. If you're using `model.compile()`, did you forget to provide a `loss`argument?\n"
          ]
        },
        {
          "output_type": "stream",
          "name": "stdout",
          "text": [
            "3750/3750 [==============================] - 904s 238ms/step - loss: 2.6471 - accuracy: 0.1251 - val_loss: 3.1936 - val_accuracy: 0.0135\n",
            "Epoch 2/2\n",
            "3750/3750 [==============================] - 893s 238ms/step - loss: 2.5918 - accuracy: 0.1316 - val_loss: 3.2274 - val_accuracy: 0.0135\n"
          ]
        }
      ],
      "source": [
        "pooled_bert_model_history = pooled_bert_model.fit([train_encodings.input_ids, train_encodings.token_type_ids, train_encodings.attention_mask], \n",
        "                                                  nptrain_labels,   \n",
        "                                                  validation_data=([valid_encodings.input_ids, valid_encodings.token_type_ids, valid_encodings.attention_mask], \n",
        "                                                  npdev_labels),    \n",
        "                                                  batch_size=16, \n",
        "                                                  epochs=2)  "
      ]
    },
    {
      "cell_type": "code",
      "execution_count": 47,
      "metadata": {
        "id": "qnJFttKmOJTT",
        "colab": {
          "base_uri": "https://localhost:8080/"
        },
        "outputId": "6fc76e69-3e3d-45d5-95aa-de278a3b1fcf"
      },
      "outputs": [
        {
          "output_type": "stream",
          "name": "stdout",
          "text": [
            "313/313 [==============================] - 52s 156ms/step - loss: 3.2400 - accuracy: 0.0130\n",
            "Test loss: 3.2400283813476562\n",
            "Test accuracy: 0.013000000268220901\n"
          ]
        }
      ],
      "source": [
        "score = pooled_bert_model.evaluate([test_encodings.input_ids, test_encodings.token_type_ids, test_encodings.attention_mask], \n",
        "                                                  nptest_labels) \n",
        "\n",
        "print('Test loss:', score[0]) \n",
        "print('Test accuracy:', score[1])"
      ]
    },
    {
      "cell_type": "code",
      "execution_count": 48,
      "metadata": {
        "id": "beCbmWgbTjDB",
        "colab": {
          "base_uri": "https://localhost:8080/"
        },
        "outputId": "8aa389a0-a10f-4f00-e57d-caaf3eadcb0e"
      },
      "outputs": [
        {
          "output_type": "stream",
          "name": "stdout",
          "text": [
            "1/1 [==============================] - 3s 3s/step\n"
          ]
        }
      ],
      "source": [
        "#run predict for the first three elements in the test data set\n",
        "predictions = pooled_bert_model.predict([test_encodings.input_ids[:3], test_encodings.token_type_ids[:3], test_encodings.attention_mask[:3]])"
      ]
    },
    {
      "cell_type": "code",
      "execution_count": 49,
      "metadata": {
        "id": "ak_C5nCHTknv",
        "colab": {
          "base_uri": "https://localhost:8080/"
        },
        "outputId": "dd6c5635-66e9-4cc7-d84d-375b7fc522b8"
      },
      "outputs": [
        {
          "output_type": "stream",
          "name": "stdout",
          "text": [
            "313/313 [==============================] - 47s 151ms/step\n"
          ]
        },
        {
          "output_type": "execute_result",
          "data": {
            "text/plain": [
              "<tf.Tensor: shape=(10000,), dtype=int64, numpy=array([8, 8, 8, ..., 8, 8, 8])>"
            ]
          },
          "metadata": {},
          "execution_count": 49
        }
      ],
      "source": [
        "#run and capture all predictions from our test set using model.predict\n",
        "### YOUR CODE HERE\n",
        "length = len(test_encodings.input_ids)\n",
        "predictions = pooled_bert_model.predict([test_encodings.input_ids[:length], test_encodings.token_type_ids[:length], test_encodings.attention_mask[:length]])\n",
        "### END YOUR CODE\n",
        "\n",
        "#now we need to get the highest probability in the distribution for each prediction\n",
        "#and store that in a tf.Tensor\n",
        "predictions = tf.argmax(predictions, axis=-1)\n",
        "predictions"
      ]
    },
    {
      "cell_type": "code",
      "source": [
        "nptest_labels[1000:]"
      ],
      "metadata": {
        "id": "CRQamRIROei5",
        "colab": {
          "base_uri": "https://localhost:8080/"
        },
        "outputId": "9f970481-686d-413a-e7db-d8f099014cd0"
      },
      "execution_count": 50,
      "outputs": [
        {
          "output_type": "execute_result",
          "data": {
            "text/plain": [
              "array([9, 1, 6, ..., 9, 5, 1])"
            ]
          },
          "metadata": {},
          "execution_count": 50
        }
      ]
    },
    {
      "cell_type": "code",
      "execution_count": 51,
      "metadata": {
        "id": "rtSumGOETrdI",
        "colab": {
          "base_uri": "https://localhost:8080/"
        },
        "outputId": "82b99c53-f180-4640-c3bb-c80aed9aae21"
      },
      "outputs": [
        {
          "output_type": "stream",
          "name": "stdout",
          "text": [
            "              precision    recall  f1-score   support\n",
            "\n",
            "        ISTJ       0.00      0.00      0.00       220\n",
            "        INTJ       0.00      0.00      0.00      1426\n",
            "        ESTJ       0.00      0.00      0.00       232\n",
            "        ENTJ       0.00      0.00      0.00       488\n",
            "        ENTP       0.00      0.00      0.00       904\n",
            "        INTP       0.00      0.00      0.00      1346\n",
            "        ISTP       0.00      0.00      0.00       468\n",
            "        ESTP       0.00      0.00      0.00       205\n",
            "        ISFJ       0.01      1.00      0.03       130\n",
            "        INFJ       0.00      0.00      0.00      1015\n",
            "        ESFJ       0.00      0.00      0.00       225\n",
            "        ENFJ       0.00      0.00      0.00       287\n",
            "        ENFP       0.00      0.00      0.00      1123\n",
            "        INFP       0.00      0.00      0.00      1304\n",
            "        ISFP       0.00      0.00      0.00       416\n",
            "        ESFP       0.00      0.00      0.00       211\n",
            "\n",
            "    accuracy                           0.01     10000\n",
            "   macro avg       0.00      0.06      0.00     10000\n",
            "weighted avg       0.00      0.01      0.00     10000\n",
            "\n"
          ]
        },
        {
          "output_type": "stream",
          "name": "stderr",
          "text": [
            "/usr/local/lib/python3.7/dist-packages/sklearn/metrics/_classification.py:1318: UndefinedMetricWarning: Precision and F-score are ill-defined and being set to 0.0 in labels with no predicted samples. Use `zero_division` parameter to control this behavior.\n",
            "  _warn_prf(average, modifier, msg_start, len(result))\n",
            "/usr/local/lib/python3.7/dist-packages/sklearn/metrics/_classification.py:1318: UndefinedMetricWarning: Precision and F-score are ill-defined and being set to 0.0 in labels with no predicted samples. Use `zero_division` parameter to control this behavior.\n",
            "  _warn_prf(average, modifier, msg_start, len(result))\n",
            "/usr/local/lib/python3.7/dist-packages/sklearn/metrics/_classification.py:1318: UndefinedMetricWarning: Precision and F-score are ill-defined and being set to 0.0 in labels with no predicted samples. Use `zero_division` parameter to control this behavior.\n",
            "  _warn_prf(average, modifier, msg_start, len(result))\n"
          ]
        }
      ],
      "source": [
        "print(classification_report(nptest_labels, predictions.numpy(), target_names=valid_MBTI))"
      ]
    },
    {
      "cell_type": "code",
      "execution_count": 52,
      "metadata": {
        "id": "xFi0fiGiTxMO",
        "colab": {
          "base_uri": "https://localhost:8080/",
          "height": 953
        },
        "outputId": "c73fb769-5c73-4dec-af00-07f6cee60653"
      },
      "outputs": [
        {
          "output_type": "execute_result",
          "data": {
            "text/plain": [
              "Text(159.0, 0.5, 'True')"
            ]
          },
          "metadata": {},
          "execution_count": 52
        },
        {
          "output_type": "display_data",
          "data": {
            "text/plain": [
              "<Figure size 1440x1152 with 2 Axes>"
            ],
            "image/png": "[encoded data removed]"
          },
          "metadata": {
            "needs_background": "light"
          }
        }
      ],
      "source": [
        "cm = tf.math.confusion_matrix(nptest_labels, predictions)\n",
        "cm = cm/cm.numpy().sum(axis=1)[:, tf.newaxis]\n",
        "plt.figure(figsize=(20,16))\n",
        "sns.heatmap(\n",
        "    cm, annot=True,\n",
        "    xticklabels=valid_MBTI,\n",
        "    yticklabels=valid_MBTI)\n",
        "plt.xlabel(\"Predicted\")\n",
        "plt.ylabel(\"True\")\n"
      ]
    },
    {
      "cell_type": "code",
      "execution_count": 53,
      "metadata": {
        "id": "OtOwF_UO4IXh"
      },
      "outputs": [],
      "source": [
        "label_dict = {'neutral': 0, 'entailment': 1, 'contradiction': 2}"
      ]
    }
  ],
  "metadata": {
    "accelerator": "GPU",
    "colab": {
      "collapsed_sections": [],
      "machine_shape": "hm",
      "provenance": [],
      "include_colab_link": true
    },
    "gpuClass": "premium",
    "kernelspec": {
      "display_name": "Python 3 (ipykernel)",
      "language": "python",
      "name": "python3"
    },
    "language_info": {
      "codemirror_mode": {
        "name": "ipython",
        "version": 3
      },
      "file_extension": ".py",
      "mimetype": "text/x-python",
      "name": "python",
      "nbconvert_exporter": "python",
      "pygments_lexer": "ipython3",
      "version": "3.9.12"
    },
    "widgets": {
      "application/vnd.jupyter.widget-state+json": {
        "476f5cc593e847c5ae6f0c3fa1d28302": {
          "model_module": "@jupyter-widgets/controls",
          "model_name": "HBoxModel",
          "model_module_version": "1.5.0",
          "state": {
            "_dom_classes": [],
            "_model_module": "@jupyter-widgets/controls",
            "_model_module_version": "1.5.0",
            "_model_name": "HBoxModel",
            "_view_count": null,
            "_view_module": "@jupyter-widgets/controls",
            "_view_module_version": "1.5.0",
            "_view_name": "HBoxView",
            "box_style": "",
            "children": [
              "IPY_MODEL_615718048ea74408bb79dd207fd110ef",
              "IPY_MODEL_73568d70751b407a99f6a5117245178c",
              "IPY_MODEL_ee3d71dd8d754bc4850f373da58314aa"
            ],
            "layout": "IPY_MODEL_75c564c2dcf7443bb0e311d44ef867d1"
          }
        },
        "615718048ea74408bb79dd207fd110ef": {
          "model_module": "@jupyter-widgets/controls",
          "model_name": "HTMLModel",
          "model_module_version": "1.5.0",
          "state": {
            "_dom_classes": [],
            "_model_module": "@jupyter-widgets/controls",
            "_model_module_version": "1.5.0",
            "_model_name": "HTMLModel",
            "_view_count": null,
            "_view_module": "@jupyter-widgets/controls",
            "_view_module_version": "1.5.0",
            "_view_name": "HTMLView",
            "description": "",
            "description_tooltip": null,
            "layout": "IPY_MODEL_c121f9477e6246a7b735846bd080db8b",
            "placeholder": "​",
            "style": "IPY_MODEL_3e662cbfd0b04ff6a54ca340b0f0687c",
            "value": "Downloading: 100%"
          }
        },
        "73568d70751b407a99f6a5117245178c": {
          "model_module": "@jupyter-widgets/controls",
          "model_name": "FloatProgressModel",
          "model_module_version": "1.5.0",
          "state": {
            "_dom_classes": [],
            "_model_module": "@jupyter-widgets/controls",
            "_model_module_version": "1.5.0",
            "_model_name": "FloatProgressModel",
            "_view_count": null,
            "_view_module": "@jupyter-widgets/controls",
            "_view_module_version": "1.5.0",
            "_view_name": "ProgressView",
            "bar_style": "success",
            "description": "",
            "description_tooltip": null,
            "layout": "IPY_MODEL_95bccfb4ea0c4cfd9a18e15be19110fa",
            "max": 213450,
            "min": 0,
            "orientation": "horizontal",
            "style": "IPY_MODEL_5e83bcc9b6fb495fbcbff5cdd4d7e413",
            "value": 213450
          }
        },
        "ee3d71dd8d754bc4850f373da58314aa": {
          "model_module": "@jupyter-widgets/controls",
          "model_name": "HTMLModel",
          "model_module_version": "1.5.0",
          "state": {
            "_dom_classes": [],
            "_model_module": "@jupyter-widgets/controls",
            "_model_module_version": "1.5.0",
            "_model_name": "HTMLModel",
            "_view_count": null,
            "_view_module": "@jupyter-widgets/controls",
            "_view_module_version": "1.5.0",
            "_view_name": "HTMLView",
            "description": "",
            "description_tooltip": null,
            "layout": "IPY_MODEL_e637d5a4cc0941708c91e5cf75194e11",
            "placeholder": "​",
            "style": "IPY_MODEL_a7b10c2eb3fa4641a0d36654caa48a1f",
            "value": " 213k/213k [00:00&lt;00:00, 891kB/s]"
          }
        },
        "75c564c2dcf7443bb0e311d44ef867d1": {
          "model_module": "@jupyter-widgets/base",
          "model_name": "LayoutModel",
          "model_module_version": "1.2.0",
          "state": {
            "_model_module": "@jupyter-widgets/base",
            "_model_module_version": "1.2.0",
            "_model_name": "LayoutModel",
            "_view_count": null,
            "_view_module": "@jupyter-widgets/base",
            "_view_module_version": "1.2.0",
            "_view_name": "LayoutView",
            "align_content": null,
            "align_items": null,
            "align_self": null,
            "border": null,
            "bottom": null,
            "display": null,
            "flex": null,
            "flex_flow": null,
            "grid_area": null,
            "grid_auto_columns": null,
            "grid_auto_flow": null,
            "grid_auto_rows": null,
            "grid_column": null,
            "grid_gap": null,
            "grid_row": null,
            "grid_template_areas": null,
            "grid_template_columns": null,
            "grid_template_rows": null,
            "height": null,
            "justify_content": null,
            "justify_items": null,
            "left": null,
            "margin": null,
            "max_height": null,
            "max_width": null,
            "min_height": null,
            "min_width": null,
            "object_fit": null,
            "object_position": null,
            "order": null,
            "overflow": null,
            "overflow_x": null,
            "overflow_y": null,
            "padding": null,
            "right": null,
            "top": null,
            "visibility": null,
            "width": null
          }
        },
        "c121f9477e6246a7b735846bd080db8b": {
          "model_module": "@jupyter-widgets/base",
          "model_name": "LayoutModel",
          "model_module_version": "1.2.0",
          "state": {
            "_model_module": "@jupyter-widgets/base",
            "_model_module_version": "1.2.0",
            "_model_name": "LayoutModel",
            "_view_count": null,
            "_view_module": "@jupyter-widgets/base",
            "_view_module_version": "1.2.0",
            "_view_name": "LayoutView",
            "align_content": null,
            "align_items": null,
            "align_self": null,
            "border": null,
            "bottom": null,
            "display": null,
            "flex": null,
            "flex_flow": null,
            "grid_area": null,
            "grid_auto_columns": null,
            "grid_auto_flow": null,
            "grid_auto_rows": null,
            "grid_column": null,
            "grid_gap": null,
            "grid_row": null,
            "grid_template_areas": null,
            "grid_template_columns": null,
            "grid_template_rows": null,
            "height": null,
            "justify_content": null,
            "justify_items": null,
            "left": null,
            "margin": null,
            "max_height": null,
            "max_width": null,
            "min_height": null,
            "min_width": null,
            "object_fit": null,
            "object_position": null,
            "order": null,
            "overflow": null,
            "overflow_x": null,
            "overflow_y": null,
            "padding": null,
            "right": null,
            "top": null,
            "visibility": null,
            "width": null
          }
        },
        "3e662cbfd0b04ff6a54ca340b0f0687c": {
          "model_module": "@jupyter-widgets/controls",
          "model_name": "DescriptionStyleModel",
          "model_module_version": "1.5.0",
          "state": {
            "_model_module": "@jupyter-widgets/controls",
            "_model_module_version": "1.5.0",
            "_model_name": "DescriptionStyleModel",
            "_view_count": null,
            "_view_module": "@jupyter-widgets/base",
            "_view_module_version": "1.2.0",
            "_view_name": "StyleView",
            "description_width": ""
          }
        },
        "95bccfb4ea0c4cfd9a18e15be19110fa": {
          "model_module": "@jupyter-widgets/base",
          "model_name": "LayoutModel",
          "model_module_version": "1.2.0",
          "state": {
            "_model_module": "@jupyter-widgets/base",
            "_model_module_version": "1.2.0",
            "_model_name": "LayoutModel",
            "_view_count": null,
            "_view_module": "@jupyter-widgets/base",
            "_view_module_version": "1.2.0",
            "_view_name": "LayoutView",
            "align_content": null,
            "align_items": null,
            "align_self": null,
            "border": null,
            "bottom": null,
            "display": null,
            "flex": null,
            "flex_flow": null,
            "grid_area": null,
            "grid_auto_columns": null,
            "grid_auto_flow": null,
            "grid_auto_rows": null,
            "grid_column": null,
            "grid_gap": null,
            "grid_row": null,
            "grid_template_areas": null,
            "grid_template_columns": null,
            "grid_template_rows": null,
            "height": null,
            "justify_content": null,
            "justify_items": null,
            "left": null,
            "margin": null,
            "max_height": null,
            "max_width": null,
            "min_height": null,
            "min_width": null,
            "object_fit": null,
            "object_position": null,
            "order": null,
            "overflow": null,
            "overflow_x": null,
            "overflow_y": null,
            "padding": null,
            "right": null,
            "top": null,
            "visibility": null,
            "width": null
          }
        },
        "5e83bcc9b6fb495fbcbff5cdd4d7e413": {
          "model_module": "@jupyter-widgets/controls",
          "model_name": "ProgressStyleModel",
          "model_module_version": "1.5.0",
          "state": {
            "_model_module": "@jupyter-widgets/controls",
            "_model_module_version": "1.5.0",
            "_model_name": "ProgressStyleModel",
            "_view_count": null,
            "_view_module": "@jupyter-widgets/base",
            "_view_module_version": "1.2.0",
            "_view_name": "StyleView",
            "bar_color": null,
            "description_width": ""
          }
        },
        "e637d5a4cc0941708c91e5cf75194e11": {
          "model_module": "@jupyter-widgets/base",
          "model_name": "LayoutModel",
          "model_module_version": "1.2.0",
          "state": {
            "_model_module": "@jupyter-widgets/base",
            "_model_module_version": "1.2.0",
            "_model_name": "LayoutModel",
            "_view_count": null,
            "_view_module": "@jupyter-widgets/base",
            "_view_module_version": "1.2.0",
            "_view_name": "LayoutView",
            "align_content": null,
            "align_items": null,
            "align_self": null,
            "border": null,
            "bottom": null,
            "display": null,
            "flex": null,
            "flex_flow": null,
            "grid_area": null,
            "grid_auto_columns": null,
            "grid_auto_flow": null,
            "grid_auto_rows": null,
            "grid_column": null,
            "grid_gap": null,
            "grid_row": null,
            "grid_template_areas": null,
            "grid_template_columns": null,
            "grid_template_rows": null,
            "height": null,
            "justify_content": null,
            "justify_items": null,
            "left": null,
            "margin": null,
            "max_height": null,
            "max_width": null,
            "min_height": null,
            "min_width": null,
            "object_fit": null,
            "object_position": null,
            "order": null,
            "overflow": null,
            "overflow_x": null,
            "overflow_y": null,
            "padding": null,
            "right": null,
            "top": null,
            "visibility": null,
            "width": null
          }
        },
        "a7b10c2eb3fa4641a0d36654caa48a1f": {
          "model_module": "@jupyter-widgets/controls",
          "model_name": "DescriptionStyleModel",
          "model_module_version": "1.5.0",
          "state": {
            "_model_module": "@jupyter-widgets/controls",
            "_model_module_version": "1.5.0",
            "_model_name": "DescriptionStyleModel",
            "_view_count": null,
            "_view_module": "@jupyter-widgets/base",
            "_view_module_version": "1.2.0",
            "_view_name": "StyleView",
            "description_width": ""
          }
        },
        "1cf29769fdbb45b5ac2677683a44b8e1": {
          "model_module": "@jupyter-widgets/controls",
          "model_name": "HBoxModel",
          "model_module_version": "1.5.0",
          "state": {
            "_dom_classes": [],
            "_model_module": "@jupyter-widgets/controls",
            "_model_module_version": "1.5.0",
            "_model_name": "HBoxModel",
            "_view_count": null,
            "_view_module": "@jupyter-widgets/controls",
            "_view_module_version": "1.5.0",
            "_view_name": "HBoxView",
            "box_style": "",
            "children": [
              "IPY_MODEL_31dd5d7e98ac40be9ba2d112daa72a78",
              "IPY_MODEL_59fe76b06d1d46ab832185e181deac60",
              "IPY_MODEL_4c58fef4a7da4319a0d87663a1bcd4a1"
            ],
            "layout": "IPY_MODEL_55542e6f1eb0423f8a3bc28e4dfcead5"
          }
        },
        "31dd5d7e98ac40be9ba2d112daa72a78": {
          "model_module": "@jupyter-widgets/controls",
          "model_name": "HTMLModel",
          "model_module_version": "1.5.0",
          "state": {
            "_dom_classes": [],
            "_model_module": "@jupyter-widgets/controls",
            "_model_module_version": "1.5.0",
            "_model_name": "HTMLModel",
            "_view_count": null,
            "_view_module": "@jupyter-widgets/controls",
            "_view_module_version": "1.5.0",
            "_view_name": "HTMLView",
            "description": "",
            "description_tooltip": null,
            "layout": "IPY_MODEL_e3e0e25765e140b78062865c2235d397",
            "placeholder": "​",
            "style": "IPY_MODEL_805a6802dc674163979a1d580dc929d7",
            "value": "Downloading: 100%"
          }
        },
        "59fe76b06d1d46ab832185e181deac60": {
          "model_module": "@jupyter-widgets/controls",
          "model_name": "FloatProgressModel",
          "model_module_version": "1.5.0",
          "state": {
            "_dom_classes": [],
            "_model_module": "@jupyter-widgets/controls",
            "_model_module_version": "1.5.0",
            "_model_name": "FloatProgressModel",
            "_view_count": null,
            "_view_module": "@jupyter-widgets/controls",
            "_view_module_version": "1.5.0",
            "_view_name": "ProgressView",
            "bar_style": "success",
            "description": "",
            "description_tooltip": null,
            "layout": "IPY_MODEL_c9e8069e16a34247ad25eae56375d23e",
            "max": 29,
            "min": 0,
            "orientation": "horizontal",
            "style": "IPY_MODEL_25435421530d42daae5f2e7784e18038",
            "value": 29
          }
        },
        "4c58fef4a7da4319a0d87663a1bcd4a1": {
          "model_module": "@jupyter-widgets/controls",
          "model_name": "HTMLModel",
          "model_module_version": "1.5.0",
          "state": {
            "_dom_classes": [],
            "_model_module": "@jupyter-widgets/controls",
            "_model_module_version": "1.5.0",
            "_model_name": "HTMLModel",
            "_view_count": null,
            "_view_module": "@jupyter-widgets/controls",
            "_view_module_version": "1.5.0",
            "_view_name": "HTMLView",
            "description": "",
            "description_tooltip": null,
            "layout": "IPY_MODEL_8754beedbdc74bdb85b64c5cfcd9fb31",
            "placeholder": "​",
            "style": "IPY_MODEL_8c407abf46b44892a604ec05c58b910d",
            "value": " 29.0/29.0 [00:00&lt;00:00, 1.10kB/s]"
          }
        },
        "55542e6f1eb0423f8a3bc28e4dfcead5": {
          "model_module": "@jupyter-widgets/base",
          "model_name": "LayoutModel",
          "model_module_version": "1.2.0",
          "state": {
            "_model_module": "@jupyter-widgets/base",
            "_model_module_version": "1.2.0",
            "_model_name": "LayoutModel",
            "_view_count": null,
            "_view_module": "@jupyter-widgets/base",
            "_view_module_version": "1.2.0",
            "_view_name": "LayoutView",
            "align_content": null,
            "align_items": null,
            "align_self": null,
            "border": null,
            "bottom": null,
            "display": null,
            "flex": null,
            "flex_flow": null,
            "grid_area": null,
            "grid_auto_columns": null,
            "grid_auto_flow": null,
            "grid_auto_rows": null,
            "grid_column": null,
            "grid_gap": null,
            "grid_row": null,
            "grid_template_areas": null,
            "grid_template_columns": null,
            "grid_template_rows": null,
            "height": null,
            "justify_content": null,
            "justify_items": null,
            "left": null,
            "margin": null,
            "max_height": null,
            "max_width": null,
            "min_height": null,
            "min_width": null,
            "object_fit": null,
            "object_position": null,
            "order": null,
            "overflow": null,
            "overflow_x": null,
            "overflow_y": null,
            "padding": null,
            "right": null,
            "top": null,
            "visibility": null,
            "width": null
          }
        },
        "e3e0e25765e140b78062865c2235d397": {
          "model_module": "@jupyter-widgets/base",
          "model_name": "LayoutModel",
          "model_module_version": "1.2.0",
          "state": {
            "_model_module": "@jupyter-widgets/base",
            "_model_module_version": "1.2.0",
            "_model_name": "LayoutModel",
            "_view_count": null,
            "_view_module": "@jupyter-widgets/base",
            "_view_module_version": "1.2.0",
            "_view_name": "LayoutView",
            "align_content": null,
            "align_items": null,
            "align_self": null,
            "border": null,
            "bottom": null,
            "display": null,
            "flex": null,
            "flex_flow": null,
            "grid_area": null,
            "grid_auto_columns": null,
            "grid_auto_flow": null,
            "grid_auto_rows": null,
            "grid_column": null,
            "grid_gap": null,
            "grid_row": null,
            "grid_template_areas": null,
            "grid_template_columns": null,
            "grid_template_rows": null,
            "height": null,
            "justify_content": null,
            "justify_items": null,
            "left": null,
            "margin": null,
            "max_height": null,
            "max_width": null,
            "min_height": null,
            "min_width": null,
            "object_fit": null,
            "object_position": null,
            "order": null,
            "overflow": null,
            "overflow_x": null,
            "overflow_y": null,
            "padding": null,
            "right": null,
            "top": null,
            "visibility": null,
            "width": null
          }
        },
        "805a6802dc674163979a1d580dc929d7": {
          "model_module": "@jupyter-widgets/controls",
          "model_name": "DescriptionStyleModel",
          "model_module_version": "1.5.0",
          "state": {
            "_model_module": "@jupyter-widgets/controls",
            "_model_module_version": "1.5.0",
            "_model_name": "DescriptionStyleModel",
            "_view_count": null,
            "_view_module": "@jupyter-widgets/base",
            "_view_module_version": "1.2.0",
            "_view_name": "StyleView",
            "description_width": ""
          }
        },
        "c9e8069e16a34247ad25eae56375d23e": {
          "model_module": "@jupyter-widgets/base",
          "model_name": "LayoutModel",
          "model_module_version": "1.2.0",
          "state": {
            "_model_module": "@jupyter-widgets/base",
            "_model_module_version": "1.2.0",
            "_model_name": "LayoutModel",
            "_view_count": null,
            "_view_module": "@jupyter-widgets/base",
            "_view_module_version": "1.2.0",
            "_view_name": "LayoutView",
            "align_content": null,
            "align_items": null,
            "align_self": null,
            "border": null,
            "bottom": null,
            "display": null,
            "flex": null,
            "flex_flow": null,
            "grid_area": null,
            "grid_auto_columns": null,
            "grid_auto_flow": null,
            "grid_auto_rows": null,
            "grid_column": null,
            "grid_gap": null,
            "grid_row": null,
            "grid_template_areas": null,
            "grid_template_columns": null,
            "grid_template_rows": null,
            "height": null,
            "justify_content": null,
            "justify_items": null,
            "left": null,
            "margin": null,
            "max_height": null,
            "max_width": null,
            "min_height": null,
            "min_width": null,
            "object_fit": null,
            "object_position": null,
            "order": null,
            "overflow": null,
            "overflow_x": null,
            "overflow_y": null,
            "padding": null,
            "right": null,
            "top": null,
            "visibility": null,
            "width": null
          }
        },
        "25435421530d42daae5f2e7784e18038": {
          "model_module": "@jupyter-widgets/controls",
          "model_name": "ProgressStyleModel",
          "model_module_version": "1.5.0",
          "state": {
            "_model_module": "@jupyter-widgets/controls",
            "_model_module_version": "1.5.0",
            "_model_name": "ProgressStyleModel",
            "_view_count": null,
            "_view_module": "@jupyter-widgets/base",
            "_view_module_version": "1.2.0",
            "_view_name": "StyleView",
            "bar_color": null,
            "description_width": ""
          }
        },
        "8754beedbdc74bdb85b64c5cfcd9fb31": {
          "model_module": "@jupyter-widgets/base",
          "model_name": "LayoutModel",
          "model_module_version": "1.2.0",
          "state": {
            "_model_module": "@jupyter-widgets/base",
            "_model_module_version": "1.2.0",
            "_model_name": "LayoutModel",
            "_view_count": null,
            "_view_module": "@jupyter-widgets/base",
            "_view_module_version": "1.2.0",
            "_view_name": "LayoutView",
            "align_content": null,
            "align_items": null,
            "align_self": null,
            "border": null,
            "bottom": null,
            "display": null,
            "flex": null,
            "flex_flow": null,
            "grid_area": null,
            "grid_auto_columns": null,
            "grid_auto_flow": null,
            "grid_auto_rows": null,
            "grid_column": null,
            "grid_gap": null,
            "grid_row": null,
            "grid_template_areas": null,
            "grid_template_columns": null,
            "grid_template_rows": null,
            "height": null,
            "justify_content": null,
            "justify_items": null,
            "left": null,
            "margin": null,
            "max_height": null,
            "max_width": null,
            "min_height": null,
            "min_width": null,
            "object_fit": null,
            "object_position": null,
            "order": null,
            "overflow": null,
            "overflow_x": null,
            "overflow_y": null,
            "padding": null,
            "right": null,
            "top": null,
            "visibility": null,
            "width": null
          }
        },
        "8c407abf46b44892a604ec05c58b910d": {
          "model_module": "@jupyter-widgets/controls",
          "model_name": "DescriptionStyleModel",
          "model_module_version": "1.5.0",
          "state": {
            "_model_module": "@jupyter-widgets/controls",
            "_model_module_version": "1.5.0",
            "_model_name": "DescriptionStyleModel",
            "_view_count": null,
            "_view_module": "@jupyter-widgets/base",
            "_view_module_version": "1.2.0",
            "_view_name": "StyleView",
            "description_width": ""
          }
        },
        "a523a784a1a247cbaee93e2a6abd3ca8": {
          "model_module": "@jupyter-widgets/controls",
          "model_name": "HBoxModel",
          "model_module_version": "1.5.0",
          "state": {
            "_dom_classes": [],
            "_model_module": "@jupyter-widgets/controls",
            "_model_module_version": "1.5.0",
            "_model_name": "HBoxModel",
            "_view_count": null,
            "_view_module": "@jupyter-widgets/controls",
            "_view_module_version": "1.5.0",
            "_view_name": "HBoxView",
            "box_style": "",
            "children": [
              "IPY_MODEL_2b9c26a6d42943cc903fc980e38988a0",
              "IPY_MODEL_f413aa4e08d64cb88d85c0802862aa0e",
              "IPY_MODEL_20a3e1993d6f4e0aaa486b85a21d345a"
            ],
            "layout": "IPY_MODEL_9ee29e9be2a04e65b36e71d50a5bce02"
          }
        },
        "2b9c26a6d42943cc903fc980e38988a0": {
          "model_module": "@jupyter-widgets/controls",
          "model_name": "HTMLModel",
          "model_module_version": "1.5.0",
          "state": {
            "_dom_classes": [],
            "_model_module": "@jupyter-widgets/controls",
            "_model_module_version": "1.5.0",
            "_model_name": "HTMLModel",
            "_view_count": null,
            "_view_module": "@jupyter-widgets/controls",
            "_view_module_version": "1.5.0",
            "_view_name": "HTMLView",
            "description": "",
            "description_tooltip": null,
            "layout": "IPY_MODEL_f9fa41af9e6a418f914770086b99dd82",
            "placeholder": "​",
            "style": "IPY_MODEL_fe56f61a39ff465b82b34780000f131c",
            "value": "Downloading: 100%"
          }
        },
        "f413aa4e08d64cb88d85c0802862aa0e": {
          "model_module": "@jupyter-widgets/controls",
          "model_name": "FloatProgressModel",
          "model_module_version": "1.5.0",
          "state": {
            "_dom_classes": [],
            "_model_module": "@jupyter-widgets/controls",
            "_model_module_version": "1.5.0",
            "_model_name": "FloatProgressModel",
            "_view_count": null,
            "_view_module": "@jupyter-widgets/controls",
            "_view_module_version": "1.5.0",
            "_view_name": "ProgressView",
            "bar_style": "success",
            "description": "",
            "description_tooltip": null,
            "layout": "IPY_MODEL_3c45ed811f904a95b0793d3137d9fad1",
            "max": 570,
            "min": 0,
            "orientation": "horizontal",
            "style": "IPY_MODEL_34f6871348b847008918d6cc3d79f746",
            "value": 570
          }
        },
        "20a3e1993d6f4e0aaa486b85a21d345a": {
          "model_module": "@jupyter-widgets/controls",
          "model_name": "HTMLModel",
          "model_module_version": "1.5.0",
          "state": {
            "_dom_classes": [],
            "_model_module": "@jupyter-widgets/controls",
            "_model_module_version": "1.5.0",
            "_model_name": "HTMLModel",
            "_view_count": null,
            "_view_module": "@jupyter-widgets/controls",
            "_view_module_version": "1.5.0",
            "_view_name": "HTMLView",
            "description": "",
            "description_tooltip": null,
            "layout": "IPY_MODEL_03de3413c3584df68098706a8a324b13",
            "placeholder": "​",
            "style": "IPY_MODEL_b70506f3dde3481ca53d9692a3964161",
            "value": " 570/570 [00:00&lt;00:00, 21.1kB/s]"
          }
        },
        "9ee29e9be2a04e65b36e71d50a5bce02": {
          "model_module": "@jupyter-widgets/base",
          "model_name": "LayoutModel",
          "model_module_version": "1.2.0",
          "state": {
            "_model_module": "@jupyter-widgets/base",
            "_model_module_version": "1.2.0",
            "_model_name": "LayoutModel",
            "_view_count": null,
            "_view_module": "@jupyter-widgets/base",
            "_view_module_version": "1.2.0",
            "_view_name": "LayoutView",
            "align_content": null,
            "align_items": null,
            "align_self": null,
            "border": null,
            "bottom": null,
            "display": null,
            "flex": null,
            "flex_flow": null,
            "grid_area": null,
            "grid_auto_columns": null,
            "grid_auto_flow": null,
            "grid_auto_rows": null,
            "grid_column": null,
            "grid_gap": null,
            "grid_row": null,
            "grid_template_areas": null,
            "grid_template_columns": null,
            "grid_template_rows": null,
            "height": null,
            "justify_content": null,
            "justify_items": null,
            "left": null,
            "margin": null,
            "max_height": null,
            "max_width": null,
            "min_height": null,
            "min_width": null,
            "object_fit": null,
            "object_position": null,
            "order": null,
            "overflow": null,
            "overflow_x": null,
            "overflow_y": null,
            "padding": null,
            "right": null,
            "top": null,
            "visibility": null,
            "width": null
          }
        },
        "f9fa41af9e6a418f914770086b99dd82": {
          "model_module": "@jupyter-widgets/base",
          "model_name": "LayoutModel",
          "model_module_version": "1.2.0",
          "state": {
            "_model_module": "@jupyter-widgets/base",
            "_model_module_version": "1.2.0",
            "_model_name": "LayoutModel",
            "_view_count": null,
            "_view_module": "@jupyter-widgets/base",
            "_view_module_version": "1.2.0",
            "_view_name": "LayoutView",
            "align_content": null,
            "align_items": null,
            "align_self": null,
            "border": null,
            "bottom": null,
            "display": null,
            "flex": null,
            "flex_flow": null,
            "grid_area": null,
            "grid_auto_columns": null,
            "grid_auto_flow": null,
            "grid_auto_rows": null,
            "grid_column": null,
            "grid_gap": null,
            "grid_row": null,
            "grid_template_areas": null,
            "grid_template_columns": null,
            "grid_template_rows": null,
            "height": null,
            "justify_content": null,
            "justify_items": null,
            "left": null,
            "margin": null,
            "max_height": null,
            "max_width": null,
            "min_height": null,
            "min_width": null,
            "object_fit": null,
            "object_position": null,
            "order": null,
            "overflow": null,
            "overflow_x": null,
            "overflow_y": null,
            "padding": null,
            "right": null,
            "top": null,
            "visibility": null,
            "width": null
          }
        },
        "fe56f61a39ff465b82b34780000f131c": {
          "model_module": "@jupyter-widgets/controls",
          "model_name": "DescriptionStyleModel",
          "model_module_version": "1.5.0",
          "state": {
            "_model_module": "@jupyter-widgets/controls",
            "_model_module_version": "1.5.0",
            "_model_name": "DescriptionStyleModel",
            "_view_count": null,
            "_view_module": "@jupyter-widgets/base",
            "_view_module_version": "1.2.0",
            "_view_name": "StyleView",
            "description_width": ""
          }
        },
        "3c45ed811f904a95b0793d3137d9fad1": {
          "model_module": "@jupyter-widgets/base",
          "model_name": "LayoutModel",
          "model_module_version": "1.2.0",
          "state": {
            "_model_module": "@jupyter-widgets/base",
            "_model_module_version": "1.2.0",
            "_model_name": "LayoutModel",
            "_view_count": null,
            "_view_module": "@jupyter-widgets/base",
            "_view_module_version": "1.2.0",
            "_view_name": "LayoutView",
            "align_content": null,
            "align_items": null,
            "align_self": null,
            "border": null,
            "bottom": null,
            "display": null,
            "flex": null,
            "flex_flow": null,
            "grid_area": null,
            "grid_auto_columns": null,
            "grid_auto_flow": null,
            "grid_auto_rows": null,
            "grid_column": null,
            "grid_gap": null,
            "grid_row": null,
            "grid_template_areas": null,
            "grid_template_columns": null,
            "grid_template_rows": null,
            "height": null,
            "justify_content": null,
            "justify_items": null,
            "left": null,
            "margin": null,
            "max_height": null,
            "max_width": null,
            "min_height": null,
            "min_width": null,
            "object_fit": null,
            "object_position": null,
            "order": null,
            "overflow": null,
            "overflow_x": null,
            "overflow_y": null,
            "padding": null,
            "right": null,
            "top": null,
            "visibility": null,
            "width": null
          }
        },
        "34f6871348b847008918d6cc3d79f746": {
          "model_module": "@jupyter-widgets/controls",
          "model_name": "ProgressStyleModel",
          "model_module_version": "1.5.0",
          "state": {
            "_model_module": "@jupyter-widgets/controls",
            "_model_module_version": "1.5.0",
            "_model_name": "ProgressStyleModel",
            "_view_count": null,
            "_view_module": "@jupyter-widgets/base",
            "_view_module_version": "1.2.0",
            "_view_name": "StyleView",
            "bar_color": null,
            "description_width": ""
          }
        },
        "03de3413c3584df68098706a8a324b13": {
          "model_module": "@jupyter-widgets/base",
          "model_name": "LayoutModel",
          "model_module_version": "1.2.0",
          "state": {
            "_model_module": "@jupyter-widgets/base",
            "_model_module_version": "1.2.0",
            "_model_name": "LayoutModel",
            "_view_count": null,
            "_view_module": "@jupyter-widgets/base",
            "_view_module_version": "1.2.0",
            "_view_name": "LayoutView",
            "align_content": null,
            "align_items": null,
            "align_self": null,
            "border": null,
            "bottom": null,
            "display": null,
            "flex": null,
            "flex_flow": null,
            "grid_area": null,
            "grid_auto_columns": null,
            "grid_auto_flow": null,
            "grid_auto_rows": null,
            "grid_column": null,
            "grid_gap": null,
            "grid_row": null,
            "grid_template_areas": null,
            "grid_template_columns": null,
            "grid_template_rows": null,
            "height": null,
            "justify_content": null,
            "justify_items": null,
            "left": null,
            "margin": null,
            "max_height": null,
            "max_width": null,
            "min_height": null,
            "min_width": null,
            "object_fit": null,
            "object_position": null,
            "order": null,
            "overflow": null,
            "overflow_x": null,
            "overflow_y": null,
            "padding": null,
            "right": null,
            "top": null,
            "visibility": null,
            "width": null
          }
        },
        "b70506f3dde3481ca53d9692a3964161": {
          "model_module": "@jupyter-widgets/controls",
          "model_name": "DescriptionStyleModel",
          "model_module_version": "1.5.0",
          "state": {
            "_model_module": "@jupyter-widgets/controls",
            "_model_module_version": "1.5.0",
            "_model_name": "DescriptionStyleModel",
            "_view_count": null,
            "_view_module": "@jupyter-widgets/base",
            "_view_module_version": "1.2.0",
            "_view_name": "StyleView",
            "description_width": ""
          }
        },
        "8a17c55d170848faa032f042e1be96ae": {
          "model_module": "@jupyter-widgets/controls",
          "model_name": "HBoxModel",
          "model_module_version": "1.5.0",
          "state": {
            "_dom_classes": [],
            "_model_module": "@jupyter-widgets/controls",
            "_model_module_version": "1.5.0",
            "_model_name": "HBoxModel",
            "_view_count": null,
            "_view_module": "@jupyter-widgets/controls",
            "_view_module_version": "1.5.0",
            "_view_name": "HBoxView",
            "box_style": "",
            "children": [
              "IPY_MODEL_f9cd3f8948c84da38636e885fe2a3dd1",
              "IPY_MODEL_ed879f744d2b4dc5ab3090df98680cee",
              "IPY_MODEL_18c7512abddf4d5ca97ff2481e0ae13b"
            ],
            "layout": "IPY_MODEL_fd3614c386c348e1b0dfa5111ddac865"
          }
        },
        "f9cd3f8948c84da38636e885fe2a3dd1": {
          "model_module": "@jupyter-widgets/controls",
          "model_name": "HTMLModel",
          "model_module_version": "1.5.0",
          "state": {
            "_dom_classes": [],
            "_model_module": "@jupyter-widgets/controls",
            "_model_module_version": "1.5.0",
            "_model_name": "HTMLModel",
            "_view_count": null,
            "_view_module": "@jupyter-widgets/controls",
            "_view_module_version": "1.5.0",
            "_view_name": "HTMLView",
            "description": "",
            "description_tooltip": null,
            "layout": "IPY_MODEL_ce2e14c3bc864753b9e75a3f69bbb12c",
            "placeholder": "​",
            "style": "IPY_MODEL_2a0df341f24446d8adb0e7fa05cf2cf8",
            "value": "Downloading: 100%"
          }
        },
        "ed879f744d2b4dc5ab3090df98680cee": {
          "model_module": "@jupyter-widgets/controls",
          "model_name": "FloatProgressModel",
          "model_module_version": "1.5.0",
          "state": {
            "_dom_classes": [],
            "_model_module": "@jupyter-widgets/controls",
            "_model_module_version": "1.5.0",
            "_model_name": "FloatProgressModel",
            "_view_count": null,
            "_view_module": "@jupyter-widgets/controls",
            "_view_module_version": "1.5.0",
            "_view_name": "ProgressView",
            "bar_style": "success",
            "description": "",
            "description_tooltip": null,
            "layout": "IPY_MODEL_aaa63936a344459e8fbe3868e8e05824",
            "max": 526681800,
            "min": 0,
            "orientation": "horizontal",
            "style": "IPY_MODEL_92ce8b2d95c84bb7859d313c33bd53f7",
            "value": 526681800
          }
        },
        "18c7512abddf4d5ca97ff2481e0ae13b": {
          "model_module": "@jupyter-widgets/controls",
          "model_name": "HTMLModel",
          "model_module_version": "1.5.0",
          "state": {
            "_dom_classes": [],
            "_model_module": "@jupyter-widgets/controls",
            "_model_module_version": "1.5.0",
            "_model_name": "HTMLModel",
            "_view_count": null,
            "_view_module": "@jupyter-widgets/controls",
            "_view_module_version": "1.5.0",
            "_view_name": "HTMLView",
            "description": "",
            "description_tooltip": null,
            "layout": "IPY_MODEL_45728c7e020147249a427cb1a0510a34",
            "placeholder": "​",
            "style": "IPY_MODEL_4430cf5d8e634200a3b0c2019a08f873",
            "value": " 527M/527M [00:08&lt;00:00, 64.4MB/s]"
          }
        },
        "fd3614c386c348e1b0dfa5111ddac865": {
          "model_module": "@jupyter-widgets/base",
          "model_name": "LayoutModel",
          "model_module_version": "1.2.0",
          "state": {
            "_model_module": "@jupyter-widgets/base",
            "_model_module_version": "1.2.0",
            "_model_name": "LayoutModel",
            "_view_count": null,
            "_view_module": "@jupyter-widgets/base",
            "_view_module_version": "1.2.0",
            "_view_name": "LayoutView",
            "align_content": null,
            "align_items": null,
            "align_self": null,
            "border": null,
            "bottom": null,
            "display": null,
            "flex": null,
            "flex_flow": null,
            "grid_area": null,
            "grid_auto_columns": null,
            "grid_auto_flow": null,
            "grid_auto_rows": null,
            "grid_column": null,
            "grid_gap": null,
            "grid_row": null,
            "grid_template_areas": null,
            "grid_template_columns": null,
            "grid_template_rows": null,
            "height": null,
            "justify_content": null,
            "justify_items": null,
            "left": null,
            "margin": null,
            "max_height": null,
            "max_width": null,
            "min_height": null,
            "min_width": null,
            "object_fit": null,
            "object_position": null,
            "order": null,
            "overflow": null,
            "overflow_x": null,
            "overflow_y": null,
            "padding": null,
            "right": null,
            "top": null,
            "visibility": null,
            "width": null
          }
        },
        "ce2e14c3bc864753b9e75a3f69bbb12c": {
          "model_module": "@jupyter-widgets/base",
          "model_name": "LayoutModel",
          "model_module_version": "1.2.0",
          "state": {
            "_model_module": "@jupyter-widgets/base",
            "_model_module_version": "1.2.0",
            "_model_name": "LayoutModel",
            "_view_count": null,
            "_view_module": "@jupyter-widgets/base",
            "_view_module_version": "1.2.0",
            "_view_name": "LayoutView",
            "align_content": null,
            "align_items": null,
            "align_self": null,
            "border": null,
            "bottom": null,
            "display": null,
            "flex": null,
            "flex_flow": null,
            "grid_area": null,
            "grid_auto_columns": null,
            "grid_auto_flow": null,
            "grid_auto_rows": null,
            "grid_column": null,
            "grid_gap": null,
            "grid_row": null,
            "grid_template_areas": null,
            "grid_template_columns": null,
            "grid_template_rows": null,
            "height": null,
            "justify_content": null,
            "justify_items": null,
            "left": null,
            "margin": null,
            "max_height": null,
            "max_width": null,
            "min_height": null,
            "min_width": null,
            "object_fit": null,
            "object_position": null,
            "order": null,
            "overflow": null,
            "overflow_x": null,
            "overflow_y": null,
            "padding": null,
            "right": null,
            "top": null,
            "visibility": null,
            "width": null
          }
        },
        "2a0df341f24446d8adb0e7fa05cf2cf8": {
          "model_module": "@jupyter-widgets/controls",
          "model_name": "DescriptionStyleModel",
          "model_module_version": "1.5.0",
          "state": {
            "_model_module": "@jupyter-widgets/controls",
            "_model_module_version": "1.5.0",
            "_model_name": "DescriptionStyleModel",
            "_view_count": null,
            "_view_module": "@jupyter-widgets/base",
            "_view_module_version": "1.2.0",
            "_view_name": "StyleView",
            "description_width": ""
          }
        },
        "aaa63936a344459e8fbe3868e8e05824": {
          "model_module": "@jupyter-widgets/base",
          "model_name": "LayoutModel",
          "model_module_version": "1.2.0",
          "state": {
            "_model_module": "@jupyter-widgets/base",
            "_model_module_version": "1.2.0",
            "_model_name": "LayoutModel",
            "_view_count": null,
            "_view_module": "@jupyter-widgets/base",
            "_view_module_version": "1.2.0",
            "_view_name": "LayoutView",
            "align_content": null,
            "align_items": null,
            "align_self": null,
            "border": null,
            "bottom": null,
            "display": null,
            "flex": null,
            "flex_flow": null,
            "grid_area": null,
            "grid_auto_columns": null,
            "grid_auto_flow": null,
            "grid_auto_rows": null,
            "grid_column": null,
            "grid_gap": null,
            "grid_row": null,
            "grid_template_areas": null,
            "grid_template_columns": null,
            "grid_template_rows": null,
            "height": null,
            "justify_content": null,
            "justify_items": null,
            "left": null,
            "margin": null,
            "max_height": null,
            "max_width": null,
            "min_height": null,
            "min_width": null,
            "object_fit": null,
            "object_position": null,
            "order": null,
            "overflow": null,
            "overflow_x": null,
            "overflow_y": null,
            "padding": null,
            "right": null,
            "top": null,
            "visibility": null,
            "width": null
          }
        },
        "92ce8b2d95c84bb7859d313c33bd53f7": {
          "model_module": "@jupyter-widgets/controls",
          "model_name": "ProgressStyleModel",
          "model_module_version": "1.5.0",
          "state": {
            "_model_module": "@jupyter-widgets/controls",
            "_model_module_version": "1.5.0",
            "_model_name": "ProgressStyleModel",
            "_view_count": null,
            "_view_module": "@jupyter-widgets/base",
            "_view_module_version": "1.2.0",
            "_view_name": "StyleView",
            "bar_color": null,
            "description_width": ""
          }
        },
        "45728c7e020147249a427cb1a0510a34": {
          "model_module": "@jupyter-widgets/base",
          "model_name": "LayoutModel",
          "model_module_version": "1.2.0",
          "state": {
            "_model_module": "@jupyter-widgets/base",
            "_model_module_version": "1.2.0",
            "_model_name": "LayoutModel",
            "_view_count": null,
            "_view_module": "@jupyter-widgets/base",
            "_view_module_version": "1.2.0",
            "_view_name": "LayoutView",
            "align_content": null,
            "align_items": null,
            "align_self": null,
            "border": null,
            "bottom": null,
            "display": null,
            "flex": null,
            "flex_flow": null,
            "grid_area": null,
            "grid_auto_columns": null,
            "grid_auto_flow": null,
            "grid_auto_rows": null,
            "grid_column": null,
            "grid_gap": null,
            "grid_row": null,
            "grid_template_areas": null,
            "grid_template_columns": null,
            "grid_template_rows": null,
            "height": null,
            "justify_content": null,
            "justify_items": null,
            "left": null,
            "margin": null,
            "max_height": null,
            "max_width": null,
            "min_height": null,
            "min_width": null,
            "object_fit": null,
            "object_position": null,
            "order": null,
            "overflow": null,
            "overflow_x": null,
            "overflow_y": null,
            "padding": null,
            "right": null,
            "top": null,
            "visibility": null,
            "width": null
          }
        },
        "4430cf5d8e634200a3b0c2019a08f873": {
          "model_module": "@jupyter-widgets/controls",
          "model_name": "DescriptionStyleModel",
          "model_module_version": "1.5.0",
          "state": {
            "_model_module": "@jupyter-widgets/controls",
            "_model_module_version": "1.5.0",
            "_model_name": "DescriptionStyleModel",
            "_view_count": null,
            "_view_module": "@jupyter-widgets/base",
            "_view_module_version": "1.2.0",
            "_view_name": "StyleView",
            "description_width": ""
          }
        }
      }
    }
  },
  "nbformat": 4,
  "nbformat_minor": 0
}